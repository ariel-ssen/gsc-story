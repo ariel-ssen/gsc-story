{
 "cells": [
  {
   "cell_type": "code",
   "execution_count": 1,
   "id": "0d7462c6-5a6e-4baf-b4be-2b7922e1e337",
   "metadata": {},
   "outputs": [],
   "source": [
    "import pandas as pd\n",
    "import pickle\n",
    "import warnings\n",
    "warnings.filterwarnings('ignore')"
   ]
  },
  {
   "cell_type": "code",
   "execution_count": 2,
   "id": "a44af732-da56-494a-b006-22f7991f8cfc",
   "metadata": {
    "tags": []
   },
   "outputs": [],
   "source": [
    "real_data = pd.read_csv('sonar_csv.csv')"
   ]
  },
  {
   "cell_type": "code",
   "execution_count": 3,
   "id": "b5345d51-4e49-4a27-83b5-220008a76091",
   "metadata": {},
   "outputs": [],
   "source": [
    "real_data.drop('Class', axis=1, inplace= True)"
   ]
  },
  {
   "cell_type": "code",
   "execution_count": 30,
   "id": "09639f8e-8a5c-489f-921e-6f702eed407a",
   "metadata": {},
   "outputs": [],
   "source": [
    "real = real_data.iloc[100].values # 100개의 데이터를 불러오는거 "
   ]
  },
  {
   "cell_type": "code",
   "execution_count": 48,
   "id": "1270a786-96df-4d0b-95a0-4f676bf5f311",
   "metadata": {},
   "outputs": [
    {
     "data": {
      "text/plain": [
       "array([[0.0629, 0.1065, 0.1526, 0.1229, 0.1437, 0.119 , 0.0884, 0.0907,\n",
       "        0.2107, 0.3597, 0.5466, 0.5205, 0.5127, 0.5395, 0.6558, 0.8705,\n",
       "        0.9786, 0.9335, 0.7917, 0.7383, 0.6908, 0.385 , 0.0671, 0.0502,\n",
       "        0.2717, 0.2839, 0.2234, 0.1911, 0.0408, 0.2531, 0.1979, 0.1891,\n",
       "        0.2433, 0.1956, 0.2667, 0.134 , 0.1073, 0.2023, 0.1794, 0.0227,\n",
       "        0.1313, 0.1775, 0.1549, 0.1626, 0.0708, 0.0129, 0.0795, 0.0762,\n",
       "        0.0117, 0.0061, 0.0257, 0.0089, 0.0262, 0.0108, 0.0138, 0.0187,\n",
       "        0.023 , 0.0057, 0.0113, 0.0131]])"
      ]
     },
     "execution_count": 48,
     "metadata": {},
     "output_type": "execute_result"
    }
   ],
   "source": [
    "real.reshape(1,-1)# -1 DATA전체 "
   ]
  },
  {
   "cell_type": "code",
   "execution_count": 28,
   "id": "56562980-aee6-46b1-8c03-7152c7fd06b2",
   "metadata": {},
   "outputs": [],
   "source": [
    "real = real_data.iloc[100].values.reshape(1,-1) #학습시킬때 리스트 2개  똑같은 형식으로 만들어 줘야함 "
   ]
  },
  {
   "cell_type": "code",
   "execution_count": 27,
   "id": "abe6d2c2-134c-48d0-a422-fcf716c99f96",
   "metadata": {},
   "outputs": [
    {
     "data": {
      "text/plain": [
       "array([0.0629, 0.1065, 0.1526, 0.1229, 0.1437, 0.119 , 0.0884, 0.0907,\n",
       "       0.2107, 0.3597, 0.5466, 0.5205, 0.5127, 0.5395, 0.6558, 0.8705,\n",
       "       0.9786, 0.9335, 0.7917, 0.7383, 0.6908, 0.385 , 0.0671, 0.0502,\n",
       "       0.2717, 0.2839, 0.2234, 0.1911, 0.0408, 0.2531, 0.1979, 0.1891,\n",
       "       0.2433, 0.1956, 0.2667, 0.134 , 0.1073, 0.2023, 0.1794, 0.0227,\n",
       "       0.1313, 0.1775, 0.1549, 0.1626, 0.0708, 0.0129, 0.0795, 0.0762,\n",
       "       0.0117, 0.0061, 0.0257, 0.0089, 0.0262, 0.0108, 0.0138, 0.0187,\n",
       "       0.023 , 0.0057, 0.0113, 0.0131])"
      ]
     },
     "execution_count": 27,
     "metadata": {},
     "output_type": "execute_result"
    }
   ],
   "source": [
    "real"
   ]
  },
  {
   "cell_type": "code",
   "execution_count": 29,
   "id": "2989e9db-78c5-4d33-8704-c83405e964e1",
   "metadata": {
    "tags": []
   },
   "outputs": [
    {
     "data": {
      "text/plain": [
       "array([[0.0629, 0.1065, 0.1526, 0.1229, 0.1437, 0.119 , 0.0884, 0.0907,\n",
       "        0.2107, 0.3597, 0.5466, 0.5205, 0.5127, 0.5395, 0.6558, 0.8705,\n",
       "        0.9786, 0.9335, 0.7917, 0.7383, 0.6908, 0.385 , 0.0671, 0.0502,\n",
       "        0.2717, 0.2839, 0.2234, 0.1911, 0.0408, 0.2531, 0.1979, 0.1891,\n",
       "        0.2433, 0.1956, 0.2667, 0.134 , 0.1073, 0.2023, 0.1794, 0.0227,\n",
       "        0.1313, 0.1775, 0.1549, 0.1626, 0.0708, 0.0129, 0.0795, 0.0762,\n",
       "        0.0117, 0.0061, 0.0257, 0.0089, 0.0262, 0.0108, 0.0138, 0.0187,\n",
       "        0.023 , 0.0057, 0.0113, 0.0131]])"
      ]
     },
     "execution_count": 29,
     "metadata": {},
     "output_type": "execute_result"
    }
   ],
   "source": [
    "real"
   ]
  },
  {
   "cell_type": "code",
   "execution_count": 19,
   "id": "22fd0d75-977b-4ff9-b036-2e99de4e271b",
   "metadata": {},
   "outputs": [],
   "source": [
    "# WITH OPEN ~ AS 저장한걸 불러오겠다 \n",
    "with open('scaler.pkl','rb') as f :\n",
    "    scaler = pickle.load(f)"
   ]
  },
  {
   "cell_type": "code",
   "execution_count": 20,
   "id": "9606ac20-b4f8-4bae-b6df-55fe76515f0f",
   "metadata": {},
   "outputs": [],
   "source": [
    "with open('model.pk1','rb') as f :\n",
    "    model = pickle.load(f)"
   ]
  },
  {
   "cell_type": "code",
   "execution_count": 45,
   "id": "80def60c-a133-4ea7-afd0-a16e8118bd99",
   "metadata": {},
   "outputs": [
    {
     "data": {
      "text/plain": [
       "StandardScaler()"
      ]
     },
     "execution_count": 45,
     "metadata": {},
     "output_type": "execute_result"
    }
   ],
   "source": [
    "scaler"
   ]
  },
  {
   "cell_type": "code",
   "execution_count": 21,
   "id": "9d3429f9-4f95-4e3e-b6ee-54830c412f9c",
   "metadata": {
    "tags": []
   },
   "outputs": [],
   "source": [
    "\n",
    "real = scaler.transform(real)"
   ]
  },
  {
   "cell_type": "code",
   "execution_count": 22,
   "id": "686156b6-ae30-4cf3-a0d1-0c7e7826913d",
   "metadata": {},
   "outputs": [],
   "source": [
    "predict = model.predict(real)[0]"
   ]
  },
  {
   "cell_type": "code",
   "execution_count": 23,
   "id": "f42e6091-5f09-42ab-9626-06d938cd7938",
   "metadata": {},
   "outputs": [
    {
     "name": "stdout",
     "output_type": "stream",
     "text": [
      "지뢰가 나타났습니다. 돔황챠\n"
     ]
    }
   ],
   "source": [
    "if predict == 'Mine' :\n",
    "    print('지뢰가 나타났습니다. 돔황챠')\n",
    "else :\n",
    "    print('그냥 돌입니다')"
   ]
  },
  {
   "cell_type": "code",
   "execution_count": null,
   "id": "1b01e7f7-47c0-4359-a0b4-2f4c1c0c7314",
   "metadata": {},
   "outputs": [],
   "source": []
  },
  {
   "cell_type": "code",
   "execution_count": null,
   "id": "cf23e918-a9c0-4f99-bc4b-c6f2c89cf095",
   "metadata": {},
   "outputs": [],
   "source": []
  },
  {
   "cell_type": "code",
   "execution_count": null,
   "id": "ac2b05dc-b98c-40c5-9ae4-190fab83f044",
   "metadata": {},
   "outputs": [],
   "source": []
  },
  {
   "cell_type": "code",
   "execution_count": null,
   "id": "7e5ac740-8d78-4bfe-953e-aeee80df2737",
   "metadata": {},
   "outputs": [],
   "source": []
  }
 ],
 "metadata": {
  "kernelspec": {
   "display_name": "Python 3 (ipykernel)",
   "language": "python",
   "name": "python3"
  },
  "language_info": {
   "codemirror_mode": {
    "name": "ipython",
    "version": 3
   },
   "file_extension": ".py",
   "mimetype": "text/x-python",
   "name": "python",
   "nbconvert_exporter": "python",
   "pygments_lexer": "ipython3",
   "version": "3.9.12"
  }
 },
 "nbformat": 4,
 "nbformat_minor": 5
}
