{
 "cells": [
  {
   "cell_type": "markdown",
   "id": "f5b7179a-18bb-4583-afa6-8e6d7783c9ed",
   "metadata": {},
   "source": [
    "#  1"
   ]
  },
  {
   "cell_type": "markdown",
   "id": "13b27e2d-b4b6-4d6c-beff-84dbacad2059",
   "metadata": {
    "tags": []
   },
   "source": [
    "- 데이터 세트의 환자가 당뇨병을 앓고 있는지 여부를 정확하게 예측하는 기계 학습 모델을 구축할 수 있습니까?"
   ]
  },
  {
   "cell_type": "markdown",
   "id": "fab12a3f-1b9c-407c-9726-f80743f2dd16",
   "metadata": {},
   "source": [
    "- 데이터 모델링에서 중요한것들은 모델을 아무리 바꿔도 스코어는 높아질 확률이 크지 않으므로\n",
    "디테일 값을 바꿔주는 것 + 데이터 분석을 꼼꼼히 하는 것에 차이가 있음 "
   ]
  },
  {
   "cell_type": "code",
   "execution_count": 1,
   "id": "cd09d41a-c59c-454d-99f6-3a650fca38bd",
   "metadata": {},
   "outputs": [],
   "source": [
    "import pandas as pd\n",
    "import numpy as np\n",
    "import pickle\n",
    "from sklearn.svm import SVC\n",
    "from sklearn.model_selection import train_test_split\n",
    "from sklearn.linear_model import LogisticRegression # 분류 "
   ]
  },
  {
   "cell_type": "code",
   "execution_count": 2,
   "id": "3d102d79-f37e-42ca-a567-e76b6c1782da",
   "metadata": {},
   "outputs": [],
   "source": [
    "data = pd.read_csv('diabetes.csv')"
   ]
  },
  {
   "cell_type": "raw",
   "id": "f11a05ed-55df-4da7-ad21-eb77c686d6a4",
   "metadata": {},
   "source": [
    "#임신\n",
    "#포도당\n",
    "#혈압\n",
    "#스킨두께\n",
    "#인슐린\n",
    "#체질량 지수\n",
    "#당뇨병 혈통기능\n",
    "#연령\n",
    "#결과"
   ]
  },
  {
   "cell_type": "code",
   "execution_count": 3,
   "id": "7b27cbc1-20a3-445d-98c8-385524827d18",
   "metadata": {},
   "outputs": [
    {
     "name": "stdout",
     "output_type": "stream",
     "text": [
      "<class 'pandas.core.frame.DataFrame'>\n",
      "RangeIndex: 768 entries, 0 to 767\n",
      "Data columns (total 9 columns):\n",
      " #   Column                    Non-Null Count  Dtype  \n",
      "---  ------                    --------------  -----  \n",
      " 0   Pregnancies               768 non-null    int64  \n",
      " 1   Glucose                   768 non-null    int64  \n",
      " 2   BloodPressure             768 non-null    int64  \n",
      " 3   SkinThickness             768 non-null    int64  \n",
      " 4   Insulin                   768 non-null    int64  \n",
      " 5   BMI                       768 non-null    float64\n",
      " 6   DiabetesPedigreeFunction  768 non-null    float64\n",
      " 7   Age                       768 non-null    int64  \n",
      " 8   Outcome                   768 non-null    int64  \n",
      "dtypes: float64(2), int64(7)\n",
      "memory usage: 54.1 KB\n"
     ]
    }
   ],
   "source": [
    "data.info()"
   ]
  },
  {
   "cell_type": "code",
   "execution_count": 4,
   "id": "ad674cec-7e40-42d1-b741-9b5776a8501f",
   "metadata": {},
   "outputs": [
    {
     "data": {
      "text/html": [
       "<div>\n",
       "<style scoped>\n",
       "    .dataframe tbody tr th:only-of-type {\n",
       "        vertical-align: middle;\n",
       "    }\n",
       "\n",
       "    .dataframe tbody tr th {\n",
       "        vertical-align: top;\n",
       "    }\n",
       "\n",
       "    .dataframe thead th {\n",
       "        text-align: right;\n",
       "    }\n",
       "</style>\n",
       "<table border=\"1\" class=\"dataframe\">\n",
       "  <thead>\n",
       "    <tr style=\"text-align: right;\">\n",
       "      <th></th>\n",
       "      <th>Pregnancies</th>\n",
       "      <th>Glucose</th>\n",
       "      <th>BloodPressure</th>\n",
       "      <th>SkinThickness</th>\n",
       "      <th>Insulin</th>\n",
       "      <th>BMI</th>\n",
       "      <th>DiabetesPedigreeFunction</th>\n",
       "      <th>Age</th>\n",
       "      <th>Outcome</th>\n",
       "    </tr>\n",
       "  </thead>\n",
       "  <tbody>\n",
       "    <tr>\n",
       "      <th>0</th>\n",
       "      <td>6</td>\n",
       "      <td>148</td>\n",
       "      <td>72</td>\n",
       "      <td>35</td>\n",
       "      <td>0</td>\n",
       "      <td>33.6</td>\n",
       "      <td>0.627</td>\n",
       "      <td>50</td>\n",
       "      <td>1</td>\n",
       "    </tr>\n",
       "    <tr>\n",
       "      <th>1</th>\n",
       "      <td>1</td>\n",
       "      <td>85</td>\n",
       "      <td>66</td>\n",
       "      <td>29</td>\n",
       "      <td>0</td>\n",
       "      <td>26.6</td>\n",
       "      <td>0.351</td>\n",
       "      <td>31</td>\n",
       "      <td>0</td>\n",
       "    </tr>\n",
       "    <tr>\n",
       "      <th>2</th>\n",
       "      <td>8</td>\n",
       "      <td>183</td>\n",
       "      <td>64</td>\n",
       "      <td>0</td>\n",
       "      <td>0</td>\n",
       "      <td>23.3</td>\n",
       "      <td>0.672</td>\n",
       "      <td>32</td>\n",
       "      <td>1</td>\n",
       "    </tr>\n",
       "    <tr>\n",
       "      <th>3</th>\n",
       "      <td>1</td>\n",
       "      <td>89</td>\n",
       "      <td>66</td>\n",
       "      <td>23</td>\n",
       "      <td>94</td>\n",
       "      <td>28.1</td>\n",
       "      <td>0.167</td>\n",
       "      <td>21</td>\n",
       "      <td>0</td>\n",
       "    </tr>\n",
       "    <tr>\n",
       "      <th>4</th>\n",
       "      <td>0</td>\n",
       "      <td>137</td>\n",
       "      <td>40</td>\n",
       "      <td>35</td>\n",
       "      <td>168</td>\n",
       "      <td>43.1</td>\n",
       "      <td>2.288</td>\n",
       "      <td>33</td>\n",
       "      <td>1</td>\n",
       "    </tr>\n",
       "  </tbody>\n",
       "</table>\n",
       "</div>"
      ],
      "text/plain": [
       "   Pregnancies  Glucose  BloodPressure  SkinThickness  Insulin   BMI  \\\n",
       "0            6      148             72             35        0  33.6   \n",
       "1            1       85             66             29        0  26.6   \n",
       "2            8      183             64              0        0  23.3   \n",
       "3            1       89             66             23       94  28.1   \n",
       "4            0      137             40             35      168  43.1   \n",
       "\n",
       "   DiabetesPedigreeFunction  Age  Outcome  \n",
       "0                     0.627   50        1  \n",
       "1                     0.351   31        0  \n",
       "2                     0.672   32        1  \n",
       "3                     0.167   21        0  \n",
       "4                     2.288   33        1  "
      ]
     },
     "execution_count": 4,
     "metadata": {},
     "output_type": "execute_result"
    }
   ],
   "source": [
    "data.head()"
   ]
  },
  {
   "cell_type": "code",
   "execution_count": 5,
   "id": "4c9da088-344a-4bd9-b999-55677c77ba62",
   "metadata": {},
   "outputs": [
    {
     "data": {
      "text/plain": [
       "Pregnancies                 0\n",
       "Glucose                     0\n",
       "BloodPressure               0\n",
       "SkinThickness               0\n",
       "Insulin                     0\n",
       "BMI                         0\n",
       "DiabetesPedigreeFunction    0\n",
       "Age                         0\n",
       "Outcome                     0\n",
       "dtype: int64"
      ]
     },
     "execution_count": 5,
     "metadata": {},
     "output_type": "execute_result"
    }
   ],
   "source": [
    "data.isnull().sum()"
   ]
  },
  {
   "cell_type": "code",
   "execution_count": 6,
   "id": "ab02ce02-2a4a-4f35-a1da-8d84a8d3ba35",
   "metadata": {},
   "outputs": [
    {
     "data": {
      "text/plain": [
       "Index(['Pregnancies', 'Glucose', 'BloodPressure', 'SkinThickness', 'Insulin',\n",
       "       'BMI', 'DiabetesPedigreeFunction', 'Age', 'Outcome'],\n",
       "      dtype='object')"
      ]
     },
     "execution_count": 6,
     "metadata": {},
     "output_type": "execute_result"
    }
   ],
   "source": [
    "data.columns"
   ]
  },
  {
   "cell_type": "code",
   "execution_count": 7,
   "id": "2ef622c9-209c-44d5-97ef-41862f32d506",
   "metadata": {},
   "outputs": [
    {
     "data": {
      "text/html": [
       "<div>\n",
       "<style scoped>\n",
       "    .dataframe tbody tr th:only-of-type {\n",
       "        vertical-align: middle;\n",
       "    }\n",
       "\n",
       "    .dataframe tbody tr th {\n",
       "        vertical-align: top;\n",
       "    }\n",
       "\n",
       "    .dataframe thead th {\n",
       "        text-align: right;\n",
       "    }\n",
       "</style>\n",
       "<table border=\"1\" class=\"dataframe\">\n",
       "  <thead>\n",
       "    <tr style=\"text-align: right;\">\n",
       "      <th></th>\n",
       "      <th>Pregnancies</th>\n",
       "      <th>Glucose</th>\n",
       "      <th>BloodPressure</th>\n",
       "      <th>SkinThickness</th>\n",
       "      <th>Insulin</th>\n",
       "      <th>BMI</th>\n",
       "      <th>DiabetesPedigreeFunction</th>\n",
       "      <th>Age</th>\n",
       "      <th>Outcome</th>\n",
       "    </tr>\n",
       "  </thead>\n",
       "  <tbody>\n",
       "    <tr>\n",
       "      <th>0</th>\n",
       "      <td>NaN</td>\n",
       "      <td>NaN</td>\n",
       "      <td>NaN</td>\n",
       "      <td>NaN</td>\n",
       "      <td>0.0</td>\n",
       "      <td>NaN</td>\n",
       "      <td>NaN</td>\n",
       "      <td>NaN</td>\n",
       "      <td>NaN</td>\n",
       "    </tr>\n",
       "    <tr>\n",
       "      <th>1</th>\n",
       "      <td>NaN</td>\n",
       "      <td>NaN</td>\n",
       "      <td>NaN</td>\n",
       "      <td>NaN</td>\n",
       "      <td>0.0</td>\n",
       "      <td>NaN</td>\n",
       "      <td>NaN</td>\n",
       "      <td>NaN</td>\n",
       "      <td>0.0</td>\n",
       "    </tr>\n",
       "    <tr>\n",
       "      <th>2</th>\n",
       "      <td>NaN</td>\n",
       "      <td>NaN</td>\n",
       "      <td>NaN</td>\n",
       "      <td>0.0</td>\n",
       "      <td>0.0</td>\n",
       "      <td>NaN</td>\n",
       "      <td>NaN</td>\n",
       "      <td>NaN</td>\n",
       "      <td>NaN</td>\n",
       "    </tr>\n",
       "    <tr>\n",
       "      <th>3</th>\n",
       "      <td>NaN</td>\n",
       "      <td>NaN</td>\n",
       "      <td>NaN</td>\n",
       "      <td>NaN</td>\n",
       "      <td>NaN</td>\n",
       "      <td>NaN</td>\n",
       "      <td>NaN</td>\n",
       "      <td>NaN</td>\n",
       "      <td>0.0</td>\n",
       "    </tr>\n",
       "    <tr>\n",
       "      <th>4</th>\n",
       "      <td>0.0</td>\n",
       "      <td>NaN</td>\n",
       "      <td>NaN</td>\n",
       "      <td>NaN</td>\n",
       "      <td>NaN</td>\n",
       "      <td>NaN</td>\n",
       "      <td>NaN</td>\n",
       "      <td>NaN</td>\n",
       "      <td>NaN</td>\n",
       "    </tr>\n",
       "    <tr>\n",
       "      <th>...</th>\n",
       "      <td>...</td>\n",
       "      <td>...</td>\n",
       "      <td>...</td>\n",
       "      <td>...</td>\n",
       "      <td>...</td>\n",
       "      <td>...</td>\n",
       "      <td>...</td>\n",
       "      <td>...</td>\n",
       "      <td>...</td>\n",
       "    </tr>\n",
       "    <tr>\n",
       "      <th>763</th>\n",
       "      <td>NaN</td>\n",
       "      <td>NaN</td>\n",
       "      <td>NaN</td>\n",
       "      <td>NaN</td>\n",
       "      <td>NaN</td>\n",
       "      <td>NaN</td>\n",
       "      <td>NaN</td>\n",
       "      <td>NaN</td>\n",
       "      <td>0.0</td>\n",
       "    </tr>\n",
       "    <tr>\n",
       "      <th>764</th>\n",
       "      <td>NaN</td>\n",
       "      <td>NaN</td>\n",
       "      <td>NaN</td>\n",
       "      <td>NaN</td>\n",
       "      <td>0.0</td>\n",
       "      <td>NaN</td>\n",
       "      <td>NaN</td>\n",
       "      <td>NaN</td>\n",
       "      <td>0.0</td>\n",
       "    </tr>\n",
       "    <tr>\n",
       "      <th>765</th>\n",
       "      <td>NaN</td>\n",
       "      <td>NaN</td>\n",
       "      <td>NaN</td>\n",
       "      <td>NaN</td>\n",
       "      <td>NaN</td>\n",
       "      <td>NaN</td>\n",
       "      <td>NaN</td>\n",
       "      <td>NaN</td>\n",
       "      <td>0.0</td>\n",
       "    </tr>\n",
       "    <tr>\n",
       "      <th>766</th>\n",
       "      <td>NaN</td>\n",
       "      <td>NaN</td>\n",
       "      <td>NaN</td>\n",
       "      <td>0.0</td>\n",
       "      <td>0.0</td>\n",
       "      <td>NaN</td>\n",
       "      <td>NaN</td>\n",
       "      <td>NaN</td>\n",
       "      <td>NaN</td>\n",
       "    </tr>\n",
       "    <tr>\n",
       "      <th>767</th>\n",
       "      <td>NaN</td>\n",
       "      <td>NaN</td>\n",
       "      <td>NaN</td>\n",
       "      <td>NaN</td>\n",
       "      <td>0.0</td>\n",
       "      <td>NaN</td>\n",
       "      <td>NaN</td>\n",
       "      <td>NaN</td>\n",
       "      <td>0.0</td>\n",
       "    </tr>\n",
       "  </tbody>\n",
       "</table>\n",
       "<p>768 rows × 9 columns</p>\n",
       "</div>"
      ],
      "text/plain": [
       "     Pregnancies  Glucose  BloodPressure  SkinThickness  Insulin  BMI  \\\n",
       "0            NaN      NaN            NaN            NaN      0.0  NaN   \n",
       "1            NaN      NaN            NaN            NaN      0.0  NaN   \n",
       "2            NaN      NaN            NaN            0.0      0.0  NaN   \n",
       "3            NaN      NaN            NaN            NaN      NaN  NaN   \n",
       "4            0.0      NaN            NaN            NaN      NaN  NaN   \n",
       "..           ...      ...            ...            ...      ...  ...   \n",
       "763          NaN      NaN            NaN            NaN      NaN  NaN   \n",
       "764          NaN      NaN            NaN            NaN      0.0  NaN   \n",
       "765          NaN      NaN            NaN            NaN      NaN  NaN   \n",
       "766          NaN      NaN            NaN            0.0      0.0  NaN   \n",
       "767          NaN      NaN            NaN            NaN      0.0  NaN   \n",
       "\n",
       "     DiabetesPedigreeFunction  Age  Outcome  \n",
       "0                         NaN  NaN      NaN  \n",
       "1                         NaN  NaN      0.0  \n",
       "2                         NaN  NaN      NaN  \n",
       "3                         NaN  NaN      0.0  \n",
       "4                         NaN  NaN      NaN  \n",
       "..                        ...  ...      ...  \n",
       "763                       NaN  NaN      0.0  \n",
       "764                       NaN  NaN      0.0  \n",
       "765                       NaN  NaN      0.0  \n",
       "766                       NaN  NaN      NaN  \n",
       "767                       NaN  NaN      0.0  \n",
       "\n",
       "[768 rows x 9 columns]"
      ]
     },
     "execution_count": 7,
     "metadata": {},
     "output_type": "execute_result"
    }
   ],
   "source": [
    "data[data == 0 ]"
   ]
  },
  {
   "cell_type": "markdown",
   "id": "c757aa2d-c16b-4a11-a26d-1223506a8962",
   "metadata": {},
   "source": [
    "- 연령별 당뇨여부\n",
    "- 임신횟수의 편차가 큼으로 임신 유무로 나누어 보기"
   ]
  },
  {
   "cell_type": "code",
   "execution_count": 8,
   "id": "2f9b3eda-e4b9-4aee-a203-56651c9d120a",
   "metadata": {},
   "outputs": [],
   "source": [
    " #data[data['Pregnancies'] ==0]"
   ]
  },
  {
   "cell_type": "code",
   "execution_count": 9,
   "id": "27da1df3-3dfb-4b7e-b6a0-ce53f872f162",
   "metadata": {},
   "outputs": [],
   "source": [
    "#data.iloc[100]"
   ]
  },
  {
   "cell_type": "code",
   "execution_count": 10,
   "id": "cfee14f7-f29b-47c8-8fb9-8a592f294c7f",
   "metadata": {},
   "outputs": [],
   "source": [
    "#data['Pregnancies2'] = np.where(data['Pregnancies'] == 0, 0, 1)"
   ]
  },
  {
   "cell_type": "code",
   "execution_count": 11,
   "id": "fc61fc94-2a10-411d-9b13-82a45f6b88c1",
   "metadata": {},
   "outputs": [],
   "source": [
    "#data['Pregnancies2'].value_counts()"
   ]
  },
  {
   "cell_type": "code",
   "execution_count": 12,
   "id": "ed5ef70a-0d17-4d84-b7af-0c57f86dc6db",
   "metadata": {},
   "outputs": [],
   "source": [
    "#data.groupby(['Pregnancies2','Outcome'])['Age'].count()"
   ]
  },
  {
   "cell_type": "markdown",
   "id": "e8b2ba5e-c160-447d-80e1-a32c3fc12fc3",
   "metadata": {},
   "source": [
    " - 임신횟수는 0 가능하지만 \n",
    "    Glucose, BloodPressure, SkinThickness, Insulin ,BMI 는 불가능 "
   ]
  },
  {
   "cell_type": "markdown",
   "id": "b442c64c-f1c5-4254-a28b-7ec2b35fb87e",
   "metadata": {},
   "source": [
    " - 0 값을 median 이나 mean 으로 대체 필요 "
   ]
  },
  {
   "cell_type": "markdown",
   "id": "a6b4b2a7-4515-40b8-9a52-f123c73ab764",
   "metadata": {},
   "source": [
    "- 나이에 따라 값을 다르게 매겨 주는게 당뇨에 영향을 주지 않을까?!"
   ]
  },
  {
   "cell_type": "code",
   "execution_count": 13,
   "id": "668617a3-2bb1-4ae5-a620-636751f07269",
   "metadata": {},
   "outputs": [
    {
     "data": {
      "text/plain": [
       "Index(['Pregnancies', 'Glucose', 'BloodPressure', 'SkinThickness', 'Insulin',\n",
       "       'BMI', 'DiabetesPedigreeFunction', 'Age', 'Outcome'],\n",
       "      dtype='object')"
      ]
     },
     "execution_count": 13,
     "metadata": {},
     "output_type": "execute_result"
    }
   ],
   "source": [
    "data.columns"
   ]
  },
  {
   "cell_type": "code",
   "execution_count": 14,
   "id": "d158d7e5-9847-4a5e-b86f-370f624af236",
   "metadata": {},
   "outputs": [],
   "source": [
    "def ageRange(age) :\n",
    "    if 21 <= age < 30 :\n",
    "        return 1\n",
    "    elif 30 <= age < 40 :\n",
    "        return 2\n",
    "    elif 40 <= age < 50 :\n",
    "        return 3\n",
    "    elif 50 <= age < 60 :\n",
    "        return 4\n",
    "    elif 60 <= age < 70 :\n",
    "        return 5 \n",
    "    else :\n",
    "        return 6"
   ]
  },
  {
   "cell_type": "code",
   "execution_count": 15,
   "id": "b97c1405-ec6a-41e3-9f12-14f9106470a5",
   "metadata": {},
   "outputs": [],
   "source": [
    "# ageRange 나이대별로 만든거 저장 \n",
    "data['Age2'] = data['Age'].apply(ageRange)"
   ]
  },
  {
   "cell_type": "code",
   "execution_count": 16,
   "id": "d3a8ace2-eff7-4c2b-ba0e-8d64e4ec8522",
   "metadata": {},
   "outputs": [
    {
     "data": {
      "text/html": [
       "<div>\n",
       "<style scoped>\n",
       "    .dataframe tbody tr th:only-of-type {\n",
       "        vertical-align: middle;\n",
       "    }\n",
       "\n",
       "    .dataframe tbody tr th {\n",
       "        vertical-align: top;\n",
       "    }\n",
       "\n",
       "    .dataframe thead th {\n",
       "        text-align: right;\n",
       "    }\n",
       "</style>\n",
       "<table border=\"1\" class=\"dataframe\">\n",
       "  <thead>\n",
       "    <tr style=\"text-align: right;\">\n",
       "      <th></th>\n",
       "      <th>Pregnancies</th>\n",
       "      <th>Glucose</th>\n",
       "      <th>BloodPressure</th>\n",
       "      <th>SkinThickness</th>\n",
       "      <th>Insulin</th>\n",
       "      <th>BMI</th>\n",
       "      <th>DiabetesPedigreeFunction</th>\n",
       "      <th>Age</th>\n",
       "      <th>Outcome</th>\n",
       "      <th>Age2</th>\n",
       "    </tr>\n",
       "  </thead>\n",
       "  <tbody>\n",
       "    <tr>\n",
       "      <th>0</th>\n",
       "      <td>6</td>\n",
       "      <td>148</td>\n",
       "      <td>72</td>\n",
       "      <td>35</td>\n",
       "      <td>0</td>\n",
       "      <td>33.6</td>\n",
       "      <td>0.627</td>\n",
       "      <td>50</td>\n",
       "      <td>1</td>\n",
       "      <td>4</td>\n",
       "    </tr>\n",
       "    <tr>\n",
       "      <th>1</th>\n",
       "      <td>1</td>\n",
       "      <td>85</td>\n",
       "      <td>66</td>\n",
       "      <td>29</td>\n",
       "      <td>0</td>\n",
       "      <td>26.6</td>\n",
       "      <td>0.351</td>\n",
       "      <td>31</td>\n",
       "      <td>0</td>\n",
       "      <td>2</td>\n",
       "    </tr>\n",
       "    <tr>\n",
       "      <th>2</th>\n",
       "      <td>8</td>\n",
       "      <td>183</td>\n",
       "      <td>64</td>\n",
       "      <td>0</td>\n",
       "      <td>0</td>\n",
       "      <td>23.3</td>\n",
       "      <td>0.672</td>\n",
       "      <td>32</td>\n",
       "      <td>1</td>\n",
       "      <td>2</td>\n",
       "    </tr>\n",
       "    <tr>\n",
       "      <th>3</th>\n",
       "      <td>1</td>\n",
       "      <td>89</td>\n",
       "      <td>66</td>\n",
       "      <td>23</td>\n",
       "      <td>94</td>\n",
       "      <td>28.1</td>\n",
       "      <td>0.167</td>\n",
       "      <td>21</td>\n",
       "      <td>0</td>\n",
       "      <td>1</td>\n",
       "    </tr>\n",
       "    <tr>\n",
       "      <th>4</th>\n",
       "      <td>0</td>\n",
       "      <td>137</td>\n",
       "      <td>40</td>\n",
       "      <td>35</td>\n",
       "      <td>168</td>\n",
       "      <td>43.1</td>\n",
       "      <td>2.288</td>\n",
       "      <td>33</td>\n",
       "      <td>1</td>\n",
       "      <td>2</td>\n",
       "    </tr>\n",
       "    <tr>\n",
       "      <th>...</th>\n",
       "      <td>...</td>\n",
       "      <td>...</td>\n",
       "      <td>...</td>\n",
       "      <td>...</td>\n",
       "      <td>...</td>\n",
       "      <td>...</td>\n",
       "      <td>...</td>\n",
       "      <td>...</td>\n",
       "      <td>...</td>\n",
       "      <td>...</td>\n",
       "    </tr>\n",
       "    <tr>\n",
       "      <th>763</th>\n",
       "      <td>10</td>\n",
       "      <td>101</td>\n",
       "      <td>76</td>\n",
       "      <td>48</td>\n",
       "      <td>180</td>\n",
       "      <td>32.9</td>\n",
       "      <td>0.171</td>\n",
       "      <td>63</td>\n",
       "      <td>0</td>\n",
       "      <td>5</td>\n",
       "    </tr>\n",
       "    <tr>\n",
       "      <th>764</th>\n",
       "      <td>2</td>\n",
       "      <td>122</td>\n",
       "      <td>70</td>\n",
       "      <td>27</td>\n",
       "      <td>0</td>\n",
       "      <td>36.8</td>\n",
       "      <td>0.340</td>\n",
       "      <td>27</td>\n",
       "      <td>0</td>\n",
       "      <td>1</td>\n",
       "    </tr>\n",
       "    <tr>\n",
       "      <th>765</th>\n",
       "      <td>5</td>\n",
       "      <td>121</td>\n",
       "      <td>72</td>\n",
       "      <td>23</td>\n",
       "      <td>112</td>\n",
       "      <td>26.2</td>\n",
       "      <td>0.245</td>\n",
       "      <td>30</td>\n",
       "      <td>0</td>\n",
       "      <td>2</td>\n",
       "    </tr>\n",
       "    <tr>\n",
       "      <th>766</th>\n",
       "      <td>1</td>\n",
       "      <td>126</td>\n",
       "      <td>60</td>\n",
       "      <td>0</td>\n",
       "      <td>0</td>\n",
       "      <td>30.1</td>\n",
       "      <td>0.349</td>\n",
       "      <td>47</td>\n",
       "      <td>1</td>\n",
       "      <td>3</td>\n",
       "    </tr>\n",
       "    <tr>\n",
       "      <th>767</th>\n",
       "      <td>1</td>\n",
       "      <td>93</td>\n",
       "      <td>70</td>\n",
       "      <td>31</td>\n",
       "      <td>0</td>\n",
       "      <td>30.4</td>\n",
       "      <td>0.315</td>\n",
       "      <td>23</td>\n",
       "      <td>0</td>\n",
       "      <td>1</td>\n",
       "    </tr>\n",
       "  </tbody>\n",
       "</table>\n",
       "<p>768 rows × 10 columns</p>\n",
       "</div>"
      ],
      "text/plain": [
       "     Pregnancies  Glucose  BloodPressure  SkinThickness  Insulin   BMI  \\\n",
       "0              6      148             72             35        0  33.6   \n",
       "1              1       85             66             29        0  26.6   \n",
       "2              8      183             64              0        0  23.3   \n",
       "3              1       89             66             23       94  28.1   \n",
       "4              0      137             40             35      168  43.1   \n",
       "..           ...      ...            ...            ...      ...   ...   \n",
       "763           10      101             76             48      180  32.9   \n",
       "764            2      122             70             27        0  36.8   \n",
       "765            5      121             72             23      112  26.2   \n",
       "766            1      126             60              0        0  30.1   \n",
       "767            1       93             70             31        0  30.4   \n",
       "\n",
       "     DiabetesPedigreeFunction  Age  Outcome  Age2  \n",
       "0                       0.627   50        1     4  \n",
       "1                       0.351   31        0     2  \n",
       "2                       0.672   32        1     2  \n",
       "3                       0.167   21        0     1  \n",
       "4                       2.288   33        1     2  \n",
       "..                        ...  ...      ...   ...  \n",
       "763                     0.171   63        0     5  \n",
       "764                     0.340   27        0     1  \n",
       "765                     0.245   30        0     2  \n",
       "766                     0.349   47        1     3  \n",
       "767                     0.315   23        0     1  \n",
       "\n",
       "[768 rows x 10 columns]"
      ]
     },
     "execution_count": 16,
     "metadata": {},
     "output_type": "execute_result"
    }
   ],
   "source": [
    "data"
   ]
  },
  {
   "cell_type": "code",
   "execution_count": 17,
   "id": "4a462231-dc0b-4ed5-bf9a-17678357f878",
   "metadata": {},
   "outputs": [],
   "source": [
    "col_list = ['Glucose','BloodPressure','SkinThickness','Insulin','BMI']"
   ]
  },
  {
   "cell_type": "code",
   "execution_count": 18,
   "id": "0e0b4453-b8a4-4160-98d3-ffd1aaeebf96",
   "metadata": {},
   "outputs": [],
   "source": [
    "# np.where 사용해서 0값을 nan 값으로 나머지는 col그대로 대입 \n",
    "for col in col_list :\n",
    "    data[col] = np.where((data[col]==0), np.nan , data[col])\n",
    "    #print(col, len(data[data[col] == 0 ]))"
   ]
  },
  {
   "cell_type": "code",
   "execution_count": 19,
   "id": "f09cf8c6-6d3e-4db9-9dca-7430bc931a1e",
   "metadata": {},
   "outputs": [
    {
     "data": {
      "text/html": [
       "<div>\n",
       "<style scoped>\n",
       "    .dataframe tbody tr th:only-of-type {\n",
       "        vertical-align: middle;\n",
       "    }\n",
       "\n",
       "    .dataframe tbody tr th {\n",
       "        vertical-align: top;\n",
       "    }\n",
       "\n",
       "    .dataframe thead th {\n",
       "        text-align: right;\n",
       "    }\n",
       "</style>\n",
       "<table border=\"1\" class=\"dataframe\">\n",
       "  <thead>\n",
       "    <tr style=\"text-align: right;\">\n",
       "      <th></th>\n",
       "      <th>Pregnancies</th>\n",
       "      <th>Glucose</th>\n",
       "      <th>BloodPressure</th>\n",
       "      <th>SkinThickness</th>\n",
       "      <th>Insulin</th>\n",
       "      <th>BMI</th>\n",
       "      <th>DiabetesPedigreeFunction</th>\n",
       "      <th>Age</th>\n",
       "      <th>Outcome</th>\n",
       "      <th>Age2</th>\n",
       "    </tr>\n",
       "  </thead>\n",
       "  <tbody>\n",
       "    <tr>\n",
       "      <th>0</th>\n",
       "      <td>6</td>\n",
       "      <td>148.0</td>\n",
       "      <td>72.0</td>\n",
       "      <td>35.0</td>\n",
       "      <td>NaN</td>\n",
       "      <td>33.6</td>\n",
       "      <td>0.627</td>\n",
       "      <td>50</td>\n",
       "      <td>1</td>\n",
       "      <td>4</td>\n",
       "    </tr>\n",
       "    <tr>\n",
       "      <th>1</th>\n",
       "      <td>1</td>\n",
       "      <td>85.0</td>\n",
       "      <td>66.0</td>\n",
       "      <td>29.0</td>\n",
       "      <td>NaN</td>\n",
       "      <td>26.6</td>\n",
       "      <td>0.351</td>\n",
       "      <td>31</td>\n",
       "      <td>0</td>\n",
       "      <td>2</td>\n",
       "    </tr>\n",
       "    <tr>\n",
       "      <th>2</th>\n",
       "      <td>8</td>\n",
       "      <td>183.0</td>\n",
       "      <td>64.0</td>\n",
       "      <td>NaN</td>\n",
       "      <td>NaN</td>\n",
       "      <td>23.3</td>\n",
       "      <td>0.672</td>\n",
       "      <td>32</td>\n",
       "      <td>1</td>\n",
       "      <td>2</td>\n",
       "    </tr>\n",
       "    <tr>\n",
       "      <th>3</th>\n",
       "      <td>1</td>\n",
       "      <td>89.0</td>\n",
       "      <td>66.0</td>\n",
       "      <td>23.0</td>\n",
       "      <td>94.0</td>\n",
       "      <td>28.1</td>\n",
       "      <td>0.167</td>\n",
       "      <td>21</td>\n",
       "      <td>0</td>\n",
       "      <td>1</td>\n",
       "    </tr>\n",
       "    <tr>\n",
       "      <th>4</th>\n",
       "      <td>0</td>\n",
       "      <td>137.0</td>\n",
       "      <td>40.0</td>\n",
       "      <td>35.0</td>\n",
       "      <td>168.0</td>\n",
       "      <td>43.1</td>\n",
       "      <td>2.288</td>\n",
       "      <td>33</td>\n",
       "      <td>1</td>\n",
       "      <td>2</td>\n",
       "    </tr>\n",
       "    <tr>\n",
       "      <th>...</th>\n",
       "      <td>...</td>\n",
       "      <td>...</td>\n",
       "      <td>...</td>\n",
       "      <td>...</td>\n",
       "      <td>...</td>\n",
       "      <td>...</td>\n",
       "      <td>...</td>\n",
       "      <td>...</td>\n",
       "      <td>...</td>\n",
       "      <td>...</td>\n",
       "    </tr>\n",
       "    <tr>\n",
       "      <th>763</th>\n",
       "      <td>10</td>\n",
       "      <td>101.0</td>\n",
       "      <td>76.0</td>\n",
       "      <td>48.0</td>\n",
       "      <td>180.0</td>\n",
       "      <td>32.9</td>\n",
       "      <td>0.171</td>\n",
       "      <td>63</td>\n",
       "      <td>0</td>\n",
       "      <td>5</td>\n",
       "    </tr>\n",
       "    <tr>\n",
       "      <th>764</th>\n",
       "      <td>2</td>\n",
       "      <td>122.0</td>\n",
       "      <td>70.0</td>\n",
       "      <td>27.0</td>\n",
       "      <td>NaN</td>\n",
       "      <td>36.8</td>\n",
       "      <td>0.340</td>\n",
       "      <td>27</td>\n",
       "      <td>0</td>\n",
       "      <td>1</td>\n",
       "    </tr>\n",
       "    <tr>\n",
       "      <th>765</th>\n",
       "      <td>5</td>\n",
       "      <td>121.0</td>\n",
       "      <td>72.0</td>\n",
       "      <td>23.0</td>\n",
       "      <td>112.0</td>\n",
       "      <td>26.2</td>\n",
       "      <td>0.245</td>\n",
       "      <td>30</td>\n",
       "      <td>0</td>\n",
       "      <td>2</td>\n",
       "    </tr>\n",
       "    <tr>\n",
       "      <th>766</th>\n",
       "      <td>1</td>\n",
       "      <td>126.0</td>\n",
       "      <td>60.0</td>\n",
       "      <td>NaN</td>\n",
       "      <td>NaN</td>\n",
       "      <td>30.1</td>\n",
       "      <td>0.349</td>\n",
       "      <td>47</td>\n",
       "      <td>1</td>\n",
       "      <td>3</td>\n",
       "    </tr>\n",
       "    <tr>\n",
       "      <th>767</th>\n",
       "      <td>1</td>\n",
       "      <td>93.0</td>\n",
       "      <td>70.0</td>\n",
       "      <td>31.0</td>\n",
       "      <td>NaN</td>\n",
       "      <td>30.4</td>\n",
       "      <td>0.315</td>\n",
       "      <td>23</td>\n",
       "      <td>0</td>\n",
       "      <td>1</td>\n",
       "    </tr>\n",
       "  </tbody>\n",
       "</table>\n",
       "<p>768 rows × 10 columns</p>\n",
       "</div>"
      ],
      "text/plain": [
       "     Pregnancies  Glucose  BloodPressure  SkinThickness  Insulin   BMI  \\\n",
       "0              6    148.0           72.0           35.0      NaN  33.6   \n",
       "1              1     85.0           66.0           29.0      NaN  26.6   \n",
       "2              8    183.0           64.0            NaN      NaN  23.3   \n",
       "3              1     89.0           66.0           23.0     94.0  28.1   \n",
       "4              0    137.0           40.0           35.0    168.0  43.1   \n",
       "..           ...      ...            ...            ...      ...   ...   \n",
       "763           10    101.0           76.0           48.0    180.0  32.9   \n",
       "764            2    122.0           70.0           27.0      NaN  36.8   \n",
       "765            5    121.0           72.0           23.0    112.0  26.2   \n",
       "766            1    126.0           60.0            NaN      NaN  30.1   \n",
       "767            1     93.0           70.0           31.0      NaN  30.4   \n",
       "\n",
       "     DiabetesPedigreeFunction  Age  Outcome  Age2  \n",
       "0                       0.627   50        1     4  \n",
       "1                       0.351   31        0     2  \n",
       "2                       0.672   32        1     2  \n",
       "3                       0.167   21        0     1  \n",
       "4                       2.288   33        1     2  \n",
       "..                        ...  ...      ...   ...  \n",
       "763                     0.171   63        0     5  \n",
       "764                     0.340   27        0     1  \n",
       "765                     0.245   30        0     2  \n",
       "766                     0.349   47        1     3  \n",
       "767                     0.315   23        0     1  \n",
       "\n",
       "[768 rows x 10 columns]"
      ]
     },
     "execution_count": 19,
     "metadata": {},
     "output_type": "execute_result"
    }
   ],
   "source": [
    "data"
   ]
  },
  {
   "cell_type": "markdown",
   "id": "f12ee519-d3db-493d-8a90-7c83b1713990",
   "metadata": {},
   "source": [
    "- nan 값으로 변경했으니 확인"
   ]
  },
  {
   "cell_type": "code",
   "execution_count": 20,
   "id": "2e8a6c88-764e-40a4-978c-0992d95f108f",
   "metadata": {},
   "outputs": [
    {
     "data": {
      "text/plain": [
       "Pregnancies                   0\n",
       "Glucose                       5\n",
       "BloodPressure                35\n",
       "SkinThickness               227\n",
       "Insulin                     374\n",
       "BMI                          11\n",
       "DiabetesPedigreeFunction      0\n",
       "Age                           0\n",
       "Outcome                       0\n",
       "Age2                          0\n",
       "dtype: int64"
      ]
     },
     "execution_count": 20,
     "metadata": {},
     "output_type": "execute_result"
    }
   ],
   "source": [
    "data.isnull().sum()"
   ]
  },
  {
   "cell_type": "markdown",
   "id": "259bc43a-45b2-469c-a61b-3ed158ec44f7",
   "metadata": {},
   "source": [
    "- Glucose BloodPressure SkinThickness Insulin BMI = nan 값 / 체인지 "
   ]
  },
  {
   "cell_type": "code",
   "execution_count": 21,
   "id": "712eb2ae-0e53-4e19-81a0-6d4ab4b32332",
   "metadata": {
    "tags": []
   },
   "outputs": [
    {
     "data": {
      "text/plain": [
       "Age\n",
       "21     89.0\n",
       "22     90.0\n",
       "23    108.0\n",
       "24    120.0\n",
       "25    100.0\n",
       "26     96.5\n",
       "27    115.5\n",
       "28    120.0\n",
       "29    192.5\n",
       "30    145.5\n",
       "31    183.5\n",
       "32     93.5\n",
       "33    165.0\n",
       "34    203.0\n",
       "35     89.0\n",
       "36    175.0\n",
       "37    133.0\n",
       "38    180.0\n",
       "39    122.0\n",
       "40    137.5\n",
       "41    156.0\n",
       "42    130.0\n",
       "43    180.0\n",
       "44    258.0\n",
       "45    113.5\n",
       "46    182.0\n",
       "47    114.0\n",
       "48     56.0\n",
       "49    138.0\n",
       "50    105.5\n",
       "51    162.5\n",
       "52    378.0\n",
       "53    207.0\n",
       "54    183.0\n",
       "55    167.5\n",
       "56    207.0\n",
       "57    195.0\n",
       "58    292.5\n",
       "59    846.0\n",
       "60    410.5\n",
       "61    190.0\n",
       "62      NaN\n",
       "63    180.0\n",
       "64      NaN\n",
       "65      NaN\n",
       "66      NaN\n",
       "67      NaN\n",
       "68      NaN\n",
       "69      NaN\n",
       "70      NaN\n",
       "72      NaN\n",
       "81     60.0\n",
       "Name: Insulin, dtype: float64"
      ]
     },
     "execution_count": 21,
     "metadata": {},
     "output_type": "execute_result"
    }
   ],
   "source": [
    "# 나이별 인슐린 중앙값\n",
    "data.groupby('Age')['Insulin'].median()"
   ]
  },
  {
   "cell_type": "code",
   "execution_count": 22,
   "id": "400267a7-70d4-456d-b024-e000b9f62e12",
   "metadata": {},
   "outputs": [],
   "source": [
    "# 위에도 있음 \n",
    "col_list = ['Glucose','BloodPressure','SkinThickness','Insulin','BMI']"
   ]
  },
  {
   "cell_type": "code",
   "execution_count": 23,
   "id": "0714a883-4f26-4259-a6d2-a520e302c920",
   "metadata": {},
   "outputs": [],
   "source": [
    "for col in col_list :\n",
    "    data[col].fillna(data.groupby('Age2')[col].transform('median'), inplace= True)"
   ]
  },
  {
   "cell_type": "code",
   "execution_count": 24,
   "id": "fd3136bf-3fb1-4ff9-a55e-ea8123190a2f",
   "metadata": {},
   "outputs": [
    {
     "data": {
      "text/html": [
       "<div>\n",
       "<style scoped>\n",
       "    .dataframe tbody tr th:only-of-type {\n",
       "        vertical-align: middle;\n",
       "    }\n",
       "\n",
       "    .dataframe tbody tr th {\n",
       "        vertical-align: top;\n",
       "    }\n",
       "\n",
       "    .dataframe thead th {\n",
       "        text-align: right;\n",
       "    }\n",
       "</style>\n",
       "<table border=\"1\" class=\"dataframe\">\n",
       "  <thead>\n",
       "    <tr style=\"text-align: right;\">\n",
       "      <th></th>\n",
       "      <th>Pregnancies</th>\n",
       "      <th>Glucose</th>\n",
       "      <th>BloodPressure</th>\n",
       "      <th>SkinThickness</th>\n",
       "      <th>Insulin</th>\n",
       "      <th>BMI</th>\n",
       "      <th>DiabetesPedigreeFunction</th>\n",
       "      <th>Age</th>\n",
       "      <th>Outcome</th>\n",
       "      <th>Age2</th>\n",
       "    </tr>\n",
       "  </thead>\n",
       "  <tbody>\n",
       "    <tr>\n",
       "      <th>0</th>\n",
       "      <td>6</td>\n",
       "      <td>148.0</td>\n",
       "      <td>72.0</td>\n",
       "      <td>35.0</td>\n",
       "      <td>192.0</td>\n",
       "      <td>33.6</td>\n",
       "      <td>0.627</td>\n",
       "      <td>50</td>\n",
       "      <td>1</td>\n",
       "      <td>4</td>\n",
       "    </tr>\n",
       "    <tr>\n",
       "      <th>1</th>\n",
       "      <td>1</td>\n",
       "      <td>85.0</td>\n",
       "      <td>66.0</td>\n",
       "      <td>29.0</td>\n",
       "      <td>140.0</td>\n",
       "      <td>26.6</td>\n",
       "      <td>0.351</td>\n",
       "      <td>31</td>\n",
       "      <td>0</td>\n",
       "      <td>2</td>\n",
       "    </tr>\n",
       "    <tr>\n",
       "      <th>2</th>\n",
       "      <td>8</td>\n",
       "      <td>183.0</td>\n",
       "      <td>64.0</td>\n",
       "      <td>32.0</td>\n",
       "      <td>140.0</td>\n",
       "      <td>23.3</td>\n",
       "      <td>0.672</td>\n",
       "      <td>32</td>\n",
       "      <td>1</td>\n",
       "      <td>2</td>\n",
       "    </tr>\n",
       "    <tr>\n",
       "      <th>3</th>\n",
       "      <td>1</td>\n",
       "      <td>89.0</td>\n",
       "      <td>66.0</td>\n",
       "      <td>23.0</td>\n",
       "      <td>94.0</td>\n",
       "      <td>28.1</td>\n",
       "      <td>0.167</td>\n",
       "      <td>21</td>\n",
       "      <td>0</td>\n",
       "      <td>1</td>\n",
       "    </tr>\n",
       "    <tr>\n",
       "      <th>4</th>\n",
       "      <td>0</td>\n",
       "      <td>137.0</td>\n",
       "      <td>40.0</td>\n",
       "      <td>35.0</td>\n",
       "      <td>168.0</td>\n",
       "      <td>43.1</td>\n",
       "      <td>2.288</td>\n",
       "      <td>33</td>\n",
       "      <td>1</td>\n",
       "      <td>2</td>\n",
       "    </tr>\n",
       "    <tr>\n",
       "      <th>...</th>\n",
       "      <td>...</td>\n",
       "      <td>...</td>\n",
       "      <td>...</td>\n",
       "      <td>...</td>\n",
       "      <td>...</td>\n",
       "      <td>...</td>\n",
       "      <td>...</td>\n",
       "      <td>...</td>\n",
       "      <td>...</td>\n",
       "      <td>...</td>\n",
       "    </tr>\n",
       "    <tr>\n",
       "      <th>763</th>\n",
       "      <td>10</td>\n",
       "      <td>101.0</td>\n",
       "      <td>76.0</td>\n",
       "      <td>48.0</td>\n",
       "      <td>180.0</td>\n",
       "      <td>32.9</td>\n",
       "      <td>0.171</td>\n",
       "      <td>63</td>\n",
       "      <td>0</td>\n",
       "      <td>5</td>\n",
       "    </tr>\n",
       "    <tr>\n",
       "      <th>764</th>\n",
       "      <td>2</td>\n",
       "      <td>122.0</td>\n",
       "      <td>70.0</td>\n",
       "      <td>27.0</td>\n",
       "      <td>105.0</td>\n",
       "      <td>36.8</td>\n",
       "      <td>0.340</td>\n",
       "      <td>27</td>\n",
       "      <td>0</td>\n",
       "      <td>1</td>\n",
       "    </tr>\n",
       "    <tr>\n",
       "      <th>765</th>\n",
       "      <td>5</td>\n",
       "      <td>121.0</td>\n",
       "      <td>72.0</td>\n",
       "      <td>23.0</td>\n",
       "      <td>112.0</td>\n",
       "      <td>26.2</td>\n",
       "      <td>0.245</td>\n",
       "      <td>30</td>\n",
       "      <td>0</td>\n",
       "      <td>2</td>\n",
       "    </tr>\n",
       "    <tr>\n",
       "      <th>766</th>\n",
       "      <td>1</td>\n",
       "      <td>126.0</td>\n",
       "      <td>60.0</td>\n",
       "      <td>31.0</td>\n",
       "      <td>131.0</td>\n",
       "      <td>30.1</td>\n",
       "      <td>0.349</td>\n",
       "      <td>47</td>\n",
       "      <td>1</td>\n",
       "      <td>3</td>\n",
       "    </tr>\n",
       "    <tr>\n",
       "      <th>767</th>\n",
       "      <td>1</td>\n",
       "      <td>93.0</td>\n",
       "      <td>70.0</td>\n",
       "      <td>31.0</td>\n",
       "      <td>105.0</td>\n",
       "      <td>30.4</td>\n",
       "      <td>0.315</td>\n",
       "      <td>23</td>\n",
       "      <td>0</td>\n",
       "      <td>1</td>\n",
       "    </tr>\n",
       "  </tbody>\n",
       "</table>\n",
       "<p>768 rows × 10 columns</p>\n",
       "</div>"
      ],
      "text/plain": [
       "     Pregnancies  Glucose  BloodPressure  SkinThickness  Insulin   BMI  \\\n",
       "0              6    148.0           72.0           35.0    192.0  33.6   \n",
       "1              1     85.0           66.0           29.0    140.0  26.6   \n",
       "2              8    183.0           64.0           32.0    140.0  23.3   \n",
       "3              1     89.0           66.0           23.0     94.0  28.1   \n",
       "4              0    137.0           40.0           35.0    168.0  43.1   \n",
       "..           ...      ...            ...            ...      ...   ...   \n",
       "763           10    101.0           76.0           48.0    180.0  32.9   \n",
       "764            2    122.0           70.0           27.0    105.0  36.8   \n",
       "765            5    121.0           72.0           23.0    112.0  26.2   \n",
       "766            1    126.0           60.0           31.0    131.0  30.1   \n",
       "767            1     93.0           70.0           31.0    105.0  30.4   \n",
       "\n",
       "     DiabetesPedigreeFunction  Age  Outcome  Age2  \n",
       "0                       0.627   50        1     4  \n",
       "1                       0.351   31        0     2  \n",
       "2                       0.672   32        1     2  \n",
       "3                       0.167   21        0     1  \n",
       "4                       2.288   33        1     2  \n",
       "..                        ...  ...      ...   ...  \n",
       "763                     0.171   63        0     5  \n",
       "764                     0.340   27        0     1  \n",
       "765                     0.245   30        0     2  \n",
       "766                     0.349   47        1     3  \n",
       "767                     0.315   23        0     1  \n",
       "\n",
       "[768 rows x 10 columns]"
      ]
     },
     "execution_count": 24,
     "metadata": {},
     "output_type": "execute_result"
    }
   ],
   "source": [
    "data"
   ]
  },
  {
   "cell_type": "code",
   "execution_count": 25,
   "id": "b0cab84b-ce23-4c73-903f-3d74a4770bd0",
   "metadata": {},
   "outputs": [],
   "source": [
    "index = data.groupby('Age2')['Glucose'].median().index"
   ]
  },
  {
   "cell_type": "code",
   "execution_count": 26,
   "id": "dcf2e671-c5cd-4277-baf4-437defb10657",
   "metadata": {},
   "outputs": [],
   "source": [
    "value = data.groupby('Age2')['Glucose'].median().values"
   ]
  },
  {
   "cell_type": "code",
   "execution_count": 27,
   "id": "cb2c252a-24af-461d-ac3a-d7b186c865c9",
   "metadata": {},
   "outputs": [
    {
     "name": "stdout",
     "output_type": "stream",
     "text": [
      "Int64Index([1, 2, 3, 4, 5, 6], dtype='int64', name='Age2')\n",
      "[109. 122. 123. 139. 136. 134.]\n"
     ]
    }
   ],
   "source": [
    "print(index)\n",
    "print(value)"
   ]
  },
  {
   "cell_type": "code",
   "execution_count": 28,
   "id": "df2daa45-7672-43b2-b72e-6cb00a1398e6",
   "metadata": {},
   "outputs": [],
   "source": [
    "col_list = ['Glucose','BloodPressure','SkinThickness','Insulin','BMI']"
   ]
  },
  {
   "cell_type": "code",
   "execution_count": 29,
   "id": "9f8c94af-af08-4322-846a-41f9112a9143",
   "metadata": {},
   "outputs": [],
   "source": [
    "dict_tot = {}\n",
    "for col in col_list :\n",
    "    index = data.groupby('Age2')['Glucose'].median().index\n",
    "    value = data.groupby('Age2')['Glucose'].median().values\n",
    "    temp = {}\n",
    "    for i in range(len(index)) :\n",
    "        temp[index[i]] = value[i]\n",
    "    dict_tot[col] = temp"
   ]
  },
  {
   "cell_type": "code",
   "execution_count": 30,
   "id": "c785f1bc-dee1-410e-bc6e-1b4f255ae642",
   "metadata": {},
   "outputs": [
    {
     "data": {
      "text/plain": [
       "{'Glucose': {1: 109.0, 2: 122.0, 3: 123.0, 4: 139.0, 5: 136.0, 6: 134.0},\n",
       " 'BloodPressure': {1: 109.0, 2: 122.0, 3: 123.0, 4: 139.0, 5: 136.0, 6: 134.0},\n",
       " 'SkinThickness': {1: 109.0, 2: 122.0, 3: 123.0, 4: 139.0, 5: 136.0, 6: 134.0},\n",
       " 'Insulin': {1: 109.0, 2: 122.0, 3: 123.0, 4: 139.0, 5: 136.0, 6: 134.0},\n",
       " 'BMI': {1: 109.0, 2: 122.0, 3: 123.0, 4: 139.0, 5: 136.0, 6: 134.0}}"
      ]
     },
     "execution_count": 30,
     "metadata": {},
     "output_type": "execute_result"
    }
   ],
   "source": [
    "dict_tot"
   ]
  },
  {
   "cell_type": "code",
   "execution_count": 31,
   "id": "9df7bd74-3ce0-4fd4-a058-9bb9cb9655ba",
   "metadata": {},
   "outputs": [],
   "source": [
    "with open('dict_tot.pkl','wb') as f :\n",
    "    pickle.dump(dict_tot, f)"
   ]
  },
  {
   "cell_type": "code",
   "execution_count": 32,
   "id": "7e023eb4-e5f7-400d-aa72-f92c1c16a6be",
   "metadata": {},
   "outputs": [],
   "source": [
    "with open('dict_tot.pkl','rb') as f :\n",
    "    load_dict = pickle.load(f)"
   ]
  },
  {
   "cell_type": "code",
   "execution_count": null,
   "id": "f1f44ace-da26-447d-85e8-2fac54df65f5",
   "metadata": {},
   "outputs": [],
   "source": []
  },
  {
   "cell_type": "code",
   "execution_count": 33,
   "id": "9f7e2cd0-867f-40f0-a12a-7bd7a4da77a0",
   "metadata": {
    "tags": []
   },
   "outputs": [
    {
     "data": {
      "text/html": [
       "<div>\n",
       "<style scoped>\n",
       "    .dataframe tbody tr th:only-of-type {\n",
       "        vertical-align: middle;\n",
       "    }\n",
       "\n",
       "    .dataframe tbody tr th {\n",
       "        vertical-align: top;\n",
       "    }\n",
       "\n",
       "    .dataframe thead th {\n",
       "        text-align: right;\n",
       "    }\n",
       "</style>\n",
       "<table border=\"1\" class=\"dataframe\">\n",
       "  <thead>\n",
       "    <tr style=\"text-align: right;\">\n",
       "      <th></th>\n",
       "      <th>Pregnancies</th>\n",
       "      <th>Glucose</th>\n",
       "      <th>BloodPressure</th>\n",
       "      <th>SkinThickness</th>\n",
       "      <th>Insulin</th>\n",
       "      <th>BMI</th>\n",
       "      <th>DiabetesPedigreeFunction</th>\n",
       "      <th>Age</th>\n",
       "      <th>Outcome</th>\n",
       "      <th>Age2</th>\n",
       "    </tr>\n",
       "  </thead>\n",
       "  <tbody>\n",
       "    <tr>\n",
       "      <th>0</th>\n",
       "      <td>6</td>\n",
       "      <td>148.0</td>\n",
       "      <td>72.0</td>\n",
       "      <td>35.0</td>\n",
       "      <td>192.0</td>\n",
       "      <td>33.6</td>\n",
       "      <td>0.627</td>\n",
       "      <td>50</td>\n",
       "      <td>1</td>\n",
       "      <td>4</td>\n",
       "    </tr>\n",
       "    <tr>\n",
       "      <th>1</th>\n",
       "      <td>1</td>\n",
       "      <td>85.0</td>\n",
       "      <td>66.0</td>\n",
       "      <td>29.0</td>\n",
       "      <td>140.0</td>\n",
       "      <td>26.6</td>\n",
       "      <td>0.351</td>\n",
       "      <td>31</td>\n",
       "      <td>0</td>\n",
       "      <td>2</td>\n",
       "    </tr>\n",
       "    <tr>\n",
       "      <th>2</th>\n",
       "      <td>8</td>\n",
       "      <td>183.0</td>\n",
       "      <td>64.0</td>\n",
       "      <td>32.0</td>\n",
       "      <td>140.0</td>\n",
       "      <td>23.3</td>\n",
       "      <td>0.672</td>\n",
       "      <td>32</td>\n",
       "      <td>1</td>\n",
       "      <td>2</td>\n",
       "    </tr>\n",
       "    <tr>\n",
       "      <th>3</th>\n",
       "      <td>1</td>\n",
       "      <td>89.0</td>\n",
       "      <td>66.0</td>\n",
       "      <td>23.0</td>\n",
       "      <td>94.0</td>\n",
       "      <td>28.1</td>\n",
       "      <td>0.167</td>\n",
       "      <td>21</td>\n",
       "      <td>0</td>\n",
       "      <td>1</td>\n",
       "    </tr>\n",
       "    <tr>\n",
       "      <th>4</th>\n",
       "      <td>0</td>\n",
       "      <td>137.0</td>\n",
       "      <td>40.0</td>\n",
       "      <td>35.0</td>\n",
       "      <td>168.0</td>\n",
       "      <td>43.1</td>\n",
       "      <td>2.288</td>\n",
       "      <td>33</td>\n",
       "      <td>1</td>\n",
       "      <td>2</td>\n",
       "    </tr>\n",
       "    <tr>\n",
       "      <th>...</th>\n",
       "      <td>...</td>\n",
       "      <td>...</td>\n",
       "      <td>...</td>\n",
       "      <td>...</td>\n",
       "      <td>...</td>\n",
       "      <td>...</td>\n",
       "      <td>...</td>\n",
       "      <td>...</td>\n",
       "      <td>...</td>\n",
       "      <td>...</td>\n",
       "    </tr>\n",
       "    <tr>\n",
       "      <th>763</th>\n",
       "      <td>10</td>\n",
       "      <td>101.0</td>\n",
       "      <td>76.0</td>\n",
       "      <td>48.0</td>\n",
       "      <td>180.0</td>\n",
       "      <td>32.9</td>\n",
       "      <td>0.171</td>\n",
       "      <td>63</td>\n",
       "      <td>0</td>\n",
       "      <td>5</td>\n",
       "    </tr>\n",
       "    <tr>\n",
       "      <th>764</th>\n",
       "      <td>2</td>\n",
       "      <td>122.0</td>\n",
       "      <td>70.0</td>\n",
       "      <td>27.0</td>\n",
       "      <td>105.0</td>\n",
       "      <td>36.8</td>\n",
       "      <td>0.340</td>\n",
       "      <td>27</td>\n",
       "      <td>0</td>\n",
       "      <td>1</td>\n",
       "    </tr>\n",
       "    <tr>\n",
       "      <th>765</th>\n",
       "      <td>5</td>\n",
       "      <td>121.0</td>\n",
       "      <td>72.0</td>\n",
       "      <td>23.0</td>\n",
       "      <td>112.0</td>\n",
       "      <td>26.2</td>\n",
       "      <td>0.245</td>\n",
       "      <td>30</td>\n",
       "      <td>0</td>\n",
       "      <td>2</td>\n",
       "    </tr>\n",
       "    <tr>\n",
       "      <th>766</th>\n",
       "      <td>1</td>\n",
       "      <td>126.0</td>\n",
       "      <td>60.0</td>\n",
       "      <td>31.0</td>\n",
       "      <td>131.0</td>\n",
       "      <td>30.1</td>\n",
       "      <td>0.349</td>\n",
       "      <td>47</td>\n",
       "      <td>1</td>\n",
       "      <td>3</td>\n",
       "    </tr>\n",
       "    <tr>\n",
       "      <th>767</th>\n",
       "      <td>1</td>\n",
       "      <td>93.0</td>\n",
       "      <td>70.0</td>\n",
       "      <td>31.0</td>\n",
       "      <td>105.0</td>\n",
       "      <td>30.4</td>\n",
       "      <td>0.315</td>\n",
       "      <td>23</td>\n",
       "      <td>0</td>\n",
       "      <td>1</td>\n",
       "    </tr>\n",
       "  </tbody>\n",
       "</table>\n",
       "<p>768 rows × 10 columns</p>\n",
       "</div>"
      ],
      "text/plain": [
       "     Pregnancies  Glucose  BloodPressure  SkinThickness  Insulin   BMI  \\\n",
       "0              6    148.0           72.0           35.0    192.0  33.6   \n",
       "1              1     85.0           66.0           29.0    140.0  26.6   \n",
       "2              8    183.0           64.0           32.0    140.0  23.3   \n",
       "3              1     89.0           66.0           23.0     94.0  28.1   \n",
       "4              0    137.0           40.0           35.0    168.0  43.1   \n",
       "..           ...      ...            ...            ...      ...   ...   \n",
       "763           10    101.0           76.0           48.0    180.0  32.9   \n",
       "764            2    122.0           70.0           27.0    105.0  36.8   \n",
       "765            5    121.0           72.0           23.0    112.0  26.2   \n",
       "766            1    126.0           60.0           31.0    131.0  30.1   \n",
       "767            1     93.0           70.0           31.0    105.0  30.4   \n",
       "\n",
       "     DiabetesPedigreeFunction  Age  Outcome  Age2  \n",
       "0                       0.627   50        1     4  \n",
       "1                       0.351   31        0     2  \n",
       "2                       0.672   32        1     2  \n",
       "3                       0.167   21        0     1  \n",
       "4                       2.288   33        1     2  \n",
       "..                        ...  ...      ...   ...  \n",
       "763                     0.171   63        0     5  \n",
       "764                     0.340   27        0     1  \n",
       "765                     0.245   30        0     2  \n",
       "766                     0.349   47        1     3  \n",
       "767                     0.315   23        0     1  \n",
       "\n",
       "[768 rows x 10 columns]"
      ]
     },
     "execution_count": 33,
     "metadata": {},
     "output_type": "execute_result"
    }
   ],
   "source": [
    "data"
   ]
  },
  {
   "cell_type": "markdown",
   "id": "41a8bacd-e1ba-4b16-8b56-48319c74e5a9",
   "metadata": {},
   "source": [
    "- model make"
   ]
  },
  {
   "cell_type": "code",
   "execution_count": 34,
   "id": "fac17da6-a6dd-4034-b3bb-0f157e1dfd8d",
   "metadata": {},
   "outputs": [],
   "source": [
    "model = SVC(kernel='linear',C=5,gamma=0.0001)"
   ]
  },
  {
   "cell_type": "code",
   "execution_count": 35,
   "id": "d95318f6-6078-4828-b074-7b42a471cc3c",
   "metadata": {},
   "outputs": [],
   "source": [
    "x = data.drop(['Outcome','Age2'], axis=1)\n",
    "y = data['Outcome']"
   ]
  },
  {
   "cell_type": "code",
   "execution_count": 36,
   "id": "16474ef0-9454-4fd2-9ea8-5f716c66faf6",
   "metadata": {},
   "outputs": [],
   "source": [
    "x_train, x_test, y_train, y_test = \\\n",
    "train_test_split(x,y, test_size=0.2, random_state = 0 , stratify = y )"
   ]
  },
  {
   "cell_type": "code",
   "execution_count": 37,
   "id": "99308692-3398-4356-88b7-6ec7a8f4341d",
   "metadata": {},
   "outputs": [
    {
     "data": {
      "text/plain": [
       "SVC(C=5, gamma=0.0001, kernel='linear')"
      ]
     },
     "execution_count": 37,
     "metadata": {},
     "output_type": "execute_result"
    }
   ],
   "source": [
    "model.fit(x_train, y_train)"
   ]
  },
  {
   "cell_type": "code",
   "execution_count": 38,
   "id": "68069a12-1936-4d4b-a801-6f354a924d4f",
   "metadata": {},
   "outputs": [
    {
     "data": {
      "text/plain": [
       "0.7703583061889251"
      ]
     },
     "execution_count": 38,
     "metadata": {},
     "output_type": "execute_result"
    }
   ],
   "source": [
    "model.score(x_train, y_train)"
   ]
  },
  {
   "cell_type": "code",
   "execution_count": 39,
   "id": "79527c90-dd21-4da6-85a7-5fac8dc6ecb4",
   "metadata": {},
   "outputs": [
    {
     "data": {
      "text/plain": [
       "0.7662337662337663"
      ]
     },
     "execution_count": 39,
     "metadata": {},
     "output_type": "execute_result"
    }
   ],
   "source": [
    "model.score(x_test, y_test)"
   ]
  },
  {
   "cell_type": "markdown",
   "id": "291c6d45-f612-4df0-80c6-42ec25e1b290",
   "metadata": {},
   "source": [
    "- best 결과값 찾아내기"
   ]
  },
  {
   "cell_type": "code",
   "execution_count": 40,
   "id": "fe801326-27bd-442f-b599-acfa81c8803e",
   "metadata": {},
   "outputs": [],
   "source": [
    "data=[]\n",
    "for c in range(1,5) : \n",
    "    for i in range(1, 10) : \n",
    "        gamma = 0.0001 * i\n",
    "        model = SVC(C=c, gamma=gamma)\n",
    "        model.fit(x_train,y_train)\n",
    "        ret1 = model.score(x_train, y_train)\n",
    "        ret2 = model.score(x_test, y_test)\n",
    "        temp=[]\n",
    "        temp.append(c)\n",
    "        temp.append(gamma)\n",
    "        temp.append(ret1)\n",
    "        temp.append(ret2)\n",
    "        data.append(temp)"
   ]
  },
  {
   "cell_type": "code",
   "execution_count": 41,
   "id": "586a08e7-b990-40da-a057-f0a38a8d697d",
   "metadata": {},
   "outputs": [],
   "source": [
    "df = pd.DataFrame(data, columns= ['C','gamma','train','test'])"
   ]
  },
  {
   "cell_type": "code",
   "execution_count": 42,
   "id": "f01bf72a-3500-486a-9767-b765c9800756",
   "metadata": {
    "tags": []
   },
   "outputs": [
    {
     "data": {
      "text/html": [
       "<div>\n",
       "<style scoped>\n",
       "    .dataframe tbody tr th:only-of-type {\n",
       "        vertical-align: middle;\n",
       "    }\n",
       "\n",
       "    .dataframe tbody tr th {\n",
       "        vertical-align: top;\n",
       "    }\n",
       "\n",
       "    .dataframe thead th {\n",
       "        text-align: right;\n",
       "    }\n",
       "</style>\n",
       "<table border=\"1\" class=\"dataframe\">\n",
       "  <thead>\n",
       "    <tr style=\"text-align: right;\">\n",
       "      <th></th>\n",
       "      <th>C</th>\n",
       "      <th>gamma</th>\n",
       "      <th>train</th>\n",
       "      <th>test</th>\n",
       "    </tr>\n",
       "  </thead>\n",
       "  <tbody>\n",
       "    <tr>\n",
       "      <th>0</th>\n",
       "      <td>1</td>\n",
       "      <td>0.0001</td>\n",
       "      <td>0.768730</td>\n",
       "      <td>0.766234</td>\n",
       "    </tr>\n",
       "    <tr>\n",
       "      <th>1</th>\n",
       "      <td>1</td>\n",
       "      <td>0.0002</td>\n",
       "      <td>0.773616</td>\n",
       "      <td>0.792208</td>\n",
       "    </tr>\n",
       "    <tr>\n",
       "      <th>2</th>\n",
       "      <td>1</td>\n",
       "      <td>0.0003</td>\n",
       "      <td>0.781759</td>\n",
       "      <td>0.792208</td>\n",
       "    </tr>\n",
       "    <tr>\n",
       "      <th>3</th>\n",
       "      <td>1</td>\n",
       "      <td>0.0004</td>\n",
       "      <td>0.786645</td>\n",
       "      <td>0.785714</td>\n",
       "    </tr>\n",
       "    <tr>\n",
       "      <th>4</th>\n",
       "      <td>1</td>\n",
       "      <td>0.0005</td>\n",
       "      <td>0.801303</td>\n",
       "      <td>0.779221</td>\n",
       "    </tr>\n",
       "  </tbody>\n",
       "</table>\n",
       "</div>"
      ],
      "text/plain": [
       "   C   gamma     train      test\n",
       "0  1  0.0001  0.768730  0.766234\n",
       "1  1  0.0002  0.773616  0.792208\n",
       "2  1  0.0003  0.781759  0.792208\n",
       "3  1  0.0004  0.786645  0.785714\n",
       "4  1  0.0005  0.801303  0.779221"
      ]
     },
     "execution_count": 42,
     "metadata": {},
     "output_type": "execute_result"
    }
   ],
   "source": [
    "df.head(5)"
   ]
  },
  {
   "cell_type": "code",
   "execution_count": 43,
   "id": "be24866a-e4bb-4f9d-bf6d-cfc27dad4281",
   "metadata": {},
   "outputs": [
    {
     "data": {
      "text/html": [
       "<div>\n",
       "<style scoped>\n",
       "    .dataframe tbody tr th:only-of-type {\n",
       "        vertical-align: middle;\n",
       "    }\n",
       "\n",
       "    .dataframe tbody tr th {\n",
       "        vertical-align: top;\n",
       "    }\n",
       "\n",
       "    .dataframe thead th {\n",
       "        text-align: right;\n",
       "    }\n",
       "</style>\n",
       "<table border=\"1\" class=\"dataframe\">\n",
       "  <thead>\n",
       "    <tr style=\"text-align: right;\">\n",
       "      <th></th>\n",
       "      <th>C</th>\n",
       "      <th>gamma</th>\n",
       "      <th>train</th>\n",
       "      <th>test</th>\n",
       "    </tr>\n",
       "  </thead>\n",
       "  <tbody>\n",
       "    <tr>\n",
       "      <th>27</th>\n",
       "      <td>4</td>\n",
       "      <td>0.0001</td>\n",
       "      <td>0.781759</td>\n",
       "      <td>0.798701</td>\n",
       "    </tr>\n",
       "    <tr>\n",
       "      <th>18</th>\n",
       "      <td>3</td>\n",
       "      <td>0.0001</td>\n",
       "      <td>0.773616</td>\n",
       "      <td>0.798701</td>\n",
       "    </tr>\n",
       "    <tr>\n",
       "      <th>30</th>\n",
       "      <td>4</td>\n",
       "      <td>0.0004</td>\n",
       "      <td>0.828990</td>\n",
       "      <td>0.792208</td>\n",
       "    </tr>\n",
       "    <tr>\n",
       "      <th>29</th>\n",
       "      <td>4</td>\n",
       "      <td>0.0003</td>\n",
       "      <td>0.814332</td>\n",
       "      <td>0.792208</td>\n",
       "    </tr>\n",
       "    <tr>\n",
       "      <th>11</th>\n",
       "      <td>2</td>\n",
       "      <td>0.0003</td>\n",
       "      <td>0.794788</td>\n",
       "      <td>0.792208</td>\n",
       "    </tr>\n",
       "  </tbody>\n",
       "</table>\n",
       "</div>"
      ],
      "text/plain": [
       "    C   gamma     train      test\n",
       "27  4  0.0001  0.781759  0.798701\n",
       "18  3  0.0001  0.773616  0.798701\n",
       "30  4  0.0004  0.828990  0.792208\n",
       "29  4  0.0003  0.814332  0.792208\n",
       "11  2  0.0003  0.794788  0.792208"
      ]
     },
     "execution_count": 43,
     "metadata": {},
     "output_type": "execute_result"
    }
   ],
   "source": [
    "df.sort_values(by = ['test','train'], ascending = False).head(5)"
   ]
  },
  {
   "cell_type": "markdown",
   "id": "da26a9e6-0b0e-45bc-b4a0-8c885c5cc9b4",
   "metadata": {},
   "source": [
    "- 모델 2개더 추가 해서 for 문 써서 한번에 돌리기"
   ]
  },
  {
   "cell_type": "code",
   "execution_count": 44,
   "id": "47c75c2c-ea5e-4caf-9a2e-769146d5ac47",
   "metadata": {},
   "outputs": [],
   "source": [
    "from sklearn.linear_model import LogisticRegression\n",
    "from sklearn.linear_model import LogisticRegressionCV\n",
    "import warnings\n",
    "warnings.filterwarnings('ignore')"
   ]
  },
  {
   "cell_type": "code",
   "execution_count": 45,
   "id": "eb85930d-7779-4cc3-ae36-2863519781eb",
   "metadata": {},
   "outputs": [],
   "source": [
    "model2 = LogisticRegression()\n",
    "model3 = LogisticRegressionCV()"
   ]
  },
  {
   "cell_type": "code",
   "execution_count": 46,
   "id": "c54d13e4-c0ff-4bf7-a8a4-259be9db3639",
   "metadata": {},
   "outputs": [],
   "source": [
    "d = [(x_train, y_train), (x_test, y_test)]"
   ]
  },
  {
   "cell_type": "code",
   "execution_count": 47,
   "id": "b0d80470-7eb2-49bd-900d-7f150fd41140",
   "metadata": {},
   "outputs": [],
   "source": [
    "def trainModel(model, d):\n",
    "    for i, x in enumerate(d) : \n",
    "        if(i==0) :\n",
    "            model.fit(x[0],x[1])\n",
    "            print('train', model.score(x[0], x[1]))\n",
    "        else :\n",
    "            print('test', model.score(x[0], x[1]))   "
   ]
  },
  {
   "cell_type": "code",
   "execution_count": 48,
   "id": "3dce6f00-65ca-42a4-918c-3b3f8129640c",
   "metadata": {},
   "outputs": [
    {
     "name": "stdout",
     "output_type": "stream",
     "text": [
      "train 0.8664495114006515\n",
      "test 0.7857142857142857\n"
     ]
    }
   ],
   "source": [
    "trainModel(model , d)"
   ]
  },
  {
   "cell_type": "code",
   "execution_count": 49,
   "id": "3eb51d20-e080-4bcf-8446-d398f42f74c3",
   "metadata": {},
   "outputs": [
    {
     "name": "stdout",
     "output_type": "stream",
     "text": [
      "train 0.7654723127035831\n",
      "test 0.7597402597402597\n"
     ]
    }
   ],
   "source": [
    "trainModel(model2 , d)"
   ]
  },
  {
   "cell_type": "code",
   "execution_count": 50,
   "id": "c3ca73d4-3aec-488e-bca2-b2db7079b228",
   "metadata": {},
   "outputs": [
    {
     "name": "stdout",
     "output_type": "stream",
     "text": [
      "train 0.7687296416938111\n",
      "test 0.7727272727272727\n"
     ]
    }
   ],
   "source": [
    "trainModel(model3 , d)"
   ]
  },
  {
   "cell_type": "markdown",
   "id": "3b1f8b4f-d5ee-4cc5-aa62-8d7ad8a51359",
   "metadata": {},
   "source": [
    "---"
   ]
  },
  {
   "cell_type": "markdown",
   "id": "5ff775c1-0e4f-4736-99fd-c0acf9ea5cc1",
   "metadata": {},
   "source": [
    "- 모델 만들기"
   ]
  },
  {
   "cell_type": "code",
   "execution_count": 51,
   "id": "7ae4db42-cbcd-4b65-a351-ca690ca003fb",
   "metadata": {},
   "outputs": [],
   "source": [
    "model4 = SVC() "
   ]
  },
  {
   "cell_type": "code",
   "execution_count": 52,
   "id": "76fd0b5b-92f7-4a31-b4f8-e4665ad45e86",
   "metadata": {},
   "outputs": [],
   "source": [
    "# 위에서 처리 했기에 주석 처리 \n",
    "#x= data.drop('Outcome', axis=1)\n",
    "#y = data['Outcome']"
   ]
  },
  {
   "cell_type": "code",
   "execution_count": 53,
   "id": "f0ef2755-f0c7-40dc-95d5-a792e32fb399",
   "metadata": {},
   "outputs": [],
   "source": [
    "# 위에서 처리 했기에 주석 처리 \n",
    "#x_train, x_test, y_train, y_test = train_test_split(x,y,test_size=0.2, random_state=0, stratify=y)"
   ]
  },
  {
   "cell_type": "code",
   "execution_count": 54,
   "id": "412ed7f1-8bea-4498-9dd8-661f8d89a513",
   "metadata": {},
   "outputs": [
    {
     "data": {
      "text/plain": [
       "SVC()"
      ]
     },
     "execution_count": 54,
     "metadata": {},
     "output_type": "execute_result"
    }
   ],
   "source": [
    "model4.fit(x_train, y_train)"
   ]
  },
  {
   "cell_type": "code",
   "execution_count": 55,
   "id": "18199f14-b6af-46b0-8c70-d8db4ba3c2a0",
   "metadata": {},
   "outputs": [
    {
     "data": {
      "text/plain": [
       "0.749185667752443"
      ]
     },
     "execution_count": 55,
     "metadata": {},
     "output_type": "execute_result"
    }
   ],
   "source": [
    "model4.score(x_train, y_train)"
   ]
  },
  {
   "cell_type": "code",
   "execution_count": 56,
   "id": "95a4411e-e154-4083-a6a9-0ddb6636811f",
   "metadata": {},
   "outputs": [
    {
     "data": {
      "text/plain": [
       "0.7792207792207793"
      ]
     },
     "execution_count": 56,
     "metadata": {},
     "output_type": "execute_result"
    }
   ],
   "source": [
    "model4.score(x_test, y_test)"
   ]
  },
  {
   "cell_type": "markdown",
   "id": "6a35a77e-cd1f-4563-a889-76c0de29da83",
   "metadata": {},
   "source": [
    "- 결과 와 모델 저장 "
   ]
  },
  {
   "cell_type": "code",
   "execution_count": 57,
   "id": "2a12291a-d924-4deb-8080-b0068b5b8121",
   "metadata": {},
   "outputs": [],
   "source": [
    "import pickle"
   ]
  },
  {
   "cell_type": "code",
   "execution_count": 58,
   "id": "11150da5-5ec8-448f-8c6c-c9f6341cabd8",
   "metadata": {},
   "outputs": [
    {
     "data": {
      "text/plain": [
       "SVC()"
      ]
     },
     "execution_count": 58,
     "metadata": {},
     "output_type": "execute_result"
    }
   ],
   "source": [
    "model4"
   ]
  },
  {
   "cell_type": "code",
   "execution_count": 59,
   "id": "b21aec4c-b437-47e4-ab23-5737b7023d4d",
   "metadata": {},
   "outputs": [],
   "source": [
    "with open('model4.pkl','wb') as f :\n",
    "    pickle.dump(model4, f)"
   ]
  },
  {
   "cell_type": "code",
   "execution_count": null,
   "id": "e44a4899-8f61-4fc7-a3a1-37a131d63279",
   "metadata": {},
   "outputs": [],
   "source": []
  },
  {
   "cell_type": "code",
   "execution_count": null,
   "id": "4d4daec5-86d5-49d9-b39e-c34d0ab7709f",
   "metadata": {},
   "outputs": [],
   "source": []
  }
 ],
 "metadata": {
  "kernelspec": {
   "display_name": "Python 3 (ipykernel)",
   "language": "python",
   "name": "python3"
  },
  "language_info": {
   "codemirror_mode": {
    "name": "ipython",
    "version": 3
   },
   "file_extension": ".py",
   "mimetype": "text/x-python",
   "name": "python",
   "nbconvert_exporter": "python",
   "pygments_lexer": "ipython3",
   "version": "3.9.12"
  }
 },
 "nbformat": 4,
 "nbformat_minor": 5
}
