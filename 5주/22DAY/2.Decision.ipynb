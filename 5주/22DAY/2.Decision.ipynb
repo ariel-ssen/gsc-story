{
 "cells": [
  {
   "cell_type": "code",
   "execution_count": 1,
   "id": "94c26261-f54d-4107-83e8-5c8f418b8ffb",
   "metadata": {},
   "outputs": [],
   "source": [
    "import math\n",
    "from collections import Counter , defaultdict"
   ]
  },
  {
   "cell_type": "code",
   "execution_count": 2,
   "id": "234f6c91-2df7-4fdb-adf3-fcfec21f42bb",
   "metadata": {},
   "outputs": [],
   "source": [
    "inputs = [\n",
    "        ({'level':'Senior','lang':'Java','tweets':'no','phd':'no'},   False),\n",
    "        ({'level':'Senior','lang':'Java','tweets':'no','phd':'yes'},  False),\n",
    "        ({'level':'Mid','lang':'Python','tweets':'no','phd':'no'},     True),\n",
    "        ({'level':'Junior','lang':'Python','tweets':'no','phd':'no'},  True),\n",
    "        ({'level':'Junior','lang':'R','tweets':'yes','phd':'no'},      True),\n",
    "        ({'level':'Junior','lang':'R','tweets':'yes','phd':'yes'},    False),\n",
    "        ({'level':'Mid','lang':'R','tweets':'yes','phd':'yes'},        True),\n",
    "        ({'level':'Senior','lang':'Python','tweets':'no','phd':'no'}, False),\n",
    "        ({'level':'Senior','lang':'R','tweets':'yes','phd':'no'},      True),\n",
    "        ({'level':'Junior','lang':'Python','tweets':'yes','phd':'no'}, True),\n",
    "        ({'level':'Senior','lang':'Python','tweets':'yes','phd':'yes'},True),\n",
    "        ({'level':'Mid','lang':'Python','tweets':'no','phd':'yes'},    True),\n",
    "        ({'level':'Mid','lang':'Java','tweets':'yes','phd':'no'},      True),\n",
    "        ({'level':'Junior','lang':'Python','tweets':'no','phd':'yes'},False)\n",
    "    ]"
   ]
  },
  {
   "cell_type": "code",
   "execution_count": 3,
   "id": "0b06243e-11a4-4601-bfc4-d4160d23e0d4",
   "metadata": {},
   "outputs": [
    {
     "data": {
      "text/plain": [
       "{'level': 'Senior', 'lang': 'Java', 'tweets': 'no', 'phd': 'no'}"
      ]
     },
     "execution_count": 3,
     "metadata": {},
     "output_type": "execute_result"
    }
   ],
   "source": [
    "inputs[0][0]"
   ]
  },
  {
   "cell_type": "code",
   "execution_count": 4,
   "id": "8fec0655-5827-4baf-8bfe-b22d6563bf8a",
   "metadata": {},
   "outputs": [
    {
     "data": {
      "text/plain": [
       "False"
      ]
     },
     "execution_count": 4,
     "metadata": {},
     "output_type": "execute_result"
    }
   ],
   "source": [
    "inputs[0][1]"
   ]
  },
  {
   "cell_type": "code",
   "execution_count": 5,
   "id": "2832ff9e-dff2-4520-8443-4f70ed000ed0",
   "metadata": {},
   "outputs": [
    {
     "name": "stdout",
     "output_type": "stream",
     "text": [
      "({'level': 'Senior', 'lang': 'Java', 'tweets': 'no', 'phd': 'no'}, False)\n",
      "({'level': 'Senior', 'lang': 'Java', 'tweets': 'no', 'phd': 'yes'}, False)\n",
      "({'level': 'Senior', 'lang': 'Python', 'tweets': 'no', 'phd': 'no'}, False)\n",
      "({'level': 'Senior', 'lang': 'R', 'tweets': 'yes', 'phd': 'no'}, True)\n",
      "({'level': 'Senior', 'lang': 'Python', 'tweets': 'yes', 'phd': 'yes'}, True)\n"
     ]
    }
   ],
   "source": [
    "for data in inputs :\n",
    "    if data[0]['level'] == 'Senior' :\n",
    "        print(data)"
   ]
  },
  {
   "cell_type": "code",
   "execution_count": 6,
   "id": "f20c80dd-b0ae-41aa-a937-46eb1e7924ae",
   "metadata": {},
   "outputs": [
    {
     "data": {
      "text/plain": [
       "[({'level': 'Senior', 'lang': 'Java', 'tweets': 'no', 'phd': 'no'}, False),\n",
       " ({'level': 'Senior', 'lang': 'Java', 'tweets': 'no', 'phd': 'yes'}, False),\n",
       " ({'level': 'Senior', 'lang': 'Python', 'tweets': 'no', 'phd': 'no'}, False),\n",
       " ({'level': 'Senior', 'lang': 'R', 'tweets': 'yes', 'phd': 'no'}, True),\n",
       " ({'level': 'Senior', 'lang': 'Python', 'tweets': 'yes', 'phd': 'yes'}, True)]"
      ]
     },
     "execution_count": 6,
     "metadata": {},
     "output_type": "execute_result"
    }
   ],
   "source": [
    "[data for data in inputs if data[0]['level'] == 'Senior']"
   ]
  },
  {
   "cell_type": "markdown",
   "id": "2c2243ad-c7d9-4a8d-b57d-030c04c68d5f",
   "metadata": {},
   "source": [
    "# 오후 쉅 시작"
   ]
  },
  {
   "cell_type": "code",
   "execution_count": 15,
   "id": "654728c0-4b54-455a-860e-e8ec61dd5940",
   "metadata": {},
   "outputs": [],
   "source": [
    "p = 5/5\n",
    "q = 0"
   ]
  },
  {
   "cell_type": "code",
   "execution_count": 16,
   "id": "f27f5b1c-e8ff-445c-9a31-c5d3ea4f265f",
   "metadata": {},
   "outputs": [
    {
     "data": {
      "text/plain": [
       "-0.0"
      ]
     },
     "execution_count": 16,
     "metadata": {},
     "output_type": "execute_result"
    }
   ],
   "source": [
    "-p * math.log(p,2)"
   ]
  },
  {
   "cell_type": "code",
   "execution_count": 17,
   "id": "ce4869d1-1214-4c5a-bb41-6915a2f4e363",
   "metadata": {
    "collapsed": true,
    "jupyter": {
     "outputs_hidden": true
    },
    "tags": []
   },
   "outputs": [
    {
     "ename": "ValueError",
     "evalue": "math domain error",
     "output_type": "error",
     "traceback": [
      "\u001b[1;31m---------------------------------------------------------------------------\u001b[0m",
      "\u001b[1;31mValueError\u001b[0m                                Traceback (most recent call last)",
      "Input \u001b[1;32mIn [17]\u001b[0m, in \u001b[0;36m<cell line: 1>\u001b[1;34m()\u001b[0m\n\u001b[1;32m----> 1\u001b[0m \u001b[38;5;241m-\u001b[39mq \u001b[38;5;241m*\u001b[39m \u001b[43mmath\u001b[49m\u001b[38;5;241;43m.\u001b[39;49m\u001b[43mlog\u001b[49m\u001b[43m(\u001b[49m\u001b[43mq\u001b[49m\u001b[43m,\u001b[49m\u001b[38;5;241;43m2\u001b[39;49m\u001b[43m)\u001b[49m\n",
      "\u001b[1;31mValueError\u001b[0m: math domain error"
     ]
    }
   ],
   "source": [
    "-q * math.log(q,2)"
   ]
  },
  {
   "cell_type": "code",
   "execution_count": 8,
   "id": "c9a37b2a-3a9b-442a-a76e-95b6534df242",
   "metadata": {},
   "outputs": [
    {
     "data": {
      "text/plain": [
       "1.0"
      ]
     },
     "execution_count": 8,
     "metadata": {},
     "output_type": "execute_result"
    }
   ],
   "source": [
    "-p * math.log(p,2)-q * math.log(q,2)"
   ]
  },
  {
   "cell_type": "code",
   "execution_count": 9,
   "id": "94d9b59a-2d9c-486e-b476-bbc74ca559eb",
   "metadata": {},
   "outputs": [],
   "source": [
    "class_probabilities = [5/10, 5/10]"
   ]
  },
  {
   "cell_type": "code",
   "execution_count": 47,
   "id": "416a17dd-5db4-445b-b651-eb33508bca69",
   "metadata": {},
   "outputs": [
    {
     "ename": "TypeError",
     "evalue": "'function' object is not iterable",
     "output_type": "error",
     "traceback": [
      "\u001b[1;31m---------------------------------------------------------------------------\u001b[0m",
      "\u001b[1;31mTypeError\u001b[0m                                 Traceback (most recent call last)",
      "Input \u001b[1;32mIn [47]\u001b[0m, in \u001b[0;36m<cell line: 1>\u001b[1;34m()\u001b[0m\n\u001b[1;32m----> 1\u001b[0m \u001b[43mentropy\u001b[49m\u001b[43m(\u001b[49m\u001b[43mclass_probabilities\u001b[49m\u001b[43m)\u001b[49m\n",
      "Input \u001b[1;32mIn [46]\u001b[0m, in \u001b[0;36mentropy\u001b[1;34m(class_probabilities)\u001b[0m\n\u001b[0;32m      1\u001b[0m \u001b[38;5;28;01mdef\u001b[39;00m \u001b[38;5;21mentropy\u001b[39m(class_probabilities) :\n\u001b[1;32m----> 2\u001b[0m     \u001b[38;5;28;01mreturn\u001b[39;00m [\u001b[38;5;241m-\u001b[39mp \u001b[38;5;241m*\u001b[39m math\u001b[38;5;241m.\u001b[39mlog(p,\u001b[38;5;241m2\u001b[39m) \u001b[38;5;28;01mfor\u001b[39;00m p \u001b[38;5;129;01min\u001b[39;00m class_probabilities \u001b[38;5;28;01mif\u001b[39;00m p]\n",
      "\u001b[1;31mTypeError\u001b[0m: 'function' object is not iterable"
     ]
    }
   ],
   "source": [
    "entropy(class_probabilities)"
   ]
  },
  {
   "cell_type": "code",
   "execution_count": 3,
   "id": "1f7fd823-fca3-45d3-9766-e6e68120d133",
   "metadata": {},
   "outputs": [],
   "source": [
    "labeled_data = [data for data in inputs if data[0]['level'] == 'Senior']"
   ]
  },
  {
   "cell_type": "code",
   "execution_count": 4,
   "id": "b7c697c8-7b70-4e1b-9341-62a9b2b9baf5",
   "metadata": {},
   "outputs": [
    {
     "data": {
      "text/plain": [
       "[({'level': 'Senior', 'lang': 'Java', 'tweets': 'no', 'phd': 'no'}, False),\n",
       " ({'level': 'Senior', 'lang': 'Java', 'tweets': 'no', 'phd': 'yes'}, False),\n",
       " ({'level': 'Senior', 'lang': 'Python', 'tweets': 'no', 'phd': 'no'}, False),\n",
       " ({'level': 'Senior', 'lang': 'R', 'tweets': 'yes', 'phd': 'no'}, True),\n",
       " ({'level': 'Senior', 'lang': 'Python', 'tweets': 'yes', 'phd': 'yes'}, True)]"
      ]
     },
     "execution_count": 4,
     "metadata": {},
     "output_type": "execute_result"
    }
   ],
   "source": [
    "labeled_data"
   ]
  },
  {
   "cell_type": "code",
   "execution_count": 5,
   "id": "095b5256-26d0-49a3-9045-3cb28b5a432c",
   "metadata": {},
   "outputs": [
    {
     "data": {
      "text/plain": [
       "[False, False, False, True, True]"
      ]
     },
     "execution_count": 5,
     "metadata": {},
     "output_type": "execute_result"
    }
   ],
   "source": [
    "[label for _, label in labeled_data]"
   ]
  },
  {
   "cell_type": "code",
   "execution_count": 32,
   "id": "485d8ec7-4015-4b7c-a00c-a686d36a4121",
   "metadata": {},
   "outputs": [
    {
     "name": "stdout",
     "output_type": "stream",
     "text": [
      "{'level': 'Senior', 'lang': 'Java', 'tweets': 'no', 'phd': 'no'} / False\n",
      "{'level': 'Senior', 'lang': 'Java', 'tweets': 'no', 'phd': 'yes'} / False\n",
      "{'level': 'Senior', 'lang': 'Python', 'tweets': 'no', 'phd': 'no'} / False\n",
      "{'level': 'Senior', 'lang': 'R', 'tweets': 'yes', 'phd': 'no'} / True\n",
      "{'level': 'Senior', 'lang': 'Python', 'tweets': 'yes', 'phd': 'yes'} / True\n"
     ]
    }
   ],
   "source": [
    "for data, label in labeled_data :\n",
    "    print(data,'/',label)"
   ]
  },
  {
   "cell_type": "code",
   "execution_count": 33,
   "id": "6a3f1308-e350-420d-a44a-89d24104d678",
   "metadata": {},
   "outputs": [
    {
     "name": "stdout",
     "output_type": "stream",
     "text": [
      "False\n",
      "False\n",
      "False\n",
      "True\n",
      "True\n"
     ]
    }
   ],
   "source": [
    "# _ : 그 변수를쓰지 않겠다 \n",
    "for _, label in labeled_data :\n",
    "    print(label)"
   ]
  },
  {
   "cell_type": "code",
   "execution_count": 6,
   "id": "62dcfd0e-78ef-4079-b5cd-db72e945f49a",
   "metadata": {},
   "outputs": [],
   "source": [
    "labels = [label for _, label in labeled_data]"
   ]
  },
  {
   "cell_type": "code",
   "execution_count": 7,
   "id": "913875f0-deb5-4570-a672-cdba482459a4",
   "metadata": {},
   "outputs": [
    {
     "data": {
      "text/plain": [
       "[False, False, False, True, True]"
      ]
     },
     "execution_count": 7,
     "metadata": {},
     "output_type": "execute_result"
    }
   ],
   "source": [
    "labels"
   ]
  },
  {
   "cell_type": "code",
   "execution_count": 35,
   "id": "cc92c654-a2e5-4bfc-a590-8c6f94568d28",
   "metadata": {},
   "outputs": [],
   "source": [
    "total = len(labels)"
   ]
  },
  {
   "cell_type": "code",
   "execution_count": 36,
   "id": "93b32a6d-4177-46ef-b92f-fc3844c8ca42",
   "metadata": {},
   "outputs": [
    {
     "data": {
      "text/plain": [
       "[False, False, False, True, True]"
      ]
     },
     "execution_count": 36,
     "metadata": {},
     "output_type": "execute_result"
    }
   ],
   "source": [
    "labels"
   ]
  },
  {
   "cell_type": "code",
   "execution_count": 37,
   "id": "0409f8ed-49f2-4cfa-a097-c362e17b5f4c",
   "metadata": {},
   "outputs": [
    {
     "data": {
      "text/plain": [
       "[0.6, 0.4]"
      ]
     },
     "execution_count": 37,
     "metadata": {},
     "output_type": "execute_result"
    }
   ],
   "source": [
    "[count / total for count in Counter(labels).values()]\n",
    "# false 확률 True 확률"
   ]
  },
  {
   "cell_type": "code",
   "execution_count": 23,
   "id": "af82796d-c966-4aed-bf42-5068560ddb11",
   "metadata": {},
   "outputs": [
    {
     "ename": "TypeError",
     "evalue": "'function' object is not iterable",
     "output_type": "error",
     "traceback": [
      "\u001b[1;31m---------------------------------------------------------------------------\u001b[0m",
      "\u001b[1;31mTypeError\u001b[0m                                 Traceback (most recent call last)",
      "Input \u001b[1;32mIn [23]\u001b[0m, in \u001b[0;36m<cell line: 1>\u001b[1;34m()\u001b[0m\n\u001b[1;32m----> 1\u001b[0m \u001b[43mentropy\u001b[49m\u001b[43m(\u001b[49m\u001b[43mclass_probabilities\u001b[49m\u001b[43m)\u001b[49m\n",
      "Input \u001b[1;32mIn [22]\u001b[0m, in \u001b[0;36mentropy\u001b[1;34m(class_probabilities)\u001b[0m\n\u001b[0;32m      1\u001b[0m \u001b[38;5;28;01mdef\u001b[39;00m \u001b[38;5;21mentropy\u001b[39m(class_probabilities) :\n\u001b[1;32m----> 2\u001b[0m     \u001b[38;5;28;01mreturn\u001b[39;00m \u001b[38;5;28msum\u001b[39m(\u001b[38;5;241m-\u001b[39mp \u001b[38;5;241m*\u001b[39m math\u001b[38;5;241m.\u001b[39mlog(p,\u001b[38;5;241m2\u001b[39m) \u001b[38;5;28;01mfor\u001b[39;00m p \u001b[38;5;129;01min\u001b[39;00m class_probabilities \u001b[38;5;28;01mif\u001b[39;00m p)\n",
      "\u001b[1;31mTypeError\u001b[0m: 'function' object is not iterable"
     ]
    }
   ],
   "source": [
    "entropy(class_probabilities)"
   ]
  },
  {
   "cell_type": "code",
   "execution_count": 12,
   "id": "8177c58b-2583-4850-bd12-16700f6dd235",
   "metadata": {},
   "outputs": [],
   "source": [
    "class_probabilities = [5/10, 5/10]"
   ]
  },
  {
   "cell_type": "code",
   "execution_count": null,
   "id": "1b0334b5-e334-4f56-921a-fab236368407",
   "metadata": {},
   "outputs": [],
   "source": []
  },
  {
   "cell_type": "code",
   "execution_count": null,
   "id": "4a7b4f98-5d73-431b-9d78-81fb1e6b9d54",
   "metadata": {},
   "outputs": [],
   "source": []
  },
  {
   "cell_type": "code",
   "execution_count": 28,
   "id": "c3dbfda8-6fd3-4da5-8f49-aa9a017da4df",
   "metadata": {},
   "outputs": [],
   "source": [
    "#labeled_data = [data for data in inputs if data[0]['level'] == 'mid']"
   ]
  },
  {
   "cell_type": "code",
   "execution_count": 27,
   "id": "e6d50cd5-c7f3-4ebd-85e2-ea5002c8ddda",
   "metadata": {},
   "outputs": [],
   "source": [
    "#labeled_data = [data for data in inputs if data[0]['level'] == 'Senior']"
   ]
  },
  {
   "cell_type": "code",
   "execution_count": 29,
   "id": "603c1979-399c-4eff-9e12-82cd07583266",
   "metadata": {},
   "outputs": [],
   "source": [
    "#labeled_data = [data for data in inputs if data[0]['level'] == 'junior']"
   ]
  },
  {
   "cell_type": "code",
   "execution_count": null,
   "id": "933b6fb6-b8f1-4807-99b1-fb93425c88c3",
   "metadata": {},
   "outputs": [],
   "source": []
  },
  {
   "cell_type": "code",
   "execution_count": 1,
   "id": "99f307c6-ef93-4f30-9f96-c6765a1c157c",
   "metadata": {},
   "outputs": [],
   "source": [
    "import math\n",
    "from collections import Counter, defaultdict\n",
    "from functools import partial"
   ]
  },
  {
   "cell_type": "code",
   "execution_count": 2,
   "id": "22dd8138-6522-4076-86d5-08083bc5a22f",
   "metadata": {},
   "outputs": [],
   "source": [
    "#데이터 셋\n",
    "inputs = [\n",
    "        ({'level':'Senior','lang':'Java','tweets':'no','phd':'no'},   False),\n",
    "        ({'level':'Senior','lang':'Java','tweets':'no','phd':'yes'},  False),\n",
    "        ({'level':'Mid','lang':'Python','tweets':'no','phd':'no'},     True),\n",
    "        ({'level':'Junior','lang':'Python','tweets':'no','phd':'no'},  True),\n",
    "        ({'level':'Junior','lang':'R','tweets':'yes','phd':'no'},      True),\n",
    "        ({'level':'Junior','lang':'R','tweets':'yes','phd':'yes'},    False),\n",
    "        ({'level':'Mid','lang':'R','tweets':'yes','phd':'yes'},        True),\n",
    "        ({'level':'Senior','lang':'Python','tweets':'no','phd':'no'}, False),\n",
    "        ({'level':'Senior','lang':'R','tweets':'yes','phd':'no'},      True),\n",
    "        ({'level':'Junior','lang':'Python','tweets':'yes','phd':'no'}, True),\n",
    "        ({'level':'Senior','lang':'Python','tweets':'yes','phd':'yes'},True),\n",
    "        ({'level':'Mid','lang':'Python','tweets':'no','phd':'yes'},    True),\n",
    "        ({'level':'Mid','lang':'Java','tweets':'yes','phd':'no'},      True),\n",
    "        ({'level':'Junior','lang':'Python','tweets':'no','phd':'yes'},False)\n",
    "    ]"
   ]
  },
  {
   "cell_type": "code",
   "execution_count": 3,
   "id": "f1e26fdb-feda-4848-82c0-4cf320a22f00",
   "metadata": {},
   "outputs": [],
   "source": [
    "labeled_data = [data for data in inputs if data[0]['level'] == 'Senior']"
   ]
  },
  {
   "cell_type": "code",
   "execution_count": 4,
   "id": "73be03e4-8e36-4858-a8aa-f2bcf7018bc9",
   "metadata": {},
   "outputs": [
    {
     "data": {
      "text/plain": [
       "[({'level': 'Senior', 'lang': 'Java', 'tweets': 'no', 'phd': 'no'}, False),\n",
       " ({'level': 'Senior', 'lang': 'Java', 'tweets': 'no', 'phd': 'yes'}, False),\n",
       " ({'level': 'Senior', 'lang': 'Python', 'tweets': 'no', 'phd': 'no'}, False),\n",
       " ({'level': 'Senior', 'lang': 'R', 'tweets': 'yes', 'phd': 'no'}, True),\n",
       " ({'level': 'Senior', 'lang': 'Python', 'tweets': 'yes', 'phd': 'yes'}, True)]"
      ]
     },
     "execution_count": 4,
     "metadata": {},
     "output_type": "execute_result"
    }
   ],
   "source": [
    "labeled_data"
   ]
  },
  {
   "cell_type": "code",
   "execution_count": 5,
   "id": "b172b124-3f1c-4cd5-8e61-c8f498496ac3",
   "metadata": {},
   "outputs": [],
   "source": [
    "# 엔트로피를 구하는 함수 \n",
    "# 1에 가까우면 혼잡 0 에 가까우면 안정 \n",
    "def entropy(class_probabilities) :\n",
    "    #print('class_probabilities : ', class_probabilities)\n",
    "    return sum(-p * math.log(p,2) for p in class_probabilities if p)"
   ]
  },
  {
   "cell_type": "raw",
   "id": "4af92005-7f87-423b-bcb3-09fa0d3a6c05",
   "metadata": {},
   "source": [
    "[0.6, 0.4]\n",
    "-0.6 * math.log(0.6,2)-0.4 * math.log(0.4,2)\n",
    "\n",
    "-p * math.log(p,2) for p in class_probabilities if p\n",
    "\n",
    "----- -0.6 * math.log(0.6,2) \n",
    "----- -0.4 * math.log(0.4,2)\n",
    "\n",
    "\n",
    "-p * math.log(p,2)-q * math.log(q,2)"
   ]
  },
  {
   "cell_type": "code",
   "execution_count": 6,
   "id": "de070056-378a-48b7-b57a-895ac2392f1c",
   "metadata": {},
   "outputs": [],
   "source": [
    "def class_probabilities(labels) :\n",
    "    total = len(labels)\n",
    "    return [count / total for count in Counter(labels).values()]"
   ]
  },
  {
   "cell_type": "code",
   "execution_count": 7,
   "id": "f280c02c-ee52-4ada-8c3d-b8da1d6918bf",
   "metadata": {},
   "outputs": [],
   "source": [
    "#labeled_data 레벨이 시니어 레벨ㄹ이 미드 레벨이 주니어 인애들 \n",
    "def data_entropy(labeled_data) :\n",
    "    labels = [label for _, label in labeled_data]\n",
    "    #print('labels : ', labels)\n",
    "    probabilities = class_probabilities(labels)\n",
    "    #print('probabilities : ', probabilities)\n",
    "    return entropy(probabilities)"
   ]
  },
  {
   "cell_type": "code",
   "execution_count": 8,
   "id": "5fa2f0cc-1954-4f90-8de5-9ec47d74cd15",
   "metadata": {},
   "outputs": [
    {
     "data": {
      "text/plain": [
       "0.9709505944546686"
      ]
     },
     "execution_count": 8,
     "metadata": {},
     "output_type": "execute_result"
    }
   ],
   "source": [
    "data_entropy(labeled_data)"
   ]
  },
  {
   "cell_type": "code",
   "execution_count": 9,
   "id": "8cde86a4-27af-402f-9e3f-2afa135b8bcf",
   "metadata": {},
   "outputs": [],
   "source": [
    "def part0\n",
    "        groups[key].append(i)\n",
    "    return groups"
   ]
  },
  {
   "cell_type": "code",
   "execution_count": null,
   "id": "75924cae-18d3-4859-80c3-541fe536d43e",
   "metadata": {},
   "outputs": [],
   "source": []
  },
  {
   "cell_type": "code",
   "execution_count": 10,
   "id": "db3f8845-70b8-4e02-bbe1-3b88a20e54dd",
   "metadata": {
    "collapsed": true,
    "jupyter": {
     "outputs_hidden": true
    },
    "tags": []
   },
   "outputs": [
    {
     "name": "stdout",
     "output_type": "stream",
     "text": [
      "level defaultdict(<class 'list'>, {'Senior': [({'level': 'Senior', 'lang': 'Java', 'tweets': 'no', 'phd': 'no'}, False), ({'level': 'Senior', 'lang': 'Java', 'tweets': 'no', 'phd': 'yes'}, False), ({'level': 'Senior', 'lang': 'Python', 'tweets': 'no', 'phd': 'no'}, False), ({'level': 'Senior', 'lang': 'R', 'tweets': 'yes', 'phd': 'no'}, True), ({'level': 'Senior', 'lang': 'Python', 'tweets': 'yes', 'phd': 'yes'}, True)], 'Mid': [({'level': 'Mid', 'lang': 'Python', 'tweets': 'no', 'phd': 'no'}, True), ({'level': 'Mid', 'lang': 'R', 'tweets': 'yes', 'phd': 'yes'}, True), ({'level': 'Mid', 'lang': 'Python', 'tweets': 'no', 'phd': 'yes'}, True), ({'level': 'Mid', 'lang': 'Java', 'tweets': 'yes', 'phd': 'no'}, True)], 'Junior': [({'level': 'Junior', 'lang': 'Python', 'tweets': 'no', 'phd': 'no'}, True), ({'level': 'Junior', 'lang': 'R', 'tweets': 'yes', 'phd': 'no'}, True), ({'level': 'Junior', 'lang': 'R', 'tweets': 'yes', 'phd': 'yes'}, False), ({'level': 'Junior', 'lang': 'Python', 'tweets': 'yes', 'phd': 'no'}, True), ({'level': 'Junior', 'lang': 'Python', 'tweets': 'no', 'phd': 'yes'}, False)]})\n",
      "----------------------------\n",
      "lang defaultdict(<class 'list'>, {'Senior': [({'level': 'Senior', 'lang': 'Java', 'tweets': 'no', 'phd': 'no'}, False), ({'level': 'Senior', 'lang': 'Java', 'tweets': 'no', 'phd': 'yes'}, False), ({'level': 'Senior', 'lang': 'Python', 'tweets': 'no', 'phd': 'no'}, False), ({'level': 'Senior', 'lang': 'R', 'tweets': 'yes', 'phd': 'no'}, True), ({'level': 'Senior', 'lang': 'Python', 'tweets': 'yes', 'phd': 'yes'}, True)], 'Mid': [({'level': 'Mid', 'lang': 'Python', 'tweets': 'no', 'phd': 'no'}, True), ({'level': 'Mid', 'lang': 'R', 'tweets': 'yes', 'phd': 'yes'}, True), ({'level': 'Mid', 'lang': 'Python', 'tweets': 'no', 'phd': 'yes'}, True), ({'level': 'Mid', 'lang': 'Java', 'tweets': 'yes', 'phd': 'no'}, True)], 'Junior': [({'level': 'Junior', 'lang': 'Python', 'tweets': 'no', 'phd': 'no'}, True), ({'level': 'Junior', 'lang': 'R', 'tweets': 'yes', 'phd': 'no'}, True), ({'level': 'Junior', 'lang': 'R', 'tweets': 'yes', 'phd': 'yes'}, False), ({'level': 'Junior', 'lang': 'Python', 'tweets': 'yes', 'phd': 'no'}, True), ({'level': 'Junior', 'lang': 'Python', 'tweets': 'no', 'phd': 'yes'}, False)]})\n",
      "----------------------------\n",
      "tweets defaultdict(<class 'list'>, {'Senior': [({'level': 'Senior', 'lang': 'Java', 'tweets': 'no', 'phd': 'no'}, False), ({'level': 'Senior', 'lang': 'Java', 'tweets': 'no', 'phd': 'yes'}, False), ({'level': 'Senior', 'lang': 'Python', 'tweets': 'no', 'phd': 'no'}, False), ({'level': 'Senior', 'lang': 'R', 'tweets': 'yes', 'phd': 'no'}, True), ({'level': 'Senior', 'lang': 'Python', 'tweets': 'yes', 'phd': 'yes'}, True)], 'Mid': [({'level': 'Mid', 'lang': 'Python', 'tweets': 'no', 'phd': 'no'}, True), ({'level': 'Mid', 'lang': 'R', 'tweets': 'yes', 'phd': 'yes'}, True), ({'level': 'Mid', 'lang': 'Python', 'tweets': 'no', 'phd': 'yes'}, True), ({'level': 'Mid', 'lang': 'Java', 'tweets': 'yes', 'phd': 'no'}, True)], 'Junior': [({'level': 'Junior', 'lang': 'Python', 'tweets': 'no', 'phd': 'no'}, True), ({'level': 'Junior', 'lang': 'R', 'tweets': 'yes', 'phd': 'no'}, True), ({'level': 'Junior', 'lang': 'R', 'tweets': 'yes', 'phd': 'yes'}, False), ({'level': 'Junior', 'lang': 'Python', 'tweets': 'yes', 'phd': 'no'}, True), ({'level': 'Junior', 'lang': 'Python', 'tweets': 'no', 'phd': 'yes'}, False)]})\n",
      "----------------------------\n",
      "phd defaultdict(<class 'list'>, {'Senior': [({'level': 'Senior', 'lang': 'Java', 'tweets': 'no', 'phd': 'no'}, False), ({'level': 'Senior', 'lang': 'Java', 'tweets': 'no', 'phd': 'yes'}, False), ({'level': 'Senior', 'lang': 'Python', 'tweets': 'no', 'phd': 'no'}, False), ({'level': 'Senior', 'lang': 'R', 'tweets': 'yes', 'phd': 'no'}, True), ({'level': 'Senior', 'lang': 'Python', 'tweets': 'yes', 'phd': 'yes'}, True)], 'Mid': [({'level': 'Mid', 'lang': 'Python', 'tweets': 'no', 'phd': 'no'}, True), ({'level': 'Mid', 'lang': 'R', 'tweets': 'yes', 'phd': 'yes'}, True), ({'level': 'Mid', 'lang': 'Python', 'tweets': 'no', 'phd': 'yes'}, True), ({'level': 'Mid', 'lang': 'Java', 'tweets': 'yes', 'phd': 'no'}, True)], 'Junior': [({'level': 'Junior', 'lang': 'Python', 'tweets': 'no', 'phd': 'no'}, True), ({'level': 'Junior', 'lang': 'R', 'tweets': 'yes', 'phd': 'no'}, True), ({'level': 'Junior', 'lang': 'R', 'tweets': 'yes', 'phd': 'yes'}, False), ({'level': 'Junior', 'lang': 'Python', 'tweets': 'yes', 'phd': 'no'}, True), ({'level': 'Junior', 'lang': 'Python', 'tweets': 'no', 'phd': 'yes'}, False)]})\n",
      "----------------------------\n"
     ]
    }
   ],
   "source": [
    "for key in ['level','lang','tweets','phd'] :\n",
    "    print(key, partition_by(inputs, key))\n",
    "    print('----------------------------')"
   ]
  },
  {
   "cell_type": "code",
   "execution_count": 11,
   "id": "f07705df-7805-4624-90b3-c9715305dad2",
   "metadata": {},
   "outputs": [],
   "source": [
    "subsets = partition_by(inputs, 'level').values()"
   ]
  },
  {
   "cell_type": "code",
   "execution_count": 12,
   "id": "36f0f97c-7244-4102-a3e8-b6f1f8ef615e",
   "metadata": {},
   "outputs": [],
   "source": [
    "total_count = sum(len(subset) for subset in subsets)"
   ]
  },
  {
   "cell_type": "code",
   "execution_count": 13,
   "id": "9c91dc21-21e6-4e4f-8237-0a942e9221d9",
   "metadata": {},
   "outputs": [
    {
     "data": {
      "text/plain": [
       "14"
      ]
     },
     "execution_count": 13,
     "metadata": {},
     "output_type": "execute_result"
    }
   ],
   "source": [
    "total_count"
   ]
  },
  {
   "cell_type": "code",
   "execution_count": 14,
   "id": "da2fde47-6aa3-4144-a2b1-fb8546afaebd",
   "metadata": {},
   "outputs": [
    {
     "data": {
      "text/plain": [
       "0.6935361388961918"
      ]
     },
     "execution_count": 14,
     "metadata": {},
     "output_type": "execute_result"
    }
   ],
   "source": [
    "sum(len(subset) /  total_count * data_entropy(subset) for subset in subsets)"
   ]
  },
  {
   "cell_type": "code",
   "execution_count": 15,
   "id": "61c2ba15-fce5-4fe6-bc99-d749461199a2",
   "metadata": {},
   "outputs": [],
   "source": [
    "def partition_entropy(subsets) :\n",
    "    total_count = sum(len(subset) for subset in subsets)\n",
    "    return sum(len(subset) / total_count * data_entropy(subset) for subset in subsets)"
   ]
  },
  {
   "cell_type": "code",
   "execution_count": 16,
   "id": "a62fbaef-6451-48fc-8400-db9bc73a9dbf",
   "metadata": {},
   "outputs": [],
   "source": [
    "def partition_entropy_by(inputs, attribute) :\n",
    "    partitions = partition_by(inputs, attribute)\n",
    "    return partition_entropy(partitions.values())"
   ]
  },
  {
   "cell_type": "code",
   "execution_count": 17,
   "id": "0136913e-062b-4897-a649-a7da95d66fd8",
   "metadata": {},
   "outputs": [
    {
     "name": "stdout",
     "output_type": "stream",
     "text": [
      "level 0.6935361388961918\n",
      "lang 0.6935361388961918\n",
      "tweets 0.6935361388961918\n",
      "phd 0.6935361388961918\n"
     ]
    }
   ],
   "source": [
    "for key in ['level','lang','tweets','phd'] :\n",
    "    print(key, partition_entropy_by(inputs, key))"
   ]
  },
  {
   "cell_type": "code",
   "execution_count": 18,
   "id": "1455f66c-89a4-4ec3-9210-cff320071ed8",
   "metadata": {},
   "outputs": [],
   "source": [
    "mid_inputs = [(data,label)for data,label in inputs if data['level'] == 'Mid']"
   ]
  },
  {
   "cell_type": "code",
   "execution_count": 19,
   "id": "14feda7d-eb84-4e97-9030-411f69468a4d",
   "metadata": {},
   "outputs": [
    {
     "name": "stdout",
     "output_type": "stream",
     "text": [
      "lang 0.0\n",
      "tweets 0.0\n",
      "phd 0.0\n"
     ]
    }
   ],
   "source": [
    "for key in ['lang','tweets','phd'] :\n",
    "    print(key, partition_entropy_by(mid_inputs,key))"
   ]
  },
  {
   "cell_type": "code",
   "execution_count": 20,
   "id": "4a857cd2-682f-4af0-925c-f9ff900f362c",
   "metadata": {},
   "outputs": [],
   "source": [
    "senior_inputs = [(data,label)for data,label in inputs if data['level'] == 'Senior']"
   ]
  },
  {
   "cell_type": "code",
   "execution_count": 21,
   "id": "fca41a95-30b8-4d1f-b16c-71209f03ec1c",
   "metadata": {},
   "outputs": [
    {
     "name": "stdout",
     "output_type": "stream",
     "text": [
      "lang 0.9709505944546686\n",
      "tweets 0.9709505944546686\n",
      "phd 0.9709505944546686\n"
     ]
    }
   ],
   "source": [
    "for key in ['lang','tweets','phd'] :\n",
    "    print(key, partition_entropy_by(senior_inputs,key))"
   ]
  },
  {
   "cell_type": "code",
   "execution_count": 22,
   "id": "739b1f52-fac5-4e85-9273-0260a379e5f0",
   "metadata": {},
   "outputs": [],
   "source": [
    "junior_inputs = [(data,label)for data,label in inputs if data['level'] == 'Junior']"
   ]
  },
  {
   "cell_type": "code",
   "execution_count": 23,
   "id": "6c6fcb98-1d3e-42ed-aee5-ef860c93e2eb",
   "metadata": {},
   "outputs": [
    {
     "name": "stdout",
     "output_type": "stream",
     "text": [
      "lang 0.9709505944546686\n",
      "tweets 0.9709505944546686\n",
      "phd 0.9709505944546686\n"
     ]
    }
   ],
   "source": [
    "for key in ['lang','tweets','phd'] :\n",
    "    print(key, partition_entropy_by(junior_inputs,key))"
   ]
  },
  {
   "cell_type": "markdown",
   "id": "5d1d3eed-ca87-4a94-ad40-a124370a15ea",
   "metadata": {},
   "source": [
    "- 재귀 함수 "
   ]
  },
  {
   "cell_type": "code",
   "execution_count": 24,
   "id": "1b2a37c5-1dfa-4972-b96a-6779597dc12a",
   "metadata": {},
   "outputs": [],
   "source": [
    "def func_test(x) :\n",
    "    if x<0 :\n",
    "        return\n",
    "    x= x-1\n",
    "    print(x)\n",
    "    return func_test(x)"
   ]
  },
  {
   "cell_type": "code",
   "execution_count": 25,
   "id": "e4e28653-6d2f-4255-80e4-9a6084ade116",
   "metadata": {},
   "outputs": [
    {
     "name": "stdout",
     "output_type": "stream",
     "text": [
      "9\n",
      "8\n",
      "7\n",
      "6\n",
      "5\n",
      "4\n",
      "3\n",
      "2\n",
      "1\n",
      "0\n",
      "-1\n"
     ]
    }
   ],
   "source": [
    "func_test(10)"
   ]
  },
  {
   "cell_type": "code",
   "execution_count": 26,
   "id": "ab829586-c164-43a2-833d-2136b11aa786",
   "metadata": {},
   "outputs": [],
   "source": [
    "# 그룹을 나눴어 \n",
    "def partition_by(inputs, attribute) :\n",
    "    groups = defaultdict(list)\n",
    "    for i in inputs :\n",
    "        key = i[0][attribute]\n",
    "        groups[key].append(i)\n",
    "    return groups"
   ]
  },
  {
   "cell_type": "code",
   "execution_count": 27,
   "id": "22f84067-3b59-49b1-bcda-2e2fc491ea98",
   "metadata": {},
   "outputs": [],
   "source": [
    "# 두 공식을 합치어 \n",
    "def partition_entropy_by(inputs, attribute) :\n",
    "    partitions = partition_by(inputs, attribute)\n",
    "    return partition_entropy(partitions.values())"
   ]
  },
  {
   "cell_type": "code",
   "execution_count": 28,
   "id": "d0b791a3-d1c9-45f7-8b6e-c80d819a598e",
   "metadata": {},
   "outputs": [],
   "source": [
    "def build_tree_id3(inputs, split_candidates=None) :\n",
    "    if split_candidates is None :\n",
    "        split_candidates = inputs[0][0].keys()\n",
    "        # ['label','long','tweets','phd']\n",
    "        # 트리의 맨위를 루트 \n",
    "        # 처음에 전체를 다 가지고 왓다 \n",
    "        \n",
    "    num_inputs = len(inputs) #14\n",
    "    num_trues = len([label for _, label in inputs if label]) \n",
    "    num_falses = num_inputs - num_trues \n",
    "    # 트루와 폴스 갯수 구한다 \n",
    "    \n",
    "    if not split_candidates :\n",
    "        return num_trues >= num_falses\n",
    "    \n",
    "    best_attribute = min(split_candidates, key=partial(partition_entropy_by, inputs))\n",
    "    \n",
    "    partitions = partition_by(inputs, best_attribute)\n",
    "    new_candidates = [a for a in split_candidates if a != best_attribute]\n",
    "    \n",
    "    subtrees = {attribute_value : build_tree_id3(subset, new_candidates) for attribute_value, subset in partitions.items()}\n",
    "    \n",
    "    \n",
    "    subtrees[None] = num_trues > num_falses\n",
    "    return best_attribute, subtr"
   ]
  },
  {
   "cell_type": "code",
   "execution_count": 29,
   "id": "d46fac03-8b4c-41ee-9fde-8a53f2bc0991",
   "metadata": {},
   "outputs": [
    {
     "data": {
      "text/plain": [
       "('level',\n",
       " {'Senior': ('tweets',\n",
       "   {'no': ('lang',\n",
       "     {'Java': ('phd', {'no': False, 'yes': False, None: False}),\n",
       "      'Python': ('phd', {'no': False, None: False}),\n",
       "      None: False}),\n",
       "    'yes': ('lang',\n",
       "     {'R': ('phd', {'no': True, None: True}),\n",
       "      'Python': ('phd', {'yes': True, None: True}),\n",
       "      None: True}),\n",
       "    None: False}),\n",
       "  'Mid': ('lang',\n",
       "   {'Python': ('tweets',\n",
       "     {'no': ('phd', {'no': True, 'yes': True, None: True}), None: True}),\n",
       "    'R': ('tweets', {'yes': ('phd', {'yes': True, None: True}), None: True}),\n",
       "    'Java': ('tweets', {'yes': ('phd', {'no': True, None: True}), None: True}),\n",
       "    None: True}),\n",
       "  'Junior': ('phd',\n",
       "   {'no': ('lang',\n",
       "     {'Python': ('tweets', {'no': True, 'yes': True, None: True}),\n",
       "      'R': ('tweets', {'yes': True, None: True}),\n",
       "      None: True}),\n",
       "    'yes': ('lang',\n",
       "     {'R': ('tweets', {'yes': False, None: False}),\n",
       "      'Python': ('tweets', {'no': False, None: False}),\n",
       "      None: False}),\n",
       "    None: True}),\n",
       "  None: True})"
      ]
     },
     "execution_count": 32,
     "metadata": {},
     "output_type": "execute_result"
    }
   ],
   "source": [
    "\n",
    "\n",
    "\n"
   ]
  },
  {
   "cell_type": "code",
   "execution_count": 37,
   "id": "fb13c0a8-cade-4eaf-a06e-03321ff1287e",
   "metadata": {},
   "outputs": [],
   "source": [
    "def classify(tree, x) :\n",
    "    if tree in [True, False] :\n",
    "        return tree\n",
    "    \n",
    "    attribute, subtree_dict = tree\n",
    "    # level,{}\n",
    "    \n",
    "    subtree_key = x[attribute]\n",
    "    #junior\n",
    "    \n",
    "    if subtree_key not in subtree_dict :\n",
    "        subtree_key = None\n",
    "        \n",
    "    subtree = subtree_dict[subtree_key]\n",
    "    \n",
    "    return classify(subtree, x)"
   ]
  },
  {
   "cell_type": "code",
   "execution_count": 39,
   "id": "8cb86ffa-569f-4842-881e-d7bbfef6b82a",
   "metadata": {},
   "outputs": [],
   "source": [
    "tree = build_tree_id3(inputs)"
   ]
  },
  {
   "cell_type": "code",
   "execution_count": 40,
   "id": "4bd68e8d-5250-4800-bc4d-75808ab57717",
   "metadata": {},
   "outputs": [
    {
     "data": {
      "text/plain": [
       "({'level': 'Senior', 'lang': 'Java', 'tweets': 'no', 'phd': 'no'}, False)"
      ]
     },
     "execution_count": 40,
     "metadata": {},
     "output_type": "execute_result"
    }
   ],
   "source": [
    "inputs[0]"
   ]
  },
  {
   "cell_type": "code",
   "execution_count": 41,
   "id": "fc64f23c-121a-4aba-ac57-4b621f07f493",
   "metadata": {},
   "outputs": [
    {
     "data": {
      "text/plain": [
       "True"
      ]
     },
     "execution_count": 41,
     "metadata": {},
     "output_type": "execute_result"
    }
   ],
   "source": [
    "classify(tree, {'level': 'Junior', 'lang': 'Java', 'tweets': 'yes', 'phd': 'no'})"
   ]
  },
  {
   "cell_type": "code",
   "execution_count": null,
   "id": "30b417f4-63f5-4ca7-8731-369769685bc3",
   "metadata": {},
   "outputs": [],
   "source": []
  },
  {
   "cell_type": "code",
   "execution_count": null,
   "id": "8d05ddb8-6a54-4d85-8466-6a25107d28db",
   "metadata": {},
   "outputs": [],
   "source": [
    "\n"
   ]
  },
  {
   "cell_type": "code",
   "execution_count": null,
   "id": "4fde443b-0383-4bf7-90d4-64a720e69444",
   "metadata": {},
   "outputs": [],
   "source": []
  },
  {
   "cell_type": "code",
   "execution_count": null,
   "id": "b9c5bb19-c07f-4839-9a81-6b185662e4e7",
   "metadata": {},
   "outputs": [],
   "source": []
  },
  {
   "cell_type": "code",
   "execution_count": null,
   "id": "9040f0c1-05fc-4745-ad8b-056053574904",
   "metadata": {},
   "outputs": [],
   "source": []
  },
  {
   "cell_type": "code",
   "execution_count": null,
   "id": "38ee3041-5439-48a6-ac49-51dbdf56f79b",
   "metadata": {},
   "outputs": [],
   "source": []
  },
  {
   "cell_type": "markdown",
   "id": "a6c87af4-6f87-4df6-b28c-5b56d5abd3ce",
   "metadata": {},
   "source": [
    "---"
   ]
  },
  {
   "cell_type": "code",
   "execution_count": 25,
   "id": "1f87fc9c-a73d-448c-80d3-280d1e1c1c63",
   "metadata": {},
   "outputs": [],
   "source": [
    "# defaultdict : 값이 없어도 매겨 질수있음\n",
    "temp = defaultdict(int)"
   ]
  },
  {
   "cell_type": "code",
   "execution_count": 26,
   "id": "9480e02c-1f81-4627-a11d-7a1aae0b0afb",
   "metadata": {},
   "outputs": [
    {
     "data": {
      "text/plain": [
       "0"
      ]
     },
     "execution_count": 26,
     "metadata": {},
     "output_type": "execute_result"
    }
   ],
   "source": [
    "temp['a']"
   ]
  },
  {
   "cell_type": "code",
   "execution_count": 27,
   "id": "64285c75-6271-462c-8663-6da1d8f3c9d5",
   "metadata": {},
   "outputs": [
    {
     "data": {
      "text/plain": [
       "defaultdict(int, {'a': 0})"
      ]
     },
     "execution_count": 27,
     "metadata": {},
     "output_type": "execute_result"
    }
   ],
   "source": [
    "temp"
   ]
  },
  {
   "cell_type": "code",
   "execution_count": 20,
   "id": "d0c65334-5836-427a-9a2c-b0f9fa40b7df",
   "metadata": {},
   "outputs": [],
   "source": [
    "#test = {}"
   ]
  },
  {
   "cell_type": "code",
   "execution_count": 21,
   "id": "2eb39ce7-3da8-43d5-aa9a-f2bfb6c96005",
   "metadata": {},
   "outputs": [],
   "source": [
    "#test['Senior'] = ['a']"
   ]
  },
  {
   "cell_type": "code",
   "execution_count": 22,
   "id": "7d2c8394-04d9-4836-8ec6-0edf846e3ed7",
   "metadata": {},
   "outputs": [],
   "source": [
    "#test['Senior'].append('b')"
   ]
  },
  {
   "cell_type": "code",
   "execution_count": 23,
   "id": "17ded5b0-f03e-4aab-b851-361212497dfa",
   "metadata": {},
   "outputs": [
    {
     "data": {
      "text/plain": [
       "{'Senior': ['a', 'b']}"
      ]
     },
     "execution_count": 23,
     "metadata": {},
     "output_type": "execute_result"
    }
   ],
   "source": [
    "#test"
   ]
  },
  {
   "cell_type": "markdown",
   "id": "88e178ba-7bd7-4e3d-bd3f-31e2bf2c927d",
   "metadata": {},
   "source": [
    "-----"
   ]
  },
  {
   "cell_type": "code",
   "execution_count": 33,
   "id": "7fd35729-e753-481e-a333-bbe6eada32d8",
   "metadata": {},
   "outputs": [
    {
     "data": {
      "text/plain": [
       "dict_keys(['level', 'lang', 'tweets', 'phd'])"
      ]
     },
     "execution_count": 33,
     "metadata": {},
     "output_type": "execute_result"
    }
   ],
   "source": [
    "inputs[0][0].keys()"
   ]
  },
  {
   "cell_type": "markdown",
   "id": "e5988636-1395-4122-b011-d8d1cafe4cc3",
   "metadata": {},
   "source": [
    "------"
   ]
  },
  {
   "cell_type": "code",
   "execution_count": null,
   "id": "a5641c74-4904-4196-8712-9c5d5bdf95f4",
   "metadata": {},
   "outputs": [],
   "source": []
  }
 ],
 "metadata": {
  "kernelspec": {
   "display_name": "Python 3 (ipykernel)",
   "language": "python",
   "name": "python3"
  },
  "language_info": {
   "codemirror_mode": {
    "name": "ipython",
    "version": 3
   },
   "file_extension": ".py",
   "mimetype": "text/x-python",
   "name": "python",
   "nbconvert_exporter": "python",
   "pygments_lexer": "ipython3",
   "version": "3.9.12"
  }
 },
 "nbformat": 4,
 "nbformat_minor": 5
}
