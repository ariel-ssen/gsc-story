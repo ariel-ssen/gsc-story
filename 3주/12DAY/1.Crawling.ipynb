{
 "cells": [
  {
   "cell_type": "code",
   "execution_count": 1,
   "id": "e395503a-6a8d-408e-9975-a9f0b191f599",
   "metadata": {},
   "outputs": [],
   "source": [
    "import requests"
   ]
  },
  {
   "cell_type": "code",
   "execution_count": 2,
   "id": "2e6d169d-e265-4c22-88e6-b60bae73f397",
   "metadata": {},
   "outputs": [],
   "source": [
    "url = 'https://www.koreabaseball.com/Record/Player/HitterBasic/BasicOld.aspx'"
   ]
  },
  {
   "cell_type": "code",
   "execution_count": 3,
   "id": "8f5f1e38-38e3-4c72-80bd-9135424fc285",
   "metadata": {},
   "outputs": [],
   "source": [
    "req = requests.get(url)"
   ]
  },
  {
   "cell_type": "code",
   "execution_count": 4,
   "id": "4c5789fe-7b9d-4d58-8040-fe1069dd82fa",
   "metadata": {
    "collapsed": true,
    "jupyter": {
     "outputs_hidden": true
    },
    "tags": []
   },
   "outputs": [
    {
     "data": {
      "text/plain": [
       "'\\r\\n\\r\\n<!DOCTYPE html>\\r\\n<html lang=\"ko\">\\r\\n<head><title>\\r\\n\\t기록실 | 기록 | KBO\\r\\n</title><meta http-equiv=\"Content-Type\" content=\"text/html; charset=utf-8\" /><meta http-equiv=\"Content-Script-Type\" content=\"text/javascript\" /><meta http-equiv=\"Content-Style-Type\" content=\"text/css\" /><meta http-equiv=\"X-UA-Compatible\" content=\"IE=edge, Chrome\" /><meta name=\"title\" content=\"KBO\" /><meta name=\"author\" content=\"스포츠투아이\" /><meta name=\"keywords\" content=\"KBO, 한국야구위원회, 프로야구, KBO 리그, 퓨처스리그, 프로야구순위, 프로야구 일정\" /><meta name=\"viewport\" content=\"width=1200\" />\\r\\n    <!-- OG -->\\r\\n    <meta property=\"og:type\" content=\"website\" /><meta property=\"og:title\" content=\"KBO 홈페이지\" /><meta property=\"og:description\" content=\"KBO, 한국야구위원회, 프로야구, KBO 리그, 퓨처스리그, 프로야구순위, 프로야구 일정\" /><meta property=\"og:image\" content=\"https://lgcxydabfbch3774324.cdn.ntruss.com/KBO_IMAGE/KBOHome/resources/images/common/open_graph_kbo_2022.png\" /><meta property=\"og:url\" content=\"https://www.koreabaseball.com/\" />\\r\\n\\r\\n\\t<link rel=\"shortcut icon\" type=\"image/x-icon\" href=\"//lgcxydabfbch3774324.cdn.ntruss.com/KBO_IMAGE/KBOHome/resources/images/common/favicon.ico\" />\\r\\n    <link href=\"/resources/css/font.css\" rel=\"stylesheet\" type=\"text/css\" />\\r\\n\\t<link rel=\"stylesheet\" type=\"text/css\" href=\"//lgcxydabfbch3774324.cdn.ntruss.com/KBO_IMAGE/KBOHome/resources/min/css/reset.min.css?version=20221028\" />\\r\\n\\t<link rel=\"stylesheet\" type=\"text/css\" href=\"//lgcxydabfbch3774324.cdn.ntruss.com/KBO_IMAGE/KBOHome/resources/min/css/common.min.css?version=20221028\" />\\r\\n\\t<link rel=\"stylesheet\" type=\"text/css\" href=\"//lgcxydabfbch3774324.cdn.ntruss.com/KBO_IMAGE/KBOHome/resources/min/css/layout.min.css?version=20221028\" />\\r\\n\\t<link rel=\"stylesheet\" type=\"text/css\" href=\"//lgcxydabfbch3774324.cdn.ntruss.com/KBO_IMAGE/KBOHome/resources/min/css/contents.min.css?version=20221028\" />\\r\\n    <link rel=\"stylesheet\" type=\"text/css\" href=\"//lgcxydabfbch3774324.cdn.ntruss.com/KBO_IMAGE/KBOHome/resources/min/css/jquery-ui.min.css?version=20221028\" />\\r\\n    <link rel=\"stylesheet\" type=\"text/css\" href=\"//lgcxydabfbch3774324.cdn.ntruss.com/KBO_IMAGE/KBOHome/resources/min/css/jquery-ui-theme.min.css?version=20221028\" />\\r\\n\\t<link rel=\"stylesheet\" type=\"text/css\" href=\"//lgcxydabfbch3774324.cdn.ntruss.com/KBO_IMAGE/KBOHome/resources/min/css/jquery.bxslider.min.css?version=20221028\" />\\r\\n\\r\\n\\t<script type=\"text/javascript\" charset=\"utf-8\" src=\"//lgcxydabfbch3774324.cdn.ntruss.com/KBO_IMAGE/KBOHome/resources/min/js/jquery-1.12.4.min.js?version=20221025\"></script>\\r\\n    <script type=\"text/javascript\" charset=\"utf-8\" src=\"//lgcxydabfbch3774324.cdn.ntruss.com/KBO_IMAGE/KBOHome/resources/min/js/jquery-migrate-1.1.1.min.js?version=20221025\"></script>\\r\\n    <script type=\"text/javascript\" charset=\"utf-8\" src=\"//lgcxydabfbch3774324.cdn.ntruss.com/KBO_IMAGE/KBOHome/resources/min/js/jquery-ui.min.js?version=20221025\"></script>\\r\\n\\t<script type=\"text/javascript\" charset=\"utf-8\" src=\"//lgcxydabfbch3774324.cdn.ntruss.com/KBO_IMAGE/KBOHome/resources/min/js/jquery.bxslider.min.js?version=20221025\"></script>\\r\\n    <script type=\"text/javascript\" charset=\"utf-8\" src=\"//lgcxydabfbch3774324.cdn.ntruss.com/KBO_IMAGE/KBOHome/resources/min/js/jquery.ui.datepicker-ko.min.js?version=20221025\"></script>\\r\\n    <script type=\"text/javascript\" charset=\"utf-8\" src=\"//lgcxydabfbch3774324.cdn.ntruss.com/KBO_IMAGE/KBOHome/resources/min/js/S2i.Common-1.0.1.min.js?version=20221025\"></script>\\r\\n    <script type=\"text/javascript\" charset=\"utf-8\" src=\"//lgcxydabfbch3774324.cdn.ntruss.com/KBO_IMAGE/KBOHome/resources/min/js/S2i.Paging-1.0.8.min.js?version=20221025\"></script>\\r\\n\\t<script type=\"text/javascript\" charset=\"utf-8\" src=\"//lgcxydabfbch3774324.cdn.ntruss.com/KBO_IMAGE/KBOHome/resources/min/js/common.min.js?version=20221025\"></script>\\r\\n    <script type=\"text/javascript\" charset=\"utf-8\" src=\"//lgcxydabfbch3774324.cdn.ntruss.com/KBO_IMAGE/KBOHome/resources/min/js/S2i.MakeTable-1.0.3.min.js?version=20221025\"></script>\\r\\n    <script type=\"text/javascript\" charset=\"utf-8\" src=\"//lgcxydabfbch3774324.cdn.ntruss.com/KBO_IMAGE/KBOHome/resources/min/js/bTogether.min.js?version=20221025\"></script>\\r\\n    \\r\\n\\t<!—[if lt IE 9]>\\r\\n\\t\\t<script src=\"//lgcxydabfbch3774324.cdn.ntruss.com/KBO_IMAGE/KBOHome/resources/min/js/html5shiv.min.js?version=20221025\"></script>\\r\\n\\t<![endif]—>\\r\\n\\t<!-- Google Tag Manager -->\\r\\n\\t<script>\\r\\n\\t\\t(function (w, d, s, l, i) {\\r\\n\\t\\t\\tw[l] = w[l] || []; w[l].push({\\r\\n\\t\\t\\t\\t\\'gtm.start\\':\\r\\n\\t\\t\\t\\t\\tnew Date().getTime(), event: \\'gtm.js\\'\\r\\n\\t\\t\\t}); var f = d.getElementsByTagName(s)[0],\\r\\n\\t\\t\\t\\tj = d.createElement(s), dl = l != \\'dataLayer\\' ? \\'&l=\\' + l : \\'\\'; j.async = true; j.src =\\r\\n\\t\\t\\t\\t\\t\\'https://www.googletagmanager.com/gtm.js?id=\\' + i + dl; f.parentNode.insertBefore(j, f);\\r\\n\\t\\t})(window, document, \\'script\\', \\'dataLayer\\', \\'GTM-K3BL64Q\\');\\r\\n\\t</script>\\r\\n\\t<!-- End Google Tag Manager -->\\r\\n    \\r\\n    <link type=\"text/css\" rel=\"stylesheet\" href=\"//lgcxydabfbch3774324.cdn.ntruss.com/KBO_IMAGE/KBOHome/resources/min/css/common_old.min.css?version=20221028\"/>\\r\\n    <link rel=\"stylesheet\" type=\"text/css\" href=\"//lgcxydabfbch3774324.cdn.ntruss.com/KBO_IMAGE/KBOHome/resources/min/css/sub.min.css?version=20221028\" />\\r\\n    \\r\\n\\t<link type=\"text/css\" rel=\"stylesheet\" href=\"//lgcxydabfbch3774324.cdn.ntruss.com/KBO_IMAGE/KBOHome/resources/min/css/Record.min.css?version=20221028\"/>\\r\\n    \\r\\n\\r\\n\\r\\n</head>\\r\\n<body>\\r\\n\\t<!-- Google Tag Manager (noscript) -->\\r\\n\\t<noscript><iframe src=\"https://www.googletagmanager.com/ns.html?id=GTM-K3BL64Q\"\\r\\n\\theight=\"0\" width=\"0\" style=\"display:none;visibility:hidden\"></iframe></noscript>\\r\\n\\t<!-- End Google Tag Manager (noscript) -->\\r\\n    <form method=\"post\" action=\"./BasicOld.aspx\" id=\"mainForm\">\\r\\n<input type=\"hidden\" name=\"__VIEWSTATE\" id=\"__VIEWSTATE\" value=\"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\" />\\r\\n\\r\\n\\r\\n<script src=\"/ScriptResource.axd?d=eLqvTZrSDFtYbPijNtyjIT6CVEgjpBaYOXOadsXTlFHYXIHUwPYcJXQzz3Z7lykZBuXl4A9Xj7n7yBoZ8IStMlsNtFc27j6WGyPVl81XsDWWuDpDofyRThhVLkxWNlX4IqkhRSTznXpsTOu2gxjlxeLlbk_PmW_CInh0qHnCDMiBW3zvAHoQSIWpasgKujn20&amp;t=ffffffffaa493ab8\" type=\"text/javascript\"></script>\\r\\n<script type=\"text/javascript\">\\r\\n//<![CDATA[\\r\\nif (typeof(Sys) === \\'undefined\\') throw new Error(\\'ASP.NET Ajax 클라이언트 쪽 프레임워크를 로드하지 못했습니다.\\');\\r\\n//]]>\\r\\n</script>\\r\\n\\r\\n<input type=\"hidden\" name=\"__VIEWSTATEGENERATOR\" id=\"__VIEWSTATEGENERATOR\" value=\"33D3A891\" />\\r\\n<input type=\"hidden\" name=\"__EVENTVALIDATION\" id=\"__EVENTVALIDATION\" value=\"/wEdAERz+xWQYGSFfSiUfes6jRObRc8CueumcEQeBh7AQ0QcAc3QpZG0WdQHnbTznhJMgoQXkfZ3eKVY/XA1XRpd2PLS+3NCxH5BFzTFUke2Ln5w4XITX9zAm2TulfA6kX9oC3Zn3O4oeuWhd8D/JCvwPZRyuu33LEDngY5uA9l/31FPKNMqdWuWHCxEIT6WjC5HuvRt/amVrfvX7YM5i0+ix+G2bKjNrIRYqQbZn6AzdCTXHj9jkv03RZMFkJ4LlItVG8FScN9cNnpWNx+XMdAdushKGP9T+6q8libABdW3ymnzLsM212rvQh71CUEtS9l04the1ZzMDrSxQi4jdbu/ubE6RtNrahrvsRN/LtkRXTxRLFkD3WWdA4mxMn7E0FNs+2M436KkpxQdo1oGVZc+Q5pyyZ/hCSO2eqGo2L1zgcIbiuDWjROg4UuzsebcGUzhFRIVNXnpoRAKe7SnRZk0WYkr75TX766VQxFIG0fS0oQtFzP/jkB0C2U4vNqpKt05Gk9qAWZlvtYyrShvS7mNj29HD6hf1tpA+XZvfJ3FO1ZyS7pBBhfzacp/t6H5ksqEDQDUUYL4MlmxKZvQlOd7OAp+Ju4KZ2t+H9zhzVxKdwO0FngObrI9pqD6B2iczr4vXyVmZt5/F5xuDeTrjSLHS2kmSWJAJ3sPxSmjawXcICPozS2uAdfWu0dEMbTA/K3CMil70JZQP4cRmMPEXI31TKsn87JdGpNmuYrg+3E4Vq2G5bbjKpl4LwHxHjdrNKBwqC45d4B4y5gubEiB1Q4MTx+MrT/fEQ3jZH33aRa47EJLIJ+za89w8ku4BFmFEPY+w4V/GXCKD8pdrIwhlObcqD5oPYPjpb5fKm2KSAjeocG1WZ6D1cNg0vy8T7QTt8gPNe7mJ/RSsb9+vetvzmrY1c1F65NUI27RCmDIEOwxtbAedn7cTxCCcDkv2WfzZJAhNfE6/Ak60tJL16F8Ap97yEqUFk6d5xL4xAHduU/ideG3+OsLpgzi52LVXF+jMcLJMban/vhRNMZEtg9Kq1/CVsBDmZ68J5R5w5fS4stafQLbTrJ3dFLjO/P6MUq5IOFpN0SEwKwjbwPdTXXJO/W/mw3bqsFs/IePeUpNfvrPNwEedRaFw7KQCRElfNbQHvQRR6I693d4m7eXE/53sQNLu2L0Ky2n2TgZNLW+2kQ3par4KMr0D2va9IJpvqnVTj847pWS6GQCkOcnPZBgnj5a2JUj8Ff0VwiGnNSN/ppZKDQrFl+Tz+DnTneKGCJVYGsB+LyUxDjhysaIDO+sap6cDF5Y5nyYNsqMQst2gd++Fp1r0VeyGVg3Y4Gbh670aESe6iEiBLKd/L+bUCRk2pGIClPRqUK6+mRsdxhnNCA+WG212rY7vOO7Ce+LEVgckbttP880DAoyDOlnWn5hlWrmZQBJTg8F0ZIMrtTFphxBzbdIObkd5VFbDVhpRhQsbO8qOETYcrFPAgAsGEz2BBGGaMMG\" />\\r\\n\\t    <!-- wrap -->\\r\\n\\t    <div id=\"wrap\">\\r\\n\\t\\t    <!-- header -->\\r\\n\\t\\t    <header>\\t\\r\\n\\t\\t\\t    <div id=\"gnb\" class=\"bgf3\">\\r\\n\\t\\t\\t\\t    <div class=\"gnb-wrap\">\\r\\n\\t\\t\\t\\t\\t\\t<img class=\"sponsor\" src=\"//lgcxydabfbch3774324.cdn.ntruss.com/KBO_IMAGE/KBOHome/resources/images/main/img_shinhan.png\" alt=\"신한은행\" />\\r\\n\\t\\t\\t\\t\\t\\t\\r\\n\\t\\t\\t\\t\\t    <ul class=\"menu\">\\r\\n                            \\r\\n\\t\\t\\t\\t\\t\\t    <li><a href=\"/Member/Login.aspx\">로그인</a></li>\\r\\n                            <li><a href=\"/Member/Join/Accessterms.aspx\">회원가입</a></li>\\r\\n                            \\r\\n\\t\\t\\t\\t\\t\\t    <li><a href=\"http://eng.koreabaseball.com/\">ENGLISH</a></li>\\t\\t\\t\\t\\t\\t\\r\\n\\t\\t\\t\\t\\t    </ul>\\r\\n\\t\\t\\t\\t\\t    <div class=\"search-area\">\\r\\n\\t\\t\\t\\t\\t\\t    <div class=\"search-box\">\\r\\n\\t\\t\\t\\t\\t\\t\\t    <input class=\"ipt-search\" type=\"text\" id=\"txtTopPlayerWord\" placeholder=\"선수 검색하기\" />\\r\\n\\t\\t\\t\\t\\t\\t\\t    <a href=\"#none;\" id=\"btnTopPlayerSearch\" class=\"btn-search\"><img src=\"//lgcxydabfbch3774324.cdn.ntruss.com/KBO_IMAGE/KBOHome/resources/images/common/btn_search.png\" alt=\"검색\" /></a>\\r\\n\\t\\t\\t\\t\\t\\t    </div>\\r\\n\\t\\t\\t\\t\\t\\t    <div id=\"player_search_area\" class=\"search-result\">\\r\\n\\t\\t\\t\\t\\t\\t\\t    <!-- <p class=\"null\">검색 결과가 없습니다.</p> -->\\r\\n\\t\\t\\t\\t\\t\\t\\t    \\r\\n\\t\\t\\t\\t\\t\\t    </div>\\r\\n\\t\\t\\t\\t\\t    </div>\\r\\n\\t\\t\\t\\t    </div>\\r\\n\\t\\t\\t    </div>\\r\\n\\t\\t\\t    <div class=\"wrapping lnb-wrap\">\\r\\n\\t\\t\\t\\t    <h1 class=\"logo\"><a href=\"/Default.aspx\"><img src=\"//lgcxydabfbch3774324.cdn.ntruss.com/KBO_IMAGE/KBOHome/resources/images/common/h1_logo.png\" alt=\"\" /></a></h1>\\r\\n\\t\\t\\t\\t    <nav>\\r\\n\\t\\t\\t\\t\\t    <ul id=\"lnb\">\\r\\n\\t\\t\\t\\t\\t\\t    <li>\\r\\n\\t\\t\\t\\t\\t\\t\\t    <a href=\"/Schedule/GameCenter/Main.aspx\">일정/결과</a>\\r\\n\\t\\t\\t\\t\\t\\t\\t    <div class=\"lnb-sub\">\\r\\n\\t\\t\\t\\t\\t\\t\\t\\t    <ul class=\"lnb01\">\\r\\n\\t\\t\\t\\t\\t\\t\\t\\t\\t    <li><a href=\"/Schedule/GameCenter/Main.aspx\">게임센터</a></li>\\r\\n\\t\\t\\t\\t\\t\\t\\t\\t\\t    <li><a href=\"/Schedule/ScoreBoard.aspx\">스코어보드</a></li>\\r\\n                                        \\r\\n                                        <li><a href=\"/Schedule/Schedule.aspx\">경기일정/결과</a></li>\\r\\n                                        \\r\\n\\t\\t\\t\\t\\t\\t\\t\\t\\t    <li><a href=\"/Schedule/Calendar.aspx\">월별일정/결과</a></li>\\r\\n\\t\\t\\t\\t\\t\\t\\t\\t\\t    <li><a href=\"/Schedule/International/AsianGames/Main2022.aspx\">국제대회</a></li>\\r\\n                                        <li><a href=\"/Schedule/Allstar/Game/Main2022.aspx\">KBO 올스타전</a></li>\\r\\n                                        <li><a href=\"/Schedule/Weather.aspx\">야구장 날씨</a></li>\\r\\n\\t\\t\\t\\t\\t\\t\\t\\t    </ul>\\r\\n\\t\\t\\t\\t\\t\\t\\t    </div>\\r\\n\\t\\t\\t\\t\\t\\t    </li>\\r\\n\\t\\t\\t\\t\\t\\t    <li>\\r\\n\\t\\t\\t\\t\\t\\t\\t    <a href=\"/TeamRank/TeamRank.aspx\">순위</a>\\r\\n\\t\\t\\t\\t\\t\\t\\t    <div class=\"lnb-sub\">\\r\\n\\t\\t\\t\\t\\t\\t\\t\\t    <ul class=\"lnb02\">\\r\\n\\t\\t\\t\\t\\t\\t\\t\\t\\t    <li><a href=\"/TeamRank/TeamRank.aspx\">팀순위</a></li>\\r\\n\\t\\t\\t                            <li><a href=\"/TeamRank/GraphDaily.aspx\">팀별 순위변동 그래프</a></li>\\r\\n\\t\\t\\t\\t\\t\\t\\t\\t    </ul>\\r\\n\\t\\t\\t\\t\\t\\t\\t    </div>\\r\\n\\t\\t\\t\\t\\t\\t    </li>\\r\\n\\t\\t\\t\\t\\t\\t    <li>\\r\\n\\t\\t\\t\\t\\t\\t\\t    <a href=\"/Record/Main.aspx\">기록</a>\\r\\n\\t\\t\\t\\t\\t\\t\\t    <div class=\"lnb-sub\">\\r\\n\\t\\t\\t\\t\\t\\t\\t\\t    <ul class=\"lnb03\">\\r\\n\\t\\t\\t\\t\\t\\t\\t\\t\\t    <li><a href=\"/Record/Main.aspx\">TOP5</a></li>\\r\\n\\t\\t\\t\\t\\t\\t\\t\\t\\t\\t<li><a href=\"/Record/Ranking/Week.aspx\">주간/월간 랭킹</a></li>\\r\\n\\t\\t\\t\\t\\t\\t\\t\\t\\t    <li><a href=\"/Record/Player/HitterBasic/Basic1.aspx\">기록실</a></li>\\r\\n\\t\\t\\t\\t\\t\\t\\t\\t\\t    <li><a href=\"/Record/Etc/HitVsPit.aspx\">투수 vs 타자</a></li>\\r\\n\\t\\t\\t\\t\\t\\t\\t\\t\\t    <li><a href=\"/Record/History/Top/Hitter.aspx\">역대기록실</a></li>\\r\\n                                        <li><a href=\"/Record/Expectation/WeekList.aspx\">주간/일간 예상 달성기록</a></li>\\r\\n\\t\\t\\t\\t\\t\\t\\t\\t\\t\\t<li><a href=\"/Record/RecordCorrect/RecordCorrect.aspx\">기록 정정 현황</a></li>\\r\\n\\t\\t\\t\\t\\t\\t\\t\\t    </ul>\\r\\n\\t\\t\\t\\t\\t\\t\\t    </div>\\r\\n\\t\\t\\t\\t\\t\\t    </li>\\r\\n\\t\\t\\t\\t\\t\\t    <li>\\r\\n\\t\\t\\t\\t\\t\\t\\t    <a href=\"/Player/Search.aspx\">선수</a>\\r\\n\\t\\t\\t\\t\\t\\t\\t    <div class=\"lnb-sub\">\\r\\n\\t\\t\\t\\t\\t\\t\\t\\t    <ul class=\"lnb04\">\\r\\n\\t\\t\\t\\t\\t\\t\\t\\t\\t    <li><a href=\"/Player/Search.aspx\">선수조회</a></li>\\r\\n\\t\\t\\t\\t\\t\\t\\t\\t\\t    <li><a href=\"/Player/Register.aspx\">선수등록현황</a></li>\\r\\n\\t\\t\\t\\t\\t\\t\\t\\t\\t    <li><a href=\"/Player/RegisterAll.aspx\">전체등록현황</a></li>\\r\\n\\t\\t\\t\\t\\t\\t\\t\\t\\t    <li><a href=\"/Player/CareerCertificate.aspx\">경력증명서 신청</a></li>\\r\\n\\t\\t\\t\\t\\t\\t\\t\\t\\t\\t<li><a href=\"/Player/Trade.aspx\">선수이동현황</a></li>\\r\\n\\t\\t\\t\\t\\t\\t\\t\\t\\t\\t<li style=\"font-size:13px;\"><a href=\"https://draft.koreabaseball.com/\" target=\"_blank\" >신인 지명 참가 신청</a></li>\\r\\n\\t\\t\\t\\t\\t\\t\\t\\t    </ul>\\r\\n\\t\\t\\t\\t\\t\\t\\t    </div>\\r\\n\\t\\t\\t\\t\\t\\t    </li>\\t\\t\\t\\t\\t\\t    \\r\\n\\t\\t\\t\\t\\t\\t    <li class=\"\">\\r\\n\\t\\t\\t\\t\\t\\t\\t    <a href=\"/News/BreakingNews/List.aspx\">NEWS</a>\\r\\n\\t\\t\\t\\t\\t\\t\\t    <div class=\"lnb-sub\">\\r\\n\\t\\t\\t\\t\\t\\t\\t\\t    <ul class=\"lnb05\">\\r\\n\\t\\t\\t\\t\\t\\t\\t\\t\\t\\t<li><a href=\"/News/BreakingNews/List.aspx\">NEWS</a></li>\\r\\n\\t\\t\\t\\t\\t\\t\\t\\t\\t\\t<li><a href=\"/News/NewsLetter/List.aspx\">KBO 뉴스레터</a></li>\\r\\n\\t\\t\\t\\t\\t\\t\\t\\t\\t\\t<li><a href=\"/News/Notice/List.aspx\">KBO 보도자료</a></li>\\r\\n                                        \\r\\n\\t\\t\\t\\t\\t\\t\\t\\t\\t</ul>\\r\\n\\t\\t\\t\\t\\t\\t\\t    </div>\\r\\n\\t\\t\\t\\t\\t\\t    </li>\\r\\n\\t\\t\\t\\t\\t\\t    <li>\\r\\n\\t\\t\\t\\t\\t\\t\\t    <a href=\"javascript:;\">KBO</a>\\r\\n\\t\\t\\t\\t\\t\\t\\t    <div class=\"lnb-sub lnb-style-all\">\\r\\n\\t\\t\\t\\t\\t\\t\\t\\t    <div class=\"wrapping lnb-all-wrap\">\\r\\n\\t\\t\\t\\t\\t\\t\\t\\t\\t    <h3>KBO</h3>\\r\\n\\t\\t\\t\\t\\t\\t\\t\\t\\t    <div class=\"lnb-all kbo01\">\\r\\n\\t\\t\\t\\t\\t\\t\\t\\t\\t\\t    <h4>HISTORY</h4>\\r\\n\\t\\t\\t\\t\\t\\t\\t\\t\\t\\t    <ul>\\r\\n\\t\\t\\t\\t\\t\\t\\t\\t\\t\\t\\t    <li><a href=\"/History/Crowd/GraphTeam.aspx\">관중현황</a></li>\\r\\n\\t\\t\\t\\t\\t\\t\\t\\t\\t\\t\\t    <li><a href=\"/History/Etc/PlayerPrize.aspx\">역대 개인수상</a></li>\\r\\n\\t\\t\\t\\t\\t\\t\\t\\t\\t\\t\\t    <li><a href=\"/History/Etc/GoldenGlove.aspx\">역대 골든글러브</a></li>\\r\\n\\t\\t\\t\\t\\t\\t\\t\\t\\t\\t\\t    <li><a href=\"/History/Etc/GameManage.aspx\">경기운영제도</a></li>\\r\\n\\t\\t\\t\\t\\t\\t\\t\\t\\t\\t\\t    <li><a href=\"/History/Etc/TeamHistory.aspx\">각 구단 변천사</a></li>\\r\\n\\t\\t\\t\\t\\t\\t\\t\\t\\t\\t    </ul>\\r\\n\\t\\t\\t\\t\\t\\t\\t\\t\\t    </div>\\r\\n\\t\\t\\t\\t\\t\\t\\t\\t\\t    <div class=\"lnb-all kbo02\">\\r\\n\\t\\t\\t\\t\\t\\t\\t\\t\\t\\t    <h4>KBO TV</h4>\\r\\n\\t\\t\\t\\t\\t\\t\\t\\t\\t\\t    <ul>\\r\\n\\t\\t\\t\\t\\t\\t\\t\\t\\t\\t\\t    <li><a href=\"/KboTv/Highlight/List.aspx\">하이라이트</a></li>\\r\\n\\t\\t\\t\\t\\t\\t\\t\\t\\t\\t\\t\\t<li><a href=\"/KboTv/WeeklyLineUp/List.aspx\">위클리 베스트 라인업</a></li>\\r\\n\\t\\t\\t\\t\\t\\t\\t\\t\\t\\t\\t    <li><a href=\"/KboTv/MonthMvp/List.aspx\">월간MVP</a></li>\\r\\n\\t\\t\\t\\t\\t\\t\\t\\t\\t\\t\\t    <li><a href=\"/KboTv/Legend/List.aspx\">레전드 올스타 동영상</a></li>\\r\\n\\t\\t\\t\\t\\t\\t\\t\\t\\t\\t\\t    <li><a href=\"/KboTv/Event/List.aspx\">KBO 공식 영상</a></li>\\r\\n\\t\\t\\t\\t\\t\\t\\t\\t\\t\\t\\t    <li><a href=\"/KboTv/VeteranInterview/List.aspx\">야구 원로 인터뷰</a></li>\\r\\n\\t\\t\\t\\t\\t\\t\\t\\t\\t\\t    </ul>\\r\\n\\t\\t\\t\\t\\t\\t\\t\\t\\t    </div>\\t\\r\\n\\t\\t\\t\\t\\t\\t\\t\\t\\t    <div class=\"lnb-all kbo03\">\\r\\n\\t\\t\\t\\t\\t\\t\\t\\t\\t\\t    <h4>게시판</h4>\\r\\n\\t\\t\\t\\t\\t\\t\\t\\t\\t\\t    <ul>\\r\\n\\t\\t\\t\\t\\t\\t\\t\\t\\t\\t\\t    <li><a href=\"/Board/Notice/List.aspx\">NOTICE</a></li>\\r\\n\\t\\t\\t\\t\\t\\t\\t\\t\\t\\t\\t    <li><a href=\"/Board/Faqs/List.aspx\">자주하는질문</a></li>\\r\\n\\t\\t\\t\\t\\t\\t\\t\\t\\t\\t\\t    \\r\\n\\t\\t\\t\\t\\t\\t\\t\\t\\t\\t\\t    \\r\\n\\t\\t\\t\\t\\t\\t\\t\\t\\t\\t\\t    \\r\\n\\t\\t\\t\\t\\t\\t\\t\\t\\t\\t\\t\\t\\r\\n\\t\\t\\t\\t\\t\\t\\t\\t\\t\\t\\t\\t<li><a href=\"/Board/UnivMarketer/VideoList.aspx\">대학생 마케터</a></li>\\r\\n\\t\\t\\t\\t\\t\\t\\t\\t\\t\\t\\t\\t<li class=\"lnbDraft\"><a href=\"/Event/Etc/Draft.aspx\">신인 드래프트</a></li>\\r\\n\\t\\t\\t\\t\\t\\t\\t\\t\\t\\t    </ul>\\r\\n\\t\\t\\t\\t\\t\\t\\t\\t\\t    </div>\\t\\r\\n\\t\\t\\t\\t\\t\\t\\t\\t\\t    <div class=\"lnb-all kbo04\">\\r\\n\\t\\t\\t\\t\\t\\t\\t\\t\\t\\t    <h4>자료실</h4>\\r\\n\\t\\t\\t\\t\\t\\t\\t\\t\\t\\t    <ul>\\r\\n\\t\\t\\t\\t\\t\\t\\t\\t\\t\\t\\t    \\r\\n\\t\\t\\t\\t                                <li><a href=\"/Reference/Ebook/EbookPublication.aspx\">E-BOOK</a></li>\\r\\n\\t\\t\\t\\t                                <li><a href=\"/Reference/OnlineLecture/List.aspx\">초급자용 사이버야구교실</a></li>\\r\\n\\t\\t\\t\\t                                <li><a href=\"/Reference/Etc/GameRule.aspx\">경기규칙</a></li>\\r\\n\\t\\t\\t\\t\\t\\t\\t\\t\\t\\t    </ul>\\r\\n\\t\\t\\t\\t\\t\\t\\t\\t\\t    </div>\\t\\r\\n\\t\\t\\t\\t\\t\\t\\t\\t\\t    <div class=\"lnb-all kbo05\">\\r\\n\\t\\t\\t\\t\\t\\t\\t\\t\\t\\t    <h4>ABOUT KBO</h4>\\r\\n\\t\\t\\t\\t\\t\\t\\t\\t\\t\\t    <ul>\\r\\n\\t\\t\\t\\t\\t\\t\\t\\t\\t\\t\\t    <li><a href=\"/About/Etc/TeamInfo.aspx\">구단 소개</a></li>\\r\\n\\t\\t\\t\\t\\t\\t\\t\\t\\t\\t\\t    <li><a href=\"/About/Group/Activity.aspx\">조직 및 활동</a></li>\\r\\n                                                \\r\\n\\t\\t\\t\\t\\t\\t\\t\\t\\t\\t\\t\\t<li><a href=\"/About/Logo/Logo.aspx\">KBO 로고</a></li>\\r\\n\\t\\t\\t\\t\\t\\t\\t\\t\\t\\t\\t    \\r\\n\\t\\t\\t\\t\\t\\t\\t\\t\\t\\t\\t    <li><a href=\"/About/Etc/Map.aspx\">약도 / 관람료</a></li>\\r\\n\\t\\t\\t\\t\\t\\t\\t\\t\\t\\t\\t    <li><a href=\"/About/Committee/OrganizationChart.aspx\">기록위원회</a></li>\\r\\n                                                <li><a href=\"http://www.cleankbo.com/\" target=\"_blank\">클린베이스볼센터</a></li>\\r\\n\\t\\t\\t\\t\\t\\t\\t\\t\\t\\t    </ul>\\r\\n\\t\\t\\t\\t\\t\\t\\t\\t\\t    </div>\\t\\r\\n\\t\\t\\t\\t\\t\\t\\t\\t\\t    <div class=\"lnb-all kbo06\">\\r\\n\\t\\t\\t\\t\\t\\t\\t\\t\\t\\t    <h4>주요 사업/행사</h4>\\r\\n\\t\\t\\t\\t\\t\\t\\t\\t\\t\\t    <ul>\\r\\n\\t\\t\\t\\t\\t\\t\\t\\t\\t\\t\\t    <li><a href=\"/Event/Etc/TimeLine.aspx\">KBO 타임라인</a></li>                                                \\r\\n\\t\\t\\t\\t\\t\\t\\t\\t\\t\\t\\t    <li><a href=\"/Event/Contribution/Service2019.aspx\">KBO 사회공헌</a></li>\\r\\n                                                <li><a href=\"/Event/RecordClass/Professional.aspx\">기록강습회</a></li>\\r\\n\\t\\t\\t\\t\\t\\t\\t\\t\\t\\t\\t    <li><a href=\"/Event/WinterMeeting/WinterMeeting2019.aspx\">KBO 윈터미팅</a></li> <!-- 20180417 KBO 요청 임시삭제 -->\\r\\n\\t\\t\\t\\t\\t\\t\\t\\t\\t\\t\\t    <li><a href=\"/Event/Etc/SafeGuide.aspx\">KBO 경기장 안전정책</a></li>\\r\\n\\t\\t\\t\\t\\t\\t\\t\\t\\t\\t\\t\\t<li><a href=\"/Event/Etc/SaveSacrifice.aspx\">Save & Sacrifice</a></li>\\r\\n\\t\\t\\t\\t\\t\\t\\t\\t\\t\\t\\t\\t\\r\\n\\t\\t\\t\\t\\t\\t\\t\\t\\t\\t    </ul>\\r\\n\\t\\t\\t\\t\\t\\t\\t\\t\\t    </div>\\r\\n\\t\\t\\t\\t\\t\\t\\t\\t    </div>\\r\\n\\t\\t\\t\\t\\t\\t\\t\\t    \\r\\n\\t\\t\\t\\t\\t\\t\\t    </div>\\r\\n\\t\\t\\t\\t\\t\\t    </li>\\r\\n\\t\\t\\t\\t\\t\\t\\t<li class=\"futures\">\\r\\n\\t\\t\\t\\t\\t\\t\\t    <a href=\"/Futures/Main.aspx\">퓨처스리그</a>\\r\\n\\t\\t\\t\\t\\t\\t\\t    \\t\\t\\t\\t\\r\\n\\t\\t\\t\\t\\t\\t    </li>\\r\\n\\t\\t\\t\\t\\t\\t\\t<li id=\"market\" class=\"market\"><a href=\"https://www.kbomarket.com/\" target=\"_blank\">KBO 마켓</a></li>\\r\\n\\t\\t\\t\\t\\t\\t\\t<li id=\"anniversary\" class=\"anniversary\"><a href=\"/Anniversary/Legend40.aspx\">레전드 40</a></li>\\r\\n\\t\\t\\t\\t\\t\\t    <li id=\"lnbAll\">\\r\\n\\t\\t\\t\\t\\t\\t\\t    <a href=\"javascript:;\">전체 메뉴</a>\\r\\n\\t\\t\\t\\t\\t\\t\\t    <div class=\"lnb-sub lnb-style-all\">\\r\\n\\t\\t\\t\\t\\t\\t\\t\\t    <div class=\"wrapping lnb-all-wrap\">\\r\\n\\t\\t\\t\\t\\t\\t\\t\\t\\t    <div class=\"line line01\">\\r\\n\\t\\t\\t\\t\\t\\t\\t\\t\\t\\t    <h3>전체 메뉴</h3>\\r\\n\\t\\t\\t\\t\\t\\t\\t\\t\\t\\t    <div class=\"lnb-all menu01\">\\r\\n\\t\\t\\t\\t\\t\\t\\t\\t\\t\\t\\t    <h4>일정/결과</h4>\\r\\n\\t\\t\\t\\t\\t\\t\\t\\t\\t\\t\\t    <ul>\\r\\n\\t\\t\\t\\t\\t\\t\\t\\t\\t\\t\\t\\t    <li><a href=\"/Schedule/GameCenter/Main.aspx\">게임센터</a></li>\\r\\n\\t\\t\\t\\t\\t\\t\\t\\t\\t                <li><a href=\"/Schedule/ScoreBoard.aspx\">스코어보드</a></li>\\r\\n\\t\\t\\t\\t\\t\\t\\t\\t\\t                \\r\\n                                                    <li><a href=\"/Schedule/Schedule.aspx\">경기일정/결과</a></li>\\r\\n                                                    \\r\\n\\t\\t\\t\\t\\t\\t\\t\\t\\t                <li><a href=\"/Schedule/Calendar.aspx\">월별일정/결과</a></li>\\r\\n\\t\\t\\t\\t\\t\\t\\t\\t\\t                <li><a href=\"/Schedule/International/AsianGames/Main2022.aspx\">국제대회</a></li>\\r\\n                                                    <li><a href=\"/Schedule/Allstar/Game/Main2022.aspx\">KBO 올스타전</a></li>\\r\\n\\t\\t\\t\\t\\t\\t\\t\\t\\t\\t\\t\\t\\t<li><a href=\"/Schedule/Weather.aspx\">야구장 날씨</a></li>\\r\\n\\t\\t\\t\\t\\t\\t\\t\\t\\t\\t\\t    </ul>\\r\\n\\t\\t\\t\\t\\t\\t\\t\\t\\t\\t    </div>\\r\\n\\t\\t\\t\\t\\t\\t\\t\\t\\t\\t    <div class=\"lnb-all menu02\">\\r\\n\\t\\t\\t\\t\\t\\t\\t\\t\\t\\t\\t    <h4>순위</h4>\\r\\n\\t\\t\\t\\t\\t\\t\\t\\t\\t\\t\\t    <ul>\\r\\n\\t\\t\\t\\t\\t\\t\\t\\t\\t\\t\\t\\t    <li><a href=\"/TeamRank/TeamRank.aspx\">팀순위</a></li>\\r\\n\\t\\t\\t                                        <li><a href=\"/TeamRank/GraphDaily.aspx\">팀별 순위변동 그래프</a></li>\\r\\n\\t\\t\\t\\t\\t\\t\\t\\t\\t\\t\\t    </ul>\\r\\n\\t\\t\\t\\t\\t\\t\\t\\t\\t\\t    </div>\\t\\r\\n\\t\\t\\t\\t\\t\\t\\t\\t\\t\\t    <div class=\"lnb-all menu03\">\\r\\n\\t\\t\\t\\t\\t\\t\\t\\t\\t\\t\\t    <h4>기록</h4>\\r\\n\\t\\t\\t\\t\\t\\t\\t\\t\\t\\t\\t    <ul>\\r\\n\\t\\t\\t\\t\\t\\t\\t\\t\\t\\t\\t\\t    <li><a href=\"/Record/Main.aspx\">TOP5</a></li>\\r\\n\\t\\t\\t\\t\\t\\t\\t\\t\\t\\t\\t\\t\\t<li><a href=\"/Record/Ranking/Week.aspx\">주간/월간 랭킹</a></li>\\r\\n\\t\\t\\t\\t\\t\\t\\t\\t\\t                <li><a href=\"/Record/Player/HitterBasic/Basic1.aspx\">기록실</a></li>\\r\\n\\t\\t\\t\\t\\t\\t\\t\\t\\t                <li><a href=\"/Record/Etc/HitVsPit.aspx\">투수 vs 타자</a></li>\\r\\n\\t\\t\\t\\t\\t\\t\\t\\t\\t                <li><a href=\"/Record/History/Top/Hitter.aspx\">역대기록실</a></li>\\r\\n                                                    <li class=\"menu0305\"><a href=\"/Record/Expectation/WeekList.aspx\">주간/일간 예상 달성기록</a></li>\\r\\n\\t\\t\\t\\t\\t\\t\\t\\t\\t\\t\\t\\t\\t<li><a href=\"/Record/RecordCorrect/RecordCorrect.aspx\">기록 정정 현황</a></li>\\r\\n\\t\\t\\t\\t\\t\\t\\t\\t\\t\\t\\t    </ul>\\r\\n\\t\\t\\t\\t\\t\\t\\t\\t\\t\\t    </div>\\t\\r\\n\\t\\t\\t\\t\\t\\t\\t\\t\\t\\t    <div class=\"lnb-all menu04\">\\r\\n\\t\\t\\t\\t\\t\\t\\t\\t\\t\\t\\t    <h4>선수</h4>\\r\\n\\t\\t\\t\\t\\t\\t\\t\\t\\t\\t\\t    <ul>\\r\\n\\t\\t\\t\\t\\t\\t\\t\\t\\t\\t\\t\\t    <li><a href=\"/Player/Search.aspx\">선수조회</a></li>\\r\\n\\t\\t\\t\\t\\t\\t\\t\\t\\t                <li><a href=\"/Player/Register.aspx\">선수등록현황</a></li>\\r\\n\\t\\t\\t\\t\\t\\t\\t\\t\\t                <li><a href=\"/Player/RegisterAll.aspx\">전체등록현황</a></li>\\r\\n\\t\\t\\t\\t\\t\\t\\t\\t\\t                <li><a href=\"/Player/CareerCertificate.aspx\">경력증명서 신청</a></li>\\r\\n\\t\\t\\t\\t\\t\\t\\t\\t\\t\\t\\t\\t\\t<li><a href=\"/Player/Trade.aspx\">선수이동현황</a></li>\\r\\n\\t\\t\\t\\t\\t\\t\\t\\t\\t\\t\\t\\t\\t<li><a href=\"https://draft.koreabaseball.com/\" target=\"_blank\">신인 지명 참가 신청</a></li>\\r\\n\\t\\t\\t\\t\\t\\t\\t\\t\\t\\t\\t    </ul>\\r\\n\\t\\t\\t\\t\\t\\t\\t\\t\\t\\t    </div>\\t\\r\\n\\t\\t\\t\\t\\t\\t\\t\\t\\t\\t    <div class=\"lnb-all menu05\">\\r\\n\\t\\t\\t\\t\\t\\t\\t\\t\\t\\t\\t    <h4>퓨처스리그</h4>\\r\\n\\t\\t\\t\\t\\t\\t\\t\\t\\t\\t\\t    <ul>\\r\\n\\t\\t\\t\\t\\t\\t\\t\\t\\t\\t\\t\\t    <li><a href=\"/Futures/Schedule/GameList.aspx\">경기일정/결과</a></li>\\r\\n\\t\\t\\t\\t\\t\\t\\t\\t\\t\\t\\t\\t    <li><a href=\"/Futures/TeamRank/North.aspx\">팀순위</a></li>\\r\\n\\t\\t\\t\\t\\t\\t\\t\\t\\t\\t\\t\\t    <li><a href=\"/Futures/Top/Main.aspx\">TOP5</a></li>\\r\\n\\t\\t\\t\\t\\t\\t\\t\\t\\t\\t\\t\\t    <li><a href=\"/Futures/Player/Hitter.aspx\">기록실</a></li>\\r\\n\\t\\t\\t\\t\\t\\t\\t\\t\\t\\t\\t\\t\\t<li><a href=\"/Futures/Player/Register.aspx\">선수등록현황</a></li>\\r\\n\\t\\t\\t\\t\\t\\t\\t\\t\\t\\t\\t\\t    \\t\\t\\t\\t\\t\\t\\t\\t\\t\\t\\t\\t\\r\\n\\t\\t\\t\\t\\t\\t\\t\\t\\t\\t\\t    </ul>\\r\\n\\t\\t\\t\\t\\t\\t\\t\\t\\t\\t    </div>\\t\\r\\n\\t\\t\\t\\t\\t\\t\\t\\t\\t\\t    <div class=\"lnb-all menu06\">\\r\\n\\t\\t\\t\\t\\t\\t\\t\\t\\t\\t\\t    <h4>NEWS</h4>\\r\\n\\t\\t\\t\\t\\t\\t\\t\\t\\t\\t\\t    <ul>\\r\\n\\t\\t\\t\\t\\t\\t\\t\\t\\t\\t\\t\\t    <li><a href=\"/News/BreakingNews/List.aspx\">NEWS</a></li>\\r\\n\\t\\t\\t\\t\\t\\t\\t\\t\\t\\t\\t\\t\\t<li><a href=\"/News/NewsLetter/List.aspx\">KBO 뉴스레터</a></li>\\r\\n\\t\\t\\t\\t\\t\\t\\t\\t\\t\\t            <li><a href=\"/News/Notice/List.aspx\">KBO 보도자료</a></li>\\r\\n                                                    \\r\\n\\t\\t\\t\\t\\t\\t\\t\\t\\t\\t\\t    </ul>\\r\\n\\t\\t\\t\\t\\t\\t\\t\\t\\t\\t    </div>\\r\\n\\t\\t\\t\\t\\t\\t\\t\\t\\t    </div>\\r\\n\\t\\t\\t\\t\\t\\t\\t\\t\\t    <div class=\"line line02\">\\r\\n\\t\\t\\t\\t\\t\\t\\t\\t\\t\\t    <h3>KBO</h3>\\r\\n\\t\\t\\t\\t\\t\\t\\t\\t\\t\\t    <div class=\"lnb-all menu07\">\\r\\n\\t\\t\\t\\t\\t\\t\\t\\t\\t\\t\\t    <h4>HISTORY</h4>\\r\\n\\t\\t\\t\\t\\t\\t\\t\\t\\t\\t\\t    <ul>\\r\\n                                                    <li><a href=\"/History/Crowd/GraphTeam.aspx\">관중현황</a></li>\\r\\n\\t\\t\\t\\t\\t\\t\\t\\t\\t\\t\\t        <li><a href=\"/History/Etc/PlayerPrize.aspx\">역대 개인수상</a></li>\\r\\n\\t\\t\\t\\t\\t\\t\\t\\t\\t\\t\\t        <li><a href=\"/History/Etc/GoldenGlove.aspx\">역대 골든글러브</a></li>\\r\\n\\t\\t\\t\\t\\t\\t\\t\\t\\t\\t\\t        <li><a href=\"/History/Etc/GameManage.aspx\">경기운영제도</a></li>\\r\\n\\t\\t\\t\\t\\t\\t\\t\\t\\t\\t\\t        <li><a href=\"/History/Etc/TeamHistory.aspx\">각 구단 변천사</a></li>\\r\\n\\t\\t\\t\\t\\t\\t\\t\\t\\t\\t\\t    </ul>\\r\\n\\t\\t\\t\\t\\t\\t\\t\\t\\t\\t    </div>\\r\\n\\t\\t\\t\\t\\t\\t\\t\\t\\t\\t    <div class=\"lnb-all menu08\">\\r\\n\\t\\t\\t\\t\\t\\t\\t\\t\\t\\t\\t    <h4>KBO TV</h4>\\r\\n\\t\\t\\t\\t\\t\\t\\t\\t\\t\\t\\t    <ul>\\r\\n\\t\\t\\t\\t\\t\\t\\t\\t\\t\\t\\t\\t    <li><a href=\"/KboTv/Highlight/List.aspx\">하이라이트</a></li>\\r\\n\\t\\t\\t\\t\\t\\t\\t\\t\\t\\t\\t\\t\\t<li><a href=\"/KboTv/WeeklyLineUp/List.aspx\">위클리 베스트 라인업</a></li>\\r\\n\\t\\t\\t\\t\\t\\t\\t\\t\\t\\t\\t        \\r\\n\\t\\t\\t\\t\\t\\t\\t\\t\\t\\t\\t        \\r\\n\\t\\t\\t\\t\\t\\t\\t\\t\\t\\t\\t        \\r\\n\\t\\t\\t\\t\\t\\t\\t\\t\\t\\t\\t        \\r\\n\\t\\t\\t\\t\\t\\t\\t\\t\\t\\t\\t    </ul>\\r\\n\\t\\t\\t\\t\\t\\t\\t\\t\\t\\t    </div>\\t\\r\\n\\t\\t\\t\\t\\t\\t\\t\\t\\t\\t    <div class=\"lnb-all menu09\">\\r\\n\\t\\t\\t\\t\\t\\t\\t\\t\\t\\t\\t    <h4>게시판</h4>\\r\\n\\t\\t\\t\\t\\t\\t\\t\\t\\t\\t\\t    <ul>\\r\\n\\t\\t\\t\\t\\t\\t\\t\\t\\t\\t\\t\\t    <li><a href=\"/Board/Notice/List.aspx\">NOTICE</a></li>\\r\\n\\t\\t\\t\\t\\t\\t\\t\\t\\t\\t\\t        <li><a href=\"/Board/Faqs/List.aspx\">자주하는질문</a></li>\\r\\n\\t\\t\\t\\t\\t\\t\\t\\t\\t\\t\\t       \\r\\n\\t\\t\\t\\t\\t\\t\\t\\t\\t\\t\\t        \\r\\n\\t\\t\\t\\t\\t\\t\\t\\t\\t\\t\\t        \\r\\n\\t\\t\\t\\t\\t\\t\\t\\t\\t\\t\\t\\t\\t\\r\\n\\t\\t\\t\\t\\t\\t\\t\\t\\t\\t\\t\\t\\t<li><a href=\"/Board/UnivMarketer/VideoList.aspx\">대학생 마케터</a></li>\\r\\n\\t\\t\\t\\t\\t\\t\\t\\t\\t\\t\\t\\t\\t<li class=\"lnbDraft\"><a href=\"/Event/Etc/Draft.aspx\">신인 드래프트</a></li>\\r\\n\\t\\t\\t\\t\\t\\t\\t\\t\\t\\t\\t    </ul>\\r\\n\\t\\t\\t\\t\\t\\t\\t\\t\\t\\t    </div>\\t\\r\\n\\t\\t\\t\\t\\t\\t\\t\\t\\t\\t    <div class=\"lnb-all menu10 \">\\r\\n\\t\\t\\t\\t\\t\\t\\t\\t\\t\\t\\t    <h4>자료실</h4>\\r\\n\\t\\t\\t\\t\\t\\t\\t\\t\\t\\t\\t    <ul>\\r\\n\\t\\t\\t\\t\\t\\t\\t\\t\\t\\t\\t\\t    \\r\\n\\t\\t\\t\\t                                    <li><a href=\"/Reference/Ebook/EbookPublication.aspx\">E-BOOK</a></li>\\r\\n\\t\\t\\t\\t                                    <li><a href=\"/Reference/OnlineLecture/List.aspx\">초급자용 사이버야구교실</a></li>\\r\\n\\t\\t\\t\\t                                    <li><a href=\"/Reference/Etc/GameRule.aspx\">경기규칙</a></li>\\r\\n\\t\\t\\t\\t\\t\\t\\t\\t\\t\\t\\t    </ul>\\r\\n\\t\\t\\t\\t\\t\\t\\t\\t\\t\\t    </div>\\t\\r\\n\\t\\t\\t\\t\\t\\t\\t\\t\\t\\t    <div class=\"lnb-all menu11\">\\r\\n\\t\\t\\t\\t\\t\\t\\t\\t\\t\\t\\t    <h4>ABOUT KBO</h4>\\r\\n\\t\\t\\t\\t\\t\\t\\t\\t\\t\\t\\t    <ul>\\r\\n\\t\\t\\t\\t\\t\\t\\t\\t\\t\\t\\t\\t    <li><a href=\"/About/Etc/TeamInfo.aspx\">구단 소개</a></li>\\r\\n\\t\\t\\t\\t\\t\\t\\t\\t\\t\\t\\t        <li><a href=\"/About/Group/Activity.aspx\">조직 및 활동</a></li>\\r\\n                                                    \\r\\n\\t\\t\\t\\t\\t\\t\\t\\t\\t\\t\\t\\t\\t<li><a href=\"/About/Logo/Logo.aspx\">KBO 로고</a></li>\\r\\n\\t\\t\\t\\t\\t\\t\\t\\t\\t\\t\\t        \\r\\n\\t\\t\\t\\t\\t\\t\\t\\t\\t\\t\\t        <li><a href=\"/About/Etc/Map.aspx\">약도 / 관람료</a></li>\\r\\n\\t\\t\\t\\t\\t\\t\\t\\t\\t\\t\\t        <li><a href=\"/About/Committee/OrganizationChart.aspx\">기록위원회</a></li>\\r\\n                                                    <li><a href=\"http://www.cleankbo.com/\" target=\"_blank\">클린베이스볼센터</a></li>\\r\\n\\t\\t\\t\\t\\t\\t\\t\\t\\t\\t\\t    </ul>\\r\\n\\t\\t\\t\\t\\t\\t\\t\\t\\t\\t    </div>\\t\\r\\n\\t\\t\\t\\t\\t\\t\\t\\t\\t\\t    <div class=\"lnb-all menu12\">\\r\\n\\t\\t\\t\\t\\t\\t\\t\\t\\t\\t\\t    <h4>주요 사업/행사</h4>\\r\\n\\t\\t\\t\\t\\t\\t\\t\\t\\t\\t\\t    <ul>\\r\\n\\t\\t\\t\\t\\t\\t\\t\\t\\t\\t\\t\\t    <li><a href=\"/Event/Etc/TimeLine.aspx\">KBO 타임라인</a></li>                                                    \\r\\n\\t\\t\\t\\t\\t\\t\\t\\t\\t\\t\\t        <li><a href=\"/Event/Contribution/Service2019.aspx\">KBO 사회공헌</a></li>\\r\\n                                                    <li><a href=\"/Event/RecordClass/Professional.aspx\">기록강습회</a></li>\\r\\n\\t\\t\\t\\t\\t\\t\\t\\t\\t\\t\\t         <li><a href=\"/Event/WinterMeeting/WinterMeeting2019.aspx\">KBO 윈터미팅</a></li>  <!-- 20180417 KBO 요청 임시삭제 -->\\r\\n\\t\\t\\t\\t\\t\\t\\t\\t\\t\\t\\t        <li><a href=\"/Event/Etc/SafeGuide.aspx\">KBO 경기장 안전정책</a></li>\\r\\n\\t\\t\\t\\t\\t\\t\\t\\t\\t\\t\\t\\t\\t\\r\\n\\t\\t\\t\\t\\t\\t\\t\\t\\t\\t\\t\\t\\t\\r\\n\\t\\t\\t\\t\\t\\t\\t\\t\\t\\t\\t    </ul>\\r\\n\\t\\t\\t\\t\\t\\t\\t\\t\\t\\t    </div>\\r\\n\\t\\t\\t\\t\\t\\t\\t\\t\\t    </div>\\r\\n\\t\\t\\t\\t\\t\\t\\t\\t    </div>\\r\\n\\t\\t\\t\\t\\t\\t\\t\\t    <div class=\"btn-close\">\\r\\n\\t\\t\\t\\t\\t\\t\\t\\t\\t    <a href=\"javascript:;\">\\r\\n\\t\\t\\t\\t\\t\\t\\t\\t\\t\\t    <img src=\"//lgcxydabfbch3774324.cdn.ntruss.com/KBO_IMAGE/KBOHome/resources/images/common/btn_close_fff.png\" alt=\"\" />\\r\\n\\t\\t\\t\\t\\t\\t\\t\\t\\t\\t    <span>닫기</span>\\r\\n\\t\\t\\t\\t\\t\\t\\t\\t\\t    </a>\\t\\t\\t\\t\\t\\t\\t\\t\\t\\r\\n\\t\\t\\t\\t\\t\\t\\t\\t    </div>\\r\\n\\t\\t\\t\\t\\t\\t\\t    </div>\\r\\n\\t\\t\\t\\t\\t\\t    </li>\\r\\n\\t\\t\\t\\t\\t    </ul>\\r\\n\\t\\t\\t\\t    </nav>\\r\\n\\t\\t\\t    </div>\\r\\n\\t\\t    </header>\\r\\n\\t\\t    <!-- // header -->\\r\\n\\t\\t    <hr />\\r\\n\\t\\t    <!-- container -->\\r\\n\\t\\t    \\r\\n    \\r\\n<section id=\"container\">\\r\\n\\t<div class=\"wrapping container-wrap\">\\t\\t\\t\\r\\n\\t\\t<aside>\\r\\n\\t\\t\\t<h3>기록</h3>\\r\\n\\t\\t\\t<ul id=\"snb\">\\r\\n\\t\\t\\t\\t<li><a href=\"/Record/Main.aspx\" id=\"lnb01\">TOP5</a></li>\\r\\n\\t\\t\\t    <li><a href=\"/Record/Ranking/Week.aspx\" id=\"lnb06\">주간/월간 랭킹</a></li>\\r\\n\\t\\t\\t\\t<li><a href=\"/Record/Player/HitterBasic/Basic1.aspx\" id=\"lnb02\">기록실</a></li>\\r\\n\\t\\t\\t    <li><a href=\"/Record/Etc/HitVsPit.aspx\" id=\"lnb03\">투수 vs 타자</a></li>\\r\\n\\t\\t\\t\\t<li><a href=\"/Record/History/Top/Hitter.aspx\" id=\"lnb04\">역대기록실</a></li>\\r\\n\\t\\t\\t\\t<li><a href=\"/Record/Expectation/WeekList.aspx\" id=\"lnb05\">주간/일간 예상 달성기록</a></li>\\r\\n\\t\\t\\t\\t<li><a href=\"/Record/RecordCorrect/RecordCorrect.aspx\" id=\"lnb07\">기록 정정 현황</a></li>\\r\\n\\t\\t\\t</ul>\\r\\n\\t\\t\\t\\r\\n\\t\\t</aside>\\r\\n\\t\\t\\r\\n\\r\\n<div id=\"contents\">\\r\\n\\t<!--sub title & location -->\\r\\n\\t<div class=\"location\">\\r\\n\\t\\t<span class=\"home\"><a href=\"/Default.aspx\"><img src=\"//lgcxydabfbch3774324.cdn.ntruss.com/KBO_IMAGE/KBOHome/resources/images/common/ico_home.gif\" alt=\"홈으로\" /></a></span> &gt;\\r\\n\\t\\t<span class=\"depth1\"><a href=\"/Record/Main.aspx\">기록</a></span> &gt;\\r\\n\\t\\t<span class=\"depth2\">기록실</span>\\r\\n\\t</div>\\r\\n\\t<h4 class=\"tit-page\">기록실</h4>\\r\\n\\t<!-- // sub title & location -->\\r\\n\\t\\r\\n\\t<div class=\"sub-content\">\\r\\n\\t\\t<div class=\"tab-depth1\">\\r\\n\\t\\t\\t<ul class=\"tab\">\\r\\n\\t\\t\\t\\t<li class=\"on\"><a href=\"/Record/Player/HitterBasic/BasicOld.aspx\">선수기록</a></li>\\r\\n\\t\\t\\t\\t<li><a href=\"/Record/Team/Hitter/BasicOld.aspx\">팀기록</a></li>\\r\\n\\t\\t\\t</ul>\\r\\n\\t\\t\\t<span class=\"record_words\"><a href=\"#\"><img src=\"//lgcxydabfbch3774324.cdn.ntruss.com/KBO_IMAGE/KBOHome/resources/images/record/btn_record_words.png\" alt=\"기록용어\" /></a></span>\\r\\n\\t\\t\\t<div class=\"words\" id=\"words\">\\r\\n\\t\\t\\t</div>\\r\\n\\t\\t</div>\\r\\n\\t\\t<div class=\"tab-depth2\">\\r\\n\\t\\t\\t<ul class=\"tab\">\\r\\n\\t\\t\\t\\t<li class=\"on\"> <a href=\"/Record/Player/HitterBasic/BasicOld.aspx\">타자</a></li>\\r\\n\\t\\t\\t\\t<li> <a href=\"/Record/Player/PitcherBasic/BasicOld.aspx\">투수</a></li>\\r\\n\\t\\t\\t\\t<li> <a href=\"/Record/Player/Defense/Basic.aspx\">수비</a></li>\\r\\n\\t\\t\\t\\t<li class=\"last\"> <a href=\"/Record/Player/Runner/Basic.aspx\">주루</a></li>\\r\\n\\t\\t\\t</ul>\\r\\n\\t\\t</div>\\r\\n\\r\\n\\t\\t<div id=\"cphContents_cphContents_cphContents_udpContent\">\\r\\n\\t\\r\\n\\t\\t\\t\\t<div class=\"compare mt25\">\\r\\n\\t\\t\\t\\t\\t\\r\\n<div class=\"styled-select02 mt5 bar01\">\\r\\n    <select name=\"ctl00$ctl00$ctl00$cphContents$cphContents$cphContents$ddlSeason$ddlSeason\" id=\"cphContents_cphContents_cphContents_ddlSeason_ddlSeason\" class=\"select03\">\\r\\n\\t\\t<option value=\"1982\">1982</option>\\r\\n\\t\\t<option value=\"1983\">1983</option>\\r\\n\\t\\t<option value=\"1984\">1984</option>\\r\\n\\t\\t<option value=\"1985\">1985</option>\\r\\n\\t\\t<option value=\"1986\">1986</option>\\r\\n\\t\\t<option value=\"1987\">1987</option>\\r\\n\\t\\t<option value=\"1988\">1988</option>\\r\\n\\t\\t<option value=\"1989\">1989</option>\\r\\n\\t\\t<option value=\"1990\">1990</option>\\r\\n\\t\\t<option value=\"1991\">1991</option>\\r\\n\\t\\t<option value=\"1992\">1992</option>\\r\\n\\t\\t<option value=\"1993\">1993</option>\\r\\n\\t\\t<option value=\"1994\">1994</option>\\r\\n\\t\\t<option value=\"1995\">1995</option>\\r\\n\\t\\t<option value=\"1996\">1996</option>\\r\\n\\t\\t<option value=\"1997\">1997</option>\\r\\n\\t\\t<option value=\"1998\">1998</option>\\r\\n\\t\\t<option value=\"1999\">1999</option>\\r\\n\\t\\t<option value=\"2000\">2000</option>\\r\\n\\t\\t<option value=\"2001\">2001</option>\\r\\n\\t\\t<option value=\"2002\">2002</option>\\r\\n\\t\\t<option value=\"2003\">2003</option>\\r\\n\\t\\t<option value=\"2004\">2004</option>\\r\\n\\t\\t<option value=\"2005\">2005</option>\\r\\n\\t\\t<option value=\"2006\">2006</option>\\r\\n\\t\\t<option value=\"2007\">2007</option>\\r\\n\\t\\t<option value=\"2008\">2008</option>\\r\\n\\t\\t<option value=\"2009\">2009</option>\\r\\n\\t\\t<option value=\"2010\">2010</option>\\r\\n\\t\\t<option value=\"2011\">2011</option>\\r\\n\\t\\t<option value=\"2012\">2012</option>\\r\\n\\t\\t<option value=\"2013\">2013</option>\\r\\n\\t\\t<option value=\"2014\">2014</option>\\r\\n\\t\\t<option value=\"2015\">2015</option>\\r\\n\\t\\t<option value=\"2016\">2016</option>\\r\\n\\t\\t<option value=\"2017\">2017</option>\\r\\n\\t\\t<option value=\"2018\">2018</option>\\r\\n\\t\\t<option value=\"2019\">2019</option>\\r\\n\\t\\t<option value=\"2020\">2020</option>\\r\\n\\t\\t<option value=\"2021\">2021</option>\\r\\n\\t\\t<option selected=\"selected\" value=\"2022\">2022</option>\\r\\n\\r\\n\\t</select>\\r\\n</div>\\r\\n\\t\\t\\t\\t\\t<span class=\"bar\">|</span>\\r\\n\\t\\t\\t\\t\\t\\r\\n<div class=\"styled-select03 mt5\" style=\"width:130px\">\\r\\n    <select name=\"ctl00$ctl00$ctl00$cphContents$cphContents$cphContents$ddlSeries$ddlSeries\" id=\"cphContents_cphContents_cphContents_ddlSeries_ddlSeries\" class=\"select02\">\\r\\n\\t\\t<option value=\"0\">KBO 정규시즌</option>\\r\\n\\t\\t<option value=\"1\">KBO 시범경기</option>\\r\\n\\t\\t<option value=\"4\">KBO 와일드카드</option>\\r\\n\\t\\t<option value=\"3\">KBO 준플레이오프</option>\\r\\n\\t\\t<option selected=\"selected\" value=\"5\">KBO 플레이오프</option>\\r\\n\\t\\t<option value=\"7\">KBO 한국시리즈</option>\\r\\n\\r\\n\\t</select>\\r\\n</div>\\r\\n\\t\\t\\t\\t\\t\\r\\n<div class=\"styled-select03 mt5\">\\r\\n    <select name=\"ctl00$ctl00$ctl00$cphContents$cphContents$cphContents$ddlTeam$ddlTeam\" id=\"cphContents_cphContents_cphContents_ddlTeam_ddlTeam\" class=\"select02\">\\r\\n\\t\\t<option selected=\"selected\" value=\"\">팀 선택</option>\\r\\n\\t\\t<option value=\"OB\">두산</option>\\r\\n\\t\\t<option value=\"LT\">롯데</option>\\r\\n\\t\\t<option value=\"SS\">삼성</option>\\r\\n\\t\\t<option value=\"WO\">키움</option>\\r\\n\\t\\t<option value=\"HH\">한화</option>\\r\\n\\t\\t<option value=\"HT\">KIA</option>\\r\\n\\t\\t<option value=\"KT\">KT</option>\\r\\n\\t\\t<option value=\"LG\">LG</option>\\r\\n\\t\\t<option value=\"NC\">NC</option>\\r\\n\\t\\t<option value=\"SK\">SSG</option>\\r\\n\\r\\n\\t</select>\\r\\n</div>\\r\\n\\t\\t\\t\\t\\t\\r\\n<div class=\"styled-select03 mt5\">\\r\\n    <select name=\"ctl00$ctl00$ctl00$cphContents$cphContents$cphContents$ddlPos$ddlPos\" id=\"cphContents_cphContents_cphContents_ddlPos_ddlPos\" class=\"select02\">\\r\\n\\t\\t<option selected=\"selected\" value=\"\">포지션 선택</option>\\r\\n\\t\\t<option value=\"2\">포수</option>\\r\\n\\t\\t<option value=\"3,4,5,6\">내야수</option>\\r\\n\\t\\t<option value=\"7,8,9\">외야수</option>\\r\\n\\r\\n\\t</select>\\r\\n</div>\\r\\n\\t\\t\\t\\t</div>\\r\\n\\r\\n\\t\\t\\t\\t<h4 class=\"bul_history mt30\"> 타자기록</h4>\\r\\n\\t\\t\\t\\t<div class=\"record_result\">\\r\\n\\t\\t\\t\\t\\t<table class=\"tData01 tt\" cellspacing=\"0\" cellpadding=\"0\" summary=\"선수 기본기록으로 타율,경기,타수,2루타,3루타,홈런,타율,도루허용,도루저지,볼넷,사구,삼진 등을 나타냅니다\">\\r\\n\\t\\t\\t\\t\\t\\t<thead>\\r\\n\\t\\t\\t\\t\\t\\t\\t<tr>\\r\\n\\t\\t\\t\\t\\t\\t\\t\\t<th>순위</th>\\r\\n\\t\\t\\t\\t\\t\\t\\t\\t<th>선수명</th>\\r\\n\\t\\t\\t\\t\\t\\t\\t\\t<th>팀명</th>\\r\\n\\t\\t\\t\\t\\t\\t\\t\\t<th><a onmouseenter=\"tooltip(this)\" onmouseout=\"hideTip()\" href=\"javascript:sort(\\'HRA_RT\\');\" title=\"타율\">AVG</a></th>\\r\\n\\t\\t\\t\\t\\t\\t\\t\\t<th><a onmouseenter=\"tooltip(this)\" onmouseout=\"hideTip()\" href=\"javascript:sort(\\'GAME_CN\\');\" title=\"경기\">G</a></th>\\r\\n\\t\\t\\t\\t\\t\\t\\t\\t<th><a onmouseenter=\"tooltip(this)\" onmouseout=\"hideTip()\" href=\"javascript:sort(\\'PA_CN\\');\" title=\"타석\">PA</a></th>\\r\\n\\t\\t\\t\\t\\t\\t\\t\\t<th><a onmouseenter=\"tooltip(this)\" onmouseout=\"hideTip()\" href=\"javascript:sort(\\'AB_CN\\');\" title=\"타수\">AB</a></th>\\r\\n\\t\\t\\t\\t\\t\\t\\t\\t<th><a onmouseenter=\"tooltip(this)\" onmouseout=\"hideTip()\" href=\"javascript:sort(\\'HIT_CN\\');\" title=\"안타\">H</a></th>\\r\\n\\t\\t\\t\\t\\t\\t\\t\\t<th><a onmouseenter=\"tooltip(this)\" onmouseout=\"hideTip()\" href=\"javascript:sort(\\'H2_CN\\');\" title=\"2루타\">2B</a></th>\\r\\n\\t\\t\\t\\t\\t\\t\\t\\t<th><a onmouseenter=\"tooltip(this)\" onmouseout=\"hideTip()\" href=\"javascript:sort(\\'H3_CN\\');\" title=\"3루타\">3B</a></th>\\r\\n\\t\\t\\t\\t\\t\\t\\t\\t<th><a onmouseenter=\"tooltip(this)\" onmouseout=\"hideTip()\" href=\"javascript:sort(\\'HR_CN\\');\" title=\"홈런\">HR</a></th>\\r\\n\\t\\t\\t\\t\\t\\t\\t\\t<th><a onmouseenter=\"tooltip(this)\" onmouseout=\"hideTip()\" href=\"javascript:sort(\\'RBI_CN\\');\" title=\"타점\">RBI</a></th>\\r\\n\\t\\t\\t\\t\\t\\t\\t\\t<th><a onmouseenter=\"tooltip(this)\" onmouseout=\"hideTip()\" href=\"javascript:sort(\\'SB_CN\\');\" title=\"도루\">SB</a></th>\\r\\n\\t\\t\\t\\t\\t\\t\\t\\t<th><a onmouseenter=\"tooltip(this)\" onmouseout=\"hideTip()\" href=\"javascript:sort(\\'CS_CN\\');\" title=\"도루실패\">CS</a></th>\\r\\n\\t\\t\\t\\t\\t\\t\\t\\t<th><a onmouseenter=\"tooltip(this)\" onmouseout=\"hideTip()\" href=\"javascript:sort(\\'BB_CN\\');\" title=\"볼넷\">BB</a></th>\\r\\n\\t\\t\\t\\t\\t\\t\\t\\t<th><a onmouseenter=\"tooltip(this)\" onmouseout=\"hideTip()\" href=\"javascript:sort(\\'HP_CN\\');\" title=\"사구\">HBP</a></th>\\r\\n\\t\\t\\t\\t\\t\\t\\t\\t<th><a onmouseenter=\"tooltip(this)\" onmouseout=\"hideTip()\" href=\"javascript:sort(\\'KK_CN\\');\" title=\"삼진\">SO</a></th>\\r\\n\\t\\t\\t\\t\\t\\t\\t\\t<th><a onmouseenter=\"tooltip(this)\" onmouseout=\"hideTip()\" href=\"javascript:sort(\\'GD_CN\\');\" title=\"병살타\">GDP</a></th>\\r\\n\\t\\t\\t\\t\\t\\t\\t\\t<th><a onmouseenter=\"tooltip(this)\" onmouseout=\"hideTip()\" href=\"javascript:sort(\\'ERR_CN\\');\" title=\"실책\">E</a></th>\\r\\n\\t\\t\\t\\t\\t\\t\\t</tr>\\r\\n\\t\\t\\t\\t\\t\\t</thead>\\r\\n\\t\\t\\t\\t\\t\\t<tbody>\\r\\n\\t\\t\\t\\t\\t\\t\\t\\r\\n\\t\\t\\t\\t\\t\\t\\t<tr>\\r\\n\\t\\t\\t\\t\\t\\t\\t\\t<td>1</td>\\r\\n\\t\\t\\t\\t\\t\\t\\t\\t<td><a href=\"/Record/Player/HitterDetail/Basic.aspx?playerId=67341\">이정후</a></td>\\r\\n\\t\\t\\t\\t\\t\\t\\t\\t<td>키움</td>\\r\\n\\t\\t\\t\\t\\t\\t\\t\\t<td data-id=\"HRA_RT\">0.500</td>\\r\\n\\t\\t\\t\\t\\t\\t\\t\\t<td data-id=\"GAME_CN\">4</td>\\r\\n\\t\\t\\t\\t\\t\\t\\t\\t<td data-id=\"PA_CN\">17</td>\\r\\n\\t\\t\\t\\t\\t\\t\\t\\t<td data-id=\"AB_CN\">16</td>\\r\\n\\t\\t\\t\\t\\t\\t\\t\\t<td data-id=\"HIT_CN\">8</td>\\r\\n\\t\\t\\t\\t\\t\\t\\t\\t<td data-id=\"H2_CN\">4</td>\\r\\n\\t\\t\\t\\t\\t\\t\\t\\t<td data-id=\"H3_CN\">0</td>\\r\\n\\t\\t\\t\\t\\t\\t\\t\\t<td data-id=\"HR_CN\">1</td>\\r\\n\\t\\t\\t\\t\\t\\t\\t\\t<td data-id=\"RBI_CN\">2</td>\\r\\n\\t\\t\\t\\t\\t\\t\\t\\t<td data-id=\"SB_CN\">1</td>\\r\\n\\t\\t\\t\\t\\t\\t\\t\\t<td data-id=\"CS_CN\">0</td>\\r\\n\\t\\t\\t\\t\\t\\t\\t\\t<td data-id=\"BB_CN\">0</td>\\r\\n\\t\\t\\t\\t\\t\\t\\t\\t<td data-id=\"HP_CN\">1</td>\\r\\n\\t\\t\\t\\t\\t\\t\\t\\t<td data-id=\"KK_CN\">0</td>\\r\\n\\t\\t\\t\\t\\t\\t\\t\\t<td data-id=\"GD_CN\">0</td>\\r\\n\\t\\t\\t\\t\\t\\t\\t\\t<td data-id=\"ERR_CN\">1</td>\\r\\n\\t\\t\\t\\t\\t\\t\\t</tr>\\r\\n\\t\\t\\t\\t\\t\\t\\r\\n\\t\\t\\t\\t\\t\\t\\t<tr>\\r\\n\\t\\t\\t\\t\\t\\t\\t\\t<td>2</td>\\r\\n\\t\\t\\t\\t\\t\\t\\t\\t<td><a href=\"/Record/Player/HitterDetail/Basic.aspx?playerId=52366\">푸이그</a></td>\\r\\n\\t\\t\\t\\t\\t\\t\\t\\t<td>키움</td>\\r\\n\\t\\t\\t\\t\\t\\t\\t\\t<td data-id=\"HRA_RT\">0.462</td>\\r\\n\\t\\t\\t\\t\\t\\t\\t\\t<td data-id=\"GAME_CN\">4</td>\\r\\n\\t\\t\\t\\t\\t\\t\\t\\t<td data-id=\"PA_CN\">17</td>\\r\\n\\t\\t\\t\\t\\t\\t\\t\\t<td data-id=\"AB_CN\">13</td>\\r\\n\\t\\t\\t\\t\\t\\t\\t\\t<td data-id=\"HIT_CN\">6</td>\\r\\n\\t\\t\\t\\t\\t\\t\\t\\t<td data-id=\"H2_CN\">0</td>\\r\\n\\t\\t\\t\\t\\t\\t\\t\\t<td data-id=\"H3_CN\">0</td>\\r\\n\\t\\t\\t\\t\\t\\t\\t\\t<td data-id=\"HR_CN\">2</td>\\r\\n\\t\\t\\t\\t\\t\\t\\t\\t<td data-id=\"RBI_CN\">5</td>\\r\\n\\t\\t\\t\\t\\t\\t\\t\\t<td data-id=\"SB_CN\">1</td>\\r\\n\\t\\t\\t\\t\\t\\t\\t\\t<td data-id=\"CS_CN\">0</td>\\r\\n\\t\\t\\t\\t\\t\\t\\t\\t<td data-id=\"BB_CN\">4</td>\\r\\n\\t\\t\\t\\t\\t\\t\\t\\t<td data-id=\"HP_CN\">0</td>\\r\\n\\t\\t\\t\\t\\t\\t\\t\\t<td data-id=\"KK_CN\">3</td>\\r\\n\\t\\t\\t\\t\\t\\t\\t\\t<td data-id=\"GD_CN\">0</td>\\r\\n\\t\\t\\t\\t\\t\\t\\t\\t<td data-id=\"ERR_CN\">0</td>\\r\\n\\t\\t\\t\\t\\t\\t\\t</tr>\\r\\n\\t\\t\\t\\t\\t\\t\\r\\n\\t\\t\\t\\t\\t\\t\\t<tr>\\r\\n\\t\\t\\t\\t\\t\\t\\t\\t<td>3</td>\\r\\n\\t\\t\\t\\t\\t\\t\\t\\t<td><a href=\"/Record/Player/HitterDetail/Basic.aspx?playerId=76290\">김현수</a></td>\\r\\n\\t\\t\\t\\t\\t\\t\\t\\t<td>LG</td>\\r\\n\\t\\t\\t\\t\\t\\t\\t\\t<td data-id=\"HRA_RT\">0.412</td>\\r\\n\\t\\t\\t\\t\\t\\t\\t\\t<td data-id=\"GAME_CN\">4</td>\\r\\n\\t\\t\\t\\t\\t\\t\\t\\t<td data-id=\"PA_CN\">17</td>\\r\\n\\t\\t\\t\\t\\t\\t\\t\\t<td data-id=\"AB_CN\">17</td>\\r\\n\\t\\t\\t\\t\\t\\t\\t\\t<td data-id=\"HIT_CN\">7</td>\\r\\n\\t\\t\\t\\t\\t\\t\\t\\t<td data-id=\"H2_CN\">0</td>\\r\\n\\t\\t\\t\\t\\t\\t\\t\\t<td data-id=\"H3_CN\">0</td>\\r\\n\\t\\t\\t\\t\\t\\t\\t\\t<td data-id=\"HR_CN\">0</td>\\r\\n\\t\\t\\t\\t\\t\\t\\t\\t<td data-id=\"RBI_CN\">2</td>\\r\\n\\t\\t\\t\\t\\t\\t\\t\\t<td data-id=\"SB_CN\">0</td>\\r\\n\\t\\t\\t\\t\\t\\t\\t\\t<td data-id=\"CS_CN\">0</td>\\r\\n\\t\\t\\t\\t\\t\\t\\t\\t<td data-id=\"BB_CN\">0</td>\\r\\n\\t\\t\\t\\t\\t\\t\\t\\t<td data-id=\"HP_CN\">0</td>\\r\\n\\t\\t\\t\\t\\t\\t\\t\\t<td data-id=\"KK_CN\">1</td>\\r\\n\\t\\t\\t\\t\\t\\t\\t\\t<td data-id=\"GD_CN\">1</td>\\r\\n\\t\\t\\t\\t\\t\\t\\t\\t<td data-id=\"ERR_CN\">0</td>\\r\\n\\t\\t\\t\\t\\t\\t\\t</tr>\\r\\n\\t\\t\\t\\t\\t\\t\\r\\n\\t\\t\\t\\t\\t\\t\\t<tr>\\r\\n\\t\\t\\t\\t\\t\\t\\t\\t<td>4</td>\\r\\n\\t\\t\\t\\t\\t\\t\\t\\t<td><a href=\"/Record/Player/HitterDetail/Basic.aspx?playerId=79192\">채은성</a></td>\\r\\n\\t\\t\\t\\t\\t\\t\\t\\t<td>LG</td>\\r\\n\\t\\t\\t\\t\\t\\t\\t\\t<td data-id=\"HRA_RT\">0.400</td>\\r\\n\\t\\t\\t\\t\\t\\t\\t\\t<td data-id=\"GAME_CN\">4</td>\\r\\n\\t\\t\\t\\t\\t\\t\\t\\t<td data-id=\"PA_CN\">17</td>\\r\\n\\t\\t\\t\\t\\t\\t\\t\\t<td data-id=\"AB_CN\">15</td>\\r\\n\\t\\t\\t\\t\\t\\t\\t\\t<td data-id=\"HIT_CN\">6</td>\\r\\n\\t\\t\\t\\t\\t\\t\\t\\t<td data-id=\"H2_CN\">1</td>\\r\\n\\t\\t\\t\\t\\t\\t\\t\\t<td data-id=\"H3_CN\">0</td>\\r\\n\\t\\t\\t\\t\\t\\t\\t\\t<td data-id=\"HR_CN\">1</td>\\r\\n\\t\\t\\t\\t\\t\\t\\t\\t<td data-id=\"RBI_CN\">3</td>\\r\\n\\t\\t\\t\\t\\t\\t\\t\\t<td data-id=\"SB_CN\">0</td>\\r\\n\\t\\t\\t\\t\\t\\t\\t\\t<td data-id=\"CS_CN\">0</td>\\r\\n\\t\\t\\t\\t\\t\\t\\t\\t<td data-id=\"BB_CN\">1</td>\\r\\n\\t\\t\\t\\t\\t\\t\\t\\t<td data-id=\"HP_CN\">1</td>\\r\\n\\t\\t\\t\\t\\t\\t\\t\\t<td data-id=\"KK_CN\">2</td>\\r\\n\\t\\t\\t\\t\\t\\t\\t\\t<td data-id=\"GD_CN\">1</td>\\r\\n\\t\\t\\t\\t\\t\\t\\t\\t<td data-id=\"ERR_CN\">0</td>\\r\\n\\t\\t\\t\\t\\t\\t\\t</tr>\\r\\n\\t\\t\\t\\t\\t\\t\\r\\n\\t\\t\\t\\t\\t\\t\\t<tr>\\r\\n\\t\\t\\t\\t\\t\\t\\t\\t<td>5</td>\\r\\n\\t\\t\\t\\t\\t\\t\\t\\t<td><a href=\"/Record/Player/HitterDetail/Basic.aspx?playerId=67304\">김혜성</a></td>\\r\\n\\t\\t\\t\\t\\t\\t\\t\\t<td>키움</td>\\r\\n\\t\\t\\t\\t\\t\\t\\t\\t<td data-id=\"HRA_RT\">0.375</td>\\r\\n\\t\\t\\t\\t\\t\\t\\t\\t<td data-id=\"GAME_CN\">4</td>\\r\\n\\t\\t\\t\\t\\t\\t\\t\\t<td data-id=\"PA_CN\">17</td>\\r\\n\\t\\t\\t\\t\\t\\t\\t\\t<td data-id=\"AB_CN\">16</td>\\r\\n\\t\\t\\t\\t\\t\\t\\t\\t<td data-id=\"HIT_CN\">6</td>\\r\\n\\t\\t\\t\\t\\t\\t\\t\\t<td data-id=\"H2_CN\">1</td>\\r\\n\\t\\t\\t\\t\\t\\t\\t\\t<td data-id=\"H3_CN\">0</td>\\r\\n\\t\\t\\t\\t\\t\\t\\t\\t<td data-id=\"HR_CN\">0</td>\\r\\n\\t\\t\\t\\t\\t\\t\\t\\t<td data-id=\"RBI_CN\">4</td>\\r\\n\\t\\t\\t\\t\\t\\t\\t\\t<td data-id=\"SB_CN\">1</td>\\r\\n\\t\\t\\t\\t\\t\\t\\t\\t<td data-id=\"CS_CN\">0</td>\\r\\n\\t\\t\\t\\t\\t\\t\\t\\t<td data-id=\"BB_CN\">0</td>\\r\\n\\t\\t\\t\\t\\t\\t\\t\\t<td data-id=\"HP_CN\">0</td>\\r\\n\\t\\t\\t\\t\\t\\t\\t\\t<td data-id=\"KK_CN\">2</td>\\r\\n\\t\\t\\t\\t\\t\\t\\t\\t<td data-id=\"GD_CN\">0</td>\\r\\n\\t\\t\\t\\t\\t\\t\\t\\t<td data-id=\"ERR_CN\">1</td>\\r\\n\\t\\t\\t\\t\\t\\t\\t</tr>\\r\\n\\t\\t\\t\\t\\t\\t\\r\\n\\t\\t\\t\\t\\t\\t\\t<tr>\\r\\n\\t\\t\\t\\t\\t\\t\\t\\t<td>6</td>\\r\\n\\t\\t\\t\\t\\t\\t\\t\\t<td><a href=\"/Record/Player/HitterDetail/Basic.aspx?playerId=64984\">김태진</a></td>\\r\\n\\t\\t\\t\\t\\t\\t\\t\\t<td>키움</td>\\r\\n\\t\\t\\t\\t\\t\\t\\t\\t<td data-id=\"HRA_RT\">0.357</td>\\r\\n\\t\\t\\t\\t\\t\\t\\t\\t<td data-id=\"GAME_CN\">4</td>\\r\\n\\t\\t\\t\\t\\t\\t\\t\\t<td data-id=\"PA_CN\">16</td>\\r\\n\\t\\t\\t\\t\\t\\t\\t\\t<td data-id=\"AB_CN\">14</td>\\r\\n\\t\\t\\t\\t\\t\\t\\t\\t<td data-id=\"HIT_CN\">5</td>\\r\\n\\t\\t\\t\\t\\t\\t\\t\\t<td data-id=\"H2_CN\">0</td>\\r\\n\\t\\t\\t\\t\\t\\t\\t\\t<td data-id=\"H3_CN\">0</td>\\r\\n\\t\\t\\t\\t\\t\\t\\t\\t<td data-id=\"HR_CN\">0</td>\\r\\n\\t\\t\\t\\t\\t\\t\\t\\t<td data-id=\"RBI_CN\">2</td>\\r\\n\\t\\t\\t\\t\\t\\t\\t\\t<td data-id=\"SB_CN\">0</td>\\r\\n\\t\\t\\t\\t\\t\\t\\t\\t<td data-id=\"CS_CN\">0</td>\\r\\n\\t\\t\\t\\t\\t\\t\\t\\t<td data-id=\"BB_CN\">1</td>\\r\\n\\t\\t\\t\\t\\t\\t\\t\\t<td data-id=\"HP_CN\">0</td>\\r\\n\\t\\t\\t\\t\\t\\t\\t\\t<td data-id=\"KK_CN\">0</td>\\r\\n\\t\\t\\t\\t\\t\\t\\t\\t<td data-id=\"GD_CN\">0</td>\\r\\n\\t\\t\\t\\t\\t\\t\\t\\t<td data-id=\"ERR_CN\">0</td>\\r\\n\\t\\t\\t\\t\\t\\t\\t</tr>\\r\\n\\t\\t\\t\\t\\t\\t\\r\\n\\t\\t\\t\\t\\t\\t\\t<tr>\\r\\n\\t\\t\\t\\t\\t\\t\\t\\t<td>7</td>\\r\\n\\t\\t\\t\\t\\t\\t\\t\\t<td><a href=\"/Record/Player/HitterDetail/Basic.aspx?playerId=62415\">박해민</a></td>\\r\\n\\t\\t\\t\\t\\t\\t\\t\\t<td>LG</td>\\r\\n\\t\\t\\t\\t\\t\\t\\t\\t<td data-id=\"HRA_RT\">0.278</td>\\r\\n\\t\\t\\t\\t\\t\\t\\t\\t<td data-id=\"GAME_CN\">4</td>\\r\\n\\t\\t\\t\\t\\t\\t\\t\\t<td data-id=\"PA_CN\">18</td>\\r\\n\\t\\t\\t\\t\\t\\t\\t\\t<td data-id=\"AB_CN\">18</td>\\r\\n\\t\\t\\t\\t\\t\\t\\t\\t<td data-id=\"HIT_CN\">5</td>\\r\\n\\t\\t\\t\\t\\t\\t\\t\\t<td data-id=\"H2_CN\">1</td>\\r\\n\\t\\t\\t\\t\\t\\t\\t\\t<td data-id=\"H3_CN\">0</td>\\r\\n\\t\\t\\t\\t\\t\\t\\t\\t<td data-id=\"HR_CN\">0</td>\\r\\n\\t\\t\\t\\t\\t\\t\\t\\t<td data-id=\"RBI_CN\">1</td>\\r\\n\\t\\t\\t\\t\\t\\t\\t\\t<td data-id=\"SB_CN\">2</td>\\r\\n\\t\\t\\t\\t\\t\\t\\t\\t<td data-id=\"CS_CN\">0</td>\\r\\n\\t\\t\\t\\t\\t\\t\\t\\t<td data-id=\"BB_CN\">0</td>\\r\\n\\t\\t\\t\\t\\t\\t\\t\\t<td data-id=\"HP_CN\">0</td>\\r\\n\\t\\t\\t\\t\\t\\t\\t\\t<td data-id=\"KK_CN\">3</td>\\r\\n\\t\\t\\t\\t\\t\\t\\t\\t<td data-id=\"GD_CN\">0</td>\\r\\n\\t\\t\\t\\t\\t\\t\\t\\t<td data-id=\"ERR_CN\">0</td>\\r\\n\\t\\t\\t\\t\\t\\t\\t</tr>\\r\\n\\t\\t\\t\\t\\t\\t\\r\\n\\t\\t\\t\\t\\t\\t\\t<tr>\\r\\n\\t\\t\\t\\t\\t\\t\\t\\t<td>8</td>\\r\\n\\t\\t\\t\\t\\t\\t\\t\\t<td><a href=\"/Record/Player/HitterDetail/Basic.aspx?playerId=79456\">이지영</a></td>\\r\\n\\t\\t\\t\\t\\t\\t\\t\\t<td>키움</td>\\r\\n\\t\\t\\t\\t\\t\\t\\t\\t<td data-id=\"HRA_RT\">0.250</td>\\r\\n\\t\\t\\t\\t\\t\\t\\t\\t<td data-id=\"GAME_CN\">4</td>\\r\\n\\t\\t\\t\\t\\t\\t\\t\\t<td data-id=\"PA_CN\">17</td>\\r\\n\\t\\t\\t\\t\\t\\t\\t\\t<td data-id=\"AB_CN\">16</td>\\r\\n\\t\\t\\t\\t\\t\\t\\t\\t<td data-id=\"HIT_CN\">4</td>\\r\\n\\t\\t\\t\\t\\t\\t\\t\\t<td data-id=\"H2_CN\">0</td>\\r\\n\\t\\t\\t\\t\\t\\t\\t\\t<td data-id=\"H3_CN\">0</td>\\r\\n\\t\\t\\t\\t\\t\\t\\t\\t<td data-id=\"HR_CN\">0</td>\\r\\n\\t\\t\\t\\t\\t\\t\\t\\t<td data-id=\"RBI_CN\">0</td>\\r\\n\\t\\t\\t\\t\\t\\t\\t\\t<td data-id=\"SB_CN\">1</td>\\r\\n\\t\\t\\t\\t\\t\\t\\t\\t<td data-id=\"CS_CN\">0</td>\\r\\n\\t\\t\\t\\t\\t\\t\\t\\t<td data-id=\"BB_CN\">0</td>\\r\\n\\t\\t\\t\\t\\t\\t\\t\\t<td data-id=\"HP_CN\">0</td>\\r\\n\\t\\t\\t\\t\\t\\t\\t\\t<td data-id=\"KK_CN\">3</td>\\r\\n\\t\\t\\t\\t\\t\\t\\t\\t<td data-id=\"GD_CN\">0</td>\\r\\n\\t\\t\\t\\t\\t\\t\\t\\t<td data-id=\"ERR_CN\">1</td>\\r\\n\\t\\t\\t\\t\\t\\t\\t</tr>\\r\\n\\t\\t\\t\\t\\t\\t\\r\\n\\t\\t\\t\\t\\t\\t\\t<tr>\\r\\n\\t\\t\\t\\t\\t\\t\\t\\t<td>9</td>\\r\\n\\t\\t\\t\\t\\t\\t\\t\\t<td><a href=\"/Record/Player/HitterDetail/Basic.aspx?playerId=74163\">이용규</a></td>\\r\\n\\t\\t\\t\\t\\t\\t\\t\\t<td>키움</td>\\r\\n\\t\\t\\t\\t\\t\\t\\t\\t<td data-id=\"HRA_RT\">0.222</td>\\r\\n\\t\\t\\t\\t\\t\\t\\t\\t<td data-id=\"GAME_CN\">4</td>\\r\\n\\t\\t\\t\\t\\t\\t\\t\\t<td data-id=\"PA_CN\">12</td>\\r\\n\\t\\t\\t\\t\\t\\t\\t\\t<td data-id=\"AB_CN\">9</td>\\r\\n\\t\\t\\t\\t\\t\\t\\t\\t<td data-id=\"HIT_CN\">2</td>\\r\\n\\t\\t\\t\\t\\t\\t\\t\\t<td data-id=\"H2_CN\">0</td>\\r\\n\\t\\t\\t\\t\\t\\t\\t\\t<td data-id=\"H3_CN\">0</td>\\r\\n\\t\\t\\t\\t\\t\\t\\t\\t<td data-id=\"HR_CN\">0</td>\\r\\n\\t\\t\\t\\t\\t\\t\\t\\t<td data-id=\"RBI_CN\">2</td>\\r\\n\\t\\t\\t\\t\\t\\t\\t\\t<td data-id=\"SB_CN\">0</td>\\r\\n\\t\\t\\t\\t\\t\\t\\t\\t<td data-id=\"CS_CN\">0</td>\\r\\n\\t\\t\\t\\t\\t\\t\\t\\t<td data-id=\"BB_CN\">1</td>\\r\\n\\t\\t\\t\\t\\t\\t\\t\\t<td data-id=\"HP_CN\">0</td>\\r\\n\\t\\t\\t\\t\\t\\t\\t\\t<td data-id=\"KK_CN\">0</td>\\r\\n\\t\\t\\t\\t\\t\\t\\t\\t<td data-id=\"GD_CN\">0</td>\\r\\n\\t\\t\\t\\t\\t\\t\\t\\t<td data-id=\"ERR_CN\">0</td>\\r\\n\\t\\t\\t\\t\\t\\t\\t</tr>\\r\\n\\t\\t\\t\\t\\t\\t\\r\\n\\t\\t\\t\\t\\t\\t\\t<tr>\\r\\n\\t\\t\\t\\t\\t\\t\\t\\t<td>10</td>\\r\\n\\t\\t\\t\\t\\t\\t\\t\\t<td><a href=\"/Record/Player/HitterDetail/Basic.aspx?playerId=69102\">문보경</a></td>\\r\\n\\t\\t\\t\\t\\t\\t\\t\\t<td>LG</td>\\r\\n\\t\\t\\t\\t\\t\\t\\t\\t<td data-id=\"HRA_RT\">0.214</td>\\r\\n\\t\\t\\t\\t\\t\\t\\t\\t<td data-id=\"GAME_CN\">4</td>\\r\\n\\t\\t\\t\\t\\t\\t\\t\\t<td data-id=\"PA_CN\">17</td>\\r\\n\\t\\t\\t\\t\\t\\t\\t\\t<td data-id=\"AB_CN\">14</td>\\r\\n\\t\\t\\t\\t\\t\\t\\t\\t<td data-id=\"HIT_CN\">3</td>\\r\\n\\t\\t\\t\\t\\t\\t\\t\\t<td data-id=\"H2_CN\">1</td>\\r\\n\\t\\t\\t\\t\\t\\t\\t\\t<td data-id=\"H3_CN\">0</td>\\r\\n\\t\\t\\t\\t\\t\\t\\t\\t<td data-id=\"HR_CN\">0</td>\\r\\n\\t\\t\\t\\t\\t\\t\\t\\t<td data-id=\"RBI_CN\">1</td>\\r\\n\\t\\t\\t\\t\\t\\t\\t\\t<td data-id=\"SB_CN\">0</td>\\r\\n\\t\\t\\t\\t\\t\\t\\t\\t<td data-id=\"CS_CN\">0</td>\\r\\n\\t\\t\\t\\t\\t\\t\\t\\t<td data-id=\"BB_CN\">2</td>\\r\\n\\t\\t\\t\\t\\t\\t\\t\\t<td data-id=\"HP_CN\">0</td>\\r\\n\\t\\t\\t\\t\\t\\t\\t\\t<td data-id=\"KK_CN\">2</td>\\r\\n\\t\\t\\t\\t\\t\\t\\t\\t<td data-id=\"GD_CN\">1</td>\\r\\n\\t\\t\\t\\t\\t\\t\\t\\t<td data-id=\"ERR_CN\">0</td>\\r\\n\\t\\t\\t\\t\\t\\t\\t</tr>\\r\\n\\t\\t\\t\\t\\t\\t\\r\\n\\t\\t\\t\\t\\t\\t\\t<tr>\\r\\n\\t\\t\\t\\t\\t\\t\\t\\t<td>10</td>\\r\\n\\t\\t\\t\\t\\t\\t\\t\\t<td><a href=\"/Record/Player/HitterDetail/Basic.aspx?playerId=79109\">오지환</a></td>\\r\\n\\t\\t\\t\\t\\t\\t\\t\\t<td>LG</td>\\r\\n\\t\\t\\t\\t\\t\\t\\t\\t<td data-id=\"HRA_RT\">0.214</td>\\r\\n\\t\\t\\t\\t\\t\\t\\t\\t<td data-id=\"GAME_CN\">4</td>\\r\\n\\t\\t\\t\\t\\t\\t\\t\\t<td data-id=\"PA_CN\">17</td>\\r\\n\\t\\t\\t\\t\\t\\t\\t\\t<td data-id=\"AB_CN\">14</td>\\r\\n\\t\\t\\t\\t\\t\\t\\t\\t<td data-id=\"HIT_CN\">3</td>\\r\\n\\t\\t\\t\\t\\t\\t\\t\\t<td data-id=\"H2_CN\">1</td>\\r\\n\\t\\t\\t\\t\\t\\t\\t\\t<td data-id=\"H3_CN\">0</td>\\r\\n\\t\\t\\t\\t\\t\\t\\t\\t<td data-id=\"HR_CN\">0</td>\\r\\n\\t\\t\\t\\t\\t\\t\\t\\t<td data-id=\"RBI_CN\">1</td>\\r\\n\\t\\t\\t\\t\\t\\t\\t\\t<td data-id=\"SB_CN\">0</td>\\r\\n\\t\\t\\t\\t\\t\\t\\t\\t<td data-id=\"CS_CN\">0</td>\\r\\n\\t\\t\\t\\t\\t\\t\\t\\t<td data-id=\"BB_CN\">2</td>\\r\\n\\t\\t\\t\\t\\t\\t\\t\\t<td data-id=\"HP_CN\">0</td>\\r\\n\\t\\t\\t\\t\\t\\t\\t\\t<td data-id=\"KK_CN\">1</td>\\r\\n\\t\\t\\t\\t\\t\\t\\t\\t<td data-id=\"GD_CN\">0</td>\\r\\n\\t\\t\\t\\t\\t\\t\\t\\t<td data-id=\"ERR_CN\">0</td>\\r\\n\\t\\t\\t\\t\\t\\t\\t</tr>\\r\\n\\t\\t\\t\\t\\t\\t\\r\\n\\t\\t\\t\\t\\t\\t\\t<tr>\\r\\n\\t\\t\\t\\t\\t\\t\\t\\t<td>10</td>\\r\\n\\t\\t\\t\\t\\t\\t\\t\\t<td><a href=\"/Record/Player/HitterDetail/Basic.aspx?playerId=63920\">김준완</a></td>\\r\\n\\t\\t\\t\\t\\t\\t\\t\\t<td>키움</td>\\r\\n\\t\\t\\t\\t\\t\\t\\t\\t<td data-id=\"HRA_RT\">0.214</td>\\r\\n\\t\\t\\t\\t\\t\\t\\t\\t<td data-id=\"GAME_CN\">4</td>\\r\\n\\t\\t\\t\\t\\t\\t\\t\\t<td data-id=\"PA_CN\">19</td>\\r\\n\\t\\t\\t\\t\\t\\t\\t\\t<td data-id=\"AB_CN\">14</td>\\r\\n\\t\\t\\t\\t\\t\\t\\t\\t<td data-id=\"HIT_CN\">3</td>\\r\\n\\t\\t\\t\\t\\t\\t\\t\\t<td data-id=\"H2_CN\">0</td>\\r\\n\\t\\t\\t\\t\\t\\t\\t\\t<td data-id=\"H3_CN\">0</td>\\r\\n\\t\\t\\t\\t\\t\\t\\t\\t<td data-id=\"HR_CN\">0</td>\\r\\n\\t\\t\\t\\t\\t\\t\\t\\t<td data-id=\"RBI_CN\">0</td>\\r\\n\\t\\t\\t\\t\\t\\t\\t\\t<td data-id=\"SB_CN\">0</td>\\r\\n\\t\\t\\t\\t\\t\\t\\t\\t<td data-id=\"CS_CN\">0</td>\\r\\n\\t\\t\\t\\t\\t\\t\\t\\t<td data-id=\"BB_CN\">3</td>\\r\\n\\t\\t\\t\\t\\t\\t\\t\\t<td data-id=\"HP_CN\">2</td>\\r\\n\\t\\t\\t\\t\\t\\t\\t\\t<td data-id=\"KK_CN\">4</td>\\r\\n\\t\\t\\t\\t\\t\\t\\t\\t<td data-id=\"GD_CN\">0</td>\\r\\n\\t\\t\\t\\t\\t\\t\\t\\t<td data-id=\"ERR_CN\">1</td>\\r\\n\\t\\t\\t\\t\\t\\t\\t</tr>\\r\\n\\t\\t\\t\\t\\t\\t\\r\\n\\t\\t\\t\\t\\t\\t\\t<tr>\\r\\n\\t\\t\\t\\t\\t\\t\\t\\t<td>13</td>\\r\\n\\t\\t\\t\\t\\t\\t\\t\\t<td><a href=\"/Record/Player/HitterDetail/Basic.aspx?playerId=51344\">김휘집</a></td>\\r\\n\\t\\t\\t\\t\\t\\t\\t\\t<td>키움</td>\\r\\n\\t\\t\\t\\t\\t\\t\\t\\t<td data-id=\"HRA_RT\">0.143</td>\\r\\n\\t\\t\\t\\t\\t\\t\\t\\t<td data-id=\"GAME_CN\">4</td>\\r\\n\\t\\t\\t\\t\\t\\t\\t\\t<td data-id=\"PA_CN\">15</td>\\r\\n\\t\\t\\t\\t\\t\\t\\t\\t<td data-id=\"AB_CN\">14</td>\\r\\n\\t\\t\\t\\t\\t\\t\\t\\t<td data-id=\"HIT_CN\">2</td>\\r\\n\\t\\t\\t\\t\\t\\t\\t\\t<td data-id=\"H2_CN\">0</td>\\r\\n\\t\\t\\t\\t\\t\\t\\t\\t<td data-id=\"H3_CN\">0</td>\\r\\n\\t\\t\\t\\t\\t\\t\\t\\t<td data-id=\"HR_CN\">0</td>\\r\\n\\t\\t\\t\\t\\t\\t\\t\\t<td data-id=\"RBI_CN\">0</td>\\r\\n\\t\\t\\t\\t\\t\\t\\t\\t<td data-id=\"SB_CN\">0</td>\\r\\n\\t\\t\\t\\t\\t\\t\\t\\t<td data-id=\"CS_CN\">0</td>\\r\\n\\t\\t\\t\\t\\t\\t\\t\\t<td data-id=\"BB_CN\">1</td>\\r\\n\\t\\t\\t\\t\\t\\t\\t\\t<td data-id=\"HP_CN\">0</td>\\r\\n\\t\\t\\t\\t\\t\\t\\t\\t<td data-id=\"KK_CN\">4</td>\\r\\n\\t\\t\\t\\t\\t\\t\\t\\t<td data-id=\"GD_CN\">0</td>\\r\\n\\t\\t\\t\\t\\t\\t\\t\\t<td data-id=\"ERR_CN\">2</td>\\r\\n\\t\\t\\t\\t\\t\\t\\t</tr>\\r\\n\\t\\t\\t\\t\\t\\t\\r\\n\\t\\t\\t\\t\\t\\t\\t<tr>\\r\\n\\t\\t\\t\\t\\t\\t\\t\\t<td>13</td>\\r\\n\\t\\t\\t\\t\\t\\t\\t\\t<td><a href=\"/Record/Player/HitterDetail/Basic.aspx?playerId=65357\">송성문</a></td>\\r\\n\\t\\t\\t\\t\\t\\t\\t\\t<td>키움</td>\\r\\n\\t\\t\\t\\t\\t\\t\\t\\t<td data-id=\"HRA_RT\">0.143</td>\\r\\n\\t\\t\\t\\t\\t\\t\\t\\t<td data-id=\"GAME_CN\">4</td>\\r\\n\\t\\t\\t\\t\\t\\t\\t\\t<td data-id=\"PA_CN\">15</td>\\r\\n\\t\\t\\t\\t\\t\\t\\t\\t<td data-id=\"AB_CN\">14</td>\\r\\n\\t\\t\\t\\t\\t\\t\\t\\t<td data-id=\"HIT_CN\">2</td>\\r\\n\\t\\t\\t\\t\\t\\t\\t\\t<td data-id=\"H2_CN\">0</td>\\r\\n\\t\\t\\t\\t\\t\\t\\t\\t<td data-id=\"H3_CN\">0</td>\\r\\n\\t\\t\\t\\t\\t\\t\\t\\t<td data-id=\"HR_CN\">0</td>\\r\\n\\t\\t\\t\\t\\t\\t\\t\\t<td data-id=\"RBI_CN\">1</td>\\r\\n\\t\\t\\t\\t\\t\\t\\t\\t<td data-id=\"SB_CN\">0</td>\\r\\n\\t\\t\\t\\t\\t\\t\\t\\t<td data-id=\"CS_CN\">0</td>\\r\\n\\t\\t\\t\\t\\t\\t\\t\\t<td data-id=\"BB_CN\">0</td>\\r\\n\\t\\t\\t\\t\\t\\t\\t\\t<td data-id=\"HP_CN\">0</td>\\r\\n\\t\\t\\t\\t\\t\\t\\t\\t<td data-id=\"KK_CN\">1</td>\\r\\n\\t\\t\\t\\t\\t\\t\\t\\t<td data-id=\"GD_CN\">0</td>\\r\\n\\t\\t\\t\\t\\t\\t\\t\\t<td data-id=\"ERR_CN\">0</td>\\r\\n\\t\\t\\t\\t\\t\\t\\t</tr>\\r\\n\\t\\t\\t\\t\\t\\t\\r\\n\\t\\t\\t\\t\\t\\t\\t<tr>\\r\\n\\t\\t\\t\\t\\t\\t\\t\\t<td>15</td>\\r\\n\\t\\t\\t\\t\\t\\t\\t\\t<td><a href=\"/Record/Player/HitterDetail/Basic.aspx?playerId=66108\">홍창기</a></td>\\r\\n\\t\\t\\t\\t\\t\\t\\t\\t<td>LG</td>\\r\\n\\t\\t\\t\\t\\t\\t\\t\\t<td data-id=\"HRA_RT\">0.091</td>\\r\\n\\t\\t\\t\\t\\t\\t\\t\\t<td data-id=\"GAME_CN\">4</td>\\r\\n\\t\\t\\t\\t\\t\\t\\t\\t<td data-id=\"PA_CN\">12</td>\\r\\n\\t\\t\\t\\t\\t\\t\\t\\t<td data-id=\"AB_CN\">11</td>\\r\\n\\t\\t\\t\\t\\t\\t\\t\\t<td data-id=\"HIT_CN\">1</td>\\r\\n\\t\\t\\t\\t\\t\\t\\t\\t<td data-id=\"H2_CN\">0</td>\\r\\n\\t\\t\\t\\t\\t\\t\\t\\t<td data-id=\"H3_CN\">0</td>\\r\\n\\t\\t\\t\\t\\t\\t\\t\\t<td data-id=\"HR_CN\">0</td>\\r\\n\\t\\t\\t\\t\\t\\t\\t\\t<td data-id=\"RBI_CN\">0</td>\\r\\n\\t\\t\\t\\t\\t\\t\\t\\t<td data-id=\"SB_CN\">0</td>\\r\\n\\t\\t\\t\\t\\t\\t\\t\\t<td data-id=\"CS_CN\">0</td>\\r\\n\\t\\t\\t\\t\\t\\t\\t\\t<td data-id=\"BB_CN\">1</td>\\r\\n\\t\\t\\t\\t\\t\\t\\t\\t<td data-id=\"HP_CN\">0</td>\\r\\n\\t\\t\\t\\t\\t\\t\\t\\t<td data-id=\"KK_CN\">2</td>\\r\\n\\t\\t\\t\\t\\t\\t\\t\\t<td data-id=\"GD_CN\">0</td>\\r\\n\\t\\t\\t\\t\\t\\t\\t\\t<td data-id=\"ERR_CN\">0</td>\\r\\n\\t\\t\\t\\t\\t\\t\\t</tr>\\r\\n\\t\\t\\t\\t\\t\\t\\r\\n\\t\\t\\t\\t\\t\\t\\t\\r\\n\\t\\t\\t\\t\\t\\t</tbody>\\r\\n\\t\\t\\t\\t\\t</table> \\r\\n\\t\\t\\t\\t\\t\\r\\n<div class=\"paging\">    \\r\\n\\t\\r\\n\\t\\r\\n\\t<a id=\"cphContents_cphContents_cphContents_ucPager_btnNo1\" class=\"on\" href=\"javascript:__doPostBack(&#39;ctl00$ctl00$ctl00$cphContents$cphContents$cphContents$ucPager$btnNo1&#39;,&#39;&#39;)\">1</a>\\r\\n\\t\\r\\n\\t\\r\\n\\t\\r\\n\\t\\r\\n\\t\\r\\n\\t\\r\\n\\t\\r\\n\\t\\r\\n\\t\\r\\n\\t\\r\\n\\t\\r\\n</div>\\r\\n\\t\\t\\t\\t\\t<input type=\"hidden\" name=\"ctl00$ctl00$ctl00$cphContents$cphContents$cphContents$hfPage\" id=\"cphContents_cphContents_cphContents_hfPage\" value=\"1\" />\\r\\n\\t\\t\\t\\t\\t<input type=\"hidden\" name=\"ctl00$ctl00$ctl00$cphContents$cphContents$cphContents$hfOrderByCol\" id=\"cphContents_cphContents_cphContents_hfOrderByCol\" value=\"HRA_RT\" />\\r\\n\\t\\t\\t\\t\\t<input type=\"hidden\" name=\"ctl00$ctl00$ctl00$cphContents$cphContents$cphContents$hfOrderBy\" id=\"cphContents_cphContents_cphContents_hfOrderBy\" value=\"DESC\" />\\r\\n\\t\\t\\t\\t\\t<a id=\"cphContents_cphContents_cphContents_lbtnOrderBy\" href=\"javascript:__doPostBack(&#39;ctl00$ctl00$ctl00$cphContents$cphContents$cphContents$lbtnOrderBy&#39;,&#39;&#39;)\" style=\"display:none\"></a>\\r\\n\\t\\t\\t\\t</div>\\r\\n\\t\\t\\t\\r\\n</div>\\r\\n\\t</div>\\r\\n</div>\\r\\n\\r\\n\\t</div>\\r\\n</section>\\r\\n\\r\\n\\r\\n\\t\\t    <!-- // container -->\\t\\r\\n\\t\\t    <hr />\\r\\n\\t\\t    <!-- footer -->\\r\\n\\t\\t    <footer>\\r\\n\\t\\t\\t    <div id=\"fnb\">\\r\\n\\t\\t\\t\\t    <div class=\"wrapping fnb-wrap\">\\r\\n\\t\\t\\t\\t\\t    <ul class=\"fnb-list\">\\r\\n\\t\\t\\t\\t\\t\\t    <li class=\"privacy\"><a href=\"/Etc/Privacy.aspx\">개인정보 처리방침</a></li>\\r\\n\\t\\t\\t\\t\\t\\t    <li><a href=\"/Schedule/ScoreBoard.aspx\">문자중계</a></li>\\r\\n\\t\\t\\t\\t\\t\\t    <li><a href=\"/Board/Faqs/List.aspx\">고객질문</a></li>\\r\\n\\t\\t\\t\\t\\t\\t    <li><a href=\"/Etc/SiteMap.aspx\">사이트맵</a></li>\\r\\n\\t\\t\\t\\t\\t\\t    \\r\\n\\t\\t\\t\\t\\t    </ul>\\r\\n\\t\\t\\t\\t\\t    \\r\\n\\t\\t\\t\\t    </div>\\r\\n\\t\\t\\t    </div>\\r\\n\\t\\t\\t    <div id=\"kboInfo\" class=\"wrapping\">\\r\\n\\t\\t\\t\\t    <h2><a href=\"/Etc/PressRelease.aspx\"><img src=\"//lgcxydabfbch3774324.cdn.ntruss.com/KBO_IMAGE/KBOHome/resources/images/common/h2_logo.png\" alt=\"KBO\" /></a></h2>\\r\\n\\t\\t\\t\\t    <address class=\"kbo-info\">\\r\\n\\t\\t\\t\\t\\t    <div class=\"address01\">\\r\\n\\t\\t\\t\\t\\t\\t    <p>(사)한국야구위원회</p>\\r\\n\\t\\t\\t\\t\\t\\t\\t<p>02) 3460-4600</p>\\r\\n\\t\\t\\t\\t\\t\\t\\t<p>서울시 강남구 강남대로 278</p>\\t\\t\\t\\t\\t\\r\\n\\t\\t\\t\\t\\t    </div>\\r\\n\\t\\t\\t\\t\\t    \\r\\n\\t\\t\\t\\t    </address>\\r\\n\\t\\t\\t\\t    <div class=\"copyright\">\\r\\n\\t\\t\\t\\t\\t    <span>본 사이트는 스포츠투아이㈜가 KBO 리그 팬을 위해 운영하는 KBO 공식 사이트입니다. </span><br />\\r\\n\\t\\t\\t\\t\\t    <span>Copyrightⓒ KBO, All Rights Reserved.</span>\\r\\n\\t\\t\\t\\t    </div>\\r\\n\\t\\t\\t\\t\\t<div class=\"certification\">\\r\\n\\t\\t\\t\\t\\t\\t<img src=\"//lgcxydabfbch3774324.cdn.ntruss.com/KBO_IMAGE/KBOHome/resources/images/main/img_certification.png\" alt=\"w3c xhtml 3.0, Verisign\" />\\r\\n\\t\\t\\t\\t\\t</div>\\r\\n\\t\\t\\t    </div>\\r\\n\\t\\t    </footer>\\r\\n\\t\\t    <!-- // footer -->\\r\\n\\t    </div>\\r\\n\\t    <!-- // wrap -->\\r\\n    \\r\\n\\r\\n<script type=\"text/javascript\">\\r\\n//<![CDATA[\\r\\njQuery(function ($) {$(\\'[data-id=HRA_RT]\\').addClass(\\'asc\\');$(\\'[data-id=HRA_RT]\\').siblings().removeClass(\\'asc\\');});//]]>\\r\\n</script>\\r\\n</form>\\r\\n    \\r\\n    \\r\\n\\r\\n    \\r\\n    \\r\\n    \\r\\n<script type=\"text/javascript\">\\r\\n    currentLnb(\"02\");\\r\\n\\r\\n    function tooltip(x) {\\r\\n        var title = $(x).attr(\"title\");\\r\\n        $(x).append(\"<div class=\\'tooltip\\'></div>\");\\r\\n        $(\".tooltip\").html(title);\\r\\n        var cnt = $(\".tooltip\").text().length;\\r\\n        $(\".tooltip\").css(\"width\", cnt * 12);\\r\\n        $(\".tData01 thead tr th:last-child\").find(\"> a .tooltip\").css({\\r\\n            right: 0,\\r\\n            top: \\'-35px\\'\\r\\n        });\\r\\n        return false;\\r\\n    }\\r\\n\\r\\n    function hideTip() {\\r\\n        $(\".tooltip\").remove();\\r\\n    }\\r\\n\\r\\n    $(\".record_words a\").on(\"click\", function (e) {\\r\\n        e.preventDefault();\\r\\n        Words();\\r\\n        $(\".words\").show();\\r\\n    });\\r\\n\\r\\n    function sort(colName) {\\r\\n\\t    var order = $(\"#cphContents_cphContents_cphContents_hfOrderBy\").val();           //정렬조건 \\r\\n\\r\\n        if($(\"#cphContents_cphContents_cphContents_hfOrderByCol\").val() == colName) {\\r\\n            if (order.indexOf(\"DESC\") > -1) {\\r\\n                order = \"ASC\";\\r\\n            } else {\\r\\n                order = \"DESC\";\\r\\n            }\\r\\n        } else {\\r\\n            if(colName == \"ERA_RT\") {\\r\\n                order = \"ASC\";\\r\\n            } else {\\r\\n                order = \"DESC\";\\r\\n            }\\r\\n        } \\r\\n\\r\\n        $(\"#cphContents_cphContents_cphContents_hfOrderByCol\").val(colName);\\r\\n        $(\"#cphContents_cphContents_cphContents_hfOrderBy\").val(order);\\r\\n        __doPostBack(\\'ctl00$ctl00$ctl00$cphContents$cphContents$cphContents$lbtnOrderBy\\',\\'\\')\\r\\n    }\\r\\n</script>\\r\\n\\r\\n\\r\\n\\r\\n    <script type=\"text/javascript\">\\r\\n        $(document).ready(function () {\\r\\n            // 선수 검색\\r\\n            $(document).on(\"click\", \"#btnTopPlayerSearch\", function (e) {\\r\\n                getPlayerSearch();\\r\\n                e.preventDefault();\\r\\n            });\\r\\n\\r\\n            // 선수 검색 엔터\\r\\n            $(document).on(\"keypress\", \"#txtTopPlayerWord\", function (e) {\\r\\n                if (event.keyCode == 13) {\\r\\n                    getPlayerSearch();\\r\\n                    e.preventDefault();\\r\\n                }\\r\\n            });\\r\\n\\r\\n            //// 선수 검색 마우스 아웃\\r\\n            //$(\"body\").click(function (e) {\\r\\n            //    var container = $(\"#player_search_area\");\\r\\n\\r\\n            //    if (container.css(\"display\") == \"block\") {\\r\\n            //        if (!container.has(e.target).length) {\\r\\n            //            container.hide();\\r\\n            //        }\\r\\n            //    }\\r\\n            //});\\r\\n\\r\\n\\t\\t\\t// 21.06.29 | veron | 나중에 탭들 다 지우고 배너 다시 원복 후 이부분 삭제해야함\\r\\n\\t\\t\\t// 8월 15일 00시 지나가면 삭제 \\r\\n            if (new Date().getTime() > new Date(\"2021/08/15 00:00:00\").getTime()) {\\r\\n\\t\\t\\t\\t// 위에 탭 삭제\\r\\n                $(\".menu04 li:last\").remove();\\r\\n                $(\".lnb-sub ul.lnb04 li:last\").remove();\\r\\n\\t\\t\\t\\t// Player.master 삭제\\r\\n                $(\"#liRookie\").remove();\\r\\n\\t\\t\\t\\t// 메인 배너 교체\\r\\n                $(\"#imgGijang\").attr(\"href\", \"http://gijangcmc.or.kr/baseball/main/main.asp\");\\r\\n                $(\"#imgGijang img\").attr(\"src\", \"//lgcxydabfbch3774324.cdn.ntruss.com/KBO_IMAGE/KBOHome/resources/images/main/img_banner01.jpg\");\\r\\n\\t\\t\\t}\\r\\n\\r\\n\\t\\t\\t// 22.09.06, 김연중, 신인드래프트 신청 이벤트 표출시간\\r\\n            if (new Date().getTime() < new Date(\"2022/09/07 09:00:00\"))\\r\\n\\t\\t\\t\\t$(\\'.lnbDraft\\').hide();\\r\\n        });\\r\\n\\r\\n        // 선수 검색\\r\\n        function getPlayerSearch() {\\r\\n            if ($(\"#txtTopPlayerWord\").val() == \"\") {\\r\\n                alert(\"선수명은 필수 입니다.\");\\r\\n                $(\"#txtTopPlayerWord\").focus();\\r\\n                return false;\\r\\n            } else {\\r\\n                //var searchWord = encodeURI($(\"#txtTopPlayerWord\").val());\\r\\n\\r\\n                //if (searchWord != \"\") {\\r\\n                //    location.href = \"/Player/Search.aspx?searchWord=\" + searchWord;\\r\\n                //}\\r\\n                var request = $.ajax({\\r\\n                    type: \"post\"\\r\\n                    , url: \"/ws/Controls.asmx/GetSearchPlayer\"\\r\\n                    , dataType: \"json\"\\r\\n                    , data: {\\r\\n                        name: $(\"#txtTopPlayerWord\").val()\\r\\n                    }\\r\\n                    , error: ajaxFailed\\r\\n                    , async: true\\r\\n                });\\r\\n\\r\\n                request.done(function (data) {\\r\\n                    if (data.code == \"100\") {\\r\\n                        var container = $(\".search-result\");\\r\\n                        container.children().remove();\\r\\n\\r\\n                        container.hide();\\r\\n\\r\\n                        if (data.now.length > 0 || data.retire.length > 0) {\\r\\n                            // 2017-05-22 yeeun, 홍지희 사원 요청, 결과가 1명일 경우 바로 페이지 연결\\r\\n                            if (data.now.length + data.retire.length == 1) {\\r\\n                                var link = \"\";\\r\\n\\r\\n                                if (data.now.length == 1) {\\r\\n                                    link = data.now[0][\"P_LINK\"];\\r\\n                                } else {\\r\\n                                    link = data.retire[0][\"P_LINK\"];\\r\\n                                }\\r\\n\\r\\n                                location.href = link;\\r\\n                            } else {\\r\\n                                if (data.now.length > 0) {\\r\\n                                    container.append($(\"<h4>등록 선수</h4>\"));\\r\\n\\r\\n                                    var div = $(\"<div class=\\'active\\' />\");\\r\\n                                    div.children().remove();\\r\\n\\r\\n                                    setPlayerDiv(data.now, div, true);\\r\\n\\r\\n                                    container.append(div);\\r\\n                                }\\r\\n\\r\\n                                if (data.retire.length > 0) {\\r\\n                                    container.append($(\"<h4>역대 선수</h4>\"));\\r\\n\\r\\n                                    var div = $(\"<div class=\\'retire\\'/>\");\\r\\n                                    div.children().remove();\\r\\n\\r\\n                                    setPlayerDiv(data.retire, div, false);\\r\\n\\r\\n                                    container.append(div);\\r\\n                                }\\r\\n\\r\\n                                //container.append($(String.format(\"<p><a href=\\'/Player/Search.aspx?searchWord={0}\\'\\'>\\'{0}\\' 검색결과 모두 보기</a></p>\", $(\"#txtTopPlayerWord\").val())));\\r\\n                                container.append($(\"<p><a href=\\'/Player/Search.aspx?searchWord=\" + $(\"#txtTopPlayerWord\").val() + \"\\'\\'>\\'\" + $(\"#txtTopPlayerWord\").val() + \"\\' 검색결과 모두 보기</a></p>\"));\\r\\n                                container.show();\\r\\n                            }\\r\\n                        } else {\\r\\n                            container.append($(\"<p class=\\'null\\'>검색 결과가 없습니다.</p>\"));\\r\\n                            container.show();\\r\\n                        }\\r\\n                    }\\r\\n                });\\r\\n            }\\r\\n        }\\r\\n\\r\\n        // 선수 검색 div \\r\\n        function setPlayerDiv(list, div, isActive) {\\r\\n            $.each(list, function (index, player) {\\r\\n                var aLink = $(\"<a />\");\\r\\n                aLink.attr(\"href\", player[\"P_LINK\"]);\\r\\n\\r\\n                var dl = $(\"<dl />\");\\r\\n                var dt = $(\"<dt />\");\\r\\n                var backNo = \"\";\\r\\n\\r\\n                if (isActive) {\\r\\n                    //backNo = String.format(\"No.{0}\", player[\"BACK_NO\"]);\\r\\n                    backNo = \"No.\" + player[\"BACK_NO\"];\\r\\n                }\\r\\n\\r\\n                //dt.text(String.format(\"{0} {1}\", player[\"P_NM\"], backNo));\\r\\n                dt.text(player[\"P_NM\"] + \" \" + backNo);\\r\\n                dl.append(dt);\\r\\n\\r\\n                var dd = $(\"<dd />\");\\r\\n                //dd.text(String.format(\"{0} {1}({2})\", player[\"T_NM\"], player[\"POS_NO\"], player[\"P_TYPE\"]));\\r\\n                dd.text(player[\"T_NM\"] + \" \" + player[\"POS_NO\"] + \"(\" + player[\"P_TYPE\"] + \")\");\\r\\n                dl.append(dd);\\r\\n\\r\\n                var ddImg = $(String.format(\"<dd class=\\'btn-arrow\\'><img src=\\'{0}/resources/images/common/btn_arrow_search.png\\' alt=\\'\\' /></dd>\", \"//lgcxydabfbch3774324.cdn.ntruss.com/KBO_IMAGE/KBOHome\"));\\r\\n                dl.append(ddImg);\\r\\n\\r\\n                aLink.append(dl);\\r\\n                div.append(aLink);\\r\\n            });\\r\\n        }\\r\\n    </script>\\r\\n</body>\\r\\n</html>'"
      ]
     },
     "execution_count": 4,
     "metadata": {},
     "output_type": "execute_result"
    }
   ],
   "source": [
    "req.text"
   ]
  },
  {
   "cell_type": "code",
   "execution_count": 5,
   "id": "2a72c50e-a2c3-4c92-a431-4c2051c50f86",
   "metadata": {},
   "outputs": [],
   "source": [
    "html = req.text"
   ]
  },
  {
   "cell_type": "code",
   "execution_count": 6,
   "id": "98ec1e0e-e5d6-4cd1-a324-00368039ee6d",
   "metadata": {},
   "outputs": [],
   "source": [
    "from bs4 import BeautifulSoup"
   ]
  },
  {
   "cell_type": "code",
   "execution_count": 7,
   "id": "87e7ba23-41b2-47b7-998a-346f805add97",
   "metadata": {},
   "outputs": [],
   "source": [
    "soup = BeautifulSoup(html, 'html.parser')"
   ]
  },
  {
   "cell_type": "code",
   "execution_count": 8,
   "id": "90dfa000-2d5b-4c6b-815f-48df6d41e071",
   "metadata": {},
   "outputs": [],
   "source": [
    "name = soup.select('#cphContents_cphContents_cphContents_udpContent > div.record_result > table > tbody > tr > td:nth-child(2) > a')"
   ]
  },
  {
   "cell_type": "code",
   "execution_count": 30,
   "id": "a170c0d5-f68f-4fe2-bc7c-25c74999eaae",
   "metadata": {},
   "outputs": [
    {
     "data": {
      "text/plain": [
       "'https://www.koreabaseball.com/Record/Player/HitterDetail/Basic.aspx?playerId=67341'"
      ]
     },
     "execution_count": 30,
     "metadata": {},
     "output_type": "execute_result"
    }
   ],
   "source": [
    "'https://www.koreabaseball.com' + name[0]['href']"
   ]
  },
  {
   "cell_type": "code",
   "execution_count": 31,
   "id": "c6ccf536-4224-4334-9e0d-436f14316b5f",
   "metadata": {},
   "outputs": [
    {
     "data": {
      "text/plain": [
       "'이정후'"
      ]
     },
     "execution_count": 31,
     "metadata": {},
     "output_type": "execute_result"
    }
   ],
   "source": [
    "name[0].text"
   ]
  },
  {
   "cell_type": "code",
   "execution_count": 9,
   "id": "15ba1073-4c52-44ed-b22b-d83fa2e60b90",
   "metadata": {},
   "outputs": [],
   "source": [
    "name_t = []\n",
    "for i in name :\n",
    "    name_t.append(i.text)"
   ]
  },
  {
   "cell_type": "code",
   "execution_count": 10,
   "id": "994c945b-dad3-48c0-a825-7d1d8d31496b",
   "metadata": {},
   "outputs": [],
   "source": [
    "team = soup.select('#cphContents_cphContents_cphContents_udpContent > div.record_result > table > tbody > tr > td:nth-child(3)')"
   ]
  },
  {
   "cell_type": "code",
   "execution_count": 11,
   "id": "d5e5485f-ebdc-451f-b6d8-e4ff260a4f63",
   "metadata": {},
   "outputs": [],
   "source": [
    "team_t = []\n",
    "for i in team :\n",
    "    team_t.append(i.text)"
   ]
  },
  {
   "cell_type": "code",
   "execution_count": 12,
   "id": "b8744588-ef7a-4477-9058-2a12cf220b6c",
   "metadata": {},
   "outputs": [],
   "source": [
    "avg = soup.select('#cphContents_cphContents_cphContents_udpContent > div.record_result > table > tbody > tr:nth-child(1)')"
   ]
  },
  {
   "cell_type": "code",
   "execution_count": 13,
   "id": "f48f8f1a-4a4d-412c-8a38-584a4f2a7ec4",
   "metadata": {
    "collapsed": true,
    "jupyter": {
     "outputs_hidden": true
    },
    "tags": []
   },
   "outputs": [
    {
     "name": "stdout",
     "output_type": "stream",
     "text": [
      "\n",
      "1\n",
      "이정후\n",
      "키움\n",
      "0.500\n",
      "4\n",
      "17\n",
      "16\n",
      "8\n",
      "4\n",
      "0\n",
      "1\n",
      "2\n",
      "1\n",
      "0\n",
      "0\n",
      "1\n",
      "0\n",
      "0\n",
      "1\n",
      "\n"
     ]
    }
   ],
   "source": [
    "for i in avg :\n",
    "    print(i.text)"
   ]
  },
  {
   "cell_type": "code",
   "execution_count": 14,
   "id": "fdee9c6a-1537-460d-886f-23246e4399ca",
   "metadata": {},
   "outputs": [],
   "source": [
    "ab = soup.select('#cphContents_cphContents_cphContents_udpContent > div.record_result > table > tbody > tr > td:nth-child(7)')"
   ]
  },
  {
   "cell_type": "code",
   "execution_count": 15,
   "id": "751d1b35-bc0a-4c20-9bba-a80776fd0810",
   "metadata": {},
   "outputs": [],
   "source": [
    "h = soup.select('#cphContents_cphContents_cphContents_udpContent > div.record_result > table > tbody > tr> td:nth-child(8)')"
   ]
  },
  {
   "cell_type": "code",
   "execution_count": 16,
   "id": "20106c5d-df40-4ae9-919d-f744d1f81cfa",
   "metadata": {},
   "outputs": [],
   "source": [
    "ab_t = []\n",
    "for i in ab :\n",
    "    ab_t.append(i.text)"
   ]
  },
  {
   "cell_type": "code",
   "execution_count": 17,
   "id": "5d057f0c-71a8-4b0b-8170-050d9f811027",
   "metadata": {},
   "outputs": [],
   "source": [
    "h_t = []\n",
    "for i in h :\n",
    "    h_t.append(i.text)"
   ]
  },
  {
   "cell_type": "code",
   "execution_count": 18,
   "id": "9375a47d-6a49-464c-b824-8bde7b012347",
   "metadata": {},
   "outputs": [],
   "source": [
    "data = list(zip(name_t, team_t, ab_t, h_t))"
   ]
  },
  {
   "cell_type": "code",
   "execution_count": 19,
   "id": "56ddb9ef-6bdf-421c-90ff-4f90fafa22a4",
   "metadata": {},
   "outputs": [],
   "source": [
    "import pandas as pd"
   ]
  },
  {
   "cell_type": "code",
   "execution_count": 20,
   "id": "f0dc52e7-0932-47ef-9ece-69cd89d6b251",
   "metadata": {},
   "outputs": [],
   "source": [
    "df = pd.DataFrame(data, columns=['선수명', '팀명', 'AB', 'H'])"
   ]
  },
  {
   "cell_type": "code",
   "execution_count": 21,
   "id": "558cbd09-fe95-4638-a7e9-cc723a833c93",
   "metadata": {},
   "outputs": [
    {
     "name": "stdout",
     "output_type": "stream",
     "text": [
      "<class 'pandas.core.frame.DataFrame'>\n",
      "RangeIndex: 15 entries, 0 to 14\n",
      "Data columns (total 4 columns):\n",
      " #   Column  Non-Null Count  Dtype \n",
      "---  ------  --------------  ----- \n",
      " 0   선수명     15 non-null     object\n",
      " 1   팀명      15 non-null     object\n",
      " 2   AB      15 non-null     object\n",
      " 3   H       15 non-null     object\n",
      "dtypes: object(4)\n",
      "memory usage: 608.0+ bytes\n"
     ]
    }
   ],
   "source": [
    "df.info()"
   ]
  },
  {
   "cell_type": "code",
   "execution_count": 22,
   "id": "8884c0a3-d44b-4d3c-bab6-4e06b3d8fb73",
   "metadata": {},
   "outputs": [],
   "source": [
    "df['AB'] = df['AB'].astype(int)"
   ]
  },
  {
   "cell_type": "code",
   "execution_count": 23,
   "id": "b40ae2d1-4ca9-4a22-a127-168b79b01f99",
   "metadata": {},
   "outputs": [],
   "source": [
    "df['H'] = df['H'].astype(int)"
   ]
  },
  {
   "cell_type": "code",
   "execution_count": 24,
   "id": "b28fe0b0-477c-411b-9871-5a8ee5854f4c",
   "metadata": {},
   "outputs": [],
   "source": [
    "df['AVG2'] = df['H'] / df['AB']"
   ]
  },
  {
   "cell_type": "code",
   "execution_count": 25,
   "id": "6ef90c04-d8b0-4298-b407-36079c03bd1d",
   "metadata": {},
   "outputs": [],
   "source": [
    "df['AVG2'] = round(df['AVG2'],3)"
   ]
  },
  {
   "cell_type": "code",
   "execution_count": 26,
   "id": "5fbf72fb-a733-4f0a-a6ab-99c3119de6c8",
   "metadata": {},
   "outputs": [
    {
     "data": {
      "text/plain": [
       "키움    9\n",
       "LG    6\n",
       "Name: 팀명, dtype: int64"
      ]
     },
     "execution_count": 26,
     "metadata": {},
     "output_type": "execute_result"
    }
   ],
   "source": [
    "df['팀명'].value_counts()"
   ]
  },
  {
   "cell_type": "code",
   "execution_count": 27,
   "id": "c0c1a955-f747-408d-8d95-2e10348f5ffe",
   "metadata": {},
   "outputs": [],
   "source": [
    "df.to_csv('Hitter2022.csv', index= False, encoding= 'euc-kr')"
   ]
  },
  {
   "cell_type": "code",
   "execution_count": null,
   "id": "1ade9571-f733-41ae-b16f-896aea24a7fa",
   "metadata": {},
   "outputs": [],
   "source": []
  },
  {
   "cell_type": "markdown",
   "id": "71e0f863-2afd-40c4-a976-07c97e0b1590",
   "metadata": {},
   "source": [
    "-----------------"
   ]
  },
  {
   "cell_type": "markdown",
   "id": "1dcee99d-03ac-4d05-83d5-549ac156d503",
   "metadata": {},
   "source": [
    "# 화요일 오후"
   ]
  },
  {
   "cell_type": "code",
   "execution_count": 33,
   "id": "36804151-87fa-4e01-85b6-64ed1cb9c097",
   "metadata": {},
   "outputs": [],
   "source": [
    "req = requests.get(url)"
   ]
  },
  {
   "cell_type": "code",
   "execution_count": 34,
   "id": "9eb7f536-54a1-4ed4-83e7-beec3aad9842",
   "metadata": {},
   "outputs": [],
   "source": [
    "html = req.content "
   ]
  },
  {
   "cell_type": "code",
   "execution_count": 35,
   "id": "27c1085f-3529-4f3f-bf04-0ca67c69e561",
   "metadata": {},
   "outputs": [],
   "source": [
    "soup = BeautifulSoup(html, 'html.parser')"
   ]
  },
  {
   "cell_type": "code",
   "execution_count": 40,
   "id": "7cdad5c5-6122-4e4e-b4d6-8ad3682c3fbf",
   "metadata": {},
   "outputs": [
    {
     "ename": "TypeError",
     "evalue": "select() missing 1 required positional argument: 'selector'",
     "output_type": "error",
     "traceback": [
      "\u001b[1;31m---------------------------------------------------------------------------\u001b[0m",
      "\u001b[1;31mTypeError\u001b[0m                                 Traceback (most recent call last)",
      "Input \u001b[1;32mIn [40]\u001b[0m, in \u001b[0;36m<cell line: 1>\u001b[1;34m()\u001b[0m\n\u001b[1;32m----> 1\u001b[0m \u001b[43msoup\u001b[49m\u001b[38;5;241;43m.\u001b[39;49m\u001b[43mselect\u001b[49m\u001b[43m(\u001b[49m\u001b[43m)\u001b[49m\n",
      "\u001b[1;31mTypeError\u001b[0m: select() missing 1 required positional argument: 'selector'"
     ]
    }
   ],
   "source": [
    "soup.select()"
   ]
  },
  {
   "cell_type": "code",
   "execution_count": null,
   "id": "3324773f-88df-4cda-9dca-e8470fba7544",
   "metadata": {},
   "outputs": [],
   "source": [
    "import pandas as pd\n",
    "import requests\n",
    "from bs4 import BeautifulSoup"
   ]
  },
  {
   "cell_type": "code",
   "execution_count": 41,
   "id": "e9035c72-f7e8-4284-a64a-a79cb8400b72",
   "metadata": {},
   "outputs": [
    {
     "data": {
      "text/plain": [
       "'자동'"
      ]
     },
     "execution_count": 41,
     "metadata": {},
     "output_type": "execute_result"
    }
   ],
   "source": [
    "'   자동   '.strip()"
   ]
  },
  {
   "cell_type": "code",
   "execution_count": null,
   "id": "f52c0693-762f-44a8-9d7a-7e5630dcbb99",
   "metadata": {},
   "outputs": [],
   "source": []
  },
  {
   "cell_type": "code",
   "execution_count": null,
   "id": "5eef37c1-7750-410b-a5a3-f49f4066a103",
   "metadata": {},
   "outputs": [],
   "source": []
  },
  {
   "cell_type": "code",
   "execution_count": null,
   "id": "014c5b2e-2760-4a0d-89bf-120ec661eddd",
   "metadata": {},
   "outputs": [],
   "source": []
  },
  {
   "cell_type": "code",
   "execution_count": null,
   "id": "36aaaa3a-f9b5-40a4-9867-b84fc381e75f",
   "metadata": {},
   "outputs": [],
   "source": []
  },
  {
   "cell_type": "code",
   "execution_count": null,
   "id": "65ce04d9-1306-4c05-8b2d-7633c1668d6d",
   "metadata": {},
   "outputs": [],
   "source": []
  },
  {
   "cell_type": "code",
   "execution_count": null,
   "id": "9914ce4c-74ec-4039-9347-ca5087e566d0",
   "metadata": {},
   "outputs": [],
   "source": []
  },
  {
   "cell_type": "code",
   "execution_count": null,
   "id": "1357fb75-e743-4595-afd2-beaa0d1c0ed4",
   "metadata": {},
   "outputs": [],
   "source": []
  },
  {
   "cell_type": "code",
   "execution_count": null,
   "id": "91f24c8b-a3f5-4262-9520-5062705ffc13",
   "metadata": {},
   "outputs": [],
   "source": []
  },
  {
   "cell_type": "code",
   "execution_count": null,
   "id": "03ff5ca8-722a-4991-a6d4-f27878a42800",
   "metadata": {},
   "outputs": [],
   "source": []
  },
  {
   "cell_type": "code",
   "execution_count": null,
   "id": "a2e48dcd-9f62-45a4-8d57-97e185adf3da",
   "metadata": {},
   "outputs": [],
   "source": []
  }
 ],
 "metadata": {
  "kernelspec": {
   "display_name": "Python 3 (ipykernel)",
   "language": "python",
   "name": "python3"
  },
  "language_info": {
   "codemirror_mode": {
    "name": "ipython",
    "version": 3
   },
   "file_extension": ".py",
   "mimetype": "text/x-python",
   "name": "python",
   "nbconvert_exporter": "python",
   "pygments_lexer": "ipython3",
   "version": "3.9.12"
  }
 },
 "nbformat": 4,
 "nbformat_minor": 5
}
