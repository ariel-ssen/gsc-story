{
 "cells": [
  {
   "cell_type": "markdown",
   "id": "d3c43567-3920-4ab0-abed-a834465504b2",
   "metadata": {},
   "source": [
    "## 출력 확인 "
   ]
  },
  {
   "cell_type": "code",
   "execution_count": null,
   "id": "5240a7e8-0c90-46ab-80b7-c4a84a5d7224",
   "metadata": {},
   "outputs": [],
   "source": [
    "a = 1"
   ]
  },
  {
   "cell_type": "code",
   "execution_count": null,
   "id": "97962915-a608-4d50-8ec4-9333572fb29e",
   "metadata": {},
   "outputs": [],
   "source": [
    "a"
   ]
  },
  {
   "cell_type": "code",
   "execution_count": null,
   "id": "e9f03cb3-e758-41bf-a4cf-30b93cfbabd6",
   "metadata": {},
   "outputs": [],
   "source": [
    "name = 'seeun'"
   ]
  },
  {
   "cell_type": "code",
   "execution_count": null,
   "id": "c35bcc97-e88a-4b16-9f24-5ae401d7af1e",
   "metadata": {},
   "outputs": [],
   "source": [
    "name"
   ]
  },
  {
   "cell_type": "code",
   "execution_count": null,
   "id": "861353a2-a132-4b9e-a7ed-8d42cbbeb5f4",
   "metadata": {},
   "outputs": [],
   "source": [
    "이름 = '세은'"
   ]
  },
  {
   "cell_type": "code",
   "execution_count": null,
   "id": "8813ebaf-3a8f-4ae3-8d43-7469d0498776",
   "metadata": {},
   "outputs": [],
   "source": [
    "이름"
   ]
  },
  {
   "cell_type": "markdown",
   "id": "7031649f-83b0-46fc-a4da-a44eae37e3cd",
   "metadata": {},
   "source": [
    "## 숫자형"
   ]
  },
  {
   "cell_type": "code",
   "execution_count": null,
   "id": "ad4bd8dd-bef0-419f-9890-e1e52b5057fa",
   "metadata": {},
   "outputs": [],
   "source": [
    "num1 = 123 #int 정수 "
   ]
  },
  {
   "cell_type": "code",
   "execution_count": null,
   "id": "a52fd547-f457-4967-8f6f-9f5f3ec63e11",
   "metadata": {},
   "outputs": [],
   "source": [
    "num2 = 1.1 #float 실수"
   ]
  },
  {
   "cell_type": "code",
   "execution_count": null,
   "id": "ffe96d2b-7a01-4040-87df-1d59c5852fa5",
   "metadata": {},
   "outputs": [],
   "source": [
    "type(num1)"
   ]
  },
  {
   "cell_type": "code",
   "execution_count": null,
   "id": "5c59e001-6f16-4aef-9bd8-5ee005ee210a",
   "metadata": {},
   "outputs": [],
   "source": [
    "num3 = '101'"
   ]
  },
  {
   "cell_type": "code",
   "execution_count": null,
   "id": "64e95e58-7dcf-4021-a725-009edd2c8b38",
   "metadata": {},
   "outputs": [],
   "source": [
    "type(num3) #str 문자형"
   ]
  },
  {
   "cell_type": "code",
   "execution_count": null,
   "id": "661d595d-9f7e-49cf-9f20-727bf69f9f33",
   "metadata": {},
   "outputs": [],
   "source": [
    "num1 + num3 #에러 타입 확인해 보면 정수와 문자는 더할수 없음 이라고 확인됨"
   ]
  },
  {
   "cell_type": "code",
   "execution_count": null,
   "id": "55bf3fb7-2e76-4eab-8550-6b2a7d81e339",
   "metadata": {},
   "outputs": [],
   "source": [
    "num1 + num2 #숫자형이여서 더할수 있음"
   ]
  },
  {
   "cell_type": "code",
   "execution_count": null,
   "id": "43374b5f-1fd8-4767-93bc-69d0317b2c7c",
   "metadata": {},
   "outputs": [],
   "source": [
    "int(num2) #float 실수를 int정수로 전환"
   ]
  },
  {
   "cell_type": "code",
   "execution_count": null,
   "id": "829c9419-9b96-4edf-aa06-4350bd60e459",
   "metadata": {},
   "outputs": [],
   "source": [
    "5%2   # %나누기후 나머지 반환 # // 나누기 후 몫 반환"
   ]
  },
  {
   "cell_type": "code",
   "execution_count": null,
   "id": "4f17f250-8080-49ce-a678-7c5130eda653",
   "metadata": {},
   "outputs": [],
   "source": [
    "5//2"
   ]
  },
  {
   "cell_type": "markdown",
   "id": "e4e69749-9a39-4790-8415-65db185634c0",
   "metadata": {},
   "source": [
    "## 인덱싱과 슬라이싱 "
   ]
  },
  {
   "cell_type": "code",
   "execution_count": null,
   "id": "a6c6dc15-cbcc-4372-adde-f182e2fc285c",
   "metadata": {},
   "outputs": [],
   "source": [
    "t = 'Hello Sesac!'"
   ]
  },
  {
   "cell_type": "code",
   "execution_count": null,
   "id": "eeeed9c3-3083-477f-90fe-2305460e2a42",
   "metadata": {},
   "outputs": [],
   "source": [
    "t[0]  #index 는 숫자를 0(제로)부터 세기 시작함  "
   ]
  },
  {
   "cell_type": "code",
   "execution_count": null,
   "id": "29e7a971-8d3a-4c5e-9461-cd917f76b1a2",
   "metadata": {},
   "outputs": [],
   "source": [
    "len(t) #빈칸도 길이로 측정함 "
   ]
  },
  {
   "cell_type": "code",
   "execution_count": null,
   "id": "b1fb43ce-716d-4b17-95a2-4efe4f5e4509",
   "metadata": {},
   "outputs": [],
   "source": [
    "t[11]"
   ]
  },
  {
   "cell_type": "code",
   "execution_count": null,
   "id": "b8d26183-7211-408a-ad62-0e59260ffc28",
   "metadata": {},
   "outputs": [],
   "source": [
    "t[5]"
   ]
  },
  {
   "cell_type": "code",
   "execution_count": null,
   "id": "fa44fc83-0f51-4c55-9630-a35e19b3a3bb",
   "metadata": {},
   "outputs": [],
   "source": [
    "t[-1] # -int  하면 뒤에서 부터 출력됨"
   ]
  },
  {
   "cell_type": "code",
   "execution_count": null,
   "id": "2e5a8bbd-9f41-4a4a-9a51-e94f7f8a263a",
   "metadata": {},
   "outputs": [],
   "source": [
    "t[6:11] # : 홀눈 사용하면 그 사이에 빈공값을 불러옴 # 6<= t < 11"
   ]
  },
  {
   "cell_type": "code",
   "execution_count": null,
   "id": "f9298bce-a566-4f3c-bb66-7296b7a8ae67",
   "metadata": {},
   "outputs": [],
   "source": [
    "t[:]"
   ]
  },
  {
   "cell_type": "code",
   "execution_count": null,
   "id": "4d9ebc82-204f-4ab4-9567-35a696f5294c",
   "metadata": {},
   "outputs": [],
   "source": [
    "t[-6:-1]"
   ]
  },
  {
   "cell_type": "markdown",
   "id": "91c33211-aa7c-46f3-83a7-5af4f19f83bd",
   "metadata": {},
   "source": [
    "## 문자열 관련 함수 "
   ]
  },
  {
   "cell_type": "markdown",
   "id": "c8ec54e7-5b10-4624-9fba-ea4daf47238a",
   "metadata": {},
   "source": [
    "count "
   ]
  },
  {
   "cell_type": "code",
   "execution_count": null,
   "id": "85e1193e-8232-4923-a07f-f60be8e81ce5",
   "metadata": {},
   "outputs": [],
   "source": [
    "name = 'KIMLEECHOIPARKLEELEE'"
   ]
  },
  {
   "cell_type": "code",
   "execution_count": null,
   "id": "a1621f2d-0f57-47f0-bf8d-ba1c923ecfbe",
   "metadata": {},
   "outputs": [],
   "source": [
    "name.count('LEE') #LEE 라는게 3개 있음 "
   ]
  },
  {
   "cell_type": "code",
   "execution_count": null,
   "id": "fc2cfbc8-e0ce-4174-9041-217ef27b9f88",
   "metadata": {},
   "outputs": [],
   "source": [
    "name.count('E') #E라는게 6개 있음"
   ]
  },
  {
   "cell_type": "code",
   "execution_count": null,
   "id": "f9a415f9-1e6e-41f7-b069-663b3546f79c",
   "metadata": {},
   "outputs": [],
   "source": [
    "name.find('LEE') #LEE 라는게 3개 있다고 찾음 "
   ]
  },
  {
   "cell_type": "code",
   "execution_count": null,
   "id": "74f29ea8-8b7b-43a6-9370-a17c5e277552",
   "metadata": {},
   "outputs": [],
   "source": [
    "name.index('CHOI')"
   ]
  },
  {
   "cell_type": "markdown",
   "id": "4b81fa74-fe87-4ea0-98ed-348fe542ce76",
   "metadata": {},
   "source": [
    "----------------------"
   ]
  },
  {
   "cell_type": "code",
   "execution_count": null,
   "id": "5a9c0edb-6149-4b12-8ddb-25a0560ab852",
   "metadata": {},
   "outputs": [],
   "source": [
    "'-'.join('12345') #어떤것을.조인 (이것과 함쳐짐)"
   ]
  },
  {
   "cell_type": "markdown",
   "id": "b1c524c9-685b-4401-b1b1-00d2de070dfb",
   "metadata": {},
   "source": [
    "----------------------------"
   ]
  },
  {
   "cell_type": "code",
   "execution_count": null,
   "id": "f20e9836-cf80-4cde-82bb-73ccbb7d3a5e",
   "metadata": {},
   "outputs": [],
   "source": [
    "msg = 'This is my phone'"
   ]
  },
  {
   "cell_type": "code",
   "execution_count": null,
   "id": "cedb5753-98a7-4587-8ec4-657e73cf32e8",
   "metadata": {},
   "outputs": [],
   "source": [
    "msg.upper() # upper 대문자"
   ]
  },
  {
   "cell_type": "code",
   "execution_count": null,
   "id": "adc21141-5874-46d4-90ac-336b9a64519f",
   "metadata": {},
   "outputs": [],
   "source": [
    "msg.lower() #low 소문자"
   ]
  },
  {
   "cell_type": "code",
   "execution_count": null,
   "id": "43b63121-37e4-46fe-94b4-6859360ec8d8",
   "metadata": {},
   "outputs": [],
   "source": [
    "msg.lower().find('phone')"
   ]
  },
  {
   "cell_type": "code",
   "execution_count": null,
   "id": "7a0a5a74-cf8d-4192-81d9-bc1aaaa9a159",
   "metadata": {},
   "outputs": [],
   "source": [
    "msg.strip()"
   ]
  },
  {
   "cell_type": "markdown",
   "id": "3ad3a4fb-627c-4681-bdee-933251a0d1c0",
   "metadata": {},
   "source": [
    "----"
   ]
  },
  {
   "cell_type": "code",
   "execution_count": null,
   "id": "2e0a9647-c888-4c72-b33a-4addd026b0fb",
   "metadata": {},
   "outputs": [],
   "source": [
    "msg2 = '       This is my phone        '"
   ]
  },
  {
   "cell_type": "code",
   "execution_count": null,
   "id": "93895f1c-4c14-4954-8c9d-c07c76ec04e1",
   "metadata": {},
   "outputs": [],
   "source": [
    "msg2.strip() #양쪽 공백 지우기"
   ]
  },
  {
   "cell_type": "code",
   "execution_count": null,
   "id": "100b81d8-dd5c-40ea-907d-408098e0711b",
   "metadata": {},
   "outputs": [],
   "source": [
    "msg2.lstrip() #left 왼쪽 공백 지우기"
   ]
  },
  {
   "cell_type": "code",
   "execution_count": null,
   "id": "af0eae66-d023-4c00-9804-84a11234fff2",
   "metadata": {},
   "outputs": [],
   "source": [
    "msg2.rstrip() #right 오른쪽 공백 지우기"
   ]
  },
  {
   "cell_type": "code",
   "execution_count": null,
   "id": "20fdb594-f04a-4f74-a536-33d2e683d98d",
   "metadata": {},
   "outputs": [],
   "source": [
    "msg222 = msg2.strip()"
   ]
  },
  {
   "cell_type": "code",
   "execution_count": null,
   "id": "780c8893-3e5a-47e2-b43d-ee209afee452",
   "metadata": {},
   "outputs": [],
   "source": [
    "msg.replace('my','your') #msg = 'This is my phone' my자리에 your 로 바뀜"
   ]
  },
  {
   "cell_type": "code",
   "execution_count": null,
   "id": "a7440558-b837-4fd7-a13c-1a590ea595cd",
   "metadata": {},
   "outputs": [],
   "source": [
    "msg.replace(' ','') # 공백을 공백없음으로 바꿈"
   ]
  },
  {
   "cell_type": "code",
   "execution_count": null,
   "id": "b3273ee9-74e3-4bd5-bf84-5e0835bcf998",
   "metadata": {},
   "outputs": [],
   "source": [
    "msg.replace('',' ')  # 공백없음을 모든 공백을 만들어줌 "
   ]
  },
  {
   "cell_type": "code",
   "execution_count": null,
   "id": "a67c9f37-fa48-435d-a58e-57ac64c7c000",
   "metadata": {},
   "outputs": [],
   "source": [
    "msg.split(' ')"
   ]
  },
  {
   "cell_type": "code",
   "execution_count": null,
   "id": "11835032-70b3-45f6-a163-69a11386e459",
   "metadata": {},
   "outputs": [],
   "source": [
    "'010-0000-0001'.split('-') # ('-')를 기준으로 문자열을 나눔 "
   ]
  },
  {
   "cell_type": "code",
   "execution_count": null,
   "id": "da201bfb-a875-4897-b375-fa8a7551e386",
   "metadata": {},
   "outputs": [],
   "source": [
    "'010-0000-0001'.split('-')[2]"
   ]
  },
  {
   "cell_type": "markdown",
   "id": "bbc6dd27-8d5c-4607-a90f-a254ef00d53d",
   "metadata": {},
   "source": [
    "## bool"
   ]
  },
  {
   "cell_type": "code",
   "execution_count": null,
   "id": "0953b427-df5a-49be-83da-c70f6b9d542e",
   "metadata": {},
   "outputs": [],
   "source": [
    "True"
   ]
  },
  {
   "cell_type": "code",
   "execution_count": null,
   "id": "acbc42de-df7a-4fb8-be8c-8aaec05a137d",
   "metadata": {},
   "outputs": [],
   "source": [
    "False"
   ]
  },
  {
   "cell_type": "code",
   "execution_count": null,
   "id": "94acd2a3-ed18-4341-859a-3c238c1e44ee",
   "metadata": {},
   "outputs": [],
   "source": [
    "int(True) #True 1 "
   ]
  },
  {
   "cell_type": "code",
   "execution_count": null,
   "id": "ce0b21e5-e6d4-4874-bac7-bb8389ff5127",
   "metadata": {},
   "outputs": [],
   "source": [
    "int(False) # false 0"
   ]
  },
  {
   "cell_type": "code",
   "execution_count": null,
   "id": "d60db335-d248-4ca0-b144-879cb7bd906c",
   "metadata": {},
   "outputs": [],
   "source": [
    "a = 0 \n",
    "if a :\n",
    "    print(a)\n",
    "else :\n",
    "    print('fail')"
   ]
  },
  {
   "cell_type": "markdown",
   "id": "08e2f97a-dbd4-46d0-93e4-45b2b5502ba4",
   "metadata": {},
   "source": [
    "=========================="
   ]
  },
  {
   "cell_type": "markdown",
   "id": "991e5296-ab3e-4f91-892b-71938657d861",
   "metadata": {},
   "source": [
    "## Quiz\n",
    "\n",
    "1. 57, 84, 93, 58, 67 의 평균은?\n",
    "2. 5188531 초를 시간, 분, 초 단위로 변환하세요.\n",
    "3. 2의 100제곱을 7로 나눈 몫과 나머지를 구하세요"
   ]
  },
  {
   "cell_type": "code",
   "execution_count": null,
   "id": "140b1b09-8302-4152-9378-3c6a4a5560a4",
   "metadata": {},
   "outputs": [],
   "source": [
    "(57+84+93+58+67)/5"
   ]
  },
  {
   "cell_type": "code",
   "execution_count": null,
   "id": "b1a809d1-b983-430c-aab0-9bb84dc88db0",
   "metadata": {},
   "outputs": [],
   "source": [
    "a = 5188531"
   ]
  },
  {
   "cell_type": "code",
   "execution_count": null,
   "id": "d4661621-a494-45c8-beb1-011498d0d390",
   "metadata": {},
   "outputs": [],
   "source": [
    "a"
   ]
  },
  {
   "cell_type": "code",
   "execution_count": null,
   "id": "b43b01a8-eeb3-4726-b15a-fa4514fe6697",
   "metadata": {},
   "outputs": [],
   "source": [
    "print(a//3600,'시간',(a%3600)//60 ,'분' , (a%3600)%60,'초')"
   ]
  },
  {
   "cell_type": "code",
   "execution_count": null,
   "id": "3ee55d68-e3c4-40ca-a3b3-cbac01fc4170",
   "metadata": {},
   "outputs": [],
   "source": [
    "(2**100)//7"
   ]
  },
  {
   "cell_type": "code",
   "execution_count": null,
   "id": "a5ac4b3b-5d56-4091-87b0-380338883e2d",
   "metadata": {},
   "outputs": [],
   "source": [
    "(2**100)%7"
   ]
  },
  {
   "cell_type": "code",
   "execution_count": null,
   "id": "92a6902e-db80-4efe-b4f3-83bdcede1723",
   "metadata": {},
   "outputs": [],
   "source": [
    "a = (2**100)"
   ]
  },
  {
   "cell_type": "code",
   "execution_count": null,
   "id": "17564124-8bd5-41ca-b5d3-370a28a93a31",
   "metadata": {},
   "outputs": [],
   "source": [
    "print(a//7,'몫')\n",
    "print(a%7, '나머지')"
   ]
  },
  {
   "cell_type": "code",
   "execution_count": null,
   "id": "05f96908-92a6-4cdf-be68-2c34fb69cab7",
   "metadata": {},
   "outputs": [],
   "source": []
  },
  {
   "cell_type": "code",
   "execution_count": null,
   "id": "14d04d74-d47a-4bba-a885-c08df72fc950",
   "metadata": {},
   "outputs": [],
   "source": []
  },
  {
   "cell_type": "markdown",
   "id": "907062ad-7c57-4f87-bd5e-c322c89b693a",
   "metadata": {},
   "source": [
    "### Quiz\n",
    "\n",
    "1. 900101-1234567 인 주민등록번호에서 성별을 나타내는 숫자만 인덱싱하세요.\n",
    "2. 900101-1234567 인 주민등록번호에서 사람의 나이를 구하세요.\n",
    "3. 900101-1234567 인 (-) 뒤의 숫자전체를 슬라이싱하세요."
   ]
  },
  {
   "cell_type": "code",
   "execution_count": 1,
   "id": "9fcb236d-14e9-4452-8f11-f5d86d1bd551",
   "metadata": {},
   "outputs": [],
   "source": [
    "a = '900101-1234567'"
   ]
  },
  {
   "cell_type": "code",
   "execution_count": 2,
   "id": "2c09d9b0-fe30-4175-a727-a47102237f2c",
   "metadata": {},
   "outputs": [
    {
     "data": {
      "text/plain": [
       "'900101-1234567'"
      ]
     },
     "execution_count": 2,
     "metadata": {},
     "output_type": "execute_result"
    }
   ],
   "source": [
    "a"
   ]
  },
  {
   "cell_type": "code",
   "execution_count": 3,
   "id": "2eb6c8f8-1f8e-4c7c-8529-3472bbf59349",
   "metadata": {},
   "outputs": [
    {
     "name": "stdout",
     "output_type": "stream",
     "text": [
      "1\n"
     ]
    }
   ],
   "source": [
    "print(a[7])"
   ]
  },
  {
   "cell_type": "code",
   "execution_count": 4,
   "id": "c48b0f3c-71a2-439f-868f-142aa29f19ea",
   "metadata": {},
   "outputs": [
    {
     "data": {
      "text/plain": [
       "33"
      ]
     },
     "execution_count": 4,
     "metadata": {},
     "output_type": "execute_result"
    }
   ],
   "source": [
    "2022-int('19'+a[:2])+1"
   ]
  },
  {
   "cell_type": "code",
   "execution_count": 7,
   "id": "0138fc5e-1b15-4571-acec-5d16d2c14b81",
   "metadata": {},
   "outputs": [
    {
     "data": {
      "text/plain": [
       "'1'"
      ]
     },
     "execution_count": 7,
     "metadata": {},
     "output_type": "execute_result"
    }
   ],
   "source": [
    "a[a.find('-')+1]"
   ]
  },
  {
   "cell_type": "code",
   "execution_count": 9,
   "id": "ba88827a-d962-4b34-9e0f-cf00beda20c4",
   "metadata": {},
   "outputs": [],
   "source": [
    "sex = a[a.find('-')+1]"
   ]
  },
  {
   "cell_type": "code",
   "execution_count": 10,
   "id": "cf1a42e4-b6a5-4321-952e-9e11b4bee854",
   "metadata": {},
   "outputs": [
    {
     "name": "stdout",
     "output_type": "stream",
     "text": [
      "33\n"
     ]
    }
   ],
   "source": [
    "if sex == '1' or sex == '2' :\n",
    "    print(2022-int('19'+a[:2])+1)\n",
    "else :\n",
    "    print(2022-int('19'+a[:2])+1)"
   ]
  },
  {
   "cell_type": "code",
   "execution_count": 11,
   "id": "1ccf8df3-65da-4492-bae6-d4c819dcdedd",
   "metadata": {},
   "outputs": [
    {
     "data": {
      "text/plain": [
       "'1234567'"
      ]
     },
     "execution_count": 11,
     "metadata": {},
     "output_type": "execute_result"
    }
   ],
   "source": [
    "a.split('-')[1]"
   ]
  },
  {
   "cell_type": "code",
   "execution_count": 13,
   "id": "99b3dd04-438a-4735-b19a-845e56bfe231",
   "metadata": {},
   "outputs": [
    {
     "data": {
      "text/plain": [
       "'1234567'"
      ]
     },
     "execution_count": 13,
     "metadata": {},
     "output_type": "execute_result"
    }
   ],
   "source": [
    "a[a.find('-')+1:]"
   ]
  },
  {
   "cell_type": "code",
   "execution_count": null,
   "id": "c6a54248-3959-4fe5-a9c0-c494d6381229",
   "metadata": {},
   "outputs": [],
   "source": []
  }
 ],
 "metadata": {
  "kernelspec": {
   "display_name": "Python 3 (ipykernel)",
   "language": "python",
   "name": "python3"
  },
  "language_info": {
   "codemirror_mode": {
    "name": "ipython",
    "version": 3
   },
   "file_extension": ".py",
   "mimetype": "text/x-python",
   "name": "python",
   "nbconvert_exporter": "python",
   "pygments_lexer": "ipython3",
   "version": "3.9.12"
  }
 },
 "nbformat": 4,
 "nbformat_minor": 5
}
