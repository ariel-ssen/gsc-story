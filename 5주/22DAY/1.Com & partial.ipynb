{
 "cells": [
  {
   "cell_type": "markdown",
   "id": "8c7c6120-1008-474d-ae8e-530848955036",
   "metadata": {},
   "source": [
    "# Python Comprehension"
   ]
  },
  {
   "cell_type": "markdown",
   "id": "b4c44854-06cf-4567-a531-5ba2b9daf183",
   "metadata": {},
   "source": [
    "- List\n",
    "- Set\n",
    "- Dict"
   ]
  },
  {
   "cell_type": "markdown",
   "id": "eaaefe97-b4e2-4eae-89ca-24596bcc823c",
   "metadata": {},
   "source": [
    "## List Comprehension"
   ]
  },
  {
   "cell_type": "markdown",
   "id": "26e3b34a-58aa-4205-abdb-26b8ca51deb5",
   "metadata": {},
   "source": [
    "### [출력표현식 for 요소 in 입력 Sequnce [if 조건식]]"
   ]
  },
  {
   "cell_type": "markdown",
   "id": "89a90471-4772-4065-85d0-e7368f1e004d",
   "metadata": {},
   "source": [
    "- 구구단 2단을 for 문에 넣어 보시오 "
   ]
  },
  {
   "cell_type": "code",
   "execution_count": 36,
   "id": "f92e35c6-aba7-4cb6-8b03-6c7b48791bf0",
   "metadata": {},
   "outputs": [],
   "source": [
    "list = []\n",
    "for i in range(1,10) :\n",
    "    list.append(2*i)\n",
    "    "
   ]
  },
  {
   "cell_type": "code",
   "execution_count": 37,
   "id": "8d944fed-228b-4897-9583-a152e01a8f53",
   "metadata": {},
   "outputs": [
    {
     "data": {
      "text/plain": [
       "[2, 4, 6, 8, 10, 12, 14, 16, 18]"
      ]
     },
     "execution_count": 37,
     "metadata": {},
     "output_type": "execute_result"
    }
   ],
   "source": [
    "list"
   ]
  },
  {
   "cell_type": "code",
   "execution_count": 38,
   "id": "b9de1716-632b-4abb-8e39-d966b6eca784",
   "metadata": {},
   "outputs": [],
   "source": [
    "llist = []\n",
    "for i in range(1,10) :\n",
    "    llist.append(2*i)"
   ]
  },
  {
   "cell_type": "code",
   "execution_count": 39,
   "id": "6233c67f-006f-4bcb-80d9-88c454f76bcb",
   "metadata": {},
   "outputs": [
    {
     "data": {
      "text/plain": [
       "[2, 4, 6, 8, 10, 12, 14, 16, 18]"
      ]
     },
     "execution_count": 39,
     "metadata": {},
     "output_type": "execute_result"
    }
   ],
   "source": [
    "llist"
   ]
  },
  {
   "cell_type": "markdown",
   "id": "10d777d4-5705-43a2-b800-d8efe409595a",
   "metadata": {},
   "source": [
    "-"
   ]
  },
  {
   "cell_type": "markdown",
   "id": "1861714c-587b-4bfa-a4a7-9eadc3805b1a",
   "metadata": {},
   "source": [
    "- Comprehension식"
   ]
  },
  {
   "cell_type": "code",
   "execution_count": null,
   "id": "987bdd36-f00a-4550-986c-faa0f074f14c",
   "metadata": {},
   "outputs": [],
   "source": [
    "[2*i for i in range(1,10)]"
   ]
  },
  {
   "cell_type": "markdown",
   "id": "57af03a4-18a5-4baf-9a53-e1c1b3777085",
   "metadata": {},
   "source": [
    "### Quiz \n",
    "- List Comprehension 을 이용해서 1~10까지 제곱 출력하기\n",
    "- [1,4,9,16,25,36,49,64,81,100]"
   ]
  },
  {
   "cell_type": "code",
   "execution_count": null,
   "id": "4d8b3229-d24b-493a-bac7-16ee283909d5",
   "metadata": {},
   "outputs": [],
   "source": [
    "[i*i for i in range(1,11)]"
   ]
  },
  {
   "cell_type": "markdown",
   "id": "f400b274-c376-46e3-b29b-90536e50081e",
   "metadata": {},
   "source": [
    "- 1~ 20 까지 짝수를 리스트에 넣기"
   ]
  },
  {
   "cell_type": "code",
   "execution_count": null,
   "id": "c23d58ed-bc69-4e2e-b1bd-4ac8dbd13a65",
   "metadata": {},
   "outputs": [],
   "source": [
    "list2 = []\n",
    "for i in range(1,21) :\n",
    "    if i%2 == 0 :\n",
    "        list2.append(i)"
   ]
  },
  {
   "cell_type": "code",
   "execution_count": null,
   "id": "1bf8ed31-9e02-430e-bc27-de0fbeb10423",
   "metadata": {},
   "outputs": [],
   "source": [
    "list2"
   ]
  },
  {
   "cell_type": "code",
   "execution_count": null,
   "id": "13851e06-40fd-4a9c-b514-5dc2d0fa59c7",
   "metadata": {},
   "outputs": [],
   "source": [
    "[i for i in range(1,21) if i%2 == 0]"
   ]
  },
  {
   "cell_type": "markdown",
   "id": "859e296a-34be-4871-980d-f3e00b9de4f6",
   "metadata": {},
   "source": [
    "### Quiz\n",
    "- oldlist에서 숫자만 뽑아서 newlist를 만들어라 "
   ]
  },
  {
   "cell_type": "code",
   "execution_count": 40,
   "id": "2ee2c371-9d8f-4de7-a48d-55a5042317a0",
   "metadata": {},
   "outputs": [],
   "source": [
    "oldlist = [1,2,'A',False,3]"
   ]
  },
  {
   "cell_type": "code",
   "execution_count": null,
   "id": "07ace897-1533-47d3-9e38-478f232115a9",
   "metadata": {},
   "outputs": [],
   "source": [
    "newlist = []"
   ]
  },
  {
   "cell_type": "code",
   "execution_count": null,
   "id": "1dc84e9c-e6cd-4a65-979d-2300827bae6b",
   "metadata": {},
   "outputs": [],
   "source": [
    "oldlist.remove('A')"
   ]
  },
  {
   "cell_type": "code",
   "execution_count": null,
   "id": "3a61719a-32ce-432d-93e5-3b6398588c43",
   "metadata": {},
   "outputs": [],
   "source": [
    "oldlist.remove(False)"
   ]
  },
  {
   "cell_type": "code",
   "execution_count": null,
   "id": "fd4c58b9-c396-4107-91d5-be678c4771a1",
   "metadata": {},
   "outputs": [],
   "source": [
    "oldlist"
   ]
  },
  {
   "cell_type": "code",
   "execution_count": null,
   "id": "50e209e8-6cf2-4cc1-b3de-50e009f3adc2",
   "metadata": {},
   "outputs": [],
   "source": [
    "list3 = []\n",
    "for i in oldlist :\n",
    "    list3.append(i**2)"
   ]
  },
  {
   "cell_type": "code",
   "execution_count": null,
   "id": "bc8e4316-0e01-47b9-9dbc-ecce725821a0",
   "metadata": {},
   "outputs": [],
   "source": [
    "list3"
   ]
  },
  {
   "cell_type": "markdown",
   "id": "6345dd49-e70d-4d55-bbd0-12543b30485b",
   "metadata": {},
   "source": [
    "-"
   ]
  },
  {
   "cell_type": "code",
   "execution_count": 41,
   "id": "52cac427-9a15-470c-974d-221526c0d7af",
   "metadata": {},
   "outputs": [],
   "source": [
    "newlist = [i*i for i in oldlist if type(i)== int]"
   ]
  },
  {
   "cell_type": "code",
   "execution_count": 42,
   "id": "8a4bf1cd-a3ea-4589-83e4-22776f513d79",
   "metadata": {},
   "outputs": [
    {
     "data": {
      "text/plain": [
       "[1, 4, 9]"
      ]
     },
     "execution_count": 42,
     "metadata": {},
     "output_type": "execute_result"
    }
   ],
   "source": [
    "newlist"
   ]
  },
  {
   "cell_type": "markdown",
   "id": "0803e7d8-bc69-4124-a7b7-fc24554f826f",
   "metadata": {},
   "source": [
    "## set comprehension // 중복을 제거하고 계산  "
   ]
  },
  {
   "cell_type": "code",
   "execution_count": null,
   "id": "0a1f2c31-31d0-4236-9d10-3746ea4eb2ad",
   "metadata": {},
   "outputs": [],
   "source": [
    "oldlist = [1,2,2,2,3,3,4]\n",
    "{i*i for i in oldlist}"
   ]
  },
  {
   "cell_type": "markdown",
   "id": "882d88a5-58ed-4484-b985-92e01706e4d4",
   "metadata": {},
   "source": [
    "## Dictionary Comprehension"
   ]
  },
  {
   "cell_type": "markdown",
   "id": "e5f0ee05-e127-45ea-8a3f-0aa49c1c2a90",
   "metadata": {},
   "source": [
    "- {Key:Value for 요소 in 입력 Sequence[if 조건식]}"
   ]
  },
  {
   "cell_type": "code",
   "execution_count": null,
   "id": "3e96491b-4e3b-416b-9461-c70973719ce7",
   "metadata": {},
   "outputs": [],
   "source": [
    "id_name = {1:'남성현', 2:'고상현',3:'윤승현'}"
   ]
  },
  {
   "cell_type": "markdown",
   "id": "69ce923d-97e6-4325-b5d5-ccda3ed1a957",
   "metadata": {},
   "source": [
    "이름-> key / 숫자 -> value"
   ]
  },
  {
   "cell_type": "code",
   "execution_count": null,
   "id": "54a04b8d-4a44-4b10-ae80-e02f2c1fe08f",
   "metadata": {},
   "outputs": [],
   "source": [
    "id_name.items()"
   ]
  },
  {
   "cell_type": "code",
   "execution_count": null,
   "id": "ad409339-28e1-4b02-94fd-e69ad157d459",
   "metadata": {},
   "outputs": [],
   "source": [
    "name_id = {}\n",
    "for key, value in id_name.items() :\n",
    "    name_id[value] = key"
   ]
  },
  {
   "cell_type": "code",
   "execution_count": null,
   "id": "0f69242f-5cee-4835-81b3-f57bfe63dc1a",
   "metadata": {},
   "outputs": [],
   "source": [
    "name_id"
   ]
  },
  {
   "cell_type": "code",
   "execution_count": null,
   "id": "75848724-1f68-462e-82fc-15c987b54c47",
   "metadata": {},
   "outputs": [],
   "source": [
    "{ value:key for key,value  in id_name.items() }"
   ]
  },
  {
   "cell_type": "code",
   "execution_count": null,
   "id": "771516b6-4067-4934-b856-55ece9bca793",
   "metadata": {},
   "outputs": [],
   "source": []
  },
  {
   "cell_type": "code",
   "execution_count": null,
   "id": "e67ca593-ea10-442d-b091-5afb6bfc2535",
   "metadata": {},
   "outputs": [],
   "source": [
    "# key 값도 같이 출력 \n",
    "for i in id_name.items() :\n",
    "    print(i)"
   ]
  },
  {
   "cell_type": "code",
   "execution_count": null,
   "id": "0f38120f-ca8e-4546-9b27-7dab58abe2d1",
   "metadata": {},
   "outputs": [],
   "source": [
    "# index 값만 출력  \n",
    "for i in id_name :\n",
    "    print(i)"
   ]
  },
  {
   "cell_type": "markdown",
   "id": "fb62b5cd-04c4-4bf6-acf1-cbab88130958",
   "metadata": {},
   "source": [
    "- id_name 에서 val 가 2인 key 출력 "
   ]
  },
  {
   "cell_type": "code",
   "execution_count": 1,
   "id": "d951be16-3b78-460a-b4c9-85fd5103adcf",
   "metadata": {},
   "outputs": [],
   "source": [
    "id_name = {1:'남성현', 2:'고상현',3:'윤승현'}"
   ]
  },
  {
   "cell_type": "code",
   "execution_count": 5,
   "id": "136092b2-7b27-4099-a05c-87a9043acff3",
   "metadata": {},
   "outputs": [],
   "source": [
    "id_name = { value:key for key,value  in id_name.items() }\n"
   ]
  },
  {
   "cell_type": "code",
   "execution_count": 6,
   "id": "1ea67901-a618-4ebb-a6ca-58d3986fdfc3",
   "metadata": {},
   "outputs": [
    {
     "data": {
      "text/plain": [
       "'고상현'"
      ]
     },
     "execution_count": 6,
     "metadata": {},
     "output_type": "execute_result"
    }
   ],
   "source": [
    "[key for key,value in id_name.items() if value == 2][0]"
   ]
  },
  {
   "cell_type": "markdown",
   "id": "d4f04853-5b74-49b0-8e17-65db64af7a10",
   "metadata": {},
   "source": [
    "### Quiz\n",
    "- Comprehension을 이용하여 1 부터 10까지 홀수를 key로 하고 value를 key의 제곱으로 하는 Dict 만들기 "
   ]
  },
  {
   "cell_type": "code",
   "execution_count": null,
   "id": "8a1cc45d-e0ff-44d4-8dde-6812af4ee2cf",
   "metadata": {},
   "outputs": [],
   "source": [
    "1.3.5.7.9/ 1.9.25.79.81"
   ]
  },
  {
   "cell_type": "code",
   "execution_count": 13,
   "id": "1c677d7f-a784-4c5e-9be7-42582a082d7a",
   "metadata": {},
   "outputs": [
    {
     "data": {
      "text/plain": [
       "{1: 1, 3: 9, 5: 25, 7: 49, 9: 81}"
      ]
     },
     "execution_count": 13,
     "metadata": {},
     "output_type": "execute_result"
    }
   ],
   "source": [
    "{i:i*i for i in range(1,11) if i%2 == 1}"
   ]
  },
  {
   "cell_type": "code",
   "execution_count": 14,
   "id": "fe2044a4-f0e1-4d30-9b35-6ce398de1d2d",
   "metadata": {},
   "outputs": [
    {
     "data": {
      "text/plain": [
       "{1: 1, 3: 9, 5: 25, 7: 49, 9: 81}"
      ]
     },
     "execution_count": 14,
     "metadata": {},
     "output_type": "execute_result"
    }
   ],
   "source": [
    "{i:i**2 for i in range(1,11) if i%2 == 1}"
   ]
  },
  {
   "cell_type": "markdown",
   "id": "da71076b-3518-4ada-836c-9bcc4706bd72",
   "metadata": {},
   "source": [
    "# Partial\n",
    "-매개 변수가 1개인 함수에 여러 매개 변수를 전달해야 할 때 많이 사용"
   ]
  },
  {
   "cell_type": "code",
   "execution_count": 15,
   "id": "f171a948-2e88-4d8a-8635-173edd6d05c8",
   "metadata": {},
   "outputs": [],
   "source": [
    "def double(x) :\n",
    "    return x ** 2 \n",
    "\n",
    "def triple(x) :\n",
    "    return x ** 3"
   ]
  },
  {
   "cell_type": "code",
   "execution_count": 16,
   "id": "b753e18d-5c4a-4f14-a930-7a4ba7895dc8",
   "metadata": {},
   "outputs": [
    {
     "name": "stdout",
     "output_type": "stream",
     "text": [
      "4\n",
      "8\n"
     ]
    }
   ],
   "source": [
    "print(double(2))\n",
    "print(triple(2))"
   ]
  },
  {
   "cell_type": "code",
   "execution_count": 31,
   "id": "132a0783-38d1-4e0f-a425-69e9f6036266",
   "metadata": {},
   "outputs": [],
   "source": [
    "def multiple (x,y) :\n",
    "    return x**y"
   ]
  },
  {
   "cell_type": "code",
   "execution_count": 43,
   "id": "646e78e4-1af5-48bf-8a79-228a3a89e359",
   "metadata": {},
   "outputs": [
    {
     "data": {
      "text/plain": [
       "16"
      ]
     },
     "execution_count": 43,
     "metadata": {},
     "output_type": "execute_result"
    }
   ],
   "source": [
    "multiple(2,4)"
   ]
  },
  {
   "cell_type": "code",
   "execution_count": 23,
   "id": "e41e48e3-d64d-4aa9-9866-0122895717a7",
   "metadata": {},
   "outputs": [],
   "source": [
    "from functools import partial"
   ]
  },
  {
   "cell_type": "code",
   "execution_count": 33,
   "id": "4de6af5b-c70c-442f-adf5-2698e7cd3c38",
   "metadata": {},
   "outputs": [],
   "source": [
    "dbl = partial(multiple, y =2)\n",
    "tpl = partial(multiple, y =3)"
   ]
  },
  {
   "cell_type": "code",
   "execution_count": 34,
   "id": "e92bd2db-4c31-46c7-998c-19e83030dba9",
   "metadata": {},
   "outputs": [
    {
     "data": {
      "text/plain": [
       "4"
      ]
     },
     "execution_count": 34,
     "metadata": {},
     "output_type": "execute_result"
    }
   ],
   "source": [
    "dbl(2)"
   ]
  },
  {
   "cell_type": "code",
   "execution_count": 35,
   "id": "aa2bd0b5-5f44-4034-a624-9105f39ab75f",
   "metadata": {},
   "outputs": [
    {
     "data": {
      "text/plain": [
       "27"
      ]
     },
     "execution_count": 35,
     "metadata": {},
     "output_type": "execute_result"
    }
   ],
   "source": [
    "tpl(3)"
   ]
  },
  {
   "cell_type": "code",
   "execution_count": null,
   "id": "437cdd45-9201-4737-915e-e4f78cbf4481",
   "metadata": {},
   "outputs": [],
   "source": []
  }
 ],
 "metadata": {
  "kernelspec": {
   "display_name": "Python 3 (ipykernel)",
   "language": "python",
   "name": "python3"
  },
  "language_info": {
   "codemirror_mode": {
    "name": "ipython",
    "version": 3
   },
   "file_extension": ".py",
   "mimetype": "text/x-python",
   "name": "python",
   "nbconvert_exporter": "python",
   "pygments_lexer": "ipython3",
   "version": "3.9.12"
  }
 },
 "nbformat": 4,
 "nbformat_minor": 5
}
