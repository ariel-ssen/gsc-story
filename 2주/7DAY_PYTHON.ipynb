{
 "cells": [
  {
   "cell_type": "code",
   "execution_count": null,
   "id": "f74ecf54-5909-44c9-93c0-8c9342c51d42",
   "metadata": {},
   "outputs": [],
   "source": [
    "x = True"
   ]
  },
  {
   "cell_type": "code",
   "execution_count": null,
   "id": "66ca3699-d873-4e7d-8a5d-6883ee0db981",
   "metadata": {},
   "outputs": [],
   "source": [
    "type(x)"
   ]
  },
  {
   "cell_type": "code",
   "execution_count": null,
   "id": "53470fc5-f0c5-4348-9d47-a9e37da9c954",
   "metadata": {},
   "outputs": [],
   "source": [
    "x = 1"
   ]
  },
  {
   "cell_type": "code",
   "execution_count": null,
   "id": "0d45f96a-7090-4d70-8d68-5bcd8c5ba4c1",
   "metadata": {},
   "outputs": [],
   "source": [
    "x = str(x)"
   ]
  },
  {
   "cell_type": "code",
   "execution_count": null,
   "id": "0152c5d5-2b90-4fdf-bcba-91bbd90c9a00",
   "metadata": {},
   "outputs": [],
   "source": [
    "x"
   ]
  },
  {
   "cell_type": "code",
   "execution_count": null,
   "id": "3873e9ac-7775-4275-aa6d-81692ebd4752",
   "metadata": {},
   "outputs": [],
   "source": [
    "x = '1'"
   ]
  },
  {
   "cell_type": "code",
   "execution_count": null,
   "id": "179c32de-6f2b-4154-aeb1-5c412b5e872f",
   "metadata": {},
   "outputs": [],
   "source": [
    "int(x)"
   ]
  },
  {
   "cell_type": "code",
   "execution_count": null,
   "id": "287ec269-86f2-4113-b53f-f6e1cff2a759",
   "metadata": {},
   "outputs": [],
   "source": [
    "x = None #none 은 null 공백도 아니고 아무것도 없다 임 공백도 열로 계단 되기때문에"
   ]
  },
  {
   "cell_type": "code",
   "execution_count": null,
   "id": "30b7446b-5da4-4015-af18-5dce7ac782ea",
   "metadata": {},
   "outputs": [],
   "source": [
    "x"
   ]
  },
  {
   "cell_type": "code",
   "execution_count": null,
   "id": "6f25e2fa-af1c-4190-91c3-71b903035a7e",
   "metadata": {},
   "outputs": [],
   "source": [
    "list1 = []"
   ]
  },
  {
   "cell_type": "code",
   "execution_count": null,
   "id": "a1b84e32-8ff3-4632-98d1-46d1796f4e46",
   "metadata": {},
   "outputs": [],
   "source": [
    "list1 = list() #list함수로 만드는 방식"
   ]
  },
  {
   "cell_type": "code",
   "execution_count": null,
   "id": "1ab874be-1fc0-4bf5-86a4-0d527dc03583",
   "metadata": {},
   "outputs": [],
   "source": [
    "x = (1,2,3,4) # 튜플은 변경할 수 없음 FOR문은 돌아감 "
   ]
  },
  {
   "cell_type": "code",
   "execution_count": null,
   "id": "0d882dea-808e-4728-8035-1ef5c22d0b74",
   "metadata": {},
   "outputs": [],
   "source": [
    "dict = {}"
   ]
  },
  {
   "cell_type": "code",
   "execution_count": null,
   "id": "6c0a4ea6-41cb-43ce-ad94-ec5e8bf6c093",
   "metadata": {},
   "outputs": [],
   "source": []
  },
  {
   "cell_type": "code",
   "execution_count": null,
   "id": "9f22bd7b-5416-4a8c-b553-0a56394894eb",
   "metadata": {},
   "outputs": [],
   "source": [
    "if 조건 :\n",
    "    구문"
   ]
  },
  {
   "cell_type": "code",
   "execution_count": null,
   "id": "ca0328c1-3415-44d9-a518-b0f844d5da22",
   "metadata": {},
   "outputs": [],
   "source": [
    "if False :\n",
    "#(인덴트 띄어쓰기)    print('Hello')\n",
    "print('World')"
   ]
  },
  {
   "cell_type": "code",
   "execution_count": null,
   "id": "de50cc10-f0cc-4eb3-8fe5-3de90c99edb4",
   "metadata": {},
   "outputs": [],
   "source": [
    "if 조건문 :\n",
    "    구문 1\n",
    "else :\n",
    "    구문 2"
   ]
  },
  {
   "cell_type": "code",
   "execution_count": null,
   "id": "1edaa400-9394-4abf-937a-d2792de8b4cd",
   "metadata": {},
   "outputs": [],
   "source": [
    "if 조건문:\n",
    "    \n",
    "    구문 1\n",
    "elif 조건문2:\n",
    "    구문2\n",
    "elif 조건문 3 :\n",
    "    구문3\n",
    "else :\n",
    "    구문 4"
   ]
  },
  {
   "cell_type": "code",
   "execution_count": 1,
   "id": "cd1ec6ae-0a60-4ee0-a3bc-966f16539ef5",
   "metadata": {},
   "outputs": [],
   "source": [
    "num = 4"
   ]
  },
  {
   "cell_type": "code",
   "execution_count": 5,
   "id": "b8e9d3ca-3079-4286-a85b-77713827005f",
   "metadata": {},
   "outputs": [
    {
     "name": "stdout",
     "output_type": "stream",
     "text": [
      "짝수\n"
     ]
    }
   ],
   "source": [
    "if num%2 == 0 :\n",
    "    print('짝수')\n",
    "elif num%2 == 1:\n",
    "    print('홀수')"
   ]
  },
  {
   "cell_type": "code",
   "execution_count": 4,
   "id": "01fe54d0-76a8-48ab-9331-e3bb9fa76dcd",
   "metadata": {},
   "outputs": [
    {
     "ename": "SyntaxError",
     "evalue": "invalid syntax (1696690906.py, line 1)",
     "output_type": "error",
     "traceback": [
      "\u001b[1;36m  Input \u001b[1;32mIn [4]\u001b[1;36m\u001b[0m\n\u001b[1;33m    for 변수 in 반복될 대상:\u001b[0m\n\u001b[1;37m                  ^\u001b[0m\n\u001b[1;31mSyntaxError\u001b[0m\u001b[1;31m:\u001b[0m invalid syntax\n"
     ]
    }
   ],
   "source": [
    "for 변수 in 반복될 대상:\n",
    "    구문"
   ]
  },
  {
   "cell_type": "code",
   "execution_count": 6,
   "id": "9823328a-4230-402d-a642-ddcc92f6e3a8",
   "metadata": {},
   "outputs": [
    {
     "data": {
      "text/plain": [
       "[0, 1, 2, 3, 4, 5, 6, 7, 8, 9]"
      ]
     },
     "execution_count": 6,
     "metadata": {},
     "output_type": "execute_result"
    }
   ],
   "source": [
    "list(range(0,10))"
   ]
  },
  {
   "cell_type": "code",
   "execution_count": 7,
   "id": "ad57ec86-fdd0-4f15-bc4a-8329e5f94b66",
   "metadata": {},
   "outputs": [
    {
     "data": {
      "text/plain": [
       "[0, 2, 4, 6, 8]"
      ]
     },
     "execution_count": 7,
     "metadata": {},
     "output_type": "execute_result"
    }
   ],
   "source": [
    "list(range(0,10,2))"
   ]
  },
  {
   "cell_type": "code",
   "execution_count": 9,
   "id": "7ff70b63-1579-43c1-b466-47e1a75d9e4a",
   "metadata": {},
   "outputs": [
    {
     "name": "stdout",
     "output_type": "stream",
     "text": [
      "0\n",
      "1\n",
      "2\n",
      "3\n",
      "4\n",
      "5\n",
      "6\n",
      "7\n",
      "8\n",
      "9\n"
     ]
    }
   ],
   "source": [
    "for i in range(10) :\n",
    "    print(i)"
   ]
  },
  {
   "cell_type": "code",
   "execution_count": 10,
   "id": "dc7f2a20-f6d4-4f0a-bd5e-9cc414caf33f",
   "metadata": {
    "collapsed": true,
    "jupyter": {
     "outputs_hidden": true
    },
    "tags": []
   },
   "outputs": [
    {
     "name": "stdout",
     "output_type": "stream",
     "text": [
      "i: 0 j: 0\n",
      "i: 0 j: 1\n",
      "i: 0 j: 2\n",
      "i: 0 j: 3\n",
      "i: 0 j: 4\n",
      "i: 0 j: 5\n",
      "i: 0 j: 6\n",
      "i: 0 j: 7\n",
      "i: 0 j: 8\n",
      "i: 0 j: 9\n",
      "i: 1 j: 0\n",
      "i: 1 j: 1\n",
      "i: 1 j: 2\n",
      "i: 1 j: 3\n",
      "i: 1 j: 4\n",
      "i: 1 j: 5\n",
      "i: 1 j: 6\n",
      "i: 1 j: 7\n",
      "i: 1 j: 8\n",
      "i: 1 j: 9\n",
      "i: 2 j: 0\n",
      "i: 2 j: 1\n",
      "i: 2 j: 2\n",
      "i: 2 j: 3\n",
      "i: 2 j: 4\n",
      "i: 2 j: 5\n",
      "i: 2 j: 6\n",
      "i: 2 j: 7\n",
      "i: 2 j: 8\n",
      "i: 2 j: 9\n",
      "i: 3 j: 0\n",
      "i: 3 j: 1\n",
      "i: 3 j: 2\n",
      "i: 3 j: 3\n",
      "i: 3 j: 4\n",
      "i: 3 j: 5\n",
      "i: 3 j: 6\n",
      "i: 3 j: 7\n",
      "i: 3 j: 8\n",
      "i: 3 j: 9\n",
      "i: 4 j: 0\n",
      "i: 4 j: 1\n",
      "i: 4 j: 2\n",
      "i: 4 j: 3\n",
      "i: 4 j: 4\n",
      "i: 4 j: 5\n",
      "i: 4 j: 6\n",
      "i: 4 j: 7\n",
      "i: 4 j: 8\n",
      "i: 4 j: 9\n",
      "i: 5 j: 0\n",
      "i: 5 j: 1\n",
      "i: 5 j: 2\n",
      "i: 5 j: 3\n",
      "i: 5 j: 4\n",
      "i: 5 j: 5\n",
      "i: 5 j: 6\n",
      "i: 5 j: 7\n",
      "i: 5 j: 8\n",
      "i: 5 j: 9\n",
      "i: 6 j: 0\n",
      "i: 6 j: 1\n",
      "i: 6 j: 2\n",
      "i: 6 j: 3\n",
      "i: 6 j: 4\n",
      "i: 6 j: 5\n",
      "i: 6 j: 6\n",
      "i: 6 j: 7\n",
      "i: 6 j: 8\n",
      "i: 6 j: 9\n",
      "i: 7 j: 0\n",
      "i: 7 j: 1\n",
      "i: 7 j: 2\n",
      "i: 7 j: 3\n",
      "i: 7 j: 4\n",
      "i: 7 j: 5\n",
      "i: 7 j: 6\n",
      "i: 7 j: 7\n",
      "i: 7 j: 8\n",
      "i: 7 j: 9\n",
      "i: 8 j: 0\n",
      "i: 8 j: 1\n",
      "i: 8 j: 2\n",
      "i: 8 j: 3\n",
      "i: 8 j: 4\n",
      "i: 8 j: 5\n",
      "i: 8 j: 6\n",
      "i: 8 j: 7\n",
      "i: 8 j: 8\n",
      "i: 8 j: 9\n",
      "i: 9 j: 0\n",
      "i: 9 j: 1\n",
      "i: 9 j: 2\n",
      "i: 9 j: 3\n",
      "i: 9 j: 4\n",
      "i: 9 j: 5\n",
      "i: 9 j: 6\n",
      "i: 9 j: 7\n",
      "i: 9 j: 8\n",
      "i: 9 j: 9\n"
     ]
    }
   ],
   "source": [
    "for i in range(10) :\n",
    "    for j in range(10) :\n",
    "        print('i:',i,'j:',j)"
   ]
  },
  {
   "cell_type": "code",
   "execution_count": null,
   "id": "e4ba08a2-9581-433b-bbf3-e05ee2f72a2b",
   "metadata": {},
   "outputs": [],
   "source": [
    "def func1(): #매게미터 파라미터 파란색 글자 \n",
    "    구문 1\n",
    "    return"
   ]
  },
  {
   "cell_type": "code",
   "execution_count": 11,
   "id": "da54b0c7-c9a8-4d14-b7a2-93ee25211c8a",
   "metadata": {},
   "outputs": [],
   "source": [
    "def fun1() :\n",
    "    print('test')"
   ]
  },
  {
   "cell_type": "code",
   "execution_count": null,
   "id": "7a352f52-071c-45b6-9976-93f67c875cea",
   "metadata": {},
   "outputs": [],
   "source": [
    "def fun5(*args) :\n",
    "    return args #입력값이 몇개일지 모를때 알그스를 사용 args"
   ]
  },
  {
   "cell_type": "code",
   "execution_count": null,
   "id": "898fad25-53af-4565-b66c-4d2b079eeb35",
   "metadata": {},
   "outputs": [],
   "source": [
    "def calt(oper, *args):\n",
    "    if  oer"
   ]
  },
  {
   "cell_type": "code",
   "execution_count": 14,
   "id": "8c74e7da-d405-4dd2-8875-9ef41e7448d2",
   "metadata": {},
   "outputs": [],
   "source": [
    "def fun6 (**kwargs) :\n",
    "    return kwargs   #매개변수 이름을 몰라 사용자가 마음대로 넣을수 있을때 이름 설정 /위에꺼는 숫자 값음 입력"
   ]
  },
  {
   "cell_type": "code",
   "execution_count": 15,
   "id": "a596a502-1e21-459f-ba39-def2866cfefe",
   "metadata": {},
   "outputs": [
    {
     "data": {
      "text/plain": [
       "{'name': 'hojin', 'age': 20}"
      ]
     },
     "execution_count": 15,
     "metadata": {},
     "output_type": "execute_result"
    }
   ],
   "source": [
    "fun6(name='hojin',age=20)"
   ]
  },
  {
   "cell_type": "code",
   "execution_count": null,
   "id": "bde0dbe5-0076-4831-9554-f8093daaae92",
   "metadata": {},
   "outputs": [],
   "source": [
    "print('문자열 ', sep=' ' ,end ='\\n')"
   ]
  },
  {
   "cell_type": "code",
   "execution_count": 17,
   "id": "692d2ff5-87cb-42b7-9f9f-75653544f014",
   "metadata": {},
   "outputs": [
    {
     "name": "stdout",
     "output_type": "stream",
     "text": [
      "Hello World\n",
      "Hi Python\n"
     ]
    }
   ],
   "source": [
    "print('Hello','World')\n",
    "print('Hi', 'Python')"
   ]
  },
  {
   "cell_type": "code",
   "execution_count": 19,
   "id": "4f93ad0f-b6ed-462e-8298-0a0219126627",
   "metadata": {},
   "outputs": [
    {
     "name": "stdout",
     "output_type": "stream",
     "text": [
      "Hello|World\n"
     ]
    }
   ],
   "source": [
    "print('Hello','World',sep='|')"
   ]
  },
  {
   "cell_type": "markdown",
   "id": "b15d8983-5d03-4d8a-9dd6-03ea47411cd3",
   "metadata": {},
   "source": [
    "# format"
   ]
  },
  {
   "cell_type": "code",
   "execution_count": 20,
   "id": "bdc620d6-3387-4bf9-beb2-5abbaedbae35",
   "metadata": {
    "collapsed": true,
    "jupyter": {
     "outputs_hidden": true
    },
    "tags": []
   },
   "outputs": [
    {
     "ename": "NameError",
     "evalue": "name 'value1' is not defined",
     "output_type": "error",
     "traceback": [
      "\u001b[1;31m---------------------------------------------------------------------------\u001b[0m",
      "\u001b[1;31mNameError\u001b[0m                                 Traceback (most recent call last)",
      "Input \u001b[1;32mIn [20]\u001b[0m, in \u001b[0;36m<cell line: 1>\u001b[1;34m()\u001b[0m\n\u001b[1;32m----> 1\u001b[0m \u001b[38;5;28mprint\u001b[39m(\u001b[38;5;124m'\u001b[39m\u001b[38;5;132;01m{0}\u001b[39;00m\u001b[38;5;124m,\u001b[39m\u001b[38;5;132;01m{1}\u001b[39;00m\u001b[38;5;124m'\u001b[39m\u001b[38;5;241m.\u001b[39mformat(\u001b[43mvalue1\u001b[49m,value2))\n",
      "\u001b[1;31mNameError\u001b[0m: name 'value1' is not defined"
     ]
    }
   ],
   "source": [
    "print('{0},{1}'.format(value1,value2))"
   ]
  },
  {
   "cell_type": "code",
   "execution_count": 21,
   "id": "f13bbd38-511d-457e-9681-a4533b8431a2",
   "metadata": {},
   "outputs": [
    {
     "name": "stdout",
     "output_type": "stream",
     "text": [
      "This is apple.That is banana\n"
     ]
    }
   ],
   "source": [
    "print ('This is {}.That is {}'.format('apple','banana')) #순서를 안넣으면 순서대로 "
   ]
  },
  {
   "cell_type": "code",
   "execution_count": 22,
   "id": "2d304d4e-5b24-4484-8bfc-d40bc1633fe5",
   "metadata": {},
   "outputs": [
    {
     "name": "stdout",
     "output_type": "stream",
     "text": [
      "This is banana.That is apple\n"
     ]
    }
   ],
   "source": [
    "print ('This is {1}.That is {0}'.format('apple','banana')) # 순서를 메기면 메긴 순서대로 "
   ]
  },
  {
   "cell_type": "code",
   "execution_count": 23,
   "id": "207411ba-63a3-4a1f-ba22-fe1587b3e980",
   "metadata": {},
   "outputs": [],
   "source": [
    "a = 'apple'\n",
    "b = 'banana'"
   ]
  },
  {
   "cell_type": "code",
   "execution_count": 24,
   "id": "00e2b7c6-ef6a-407a-b385-bc2a9cf34811",
   "metadata": {},
   "outputs": [
    {
     "name": "stdout",
     "output_type": "stream",
     "text": [
      "This is apple.That is banana\n"
     ]
    }
   ],
   "source": [
    "print ('This is {}.That is {}'.format(a,b))"
   ]
  },
  {
   "cell_type": "code",
   "execution_count": 25,
   "id": "7180f4d7-0597-4bf4-b7f4-befe760f90dc",
   "metadata": {},
   "outputs": [
    {
     "name": "stdout",
     "output_type": "stream",
     "text": [
      "This is apple. That is banana\n"
     ]
    }
   ],
   "source": [
    "print('This is {fruit1}. That is {fruit2}'.format(fruit1='apple',fruit2='banana'))"
   ]
  },
  {
   "cell_type": "code",
   "execution_count": 26,
   "id": "ba83aca3-5078-4aaa-abea-0ffddc296a55",
   "metadata": {},
   "outputs": [
    {
     "name": "stdout",
     "output_type": "stream",
     "text": [
      "This is 123.457\n"
     ]
    }
   ],
   "source": [
    "print('This is {0:0.3f}'.format(123.45678))  #f는 실수 d는 정수 "
   ]
  },
  {
   "cell_type": "code",
   "execution_count": 30,
   "id": "658ebecc-f711-42ba-866f-f1d9aac834fa",
   "metadata": {},
   "outputs": [
    {
     "name": "stdout",
     "output_type": "stream",
     "text": [
      "This is 123.4567800000\n"
     ]
    }
   ],
   "source": [
    "print('This is {0:0.10f}'.format(123.45678))"
   ]
  },
  {
   "cell_type": "code",
   "execution_count": 31,
   "id": "98017ba5-0263-4323-a4a2-d16c5a5beb19",
   "metadata": {},
   "outputs": [
    {
     "name": "stdout",
     "output_type": "stream",
     "text": [
      "This is 012\n"
     ]
    }
   ],
   "source": [
    "print('This is {:03d}'.format(12))"
   ]
  },
  {
   "cell_type": "code",
   "execution_count": 32,
   "id": "f1ca9696-fc06-4ab5-b902-e31441d8b6e3",
   "metadata": {},
   "outputs": [
    {
     "name": "stdout",
     "output_type": "stream",
     "text": [
      "This is 1234\n"
     ]
    }
   ],
   "source": [
    "print('This is {:03d}'.format(1234))"
   ]
  },
  {
   "cell_type": "code",
   "execution_count": 33,
   "id": "1f94ffab-91fa-4727-b80e-cced32a2a7ea",
   "metadata": {},
   "outputs": [
    {
     "name": "stdout",
     "output_type": "stream",
     "text": [
      "This is 1234\n"
     ]
    }
   ],
   "source": [
    "print('This is {0:03d}'.format(1234))"
   ]
  },
  {
   "cell_type": "markdown",
   "id": "8ccadfa0-1a2f-49c8-a23f-bdb259aa6139",
   "metadata": {},
   "source": [
    "# 포멧팅\n",
    "- %s : 문자열\n",
    "- %d : 정수 \n",
    "- %f : 실수 \n",
    "\n",
    "- %o : 8진수 \n",
    "- %x : 16진수 "
   ]
  },
  {
   "cell_type": "code",
   "execution_count": 34,
   "id": "b1194cd9-e8ea-4854-b64a-690b062e4938",
   "metadata": {},
   "outputs": [
    {
     "name": "stdout",
     "output_type": "stream",
     "text": [
      "This is apple \n"
     ]
    }
   ],
   "source": [
    "print(f'This is %s '%'apple')  #%s로 %뒤에 글자가 들어가서 출력됨  #앞에 f 가 포멧팅ㅇ이라는 뜻"
   ]
  },
  {
   "cell_type": "code",
   "execution_count": 36,
   "id": "8c3c49ec-b84d-4b0d-9ccb-3ece6c3fcf81",
   "metadata": {},
   "outputs": [
    {
     "name": "stdout",
     "output_type": "stream",
     "text": [
      "This is apple. That is banana \n"
     ]
    }
   ],
   "source": [
    "print(f'This is %s. That is %s '%('apple','banana'))"
   ]
  },
  {
   "cell_type": "code",
   "execution_count": 37,
   "id": "84779fde-97b7-404e-933a-3701bf1890a9",
   "metadata": {},
   "outputs": [
    {
     "name": "stdout",
     "output_type": "stream",
     "text": [
      "The value is 1\n"
     ]
    }
   ],
   "source": [
    "print(f'The value is %d' %1)"
   ]
  },
  {
   "cell_type": "code",
   "execution_count": 38,
   "id": "acd0cec8-8055-42d2-b26c-4346012d658d",
   "metadata": {},
   "outputs": [
    {
     "name": "stdout",
     "output_type": "stream",
     "text": [
      "The value is 00001\n"
     ]
    }
   ],
   "source": [
    "print(f'The value is %05d' %1)"
   ]
  },
  {
   "cell_type": "code",
   "execution_count": 43,
   "id": "77358c73-02f8-4d5b-aef3-72220fd5120f",
   "metadata": {
    "collapsed": true,
    "jupyter": {
     "outputs_hidden": true
    },
    "tags": []
   },
   "outputs": [
    {
     "name": "stdout",
     "output_type": "stream",
     "text": [
      "2 * 1 = 2\n",
      "2 * 2 = 4\n",
      "2 * 3 = 6\n",
      "2 * 4 = 8\n",
      "2 * 5 = 10\n",
      "2 * 6 = 12\n",
      "2 * 7 = 14\n",
      "2 * 8 = 16\n",
      "2 * 9 = 18\n",
      "3 * 1 = 3\n",
      "3 * 2 = 6\n",
      "3 * 3 = 9\n",
      "3 * 4 = 12\n",
      "3 * 5 = 15\n",
      "3 * 6 = 18\n",
      "3 * 7 = 21\n",
      "3 * 8 = 24\n",
      "3 * 9 = 27\n",
      "4 * 1 = 4\n",
      "4 * 2 = 8\n",
      "4 * 3 = 12\n",
      "4 * 4 = 16\n",
      "4 * 5 = 20\n",
      "4 * 6 = 24\n",
      "4 * 7 = 28\n",
      "4 * 8 = 32\n",
      "4 * 9 = 36\n",
      "5 * 1 = 5\n",
      "5 * 2 = 10\n",
      "5 * 3 = 15\n",
      "5 * 4 = 20\n",
      "5 * 5 = 25\n",
      "5 * 6 = 30\n",
      "5 * 7 = 35\n",
      "5 * 8 = 40\n",
      "5 * 9 = 45\n",
      "6 * 1 = 6\n",
      "6 * 2 = 12\n",
      "6 * 3 = 18\n",
      "6 * 4 = 24\n",
      "6 * 5 = 30\n",
      "6 * 6 = 36\n",
      "6 * 7 = 42\n",
      "6 * 8 = 48\n",
      "6 * 9 = 54\n",
      "7 * 1 = 7\n",
      "7 * 2 = 14\n",
      "7 * 3 = 21\n",
      "7 * 4 = 28\n",
      "7 * 5 = 35\n",
      "7 * 6 = 42\n",
      "7 * 7 = 49\n",
      "7 * 8 = 56\n",
      "7 * 9 = 63\n",
      "8 * 1 = 8\n",
      "8 * 2 = 16\n",
      "8 * 3 = 24\n",
      "8 * 4 = 32\n",
      "8 * 5 = 40\n",
      "8 * 6 = 48\n",
      "8 * 7 = 56\n",
      "8 * 8 = 64\n",
      "8 * 9 = 72\n",
      "9 * 1 = 9\n",
      "9 * 2 = 18\n",
      "9 * 3 = 27\n",
      "9 * 4 = 36\n",
      "9 * 5 = 45\n",
      "9 * 6 = 54\n",
      "9 * 7 = 63\n",
      "9 * 8 = 72\n",
      "9 * 9 = 81\n"
     ]
    }
   ],
   "source": [
    "for i in range(2,10) :\n",
    "    for j in range(1,10) :\n",
    "        print (i,'*',j,'=',i*j)"
   ]
  },
  {
   "cell_type": "code",
   "execution_count": 44,
   "id": "0ab5e4fa-3c36-481f-9432-c77f4d3a191e",
   "metadata": {
    "collapsed": true,
    "jupyter": {
     "outputs_hidden": true
    },
    "tags": []
   },
   "outputs": [
    {
     "name": "stdout",
     "output_type": "stream",
     "text": [
      "2 * 1 =  2\n",
      "2 * 2 =  4\n",
      "2 * 3 =  6\n",
      "2 * 4 =  8\n",
      "2 * 5 = 10\n",
      "2 * 6 = 12\n",
      "2 * 7 = 14\n",
      "2 * 8 = 16\n",
      "2 * 9 = 18\n",
      "3 * 1 =  3\n",
      "3 * 2 =  6\n",
      "3 * 3 =  9\n",
      "3 * 4 = 12\n",
      "3 * 5 = 15\n",
      "3 * 6 = 18\n",
      "3 * 7 = 21\n",
      "3 * 8 = 24\n",
      "3 * 9 = 27\n",
      "4 * 1 =  4\n",
      "4 * 2 =  8\n",
      "4 * 3 = 12\n",
      "4 * 4 = 16\n",
      "4 * 5 = 20\n",
      "4 * 6 = 24\n",
      "4 * 7 = 28\n",
      "4 * 8 = 32\n",
      "4 * 9 = 36\n",
      "5 * 1 =  5\n",
      "5 * 2 = 10\n",
      "5 * 3 = 15\n",
      "5 * 4 = 20\n",
      "5 * 5 = 25\n",
      "5 * 6 = 30\n",
      "5 * 7 = 35\n",
      "5 * 8 = 40\n",
      "5 * 9 = 45\n",
      "6 * 1 =  6\n",
      "6 * 2 = 12\n",
      "6 * 3 = 18\n",
      "6 * 4 = 24\n",
      "6 * 5 = 30\n",
      "6 * 6 = 36\n",
      "6 * 7 = 42\n",
      "6 * 8 = 48\n",
      "6 * 9 = 54\n",
      "7 * 1 =  7\n",
      "7 * 2 = 14\n",
      "7 * 3 = 21\n",
      "7 * 4 = 28\n",
      "7 * 5 = 35\n",
      "7 * 6 = 42\n",
      "7 * 7 = 49\n",
      "7 * 8 = 56\n",
      "7 * 9 = 63\n",
      "8 * 1 =  8\n",
      "8 * 2 = 16\n",
      "8 * 3 = 24\n",
      "8 * 4 = 32\n",
      "8 * 5 = 40\n",
      "8 * 6 = 48\n",
      "8 * 7 = 56\n",
      "8 * 8 = 64\n",
      "8 * 9 = 72\n",
      "9 * 1 =  9\n",
      "9 * 2 = 18\n",
      "9 * 3 = 27\n",
      "9 * 4 = 36\n",
      "9 * 5 = 45\n",
      "9 * 6 = 54\n",
      "9 * 7 = 63\n",
      "9 * 8 = 72\n",
      "9 * 9 = 81\n"
     ]
    }
   ],
   "source": [
    "for i in range(2,10) :\n",
    "    for j in range(1,10) :\n",
    "        print (f'%d * %d = %2d' % (i,j,i*j))"
   ]
  },
  {
   "cell_type": "code",
   "execution_count": 45,
   "id": "d4933e91-645a-4d7a-a838-9474a1278ba3",
   "metadata": {},
   "outputs": [
    {
     "name": "stdout",
     "output_type": "stream",
     "text": [
      "The value is 123.457 \n"
     ]
    }
   ],
   "source": [
    "print(f'The value is %.3f ' %123.456789)"
   ]
  },
  {
   "cell_type": "code",
   "execution_count": 46,
   "id": "8df410cd-3082-478f-bc1d-d52ca482dced",
   "metadata": {},
   "outputs": [
    {
     "name": "stdout",
     "output_type": "stream",
     "text": [
      "The value is 123.457 \n"
     ]
    }
   ],
   "source": [
    "print('The value is %.3f ' %123.456789) #f를 굳이 붙이지 않아도 된단 포멧팅이라는걸 인지하기 위해썻음"
   ]
  },
  {
   "cell_type": "markdown",
   "id": "f331ff49-4a6e-4dee-adc8-0cd8617577a7",
   "metadata": {},
   "source": [
    "# 진수"
   ]
  },
  {
   "cell_type": "markdown",
   "id": "8691d04e-c0a8-458d-98e4-9c60ffeedbed",
   "metadata": {
    "tags": []
   },
   "source": [
    "2진수 : 0-1\n",
    "8진수 : 0-7\n",
    "10진수 : 0-9\n",
    "16진수 : 0-f"
   ]
  },
  {
   "cell_type": "markdown",
   "id": "04f4b3e3-9e86-494b-ab94-a1c55527690b",
   "metadata": {
    "tags": []
   },
   "source": [
    "2진수 : 0 1 10 11 100 101 110 111\n",
    "10진수 :0 1  2  3  4   5   6   7 \n",
    "8진수 : 0 1  2  3  4   5   6   7   10  11  12  13  14  15  16  17  20\n",
    "16진수 :0 1  2  3  4   5   6   7    8   9  a b c d e f 10"
   ]
  },
  {
   "cell_type": "code",
   "execution_count": 48,
   "id": "aec631cc-4982-410c-9a9f-246f72a39798",
   "metadata": {
    "collapsed": true,
    "jupyter": {
     "outputs_hidden": true
    },
    "tags": []
   },
   "outputs": [
    {
     "name": "stdout",
     "output_type": "stream",
     "text": [
      "The value is 0\n",
      "The value is 1\n",
      "The value is 2\n",
      "The value is 3\n",
      "The value is 4\n",
      "The value is 5\n",
      "The value is 6\n",
      "The value is 7\n",
      "The value is 10\n",
      "The value is 11\n"
     ]
    }
   ],
   "source": [
    "for i in range(10) :\n",
    "    print(f'The value is %o' %i)"
   ]
  },
  {
   "cell_type": "code",
   "execution_count": 50,
   "id": "9fae419f-d768-42ff-9aa8-73e06da42e85",
   "metadata": {
    "collapsed": true,
    "jupyter": {
     "outputs_hidden": true
    },
    "tags": []
   },
   "outputs": [
    {
     "name": "stdout",
     "output_type": "stream",
     "text": [
      "The value is 0\n",
      "The value is 1\n",
      "The value is 2\n",
      "The value is 3\n",
      "The value is 4\n",
      "The value is 5\n",
      "The value is 6\n",
      "The value is 7\n",
      "The value is 8\n",
      "The value is 9\n",
      "The value is a\n",
      "The value is b\n",
      "The value is c\n",
      "The value is d\n",
      "The value is e\n",
      "The value is f\n",
      "The value is 10\n",
      "The value is 11\n"
     ]
    }
   ],
   "source": [
    "for i in range(18) :\n",
    "    print(f'The value is %x' %i)"
   ]
  },
  {
   "cell_type": "code",
   "execution_count": 51,
   "id": "6b0b90fa-a192-479c-b696-7079152c72e6",
   "metadata": {},
   "outputs": [
    {
     "name": "stdout",
     "output_type": "stream",
     "text": [
      "90.0%\n"
     ]
    }
   ],
   "source": [
    "print(f'%0.1f%%' %90)"
   ]
  },
  {
   "cell_type": "code",
   "execution_count": null,
   "id": "54643578-89c1-4ad1-bcb6-785b9f79e9a1",
   "metadata": {},
   "outputs": [],
   "source": []
  }
 ],
 "metadata": {
  "kernelspec": {
   "display_name": "Python 3 (ipykernel)",
   "language": "python",
   "name": "python3"
  },
  "language_info": {
   "codemirror_mode": {
    "name": "ipython",
    "version": 3
   },
   "file_extension": ".py",
   "mimetype": "text/x-python",
   "name": "python",
   "nbconvert_exporter": "python",
   "pygments_lexer": "ipython3",
   "version": "3.9.12"
  }
 },
 "nbformat": 4,
 "nbformat_minor": 5
}
