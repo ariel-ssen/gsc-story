{
 "cells": [
  {
   "cell_type": "markdown",
   "id": "350326e5-ee9d-453f-8246-c9adc34b6f32",
   "metadata": {},
   "source": [
    "# 9-10 DAY"
   ]
  },
  {
   "cell_type": "code",
   "execution_count": 2,
   "id": "297c612b-976f-4407-a2b2-d4a1d78081da",
   "metadata": {},
   "outputs": [],
   "source": [
    "import pandas as pd\n",
    "import numpy as np "
   ]
  },
  {
   "cell_type": "code",
   "execution_count": 3,
   "id": "346c8fb2-d247-4ef0-922c-b6bf9ddef124",
   "metadata": {},
   "outputs": [],
   "source": [
    "test = pd.read_csv('9D_titanic/test.csv')"
   ]
  },
  {
   "cell_type": "code",
   "execution_count": 4,
   "id": "58df3b7c-215e-4793-ae81-63ecade994d5",
   "metadata": {},
   "outputs": [],
   "source": [
    "train = pd.read_csv('9D_titanic/train.csv')"
   ]
  },
  {
   "cell_type": "code",
   "execution_count": 5,
   "id": "235d9413-42a3-4c42-a38f-d81f75bebe8e",
   "metadata": {},
   "outputs": [
    {
     "data": {
      "text/plain": [
       "PassengerId      0\n",
       "Survived         0\n",
       "Pclass           0\n",
       "Name             0\n",
       "Sex              0\n",
       "Age            177\n",
       "SibSp            0\n",
       "Parch            0\n",
       "Ticket           0\n",
       "Fare             0\n",
       "Cabin          687\n",
       "Embarked         2\n",
       "dtype: int64"
      ]
     },
     "execution_count": 5,
     "metadata": {},
     "output_type": "execute_result"
    }
   ],
   "source": [
    "train.isnull().sum()"
   ]
  },
  {
   "cell_type": "code",
   "execution_count": 7,
   "id": "550fa049-413e-4227-a170-1897850737b6",
   "metadata": {},
   "outputs": [],
   "source": [
    "train_test_dataset = [train, test]"
   ]
  },
  {
   "cell_type": "code",
   "execution_count": 8,
   "id": "86289d5f-c5f4-4753-a612-01105b8b724e",
   "metadata": {},
   "outputs": [],
   "source": [
    "for data in train_test_dataset :\n",
    "    data['Title'] = data['Name'].str.extract('([a-zA-Z]+)\\.')\n",
    "    data['Title'] = data['Title'].str.lower()\n",
    "    data['Title'] = np.where(data['Title']== 'mr' , 0,\n",
    "                            np.where(data['Title']== \"mrs\" , 1,\n",
    "                                    np.where(data['Title'] == 'miss', 2 , 3)))\n",
    "    \n",
    "    data['Age'] = data['Age'].fillna(data.groupby('Sex')['Age'].transform('median'))\n",
    "    data['Age'] = np.where(data['Age'] <= 16, 0,\n",
    "                    np.where(data['Age'] <= 26, 1,\n",
    "                    np.where(data['Age'] <= 36, 2,\n",
    "                    np.where(data['Age'] <= 62, 3, 4))))\n",
    "    \n",
    "    data['Embarked'].fillna('S', inplace= True)\n",
    "    data['Embarked'] = data['Embarked'].map({'S':0 , 'C':1, 'Q' :2})\n",
    "    \n",
    "    data['Cabin'] = data['Cabin'].str[0]\n",
    "    cabin_mapping = {'A': 0.0, 'B': 0.4, 'C': 0.8, 'D': 1.2, 'E': 1.6, 'F': 2.0, 'G': 2.4, 'T': 2.8}\n",
    "    data['Cabin'] = data['Cabin'].map(cabin_mapping)\n",
    "    data['Cabin'].fillna(data.groupby('Pclass')['Cabin'].transform('median'), inplace=True)\n",
    "    \n",
    "    data['Sex'] = data['Sex'].map({'male':0, 'female':1})\n",
    "    \n",
    "    data['Fare'].fillna(data.groupby('Pclass')['Fare'].transform('median'),inplace= True)\n",
    "    data['Fare'] = np.where(data['Fare'] <= 17, 0,\n",
    "                          np.where(data['Fare'] <= 30, 1,\n",
    "                                   np.where(data['Fare'] <= 100, 2, 3)))\n",
    "    \n",
    "    data['FamilySize'] = data['SibSp'] + data['Parch'] +1\n",
    "    \n",
    "    family_map = {1: 0.0, 2: 0.4, 3: 0.8, 4: 1.2, 5: 1.6, 6: 2.0, 7: 2.4, 8: 2.8, 9: 3.2, 10: 3.6, 11: 4.0}\n",
    "    \n",
    "    data['FamilySize'] = data['FamilySize'].map(family_map)"
   ]
  },
  {
   "cell_type": "code",
   "execution_count": 9,
   "id": "c3fea19a-f7c9-4551-a747-24352d3a52a0",
   "metadata": {},
   "outputs": [
    {
     "data": {
      "text/plain": [
       "Index(['PassengerId', 'Survived', 'Pclass', 'Name', 'Sex', 'Age', 'SibSp',\n",
       "       'Parch', 'Ticket', 'Fare', 'Cabin', 'Embarked', 'Title', 'FamilySize'],\n",
       "      dtype='object')"
      ]
     },
     "execution_count": 9,
     "metadata": {},
     "output_type": "execute_result"
    }
   ],
   "source": [
    "train.columns"
   ]
  },
  {
   "cell_type": "code",
   "execution_count": 10,
   "id": "f160964e-721b-4446-a59a-8df34aed0aed",
   "metadata": {},
   "outputs": [],
   "source": [
    "features_drop = ['PassengerId','Name' , 'Ticket' , 'SibSp' , 'Parch']"
   ]
  },
  {
   "cell_type": "code",
   "execution_count": 11,
   "id": "0984b7dd-897e-4125-9122-d8aaa4061107",
   "metadata": {},
   "outputs": [],
   "source": [
    "train = train.drop(features_drop , axis =1 )"
   ]
  },
  {
   "cell_type": "code",
   "execution_count": 12,
   "id": "9a580c06-40cf-4a80-8df4-f3baa286103a",
   "metadata": {},
   "outputs": [],
   "source": [
    "test = test.drop(features_drop , axis =1 )"
   ]
  },
  {
   "cell_type": "code",
   "execution_count": 13,
   "id": "725bf644-e110-446b-b979-992d03bbd8a8",
   "metadata": {},
   "outputs": [
    {
     "data": {
      "text/html": [
       "<div>\n",
       "<style scoped>\n",
       "    .dataframe tbody tr th:only-of-type {\n",
       "        vertical-align: middle;\n",
       "    }\n",
       "\n",
       "    .dataframe tbody tr th {\n",
       "        vertical-align: top;\n",
       "    }\n",
       "\n",
       "    .dataframe thead th {\n",
       "        text-align: right;\n",
       "    }\n",
       "</style>\n",
       "<table border=\"1\" class=\"dataframe\">\n",
       "  <thead>\n",
       "    <tr style=\"text-align: right;\">\n",
       "      <th></th>\n",
       "      <th>Survived</th>\n",
       "      <th>Pclass</th>\n",
       "      <th>Sex</th>\n",
       "      <th>Age</th>\n",
       "      <th>Fare</th>\n",
       "      <th>Cabin</th>\n",
       "      <th>Embarked</th>\n",
       "      <th>Title</th>\n",
       "      <th>FamilySize</th>\n",
       "    </tr>\n",
       "  </thead>\n",
       "  <tbody>\n",
       "    <tr>\n",
       "      <th>0</th>\n",
       "      <td>0</td>\n",
       "      <td>3</td>\n",
       "      <td>0</td>\n",
       "      <td>1</td>\n",
       "      <td>0</td>\n",
       "      <td>2.0</td>\n",
       "      <td>0</td>\n",
       "      <td>0</td>\n",
       "      <td>0.4</td>\n",
       "    </tr>\n",
       "  </tbody>\n",
       "</table>\n",
       "</div>"
      ],
      "text/plain": [
       "   Survived  Pclass  Sex  Age  Fare  Cabin  Embarked  Title  FamilySize\n",
       "0         0       3    0    1     0    2.0         0      0         0.4"
      ]
     },
     "execution_count": 13,
     "metadata": {},
     "output_type": "execute_result"
    }
   ],
   "source": [
    "train.head(1)"
   ]
  },
  {
   "cell_type": "code",
   "execution_count": 14,
   "id": "25e7ca61-4714-4502-90a8-7ad017bd27e0",
   "metadata": {},
   "outputs": [
    {
     "data": {
      "text/html": [
       "<div>\n",
       "<style scoped>\n",
       "    .dataframe tbody tr th:only-of-type {\n",
       "        vertical-align: middle;\n",
       "    }\n",
       "\n",
       "    .dataframe tbody tr th {\n",
       "        vertical-align: top;\n",
       "    }\n",
       "\n",
       "    .dataframe thead th {\n",
       "        text-align: right;\n",
       "    }\n",
       "</style>\n",
       "<table border=\"1\" class=\"dataframe\">\n",
       "  <thead>\n",
       "    <tr style=\"text-align: right;\">\n",
       "      <th></th>\n",
       "      <th>Pclass</th>\n",
       "      <th>Sex</th>\n",
       "      <th>Age</th>\n",
       "      <th>Fare</th>\n",
       "      <th>Cabin</th>\n",
       "      <th>Embarked</th>\n",
       "      <th>Title</th>\n",
       "      <th>FamilySize</th>\n",
       "    </tr>\n",
       "  </thead>\n",
       "  <tbody>\n",
       "    <tr>\n",
       "      <th>0</th>\n",
       "      <td>3</td>\n",
       "      <td>0</td>\n",
       "      <td>2</td>\n",
       "      <td>0</td>\n",
       "      <td>2.0</td>\n",
       "      <td>2</td>\n",
       "      <td>0</td>\n",
       "      <td>0.0</td>\n",
       "    </tr>\n",
       "  </tbody>\n",
       "</table>\n",
       "</div>"
      ],
      "text/plain": [
       "   Pclass  Sex  Age  Fare  Cabin  Embarked  Title  FamilySize\n",
       "0       3    0    2     0    2.0         2      0         0.0"
      ]
     },
     "execution_count": 14,
     "metadata": {},
     "output_type": "execute_result"
    }
   ],
   "source": [
    "test.head(1)"
   ]
  },
  {
   "cell_type": "code",
   "execution_count": 15,
   "id": "68ebc0a8-fa20-46b0-bf85-5bb830b187ce",
   "metadata": {},
   "outputs": [
    {
     "data": {
      "text/plain": [
       "Pclass        0\n",
       "Sex           0\n",
       "Age           0\n",
       "Fare          0\n",
       "Cabin         0\n",
       "Embarked      0\n",
       "Title         0\n",
       "FamilySize    0\n",
       "dtype: int64"
      ]
     },
     "execution_count": 15,
     "metadata": {},
     "output_type": "execute_result"
    }
   ],
   "source": [
    "test.isnull().sum()"
   ]
  },
  {
   "cell_type": "markdown",
   "id": "be711fe0-9cf3-496c-bd88-33ab7bf54530",
   "metadata": {},
   "source": [
    "----------"
   ]
  },
  {
   "cell_type": "markdown",
   "id": "5c9144e8-318d-4227-bdb5-e4dab26be0c4",
   "metadata": {},
   "source": [
    "# 11 DAY"
   ]
  },
  {
   "cell_type": "code",
   "execution_count": 17,
   "id": "5a0b44b8-5109-4f74-a87e-95b33ced7991",
   "metadata": {},
   "outputs": [],
   "source": [
    "from sklearn.linear_model import LogisticRegression\n",
    "from sklearn.tree import DecisionTreeClassifier\n",
    "from sklearn.ensemble import RandomForestClassifier\n",
    "from sklearn.ensemble import GradientBoostingClassifier\n",
    "from sklearn.ensemble import AdaBoostClassifier\n",
    "\n",
    "from sklearn.metrics import accuracy_score\n",
    "from sklearn.model_selection import train_test_split"
   ]
  },
  {
   "cell_type": "code",
   "execution_count": 18,
   "id": "1b1c16c7-8bb3-4633-bed3-8ecd02594269",
   "metadata": {},
   "outputs": [],
   "source": [
    "inputs = train.drop('Survived', axis =1)\n",
    "#train.drop(colums='Survived')"
   ]
  },
  {
   "cell_type": "code",
   "execution_count": 19,
   "id": "68e9d3de-ac50-454f-b216-3cd99168924c",
   "metadata": {},
   "outputs": [],
   "source": [
    "outputs = train['Survived']"
   ]
  },
  {
   "cell_type": "code",
   "execution_count": 20,
   "id": "e8bdd87b-71ba-4975-abce-feb203461049",
   "metadata": {},
   "outputs": [
    {
     "name": "stdout",
     "output_type": "stream",
     "text": [
      "(891, 8) (891,)\n"
     ]
    }
   ],
   "source": [
    "print(inputs.shape , outputs.shape)\n",
    "# 891데이터 8 ,속성 891 데이터 1개의 속성 1개라서 표시안됨 "
   ]
  },
  {
   "cell_type": "code",
   "execution_count": 21,
   "id": "14401fb8-2d7f-4c25-b1a1-c791e090b617",
   "metadata": {},
   "outputs": [
    {
     "data": {
      "text/plain": [
       "0    549\n",
       "1    342\n",
       "Name: Survived, dtype: int64"
      ]
     },
     "execution_count": 21,
     "metadata": {},
     "output_type": "execute_result"
    }
   ],
   "source": [
    "outputs.value_counts()\n",
    "# 0 사망자, 1 생존자 "
   ]
  },
  {
   "cell_type": "code",
   "execution_count": 22,
   "id": "1f73eee8-e19e-4ee7-a964-846cc3ec8d31",
   "metadata": {},
   "outputs": [],
   "source": [
    "train_input, test_input, train_output, test_output = \\\n",
    "train_test_split(inputs, outputs, test_size=0.2, stratify=outputs, random_state=10)\n",
    "#stratify= a : a라는 파일을 고정 \n",
    "#random_state : 랜덤값을 고정 "
   ]
  },
  {
   "cell_type": "code",
   "execution_count": 23,
   "id": "4a54dd60-6446-4a47-88c2-bd3d20951e4c",
   "metadata": {},
   "outputs": [
    {
     "name": "stdout",
     "output_type": "stream",
     "text": [
      "(712, 8) (712,)\n",
      "(179, 8) (179,)\n"
     ]
    }
   ],
   "source": [
    "print(train_input.shape, train_output.shape)\n",
    "print(test_input.shape, test_output.shape)"
   ]
  },
  {
   "cell_type": "code",
   "execution_count": 24,
   "id": "22dca969-4696-424b-9ac5-4ca4b0951d80",
   "metadata": {},
   "outputs": [
    {
     "data": {
      "text/plain": [
       "0    439\n",
       "1    273\n",
       "Name: Survived, dtype: int64"
      ]
     },
     "execution_count": 24,
     "metadata": {},
     "output_type": "execute_result"
    }
   ],
   "source": [
    "train_output.value_counts()"
   ]
  },
  {
   "cell_type": "code",
   "execution_count": 25,
   "id": "717cc34f-798a-4b09-8f31-a45bf3ea1300",
   "metadata": {},
   "outputs": [
    {
     "data": {
      "text/plain": [
       "0    110\n",
       "1     69\n",
       "Name: Survived, dtype: int64"
      ]
     },
     "execution_count": 25,
     "metadata": {},
     "output_type": "execute_result"
    }
   ],
   "source": [
    "test_output.value_counts()"
   ]
  },
  {
   "cell_type": "code",
   "execution_count": 26,
   "id": "dce3987c-b56d-45de-99b7-babd51114556",
   "metadata": {},
   "outputs": [],
   "source": [
    "model1 = LogisticRegression()\n",
    "model2 = DecisionTreeClassifier()\n",
    "model3 = RandomForestClassifier()\n",
    "model4 = GradientBoostingClassifier()\n",
    "model5 = AdaBoostClassifier()"
   ]
  },
  {
   "cell_type": "code",
   "execution_count": 27,
   "id": "d18bd557-da98-4c89-b258-ee6a61a78fd3",
   "metadata": {},
   "outputs": [
    {
     "data": {
      "text/plain": [
       "LogisticRegression()"
      ]
     },
     "execution_count": 27,
     "metadata": {},
     "output_type": "execute_result"
    }
   ],
   "source": [
    "#fit 학습 \n",
    "model1.fit(train_input, train_output)"
   ]
  },
  {
   "cell_type": "code",
   "execution_count": 28,
   "id": "86fd9317-2608-4c43-8225-ab7c954672e9",
   "metadata": {},
   "outputs": [
    {
     "data": {
      "text/plain": [
       "81.03932584269663"
      ]
     },
     "execution_count": 28,
     "metadata": {},
     "output_type": "execute_result"
    }
   ],
   "source": [
    "# score 결과 \n",
    "model1.score(train_input, train_output) *100"
   ]
  },
  {
   "cell_type": "code",
   "execution_count": 29,
   "id": "5225855c-4c61-4530-878c-5358ece51752",
   "metadata": {},
   "outputs": [
    {
     "data": {
      "text/plain": [
       "79.88826815642457"
      ]
     },
     "execution_count": 29,
     "metadata": {},
     "output_type": "execute_result"
    }
   ],
   "source": [
    "model1.score(test_input, test_output) *100"
   ]
  },
  {
   "cell_type": "code",
   "execution_count": 30,
   "id": "9ca47cdc-be04-4bc9-9efc-752250ebe7cb",
   "metadata": {},
   "outputs": [],
   "source": [
    "# predict 예측치 \n",
    "test_pre = model1.predict(test_input)"
   ]
  },
  {
   "cell_type": "code",
   "execution_count": 31,
   "id": "465f76bb-77c4-4a6f-b9b7-52b6963fb44c",
   "metadata": {},
   "outputs": [
    {
     "data": {
      "text/plain": [
       "Pclass        3.0\n",
       "Sex           1.0\n",
       "Age           0.0\n",
       "Fare          1.0\n",
       "Cabin         2.0\n",
       "Embarked      0.0\n",
       "Title         2.0\n",
       "FamilySize    1.6\n",
       "Name: 24, dtype: float64"
      ]
     },
     "execution_count": 31,
     "metadata": {},
     "output_type": "execute_result"
    }
   ],
   "source": [
    "test_input.iloc[0]"
   ]
  },
  {
   "cell_type": "code",
   "execution_count": 32,
   "id": "0fb33b6e-1f8f-4b68-b5cb-52f868e55f82",
   "metadata": {},
   "outputs": [
    {
     "data": {
      "text/plain": [
       "1"
      ]
     },
     "execution_count": 32,
     "metadata": {},
     "output_type": "execute_result"
    }
   ],
   "source": [
    "test_pre[0]"
   ]
  },
  {
   "cell_type": "code",
   "execution_count": 33,
   "id": "189f888a-e4ac-413f-b588-fd51f4fd1471",
   "metadata": {},
   "outputs": [
    {
     "data": {
      "text/plain": [
       "0"
      ]
     },
     "execution_count": 33,
     "metadata": {},
     "output_type": "execute_result"
    }
   ],
   "source": [
    "#실제 정답을 보려면 \n",
    "#iloc 인덱스 \n",
    "test_output.iloc[0]"
   ]
  },
  {
   "cell_type": "code",
   "execution_count": 34,
   "id": "d2a981c7-8276-42eb-a324-8b734f65b409",
   "metadata": {},
   "outputs": [
    {
     "data": {
      "text/plain": [
       "79.88826815642457"
      ]
     },
     "execution_count": 34,
     "metadata": {},
     "output_type": "execute_result"
    }
   ],
   "source": [
    "#하나씩 확인할수 없으니 효율적으로 \n",
    "accuracy_score(test_pre, test_output) *100"
   ]
  },
  {
   "cell_type": "code",
   "execution_count": 35,
   "id": "d9855c9e-b73b-452b-b39a-edf03d222990",
   "metadata": {},
   "outputs": [
    {
     "data": {
      "text/plain": [
       "DecisionTreeClassifier()"
      ]
     },
     "execution_count": 35,
     "metadata": {},
     "output_type": "execute_result"
    }
   ],
   "source": [
    "model2.fit(train_input, train_output)"
   ]
  },
  {
   "cell_type": "code",
   "execution_count": 36,
   "id": "28bc0743-e003-4655-8978-4d66b6504e46",
   "metadata": {},
   "outputs": [
    {
     "data": {
      "text/plain": [
       "90.73033707865169"
      ]
     },
     "execution_count": 36,
     "metadata": {},
     "output_type": "execute_result"
    }
   ],
   "source": [
    "model2.score(train_input, train_output) *100"
   ]
  },
  {
   "cell_type": "code",
   "execution_count": 37,
   "id": "1ae85bc2-d685-4a82-ac3d-5058a601dd9e",
   "metadata": {},
   "outputs": [
    {
     "data": {
      "text/plain": [
       "77.6536312849162"
      ]
     },
     "execution_count": 37,
     "metadata": {},
     "output_type": "execute_result"
    }
   ],
   "source": [
    "model2.score(test_input, test_output) *100"
   ]
  },
  {
   "cell_type": "code",
   "execution_count": 38,
   "id": "2f347cbd-4f09-4fe0-9e2b-21e7cdbe456f",
   "metadata": {},
   "outputs": [],
   "source": [
    "test_pre = model2.predict(test_input)"
   ]
  },
  {
   "cell_type": "code",
   "execution_count": 39,
   "id": "859ea9a3-0cc2-4f68-97e6-a4809eb6b8ca",
   "metadata": {},
   "outputs": [
    {
     "data": {
      "text/plain": [
       "Pclass        3.0\n",
       "Sex           1.0\n",
       "Age           0.0\n",
       "Fare          1.0\n",
       "Cabin         2.0\n",
       "Embarked      0.0\n",
       "Title         2.0\n",
       "FamilySize    1.6\n",
       "Name: 24, dtype: float64"
      ]
     },
     "execution_count": 39,
     "metadata": {},
     "output_type": "execute_result"
    }
   ],
   "source": [
    "test_input.iloc[0]"
   ]
  },
  {
   "cell_type": "code",
   "execution_count": 40,
   "id": "ded3164e-55e2-40fb-a3ea-b1e864fd9461",
   "metadata": {},
   "outputs": [
    {
     "data": {
      "text/plain": [
       "0"
      ]
     },
     "execution_count": 40,
     "metadata": {},
     "output_type": "execute_result"
    }
   ],
   "source": [
    "test_pre[0]"
   ]
  },
  {
   "cell_type": "code",
   "execution_count": 41,
   "id": "6171ccb2-bea7-45a3-8ff3-79ac82c67b7e",
   "metadata": {},
   "outputs": [
    {
     "data": {
      "text/plain": [
       "0"
      ]
     },
     "execution_count": 41,
     "metadata": {},
     "output_type": "execute_result"
    }
   ],
   "source": [
    "test_output.iloc[0]"
   ]
  },
  {
   "cell_type": "code",
   "execution_count": 42,
   "id": "acea77a9-5f49-482b-b62c-637a2cd799e3",
   "metadata": {},
   "outputs": [
    {
     "data": {
      "text/plain": [
       "77.6536312849162"
      ]
     },
     "execution_count": 42,
     "metadata": {},
     "output_type": "execute_result"
    }
   ],
   "source": [
    "accuracy_score(test_pre, test_output) *100"
   ]
  },
  {
   "cell_type": "code",
   "execution_count": 43,
   "id": "4657021c-a118-4b88-a796-80cbcc093683",
   "metadata": {},
   "outputs": [],
   "source": [
    "model = {'LogisticRegression' :LogisticRegression(),\n",
    "'DecisionTreeClassifier': DecisionTreeClassifier(),\n",
    "'RandomForestClassifier' : RandomForestClassifier(),\n",
    "'GradientBoostingClassifier' :  GradientBoostingClassifier(),\n",
    "'AdaBoostClassifier' : AdaBoostClassifier()}"
   ]
  },
  {
   "cell_type": "code",
   "execution_count": 44,
   "id": "f874f7a8-bd31-46ec-ac94-b91cbf01b1b3",
   "metadata": {},
   "outputs": [
    {
     "name": "stdout",
     "output_type": "stream",
     "text": [
      "[        LogisticRegression] train:81.04 / test:79.89\n",
      "[    DecisionTreeClassifier] train:90.73 / test:77.65\n",
      "[    RandomForestClassifier] train:90.73 / test:81.56\n",
      "[GradientBoostingClassifier] train:86.24 / test:81.56\n",
      "[        AdaBoostClassifier] train:81.46 / test:82.12\n"
     ]
    }
   ],
   "source": [
    "for m in model :\n",
    "    clf = model[m]\n",
    "    clf.fit(train_input, train_output)\n",
    "    train_score = clf.score(train_input, train_output)*100\n",
    "    test_score = clf.score(test_input, test_output)*100\n",
    "    \n",
    "    print(f\"[%26s] train:%.2f / test:%.2f\" % (m, train_score, test_score))"
   ]
  },
  {
   "cell_type": "code",
   "execution_count": 45,
   "id": "09ddf434-5de4-428a-a688-a69d46bd377a",
   "metadata": {},
   "outputs": [],
   "source": [
    "model =  GradientBoostingClassifier()"
   ]
  },
  {
   "cell_type": "code",
   "execution_count": 46,
   "id": "a7c10488-65fd-4a2e-ab87-4ac0ae3c8223",
   "metadata": {},
   "outputs": [
    {
     "data": {
      "text/plain": [
       "GradientBoostingClassifier()"
      ]
     },
     "execution_count": 46,
     "metadata": {},
     "output_type": "execute_result"
    }
   ],
   "source": [
    "# fit  학습 \n",
    "model.fit(train_input, train_output)"
   ]
  },
  {
   "cell_type": "code",
   "execution_count": 47,
   "id": "2dfc8389-7f78-46e1-a56e-0bd65a9beff4",
   "metadata": {},
   "outputs": [
    {
     "data": {
      "text/plain": [
       "86.65730337078652"
      ]
     },
     "execution_count": 47,
     "metadata": {},
     "output_type": "execute_result"
    }
   ],
   "source": [
    "model.score(train_input, train_output) *100"
   ]
  },
  {
   "cell_type": "code",
   "execution_count": 48,
   "id": "be0238ba-1e83-4aee-8438-8739f61ee94e",
   "metadata": {},
   "outputs": [
    {
     "data": {
      "text/plain": [
       "83.24022346368714"
      ]
     },
     "execution_count": 48,
     "metadata": {},
     "output_type": "execute_result"
    }
   ],
   "source": [
    "model.score(test_input, test_output) *100"
   ]
  },
  {
   "cell_type": "code",
   "execution_count": 49,
   "id": "0b2f042d-6d39-46a1-afb5-c92d29152f04",
   "metadata": {},
   "outputs": [],
   "source": [
    "test_pre = model.predict(test_input)"
   ]
  },
  {
   "cell_type": "code",
   "execution_count": 50,
   "id": "5c1b473b-1498-4c0d-a868-92fd941b9bd4",
   "metadata": {},
   "outputs": [
    {
     "data": {
      "text/plain": [
       "Pclass        3.0\n",
       "Sex           1.0\n",
       "Age           0.0\n",
       "Fare          1.0\n",
       "Cabin         2.0\n",
       "Embarked      0.0\n",
       "Title         2.0\n",
       "FamilySize    1.6\n",
       "Name: 24, dtype: float64"
      ]
     },
     "execution_count": 50,
     "metadata": {},
     "output_type": "execute_result"
    }
   ],
   "source": [
    "test_input.iloc[0]"
   ]
  },
  {
   "cell_type": "code",
   "execution_count": 51,
   "id": "8b825fac-860c-4054-8459-b1ff393e7f8b",
   "metadata": {},
   "outputs": [
    {
     "data": {
      "text/plain": [
       "0"
      ]
     },
     "execution_count": 51,
     "metadata": {},
     "output_type": "execute_result"
    }
   ],
   "source": [
    "test_pre[0]"
   ]
  },
  {
   "cell_type": "code",
   "execution_count": 52,
   "id": "4e701145-d422-4b1c-a1b9-684936a66351",
   "metadata": {},
   "outputs": [
    {
     "data": {
      "text/plain": [
       "0"
      ]
     },
     "execution_count": 52,
     "metadata": {},
     "output_type": "execute_result"
    }
   ],
   "source": [
    "test_output.iloc[0]"
   ]
  },
  {
   "cell_type": "code",
   "execution_count": 53,
   "id": "994e5153-4226-4851-9eb5-a1b33fb2e8be",
   "metadata": {},
   "outputs": [
    {
     "data": {
      "text/plain": [
       "83.24022346368714"
      ]
     },
     "execution_count": 53,
     "metadata": {},
     "output_type": "execute_result"
    }
   ],
   "source": [
    "accuracy_score(test_pre, test_output) *100"
   ]
  },
  {
   "cell_type": "code",
   "execution_count": 54,
   "id": "6f892c98-8dba-476b-acec-4472a42176b2",
   "metadata": {},
   "outputs": [],
   "source": [
    "import pickle"
   ]
  },
  {
   "cell_type": "code",
   "execution_count": 55,
   "id": "9c879c8c-41ed-4509-a11d-a4652bfa7daf",
   "metadata": {},
   "outputs": [],
   "source": [
    "with open('gbc.pk1', 'wb') as f :\n",
    "    pickle.dump(model, f)\n",
    "    # 피클 저장?! "
   ]
  },
  {
   "cell_type": "markdown",
   "id": "abddfbde-85f3-4008-9e73-f7316de24ce3",
   "metadata": {},
   "source": [
    "-"
   ]
  },
  {
   "cell_type": "code",
   "execution_count": 56,
   "id": "4f08ab55-70b8-47f6-a326-941a22223ee4",
   "metadata": {},
   "outputs": [],
   "source": [
    "with open('gbc.pk1', 'rb') as f :\n",
    "    load_model = pickle.load(f)\n",
    "    # 파일 저장을 불러오기 "
   ]
  },
  {
   "cell_type": "code",
   "execution_count": 57,
   "id": "3414db72-232f-40b9-be8b-092440ae4ca2",
   "metadata": {},
   "outputs": [
    {
     "data": {
      "text/plain": [
       "GradientBoostingClassifier()"
      ]
     },
     "execution_count": 57,
     "metadata": {},
     "output_type": "execute_result"
    }
   ],
   "source": [
    "load_model"
   ]
  },
  {
   "cell_type": "code",
   "execution_count": 58,
   "id": "3ff3ce82-6958-4922-ad7d-6a61245e8681",
   "metadata": {},
   "outputs": [],
   "source": [
    "data = test_input.iloc[0].to_list()"
   ]
  },
  {
   "cell_type": "code",
   "execution_count": 59,
   "id": "de75e41c-2f9e-451c-9f91-cbe6511ebb78",
   "metadata": {},
   "outputs": [
    {
     "data": {
      "text/plain": [
       "[3.0, 1.0, 0.0, 1.0, 2.0, 0.0, 2.0, 1.6]"
      ]
     },
     "execution_count": 59,
     "metadata": {},
     "output_type": "execute_result"
    }
   ],
   "source": [
    "data"
   ]
  },
  {
   "cell_type": "code",
   "execution_count": 60,
   "id": "67c97870-166c-41d9-92e3-8be1c73b1738",
   "metadata": {},
   "outputs": [],
   "source": [
    "import numpy as np"
   ]
  },
  {
   "cell_type": "code",
   "execution_count": 61,
   "id": "1676942e-ff23-4c18-870b-0f6cc1224edc",
   "metadata": {},
   "outputs": [],
   "source": [
    "np_data = np.asarray(data)"
   ]
  },
  {
   "cell_type": "code",
   "execution_count": 62,
   "id": "41edb85b-bc15-4d43-836d-3b5c35b33dda",
   "metadata": {},
   "outputs": [],
   "source": [
    "re_data = np_data.reshape(1, -1)"
   ]
  },
  {
   "cell_type": "code",
   "execution_count": 63,
   "id": "92e7afb6-c670-434b-95af-76f544b887e4",
   "metadata": {},
   "outputs": [
    {
     "name": "stderr",
     "output_type": "stream",
     "text": [
      "C:\\Users\\user\\anaconda3\\lib\\site-packages\\sklearn\\base.py:450: UserWarning: X does not have valid feature names, but GradientBoostingClassifier was fitted with feature names\n",
      "  warnings.warn(\n"
     ]
    }
   ],
   "source": [
    "pred = load_model.predict(re_data)"
   ]
  },
  {
   "cell_type": "code",
   "execution_count": 64,
   "id": "cc394498-2246-4552-b278-dc2a4ba740e0",
   "metadata": {},
   "outputs": [
    {
     "name": "stdout",
     "output_type": "stream",
     "text": [
      "Died...\n"
     ]
    }
   ],
   "source": [
    "if pred[0] == 0:\n",
    "    print('Died...')\n",
    "else :\n",
    "    print('Servived!')"
   ]
  },
  {
   "cell_type": "markdown",
   "id": "265bbacd-2af7-42a0-88f4-0398a5561d8a",
   "metadata": {},
   "source": [
    "-"
   ]
  },
  {
   "cell_type": "code",
   "execution_count": 65,
   "id": "a93494d2-dcd8-4e13-92e6-3344729fbafa",
   "metadata": {},
   "outputs": [],
   "source": [
    "sub = pd.read_csv('9D_titanic/submission.csv')"
   ]
  },
  {
   "cell_type": "code",
   "execution_count": 66,
   "id": "e6459800-eaa0-457f-ba3e-5cc9ae046410",
   "metadata": {},
   "outputs": [],
   "source": [
    "answer = sub['Survived']"
   ]
  },
  {
   "cell_type": "code",
   "execution_count": 67,
   "id": "2d72ffae-2012-4832-82b7-c57b2b1202fb",
   "metadata": {},
   "outputs": [
    {
     "data": {
      "text/html": [
       "<div>\n",
       "<style scoped>\n",
       "    .dataframe tbody tr th:only-of-type {\n",
       "        vertical-align: middle;\n",
       "    }\n",
       "\n",
       "    .dataframe tbody tr th {\n",
       "        vertical-align: top;\n",
       "    }\n",
       "\n",
       "    .dataframe thead th {\n",
       "        text-align: right;\n",
       "    }\n",
       "</style>\n",
       "<table border=\"1\" class=\"dataframe\">\n",
       "  <thead>\n",
       "    <tr style=\"text-align: right;\">\n",
       "      <th></th>\n",
       "      <th>Pclass</th>\n",
       "      <th>Sex</th>\n",
       "      <th>Age</th>\n",
       "      <th>Fare</th>\n",
       "      <th>Cabin</th>\n",
       "      <th>Embarked</th>\n",
       "      <th>Title</th>\n",
       "      <th>FamilySize</th>\n",
       "    </tr>\n",
       "  </thead>\n",
       "  <tbody>\n",
       "    <tr>\n",
       "      <th>count</th>\n",
       "      <td>418.000000</td>\n",
       "      <td>418.000000</td>\n",
       "      <td>418.000000</td>\n",
       "      <td>418.000000</td>\n",
       "      <td>418.000000</td>\n",
       "      <td>418.000000</td>\n",
       "      <td>418.000000</td>\n",
       "      <td>418.000000</td>\n",
       "    </tr>\n",
       "    <tr>\n",
       "      <th>mean</th>\n",
       "      <td>2.265550</td>\n",
       "      <td>0.363636</td>\n",
       "      <td>1.796651</td>\n",
       "      <td>0.770335</td>\n",
       "      <td>1.687081</td>\n",
       "      <td>0.464115</td>\n",
       "      <td>0.746411</td>\n",
       "      <td>0.335885</td>\n",
       "    </tr>\n",
       "    <tr>\n",
       "      <th>std</th>\n",
       "      <td>0.841838</td>\n",
       "      <td>0.481622</td>\n",
       "      <td>0.923599</td>\n",
       "      <td>0.998743</td>\n",
       "      <td>0.563371</td>\n",
       "      <td>0.685516</td>\n",
       "      <td>0.983216</td>\n",
       "      <td>0.607629</td>\n",
       "    </tr>\n",
       "    <tr>\n",
       "      <th>min</th>\n",
       "      <td>1.000000</td>\n",
       "      <td>0.000000</td>\n",
       "      <td>0.000000</td>\n",
       "      <td>0.000000</td>\n",
       "      <td>0.000000</td>\n",
       "      <td>0.000000</td>\n",
       "      <td>0.000000</td>\n",
       "      <td>0.000000</td>\n",
       "    </tr>\n",
       "    <tr>\n",
       "      <th>25%</th>\n",
       "      <td>1.000000</td>\n",
       "      <td>0.000000</td>\n",
       "      <td>1.000000</td>\n",
       "      <td>0.000000</td>\n",
       "      <td>1.600000</td>\n",
       "      <td>0.000000</td>\n",
       "      <td>0.000000</td>\n",
       "      <td>0.000000</td>\n",
       "    </tr>\n",
       "    <tr>\n",
       "      <th>50%</th>\n",
       "      <td>3.000000</td>\n",
       "      <td>0.000000</td>\n",
       "      <td>2.000000</td>\n",
       "      <td>0.000000</td>\n",
       "      <td>2.000000</td>\n",
       "      <td>0.000000</td>\n",
       "      <td>0.000000</td>\n",
       "      <td>0.000000</td>\n",
       "    </tr>\n",
       "    <tr>\n",
       "      <th>75%</th>\n",
       "      <td>3.000000</td>\n",
       "      <td>1.000000</td>\n",
       "      <td>2.000000</td>\n",
       "      <td>2.000000</td>\n",
       "      <td>2.000000</td>\n",
       "      <td>1.000000</td>\n",
       "      <td>2.000000</td>\n",
       "      <td>0.400000</td>\n",
       "    </tr>\n",
       "    <tr>\n",
       "      <th>max</th>\n",
       "      <td>3.000000</td>\n",
       "      <td>1.000000</td>\n",
       "      <td>4.000000</td>\n",
       "      <td>3.000000</td>\n",
       "      <td>2.400000</td>\n",
       "      <td>2.000000</td>\n",
       "      <td>3.000000</td>\n",
       "      <td>4.000000</td>\n",
       "    </tr>\n",
       "  </tbody>\n",
       "</table>\n",
       "</div>"
      ],
      "text/plain": [
       "           Pclass         Sex         Age        Fare       Cabin    Embarked  \\\n",
       "count  418.000000  418.000000  418.000000  418.000000  418.000000  418.000000   \n",
       "mean     2.265550    0.363636    1.796651    0.770335    1.687081    0.464115   \n",
       "std      0.841838    0.481622    0.923599    0.998743    0.563371    0.685516   \n",
       "min      1.000000    0.000000    0.000000    0.000000    0.000000    0.000000   \n",
       "25%      1.000000    0.000000    1.000000    0.000000    1.600000    0.000000   \n",
       "50%      3.000000    0.000000    2.000000    0.000000    2.000000    0.000000   \n",
       "75%      3.000000    1.000000    2.000000    2.000000    2.000000    1.000000   \n",
       "max      3.000000    1.000000    4.000000    3.000000    2.400000    2.000000   \n",
       "\n",
       "            Title  FamilySize  \n",
       "count  418.000000  418.000000  \n",
       "mean     0.746411    0.335885  \n",
       "std      0.983216    0.607629  \n",
       "min      0.000000    0.000000  \n",
       "25%      0.000000    0.000000  \n",
       "50%      0.000000    0.000000  \n",
       "75%      2.000000    0.400000  \n",
       "max      3.000000    4.000000  "
      ]
     },
     "execution_count": 67,
     "metadata": {},
     "output_type": "execute_result"
    }
   ],
   "source": [
    "test.describe()"
   ]
  },
  {
   "cell_type": "code",
   "execution_count": 68,
   "id": "1dc86915-8202-4762-87e0-c85dd2490c00",
   "metadata": {},
   "outputs": [
    {
     "data": {
      "text/plain": [
       "GradientBoostingClassifier()"
      ]
     },
     "execution_count": 68,
     "metadata": {},
     "output_type": "execute_result"
    }
   ],
   "source": [
    "load_model"
   ]
  },
  {
   "cell_type": "code",
   "execution_count": 69,
   "id": "ac35983c-1eb1-4ed5-8293-c6d6c0498989",
   "metadata": {},
   "outputs": [],
   "source": [
    "submission = load_model.predict(test)"
   ]
  },
  {
   "cell_type": "code",
   "execution_count": 70,
   "id": "20b7f449-c56d-4e58-a0d2-ab02965f62e2",
   "metadata": {},
   "outputs": [
    {
     "data": {
      "text/plain": [
       "85.64593301435407"
      ]
     },
     "execution_count": 70,
     "metadata": {},
     "output_type": "execute_result"
    }
   ],
   "source": [
    "accuracy_score(answer,submission) *100"
   ]
  },
  {
   "cell_type": "code",
   "execution_count": 71,
   "id": "42c2ab6b-c274-4d2a-8ae6-dbc4feee635f",
   "metadata": {},
   "outputs": [],
   "source": [
    "sub2= pd.read_csv('9D_titanic/submission2.csv')"
   ]
  },
  {
   "cell_type": "code",
   "execution_count": 72,
   "id": "a4be2683-02fd-4c26-a946-f8fc03cfe2f9",
   "metadata": {},
   "outputs": [],
   "source": [
    "sub2['Survived'] = submission"
   ]
  },
  {
   "cell_type": "code",
   "execution_count": 73,
   "id": "8337157f-3d95-4243-9b24-ac534c704519",
   "metadata": {},
   "outputs": [],
   "source": [
    "sub2.to_csv('result.csv', index=False)"
   ]
  },
  {
   "cell_type": "code",
   "execution_count": 74,
   "id": "1b779548-54fe-4535-9a76-51a2435c06b1",
   "metadata": {},
   "outputs": [
    {
     "data": {
      "text/plain": [
       "0    278\n",
       "1    140\n",
       "Name: Survived, dtype: int64"
      ]
     },
     "execution_count": 74,
     "metadata": {},
     "output_type": "execute_result"
    }
   ],
   "source": [
    "sub2['Survived'].value_counts()"
   ]
  },
  {
   "cell_type": "code",
   "execution_count": null,
   "id": "ec8949e9-8a84-474e-8d7a-9ea710a13c15",
   "metadata": {},
   "outputs": [],
   "source": []
  }
 ],
 "metadata": {
  "kernelspec": {
   "display_name": "Python 3 (ipykernel)",
   "language": "python",
   "name": "python3"
  },
  "language_info": {
   "codemirror_mode": {
    "name": "ipython",
    "version": 3
   },
   "file_extension": ".py",
   "mimetype": "text/x-python",
   "name": "python",
   "nbconvert_exporter": "python",
   "pygments_lexer": "ipython3",
   "version": "3.9.12"
  }
 },
 "nbformat": 4,
 "nbformat_minor": 5
}
