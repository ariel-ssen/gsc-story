{
 "cells": [
  {
   "cell_type": "markdown",
   "id": "ab1d1f79-7355-4070-bf10-d5692d438bf9",
   "metadata": {},
   "source": [
    "# Heart Disease Data Set\n",
    "## 심장 질환 여부 판별하기('target': label)"
   ]
  },
  {
   "cell_type": "code",
   "execution_count": 3,
   "id": "22cd6f0a-254d-41d0-b7e3-0aafcc6cd42c",
   "metadata": {},
   "outputs": [],
   "source": [
    "import pandas as pd\n",
    "from sklearn.linear_model import LogisticRegression #Classification의 한 종류\n",
    "from sklearn.model_selection import train_test_split"
   ]
  },
  {
   "cell_type": "code",
   "execution_count": 4,
   "id": "c48fe693-65e6-4e5a-bae4-4e5d1a51d143",
   "metadata": {},
   "outputs": [
    {
     "ename": "FileNotFoundError",
     "evalue": "[Errno 2] No such file or directory: 'heart.csv'",
     "output_type": "error",
     "traceback": [
      "\u001b[1;31m---------------------------------------------------------------------------\u001b[0m",
      "\u001b[1;31mFileNotFoundError\u001b[0m                         Traceback (most recent call last)",
      "Input \u001b[1;32mIn [4]\u001b[0m, in \u001b[0;36m<cell line: 1>\u001b[1;34m()\u001b[0m\n\u001b[1;32m----> 1\u001b[0m heart \u001b[38;5;241m=\u001b[39m \u001b[43mpd\u001b[49m\u001b[38;5;241;43m.\u001b[39;49m\u001b[43mread_csv\u001b[49m\u001b[43m(\u001b[49m\u001b[38;5;124;43m'\u001b[39;49m\u001b[38;5;124;43mheart.csv\u001b[39;49m\u001b[38;5;124;43m'\u001b[39;49m\u001b[43m)\u001b[49m\n",
      "File \u001b[1;32m~\\anaconda3\\lib\\site-packages\\pandas\\util\\_decorators.py:311\u001b[0m, in \u001b[0;36mdeprecate_nonkeyword_arguments.<locals>.decorate.<locals>.wrapper\u001b[1;34m(*args, **kwargs)\u001b[0m\n\u001b[0;32m    305\u001b[0m \u001b[38;5;28;01mif\u001b[39;00m \u001b[38;5;28mlen\u001b[39m(args) \u001b[38;5;241m>\u001b[39m num_allow_args:\n\u001b[0;32m    306\u001b[0m     warnings\u001b[38;5;241m.\u001b[39mwarn(\n\u001b[0;32m    307\u001b[0m         msg\u001b[38;5;241m.\u001b[39mformat(arguments\u001b[38;5;241m=\u001b[39marguments),\n\u001b[0;32m    308\u001b[0m         \u001b[38;5;167;01mFutureWarning\u001b[39;00m,\n\u001b[0;32m    309\u001b[0m         stacklevel\u001b[38;5;241m=\u001b[39mstacklevel,\n\u001b[0;32m    310\u001b[0m     )\n\u001b[1;32m--> 311\u001b[0m \u001b[38;5;28;01mreturn\u001b[39;00m func(\u001b[38;5;241m*\u001b[39margs, \u001b[38;5;241m*\u001b[39m\u001b[38;5;241m*\u001b[39mkwargs)\n",
      "File \u001b[1;32m~\\anaconda3\\lib\\site-packages\\pandas\\io\\parsers\\readers.py:680\u001b[0m, in \u001b[0;36mread_csv\u001b[1;34m(filepath_or_buffer, sep, delimiter, header, names, index_col, usecols, squeeze, prefix, mangle_dupe_cols, dtype, engine, converters, true_values, false_values, skipinitialspace, skiprows, skipfooter, nrows, na_values, keep_default_na, na_filter, verbose, skip_blank_lines, parse_dates, infer_datetime_format, keep_date_col, date_parser, dayfirst, cache_dates, iterator, chunksize, compression, thousands, decimal, lineterminator, quotechar, quoting, doublequote, escapechar, comment, encoding, encoding_errors, dialect, error_bad_lines, warn_bad_lines, on_bad_lines, delim_whitespace, low_memory, memory_map, float_precision, storage_options)\u001b[0m\n\u001b[0;32m    665\u001b[0m kwds_defaults \u001b[38;5;241m=\u001b[39m _refine_defaults_read(\n\u001b[0;32m    666\u001b[0m     dialect,\n\u001b[0;32m    667\u001b[0m     delimiter,\n\u001b[1;32m   (...)\u001b[0m\n\u001b[0;32m    676\u001b[0m     defaults\u001b[38;5;241m=\u001b[39m{\u001b[38;5;124m\"\u001b[39m\u001b[38;5;124mdelimiter\u001b[39m\u001b[38;5;124m\"\u001b[39m: \u001b[38;5;124m\"\u001b[39m\u001b[38;5;124m,\u001b[39m\u001b[38;5;124m\"\u001b[39m},\n\u001b[0;32m    677\u001b[0m )\n\u001b[0;32m    678\u001b[0m kwds\u001b[38;5;241m.\u001b[39mupdate(kwds_defaults)\n\u001b[1;32m--> 680\u001b[0m \u001b[38;5;28;01mreturn\u001b[39;00m \u001b[43m_read\u001b[49m\u001b[43m(\u001b[49m\u001b[43mfilepath_or_buffer\u001b[49m\u001b[43m,\u001b[49m\u001b[43m \u001b[49m\u001b[43mkwds\u001b[49m\u001b[43m)\u001b[49m\n",
      "File \u001b[1;32m~\\anaconda3\\lib\\site-packages\\pandas\\io\\parsers\\readers.py:575\u001b[0m, in \u001b[0;36m_read\u001b[1;34m(filepath_or_buffer, kwds)\u001b[0m\n\u001b[0;32m    572\u001b[0m _validate_names(kwds\u001b[38;5;241m.\u001b[39mget(\u001b[38;5;124m\"\u001b[39m\u001b[38;5;124mnames\u001b[39m\u001b[38;5;124m\"\u001b[39m, \u001b[38;5;28;01mNone\u001b[39;00m))\n\u001b[0;32m    574\u001b[0m \u001b[38;5;66;03m# Create the parser.\u001b[39;00m\n\u001b[1;32m--> 575\u001b[0m parser \u001b[38;5;241m=\u001b[39m TextFileReader(filepath_or_buffer, \u001b[38;5;241m*\u001b[39m\u001b[38;5;241m*\u001b[39mkwds)\n\u001b[0;32m    577\u001b[0m \u001b[38;5;28;01mif\u001b[39;00m chunksize \u001b[38;5;129;01mor\u001b[39;00m iterator:\n\u001b[0;32m    578\u001b[0m     \u001b[38;5;28;01mreturn\u001b[39;00m parser\n",
      "File \u001b[1;32m~\\anaconda3\\lib\\site-packages\\pandas\\io\\parsers\\readers.py:933\u001b[0m, in \u001b[0;36mTextFileReader.__init__\u001b[1;34m(self, f, engine, **kwds)\u001b[0m\n\u001b[0;32m    930\u001b[0m     \u001b[38;5;28mself\u001b[39m\u001b[38;5;241m.\u001b[39moptions[\u001b[38;5;124m\"\u001b[39m\u001b[38;5;124mhas_index_names\u001b[39m\u001b[38;5;124m\"\u001b[39m] \u001b[38;5;241m=\u001b[39m kwds[\u001b[38;5;124m\"\u001b[39m\u001b[38;5;124mhas_index_names\u001b[39m\u001b[38;5;124m\"\u001b[39m]\n\u001b[0;32m    932\u001b[0m \u001b[38;5;28mself\u001b[39m\u001b[38;5;241m.\u001b[39mhandles: IOHandles \u001b[38;5;241m|\u001b[39m \u001b[38;5;28;01mNone\u001b[39;00m \u001b[38;5;241m=\u001b[39m \u001b[38;5;28;01mNone\u001b[39;00m\n\u001b[1;32m--> 933\u001b[0m \u001b[38;5;28mself\u001b[39m\u001b[38;5;241m.\u001b[39m_engine \u001b[38;5;241m=\u001b[39m \u001b[38;5;28;43mself\u001b[39;49m\u001b[38;5;241;43m.\u001b[39;49m\u001b[43m_make_engine\u001b[49m\u001b[43m(\u001b[49m\u001b[43mf\u001b[49m\u001b[43m,\u001b[49m\u001b[43m \u001b[49m\u001b[38;5;28;43mself\u001b[39;49m\u001b[38;5;241;43m.\u001b[39;49m\u001b[43mengine\u001b[49m\u001b[43m)\u001b[49m\n",
      "File \u001b[1;32m~\\anaconda3\\lib\\site-packages\\pandas\\io\\parsers\\readers.py:1217\u001b[0m, in \u001b[0;36mTextFileReader._make_engine\u001b[1;34m(self, f, engine)\u001b[0m\n\u001b[0;32m   1213\u001b[0m     mode \u001b[38;5;241m=\u001b[39m \u001b[38;5;124m\"\u001b[39m\u001b[38;5;124mrb\u001b[39m\u001b[38;5;124m\"\u001b[39m\n\u001b[0;32m   1214\u001b[0m \u001b[38;5;66;03m# error: No overload variant of \"get_handle\" matches argument types\u001b[39;00m\n\u001b[0;32m   1215\u001b[0m \u001b[38;5;66;03m# \"Union[str, PathLike[str], ReadCsvBuffer[bytes], ReadCsvBuffer[str]]\"\u001b[39;00m\n\u001b[0;32m   1216\u001b[0m \u001b[38;5;66;03m# , \"str\", \"bool\", \"Any\", \"Any\", \"Any\", \"Any\", \"Any\"\u001b[39;00m\n\u001b[1;32m-> 1217\u001b[0m \u001b[38;5;28mself\u001b[39m\u001b[38;5;241m.\u001b[39mhandles \u001b[38;5;241m=\u001b[39m \u001b[43mget_handle\u001b[49m\u001b[43m(\u001b[49m\u001b[43m  \u001b[49m\u001b[38;5;66;43;03m# type: ignore[call-overload]\u001b[39;49;00m\n\u001b[0;32m   1218\u001b[0m \u001b[43m    \u001b[49m\u001b[43mf\u001b[49m\u001b[43m,\u001b[49m\n\u001b[0;32m   1219\u001b[0m \u001b[43m    \u001b[49m\u001b[43mmode\u001b[49m\u001b[43m,\u001b[49m\n\u001b[0;32m   1220\u001b[0m \u001b[43m    \u001b[49m\u001b[43mencoding\u001b[49m\u001b[38;5;241;43m=\u001b[39;49m\u001b[38;5;28;43mself\u001b[39;49m\u001b[38;5;241;43m.\u001b[39;49m\u001b[43moptions\u001b[49m\u001b[38;5;241;43m.\u001b[39;49m\u001b[43mget\u001b[49m\u001b[43m(\u001b[49m\u001b[38;5;124;43m\"\u001b[39;49m\u001b[38;5;124;43mencoding\u001b[39;49m\u001b[38;5;124;43m\"\u001b[39;49m\u001b[43m,\u001b[49m\u001b[43m \u001b[49m\u001b[38;5;28;43;01mNone\u001b[39;49;00m\u001b[43m)\u001b[49m\u001b[43m,\u001b[49m\n\u001b[0;32m   1221\u001b[0m \u001b[43m    \u001b[49m\u001b[43mcompression\u001b[49m\u001b[38;5;241;43m=\u001b[39;49m\u001b[38;5;28;43mself\u001b[39;49m\u001b[38;5;241;43m.\u001b[39;49m\u001b[43moptions\u001b[49m\u001b[38;5;241;43m.\u001b[39;49m\u001b[43mget\u001b[49m\u001b[43m(\u001b[49m\u001b[38;5;124;43m\"\u001b[39;49m\u001b[38;5;124;43mcompression\u001b[39;49m\u001b[38;5;124;43m\"\u001b[39;49m\u001b[43m,\u001b[49m\u001b[43m \u001b[49m\u001b[38;5;28;43;01mNone\u001b[39;49;00m\u001b[43m)\u001b[49m\u001b[43m,\u001b[49m\n\u001b[0;32m   1222\u001b[0m \u001b[43m    \u001b[49m\u001b[43mmemory_map\u001b[49m\u001b[38;5;241;43m=\u001b[39;49m\u001b[38;5;28;43mself\u001b[39;49m\u001b[38;5;241;43m.\u001b[39;49m\u001b[43moptions\u001b[49m\u001b[38;5;241;43m.\u001b[39;49m\u001b[43mget\u001b[49m\u001b[43m(\u001b[49m\u001b[38;5;124;43m\"\u001b[39;49m\u001b[38;5;124;43mmemory_map\u001b[39;49m\u001b[38;5;124;43m\"\u001b[39;49m\u001b[43m,\u001b[49m\u001b[43m \u001b[49m\u001b[38;5;28;43;01mFalse\u001b[39;49;00m\u001b[43m)\u001b[49m\u001b[43m,\u001b[49m\n\u001b[0;32m   1223\u001b[0m \u001b[43m    \u001b[49m\u001b[43mis_text\u001b[49m\u001b[38;5;241;43m=\u001b[39;49m\u001b[43mis_text\u001b[49m\u001b[43m,\u001b[49m\n\u001b[0;32m   1224\u001b[0m \u001b[43m    \u001b[49m\u001b[43merrors\u001b[49m\u001b[38;5;241;43m=\u001b[39;49m\u001b[38;5;28;43mself\u001b[39;49m\u001b[38;5;241;43m.\u001b[39;49m\u001b[43moptions\u001b[49m\u001b[38;5;241;43m.\u001b[39;49m\u001b[43mget\u001b[49m\u001b[43m(\u001b[49m\u001b[38;5;124;43m\"\u001b[39;49m\u001b[38;5;124;43mencoding_errors\u001b[39;49m\u001b[38;5;124;43m\"\u001b[39;49m\u001b[43m,\u001b[49m\u001b[43m \u001b[49m\u001b[38;5;124;43m\"\u001b[39;49m\u001b[38;5;124;43mstrict\u001b[39;49m\u001b[38;5;124;43m\"\u001b[39;49m\u001b[43m)\u001b[49m\u001b[43m,\u001b[49m\n\u001b[0;32m   1225\u001b[0m \u001b[43m    \u001b[49m\u001b[43mstorage_options\u001b[49m\u001b[38;5;241;43m=\u001b[39;49m\u001b[38;5;28;43mself\u001b[39;49m\u001b[38;5;241;43m.\u001b[39;49m\u001b[43moptions\u001b[49m\u001b[38;5;241;43m.\u001b[39;49m\u001b[43mget\u001b[49m\u001b[43m(\u001b[49m\u001b[38;5;124;43m\"\u001b[39;49m\u001b[38;5;124;43mstorage_options\u001b[39;49m\u001b[38;5;124;43m\"\u001b[39;49m\u001b[43m,\u001b[49m\u001b[43m \u001b[49m\u001b[38;5;28;43;01mNone\u001b[39;49;00m\u001b[43m)\u001b[49m\u001b[43m,\u001b[49m\n\u001b[0;32m   1226\u001b[0m \u001b[43m\u001b[49m\u001b[43m)\u001b[49m\n\u001b[0;32m   1227\u001b[0m \u001b[38;5;28;01massert\u001b[39;00m \u001b[38;5;28mself\u001b[39m\u001b[38;5;241m.\u001b[39mhandles \u001b[38;5;129;01mis\u001b[39;00m \u001b[38;5;129;01mnot\u001b[39;00m \u001b[38;5;28;01mNone\u001b[39;00m\n\u001b[0;32m   1228\u001b[0m f \u001b[38;5;241m=\u001b[39m \u001b[38;5;28mself\u001b[39m\u001b[38;5;241m.\u001b[39mhandles\u001b[38;5;241m.\u001b[39mhandle\n",
      "File \u001b[1;32m~\\anaconda3\\lib\\site-packages\\pandas\\io\\common.py:789\u001b[0m, in \u001b[0;36mget_handle\u001b[1;34m(path_or_buf, mode, encoding, compression, memory_map, is_text, errors, storage_options)\u001b[0m\n\u001b[0;32m    784\u001b[0m \u001b[38;5;28;01melif\u001b[39;00m \u001b[38;5;28misinstance\u001b[39m(handle, \u001b[38;5;28mstr\u001b[39m):\n\u001b[0;32m    785\u001b[0m     \u001b[38;5;66;03m# Check whether the filename is to be opened in binary mode.\u001b[39;00m\n\u001b[0;32m    786\u001b[0m     \u001b[38;5;66;03m# Binary mode does not support 'encoding' and 'newline'.\u001b[39;00m\n\u001b[0;32m    787\u001b[0m     \u001b[38;5;28;01mif\u001b[39;00m ioargs\u001b[38;5;241m.\u001b[39mencoding \u001b[38;5;129;01mand\u001b[39;00m \u001b[38;5;124m\"\u001b[39m\u001b[38;5;124mb\u001b[39m\u001b[38;5;124m\"\u001b[39m \u001b[38;5;129;01mnot\u001b[39;00m \u001b[38;5;129;01min\u001b[39;00m ioargs\u001b[38;5;241m.\u001b[39mmode:\n\u001b[0;32m    788\u001b[0m         \u001b[38;5;66;03m# Encoding\u001b[39;00m\n\u001b[1;32m--> 789\u001b[0m         handle \u001b[38;5;241m=\u001b[39m \u001b[38;5;28;43mopen\u001b[39;49m\u001b[43m(\u001b[49m\n\u001b[0;32m    790\u001b[0m \u001b[43m            \u001b[49m\u001b[43mhandle\u001b[49m\u001b[43m,\u001b[49m\n\u001b[0;32m    791\u001b[0m \u001b[43m            \u001b[49m\u001b[43mioargs\u001b[49m\u001b[38;5;241;43m.\u001b[39;49m\u001b[43mmode\u001b[49m\u001b[43m,\u001b[49m\n\u001b[0;32m    792\u001b[0m \u001b[43m            \u001b[49m\u001b[43mencoding\u001b[49m\u001b[38;5;241;43m=\u001b[39;49m\u001b[43mioargs\u001b[49m\u001b[38;5;241;43m.\u001b[39;49m\u001b[43mencoding\u001b[49m\u001b[43m,\u001b[49m\n\u001b[0;32m    793\u001b[0m \u001b[43m            \u001b[49m\u001b[43merrors\u001b[49m\u001b[38;5;241;43m=\u001b[39;49m\u001b[43merrors\u001b[49m\u001b[43m,\u001b[49m\n\u001b[0;32m    794\u001b[0m \u001b[43m            \u001b[49m\u001b[43mnewline\u001b[49m\u001b[38;5;241;43m=\u001b[39;49m\u001b[38;5;124;43m\"\u001b[39;49m\u001b[38;5;124;43m\"\u001b[39;49m\u001b[43m,\u001b[49m\n\u001b[0;32m    795\u001b[0m \u001b[43m        \u001b[49m\u001b[43m)\u001b[49m\n\u001b[0;32m    796\u001b[0m     \u001b[38;5;28;01melse\u001b[39;00m:\n\u001b[0;32m    797\u001b[0m         \u001b[38;5;66;03m# Binary mode\u001b[39;00m\n\u001b[0;32m    798\u001b[0m         handle \u001b[38;5;241m=\u001b[39m \u001b[38;5;28mopen\u001b[39m(handle, ioargs\u001b[38;5;241m.\u001b[39mmode)\n",
      "\u001b[1;31mFileNotFoundError\u001b[0m: [Errno 2] No such file or directory: 'heart.csv'"
     ]
    }
   ],
   "source": [
    "heart = pd.read_csv('heart.csv')"
   ]
  },
  {
   "cell_type": "code",
   "execution_count": null,
   "id": "0acc5a79-5324-4ce8-b94b-617ca5e9e073",
   "metadata": {
    "tags": []
   },
   "outputs": [],
   "source": [
    "heart"
   ]
  },
  {
   "cell_type": "code",
   "execution_count": null,
   "id": "a7f6992f-084d-485b-aa54-8a7fbecdbfde",
   "metadata": {},
   "outputs": [],
   "source": [
    "heart['sex'].value_counts() #남자: 1, 여자: 0 (남자가 여자보다 많다.)"
   ]
  },
  {
   "cell_type": "code",
   "execution_count": null,
   "id": "db05007d-fc7a-42bc-8145-536fdcb7a4d0",
   "metadata": {},
   "outputs": [],
   "source": [
    "heart['target'].value_counts()"
   ]
  },
  {
   "cell_type": "code",
   "execution_count": null,
   "id": "5e2da3f4-b02f-4076-a467-b6c39c6d3f48",
   "metadata": {},
   "outputs": [],
   "source": [
    "heart.info()"
   ]
  },
  {
   "cell_type": "code",
   "execution_count": null,
   "id": "21a05d91-9258-4f66-9eae-8797f3447149",
   "metadata": {
    "tags": []
   },
   "outputs": [],
   "source": [
    "heart.describe()"
   ]
  },
  {
   "cell_type": "code",
   "execution_count": null,
   "id": "6f1416a6-5906-4a12-9afa-f146dad0214d",
   "metadata": {},
   "outputs": [],
   "source": [
    "heart.isnull().sum()"
   ]
  },
  {
   "cell_type": "code",
   "execution_count": null,
   "id": "11c635d4-d733-44ea-8e4d-a84639549360",
   "metadata": {},
   "outputs": [],
   "source": [
    "heart['target']"
   ]
  },
  {
   "cell_type": "code",
   "execution_count": null,
   "id": "614a6d1c-beac-443b-ad9a-9df7627e6404",
   "metadata": {},
   "outputs": [],
   "source": [
    "heart['target'].unique()"
   ]
  },
  {
   "cell_type": "code",
   "execution_count": null,
   "id": "e692e1eb-2f19-4633-890a-a699d8df0493",
   "metadata": {},
   "outputs": [],
   "source": [
    "obj_col = ['target']"
   ]
  },
  {
   "cell_type": "code",
   "execution_count": null,
   "id": "77c72c70-7959-44d5-8eb7-a94630ee9172",
   "metadata": {},
   "outputs": [],
   "source": [
    "for col in obj_col :\n",
    "    print(col, heart[col].unique())"
   ]
  },
  {
   "cell_type": "code",
   "execution_count": null,
   "id": "7d2133f7-acd1-4623-8f94-8f20ce530000",
   "metadata": {},
   "outputs": [],
   "source": [
    "for col in obj_col :\n",
    "    print(col, '\\n', heart[col].value_counts())"
   ]
  },
  {
   "cell_type": "code",
   "execution_count": null,
   "id": "d3776078-24e9-4474-81c0-ed6348e223ec",
   "metadata": {},
   "outputs": [],
   "source": [
    "from sklearn.model_selection import train_test_split\n",
    "from sklearn.metrics import mean_absolute_error"
   ]
  },
  {
   "cell_type": "code",
   "execution_count": null,
   "id": "f4b69e1a-59b7-4ffb-ad68-6f90084d43dc",
   "metadata": {},
   "outputs": [],
   "source": [
    "x = heart.drop('target', axis = 1)"
   ]
  },
  {
   "cell_type": "code",
   "execution_count": null,
   "id": "342a22b7-2993-4b1c-92b5-d98b2ba66c4e",
   "metadata": {},
   "outputs": [],
   "source": [
    "y = heart['target']"
   ]
  },
  {
   "cell_type": "code",
   "execution_count": null,
   "id": "f3559f4b-d8c3-4a7e-a96c-2612df7470cd",
   "metadata": {},
   "outputs": [],
   "source": [
    "x_train, x_test, y_train, y_test = train_test_split(x, y, test_size = 0.2, stratify = y, random_state = 0) # stratify =  -> 기준점"
   ]
  },
  {
   "cell_type": "code",
   "execution_count": null,
   "id": "1dddafe4-632c-4c47-b42e-cd5107bbcd3f",
   "metadata": {},
   "outputs": [],
   "source": [
    "print(x_train.shape, y_train.shape) #학습시킬 문제, 학습시킬 문제에 대한 정답\n",
    "print(x_test.shape, y_test.shape) #시험문제, 시험문제에 대한 정답"
   ]
  },
  {
   "cell_type": "code",
   "execution_count": null,
   "id": "5d56d2c0-085e-4187-9518-83951c0bc8ed",
   "metadata": {},
   "outputs": [],
   "source": [
    "model = LogisticRegression() #모델 선언"
   ]
  },
  {
   "cell_type": "code",
   "execution_count": null,
   "id": "78aaf8f6-49ea-486e-b0c2-bfe2412cc15f",
   "metadata": {},
   "outputs": [],
   "source": [
    "# train"
   ]
  },
  {
   "cell_type": "code",
   "execution_count": null,
   "id": "e7ff4ca5-b6da-40ac-a767-e390c46a09d0",
   "metadata": {
    "tags": []
   },
   "outputs": [],
   "source": [
    "model.fit(x_train, y_train) # 공부(학습)시킬 때 필요한 함수"
   ]
  },
  {
   "cell_type": "code",
   "execution_count": null,
   "id": "230e89d8-76da-4530-8e6e-c23527c7050a",
   "metadata": {},
   "outputs": [],
   "source": [
    "pre_train = model.predict(x_train) #트레인에 대한 예측값, pre_train"
   ]
  },
  {
   "cell_type": "code",
   "execution_count": null,
   "id": "0ab00f07-c986-4404-8859-ca74fdced159",
   "metadata": {},
   "outputs": [],
   "source": [
    "mean_absolute_error(pre_train, y_train)"
   ]
  },
  {
   "cell_type": "code",
   "execution_count": null,
   "id": "f7260c1a-fb05-45c5-93b5-d7a43091280d",
   "metadata": {},
   "outputs": [],
   "source": [
    "model.score(x_train, y_train)"
   ]
  },
  {
   "cell_type": "code",
   "execution_count": null,
   "id": "75a2a835-669e-4e8d-b86e-d76e93dc15ef",
   "metadata": {},
   "outputs": [],
   "source": [
    "# test"
   ]
  },
  {
   "cell_type": "code",
   "execution_count": null,
   "id": "83238d3a-4fdf-4a07-aff9-c2526fc442a5",
   "metadata": {},
   "outputs": [],
   "source": [
    "pre_test = model.predict(x_test) #트레인에 대한 예측값, pre_train"
   ]
  },
  {
   "cell_type": "code",
   "execution_count": null,
   "id": "c57dd758-eeeb-4b70-b1ba-2a2e0833aa3a",
   "metadata": {},
   "outputs": [],
   "source": [
    "mean_absolute_error(pre_test, y_test)"
   ]
  },
  {
   "cell_type": "code",
   "execution_count": null,
   "id": "4d13acba-587a-4481-a2bf-e548d730480f",
   "metadata": {},
   "outputs": [],
   "source": [
    "model.score(x_test, y_test)"
   ]
  },
  {
   "cell_type": "markdown",
   "id": "7b64246b-d007-4c1c-b1dd-f1a7278dfd48",
   "metadata": {},
   "source": [
    "----------------------"
   ]
  },
  {
   "cell_type": "code",
   "execution_count": null,
   "id": "c9d381f4-dc2d-4452-9b8e-69806e9195f0",
   "metadata": {},
   "outputs": [],
   "source": [
    "# scaler 적용 했을 때"
   ]
  },
  {
   "cell_type": "code",
   "execution_count": null,
   "id": "dbc98d33-78bc-41f2-bd78-bea1a24f32bd",
   "metadata": {},
   "outputs": [],
   "source": [
    "import pandas as pd\n",
    "from sklearn.linear_model import LogisticRegression #Classification의 한 종류\n",
    "from sklearn.model_selection import train_test_split\n",
    "\n"
   ]
  },
  {
   "cell_type": "code",
   "execution_count": null,
   "id": "a7575cfc-4dca-4536-be99-37ee98f4f963",
   "metadata": {},
   "outputs": [],
   "source": [
    "heart = pd.read_csv('heart.csv')"
   ]
  },
  {
   "cell_type": "code",
   "execution_count": null,
   "id": "d0ab9374-2f9c-4711-ab94-c7950797fd06",
   "metadata": {},
   "outputs": [],
   "source": [
    "heart"
   ]
  },
  {
   "cell_type": "code",
   "execution_count": null,
   "id": "134c61b4-e1a4-4cc7-a7ab-9ccb0dde33b7",
   "metadata": {
    "tags": []
   },
   "outputs": [],
   "source": [
    "for a in heart.drop('target', axis=1).columns :\n",
    "    print(a)\n",
    "    print(heart[a].mean())\n",
    "    print(heart[a].median())\n",
    "    print('---------------')"
   ]
  },
  {
   "cell_type": "code",
   "execution_count": null,
   "id": "4a166ee4-7d49-4a56-9a00-e751310100e6",
   "metadata": {},
   "outputs": [],
   "source": [
    "x = heart.drop('target', axis = 1)"
   ]
  },
  {
   "cell_type": "code",
   "execution_count": null,
   "id": "2b4e63fc-a4d1-47fa-bb23-62b99f75b5ef",
   "metadata": {},
   "outputs": [],
   "source": [
    "y = heart['target']"
   ]
  },
  {
   "cell_type": "code",
   "execution_count": null,
   "id": "a5682d3d-afd1-4fe8-ad77-e926c4ca955f",
   "metadata": {},
   "outputs": [],
   "source": [
    "x_train, x_test, y_train, y_test = train_test_split(x, y, test_size = 0.2, random_state = 0) # stratify =  -> 기준점"
   ]
  },
  {
   "cell_type": "code",
   "execution_count": null,
   "id": "fbc9f76b-6501-46b0-8830-f93b5ad0fd63",
   "metadata": {},
   "outputs": [],
   "source": [
    "print(x_train.shape, y_train.shape) #학습시킬 문제, 학습시킬 문제에 대한 정답\n",
    "print(x_test.shape, y_test.shape) #시험문제, 시험문제에 대한 정답"
   ]
  },
  {
   "cell_type": "code",
   "execution_count": null,
   "id": "6bdbf4cf-6e0e-48f4-bdee-d3b54fefca40",
   "metadata": {},
   "outputs": [],
   "source": [
    "from sklearn.preprocessing import StandardScaler"
   ]
  },
  {
   "cell_type": "code",
   "execution_count": null,
   "id": "1eb90c35-a73b-4b5a-ac28-e40dde8696e5",
   "metadata": {},
   "outputs": [],
   "source": [
    "scaler1 = StandardScaler() # 평균과 표준편차 "
   ]
  },
  {
   "cell_type": "code",
   "execution_count": null,
   "id": "ce9cf476-16da-4d4a-b6d5-236c7859171a",
   "metadata": {},
   "outputs": [],
   "source": [
    "x_train = scaler1.fit_transform(x_train)\n",
    "x_test= scaler1.transform(x_test)\n",
    "# x_test = scaler.transform(x_test)"
   ]
  },
  {
   "cell_type": "code",
   "execution_count": null,
   "id": "a51b0855-04a0-4b24-8dd2-ec93394a9ef1",
   "metadata": {},
   "outputs": [],
   "source": [
    "x_train"
   ]
  },
  {
   "cell_type": "code",
   "execution_count": null,
   "id": "f7c92cdf-0c81-4703-aa50-08361ee6dd4d",
   "metadata": {},
   "outputs": [],
   "source": [
    "model2 = LogisticRegression() #모델 선언"
   ]
  },
  {
   "cell_type": "code",
   "execution_count": null,
   "id": "614c31b0-571c-48de-8607-4fd6ac51be87",
   "metadata": {},
   "outputs": [],
   "source": [
    "# train"
   ]
  },
  {
   "cell_type": "code",
   "execution_count": null,
   "id": "b7917f0f-c8d5-43aa-a860-9c4fa20921bb",
   "metadata": {
    "tags": []
   },
   "outputs": [],
   "source": [
    "model2.fit(x_train, y_train) # 공부(학습)시킬 때 필요한 함수"
   ]
  },
  {
   "cell_type": "code",
   "execution_count": null,
   "id": "26070fda-741e-4c92-baac-23e809df3bbf",
   "metadata": {},
   "outputs": [],
   "source": [
    "model2.predict(x_train)"
   ]
  },
  {
   "cell_type": "code",
   "execution_count": null,
   "id": "5a7398c6-cb69-4b9f-a91f-9d9ca00b29a7",
   "metadata": {},
   "outputs": [],
   "source": [
    "print(x_train.shape, y_train.shape)"
   ]
  },
  {
   "cell_type": "code",
   "execution_count": null,
   "id": "a7465bd4-8781-4b53-b925-3e6d22ced72c",
   "metadata": {},
   "outputs": [],
   "source": [
    "model2.score(x_train, y_train)"
   ]
  },
  {
   "cell_type": "code",
   "execution_count": null,
   "id": "f30e2c78-2efc-48d2-814e-4475b960fb54",
   "metadata": {},
   "outputs": [],
   "source": [
    "model2.score(x_test, y_test)"
   ]
  },
  {
   "cell_type": "code",
   "execution_count": null,
   "id": "0f65a398-8371-4c31-8371-0386f0ca7d26",
   "metadata": {},
   "outputs": [],
   "source": [
    "real = x.iloc[0].values"
   ]
  },
  {
   "cell_type": "code",
   "execution_count": null,
   "id": "733b2319-6e7c-4984-a46e-1a298d9ac98a",
   "metadata": {},
   "outputs": [],
   "source": [
    "real"
   ]
  },
  {
   "cell_type": "code",
   "execution_count": null,
   "id": "e0fc578a-7ca6-4996-aa55-00c0045e3e1a",
   "metadata": {},
   "outputs": [],
   "source": [
    "real = x.iloc[0].values.reshape(1, -1)"
   ]
  },
  {
   "cell_type": "code",
   "execution_count": null,
   "id": "74b538c3-9a16-4956-9bac-cee6934a9a07",
   "metadata": {},
   "outputs": [],
   "source": [
    "real = scaler1.transform(real)"
   ]
  },
  {
   "cell_type": "code",
   "execution_count": null,
   "id": "80b4baac-fe89-43c7-8f67-582e77105076",
   "metadata": {},
   "outputs": [],
   "source": [
    "model2.predict(real)"
   ]
  },
  {
   "cell_type": "code",
   "execution_count": null,
   "id": "f2a30980-ef6d-4f7f-8285-43d9df873cc0",
   "metadata": {},
   "outputs": [],
   "source": [
    "predict1 = model2.predict(real)[0]"
   ]
  },
  {
   "cell_type": "code",
   "execution_count": null,
   "id": "41898101-7552-41d9-8036-5a829c28a1ca",
   "metadata": {
    "tags": []
   },
   "outputs": [],
   "source": [
    "print(predict1)"
   ]
  },
  {
   "cell_type": "code",
   "execution_count": null,
   "id": "9a0494a4-0183-44a5-a425-de889400eadd",
   "metadata": {},
   "outputs": [],
   "source": []
  },
  {
   "cell_type": "code",
   "execution_count": null,
   "id": "ba8f31f5-a95c-4462-bd8c-9cfe231ae0b7",
   "metadata": {},
   "outputs": [],
   "source": [
    "import pickle"
   ]
  },
  {
   "cell_type": "code",
   "execution_count": null,
   "id": "8007f635-8b81-4874-968a-a3ef7ca0c460",
   "metadata": {},
   "outputs": [],
   "source": [
    "with open('scaler1.pkl', 'wb') as f :\n",
    "    pickle.dump(scaler1, f)"
   ]
  },
  {
   "cell_type": "code",
   "execution_count": null,
   "id": "edeb24e8-25fc-4f49-bd61-efac6f1351dd",
   "metadata": {},
   "outputs": [],
   "source": [
    "with open('model2.pkl', 'wb') as f :\n",
    "    pickle.dump(model2, f)"
   ]
  },
  {
   "cell_type": "markdown",
   "id": "cb929ddf-5640-4b0b-a9d2-ab895772f16f",
   "metadata": {},
   "source": [
    "----"
   ]
  },
  {
   "cell_type": "code",
   "execution_count": null,
   "id": "b00825e1-e94c-46f3-96ff-7941c9cce9b8",
   "metadata": {},
   "outputs": [],
   "source": [
    "#PolynomialFeatures 모델을 적용했을 때"
   ]
  },
  {
   "cell_type": "code",
   "execution_count": null,
   "id": "712bc364-f6b8-453f-8b64-e07988197de0",
   "metadata": {},
   "outputs": [],
   "source": [
    "import pandas as pd\n",
    "import numpy as np\n",
    "from sklearn.preprocessing import PolynomialFeatures #Classification의 한 종류\n",
    "from sklearn.model_selection import train_test_split\n",
    "\n"
   ]
  },
  {
   "cell_type": "code",
   "execution_count": null,
   "id": "379c2544-00d0-4991-82c0-70f128007636",
   "metadata": {},
   "outputs": [],
   "source": [
    "x = data.drop('target', axis = 1)\n",
    "y = data['target']"
   ]
  },
  {
   "cell_type": "code",
   "execution_count": null,
   "id": "249cc6f1-a6a9-45aa-808e-bc8d54351114",
   "metadata": {},
   "outputs": [],
   "source": [
    "from sklearn.preprocessing import PolynomialFeatures"
   ]
  },
  {
   "cell_type": "code",
   "execution_count": null,
   "id": "69c3802c-5347-4e36-8200-fddedf94701d",
   "metadata": {},
   "outputs": [],
   "source": [
    "pol = PolynomialFeatures(degree=2)"
   ]
  },
  {
   "cell_type": "code",
   "execution_count": null,
   "id": "15ec8d2d-9dcb-47aa-855e-c3cc5b8bf2e9",
   "metadata": {},
   "outputs": [],
   "source": [
    "x = pol.fit_transform(x)"
   ]
  },
  {
   "cell_type": "code",
   "execution_count": null,
   "id": "f99a69a8-f368-4f3c-a552-b854a920f536",
   "metadata": {},
   "outputs": [],
   "source": [
    "x_train, x_test, y_train, y_test = train_test_split(x, y, test_size = 0.2, random_state = 0) # stratify =  -> 기준점"
   ]
  },
  {
   "cell_type": "code",
   "execution_count": null,
   "id": "93befa69-2970-4179-b4b8-586b51e81275",
   "metadata": {},
   "outputs": [],
   "source": [
    "model4 = PolynomialFeatures()"
   ]
  },
  {
   "cell_type": "code",
   "execution_count": null,
   "id": "9d364348-8cd9-4c9f-bf9d-6283f04b6fb4",
   "metadata": {},
   "outputs": [],
   "source": [
    "model4.score(x_train, y_train)"
   ]
  },
  {
   "cell_type": "code",
   "execution_count": null,
   "id": "5f4cf75f-ef48-46bb-bb3c-4de13a531fef",
   "metadata": {},
   "outputs": [],
   "source": [
    "model4.score(x_test, y_test)"
   ]
  },
  {
   "cell_type": "code",
   "execution_count": null,
   "id": "db236188-0124-48d7-8379-c8eced8c0b5b",
   "metadata": {},
   "outputs": [],
   "source": [
    "import numpy as np"
   ]
  },
  {
   "cell_type": "code",
   "execution_count": null,
   "id": "cdff5e07-643a-4203-8268-3647a8166bb3",
   "metadata": {},
   "outputs": [],
   "source": [
    "real = np.asarray(real).reshape(1, -1) # ???"
   ]
  },
  {
   "cell_type": "code",
   "execution_count": null,
   "id": "25f3eba1-0018-4643-8758-5559d41d566f",
   "metadata": {},
   "outputs": [],
   "source": [
    "real = pol.transform(real)"
   ]
  },
  {
   "cell_type": "code",
   "execution_count": null,
   "id": "c1d1f3ee-15df-47b6-9eee-f594786dc655",
   "metadata": {},
   "outputs": [],
   "source": [
    "model.predict(real)"
   ]
  },
  {
   "cell_type": "code",
   "execution_count": null,
   "id": "9bd0e8b1-e825-4ea9-908d-a5dde46d0d97",
   "metadata": {},
   "outputs": [],
   "source": []
  },
  {
   "cell_type": "code",
   "execution_count": null,
   "id": "0c0d0f82-a4fe-41a8-b4fa-f467d105587c",
   "metadata": {},
   "outputs": [],
   "source": []
  },
  {
   "cell_type": "markdown",
   "id": "59120c00-0d31-4622-84e0-7f85ae4cf1e8",
   "metadata": {},
   "source": [
    "---"
   ]
  },
  {
   "cell_type": "code",
   "execution_count": null,
   "id": "25d122c5-f5aa-49bc-8514-21a5d919fc45",
   "metadata": {},
   "outputs": [],
   "source": [
    "(w1x1+w2x2+w3x3+w4x4+w5x5) + b #행렬의 곱 (선형대수학에서의 매트릭스 개념)"
   ]
  },
  {
   "cell_type": "code",
   "execution_count": null,
   "id": "8991b8ec-57f4-4261-a491-638ed581773b",
   "metadata": {},
   "outputs": [],
   "source": [
    "2X2 2X3 -> 2X3 (numpy가 행렬의 곱을 잘 계산한다.)"
   ]
  },
  {
   "cell_type": "code",
   "execution_count": null,
   "id": "0c9e2447-d0d6-4cd9-be25-32908c53fbb8",
   "metadata": {},
   "outputs": [],
   "source": [
    "x.columns"
   ]
  },
  {
   "cell_type": "code",
   "execution_count": null,
   "id": "98ce41d6-7b96-400e-85ca-0961fb17ff15",
   "metadata": {
    "tags": []
   },
   "outputs": [],
   "source": [
    "model.coef_ # W값"
   ]
  },
  {
   "cell_type": "code",
   "execution_count": null,
   "id": "b574ae82-0030-4dc7-8e41-0e2cbadad644",
   "metadata": {},
   "outputs": [],
   "source": [
    "model.intercept_"
   ]
  },
  {
   "cell_type": "code",
   "execution_count": null,
   "id": "33d68e3b-4c16-46cb-b3e6-7eea2bcc108f",
   "metadata": {},
   "outputs": [],
   "source": [
    "model.score(x_train, y_train)"
   ]
  },
  {
   "cell_type": "markdown",
   "id": "988f45f5-a3fb-4508-97ce-609db6d568e9",
   "metadata": {},
   "source": [
    "----"
   ]
  }
 ],
 "metadata": {
  "kernelspec": {
   "display_name": "Python 3 (ipykernel)",
   "language": "python",
   "name": "python3"
  },
  "language_info": {
   "codemirror_mode": {
    "name": "ipython",
    "version": 3
   },
   "file_extension": ".py",
   "mimetype": "text/x-python",
   "name": "python",
   "nbconvert_exporter": "python",
   "pygments_lexer": "ipython3",
   "version": "3.9.12"
  }
 },
 "nbformat": 4,
 "nbformat_minor": 5
}
