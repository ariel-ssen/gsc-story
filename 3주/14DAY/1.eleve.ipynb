{
 "cells": [
  {
   "cell_type": "code",
   "execution_count": null,
   "id": "17afc7f0-6633-4bf4-bef3-2b504d163d5e",
   "metadata": {},
   "outputs": [],
   "source": [
    "# 주소 1 주소 2 건물명 승강기벙호 승강기상태 최종검사일 적재하중 제조업체 전화번호 "
   ]
  },
  {
   "cell_type": "code",
   "execution_count": null,
   "id": "bc5d28f8-06e9-452e-8957-d702c55ec6e0",
   "metadata": {},
   "outputs": [],
   "source": [
    "import requests\n",
    "from bs4 import BeautifulSoup\n",
    "import pandas as pd\n",
    "import numpy as np\n",
    "from tqdm import tqdm"
   ]
  },
  {
   "cell_type": "markdown",
   "id": "0a5a68c4-c600-4322-b9ee-aadadd41345f",
   "metadata": {},
   "source": [
    "-"
   ]
  },
  {
   "cell_type": "code",
   "execution_count": null,
   "id": "f2cd033e-c1aa-47ee-a6ee-fd6f68b906d1",
   "metadata": {},
   "outputs": [],
   "source": [
    "url = 'http://apis.data.go.kr/openapi/service/ElevatorInformationService/getElevatorList?serviceKey=0kYXnKBN3P1BPz%2BPbMj53%2BXf9Lasd9mZvYohzWDq%2B10Tagyqazw0pf62r0VMYgKLZZednlK4k5uPA6V49OvEcw%3D%3D&numOfRows=10&pageNo=1&sido=%EC%84%9C%EC%9A%B8%ED%8A%B9%EB%B3%84%EC%8B%9C&sigungu=%EC%9D%80%ED%8F%89%EA%B5%AC'\n",
    "req = requests.get(url)"
   ]
  },
  {
   "cell_type": "code",
   "execution_count": null,
   "id": "b2e80b06-a8b2-4d90-8e03-b9a8269c62a2",
   "metadata": {},
   "outputs": [],
   "source": [
    "col_names = []\n",
    "data = [] \n",
    "\n",
    "for i in tqdm(range(1,3)) :\n",
    "    url = 'http://apis.data.go.kr/openapi/service/ElevatorInformationService/getElevatorList'\n",
    "    serviceKey = '0kYXnKBN3P1BPz%2BPbMj53%2BXf9Lasd9mZvYohzWDq%2B10Tagyqazw0pf62r0VMYgKLZZednlK4k5uPA6V49OvEcw%3D%3D'\n",
    "    numOfRows = '100'\n",
    "    pageNo =  str(i)\n",
    "    sido = '%EC%84%9C%EC%9A%B8%ED%8A%B9%EB%B3%84%EC%8B%9C'\n",
    "    sigungu = '%EC%9D%80%ED%8F%89%EA%B5%AC'\n",
    "    \n",
    "    api_url = url + '?' + 'serviceKey=' + serviceKey + '&numOfRows=' + numOfRows + '&pageNo=' + pageNo + '&sido=' + sido + '&sigungu=' + sigungu\n",
    "    \n",
    "    req = requests.get(api_url)\n",
    "    soup = BeautifulSoup(req.text, 'xml')\n",
    "    \n",
    "    if not col_names :\n",
    "        for item in soup.items()[0] :\n",
    "            col_names.append(item.name)\n",
    "   \n",
    "    for item in soup.items :\n",
    "        temp = []\n",
    "        for t in item :\n",
    "            temp.append(t.text.strip())\n",
    "        data.append(temp)"
   ]
  },
  {
   "cell_type": "code",
   "execution_count": null,
   "id": "0fa31ce2-f7a0-4a9e-9284-8936b8d20f3a",
   "metadata": {},
   "outputs": [],
   "source": [
    "df = pd.DataFrame(data,columns=col_names)"
   ]
  },
  {
   "cell_type": "code",
   "execution_count": null,
   "id": "eb2d3384-f391-4128-b538-4227db1e9478",
   "metadata": {},
   "outputs": [],
   "source": [
    "df.shape"
   ]
  },
  {
   "cell_type": "code",
   "execution_count": null,
   "id": "b43363b4-71e1-4269-ad15-d236e404f728",
   "metadata": {},
   "outputs": [],
   "source": [
    "df = df.replace('',np.nan)"
   ]
  },
  {
   "cell_type": "code",
   "execution_count": null,
   "id": "351e5124-c6d8-4e0c-b1cf-f3b69aedca0f",
   "metadata": {
    "tags": []
   },
   "outputs": [],
   "source": [
    "df.isnull().sum() "
   ]
  },
  {
   "cell_type": "code",
   "execution_count": null,
   "id": "1c90ec1d-a739-4e68-953c-6c47fa29c243",
   "metadata": {},
   "outputs": [],
   "source": [
    "df.drop(['applcBeDt', 'applcEnDt', 'areaNo','buldMgtNo1', 'buldMgtNo2',\\\n",
    "         'buldPrpos', 'divGroundFloorCnt','divUndgrndFloorCnt',\\\n",
    "         'elvtrAsignNo', 'elvtrDivNm','elvtrFormNm', 'elvtrKindNm',\\\n",
    "         'elvtrMgtNo1', 'elvtrMgtNo2','elvtrModel', 'elvtrResmptDe',\\\n",
    "         'frstInstallationDe','inspctInstt', 'installationDe', 'installationPlace',\\\n",
    "         'lastInspctKind', 'lastResultNm', 'mnfcturCpnyCd', 'mntCpnyCd', 'mntCpnyNm',\\\n",
    "         'mntCpnyTelno', 'mrYn', 'partcpntNm', 'partcpntTelno', 'pauseAblDe',\\\n",
    "         'pauseAbleResn', 'ratedCap', 'ratedSpeed', 'shuttleFloorCnt',\\\n",
    "         'shuttleMngrNm', 'shuttleMngrTelno', 'shuttleSection', 'sigunguCd',\\\n",
    "         'standardKey', 'subcntrCpny', 'zipCd1', 'zipCd2'], axis=1,inplace=True)"
   ]
  },
  {
   "cell_type": "code",
   "execution_count": null,
   "id": "c6afa979-592f-4cca-87b1-191a2833e5af",
   "metadata": {},
   "outputs": [],
   "source": [
    "df.columns"
   ]
  },
  {
   "cell_type": "code",
   "execution_count": null,
   "id": "67fa52b9-acbf-48ae-9547-e444e742e145",
   "metadata": {},
   "outputs": [],
   "source": [
    "#  manufacturerTelno            999999900 : 이상한 값이 들어 갔으므로 잘못된 코드임\n",
    "df.iloc[9]"
   ]
  },
  {
   "cell_type": "markdown",
   "id": "7729d6b4-3a99-4409-b9c8-bec29b584e02",
   "metadata": {},
   "source": [
    "----"
   ]
  },
  {
   "cell_type": "code",
   "execution_count": 1,
   "id": "c16dfaa2-25de-438e-9a4a-a78399e9d59e",
   "metadata": {},
   "outputs": [],
   "source": [
    "import requests\n",
    "from bs4 import BeautifulSoup\n",
    "import pandas as pd\n",
    "import numpy as np\n",
    "from tqdm import tqdm"
   ]
  },
  {
   "cell_type": "code",
   "execution_count": null,
   "id": "b27df48d-e89b-4d1f-b2f3-f69692ba3586",
   "metadata": {},
   "outputs": [],
   "source": [
    "# 강사님 풀이 "
   ]
  },
  {
   "cell_type": "code",
   "execution_count": null,
   "id": "170ec404-e09b-462c-9268-84bc3e6356a2",
   "metadata": {},
   "outputs": [],
   "source": [
    "url = 'http://apis.data.go.kr/openapi/service/ElevatorInformationService/getElevatorList'\n",
    "serviceKey = '0kYXnKBN3P1BPz+PbMj53+Xf9Lasd9mZvYohzWDq+10Tagyqazw0pf62r0VMYgKLZZednlK4k5uPA6V49OvEcw=='\n",
    "numOfRows = '20'\n",
    "pageNo =  '1'\n",
    "sido = '서울특별시'\n",
    "sigungu = '은평구'"
   ]
  },
  {
   "cell_type": "code",
   "execution_count": null,
   "id": "cb3e0dab-d788-4a22-b370-09a6464f7f25",
   "metadata": {},
   "outputs": [],
   "source": [
    "params = {'serviceKey' : serviceKey, 'numOfRows' : numOfRows, 'pageNo' : pageNo, 'sido':sido, 'sigungu':sigungu }"
   ]
  },
  {
   "cell_type": "code",
   "execution_count": null,
   "id": "b6190873-e0f7-4b73-8797-58e3a91ec99a",
   "metadata": {},
   "outputs": [],
   "source": [
    "#verify=False 검증 하지 말라 ssl무슨 에러 뜬다 하면 사용\n",
    "req = requests.get(url, params=params,verify=False)"
   ]
  },
  {
   "cell_type": "code",
   "execution_count": null,
   "id": "c4bad86d-b5cd-427e-bc94-14a3a19d6228",
   "metadata": {
    "tags": []
   },
   "outputs": [],
   "source": [
    "req # 200 이라고 뜨면 정상 응답 처리(데이터는 안들어 있을수 있으니 확인필요) /\n",
    "    #200아닌 따른게 들어있다면 오류 "
   ]
  },
  {
   "cell_type": "code",
   "execution_count": null,
   "id": "4da0cc10-bbbf-4f9b-b5f1-f00d9ae563a1",
   "metadata": {},
   "outputs": [],
   "source": [
    "soup = BeautifulSoup(req.text,'lxml')"
   ]
  },
  {
   "cell_type": "code",
   "execution_count": null,
   "id": "f4505fc5-a533-4c33-8918-0df74a94a983",
   "metadata": {},
   "outputs": [],
   "source": [
    "col_list = ['address1', 'address2', 'buldNm', 'elevatorNo', 'elvtrStts','lastInspctDe', 'liveLoad', 'manufacturerName', 'manufacturerTelno']"
   ]
  },
  {
   "cell_type": "code",
   "execution_count": null,
   "id": "a1c271ea-7895-4d32-9175-c8585f08a458",
   "metadata": {},
   "outputs": [],
   "source": [
    "# 어떻게 코드를 작성했는지 이해해보기\n",
    "data = []\n",
    "for col in col_list :\n",
    "    temp = []\n",
    "    for d in soup.select(col) :\n",
    "        temp.append(d.text)\n",
    "    data.append(temp)"
   ]
  },
  {
   "cell_type": "code",
   "execution_count": null,
   "id": "86a3f5f9-69e0-48fb-958a-a817680982a2",
   "metadata": {},
   "outputs": [],
   "source": [
    "df = pd.DataFrame(data).T"
   ]
  },
  {
   "cell_type": "code",
   "execution_count": null,
   "id": "caeb56d3-8d2a-4b99-a8db-c355e5c5440d",
   "metadata": {},
   "outputs": [],
   "source": [
    "df.columns = col_list"
   ]
  },
  {
   "cell_type": "code",
   "execution_count": null,
   "id": "591e0eac-85fe-43c3-b172-d24edf1c41c6",
   "metadata": {
    "tags": []
   },
   "outputs": [],
   "source": [
    "df"
   ]
  },
  {
   "cell_type": "code",
   "execution_count": null,
   "id": "780e4129-8a25-4bec-bf50-aa92307a3cc4",
   "metadata": {},
   "outputs": [],
   "source": [
    "# 마지막 19 열 manufacturerTelno none 이라고 뜸 / 번호가 있는데 없다고 뜸 \n",
    "for col in col_list :\n",
    "    print(col, len(soup.select(col)))"
   ]
  },
  {
   "cell_type": "code",
   "execution_count": null,
   "id": "a79f1a3c-951a-456e-8a4b-9364165bd691",
   "metadata": {},
   "outputs": [],
   "source": [
    "# 위에꺼는 망한 코드임  fail-!!!!!"
   ]
  },
  {
   "cell_type": "markdown",
   "id": "44060150-6923-48a8-9f36-5081f4c2099e",
   "metadata": {},
   "source": [
    "----"
   ]
  },
  {
   "cell_type": "code",
   "execution_count": null,
   "id": "885f36ce-041f-46f3-b9b8-17e103a77f6c",
   "metadata": {
    "tags": []
   },
   "outputs": [],
   "source": [
    "# 이것도 망한 코드임 !\n",
    "data = []\n",
    "for item in soup.items :\n",
    "    temp = []\n",
    "    for v in item :\n",
    "        temp.append(v.text)\n",
    "    data.append(temp)"
   ]
  },
  {
   "cell_type": "code",
   "execution_count": null,
   "id": "1f75e9f3-7046-4060-8471-f588505ab462",
   "metadata": {},
   "outputs": [],
   "source": []
  },
  {
   "cell_type": "code",
   "execution_count": null,
   "id": "c8575258-43db-43f0-a465-923d47d935b0",
   "metadata": {},
   "outputs": [],
   "source": [
    "col_list = []\n",
    "for i  in soup.item :\n",
    "    col_list.append(i.name)"
   ]
  },
  {
   "cell_type": "code",
   "execution_count": null,
   "id": "fe01ec01-4bfd-4e7d-bc2c-179ee9f35430",
   "metadata": {},
   "outputs": [],
   "source": [
    "df = pd.DataFrame(data, columns=col_list)"
   ]
  },
  {
   "cell_type": "code",
   "execution_count": null,
   "id": "241ea03f-68b1-4e98-bd93-7db3f4cb5566",
   "metadata": {
    "tags": []
   },
   "outputs": [],
   "source": [
    "# 잘 못된 코드임 중간에 없는게 3개나 있어서 끝에 nan값이 3개나 생김 \n",
    "df.iloc[9]"
   ]
  },
  {
   "cell_type": "markdown",
   "id": "9ab8c641-6834-4fd9-b2cd-dd7fbbe3cd8a",
   "metadata": {},
   "source": [
    "---"
   ]
  },
  {
   "cell_type": "code",
   "execution_count": null,
   "id": "d1ce72bf-5432-4458-a43e-470a4925e862",
   "metadata": {},
   "outputs": [],
   "source": [
    "soup.item.select('address1')"
   ]
  },
  {
   "cell_type": "code",
   "execution_count": null,
   "id": "acf53aea-a118-4863-80ac-c457bcb14edc",
   "metadata": {},
   "outputs": [],
   "source": [
    "col_list = ['address1', 'address2', 'buldNm', 'elevatorNo', 'elvtrStts','lastInspctDe', 'liveLoad', 'manufacturerName', 'manufacturerTelno']"
   ]
  },
  {
   "cell_type": "code",
   "execution_count": null,
   "id": "da7a5e28-1613-409e-9f98-14290ae3e1c2",
   "metadata": {},
   "outputs": [],
   "source": [
    "# ERROR나는게 당연한거 'list index out of range' 리스트가 없는데 가지고 오라고?!\n",
    "data = []\n",
    "for item in soup.items :\n",
    "    temp = []\n",
    "    for col in col_list :\n",
    "        temp.append(item.select(col)[0].text)\n",
    "    data.append(temp)"
   ]
  },
  {
   "cell_type": "markdown",
   "id": "da1053fa-85b7-4ba9-9fb3-9ba2bb4769c5",
   "metadata": {},
   "source": [
    "-------"
   ]
  },
  {
   "cell_type": "code",
   "execution_count": null,
   "id": "120925e0-ef3a-4f5d-82ca-a2e9a56270bf",
   "metadata": {},
   "outputs": [],
   "source": [
    "#위에꺼를 올바르게 코드로 만드는 법"
   ]
  },
  {
   "cell_type": "code",
   "execution_count": null,
   "id": "1e3d4d08-4e90-46ac-aba8-60cd4268e654",
   "metadata": {},
   "outputs": [],
   "source": [
    "b = input()"
   ]
  },
  {
   "cell_type": "code",
   "execution_count": null,
   "id": "babf3395-eff3-40c3-9568-73438875e5ac",
   "metadata": {},
   "outputs": [],
   "source": [
    "# try : except : 설명 \n",
    "# 예외처리 \n",
    "a = 1\n",
    "b = '2'\n",
    "# 정상처리되면 try에서 끝이나고 \n",
    "try :\n",
    "    print('try 시작')\n",
    "    c = a+b\n",
    "    print('try 끝')\n",
    "#예외처리되면 except까지 감 \n",
    "except : \n",
    "    print('except 끝')\n",
    "    c = a+int(b)\n",
    "    print(c)"
   ]
  },
  {
   "cell_type": "code",
   "execution_count": null,
   "id": "600d5a65-d23b-46ed-b9b6-3b9faebbc328",
   "metadata": {},
   "outputs": [],
   "source": [
    "\n",
    "col_list = ['address1', 'address2', 'buldNm', 'elevatorNo', 'elvtrStts','lastInspctDe', 'liveLoad', 'manufacturerName', 'manufacturerTelno']\n",
    "data = []\n",
    "for item in soup.items :\n",
    "    temp = []\n",
    "    for col in col_list :\n",
    "        try :\n",
    "            temp.append(item.select(col)[0].text)\n",
    "        except : \n",
    "            temp.append('')\n",
    "    data.append(temp)"
   ]
  },
  {
   "cell_type": "code",
   "execution_count": null,
   "id": "357c07d5-5115-451c-8c3a-fa53c490b5ae",
   "metadata": {},
   "outputs": [],
   "source": [
    "df = pd.DataFrame(data, columns=col_list)"
   ]
  },
  {
   "cell_type": "code",
   "execution_count": null,
   "id": "57f997e7-3a86-4eaf-bec6-6bac8a29597e",
   "metadata": {
    "tags": []
   },
   "outputs": [],
   "source": [
    "df"
   ]
  },
  {
   "cell_type": "markdown",
   "id": "fec89657-8f65-4cda-8ee5-23830772a47e",
   "metadata": {},
   "source": [
    "--"
   ]
  },
  {
   "cell_type": "code",
   "execution_count": 2,
   "id": "671ddca7-e720-4949-87cc-372ca7c187da",
   "metadata": {},
   "outputs": [
    {
     "name": "stderr",
     "output_type": "stream",
     "text": [
      "C:\\Users\\user\\anaconda3\\lib\\site-packages\\bs4\\builder\\__init__.py:545: XMLParsedAsHTMLWarning: It looks like you're parsing an XML document using an HTML parser. If this really is an HTML document (maybe it's XHTML?), you can ignore or filter this warning. If it's XML, you should know that using an XML parser will be more reliable. To parse this document as XML, make sure you have the lxml package installed, and pass the keyword argument `features=\"xml\"` into the BeautifulSoup constructor.\n",
      "  warnings.warn(\n"
     ]
    }
   ],
   "source": [
    "data = []\n",
    "for page in range(1,3) :\n",
    "    url = 'http://apis.data.go.kr/openapi/service/ElevatorInformationService/getElevatorList'\n",
    "    serviceKey = '0kYXnKBN3P1BPz+PbMj53+Xf9Lasd9mZvYohzWDq+10Tagyqazw0pf62r0VMYgKLZZednlK4k5uPA6V49OvEcw=='\n",
    "    numOfRows = '100'\n",
    "    #numOfRows 한번에 가져올수 있는 량\n",
    "    pageNo =  page\n",
    "    sido = '서울특별시'\n",
    "    sigungu = '은평구'\n",
    "\n",
    "    params = {'serviceKey' : serviceKey, 'numOfRows' : numOfRows, 'pageNo' : pageNo, 'sido':sido, 'sigungu':sigungu }\n",
    "    req = requests.get(url, params=params,verify=False)\n",
    "    soup = BeautifulSoup(req.text,'lxml')\n",
    "    col_list = ['address1', 'address2', 'buldNm', 'elevatorNo', 'elvtrStts','lastInspctDe', 'liveLoad', 'manufacturerTelno']\n",
    "  \n",
    "\n",
    "    for item in soup.items :\n",
    "        temp = []\n",
    "        for col in col_list :\n",
    "            try :\n",
    "                temp.append(item.select(col)[0].text)\n",
    "            except : \n",
    "                temp.append('')\n",
    "        data.append(temp)"
   ]
  },
  {
   "cell_type": "code",
   "execution_count": 3,
   "id": "68315a99-dfd5-4770-be17-3cf6443d6026",
   "metadata": {},
   "outputs": [],
   "source": [
    "df = pd.DataFrame(data, columns=col_list)"
   ]
  },
  {
   "cell_type": "code",
   "execution_count": 4,
   "id": "72d9b354-7738-4261-b011-76ad2477f04e",
   "metadata": {
    "collapsed": true,
    "jupyter": {
     "outputs_hidden": true
    },
    "tags": []
   },
   "outputs": [
    {
     "data": {
      "text/html": [
       "<div>\n",
       "<style scoped>\n",
       "    .dataframe tbody tr th:only-of-type {\n",
       "        vertical-align: middle;\n",
       "    }\n",
       "\n",
       "    .dataframe tbody tr th {\n",
       "        vertical-align: top;\n",
       "    }\n",
       "\n",
       "    .dataframe thead th {\n",
       "        text-align: right;\n",
       "    }\n",
       "</style>\n",
       "<table border=\"1\" class=\"dataframe\">\n",
       "  <thead>\n",
       "    <tr style=\"text-align: right;\">\n",
       "      <th></th>\n",
       "      <th>address1</th>\n",
       "      <th>address2</th>\n",
       "      <th>buldNm</th>\n",
       "      <th>elevatorNo</th>\n",
       "      <th>elvtrStts</th>\n",
       "      <th>lastInspctDe</th>\n",
       "      <th>liveLoad</th>\n",
       "      <th>manufacturerTelno</th>\n",
       "    </tr>\n",
       "  </thead>\n",
       "  <tbody>\n",
       "    <tr>\n",
       "      <th>0</th>\n",
       "      <td>서울특별시 은평구 연서로 71</td>\n",
       "      <td>(역촌동)</td>\n",
       "      <td>(재)살림이</td>\n",
       "      <td>0081201</td>\n",
       "      <td>운행중</td>\n",
       "      <td>2022-05-24</td>\n",
       "      <td>550 KG</td>\n",
       "      <td>055-269-4114</td>\n",
       "    </tr>\n",
       "    <tr>\n",
       "      <th>1</th>\n",
       "      <td>서울특별시 은평구 통일로71길 16</td>\n",
       "      <td>(대조동)</td>\n",
       "      <td>(주)KT 은평지사</td>\n",
       "      <td>0042569</td>\n",
       "      <td>운행중</td>\n",
       "      <td>2022-10-11</td>\n",
       "      <td>1150 KG</td>\n",
       "      <td>055-289-8235</td>\n",
       "    </tr>\n",
       "    <tr>\n",
       "      <th>2</th>\n",
       "      <td>서울특별시 은평구 통일로71길 16</td>\n",
       "      <td>(대조동)</td>\n",
       "      <td>(주)KT 은평지사</td>\n",
       "      <td>0042570</td>\n",
       "      <td>운행중</td>\n",
       "      <td>2022-10-11</td>\n",
       "      <td>1150 KG</td>\n",
       "      <td>055-289-8235</td>\n",
       "    </tr>\n",
       "    <tr>\n",
       "      <th>3</th>\n",
       "      <td>서울특별시 은평구 은평로13길 12-1</td>\n",
       "      <td>해명빌딩 (녹번동)</td>\n",
       "      <td>(주)녹번해명(해명빌딩)</td>\n",
       "      <td>0104893</td>\n",
       "      <td>운행중</td>\n",
       "      <td>2022-11-03</td>\n",
       "      <td>1150 KG</td>\n",
       "      <td>043-722-1000</td>\n",
       "    </tr>\n",
       "    <tr>\n",
       "      <th>4</th>\n",
       "      <td>서울특별시 은평구 은평로13길 12-1</td>\n",
       "      <td>해명빌딩 (녹번동)</td>\n",
       "      <td>(주)녹번해명(해명빌딩)</td>\n",
       "      <td>0004213</td>\n",
       "      <td>운행중</td>\n",
       "      <td>2022-11-03</td>\n",
       "      <td>2000 KG</td>\n",
       "      <td>032-815-7871</td>\n",
       "    </tr>\n",
       "    <tr>\n",
       "      <th>...</th>\n",
       "      <td>...</td>\n",
       "      <td>...</td>\n",
       "      <td>...</td>\n",
       "      <td>...</td>\n",
       "      <td>...</td>\n",
       "      <td>...</td>\n",
       "      <td>...</td>\n",
       "      <td>...</td>\n",
       "    </tr>\n",
       "    <tr>\n",
       "      <th>195</th>\n",
       "      <td>서울특별시 은평구 수색동 115-5</td>\n",
       "      <td>(수색동)</td>\n",
       "      <td>DMC파인시티</td>\n",
       "      <td>0155005</td>\n",
       "      <td>운행중</td>\n",
       "      <td>2022-07-11</td>\n",
       "      <td>1000 KG</td>\n",
       "      <td>043-722-1000</td>\n",
       "    </tr>\n",
       "    <tr>\n",
       "      <th>196</th>\n",
       "      <td>서울특별시 은평구 수색동 115-5</td>\n",
       "      <td>(수색동)</td>\n",
       "      <td>DMC파인시티</td>\n",
       "      <td>0154984</td>\n",
       "      <td>운행중</td>\n",
       "      <td>2022-06-15</td>\n",
       "      <td>1000 KG</td>\n",
       "      <td>043-722-1000</td>\n",
       "    </tr>\n",
       "    <tr>\n",
       "      <th>197</th>\n",
       "      <td>서울특별시 은평구 수색동 115-5</td>\n",
       "      <td>(수색동)</td>\n",
       "      <td>DMC파인시티</td>\n",
       "      <td>0154985</td>\n",
       "      <td>운행중</td>\n",
       "      <td>2022-06-15</td>\n",
       "      <td>1000 KG</td>\n",
       "      <td>043-722-1000</td>\n",
       "    </tr>\n",
       "    <tr>\n",
       "      <th>198</th>\n",
       "      <td>서울특별시 은평구 수색동 115-5</td>\n",
       "      <td>(수색동)</td>\n",
       "      <td>DMC파인시티</td>\n",
       "      <td>0155230</td>\n",
       "      <td>운행중</td>\n",
       "      <td>2022-10-31</td>\n",
       "      <td>1000 KG</td>\n",
       "      <td>043-722-1000</td>\n",
       "    </tr>\n",
       "    <tr>\n",
       "      <th>199</th>\n",
       "      <td>서울특별시 은평구 수색동 115-5</td>\n",
       "      <td>(수색동)</td>\n",
       "      <td>DMC파인시티</td>\n",
       "      <td>0155231</td>\n",
       "      <td>운행중</td>\n",
       "      <td>2022-10-31</td>\n",
       "      <td>1000 KG</td>\n",
       "      <td>043-722-1000</td>\n",
       "    </tr>\n",
       "  </tbody>\n",
       "</table>\n",
       "<p>200 rows × 8 columns</p>\n",
       "</div>"
      ],
      "text/plain": [
       "                  address1    address2         buldNm elevatorNo elvtrStts  \\\n",
       "0         서울특별시 은평구 연서로 71       (역촌동)         (재)살림이    0081201       운행중   \n",
       "1      서울특별시 은평구 통일로71길 16       (대조동)     (주)KT 은평지사    0042569       운행중   \n",
       "2      서울특별시 은평구 통일로71길 16       (대조동)     (주)KT 은평지사    0042570       운행중   \n",
       "3    서울특별시 은평구 은평로13길 12-1  해명빌딩 (녹번동)  (주)녹번해명(해명빌딩)    0104893       운행중   \n",
       "4    서울특별시 은평구 은평로13길 12-1  해명빌딩 (녹번동)  (주)녹번해명(해명빌딩)    0004213       운행중   \n",
       "..                     ...         ...            ...        ...       ...   \n",
       "195    서울특별시 은평구 수색동 115-5       (수색동)        DMC파인시티    0155005       운행중   \n",
       "196    서울특별시 은평구 수색동 115-5       (수색동)        DMC파인시티    0154984       운행중   \n",
       "197    서울특별시 은평구 수색동 115-5       (수색동)        DMC파인시티    0154985       운행중   \n",
       "198    서울특별시 은평구 수색동 115-5       (수색동)        DMC파인시티    0155230       운행중   \n",
       "199    서울특별시 은평구 수색동 115-5       (수색동)        DMC파인시티    0155231       운행중   \n",
       "\n",
       "    lastInspctDe liveLoad manufacturerTelno  \n",
       "0     2022-05-24   550 KG      055-269-4114  \n",
       "1     2022-10-11  1150 KG      055-289-8235  \n",
       "2     2022-10-11  1150 KG      055-289-8235  \n",
       "3     2022-11-03  1150 KG      043-722-1000  \n",
       "4     2022-11-03  2000 KG      032-815-7871  \n",
       "..           ...      ...               ...  \n",
       "195   2022-07-11  1000 KG      043-722-1000  \n",
       "196   2022-06-15  1000 KG      043-722-1000  \n",
       "197   2022-06-15  1000 KG      043-722-1000  \n",
       "198   2022-10-31  1000 KG      043-722-1000  \n",
       "199   2022-10-31  1000 KG      043-722-1000  \n",
       "\n",
       "[200 rows x 8 columns]"
      ]
     },
     "execution_count": 4,
     "metadata": {},
     "output_type": "execute_result"
    }
   ],
   "source": [
    "df"
   ]
  },
  {
   "cell_type": "code",
   "execution_count": 5,
   "id": "41bf1d6b-14cb-4edc-a173-41d2ac4b0bb7",
   "metadata": {},
   "outputs": [
    {
     "data": {
      "text/plain": [
       "(200, 8)"
      ]
     },
     "execution_count": 5,
     "metadata": {},
     "output_type": "execute_result"
    }
   ],
   "source": [
    "df.shape"
   ]
  },
  {
   "cell_type": "code",
   "execution_count": 8,
   "id": "9cabe914-cca9-4d6c-80d8-71821afb0f71",
   "metadata": {},
   "outputs": [],
   "source": [
    "df.to_csv('elevInfo_csv', index = False, encoding ='euc-kr')"
   ]
  },
  {
   "cell_type": "code",
   "execution_count": null,
   "id": "72dfc9f6-a59d-4653-a3d6-3b7d215f1b67",
   "metadata": {},
   "outputs": [],
   "source": []
  }
 ],
 "metadata": {
  "kernelspec": {
   "display_name": "Python 3 (ipykernel)",
   "language": "python",
   "name": "python3"
  },
  "language_info": {
   "codemirror_mode": {
    "name": "ipython",
    "version": 3
   },
   "file_extension": ".py",
   "mimetype": "text/x-python",
   "name": "python",
   "nbconvert_exporter": "python",
   "pygments_lexer": "ipython3",
   "version": "3.9.12"
  }
 },
 "nbformat": 4,
 "nbformat_minor": 5
}
