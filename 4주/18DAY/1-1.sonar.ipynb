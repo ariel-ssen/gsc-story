{
 "cells": [
  {
   "cell_type": "markdown",
   "id": "f2e7616b-a4fa-497c-bf1a-45c49dda3e28",
   "metadata": {},
   "source": [
    "# 수중 음파 탐지기(sonar) 데이터 셋\n",
    "- Sonar 데이터 셋을 이용해서 Mines와 Rocks를 구분하는 모델 만들기\n"
   ]
  },
  {
   "cell_type": "code",
   "execution_count": 2,
   "id": "2e0a8160-a2ed-44e6-a087-98a440c80155",
   "metadata": {},
   "outputs": [],
   "source": [
    "import pandas as pd\n",
    "from sklearn.linear_model import LogisticRegression #분류 \n",
    "from sklearn.model_selection import train_test_split"
   ]
  },
  {
   "cell_type": "code",
   "execution_count": 3,
   "id": "45f75406-34ce-42f4-814e-4a62a5690dc8",
   "metadata": {},
   "outputs": [],
   "source": [
    "sonar = pd.read_csv('sonar_csv.csv')"
   ]
  },
  {
   "cell_type": "code",
   "execution_count": 4,
   "id": "7a694fab-0dc4-407b-964c-047e659b9b9f",
   "metadata": {},
   "outputs": [
    {
     "data": {
      "text/html": [
       "<div>\n",
       "<style scoped>\n",
       "    .dataframe tbody tr th:only-of-type {\n",
       "        vertical-align: middle;\n",
       "    }\n",
       "\n",
       "    .dataframe tbody tr th {\n",
       "        vertical-align: top;\n",
       "    }\n",
       "\n",
       "    .dataframe thead th {\n",
       "        text-align: right;\n",
       "    }\n",
       "</style>\n",
       "<table border=\"1\" class=\"dataframe\">\n",
       "  <thead>\n",
       "    <tr style=\"text-align: right;\">\n",
       "      <th></th>\n",
       "      <th>attribute_1</th>\n",
       "      <th>attribute_2</th>\n",
       "      <th>attribute_3</th>\n",
       "      <th>attribute_4</th>\n",
       "      <th>attribute_5</th>\n",
       "      <th>attribute_6</th>\n",
       "      <th>attribute_7</th>\n",
       "      <th>attribute_8</th>\n",
       "      <th>attribute_9</th>\n",
       "      <th>attribute_10</th>\n",
       "      <th>...</th>\n",
       "      <th>attribute_52</th>\n",
       "      <th>attribute_53</th>\n",
       "      <th>attribute_54</th>\n",
       "      <th>attribute_55</th>\n",
       "      <th>attribute_56</th>\n",
       "      <th>attribute_57</th>\n",
       "      <th>attribute_58</th>\n",
       "      <th>attribute_59</th>\n",
       "      <th>attribute_60</th>\n",
       "      <th>Class</th>\n",
       "    </tr>\n",
       "  </thead>\n",
       "  <tbody>\n",
       "    <tr>\n",
       "      <th>0</th>\n",
       "      <td>0.0200</td>\n",
       "      <td>0.0371</td>\n",
       "      <td>0.0428</td>\n",
       "      <td>0.0207</td>\n",
       "      <td>0.0954</td>\n",
       "      <td>0.0986</td>\n",
       "      <td>0.1539</td>\n",
       "      <td>0.1601</td>\n",
       "      <td>0.3109</td>\n",
       "      <td>0.2111</td>\n",
       "      <td>...</td>\n",
       "      <td>0.0027</td>\n",
       "      <td>0.0065</td>\n",
       "      <td>0.0159</td>\n",
       "      <td>0.0072</td>\n",
       "      <td>0.0167</td>\n",
       "      <td>0.0180</td>\n",
       "      <td>0.0084</td>\n",
       "      <td>0.0090</td>\n",
       "      <td>0.0032</td>\n",
       "      <td>Rock</td>\n",
       "    </tr>\n",
       "    <tr>\n",
       "      <th>1</th>\n",
       "      <td>0.0453</td>\n",
       "      <td>0.0523</td>\n",
       "      <td>0.0843</td>\n",
       "      <td>0.0689</td>\n",
       "      <td>0.1183</td>\n",
       "      <td>0.2583</td>\n",
       "      <td>0.2156</td>\n",
       "      <td>0.3481</td>\n",
       "      <td>0.3337</td>\n",
       "      <td>0.2872</td>\n",
       "      <td>...</td>\n",
       "      <td>0.0084</td>\n",
       "      <td>0.0089</td>\n",
       "      <td>0.0048</td>\n",
       "      <td>0.0094</td>\n",
       "      <td>0.0191</td>\n",
       "      <td>0.0140</td>\n",
       "      <td>0.0049</td>\n",
       "      <td>0.0052</td>\n",
       "      <td>0.0044</td>\n",
       "      <td>Rock</td>\n",
       "    </tr>\n",
       "    <tr>\n",
       "      <th>2</th>\n",
       "      <td>0.0262</td>\n",
       "      <td>0.0582</td>\n",
       "      <td>0.1099</td>\n",
       "      <td>0.1083</td>\n",
       "      <td>0.0974</td>\n",
       "      <td>0.2280</td>\n",
       "      <td>0.2431</td>\n",
       "      <td>0.3771</td>\n",
       "      <td>0.5598</td>\n",
       "      <td>0.6194</td>\n",
       "      <td>...</td>\n",
       "      <td>0.0232</td>\n",
       "      <td>0.0166</td>\n",
       "      <td>0.0095</td>\n",
       "      <td>0.0180</td>\n",
       "      <td>0.0244</td>\n",
       "      <td>0.0316</td>\n",
       "      <td>0.0164</td>\n",
       "      <td>0.0095</td>\n",
       "      <td>0.0078</td>\n",
       "      <td>Rock</td>\n",
       "    </tr>\n",
       "    <tr>\n",
       "      <th>3</th>\n",
       "      <td>0.0100</td>\n",
       "      <td>0.0171</td>\n",
       "      <td>0.0623</td>\n",
       "      <td>0.0205</td>\n",
       "      <td>0.0205</td>\n",
       "      <td>0.0368</td>\n",
       "      <td>0.1098</td>\n",
       "      <td>0.1276</td>\n",
       "      <td>0.0598</td>\n",
       "      <td>0.1264</td>\n",
       "      <td>...</td>\n",
       "      <td>0.0121</td>\n",
       "      <td>0.0036</td>\n",
       "      <td>0.0150</td>\n",
       "      <td>0.0085</td>\n",
       "      <td>0.0073</td>\n",
       "      <td>0.0050</td>\n",
       "      <td>0.0044</td>\n",
       "      <td>0.0040</td>\n",
       "      <td>0.0117</td>\n",
       "      <td>Rock</td>\n",
       "    </tr>\n",
       "    <tr>\n",
       "      <th>4</th>\n",
       "      <td>0.0762</td>\n",
       "      <td>0.0666</td>\n",
       "      <td>0.0481</td>\n",
       "      <td>0.0394</td>\n",
       "      <td>0.0590</td>\n",
       "      <td>0.0649</td>\n",
       "      <td>0.1209</td>\n",
       "      <td>0.2467</td>\n",
       "      <td>0.3564</td>\n",
       "      <td>0.4459</td>\n",
       "      <td>...</td>\n",
       "      <td>0.0031</td>\n",
       "      <td>0.0054</td>\n",
       "      <td>0.0105</td>\n",
       "      <td>0.0110</td>\n",
       "      <td>0.0015</td>\n",
       "      <td>0.0072</td>\n",
       "      <td>0.0048</td>\n",
       "      <td>0.0107</td>\n",
       "      <td>0.0094</td>\n",
       "      <td>Rock</td>\n",
       "    </tr>\n",
       "    <tr>\n",
       "      <th>...</th>\n",
       "      <td>...</td>\n",
       "      <td>...</td>\n",
       "      <td>...</td>\n",
       "      <td>...</td>\n",
       "      <td>...</td>\n",
       "      <td>...</td>\n",
       "      <td>...</td>\n",
       "      <td>...</td>\n",
       "      <td>...</td>\n",
       "      <td>...</td>\n",
       "      <td>...</td>\n",
       "      <td>...</td>\n",
       "      <td>...</td>\n",
       "      <td>...</td>\n",
       "      <td>...</td>\n",
       "      <td>...</td>\n",
       "      <td>...</td>\n",
       "      <td>...</td>\n",
       "      <td>...</td>\n",
       "      <td>...</td>\n",
       "      <td>...</td>\n",
       "    </tr>\n",
       "    <tr>\n",
       "      <th>203</th>\n",
       "      <td>0.0187</td>\n",
       "      <td>0.0346</td>\n",
       "      <td>0.0168</td>\n",
       "      <td>0.0177</td>\n",
       "      <td>0.0393</td>\n",
       "      <td>0.1630</td>\n",
       "      <td>0.2028</td>\n",
       "      <td>0.1694</td>\n",
       "      <td>0.2328</td>\n",
       "      <td>0.2684</td>\n",
       "      <td>...</td>\n",
       "      <td>0.0116</td>\n",
       "      <td>0.0098</td>\n",
       "      <td>0.0199</td>\n",
       "      <td>0.0033</td>\n",
       "      <td>0.0101</td>\n",
       "      <td>0.0065</td>\n",
       "      <td>0.0115</td>\n",
       "      <td>0.0193</td>\n",
       "      <td>0.0157</td>\n",
       "      <td>Mine</td>\n",
       "    </tr>\n",
       "    <tr>\n",
       "      <th>204</th>\n",
       "      <td>0.0323</td>\n",
       "      <td>0.0101</td>\n",
       "      <td>0.0298</td>\n",
       "      <td>0.0564</td>\n",
       "      <td>0.0760</td>\n",
       "      <td>0.0958</td>\n",
       "      <td>0.0990</td>\n",
       "      <td>0.1018</td>\n",
       "      <td>0.1030</td>\n",
       "      <td>0.2154</td>\n",
       "      <td>...</td>\n",
       "      <td>0.0061</td>\n",
       "      <td>0.0093</td>\n",
       "      <td>0.0135</td>\n",
       "      <td>0.0063</td>\n",
       "      <td>0.0063</td>\n",
       "      <td>0.0034</td>\n",
       "      <td>0.0032</td>\n",
       "      <td>0.0062</td>\n",
       "      <td>0.0067</td>\n",
       "      <td>Mine</td>\n",
       "    </tr>\n",
       "    <tr>\n",
       "      <th>205</th>\n",
       "      <td>0.0522</td>\n",
       "      <td>0.0437</td>\n",
       "      <td>0.0180</td>\n",
       "      <td>0.0292</td>\n",
       "      <td>0.0351</td>\n",
       "      <td>0.1171</td>\n",
       "      <td>0.1257</td>\n",
       "      <td>0.1178</td>\n",
       "      <td>0.1258</td>\n",
       "      <td>0.2529</td>\n",
       "      <td>...</td>\n",
       "      <td>0.0160</td>\n",
       "      <td>0.0029</td>\n",
       "      <td>0.0051</td>\n",
       "      <td>0.0062</td>\n",
       "      <td>0.0089</td>\n",
       "      <td>0.0140</td>\n",
       "      <td>0.0138</td>\n",
       "      <td>0.0077</td>\n",
       "      <td>0.0031</td>\n",
       "      <td>Mine</td>\n",
       "    </tr>\n",
       "    <tr>\n",
       "      <th>206</th>\n",
       "      <td>0.0303</td>\n",
       "      <td>0.0353</td>\n",
       "      <td>0.0490</td>\n",
       "      <td>0.0608</td>\n",
       "      <td>0.0167</td>\n",
       "      <td>0.1354</td>\n",
       "      <td>0.1465</td>\n",
       "      <td>0.1123</td>\n",
       "      <td>0.1945</td>\n",
       "      <td>0.2354</td>\n",
       "      <td>...</td>\n",
       "      <td>0.0086</td>\n",
       "      <td>0.0046</td>\n",
       "      <td>0.0126</td>\n",
       "      <td>0.0036</td>\n",
       "      <td>0.0035</td>\n",
       "      <td>0.0034</td>\n",
       "      <td>0.0079</td>\n",
       "      <td>0.0036</td>\n",
       "      <td>0.0048</td>\n",
       "      <td>Mine</td>\n",
       "    </tr>\n",
       "    <tr>\n",
       "      <th>207</th>\n",
       "      <td>0.0260</td>\n",
       "      <td>0.0363</td>\n",
       "      <td>0.0136</td>\n",
       "      <td>0.0272</td>\n",
       "      <td>0.0214</td>\n",
       "      <td>0.0338</td>\n",
       "      <td>0.0655</td>\n",
       "      <td>0.1400</td>\n",
       "      <td>0.1843</td>\n",
       "      <td>0.2354</td>\n",
       "      <td>...</td>\n",
       "      <td>0.0146</td>\n",
       "      <td>0.0129</td>\n",
       "      <td>0.0047</td>\n",
       "      <td>0.0039</td>\n",
       "      <td>0.0061</td>\n",
       "      <td>0.0040</td>\n",
       "      <td>0.0036</td>\n",
       "      <td>0.0061</td>\n",
       "      <td>0.0115</td>\n",
       "      <td>Mine</td>\n",
       "    </tr>\n",
       "  </tbody>\n",
       "</table>\n",
       "<p>208 rows × 61 columns</p>\n",
       "</div>"
      ],
      "text/plain": [
       "     attribute_1  attribute_2  attribute_3  attribute_4  attribute_5  \\\n",
       "0         0.0200       0.0371       0.0428       0.0207       0.0954   \n",
       "1         0.0453       0.0523       0.0843       0.0689       0.1183   \n",
       "2         0.0262       0.0582       0.1099       0.1083       0.0974   \n",
       "3         0.0100       0.0171       0.0623       0.0205       0.0205   \n",
       "4         0.0762       0.0666       0.0481       0.0394       0.0590   \n",
       "..           ...          ...          ...          ...          ...   \n",
       "203       0.0187       0.0346       0.0168       0.0177       0.0393   \n",
       "204       0.0323       0.0101       0.0298       0.0564       0.0760   \n",
       "205       0.0522       0.0437       0.0180       0.0292       0.0351   \n",
       "206       0.0303       0.0353       0.0490       0.0608       0.0167   \n",
       "207       0.0260       0.0363       0.0136       0.0272       0.0214   \n",
       "\n",
       "     attribute_6  attribute_7  attribute_8  attribute_9  attribute_10  ...  \\\n",
       "0         0.0986       0.1539       0.1601       0.3109        0.2111  ...   \n",
       "1         0.2583       0.2156       0.3481       0.3337        0.2872  ...   \n",
       "2         0.2280       0.2431       0.3771       0.5598        0.6194  ...   \n",
       "3         0.0368       0.1098       0.1276       0.0598        0.1264  ...   \n",
       "4         0.0649       0.1209       0.2467       0.3564        0.4459  ...   \n",
       "..           ...          ...          ...          ...           ...  ...   \n",
       "203       0.1630       0.2028       0.1694       0.2328        0.2684  ...   \n",
       "204       0.0958       0.0990       0.1018       0.1030        0.2154  ...   \n",
       "205       0.1171       0.1257       0.1178       0.1258        0.2529  ...   \n",
       "206       0.1354       0.1465       0.1123       0.1945        0.2354  ...   \n",
       "207       0.0338       0.0655       0.1400       0.1843        0.2354  ...   \n",
       "\n",
       "     attribute_52  attribute_53  attribute_54  attribute_55  attribute_56  \\\n",
       "0          0.0027        0.0065        0.0159        0.0072        0.0167   \n",
       "1          0.0084        0.0089        0.0048        0.0094        0.0191   \n",
       "2          0.0232        0.0166        0.0095        0.0180        0.0244   \n",
       "3          0.0121        0.0036        0.0150        0.0085        0.0073   \n",
       "4          0.0031        0.0054        0.0105        0.0110        0.0015   \n",
       "..            ...           ...           ...           ...           ...   \n",
       "203        0.0116        0.0098        0.0199        0.0033        0.0101   \n",
       "204        0.0061        0.0093        0.0135        0.0063        0.0063   \n",
       "205        0.0160        0.0029        0.0051        0.0062        0.0089   \n",
       "206        0.0086        0.0046        0.0126        0.0036        0.0035   \n",
       "207        0.0146        0.0129        0.0047        0.0039        0.0061   \n",
       "\n",
       "     attribute_57  attribute_58  attribute_59  attribute_60  Class  \n",
       "0          0.0180        0.0084        0.0090        0.0032   Rock  \n",
       "1          0.0140        0.0049        0.0052        0.0044   Rock  \n",
       "2          0.0316        0.0164        0.0095        0.0078   Rock  \n",
       "3          0.0050        0.0044        0.0040        0.0117   Rock  \n",
       "4          0.0072        0.0048        0.0107        0.0094   Rock  \n",
       "..            ...           ...           ...           ...    ...  \n",
       "203        0.0065        0.0115        0.0193        0.0157   Mine  \n",
       "204        0.0034        0.0032        0.0062        0.0067   Mine  \n",
       "205        0.0140        0.0138        0.0077        0.0031   Mine  \n",
       "206        0.0034        0.0079        0.0036        0.0048   Mine  \n",
       "207        0.0040        0.0036        0.0061        0.0115   Mine  \n",
       "\n",
       "[208 rows x 61 columns]"
      ]
     },
     "execution_count": 4,
     "metadata": {},
     "output_type": "execute_result"
    }
   ],
   "source": [
    "sonar"
   ]
  },
  {
   "cell_type": "code",
   "execution_count": 7,
   "id": "8497a1db-6cd7-4557-ba39-9b6a5f5a256e",
   "metadata": {
    "collapsed": true,
    "jupyter": {
     "outputs_hidden": true
    },
    "tags": []
   },
   "outputs": [
    {
     "name": "stdout",
     "output_type": "stream",
     "text": [
      "<class 'pandas.core.frame.DataFrame'>\n",
      "RangeIndex: 208 entries, 0 to 207\n",
      "Data columns (total 61 columns):\n",
      " #   Column        Non-Null Count  Dtype  \n",
      "---  ------        --------------  -----  \n",
      " 0   attribute_1   208 non-null    float64\n",
      " 1   attribute_2   208 non-null    float64\n",
      " 2   attribute_3   208 non-null    float64\n",
      " 3   attribute_4   208 non-null    float64\n",
      " 4   attribute_5   208 non-null    float64\n",
      " 5   attribute_6   208 non-null    float64\n",
      " 6   attribute_7   208 non-null    float64\n",
      " 7   attribute_8   208 non-null    float64\n",
      " 8   attribute_9   208 non-null    float64\n",
      " 9   attribute_10  208 non-null    float64\n",
      " 10  attribute_11  208 non-null    float64\n",
      " 11  attribute_12  208 non-null    float64\n",
      " 12  attribute_13  208 non-null    float64\n",
      " 13  attribute_14  208 non-null    float64\n",
      " 14  attribute_15  208 non-null    float64\n",
      " 15  attribute_16  208 non-null    float64\n",
      " 16  attribute_17  208 non-null    float64\n",
      " 17  attribute_18  208 non-null    float64\n",
      " 18  attribute_19  208 non-null    float64\n",
      " 19  attribute_20  208 non-null    float64\n",
      " 20  attribute_21  208 non-null    float64\n",
      " 21  attribute_22  208 non-null    float64\n",
      " 22  attribute_23  208 non-null    float64\n",
      " 23  attribute_24  208 non-null    float64\n",
      " 24  attribute_25  208 non-null    float64\n",
      " 25  attribute_26  208 non-null    float64\n",
      " 26  attribute_27  208 non-null    float64\n",
      " 27  attribute_28  208 non-null    float64\n",
      " 28  attribute_29  208 non-null    float64\n",
      " 29  attribute_30  208 non-null    float64\n",
      " 30  attribute_31  208 non-null    float64\n",
      " 31  attribute_32  208 non-null    float64\n",
      " 32  attribute_33  208 non-null    float64\n",
      " 33  attribute_34  208 non-null    float64\n",
      " 34  attribute_35  208 non-null    float64\n",
      " 35  attribute_36  208 non-null    float64\n",
      " 36  attribute_37  208 non-null    float64\n",
      " 37  attribute_38  208 non-null    float64\n",
      " 38  attribute_39  208 non-null    float64\n",
      " 39  attribute_40  208 non-null    float64\n",
      " 40  attribute_41  208 non-null    float64\n",
      " 41  attribute_42  208 non-null    float64\n",
      " 42  attribute_43  208 non-null    float64\n",
      " 43  attribute_44  208 non-null    float64\n",
      " 44  attribute_45  208 non-null    float64\n",
      " 45  attribute_46  208 non-null    float64\n",
      " 46  attribute_47  208 non-null    float64\n",
      " 47  attribute_48  208 non-null    float64\n",
      " 48  attribute_49  208 non-null    float64\n",
      " 49  attribute_50  208 non-null    float64\n",
      " 50  attribute_51  208 non-null    float64\n",
      " 51  attribute_52  208 non-null    float64\n",
      " 52  attribute_53  208 non-null    float64\n",
      " 53  attribute_54  208 non-null    float64\n",
      " 54  attribute_55  208 non-null    float64\n",
      " 55  attribute_56  208 non-null    float64\n",
      " 56  attribute_57  208 non-null    float64\n",
      " 57  attribute_58  208 non-null    float64\n",
      " 58  attribute_59  208 non-null    float64\n",
      " 59  attribute_60  208 non-null    float64\n",
      " 60  Class         208 non-null    object \n",
      "dtypes: float64(60), object(1)\n",
      "memory usage: 99.2+ KB\n"
     ]
    }
   ],
   "source": [
    "sonar.info()\n",
    "# index:208 dtype:float64(60), object(1) columns:61 "
   ]
  },
  {
   "cell_type": "code",
   "execution_count": 8,
   "id": "17db6b39-7bd6-488b-9f20-fe0a80b10bd5",
   "metadata": {},
   "outputs": [
    {
     "data": {
      "text/plain": [
       "attribute_1     0\n",
       "attribute_2     0\n",
       "attribute_3     0\n",
       "attribute_4     0\n",
       "attribute_5     0\n",
       "               ..\n",
       "attribute_57    0\n",
       "attribute_58    0\n",
       "attribute_59    0\n",
       "attribute_60    0\n",
       "Class           0\n",
       "Length: 61, dtype: int64"
      ]
     },
     "execution_count": 8,
     "metadata": {},
     "output_type": "execute_result"
    }
   ],
   "source": [
    "sonar.isnull().sum()"
   ]
  },
  {
   "cell_type": "code",
   "execution_count": 9,
   "id": "505a81a6-0071-4cfe-91a0-fc0e0fb2847e",
   "metadata": {},
   "outputs": [
    {
     "data": {
      "text/html": [
       "<div>\n",
       "<style scoped>\n",
       "    .dataframe tbody tr th:only-of-type {\n",
       "        vertical-align: middle;\n",
       "    }\n",
       "\n",
       "    .dataframe tbody tr th {\n",
       "        vertical-align: top;\n",
       "    }\n",
       "\n",
       "    .dataframe thead th {\n",
       "        text-align: right;\n",
       "    }\n",
       "</style>\n",
       "<table border=\"1\" class=\"dataframe\">\n",
       "  <thead>\n",
       "    <tr style=\"text-align: right;\">\n",
       "      <th></th>\n",
       "      <th>attribute_1</th>\n",
       "      <th>attribute_2</th>\n",
       "      <th>attribute_3</th>\n",
       "      <th>attribute_4</th>\n",
       "      <th>attribute_5</th>\n",
       "      <th>attribute_6</th>\n",
       "      <th>attribute_7</th>\n",
       "      <th>attribute_8</th>\n",
       "      <th>attribute_9</th>\n",
       "      <th>attribute_10</th>\n",
       "      <th>...</th>\n",
       "      <th>attribute_52</th>\n",
       "      <th>attribute_53</th>\n",
       "      <th>attribute_54</th>\n",
       "      <th>attribute_55</th>\n",
       "      <th>attribute_56</th>\n",
       "      <th>attribute_57</th>\n",
       "      <th>attribute_58</th>\n",
       "      <th>attribute_59</th>\n",
       "      <th>attribute_60</th>\n",
       "      <th>Class</th>\n",
       "    </tr>\n",
       "  </thead>\n",
       "  <tbody>\n",
       "  </tbody>\n",
       "</table>\n",
       "<p>0 rows × 61 columns</p>\n",
       "</div>"
      ],
      "text/plain": [
       "Empty DataFrame\n",
       "Columns: [attribute_1, attribute_2, attribute_3, attribute_4, attribute_5, attribute_6, attribute_7, attribute_8, attribute_9, attribute_10, attribute_11, attribute_12, attribute_13, attribute_14, attribute_15, attribute_16, attribute_17, attribute_18, attribute_19, attribute_20, attribute_21, attribute_22, attribute_23, attribute_24, attribute_25, attribute_26, attribute_27, attribute_28, attribute_29, attribute_30, attribute_31, attribute_32, attribute_33, attribute_34, attribute_35, attribute_36, attribute_37, attribute_38, attribute_39, attribute_40, attribute_41, attribute_42, attribute_43, attribute_44, attribute_45, attribute_46, attribute_47, attribute_48, attribute_49, attribute_50, attribute_51, attribute_52, attribute_53, attribute_54, attribute_55, attribute_56, attribute_57, attribute_58, attribute_59, attribute_60, Class]\n",
       "Index: []\n",
       "\n",
       "[0 rows x 61 columns]"
      ]
     },
     "execution_count": 9,
     "metadata": {},
     "output_type": "execute_result"
    }
   ],
   "source": [
    "# 중복확인 \n",
    "sonar[sonar.duplicated()]"
   ]
  },
  {
   "cell_type": "code",
   "execution_count": 10,
   "id": "e0e30d38-ada0-44fe-9ead-42e5ad6fbddd",
   "metadata": {},
   "outputs": [
    {
     "data": {
      "text/plain": [
       "Mine    111\n",
       "Rock     97\n",
       "Name: Class, dtype: int64"
      ]
     },
     "execution_count": 10,
     "metadata": {},
     "output_type": "execute_result"
    }
   ],
   "source": [
    "sonar['Class'].value_counts()"
   ]
  },
  {
   "cell_type": "raw",
   "id": "747a6ae8-d564-44b2-8b4b-be77be35bc9a",
   "metadata": {},
   "source": [
    "#문자 숫자로 변환\n",
    "# 모델을 from sklearn.linear_model import LinearRegression 사용시 \\\n",
    "# - 변환해야함\n",
    "#sonar_map = {'Mine':0, 'Rock':1}\n",
    "#sonar['Class'] = sonar['Class'].map(sonar_map)\n",
    "#sonar['Class']"
   ]
  },
  {
   "cell_type": "raw",
   "id": "dfba6c3c-d169-4d21-93ef-ec2d34fee3c7",
   "metadata": {},
   "source": [
    "#LinearRegression  회귀에 쓰는거 숫자일때 (정답이 정해져 있지 않음 )\n",
    "#LogisticRegression 분류에 쓰는거 0과 1처럼 정해져 있는거 "
   ]
  },
  {
   "cell_type": "markdown",
   "id": "3bf08f90-525d-46e2-b016-b6306c01f3a9",
   "metadata": {},
   "source": [
    "# 학습시키기 1"
   ]
  },
  {
   "cell_type": "code",
   "execution_count": 53,
   "id": "a0132456-340e-4027-86c0-497b6fef6feb",
   "metadata": {},
   "outputs": [],
   "source": [
    "from sklearn.model_selection import train_test_split\n",
    "from sklearn.linear_model import LogisticRegression"
   ]
  },
  {
   "cell_type": "code",
   "execution_count": 54,
   "id": "83dbbba2-848c-42a3-b8fe-85028023aa80",
   "metadata": {},
   "outputs": [],
   "source": [
    "x = sonar.drop('Class', axis= 1)\n",
    "y = sonar['Class']"
   ]
  },
  {
   "cell_type": "code",
   "execution_count": 55,
   "id": "62e747d9-d244-4101-b851-31492b5923d8",
   "metadata": {},
   "outputs": [],
   "source": [
    "# train 과 test를 x,y 로 쪼개서 확인 \n",
    "# 학습시킬 문제 ,시험문제 , 학습시킬 문제에 대한 정답 , 시험문제에 대한 정답 \n",
    "x_train, x_test, y_train, y_test = \\\n",
    "train_test_split(x,y, test_size = 0.1, stratify = y , random_state=0 )\n",
    "#stratify에는 층 구분 변수이름을 입력 "
   ]
  },
  {
   "cell_type": "code",
   "execution_count": 56,
   "id": "76ef5e39-8109-4b64-be74-e22957c12662",
   "metadata": {},
   "outputs": [],
   "source": [
    "model = LogisticRegression()"
   ]
  },
  {
   "cell_type": "code",
   "execution_count": 57,
   "id": "e881e58a-921a-4142-a7ec-e740f07e21f7",
   "metadata": {},
   "outputs": [
    {
     "data": {
      "text/plain": [
       "LogisticRegression()"
      ]
     },
     "execution_count": 57,
     "metadata": {},
     "output_type": "execute_result"
    }
   ],
   "source": [
    "model"
   ]
  },
  {
   "cell_type": "code",
   "execution_count": 58,
   "id": "ad9a9387-8ee9-4ee2-a68c-13eab3d42639",
   "metadata": {},
   "outputs": [
    {
     "data": {
      "text/plain": [
       "LogisticRegression()"
      ]
     },
     "execution_count": 58,
     "metadata": {},
     "output_type": "execute_result"
    }
   ],
   "source": [
    "model.fit(x_train, y_train)"
   ]
  },
  {
   "cell_type": "code",
   "execution_count": 59,
   "id": "754b8b8e-4600-41d2-abd4-9fcb5ee5670a",
   "metadata": {},
   "outputs": [
    {
     "data": {
      "text/plain": [
       "0.8288770053475936"
      ]
     },
     "execution_count": 59,
     "metadata": {},
     "output_type": "execute_result"
    }
   ],
   "source": [
    "model.score(x_train, y_train)"
   ]
  },
  {
   "cell_type": "code",
   "execution_count": 60,
   "id": "d77b5613-4975-460f-8494-dbb19a2e8608",
   "metadata": {},
   "outputs": [
    {
     "data": {
      "text/plain": [
       "0.8095238095238095"
      ]
     },
     "execution_count": 60,
     "metadata": {},
     "output_type": "execute_result"
    }
   ],
   "source": [
    "model.score(x_test, y_test)"
   ]
  },
  {
   "cell_type": "markdown",
   "id": "ed29b7c1-5557-4103-b7f8-304f13f3c467",
   "metadata": {},
   "source": [
    "# 학습시키기 2"
   ]
  },
  {
   "cell_type": "code",
   "execution_count": 61,
   "id": "36238c72-bea2-4700-a306-a78e49080641",
   "metadata": {},
   "outputs": [],
   "source": [
    "from sklearn.linear_model import LogisticRegressionCV"
   ]
  },
  {
   "cell_type": "code",
   "execution_count": 62,
   "id": "0623f6b7-bd03-4c2f-8008-f86a16c90a7a",
   "metadata": {},
   "outputs": [],
   "source": [
    "model2 = LogisticRegressionCV(max_iter= 1000, cv=10)"
   ]
  },
  {
   "cell_type": "code",
   "execution_count": 63,
   "id": "401dcf12-f221-443e-9096-892954f9f5fc",
   "metadata": {
    "collapsed": true,
    "jupyter": {
     "outputs_hidden": true
    },
    "tags": []
   },
   "outputs": [
    {
     "name": "stderr",
     "output_type": "stream",
     "text": [
      "C:\\Users\\user\\anaconda3\\lib\\site-packages\\sklearn\\linear_model\\_logistic.py:814: ConvergenceWarning: lbfgs failed to converge (status=1):\n",
      "STOP: TOTAL NO. of ITERATIONS REACHED LIMIT.\n",
      "\n",
      "Increase the number of iterations (max_iter) or scale the data as shown in:\n",
      "    https://scikit-learn.org/stable/modules/preprocessing.html\n",
      "Please also refer to the documentation for alternative solver options:\n",
      "    https://scikit-learn.org/stable/modules/linear_model.html#logistic-regression\n",
      "  n_iter_i = _check_optimize_result(\n",
      "C:\\Users\\user\\anaconda3\\lib\\site-packages\\sklearn\\linear_model\\_logistic.py:814: ConvergenceWarning: lbfgs failed to converge (status=1):\n",
      "STOP: TOTAL NO. of ITERATIONS REACHED LIMIT.\n",
      "\n",
      "Increase the number of iterations (max_iter) or scale the data as shown in:\n",
      "    https://scikit-learn.org/stable/modules/preprocessing.html\n",
      "Please also refer to the documentation for alternative solver options:\n",
      "    https://scikit-learn.org/stable/modules/linear_model.html#logistic-regression\n",
      "  n_iter_i = _check_optimize_result(\n",
      "C:\\Users\\user\\anaconda3\\lib\\site-packages\\sklearn\\linear_model\\_logistic.py:814: ConvergenceWarning: lbfgs failed to converge (status=1):\n",
      "STOP: TOTAL NO. of ITERATIONS REACHED LIMIT.\n",
      "\n",
      "Increase the number of iterations (max_iter) or scale the data as shown in:\n",
      "    https://scikit-learn.org/stable/modules/preprocessing.html\n",
      "Please also refer to the documentation for alternative solver options:\n",
      "    https://scikit-learn.org/stable/modules/linear_model.html#logistic-regression\n",
      "  n_iter_i = _check_optimize_result(\n",
      "C:\\Users\\user\\anaconda3\\lib\\site-packages\\sklearn\\linear_model\\_logistic.py:814: ConvergenceWarning: lbfgs failed to converge (status=1):\n",
      "STOP: TOTAL NO. of ITERATIONS REACHED LIMIT.\n",
      "\n",
      "Increase the number of iterations (max_iter) or scale the data as shown in:\n",
      "    https://scikit-learn.org/stable/modules/preprocessing.html\n",
      "Please also refer to the documentation for alternative solver options:\n",
      "    https://scikit-learn.org/stable/modules/linear_model.html#logistic-regression\n",
      "  n_iter_i = _check_optimize_result(\n",
      "C:\\Users\\user\\anaconda3\\lib\\site-packages\\sklearn\\linear_model\\_logistic.py:814: ConvergenceWarning: lbfgs failed to converge (status=1):\n",
      "STOP: TOTAL NO. of ITERATIONS REACHED LIMIT.\n",
      "\n",
      "Increase the number of iterations (max_iter) or scale the data as shown in:\n",
      "    https://scikit-learn.org/stable/modules/preprocessing.html\n",
      "Please also refer to the documentation for alternative solver options:\n",
      "    https://scikit-learn.org/stable/modules/linear_model.html#logistic-regression\n",
      "  n_iter_i = _check_optimize_result(\n"
     ]
    },
    {
     "data": {
      "text/plain": [
       "LogisticRegressionCV(cv=10, max_iter=1000)"
      ]
     },
     "execution_count": 63,
     "metadata": {},
     "output_type": "execute_result"
    }
   ],
   "source": [
    "model2.fit(x_train, y_train)"
   ]
  },
  {
   "cell_type": "code",
   "execution_count": 64,
   "id": "6e2109df-d597-49bc-90ce-01d5158af86c",
   "metadata": {},
   "outputs": [
    {
     "data": {
      "text/plain": [
       "0.839572192513369"
      ]
     },
     "execution_count": 64,
     "metadata": {},
     "output_type": "execute_result"
    }
   ],
   "source": [
    "model2.score(x_train, y_train)"
   ]
  },
  {
   "cell_type": "code",
   "execution_count": 65,
   "id": "4f470b87-4a41-46a6-afe0-0da76fc739c6",
   "metadata": {},
   "outputs": [
    {
     "data": {
      "text/plain": [
       "0.7619047619047619"
      ]
     },
     "execution_count": 65,
     "metadata": {},
     "output_type": "execute_result"
    }
   ],
   "source": [
    "model2.score(x_test, y_test)"
   ]
  },
  {
   "cell_type": "code",
   "execution_count": 66,
   "id": "a5120a6a-19eb-48ea-82c9-241c50f3fb4f",
   "metadata": {},
   "outputs": [
    {
     "data": {
      "text/plain": [
       "array([0.0392, 0.0108, 0.0267, 0.0257, 0.041 , 0.0491, 0.1053, 0.169 ,\n",
       "       0.2105, 0.2471, 0.268 , 0.3049, 0.2863, 0.2294, 0.1165, 0.2127,\n",
       "       0.2062, 0.2222, 0.3241, 0.433 , 0.5071, 0.5944, 0.7078, 0.7641,\n",
       "       0.8878, 0.9711, 0.988 , 0.9812, 0.9464, 0.8542, 0.6457, 0.3397,\n",
       "       0.3828, 0.3204, 0.1331, 0.044 , 0.1234, 0.203 , 0.1652, 0.1043,\n",
       "       0.1066, 0.211 , 0.2417, 0.1631, 0.0769, 0.0723, 0.0912, 0.0812,\n",
       "       0.0496, 0.0101, 0.0089, 0.0083, 0.008 , 0.0026, 0.0079, 0.0042,\n",
       "       0.0071, 0.0044, 0.0022, 0.0014])"
      ]
     },
     "execution_count": 66,
     "metadata": {},
     "output_type": "execute_result"
    }
   ],
   "source": [
    "#1. 행번호(row number)로 선택하는 방법 (.iloc)\n",
    "#2. label이나 조건표현으로 선택하는 방법 (.loc)\n",
    "x_train.iloc[0].values"
   ]
  },
  {
   "cell_type": "code",
   "execution_count": 67,
   "id": "7e5048b5-8f07-4f4a-a915-babf975486c2",
   "metadata": {
    "tags": []
   },
   "outputs": [
    {
     "data": {
      "text/plain": [
       "array([[0.0392, 0.0108, 0.0267, 0.0257, 0.041 , 0.0491, 0.1053, 0.169 ,\n",
       "        0.2105, 0.2471, 0.268 , 0.3049, 0.2863, 0.2294, 0.1165, 0.2127,\n",
       "        0.2062, 0.2222, 0.3241, 0.433 , 0.5071, 0.5944, 0.7078, 0.7641,\n",
       "        0.8878, 0.9711, 0.988 , 0.9812, 0.9464, 0.8542, 0.6457, 0.3397,\n",
       "        0.3828, 0.3204, 0.1331, 0.044 , 0.1234, 0.203 , 0.1652, 0.1043,\n",
       "        0.1066, 0.211 , 0.2417, 0.1631, 0.0769, 0.0723, 0.0912, 0.0812,\n",
       "        0.0496, 0.0101, 0.0089, 0.0083, 0.008 , 0.0026, 0.0079, 0.0042,\n",
       "        0.0071, 0.0044, 0.0022, 0.0014]])"
      ]
     },
     "execution_count": 67,
     "metadata": {},
     "output_type": "execute_result"
    }
   ],
   "source": [
    "x_train.iloc[0].values.reshape(1,-1)"
   ]
  },
  {
   "cell_type": "code",
   "execution_count": 68,
   "id": "dfc4f0de-4f8f-42fd-8547-5a30608aff55",
   "metadata": {},
   "outputs": [
    {
     "data": {
      "text/plain": [
       "60"
      ]
     },
     "execution_count": 68,
     "metadata": {},
     "output_type": "execute_result"
    }
   ],
   "source": [
    "len(x_train.iloc[0].values)"
   ]
  },
  {
   "cell_type": "code",
   "execution_count": 69,
   "id": "f0f6b016-51c4-42bd-ac05-d6a4c02935e4",
   "metadata": {
    "tags": []
   },
   "outputs": [
    {
     "data": {
      "text/plain": [
       "array([[0.0392, 0.0108, 0.0267, 0.0257, 0.041 , 0.0491, 0.1053, 0.169 ,\n",
       "        0.2105, 0.2471, 0.268 , 0.3049, 0.2863, 0.2294, 0.1165, 0.2127,\n",
       "        0.2062, 0.2222, 0.3241, 0.433 , 0.5071, 0.5944, 0.7078, 0.7641,\n",
       "        0.8878, 0.9711, 0.988 , 0.9812, 0.9464, 0.8542, 0.6457, 0.3397,\n",
       "        0.3828, 0.3204, 0.1331, 0.044 , 0.1234, 0.203 , 0.1652, 0.1043,\n",
       "        0.1066, 0.211 , 0.2417, 0.1631, 0.0769, 0.0723, 0.0912, 0.0812,\n",
       "        0.0496, 0.0101, 0.0089, 0.0083, 0.008 , 0.0026, 0.0079, 0.0042,\n",
       "        0.0071, 0.0044, 0.0022, 0.0014]])"
      ]
     },
     "execution_count": 69,
     "metadata": {},
     "output_type": "execute_result"
    }
   ],
   "source": [
    "x_train.iloc[0].values.reshape(1,60)"
   ]
  },
  {
   "cell_type": "code",
   "execution_count": 70,
   "id": "0d40d2e0-2611-4da9-9032-bb6f4a189115",
   "metadata": {
    "collapsed": true,
    "jupyter": {
     "outputs_hidden": true
    },
    "tags": []
   },
   "outputs": [
    {
     "data": {
      "text/plain": [
       "array([[0.0392, 0.0108],\n",
       "       [0.0267, 0.0257],\n",
       "       [0.041 , 0.0491],\n",
       "       [0.1053, 0.169 ],\n",
       "       [0.2105, 0.2471],\n",
       "       [0.268 , 0.3049],\n",
       "       [0.2863, 0.2294],\n",
       "       [0.1165, 0.2127],\n",
       "       [0.2062, 0.2222],\n",
       "       [0.3241, 0.433 ],\n",
       "       [0.5071, 0.5944],\n",
       "       [0.7078, 0.7641],\n",
       "       [0.8878, 0.9711],\n",
       "       [0.988 , 0.9812],\n",
       "       [0.9464, 0.8542],\n",
       "       [0.6457, 0.3397],\n",
       "       [0.3828, 0.3204],\n",
       "       [0.1331, 0.044 ],\n",
       "       [0.1234, 0.203 ],\n",
       "       [0.1652, 0.1043],\n",
       "       [0.1066, 0.211 ],\n",
       "       [0.2417, 0.1631],\n",
       "       [0.0769, 0.0723],\n",
       "       [0.0912, 0.0812],\n",
       "       [0.0496, 0.0101],\n",
       "       [0.0089, 0.0083],\n",
       "       [0.008 , 0.0026],\n",
       "       [0.0079, 0.0042],\n",
       "       [0.0071, 0.0044],\n",
       "       [0.0022, 0.0014]])"
      ]
     },
     "execution_count": 70,
     "metadata": {},
     "output_type": "execute_result"
    }
   ],
   "source": [
    "x_train.iloc[0].values.reshape(30,2)"
   ]
  },
  {
   "cell_type": "code",
   "execution_count": 71,
   "id": "249ffc4d-085c-4ec3-82a4-0e65b29629ec",
   "metadata": {},
   "outputs": [],
   "source": [
    "sensor = x_train.iloc[0].values.reshape(1,-1)"
   ]
  },
  {
   "cell_type": "code",
   "execution_count": 72,
   "id": "dc396710-852d-4777-be3a-9fa71a45ea81",
   "metadata": {},
   "outputs": [
    {
     "name": "stderr",
     "output_type": "stream",
     "text": [
      "C:\\Users\\user\\anaconda3\\lib\\site-packages\\sklearn\\base.py:450: UserWarning: X does not have valid feature names, but LogisticRegressionCV was fitted with feature names\n",
      "  warnings.warn(\n"
     ]
    },
    {
     "data": {
      "text/plain": [
       "array(['Mine'], dtype=object)"
      ]
     },
     "execution_count": 72,
     "metadata": {},
     "output_type": "execute_result"
    }
   ],
   "source": [
    "#모델이 훈련되면 predict()입력 값을 기반으로 출력 값을 예측하는 데 사용\n",
    "model2.predict(sensor)"
   ]
  },
  {
   "cell_type": "code",
   "execution_count": 73,
   "id": "8b39792e-9d26-4f24-8b2e-db6c9a160573",
   "metadata": {},
   "outputs": [
    {
     "data": {
      "text/plain": [
       "'Mine'"
      ]
     },
     "execution_count": 73,
     "metadata": {},
     "output_type": "execute_result"
    }
   ],
   "source": [
    "y_train.iloc[0]"
   ]
  },
  {
   "cell_type": "code",
   "execution_count": 74,
   "id": "43cd1e0e-b5d3-4f09-a034-d2fd413c8776",
   "metadata": {},
   "outputs": [
    {
     "name": "stderr",
     "output_type": "stream",
     "text": [
      "C:\\Users\\user\\anaconda3\\lib\\site-packages\\sklearn\\base.py:450: UserWarning: X does not have valid feature names, but LogisticRegression was fitted with feature names\n",
      "  warnings.warn(\n"
     ]
    }
   ],
   "source": [
    "if model.predict(sensor) == 0 :\n",
    "    print('mine 입니다')"
   ]
  },
  {
   "cell_type": "raw",
   "id": "b12e3f0e-b4db-477e-b3cd-7a4de8ae146a",
   "metadata": {},
   "source": [
    "#standardScaler : 평균을 제거하고 단위 분산에 맞게 조정하여 기능을 표준화\n",
    "#MinMaxScaler : 주어진 범위(예: 0과 1 사이)에 있도록 각 기능을 개별적으로 확장 및 변환"
   ]
  },
  {
   "cell_type": "code",
   "execution_count": 75,
   "id": "9de34873-54c9-4744-9c80-8ca5a251ef1d",
   "metadata": {
    "collapsed": true,
    "jupyter": {
     "outputs_hidden": true
    },
    "tags": []
   },
   "outputs": [
    {
     "name": "stdout",
     "output_type": "stream",
     "text": [
      "attribute_1\n",
      "0.029163942307692307\n",
      "0.0228\n",
      "-----\n",
      "attribute_2\n",
      "0.03843653846153848\n",
      "0.0308\n",
      "-----\n",
      "attribute_3\n",
      "0.04383221153846154\n",
      "0.0343\n",
      "-----\n",
      "attribute_4\n",
      "0.05389230769230771\n",
      "0.04405\n",
      "-----\n",
      "attribute_5\n",
      "0.07520240384615384\n",
      "0.0625\n",
      "-----\n",
      "attribute_6\n",
      "0.10457019230769235\n",
      "0.09215000000000001\n",
      "-----\n",
      "attribute_7\n",
      "0.1217466346153847\n",
      "0.10694999999999999\n",
      "-----\n",
      "attribute_8\n",
      "0.13479903846153843\n",
      "0.1121\n",
      "-----\n",
      "attribute_9\n",
      "0.17800288461538455\n",
      "0.15225\n",
      "-----\n",
      "attribute_10\n",
      "0.2082591346153846\n",
      "0.1824\n",
      "-----\n",
      "attribute_11\n",
      "0.2360129807692308\n",
      "0.2248\n",
      "-----\n",
      "attribute_12\n",
      "0.25022115384615395\n",
      "0.24905\n",
      "-----\n",
      "attribute_13\n",
      "0.2733052884615385\n",
      "0.26395\n",
      "-----\n",
      "attribute_14\n",
      "0.2965682692307692\n",
      "0.2811\n",
      "-----\n",
      "attribute_15\n",
      "0.32020144230769243\n",
      "0.28169999999999995\n",
      "-----\n",
      "attribute_16\n",
      "0.3784865384615385\n",
      "0.30469999999999997\n",
      "-----\n",
      "attribute_17\n",
      "0.4159831730769229\n",
      "0.3084\n",
      "-----\n",
      "attribute_18\n",
      "0.4523182692307695\n",
      "0.3683\n",
      "-----\n",
      "attribute_19\n",
      "0.5048115384615385\n",
      "0.43495\n",
      "-----\n",
      "attribute_20\n",
      "0.5630466346153848\n",
      "0.5425\n",
      "-----\n",
      "attribute_21\n",
      "0.609060096153846\n",
      "0.6176999999999999\n",
      "-----\n",
      "attribute_22\n",
      "0.6242750000000001\n",
      "0.6649\n",
      "-----\n",
      "attribute_23\n",
      "0.6469750000000002\n",
      "0.6997\n",
      "-----\n",
      "attribute_24\n",
      "0.6726543269230771\n",
      "0.6985\n",
      "-----\n",
      "attribute_25\n",
      "0.675423557692308\n",
      "0.7211\n",
      "-----\n",
      "attribute_26\n",
      "0.699866346153846\n",
      "0.7545\n",
      "-----\n",
      "attribute_27\n",
      "0.7021548076923081\n",
      "0.7456\n",
      "-----\n",
      "attribute_28\n",
      "0.6940240384615385\n",
      "0.7319\n",
      "-----\n",
      "attribute_29\n",
      "0.6420740384615382\n",
      "0.6808000000000001\n",
      "-----\n",
      "attribute_30\n",
      "0.5809278846153845\n",
      "0.6071500000000001\n",
      "-----\n",
      "attribute_31\n",
      "0.5044754807692308\n",
      "0.49034999999999995\n",
      "-----\n",
      "attribute_32\n",
      "0.4390403846153847\n",
      "0.4296\n",
      "-----\n",
      "attribute_33\n",
      "0.4172197115384614\n",
      "0.3912\n",
      "-----\n",
      "attribute_34\n",
      "0.40323317307692325\n",
      "0.35105\n",
      "-----\n",
      "attribute_35\n",
      "0.3925711538461537\n",
      "0.31275\n",
      "-----\n",
      "attribute_36\n",
      "0.3848475961538464\n",
      "0.32115\n",
      "-----\n",
      "attribute_37\n",
      "0.3638067307692309\n",
      "0.3063\n",
      "-----\n",
      "attribute_38\n",
      "0.3396572115384615\n",
      "0.3127\n",
      "-----\n",
      "attribute_39\n",
      "0.3257995192307692\n",
      "0.2835\n",
      "-----\n",
      "attribute_40\n",
      "0.3112067307692309\n",
      "0.27805\n",
      "-----\n",
      "attribute_41\n",
      "0.28925192307692316\n",
      "0.2595\n",
      "-----\n",
      "attribute_42\n",
      "0.27829326923076914\n",
      "0.24509999999999998\n",
      "-----\n",
      "attribute_43\n",
      "0.24654182692307686\n",
      "0.22255\n",
      "-----\n",
      "attribute_44\n",
      "0.21407500000000004\n",
      "0.17770000000000002\n",
      "-----\n",
      "attribute_45\n",
      "0.1972322115384616\n",
      "0.148\n",
      "-----\n",
      "attribute_46\n",
      "0.16063124999999995\n",
      "0.12135\n",
      "-----\n",
      "attribute_47\n",
      "0.12245288461538466\n",
      "0.10165\n",
      "-----\n",
      "attribute_48\n",
      "0.09142403846153843\n",
      "0.0781\n",
      "-----\n",
      "attribute_49\n",
      "0.05192884615384616\n",
      "0.044700000000000004\n",
      "-----\n",
      "attribute_50\n",
      "0.02042403846153846\n",
      "0.0179\n",
      "-----\n",
      "attribute_51\n",
      "0.016068750000000007\n",
      "0.0139\n",
      "-----\n",
      "attribute_52\n",
      "0.013420192307692317\n",
      "0.0114\n",
      "-----\n",
      "attribute_53\n",
      "0.010709134615384612\n",
      "0.00955\n",
      "-----\n",
      "attribute_54\n",
      "0.010940865384615391\n",
      "0.0093\n",
      "-----\n",
      "attribute_55\n",
      "0.009290384615384615\n",
      "0.0075\n",
      "-----\n",
      "attribute_56\n",
      "0.008221634615384612\n",
      "0.00685\n",
      "-----\n",
      "attribute_57\n",
      "0.00782019230769231\n",
      "0.00595\n",
      "-----\n",
      "attribute_58\n",
      "0.007949038461538457\n",
      "0.0058\n",
      "-----\n",
      "attribute_59\n",
      "0.007941346153846155\n",
      "0.0063999999999999994\n",
      "-----\n",
      "attribute_60\n",
      "0.006507211538461542\n",
      "0.0053\n",
      "-----\n"
     ]
    }
   ],
   "source": [
    "for c in sonar.drop('Class', axis=1).columns :\n",
    "    print(c)\n",
    "    print(sonar[c].mean())\n",
    "    print(sonar[c].median())\n",
    "    print('-----')"
   ]
  },
  {
   "cell_type": "code",
   "execution_count": 76,
   "id": "bf75ceb6-4b64-4a87-9fef-f47bb3115bd7",
   "metadata": {},
   "outputs": [
    {
     "data": {
      "text/html": [
       "<div>\n",
       "<style scoped>\n",
       "    .dataframe tbody tr th:only-of-type {\n",
       "        vertical-align: middle;\n",
       "    }\n",
       "\n",
       "    .dataframe tbody tr th {\n",
       "        vertical-align: top;\n",
       "    }\n",
       "\n",
       "    .dataframe thead th {\n",
       "        text-align: right;\n",
       "    }\n",
       "</style>\n",
       "<table border=\"1\" class=\"dataframe\">\n",
       "  <thead>\n",
       "    <tr style=\"text-align: right;\">\n",
       "      <th></th>\n",
       "      <th>attribute_1</th>\n",
       "      <th>attribute_2</th>\n",
       "      <th>attribute_3</th>\n",
       "      <th>attribute_4</th>\n",
       "      <th>attribute_5</th>\n",
       "      <th>attribute_6</th>\n",
       "      <th>attribute_7</th>\n",
       "      <th>attribute_8</th>\n",
       "      <th>attribute_9</th>\n",
       "      <th>attribute_10</th>\n",
       "      <th>...</th>\n",
       "      <th>attribute_51</th>\n",
       "      <th>attribute_52</th>\n",
       "      <th>attribute_53</th>\n",
       "      <th>attribute_54</th>\n",
       "      <th>attribute_55</th>\n",
       "      <th>attribute_56</th>\n",
       "      <th>attribute_57</th>\n",
       "      <th>attribute_58</th>\n",
       "      <th>attribute_59</th>\n",
       "      <th>attribute_60</th>\n",
       "    </tr>\n",
       "  </thead>\n",
       "  <tbody>\n",
       "    <tr>\n",
       "      <th>count</th>\n",
       "      <td>208.000000</td>\n",
       "      <td>208.000000</td>\n",
       "      <td>208.000000</td>\n",
       "      <td>208.000000</td>\n",
       "      <td>208.000000</td>\n",
       "      <td>208.000000</td>\n",
       "      <td>208.000000</td>\n",
       "      <td>208.000000</td>\n",
       "      <td>208.000000</td>\n",
       "      <td>208.000000</td>\n",
       "      <td>...</td>\n",
       "      <td>208.000000</td>\n",
       "      <td>208.000000</td>\n",
       "      <td>208.000000</td>\n",
       "      <td>208.000000</td>\n",
       "      <td>208.000000</td>\n",
       "      <td>208.000000</td>\n",
       "      <td>208.000000</td>\n",
       "      <td>208.000000</td>\n",
       "      <td>208.000000</td>\n",
       "      <td>208.000000</td>\n",
       "    </tr>\n",
       "    <tr>\n",
       "      <th>mean</th>\n",
       "      <td>0.029164</td>\n",
       "      <td>0.038437</td>\n",
       "      <td>0.043832</td>\n",
       "      <td>0.053892</td>\n",
       "      <td>0.075202</td>\n",
       "      <td>0.104570</td>\n",
       "      <td>0.121747</td>\n",
       "      <td>0.134799</td>\n",
       "      <td>0.178003</td>\n",
       "      <td>0.208259</td>\n",
       "      <td>...</td>\n",
       "      <td>0.016069</td>\n",
       "      <td>0.013420</td>\n",
       "      <td>0.010709</td>\n",
       "      <td>0.010941</td>\n",
       "      <td>0.009290</td>\n",
       "      <td>0.008222</td>\n",
       "      <td>0.007820</td>\n",
       "      <td>0.007949</td>\n",
       "      <td>0.007941</td>\n",
       "      <td>0.006507</td>\n",
       "    </tr>\n",
       "    <tr>\n",
       "      <th>std</th>\n",
       "      <td>0.022991</td>\n",
       "      <td>0.032960</td>\n",
       "      <td>0.038428</td>\n",
       "      <td>0.046528</td>\n",
       "      <td>0.055552</td>\n",
       "      <td>0.059105</td>\n",
       "      <td>0.061788</td>\n",
       "      <td>0.085152</td>\n",
       "      <td>0.118387</td>\n",
       "      <td>0.134416</td>\n",
       "      <td>...</td>\n",
       "      <td>0.012008</td>\n",
       "      <td>0.009634</td>\n",
       "      <td>0.007060</td>\n",
       "      <td>0.007301</td>\n",
       "      <td>0.007088</td>\n",
       "      <td>0.005736</td>\n",
       "      <td>0.005785</td>\n",
       "      <td>0.006470</td>\n",
       "      <td>0.006181</td>\n",
       "      <td>0.005031</td>\n",
       "    </tr>\n",
       "    <tr>\n",
       "      <th>min</th>\n",
       "      <td>0.001500</td>\n",
       "      <td>0.000600</td>\n",
       "      <td>0.001500</td>\n",
       "      <td>0.005800</td>\n",
       "      <td>0.006700</td>\n",
       "      <td>0.010200</td>\n",
       "      <td>0.003300</td>\n",
       "      <td>0.005500</td>\n",
       "      <td>0.007500</td>\n",
       "      <td>0.011300</td>\n",
       "      <td>...</td>\n",
       "      <td>0.000000</td>\n",
       "      <td>0.000800</td>\n",
       "      <td>0.000500</td>\n",
       "      <td>0.001000</td>\n",
       "      <td>0.000600</td>\n",
       "      <td>0.000400</td>\n",
       "      <td>0.000300</td>\n",
       "      <td>0.000300</td>\n",
       "      <td>0.000100</td>\n",
       "      <td>0.000600</td>\n",
       "    </tr>\n",
       "    <tr>\n",
       "      <th>25%</th>\n",
       "      <td>0.013350</td>\n",
       "      <td>0.016450</td>\n",
       "      <td>0.018950</td>\n",
       "      <td>0.024375</td>\n",
       "      <td>0.038050</td>\n",
       "      <td>0.067025</td>\n",
       "      <td>0.080900</td>\n",
       "      <td>0.080425</td>\n",
       "      <td>0.097025</td>\n",
       "      <td>0.111275</td>\n",
       "      <td>...</td>\n",
       "      <td>0.008425</td>\n",
       "      <td>0.007275</td>\n",
       "      <td>0.005075</td>\n",
       "      <td>0.005375</td>\n",
       "      <td>0.004150</td>\n",
       "      <td>0.004400</td>\n",
       "      <td>0.003700</td>\n",
       "      <td>0.003600</td>\n",
       "      <td>0.003675</td>\n",
       "      <td>0.003100</td>\n",
       "    </tr>\n",
       "    <tr>\n",
       "      <th>50%</th>\n",
       "      <td>0.022800</td>\n",
       "      <td>0.030800</td>\n",
       "      <td>0.034300</td>\n",
       "      <td>0.044050</td>\n",
       "      <td>0.062500</td>\n",
       "      <td>0.092150</td>\n",
       "      <td>0.106950</td>\n",
       "      <td>0.112100</td>\n",
       "      <td>0.152250</td>\n",
       "      <td>0.182400</td>\n",
       "      <td>...</td>\n",
       "      <td>0.013900</td>\n",
       "      <td>0.011400</td>\n",
       "      <td>0.009550</td>\n",
       "      <td>0.009300</td>\n",
       "      <td>0.007500</td>\n",
       "      <td>0.006850</td>\n",
       "      <td>0.005950</td>\n",
       "      <td>0.005800</td>\n",
       "      <td>0.006400</td>\n",
       "      <td>0.005300</td>\n",
       "    </tr>\n",
       "    <tr>\n",
       "      <th>75%</th>\n",
       "      <td>0.035550</td>\n",
       "      <td>0.047950</td>\n",
       "      <td>0.057950</td>\n",
       "      <td>0.064500</td>\n",
       "      <td>0.100275</td>\n",
       "      <td>0.134125</td>\n",
       "      <td>0.154000</td>\n",
       "      <td>0.169600</td>\n",
       "      <td>0.233425</td>\n",
       "      <td>0.268700</td>\n",
       "      <td>...</td>\n",
       "      <td>0.020825</td>\n",
       "      <td>0.016725</td>\n",
       "      <td>0.014900</td>\n",
       "      <td>0.014500</td>\n",
       "      <td>0.012100</td>\n",
       "      <td>0.010575</td>\n",
       "      <td>0.010425</td>\n",
       "      <td>0.010350</td>\n",
       "      <td>0.010325</td>\n",
       "      <td>0.008525</td>\n",
       "    </tr>\n",
       "    <tr>\n",
       "      <th>max</th>\n",
       "      <td>0.137100</td>\n",
       "      <td>0.233900</td>\n",
       "      <td>0.305900</td>\n",
       "      <td>0.426400</td>\n",
       "      <td>0.401000</td>\n",
       "      <td>0.382300</td>\n",
       "      <td>0.372900</td>\n",
       "      <td>0.459000</td>\n",
       "      <td>0.682800</td>\n",
       "      <td>0.710600</td>\n",
       "      <td>...</td>\n",
       "      <td>0.100400</td>\n",
       "      <td>0.070900</td>\n",
       "      <td>0.039000</td>\n",
       "      <td>0.035200</td>\n",
       "      <td>0.044700</td>\n",
       "      <td>0.039400</td>\n",
       "      <td>0.035500</td>\n",
       "      <td>0.044000</td>\n",
       "      <td>0.036400</td>\n",
       "      <td>0.043900</td>\n",
       "    </tr>\n",
       "  </tbody>\n",
       "</table>\n",
       "<p>8 rows × 60 columns</p>\n",
       "</div>"
      ],
      "text/plain": [
       "       attribute_1  attribute_2  attribute_3  attribute_4  attribute_5  \\\n",
       "count   208.000000   208.000000   208.000000   208.000000   208.000000   \n",
       "mean      0.029164     0.038437     0.043832     0.053892     0.075202   \n",
       "std       0.022991     0.032960     0.038428     0.046528     0.055552   \n",
       "min       0.001500     0.000600     0.001500     0.005800     0.006700   \n",
       "25%       0.013350     0.016450     0.018950     0.024375     0.038050   \n",
       "50%       0.022800     0.030800     0.034300     0.044050     0.062500   \n",
       "75%       0.035550     0.047950     0.057950     0.064500     0.100275   \n",
       "max       0.137100     0.233900     0.305900     0.426400     0.401000   \n",
       "\n",
       "       attribute_6  attribute_7  attribute_8  attribute_9  attribute_10  ...  \\\n",
       "count   208.000000   208.000000   208.000000   208.000000    208.000000  ...   \n",
       "mean      0.104570     0.121747     0.134799     0.178003      0.208259  ...   \n",
       "std       0.059105     0.061788     0.085152     0.118387      0.134416  ...   \n",
       "min       0.010200     0.003300     0.005500     0.007500      0.011300  ...   \n",
       "25%       0.067025     0.080900     0.080425     0.097025      0.111275  ...   \n",
       "50%       0.092150     0.106950     0.112100     0.152250      0.182400  ...   \n",
       "75%       0.134125     0.154000     0.169600     0.233425      0.268700  ...   \n",
       "max       0.382300     0.372900     0.459000     0.682800      0.710600  ...   \n",
       "\n",
       "       attribute_51  attribute_52  attribute_53  attribute_54  attribute_55  \\\n",
       "count    208.000000    208.000000    208.000000    208.000000    208.000000   \n",
       "mean       0.016069      0.013420      0.010709      0.010941      0.009290   \n",
       "std        0.012008      0.009634      0.007060      0.007301      0.007088   \n",
       "min        0.000000      0.000800      0.000500      0.001000      0.000600   \n",
       "25%        0.008425      0.007275      0.005075      0.005375      0.004150   \n",
       "50%        0.013900      0.011400      0.009550      0.009300      0.007500   \n",
       "75%        0.020825      0.016725      0.014900      0.014500      0.012100   \n",
       "max        0.100400      0.070900      0.039000      0.035200      0.044700   \n",
       "\n",
       "       attribute_56  attribute_57  attribute_58  attribute_59  attribute_60  \n",
       "count    208.000000    208.000000    208.000000    208.000000    208.000000  \n",
       "mean       0.008222      0.007820      0.007949      0.007941      0.006507  \n",
       "std        0.005736      0.005785      0.006470      0.006181      0.005031  \n",
       "min        0.000400      0.000300      0.000300      0.000100      0.000600  \n",
       "25%        0.004400      0.003700      0.003600      0.003675      0.003100  \n",
       "50%        0.006850      0.005950      0.005800      0.006400      0.005300  \n",
       "75%        0.010575      0.010425      0.010350      0.010325      0.008525  \n",
       "max        0.039400      0.035500      0.044000      0.036400      0.043900  \n",
       "\n",
       "[8 rows x 60 columns]"
      ]
     },
     "execution_count": 76,
     "metadata": {},
     "output_type": "execute_result"
    }
   ],
   "source": [
    "sonar.describe()"
   ]
  },
  {
   "cell_type": "markdown",
   "id": "7e064769-3548-4df9-800a-c7cdb35c2259",
   "metadata": {},
   "source": [
    "# 학습 시키기 3"
   ]
  },
  {
   "cell_type": "raw",
   "id": "0deedd85-50d1-4da4-9239-0a69520ad787",
   "metadata": {},
   "source": [
    "#standardScaler : 평균을 제거하고 단위 분산에 맞게 조정하여 기능을 표준화"
   ]
  },
  {
   "cell_type": "code",
   "execution_count": 77,
   "id": "107b2731-d19c-4708-8841-0c904bd1f5ed",
   "metadata": {},
   "outputs": [],
   "source": [
    "from sklearn.preprocessing import StandardScaler\n",
    "from sklearn.linear_model import LogisticRegression"
   ]
  },
  {
   "cell_type": "code",
   "execution_count": 78,
   "id": "e612b223-6464-44e0-81f2-96b466a48453",
   "metadata": {},
   "outputs": [],
   "source": [
    "scaler = StandardScaler()"
   ]
  },
  {
   "cell_type": "code",
   "execution_count": 79,
   "id": "ee99d99e-4160-4a45-8639-895283530a64",
   "metadata": {},
   "outputs": [],
   "source": [
    "x_train = scaler.fit_transform(x_train)\n",
    "#x_train 을 sccaler 에 학습시켜서 transform 으로 각각 학습 \n",
    "x_test = scaler.transform(x_test)\n",
    "#본래의 x_test를 표준화 변화만 시킨거 "
   ]
  },
  {
   "cell_type": "code",
   "execution_count": 80,
   "id": "e8a38e2b-9fbf-4a14-b9a1-eeb7c36085d5",
   "metadata": {},
   "outputs": [
    {
     "data": {
      "text/plain": [
       "array([[ 0.43842592, -0.82597191, -0.43050828, ..., -0.55677057,\n",
       "        -0.90845389, -0.99275199],\n",
       "       [ 0.70074558,  0.41166228,  1.04312784, ..., -0.48133505,\n",
       "        -0.43934248, -0.40089879],\n",
       "       [ 0.35671979, -0.31004247, -0.52005214, ..., -0.40589954,\n",
       "         0.07668006, -0.08524374],\n",
       "       ...,\n",
       "       [ 0.3782214 , -0.19969919, -0.0313985 , ..., -0.28520272,\n",
       "        -0.5800759 , -0.22334282],\n",
       "       [-0.7355621 ,  0.58761509,  0.48028071, ..., -0.11924459,\n",
       "        -0.78335751,  1.4535746 ],\n",
       "       [ 3.4314503 ,  2.66326183,  1.25547471, ...,  1.87225297,\n",
       "         1.53092542,  2.42026817]])"
      ]
     },
     "execution_count": 80,
     "metadata": {},
     "output_type": "execute_result"
    }
   ],
   "source": [
    "x_train"
   ]
  },
  {
   "cell_type": "code",
   "execution_count": 81,
   "id": "5efcaa6b-22e0-4e09-9a30-fcdfcaec9031",
   "metadata": {},
   "outputs": [],
   "source": [
    "model = LogisticRegression()"
   ]
  },
  {
   "cell_type": "code",
   "execution_count": 82,
   "id": "68cf681f-98c3-487c-8ba8-bcc3f4ee87a7",
   "metadata": {},
   "outputs": [
    {
     "name": "stdout",
     "output_type": "stream",
     "text": [
      "(187, 60) (187,)\n"
     ]
    }
   ],
   "source": [
    "print(x_train.shape, y_train.shape)"
   ]
  },
  {
   "cell_type": "code",
   "execution_count": 84,
   "id": "522ce876-ee8b-41bb-8e1e-d9a09a3f4906",
   "metadata": {},
   "outputs": [
    {
     "data": {
      "text/plain": [
       "LogisticRegression()"
      ]
     },
     "execution_count": 84,
     "metadata": {},
     "output_type": "execute_result"
    }
   ],
   "source": [
    "model.fit(x_train, y_train)"
   ]
  },
  {
   "cell_type": "code",
   "execution_count": 85,
   "id": "34a435da-cab5-4a6e-9d91-4d0fd20fb6d5",
   "metadata": {},
   "outputs": [
    {
     "data": {
      "text/plain": [
       "0.93048128342246"
      ]
     },
     "execution_count": 85,
     "metadata": {},
     "output_type": "execute_result"
    }
   ],
   "source": [
    "model.score(x_train, y_train)"
   ]
  },
  {
   "cell_type": "code",
   "execution_count": 86,
   "id": "3ea6107e-ba28-43fd-9320-6ab4017df4b6",
   "metadata": {},
   "outputs": [
    {
     "data": {
      "text/plain": [
       "0.8571428571428571"
      ]
     },
     "execution_count": 86,
     "metadata": {},
     "output_type": "execute_result"
    }
   ],
   "source": [
    "model.score(x_test, y_test)"
   ]
  },
  {
   "cell_type": "raw",
   "id": "6b72838e-6f0f-4739-ba24-b81639426e44",
   "metadata": {},
   "source": [
    "# 데이터 -> scale -> train/test -> fit학습 -> score검증\n",
    "# 데이터 -> train/test ->scale -> fit학습 -> score검증 \n",
    "# real -> scale -> predict예측"
   ]
  },
  {
   "cell_type": "markdown",
   "id": "16fec2eb-0228-4f0c-9572-a192ef0d4056",
   "metadata": {},
   "source": [
    "# 데이터 저장"
   ]
  },
  {
   "cell_type": "code",
   "execution_count": 88,
   "id": "33a22111-9120-495b-a62f-4aa13d6c1aa5",
   "metadata": {},
   "outputs": [],
   "source": [
    "import pickle \n",
    "# pickle : 저장 "
   ]
  },
  {
   "cell_type": "code",
   "execution_count": 89,
   "id": "b39e04af-12cf-49d8-a1b8-e4720583625e",
   "metadata": {},
   "outputs": [
    {
     "data": {
      "text/plain": [
       "StandardScaler()"
      ]
     },
     "execution_count": 89,
     "metadata": {},
     "output_type": "execute_result"
    }
   ],
   "source": [
    "scaler"
   ]
  },
  {
   "cell_type": "code",
   "execution_count": 90,
   "id": "bfbc64a2-f25d-4366-a6b4-5fc37e81c112",
   "metadata": {},
   "outputs": [],
   "source": [
    "# WITH OPEN ~ AS 어떠한 파일을 어떻게 하겠다 \n",
    "# ('a','wb') a라는 파일을 wb 만들겠다 \n",
    "with open ('scaler.pk2','wb') as f :\n",
    "    pickle.dump(scaler, f)"
   ]
  },
  {
   "cell_type": "code",
   "execution_count": 91,
   "id": "e276ae74-4cc0-49cc-a106-d2362f32af87",
   "metadata": {},
   "outputs": [],
   "source": [
    "with open('model.pk2','wb') as f :\n",
    "    pickle.dump(model, f)"
   ]
  },
  {
   "cell_type": "code",
   "execution_count": null,
   "id": "88f91df4-dd53-4cdc-ba29-3660bfbc9924",
   "metadata": {},
   "outputs": [],
   "source": []
  }
 ],
 "metadata": {
  "kernelspec": {
   "display_name": "Python 3 (ipykernel)",
   "language": "python",
   "name": "python3"
  },
  "language_info": {
   "codemirror_mode": {
    "name": "ipython",
    "version": 3
   },
   "file_extension": ".py",
   "mimetype": "text/x-python",
   "name": "python",
   "nbconvert_exporter": "python",
   "pygments_lexer": "ipython3",
   "version": "3.9.12"
  }
 },
 "nbformat": 4,
 "nbformat_minor": 5
}
