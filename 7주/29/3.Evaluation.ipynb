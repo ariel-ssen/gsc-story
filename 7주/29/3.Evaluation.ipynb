{
 "cells": [
  {
   "cell_type": "code",
   "execution_count": 1,
   "id": "92b24d2b-8cb6-42d5-9c93-e77473cc9888",
   "metadata": {},
   "outputs": [],
   "source": [
    "from sklearn.model_selection import train_test_split\n",
    "from sklearn.neighbors import KNeighborsRegressor\n",
    "from sklearn.linear_model import LinearRegression\n",
    "from sklearn.metrics import mean_squared_error\n",
    "import numpy as np\n",
    "import pandas as pd\n",
    "from sklearn import datasets"
   ]
  },
  {
   "cell_type": "code",
   "execution_count": 2,
   "id": "dbd9587b-0c2d-4c7b-adf7-8b77455ed4fe",
   "metadata": {},
   "outputs": [],
   "source": [
    "diabates = datasets.load_diabetes()"
   ]
  },
  {
   "cell_type": "code",
   "execution_count": 3,
   "id": "a2e6726e-24c3-4c72-9e25-1f70cfa5281b",
   "metadata": {},
   "outputs": [],
   "source": [
    "x_train,x_test, y_train, y_test = train_test_split(diabates.data,diabates.target, random_state=0)"
   ]
  },
  {
   "cell_type": "code",
   "execution_count": 4,
   "id": "9baa606a-c36a-4bad-88b8-4caffa7c0d2c",
   "metadata": {},
   "outputs": [],
   "source": [
    "X = diabates.data\n",
    "Y = diabates.target"
   ]
  },
  {
   "cell_type": "code",
   "execution_count": 5,
   "id": "80bcba9b-ac1c-49ca-a5e8-9b7222c475e5",
   "metadata": {},
   "outputs": [],
   "source": [
    "model =KNeighborsRegressor(n_neighbors=10)"
   ]
  },
  {
   "cell_type": "code",
   "execution_count": 6,
   "id": "6e2be9f2-b39d-4c1a-bb3d-5b7f8a91ce53",
   "metadata": {},
   "outputs": [],
   "source": [
    "from sklearn.model_selection import cross_val_score"
   ]
  },
  {
   "cell_type": "code",
   "execution_count": 7,
   "id": "58a14ca4-916c-4b92-ade2-26a4ba121465",
   "metadata": {},
   "outputs": [
    {
     "data": {
      "text/plain": [
       "array([-3638.09608696, -3477.78652174, -2571.33272727, -3362.85954545,\n",
       "       -4926.82818182, -3206.47136364, -3862.90363636, -2739.51181818,\n",
       "       -3286.46545455, -4137.58954545, -3692.85863636, -3893.84772727,\n",
       "       -4174.85318182, -3654.00818182, -2523.64590909, -2058.01363636,\n",
       "       -3700.51727273, -4414.285     , -3204.05      , -2245.77545455])"
      ]
     },
     "execution_count": 7,
     "metadata": {},
     "output_type": "execute_result"
    }
   ],
   "source": [
    "cross_val_score(model, X,Y, cv=20 ,scoring =\"neg_mean_squared_error\")"
   ]
  },
  {
   "cell_type": "code",
   "execution_count": 8,
   "id": "f63a9fce-5d8d-4047-b5f4-39c193bb9d78",
   "metadata": {},
   "outputs": [],
   "source": [
    "from sklearn.neighbors import KNeighborsClassifier"
   ]
  },
  {
   "cell_type": "code",
   "execution_count": 9,
   "id": "41348128-ad21-4c1c-8fba-26a03fb7c542",
   "metadata": {},
   "outputs": [],
   "source": [
    "iris = datasets.load_iris()"
   ]
  },
  {
   "cell_type": "code",
   "execution_count": 10,
   "id": "59849b9f-321c-402f-9e63-13b142fb35b5",
   "metadata": {},
   "outputs": [],
   "source": [
    "model = KNeighborsClassifier()"
   ]
  },
  {
   "cell_type": "code",
   "execution_count": 11,
   "id": "675d59f5-b5c8-4e6e-84ad-bce9f8bfac1f",
   "metadata": {},
   "outputs": [
    {
     "data": {
      "text/plain": [
       "array([0.96666667, 1.        , 0.93333333, 0.96666667, 1.        ])"
      ]
     },
     "execution_count": 11,
     "metadata": {},
     "output_type": "execute_result"
    }
   ],
   "source": [
    "cross_val_score(model, iris.data, iris.target, cv=5 )"
   ]
  },
  {
   "cell_type": "code",
   "execution_count": 12,
   "id": "703baa95-1793-45ba-a89b-b468f258ec1f",
   "metadata": {},
   "outputs": [],
   "source": [
    "from sklearn.model_selection import KFold\n",
    "import numpy as np"
   ]
  },
  {
   "cell_type": "code",
   "execution_count": 13,
   "id": "3cd767b5-39b8-4822-9fcd-50b039c308b4",
   "metadata": {},
   "outputs": [],
   "source": [
    "X = np.array([['N','Y'],['Y','Y'],['N','Y'],['Y','Y'],['Y','Y'],['Y','Y']])"
   ]
  },
  {
   "cell_type": "code",
   "execution_count": 14,
   "id": "b1f6fed9-c4e2-4ed5-9c78-4e4d1374124e",
   "metadata": {},
   "outputs": [],
   "source": [
    "Y = np.array(['cat','dog','cat','dog','dog','dog'])"
   ]
  },
  {
   "cell_type": "code",
   "execution_count": 15,
   "id": "08f553d9-0c54-45f8-a5b1-37708ab87210",
   "metadata": {},
   "outputs": [],
   "source": [
    "kf = KFold(2)"
   ]
  },
  {
   "cell_type": "code",
   "execution_count": 16,
   "id": "206e3d60-58b9-4529-ab6f-e457a2f7b79d",
   "metadata": {},
   "outputs": [
    {
     "data": {
      "text/plain": [
       "[(array([3, 4, 5]), array([0, 1, 2])), (array([0, 1, 2]), array([3, 4, 5]))]"
      ]
     },
     "execution_count": 16,
     "metadata": {},
     "output_type": "execute_result"
    }
   ],
   "source": [
    "list(kf.split(X))"
   ]
  },
  {
   "cell_type": "code",
   "execution_count": 17,
   "id": "ab14f156-9e0b-4b99-9cf4-7e68a7fbbcc4",
   "metadata": {},
   "outputs": [
    {
     "name": "stdout",
     "output_type": "stream",
     "text": [
      "Train [3 4 5]\n",
      "[['Y' 'Y']\n",
      " ['Y' 'Y']\n",
      " ['Y' 'Y']] / ['dog' 'dog' 'dog']\n",
      "Test [0 1 2]\n",
      "[['N' 'Y']\n",
      " ['Y' 'Y']\n",
      " ['N' 'Y']] / ['cat' 'dog' 'cat']\n",
      "--------------------------------------\n",
      "Train [0 1 2]\n",
      "[['N' 'Y']\n",
      " ['Y' 'Y']\n",
      " ['N' 'Y']] / ['cat' 'dog' 'cat']\n",
      "Test [3 4 5]\n",
      "[['Y' 'Y']\n",
      " ['Y' 'Y']\n",
      " ['Y' 'Y']] / ['dog' 'dog' 'dog']\n",
      "--------------------------------------\n"
     ]
    }
   ],
   "source": [
    "for train_index, test_index in kf.split(X) :\n",
    "    x_train, x_test = X[train_index], X[test_index]\n",
    "    y_train, y_test = Y[train_index], Y[test_index]\n",
    "    print('Train', train_index)\n",
    "    print(x_train, '/' , y_train)\n",
    "    print('Test', test_index)\n",
    "    print(x_test, '/' , y_test)\n",
    "    print('--------------------------------------')"
   ]
  },
  {
   "cell_type": "code",
   "execution_count": 18,
   "id": "53ddac85-f95c-4d32-a1d5-4461caab5900",
   "metadata": {},
   "outputs": [],
   "source": [
    "from sklearn.model_selection import StratifiedGroupKFold"
   ]
  },
  {
   "cell_type": "code",
   "execution_count": 19,
   "id": "a64a36bb-baff-4ef2-b612-d246be6ea581",
   "metadata": {},
   "outputs": [],
   "source": [
    "skf = StratifiedGroupKFold(2)"
   ]
  },
  {
   "cell_type": "code",
   "execution_count": 20,
   "id": "df95b40c-ece5-4b9f-9743-fe466065fdc3",
   "metadata": {},
   "outputs": [
    {
     "name": "stdout",
     "output_type": "stream",
     "text": [
      "Train [3 4 5]\n",
      "[['Y' 'Y']\n",
      " ['Y' 'Y']\n",
      " ['Y' 'Y']] / ['dog' 'dog' 'dog']\n",
      "Test [0 1 2]\n",
      "[['N' 'Y']\n",
      " ['Y' 'Y']\n",
      " ['N' 'Y']] / ['cat' 'dog' 'cat']\n",
      "--------------------------------------\n",
      "Train [0 1 2]\n",
      "[['N' 'Y']\n",
      " ['Y' 'Y']\n",
      " ['N' 'Y']] / ['cat' 'dog' 'cat']\n",
      "Test [3 4 5]\n",
      "[['Y' 'Y']\n",
      " ['Y' 'Y']\n",
      " ['Y' 'Y']] / ['dog' 'dog' 'dog']\n",
      "--------------------------------------\n"
     ]
    }
   ],
   "source": [
    "for train_index, test_index in kf.split(X, Y) :\n",
    "    x_train, x_test = X[train_index], X[test_index]\n",
    "    y_train, y_test = Y[train_index], Y[test_index]\n",
    "    print('Train', train_index)\n",
    "    print(x_train, '/' , y_train)\n",
    "    print('Test', test_index)\n",
    "    print(x_test, '/' , y_test)\n",
    "    print('--------------------------------------')"
   ]
  },
  {
   "cell_type": "markdown",
   "id": "cb6a33a2-b20e-45bf-847b-8dfac10874a8",
   "metadata": {},
   "source": [
    "--------------------------"
   ]
  },
  {
   "cell_type": "code",
   "execution_count": 21,
   "id": "28556b3d-0b50-4826-b88c-1c7a2ee4aa97",
   "metadata": {},
   "outputs": [],
   "source": [
    "from sklearn import datasets\n",
    "from sklearn.linear_model import LogisticRegression\n",
    "from sklearn.metrics import mean_squared_error\n",
    "from sklearn.model_selection import train_test_split"
   ]
  },
  {
   "cell_type": "code",
   "execution_count": 22,
   "id": "7d43dd6a-773c-481b-bc5e-476e9aaf23a2",
   "metadata": {},
   "outputs": [],
   "source": [
    "lr = LogisticRegression()"
   ]
  },
  {
   "cell_type": "code",
   "execution_count": 23,
   "id": "295a0d1e-5742-498d-a57e-ac7a89a83094",
   "metadata": {},
   "outputs": [],
   "source": [
    "diabets = datasets.load_diabetes()"
   ]
  },
  {
   "cell_type": "code",
   "execution_count": 29,
   "id": "e6396fa9-86d7-4e14-a207-c12d8e9b314f",
   "metadata": {},
   "outputs": [],
   "source": [
    "scores = []\n",
    "for _ in range(10) :\n",
    "    x_train, x_test, y_train, y_test = \\\n",
    "    train_test_split(diabets.data, diabets.target, test_size=0.25)\n",
    "    \n",
    "    lr.fit(x_train, y_train)\n",
    "    preds = lr.predict(x_test)\n",
    "    \n",
    "    score = mean_squared_error(y_test, preds)\n",
    "    scores.append(score)\n",
    "    #print(score)"
   ]
  },
  {
   "cell_type": "code",
   "execution_count": 30,
   "id": "1a232cb6-e792-4115-a71a-d77f397cd67d",
   "metadata": {},
   "outputs": [],
   "source": [
    "df = pd.DataFrame({'RMSE' : np.sqrt(scores)})"
   ]
  },
  {
   "cell_type": "code",
   "execution_count": 31,
   "id": "33a29bf9-b948-45e9-8faa-2e2a99924dab",
   "metadata": {},
   "outputs": [
    {
     "data": {
      "text/html": [
       "<div>\n",
       "<style scoped>\n",
       "    .dataframe tbody tr th:only-of-type {\n",
       "        vertical-align: middle;\n",
       "    }\n",
       "\n",
       "    .dataframe tbody tr th {\n",
       "        vertical-align: top;\n",
       "    }\n",
       "\n",
       "    .dataframe thead th {\n",
       "        text-align: right;\n",
       "    }\n",
       "</style>\n",
       "<table border=\"1\" class=\"dataframe\">\n",
       "  <thead>\n",
       "    <tr style=\"text-align: right;\">\n",
       "      <th></th>\n",
       "      <th>0</th>\n",
       "      <th>1</th>\n",
       "      <th>2</th>\n",
       "      <th>3</th>\n",
       "      <th>4</th>\n",
       "      <th>5</th>\n",
       "      <th>6</th>\n",
       "      <th>7</th>\n",
       "      <th>8</th>\n",
       "      <th>9</th>\n",
       "    </tr>\n",
       "  </thead>\n",
       "  <tbody>\n",
       "    <tr>\n",
       "      <th>RMSE</th>\n",
       "      <td>76.196108</td>\n",
       "      <td>92.801736</td>\n",
       "      <td>91.442297</td>\n",
       "      <td>105.858183</td>\n",
       "      <td>93.125025</td>\n",
       "      <td>123.535712</td>\n",
       "      <td>93.419908</td>\n",
       "      <td>114.20978</td>\n",
       "      <td>102.099492</td>\n",
       "      <td>65.111201</td>\n",
       "    </tr>\n",
       "  </tbody>\n",
       "</table>\n",
       "</div>"
      ],
      "text/plain": [
       "              0          1          2           3          4           5  \\\n",
       "RMSE  76.196108  92.801736  91.442297  105.858183  93.125025  123.535712   \n",
       "\n",
       "              6          7           8          9  \n",
       "RMSE  93.419908  114.20978  102.099492  65.111201  "
      ]
     },
     "execution_count": 31,
     "metadata": {},
     "output_type": "execute_result"
    }
   ],
   "source": [
    "df.T"
   ]
  },
  {
   "cell_type": "code",
   "execution_count": 32,
   "id": "d3fbc908-f788-41b0-b9f4-977eb35103c5",
   "metadata": {},
   "outputs": [],
   "source": [
    "import seaborn as sns"
   ]
  },
  {
   "cell_type": "code",
   "execution_count": 33,
   "id": "e48328b0-2050-480d-ae4d-0e3937f009c4",
   "metadata": {},
   "outputs": [
    {
     "data": {
      "image/png": "[encoded data removed]",
      "text/plain": [
       "<Figure size 432x288 with 1 Axes>"
      ]
     },
     "metadata": {
      "needs_background": "light"
     },
     "output_type": "display_data"
    }
   ],
   "source": [
    "swarm = sns.swarmplot(y = 'RMSE', data = df)"
   ]
  },
  {
   "cell_type": "code",
   "execution_count": 35,
   "id": "9ac6ad68-c684-495a-801d-9cd5caf3c3ca",
   "metadata": {},
   "outputs": [],
   "source": [
    "from sklearn.preprocessing import MinMaxScaler"
   ]
  },
  {
   "cell_type": "code",
   "execution_count": 36,
   "id": "b3fc187b-a167-4c24-ac61-e142f86d21dd",
   "metadata": {},
   "outputs": [],
   "source": [
    "scaler = MinMaxScaler()"
   ]
  },
  {
   "cell_type": "code",
   "execution_count": 37,
   "id": "aaa235a7-854c-4308-ae90-3dd9c7a97b5a",
   "metadata": {},
   "outputs": [],
   "source": [
    "X = scaler.fit_transform(diabets.data)"
   ]
  },
  {
   "cell_type": "code",
   "execution_count": 38,
   "id": "e6f66e6f-50e3-479c-8a41-e98943448a08",
   "metadata": {},
   "outputs": [],
   "source": [
    "scores = []\n",
    "for _ in range(10) :\n",
    "    x_train, x_test, y_train, y_test = \\\n",
    "    train_test_split(X, diabets.target, test_size=0.25)\n",
    "    \n",
    "    lr.fit(x_train, y_train)\n",
    "    preds = lr.predict(x_test)\n",
    "    \n",
    "    score = mean_squared_error(y_test, preds)\n",
    "    scores.append(score)\n",
    "    #print(score)"
   ]
  },
  {
   "cell_type": "code",
   "execution_count": 39,
   "id": "c19f8f19-adf6-4aa2-9e85-466c9bd3c594",
   "metadata": {},
   "outputs": [],
   "source": [
    "df2 = pd.DataFrame({'RMSE' : np.sqrt(scores)})"
   ]
  },
  {
   "cell_type": "code",
   "execution_count": 40,
   "id": "921345e8-e179-413e-a350-b73297ecd90f",
   "metadata": {},
   "outputs": [
    {
     "data": {
      "text/html": [
       "<div>\n",
       "<style scoped>\n",
       "    .dataframe tbody tr th:only-of-type {\n",
       "        vertical-align: middle;\n",
       "    }\n",
       "\n",
       "    .dataframe tbody tr th {\n",
       "        vertical-align: top;\n",
       "    }\n",
       "\n",
       "    .dataframe thead th {\n",
       "        text-align: right;\n",
       "    }\n",
       "</style>\n",
       "<table border=\"1\" class=\"dataframe\">\n",
       "  <thead>\n",
       "    <tr style=\"text-align: right;\">\n",
       "      <th></th>\n",
       "      <th>0</th>\n",
       "      <th>1</th>\n",
       "      <th>2</th>\n",
       "      <th>3</th>\n",
       "      <th>4</th>\n",
       "      <th>5</th>\n",
       "      <th>6</th>\n",
       "      <th>7</th>\n",
       "      <th>8</th>\n",
       "      <th>9</th>\n",
       "    </tr>\n",
       "  </thead>\n",
       "  <tbody>\n",
       "    <tr>\n",
       "      <th>RMSE</th>\n",
       "      <td>79.087476</td>\n",
       "      <td>77.403762</td>\n",
       "      <td>81.110369</td>\n",
       "      <td>79.10792</td>\n",
       "      <td>74.821469</td>\n",
       "      <td>72.466084</td>\n",
       "      <td>82.087846</td>\n",
       "      <td>66.956958</td>\n",
       "      <td>86.057806</td>\n",
       "      <td>85.033062</td>\n",
       "    </tr>\n",
       "  </tbody>\n",
       "</table>\n",
       "</div>"
      ],
      "text/plain": [
       "              0          1          2         3          4          5  \\\n",
       "RMSE  79.087476  77.403762  81.110369  79.10792  74.821469  72.466084   \n",
       "\n",
       "              6          7          8          9  \n",
       "RMSE  82.087846  66.956958  86.057806  85.033062  "
      ]
     },
     "execution_count": 40,
     "metadata": {},
     "output_type": "execute_result"
    }
   ],
   "source": [
    "df2.T"
   ]
  },
  {
   "cell_type": "code",
   "execution_count": 41,
   "id": "97919465-ce69-40c7-8862-e6cf7175cf0f",
   "metadata": {},
   "outputs": [
    {
     "data": {
      "image/png": "[encoded data removed]",
      "text/plain": [
       "<Figure size 432x288 with 1 Axes>"
      ]
     },
     "metadata": {
      "needs_background": "light"
     },
     "output_type": "display_data"
    }
   ],
   "source": [
    "swarm = sns.swarmplot(y = 'RMSE', data = df2)"
   ]
  },
  {
   "cell_type": "code",
   "execution_count": 45,
   "id": "d537f5f0-2c29-4044-bdb0-9f02f57f3475",
   "metadata": {},
   "outputs": [],
   "source": [
    "def tts_fit_score(model, X,Y, evaluation, test_size = 0.25) :\n",
    "    x_train, x_test, y_train, y_test = \\\n",
    "    train_test_split(X, Y, test_size=test_size)\n",
    "    \n",
    "    model.fit(x_train, y_train)\n",
    "    preds = model.predict(x_test)\n",
    "    \n",
    "    score = mean_squared_error(y_test, preds)\n",
    "    return score"
   ]
  },
  {
   "cell_type": "code",
   "execution_count": 46,
   "id": "74be54c4-4d88-45ab-8b92-a16f498f98c7",
   "metadata": {},
   "outputs": [],
   "source": [
    "lr = LinearRegression()\n",
    "diabets = datasets.load_diabetes()"
   ]
  },
  {
   "cell_type": "code",
   "execution_count": 47,
   "id": "169f1885-352b-4479-b5a1-d7932a2c98d3",
   "metadata": {},
   "outputs": [],
   "source": [
    "scores = [ tts_fit_score(lr, diabets.data, diabets.target, mean_squared_error )for _ in range(10)]"
   ]
  },
  {
   "cell_type": "code",
   "execution_count": 48,
   "id": "bbb1b669-b955-45cb-9121-42d010ab382b",
   "metadata": {},
   "outputs": [
    {
     "data": {
      "text/plain": [
       "54.87750790112227"
      ]
     },
     "execution_count": 48,
     "metadata": {},
     "output_type": "execute_result"
    }
   ],
   "source": [
    "np.mean(np.sqrt(scores))"
   ]
  },
  {
   "cell_type": "markdown",
   "id": "e9c4303d-eee9-40ab-8013-bd6b5f6cfa5d",
   "metadata": {},
   "source": [
    "------------------------"
   ]
  },
  {
   "cell_type": "code",
   "execution_count": 49,
   "id": "9507c29b-ecef-4d2c-98b4-291fb10cfdd8",
   "metadata": {},
   "outputs": [],
   "source": [
    "from sklearn.model_selection import ShuffleSplit"
   ]
  },
  {
   "cell_type": "code",
   "execution_count": 54,
   "id": "e85a11fa-b732-4c5a-927d-fc82d5b43468",
   "metadata": {},
   "outputs": [],
   "source": [
    "ss = ShuffleSplit(test_size = 0.25, n_splits = 10 )"
   ]
  },
  {
   "cell_type": "code",
   "execution_count": 55,
   "id": "d72d5e03-c945-430f-9d16-88be227fbff5",
   "metadata": {},
   "outputs": [],
   "source": [
    "lr = LogisticRegression()\n",
    "diabets = datasets.load_diabetes()"
   ]
  },
  {
   "cell_type": "code",
   "execution_count": 56,
   "id": "2e18e939-e528-4c4f-b7d5-b57fe71c2196",
   "metadata": {},
   "outputs": [],
   "source": [
    "scores = cross_val_score(lr, diabets.data, diabets.target,\n",
    "                        cv = ss, scoring= 'neg_mean_squared_error')"
   ]
  },
  {
   "cell_type": "code",
   "execution_count": 57,
   "id": "9cb7eac7-d373-421c-ab52-b46771a7c636",
   "metadata": {},
   "outputs": [
    {
     "data": {
      "text/plain": [
       "array([ -7983.98198198,  -6377.37837838,  -6430.04504505,  -7919.24324324,\n",
       "        -8939.77477477,  -8922.15315315,  -8926.61261261, -10892.91891892,\n",
       "        -7261.97297297, -13000.93693694])"
      ]
     },
     "execution_count": 57,
     "metadata": {},
     "output_type": "execute_result"
    }
   ],
   "source": [
    "scores"
   ]
  },
  {
   "cell_type": "code",
   "execution_count": 58,
   "id": "d3d4e8d7-efba-4fb7-8f68-e3d7ff1bd285",
   "metadata": {},
   "outputs": [],
   "source": [
    "df3 = pd.DataFrame({'RMSE' : np.sqrt(-scores)})"
   ]
  },
  {
   "cell_type": "code",
   "execution_count": 59,
   "id": "5dae73fd-79ee-4a8a-9296-72ec0f59ac94",
   "metadata": {},
   "outputs": [
    {
     "data": {
      "text/html": [
       "<div>\n",
       "<style scoped>\n",
       "    .dataframe tbody tr th:only-of-type {\n",
       "        vertical-align: middle;\n",
       "    }\n",
       "\n",
       "    .dataframe tbody tr th {\n",
       "        vertical-align: top;\n",
       "    }\n",
       "\n",
       "    .dataframe thead th {\n",
       "        text-align: right;\n",
       "    }\n",
       "</style>\n",
       "<table border=\"1\" class=\"dataframe\">\n",
       "  <thead>\n",
       "    <tr style=\"text-align: right;\">\n",
       "      <th></th>\n",
       "      <th>0</th>\n",
       "      <th>1</th>\n",
       "      <th>2</th>\n",
       "      <th>3</th>\n",
       "      <th>4</th>\n",
       "      <th>5</th>\n",
       "      <th>6</th>\n",
       "      <th>7</th>\n",
       "      <th>8</th>\n",
       "      <th>9</th>\n",
       "    </tr>\n",
       "  </thead>\n",
       "  <tbody>\n",
       "    <tr>\n",
       "      <th>RMSE</th>\n",
       "      <td>89.353131</td>\n",
       "      <td>79.85849</td>\n",
       "      <td>80.187562</td>\n",
       "      <td>88.99013</td>\n",
       "      <td>94.550382</td>\n",
       "      <td>94.45715</td>\n",
       "      <td>94.480753</td>\n",
       "      <td>104.369147</td>\n",
       "      <td>85.217211</td>\n",
       "      <td>114.021651</td>\n",
       "    </tr>\n",
       "  </tbody>\n",
       "</table>\n",
       "</div>"
      ],
      "text/plain": [
       "              0         1          2         3          4         5  \\\n",
       "RMSE  89.353131  79.85849  80.187562  88.99013  94.550382  94.45715   \n",
       "\n",
       "              6           7          8           9  \n",
       "RMSE  94.480753  104.369147  85.217211  114.021651  "
      ]
     },
     "execution_count": 59,
     "metadata": {},
     "output_type": "execute_result"
    }
   ],
   "source": [
    "df3.T"
   ]
  },
  {
   "cell_type": "code",
   "execution_count": 60,
   "id": "90aaaf7e-782f-40e4-9079-cfb937ff0781",
   "metadata": {},
   "outputs": [
    {
     "data": {
      "image/png": "[encoded data removed]",
      "text/plain": [
       "<Figure size 432x288 with 1 Axes>"
      ]
     },
     "metadata": {
      "needs_background": "light"
     },
     "output_type": "display_data"
    }
   ],
   "source": [
    "swarm = sns.swarmplot(y = 'RMSE', data = df3)"
   ]
  },
  {
   "cell_type": "markdown",
   "id": "5928b57a-e521-4762-b593-2a1c5504d5a8",
   "metadata": {},
   "source": [
    "------------"
   ]
  },
  {
   "cell_type": "code",
   "execution_count": 61,
   "id": "62a12850-bf8c-43d8-84a0-a59295957396",
   "metadata": {},
   "outputs": [],
   "source": [
    "from sklearn.preprocessing import PolynomialFeatures\n",
    "from sklearn.linear_model import LogisticRegression\n",
    "from sklearn.pipeline import make_pipeline\n",
    "import numpy as np"
   ]
  },
  {
   "cell_type": "code",
   "execution_count": 62,
   "id": "b34ebf6a-d569-4c08-be8b-60c5793951f1",
   "metadata": {},
   "outputs": [],
   "source": []
  },
  {
   "cell_type": "code",
   "execution_count": 65,
   "id": "4d12a75f-213b-4c54-8506-e63976135d97",
   "metadata": {},
   "outputs": [],
   "source": [
    "np.random.seed(1)\n",
    "X = np.random.rand(40, 1) ** 2\n",
    "Y = (10-1 / (X.ravel() + 0.1))  + np.random.randn(40) "
   ]
  },
  {
   "cell_type": "code",
   "execution_count": 66,
   "id": "b6d9502a-5b7e-47f1-806f-42cda52aa0e6",
   "metadata": {},
   "outputs": [],
   "source": [
    "import matplotlib.pyplot as plt"
   ]
  },
  {
   "cell_type": "code",
   "execution_count": 68,
   "id": "52fa5a48-4790-4fcc-a8fd-4759442c49d6",
   "metadata": {},
   "outputs": [
    {
     "data": {
      "image/png": "[encoded data removed]",
      "text/plain": [
       "<Figure size 360x360 with 1 Axes>"
      ]
     },
     "metadata": {
      "needs_background": "light"
     },
     "output_type": "display_data"
    }
   ],
   "source": [
    "fig = plt.figure(figsize=(5,5))\n",
    "ax = fig.add_subplot()\n",
    "ax.scatter(X.ravel(), Y, s=15);"
   ]
  },
  {
   "cell_type": "code",
   "execution_count": 85,
   "id": "3aa2beeb-b135-48d4-a463-5157e3f1a181",
   "metadata": {},
   "outputs": [],
   "source": [
    "X_test = np.linspace(-0.1,1.1,500).reshape(-1,1)"
   ]
  },
  {
   "cell_type": "code",
   "execution_count": 86,
   "id": "47a90fad-c733-4488-937e-c6b39df697af",
   "metadata": {},
   "outputs": [],
   "source": [
    "#2차원 \n",
    "poly = PolynomialFeatures(2)"
   ]
  },
  {
   "cell_type": "code",
   "execution_count": 87,
   "id": "0a7129d7-c4e9-481f-91be-7097cf78b71b",
   "metadata": {},
   "outputs": [],
   "source": [
    "X_poly = poly.fit_transform(X)\n",
    "X_test_poly = poly.transform(X_test)"
   ]
  },
  {
   "cell_type": "code",
   "execution_count": 88,
   "id": "f4a02ae4-4fdc-4627-9272-8546c6f29c68",
   "metadata": {},
   "outputs": [
    {
     "data": {
      "text/plain": [
       "array([0.17390735])"
      ]
     },
     "execution_count": 88,
     "metadata": {},
     "output_type": "execute_result"
    }
   ],
   "source": [
    "X[0]"
   ]
  },
  {
   "cell_type": "code",
   "execution_count": 89,
   "id": "7176b14f-21e2-41e9-b340-667a7bf8fe08",
   "metadata": {},
   "outputs": [
    {
     "data": {
      "text/plain": [
       "array([1.        , 0.17390735, 0.03024377])"
      ]
     },
     "execution_count": 89,
     "metadata": {},
     "output_type": "execute_result"
    }
   ],
   "source": [
    "X_poly[0]"
   ]
  },
  {
   "cell_type": "code",
   "execution_count": 90,
   "id": "6e30bc97-64a3-4e52-be47-48a631d1a075",
   "metadata": {},
   "outputs": [],
   "source": [
    "#poly3 = PolynomialFeatures(3)"
   ]
  },
  {
   "cell_type": "code",
   "execution_count": 91,
   "id": "945ab6e6-d30b-4485-b985-1c0f1f1c43fc",
   "metadata": {},
   "outputs": [],
   "source": [
    "#X_poly3 = poly3.fit_transform(X)"
   ]
  },
  {
   "cell_type": "code",
   "execution_count": 92,
   "id": "8e5a8535-cf3d-4c34-b12f-fa0f1d3b8dd3",
   "metadata": {},
   "outputs": [],
   "source": [
    "#X_poly3[0]"
   ]
  },
  {
   "cell_type": "code",
   "execution_count": 93,
   "id": "4f783bfd-9724-4647-b8a5-0c25b448a412",
   "metadata": {},
   "outputs": [],
   "source": [
    "lr = LinearRegression()"
   ]
  },
  {
   "cell_type": "code",
   "execution_count": 94,
   "id": "f69d9820-0d43-4778-8db5-99af1a3cb269",
   "metadata": {},
   "outputs": [
    {
     "data": {
      "text/plain": [
       "LinearRegression()"
      ]
     },
     "execution_count": 94,
     "metadata": {},
     "output_type": "execute_result"
    }
   ],
   "source": [
    "lr.fit(X_poly, Y)"
   ]
  },
  {
   "cell_type": "code",
   "execution_count": 95,
   "id": "15636d9d-1e9b-4293-82c1-f2a47a82fe05",
   "metadata": {},
   "outputs": [],
   "source": [
    "y_test = lr.predict(X_test_poly)"
   ]
  },
  {
   "cell_type": "code",
   "execution_count": 102,
   "id": "56da0f6f-916e-4f39-9372-f6a59869cc00",
   "metadata": {},
   "outputs": [
    {
     "data": {
      "image/png": "[encoded data removed]",
      "text/plain": [
       "<Figure size 720x720 with 1 Axes>"
      ]
     },
     "metadata": {
      "needs_background": "light"
     },
     "output_type": "display_data"
    }
   ],
   "source": [
    "fig = plt.figure(figsize=(10,10))\n",
    "ax = fig.add_subplot(2,2,2)\n",
    "ax.scatter(X.ravel(), Y , s=15)\n",
    "ax.plot(X_test.ravel(), y_test, label = 'degree=2')\n",
    "ax.set_xlim(-0.1,1.0)\n",
    "ax.set_ylim(-2,12)\n",
    "ax.legend(loc='best');"
   ]
  },
  {
   "cell_type": "code",
   "execution_count": 106,
   "id": "9628a218-e703-47fd-8ad1-be608ba44551",
   "metadata": {},
   "outputs": [
    {
     "data": {
      "image/png": "[encoded data removed]",
      "text/plain": [
       "<Figure size 864x720 with 4 Axes>"
      ]
     },
     "metadata": {
      "needs_background": "light"
     },
     "output_type": "display_data"
    }
   ],
   "source": [
    "fig = plt.figure(figsize=(12,10))\n",
    "X_test = np.linspace(-0.1,1.1,500).reshape(-1,1)\n",
    "for i, degree in enumerate([1,3,6,10], start=1) :\n",
    "    \n",
    "    y_test = make_pipeline(PolynomialFeatures(degree), LinearRegression()).fit(X,Y).predict(X_test)\n",
    "    \n",
    "    ax = fig.add_subplot(2,2,i)\n",
    "    ax.scatter(X.ravel(), Y , s=15)\n",
    "    ax.plot(X_test.ravel(), y_test, label = 'degree' + str(degree))\n",
    "    ax.set_xlim(-0.1,1.0)\n",
    "    ax.set_ylim(-2,12)\n",
    "    ax.legend(loc='best');"
   ]
  },
  {
   "cell_type": "code",
   "execution_count": 107,
   "id": "0a72d539-2de6-4634-895d-587f54b03b36",
   "metadata": {},
   "outputs": [],
   "source": [
    "from sklearn.model_selection import validation_curve"
   ]
  },
  {
   "cell_type": "code",
   "execution_count": 108,
   "id": "c1a53e2e-9c65-4a88-a21e-02692acf0529",
   "metadata": {},
   "outputs": [],
   "source": [
    "degree = np.arange(0,21)"
   ]
  },
  {
   "cell_type": "code",
   "execution_count": 109,
   "id": "9e634069-8a3e-4d3c-9c82-d28f94847037",
   "metadata": {},
   "outputs": [],
   "source": [
    "model = make_pipeline(PolynomialFeatures(degree), LinearRegression())"
   ]
  },
  {
   "cell_type": "code",
   "execution_count": 111,
   "id": "6b4fa763-9c46-4488-88b1-84451f879211",
   "metadata": {},
   "outputs": [],
   "source": [
    "train_score, test_score = validation_curve(model, X, Y, param_name= 'polynomialfeatures__degree',param_range=degree, cv=7)"
   ]
  },
  {
   "cell_type": "code",
   "execution_count": 114,
   "id": "5291a7f9-a038-4e79-b1b7-6899deb52347",
   "metadata": {},
   "outputs": [
    {
     "data": {
      "text/plain": [
       "<matplotlib.legend.Legend at 0x18e205295e0>"
      ]
     },
     "execution_count": 114,
     "metadata": {},
     "output_type": "execute_result"
    },
    {
     "data": {
      "image/png": "[encoded data removed]",
      "text/plain": [
       "<Figure size 576x360 with 1 Axes>"
      ]
     },
     "metadata": {
      "needs_background": "light"
     },
     "output_type": "display_data"
    }
   ],
   "source": [
    "plt.figure(figsize=(8,5))\n",
    "plt.plot(degree, np.median(train_score,1),'b-',label='training score')\n",
    "plt.plot(degree, np.median(test_score,1),'r-',label='validation score')\n",
    "plt.ylim(0,1)\n",
    "plt.xlabel('degree')\n",
    "plt.ylabel('score')\n",
    "plt.legend(loc='best')"
   ]
  },
  {
   "cell_type": "code",
   "execution_count": 116,
   "id": "0c618f1a-8192-42f2-8472-551c77290328",
   "metadata": {},
   "outputs": [],
   "source": [
    "from sklearn.model_selection import learning_curve"
   ]
  },
  {
   "cell_type": "code",
   "execution_count": 118,
   "id": "a2b52fcc-8513-41fd-b75a-ebb9997b752b",
   "metadata": {},
   "outputs": [
    {
     "data": {
      "text/plain": [
       "array([0.1   , 0.1375, 0.175 , 0.2125, 0.25  , 0.2875, 0.325 , 0.3625,\n",
       "       0.4   , 0.4375, 0.475 , 0.5125, 0.55  , 0.5875, 0.625 , 0.6625,\n",
       "       0.7   , 0.7375, 0.775 , 0.8125, 0.85  , 0.8875, 0.925 , 0.9625,\n",
       "       1.    ])"
      ]
     },
     "execution_count": 118,
     "metadata": {},
     "output_type": "execute_result"
    }
   ],
   "source": [
    "np.linspace(0.1,1,25)"
   ]
  },
  {
   "cell_type": "code",
   "execution_count": 124,
   "id": "49ebc0f1-f1fb-4dcb-8f5f-ef483d0a0598",
   "metadata": {},
   "outputs": [
    {
     "data": {
      "image/png": "[encoded data removed]",
      "text/plain": [
       "<Figure size 1152x432 with 2 Axes>"
      ]
     },
     "metadata": {
      "needs_background": "light"
     },
     "output_type": "display_data"
    }
   ],
   "source": [
    "fig, ax = plt.subplots(1,2, figsize = (16,6))\n",
    "for i , degree in enumerate([3,9]) :\n",
    "    model = make_pipeline(PolynomialFeatures(degree), LinearRegression())\n",
    "    n, train_lc, test_lc = learning_curve(model, X, Y, cv=7, train_sizes=np.linspace(0.1, 1,25) ) \n",
    "    ax[i].plot(n, np.mean(train_lc,1),'b-',label='training score')\n",
    "    ax[i].plot(n, np.mean(test_lc,1),'r-',label='validation score')\n",
    "    ax[i].hlines(np.mean([train_lc[-1], test_lc[-1]]), n[0], n[-1], color = 'gray', linestyle='dashed')\n",
    "    \n",
    "    ax[i].set(xlim=(n[0], n[-1]), ylim=(0,1), xlabel='training size', ylabel = 'score')\n",
    "    ax[i].set_title('degree = {}'.format(degree), size=20)\n",
    "    ax[i].legend(loc='best')"
   ]
  },
  {
   "cell_type": "code",
   "execution_count": null,
   "id": "3e7c9397-9839-4044-b834-3657f3aca777",
   "metadata": {},
   "outputs": [],
   "source": []
  }
 ],
 "metadata": {
  "kernelspec": {
   "display_name": "Python 3 (ipykernel)",
   "language": "python",
   "name": "python3"
  },
  "language_info": {
   "codemirror_mode": {
    "name": "ipython",
    "version": 3
   },
   "file_extension": ".py",
   "mimetype": "text/x-python",
   "name": "python",
   "nbconvert_exporter": "python",
   "pygments_lexer": "ipython3",
   "version": "3.9.12"
  }
 },
 "nbformat": 4,
 "nbformat_minor": 5
}
