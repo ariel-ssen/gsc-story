{
 "cells": [
  {
   "cell_type": "markdown",
   "id": "6088a0d3-8b72-46d3-bd37-0e9dabd1149e",
   "metadata": {},
   "source": [
    "# DecisionTree 공부하기 "
   ]
  },
  {
   "cell_type": "markdown",
   "id": "ba08753a-4fec-4d3b-9d3e-8297a8c4f046",
   "metadata": {},
   "source": [
    "## f1.score"
   ]
  },
  {
   "cell_type": "code",
   "execution_count": null,
   "id": "17178fcd-0b50-4a16-a6a9-1b1cd18fd95d",
   "metadata": {},
   "outputs": [],
   "source": [
    "                                                   "
   ]
  },
  {
   "cell_type": "code",
   "execution_count": 280,
   "id": "0a8dadc8-fd90-4211-8e91-0e6c668433bd",
   "metadata": {},
   "outputs": [],
   "source": [
    "import pandas as pd\n",
    "import numpy as np\n",
    "from sklearn import tree\n",
    "from sklearn.model_selection import train_test_split\n",
    "from sklearn.preprocessing import StandardScaler\n",
    "from sklearn.preprocessing import LabelEncoder\n",
    "from sklearn.preprocessing import MinMaxScaler\n",
    "from sklearn.svm import SVC\n",
    "from sklearn.linear_model import LogisticRegression\n",
    "from sklearn.ensemble import VotingClassifier\n",
    "from sklearn.tree import DecisionTreeClassifier\n",
    "\n",
    "import warnings\n",
    "warnings.filterwarnings('ignore')"
   ]
  },
  {
   "cell_type": "code",
   "execution_count": 258,
   "id": "10fb5a5f-789f-4a96-a090-c05888399fb4",
   "metadata": {},
   "outputs": [],
   "source": [
    "import math\n",
    "from collections import Counter, defaultdict\n",
    "from functools import partial"
   ]
  },
  {
   "cell_type": "code",
   "execution_count": 3,
   "id": "a1d4efb3-87c4-4ff4-b741-d94856bec6b8",
   "metadata": {},
   "outputs": [],
   "source": [
    "card = pd.read_csv('creditcard.csv')"
   ]
  },
  {
   "cell_type": "code",
   "execution_count": 4,
   "id": "18bed75c-bde6-4665-8fbd-d20b946e50b1",
   "metadata": {},
   "outputs": [
    {
     "data": {
      "text/plain": [
       "0    284315\n",
       "1       492\n",
       "Name: Class, dtype: int64"
      ]
     },
     "execution_count": 4,
     "metadata": {},
     "output_type": "execute_result"
    }
   ],
   "source": [
    "card['Class'].value_counts()"
   ]
  },
  {
   "cell_type": "code",
   "execution_count": 5,
   "id": "c3c6e41b-63bb-4d5b-a7f5-a51f5296b424",
   "metadata": {},
   "outputs": [
    {
     "data": {
      "text/plain": [
       "Index(['Time', 'V1', 'V2', 'V3', 'V4', 'V5', 'V6', 'V7', 'V8', 'V9', 'V10',\n",
       "       'V11', 'V12', 'V13', 'V14', 'V15', 'V16', 'V17', 'V18', 'V19', 'V20',\n",
       "       'V21', 'V22', 'V23', 'V24', 'V25', 'V26', 'V27', 'V28', 'Amount',\n",
       "       'Class'],\n",
       "      dtype='object')"
      ]
     },
     "execution_count": 5,
     "metadata": {},
     "output_type": "execute_result"
    }
   ],
   "source": [
    "card.columns"
   ]
  },
  {
   "cell_type": "code",
   "execution_count": 6,
   "id": "4bcb34c3-2c0c-4f15-a82c-9d3cdd308210",
   "metadata": {
    "tags": []
   },
   "outputs": [
    {
     "name": "stdout",
     "output_type": "stream",
     "text": [
      "<class 'pandas.core.frame.DataFrame'>\n",
      "RangeIndex: 284807 entries, 0 to 284806\n",
      "Data columns (total 31 columns):\n",
      " #   Column  Non-Null Count   Dtype  \n",
      "---  ------  --------------   -----  \n",
      " 0   Time    284807 non-null  float64\n",
      " 1   V1      284807 non-null  float64\n",
      " 2   V2      284807 non-null  float64\n",
      " 3   V3      284807 non-null  float64\n",
      " 4   V4      284807 non-null  float64\n",
      " 5   V5      284807 non-null  float64\n",
      " 6   V6      284807 non-null  float64\n",
      " 7   V7      284807 non-null  float64\n",
      " 8   V8      284807 non-null  float64\n",
      " 9   V9      284807 non-null  float64\n",
      " 10  V10     284807 non-null  float64\n",
      " 11  V11     284807 non-null  float64\n",
      " 12  V12     284807 non-null  float64\n",
      " 13  V13     284807 non-null  float64\n",
      " 14  V14     284807 non-null  float64\n",
      " 15  V15     284807 non-null  float64\n",
      " 16  V16     284807 non-null  float64\n",
      " 17  V17     284807 non-null  float64\n",
      " 18  V18     284807 non-null  float64\n",
      " 19  V19     284807 non-null  float64\n",
      " 20  V20     284807 non-null  float64\n",
      " 21  V21     284807 non-null  float64\n",
      " 22  V22     284807 non-null  float64\n",
      " 23  V23     284807 non-null  float64\n",
      " 24  V24     284807 non-null  float64\n",
      " 25  V25     284807 non-null  float64\n",
      " 26  V26     284807 non-null  float64\n",
      " 27  V27     284807 non-null  float64\n",
      " 28  V28     284807 non-null  float64\n",
      " 29  Amount  284807 non-null  float64\n",
      " 30  Class   284807 non-null  int64  \n",
      "dtypes: float64(30), int64(1)\n",
      "memory usage: 67.4 MB\n"
     ]
    }
   ],
   "source": [
    "card.info()"
   ]
  },
  {
   "cell_type": "code",
   "execution_count": 7,
   "id": "1c39c94a-afcf-4d60-97e7-7568012fac04",
   "metadata": {
    "tags": []
   },
   "outputs": [
    {
     "data": {
      "text/plain": [
       "Time      0\n",
       "V1        0\n",
       "V2        0\n",
       "V3        0\n",
       "V4        0\n",
       "V5        0\n",
       "V6        0\n",
       "V7        0\n",
       "V8        0\n",
       "V9        0\n",
       "V10       0\n",
       "V11       0\n",
       "V12       0\n",
       "V13       0\n",
       "V14       0\n",
       "V15       0\n",
       "V16       0\n",
       "V17       0\n",
       "V18       0\n",
       "V19       0\n",
       "V20       0\n",
       "V21       0\n",
       "V22       0\n",
       "V23       0\n",
       "V24       0\n",
       "V25       0\n",
       "V26       0\n",
       "V27       0\n",
       "V28       0\n",
       "Amount    0\n",
       "Class     0\n",
       "dtype: int64"
      ]
     },
     "execution_count": 7,
     "metadata": {},
     "output_type": "execute_result"
    }
   ],
   "source": [
    "card.isnull().sum()"
   ]
  },
  {
   "cell_type": "code",
   "execution_count": 8,
   "id": "95f3d224-f58a-4e67-987d-7a787d307a22",
   "metadata": {},
   "outputs": [
    {
     "data": {
      "text/plain": [
       "163152.0    36\n",
       "64947.0     26\n",
       "68780.0     25\n",
       "3767.0      21\n",
       "3770.0      20\n",
       "            ..\n",
       "127750.0     1\n",
       "62260.0      1\n",
       "62259.0      1\n",
       "127753.0     1\n",
       "172792.0     1\n",
       "Name: Time, Length: 124592, dtype: int64"
      ]
     },
     "execution_count": 8,
     "metadata": {},
     "output_type": "execute_result"
    }
   ],
   "source": [
    "card['Time'].value_counts() # 시간"
   ]
  },
  {
   "cell_type": "code",
   "execution_count": 9,
   "id": "75c840b7-cee0-425c-b4b2-d49dad2551e1",
   "metadata": {},
   "outputs": [
    {
     "data": {
      "text/plain": [
       "1.00       13688\n",
       "1.98        6044\n",
       "0.89        4872\n",
       "9.99        4747\n",
       "15.00       3280\n",
       "           ...  \n",
       "62.09          1\n",
       "552.05         1\n",
       "1467.75        1\n",
       "196.68         1\n",
       "95.63          1\n",
       "Name: Amount, Length: 32767, dtype: int64"
      ]
     },
     "execution_count": 9,
     "metadata": {},
     "output_type": "execute_result"
    }
   ],
   "source": [
    "card['Amount'].value_counts() # 거래량"
   ]
  },
  {
   "cell_type": "code",
   "execution_count": 10,
   "id": "a4d602f8-2358-4bc3-8ef3-67c74a26a991",
   "metadata": {},
   "outputs": [],
   "source": [
    "card1 = card.drop_duplicates()"
   ]
  },
  {
   "cell_type": "code",
   "execution_count": 11,
   "id": "e9697cbb-54bc-4ba3-99da-eb918e39cc3f",
   "metadata": {},
   "outputs": [
    {
     "data": {
      "text/html": [
       "<div>\n",
       "<style scoped>\n",
       "    .dataframe tbody tr th:only-of-type {\n",
       "        vertical-align: middle;\n",
       "    }\n",
       "\n",
       "    .dataframe tbody tr th {\n",
       "        vertical-align: top;\n",
       "    }\n",
       "\n",
       "    .dataframe thead th {\n",
       "        text-align: right;\n",
       "    }\n",
       "</style>\n",
       "<table border=\"1\" class=\"dataframe\">\n",
       "  <thead>\n",
       "    <tr style=\"text-align: right;\">\n",
       "      <th></th>\n",
       "      <th>Time</th>\n",
       "      <th>V1</th>\n",
       "      <th>V2</th>\n",
       "      <th>V3</th>\n",
       "      <th>V4</th>\n",
       "      <th>V5</th>\n",
       "      <th>V6</th>\n",
       "      <th>V7</th>\n",
       "      <th>V8</th>\n",
       "      <th>V9</th>\n",
       "      <th>...</th>\n",
       "      <th>V21</th>\n",
       "      <th>V22</th>\n",
       "      <th>V23</th>\n",
       "      <th>V24</th>\n",
       "      <th>V25</th>\n",
       "      <th>V26</th>\n",
       "      <th>V27</th>\n",
       "      <th>V28</th>\n",
       "      <th>Amount</th>\n",
       "      <th>Class</th>\n",
       "    </tr>\n",
       "  </thead>\n",
       "  <tbody>\n",
       "    <tr>\n",
       "      <th>0</th>\n",
       "      <td>0.0</td>\n",
       "      <td>-1.359807</td>\n",
       "      <td>-0.072781</td>\n",
       "      <td>2.536347</td>\n",
       "      <td>1.378155</td>\n",
       "      <td>-0.338321</td>\n",
       "      <td>0.462388</td>\n",
       "      <td>0.239599</td>\n",
       "      <td>0.098698</td>\n",
       "      <td>0.363787</td>\n",
       "      <td>...</td>\n",
       "      <td>-0.018307</td>\n",
       "      <td>0.277838</td>\n",
       "      <td>-0.110474</td>\n",
       "      <td>0.066928</td>\n",
       "      <td>0.128539</td>\n",
       "      <td>-0.189115</td>\n",
       "      <td>0.133558</td>\n",
       "      <td>-0.021053</td>\n",
       "      <td>149.62</td>\n",
       "      <td>0</td>\n",
       "    </tr>\n",
       "    <tr>\n",
       "      <th>1</th>\n",
       "      <td>0.0</td>\n",
       "      <td>1.191857</td>\n",
       "      <td>0.266151</td>\n",
       "      <td>0.166480</td>\n",
       "      <td>0.448154</td>\n",
       "      <td>0.060018</td>\n",
       "      <td>-0.082361</td>\n",
       "      <td>-0.078803</td>\n",
       "      <td>0.085102</td>\n",
       "      <td>-0.255425</td>\n",
       "      <td>...</td>\n",
       "      <td>-0.225775</td>\n",
       "      <td>-0.638672</td>\n",
       "      <td>0.101288</td>\n",
       "      <td>-0.339846</td>\n",
       "      <td>0.167170</td>\n",
       "      <td>0.125895</td>\n",
       "      <td>-0.008983</td>\n",
       "      <td>0.014724</td>\n",
       "      <td>2.69</td>\n",
       "      <td>0</td>\n",
       "    </tr>\n",
       "    <tr>\n",
       "      <th>2</th>\n",
       "      <td>1.0</td>\n",
       "      <td>-1.358354</td>\n",
       "      <td>-1.340163</td>\n",
       "      <td>1.773209</td>\n",
       "      <td>0.379780</td>\n",
       "      <td>-0.503198</td>\n",
       "      <td>1.800499</td>\n",
       "      <td>0.791461</td>\n",
       "      <td>0.247676</td>\n",
       "      <td>-1.514654</td>\n",
       "      <td>...</td>\n",
       "      <td>0.247998</td>\n",
       "      <td>0.771679</td>\n",
       "      <td>0.909412</td>\n",
       "      <td>-0.689281</td>\n",
       "      <td>-0.327642</td>\n",
       "      <td>-0.139097</td>\n",
       "      <td>-0.055353</td>\n",
       "      <td>-0.059752</td>\n",
       "      <td>378.66</td>\n",
       "      <td>0</td>\n",
       "    </tr>\n",
       "    <tr>\n",
       "      <th>3</th>\n",
       "      <td>1.0</td>\n",
       "      <td>-0.966272</td>\n",
       "      <td>-0.185226</td>\n",
       "      <td>1.792993</td>\n",
       "      <td>-0.863291</td>\n",
       "      <td>-0.010309</td>\n",
       "      <td>1.247203</td>\n",
       "      <td>0.237609</td>\n",
       "      <td>0.377436</td>\n",
       "      <td>-1.387024</td>\n",
       "      <td>...</td>\n",
       "      <td>-0.108300</td>\n",
       "      <td>0.005274</td>\n",
       "      <td>-0.190321</td>\n",
       "      <td>-1.175575</td>\n",
       "      <td>0.647376</td>\n",
       "      <td>-0.221929</td>\n",
       "      <td>0.062723</td>\n",
       "      <td>0.061458</td>\n",
       "      <td>123.50</td>\n",
       "      <td>0</td>\n",
       "    </tr>\n",
       "    <tr>\n",
       "      <th>4</th>\n",
       "      <td>2.0</td>\n",
       "      <td>-1.158233</td>\n",
       "      <td>0.877737</td>\n",
       "      <td>1.548718</td>\n",
       "      <td>0.403034</td>\n",
       "      <td>-0.407193</td>\n",
       "      <td>0.095921</td>\n",
       "      <td>0.592941</td>\n",
       "      <td>-0.270533</td>\n",
       "      <td>0.817739</td>\n",
       "      <td>...</td>\n",
       "      <td>-0.009431</td>\n",
       "      <td>0.798278</td>\n",
       "      <td>-0.137458</td>\n",
       "      <td>0.141267</td>\n",
       "      <td>-0.206010</td>\n",
       "      <td>0.502292</td>\n",
       "      <td>0.219422</td>\n",
       "      <td>0.215153</td>\n",
       "      <td>69.99</td>\n",
       "      <td>0</td>\n",
       "    </tr>\n",
       "    <tr>\n",
       "      <th>...</th>\n",
       "      <td>...</td>\n",
       "      <td>...</td>\n",
       "      <td>...</td>\n",
       "      <td>...</td>\n",
       "      <td>...</td>\n",
       "      <td>...</td>\n",
       "      <td>...</td>\n",
       "      <td>...</td>\n",
       "      <td>...</td>\n",
       "      <td>...</td>\n",
       "      <td>...</td>\n",
       "      <td>...</td>\n",
       "      <td>...</td>\n",
       "      <td>...</td>\n",
       "      <td>...</td>\n",
       "      <td>...</td>\n",
       "      <td>...</td>\n",
       "      <td>...</td>\n",
       "      <td>...</td>\n",
       "      <td>...</td>\n",
       "      <td>...</td>\n",
       "    </tr>\n",
       "    <tr>\n",
       "      <th>284802</th>\n",
       "      <td>172786.0</td>\n",
       "      <td>-11.881118</td>\n",
       "      <td>10.071785</td>\n",
       "      <td>-9.834783</td>\n",
       "      <td>-2.066656</td>\n",
       "      <td>-5.364473</td>\n",
       "      <td>-2.606837</td>\n",
       "      <td>-4.918215</td>\n",
       "      <td>7.305334</td>\n",
       "      <td>1.914428</td>\n",
       "      <td>...</td>\n",
       "      <td>0.213454</td>\n",
       "      <td>0.111864</td>\n",
       "      <td>1.014480</td>\n",
       "      <td>-0.509348</td>\n",
       "      <td>1.436807</td>\n",
       "      <td>0.250034</td>\n",
       "      <td>0.943651</td>\n",
       "      <td>0.823731</td>\n",
       "      <td>0.77</td>\n",
       "      <td>0</td>\n",
       "    </tr>\n",
       "    <tr>\n",
       "      <th>284803</th>\n",
       "      <td>172787.0</td>\n",
       "      <td>-0.732789</td>\n",
       "      <td>-0.055080</td>\n",
       "      <td>2.035030</td>\n",
       "      <td>-0.738589</td>\n",
       "      <td>0.868229</td>\n",
       "      <td>1.058415</td>\n",
       "      <td>0.024330</td>\n",
       "      <td>0.294869</td>\n",
       "      <td>0.584800</td>\n",
       "      <td>...</td>\n",
       "      <td>0.214205</td>\n",
       "      <td>0.924384</td>\n",
       "      <td>0.012463</td>\n",
       "      <td>-1.016226</td>\n",
       "      <td>-0.606624</td>\n",
       "      <td>-0.395255</td>\n",
       "      <td>0.068472</td>\n",
       "      <td>-0.053527</td>\n",
       "      <td>24.79</td>\n",
       "      <td>0</td>\n",
       "    </tr>\n",
       "    <tr>\n",
       "      <th>284804</th>\n",
       "      <td>172788.0</td>\n",
       "      <td>1.919565</td>\n",
       "      <td>-0.301254</td>\n",
       "      <td>-3.249640</td>\n",
       "      <td>-0.557828</td>\n",
       "      <td>2.630515</td>\n",
       "      <td>3.031260</td>\n",
       "      <td>-0.296827</td>\n",
       "      <td>0.708417</td>\n",
       "      <td>0.432454</td>\n",
       "      <td>...</td>\n",
       "      <td>0.232045</td>\n",
       "      <td>0.578229</td>\n",
       "      <td>-0.037501</td>\n",
       "      <td>0.640134</td>\n",
       "      <td>0.265745</td>\n",
       "      <td>-0.087371</td>\n",
       "      <td>0.004455</td>\n",
       "      <td>-0.026561</td>\n",
       "      <td>67.88</td>\n",
       "      <td>0</td>\n",
       "    </tr>\n",
       "    <tr>\n",
       "      <th>284805</th>\n",
       "      <td>172788.0</td>\n",
       "      <td>-0.240440</td>\n",
       "      <td>0.530483</td>\n",
       "      <td>0.702510</td>\n",
       "      <td>0.689799</td>\n",
       "      <td>-0.377961</td>\n",
       "      <td>0.623708</td>\n",
       "      <td>-0.686180</td>\n",
       "      <td>0.679145</td>\n",
       "      <td>0.392087</td>\n",
       "      <td>...</td>\n",
       "      <td>0.265245</td>\n",
       "      <td>0.800049</td>\n",
       "      <td>-0.163298</td>\n",
       "      <td>0.123205</td>\n",
       "      <td>-0.569159</td>\n",
       "      <td>0.546668</td>\n",
       "      <td>0.108821</td>\n",
       "      <td>0.104533</td>\n",
       "      <td>10.00</td>\n",
       "      <td>0</td>\n",
       "    </tr>\n",
       "    <tr>\n",
       "      <th>284806</th>\n",
       "      <td>172792.0</td>\n",
       "      <td>-0.533413</td>\n",
       "      <td>-0.189733</td>\n",
       "      <td>0.703337</td>\n",
       "      <td>-0.506271</td>\n",
       "      <td>-0.012546</td>\n",
       "      <td>-0.649617</td>\n",
       "      <td>1.577006</td>\n",
       "      <td>-0.414650</td>\n",
       "      <td>0.486180</td>\n",
       "      <td>...</td>\n",
       "      <td>0.261057</td>\n",
       "      <td>0.643078</td>\n",
       "      <td>0.376777</td>\n",
       "      <td>0.008797</td>\n",
       "      <td>-0.473649</td>\n",
       "      <td>-0.818267</td>\n",
       "      <td>-0.002415</td>\n",
       "      <td>0.013649</td>\n",
       "      <td>217.00</td>\n",
       "      <td>0</td>\n",
       "    </tr>\n",
       "  </tbody>\n",
       "</table>\n",
       "<p>283726 rows × 31 columns</p>\n",
       "</div>"
      ],
      "text/plain": [
       "            Time         V1         V2        V3        V4        V5  \\\n",
       "0            0.0  -1.359807  -0.072781  2.536347  1.378155 -0.338321   \n",
       "1            0.0   1.191857   0.266151  0.166480  0.448154  0.060018   \n",
       "2            1.0  -1.358354  -1.340163  1.773209  0.379780 -0.503198   \n",
       "3            1.0  -0.966272  -0.185226  1.792993 -0.863291 -0.010309   \n",
       "4            2.0  -1.158233   0.877737  1.548718  0.403034 -0.407193   \n",
       "...          ...        ...        ...       ...       ...       ...   \n",
       "284802  172786.0 -11.881118  10.071785 -9.834783 -2.066656 -5.364473   \n",
       "284803  172787.0  -0.732789  -0.055080  2.035030 -0.738589  0.868229   \n",
       "284804  172788.0   1.919565  -0.301254 -3.249640 -0.557828  2.630515   \n",
       "284805  172788.0  -0.240440   0.530483  0.702510  0.689799 -0.377961   \n",
       "284806  172792.0  -0.533413  -0.189733  0.703337 -0.506271 -0.012546   \n",
       "\n",
       "              V6        V7        V8        V9  ...       V21       V22  \\\n",
       "0       0.462388  0.239599  0.098698  0.363787  ... -0.018307  0.277838   \n",
       "1      -0.082361 -0.078803  0.085102 -0.255425  ... -0.225775 -0.638672   \n",
       "2       1.800499  0.791461  0.247676 -1.514654  ...  0.247998  0.771679   \n",
       "3       1.247203  0.237609  0.377436 -1.387024  ... -0.108300  0.005274   \n",
       "4       0.095921  0.592941 -0.270533  0.817739  ... -0.009431  0.798278   \n",
       "...          ...       ...       ...       ...  ...       ...       ...   \n",
       "284802 -2.606837 -4.918215  7.305334  1.914428  ...  0.213454  0.111864   \n",
       "284803  1.058415  0.024330  0.294869  0.584800  ...  0.214205  0.924384   \n",
       "284804  3.031260 -0.296827  0.708417  0.432454  ...  0.232045  0.578229   \n",
       "284805  0.623708 -0.686180  0.679145  0.392087  ...  0.265245  0.800049   \n",
       "284806 -0.649617  1.577006 -0.414650  0.486180  ...  0.261057  0.643078   \n",
       "\n",
       "             V23       V24       V25       V26       V27       V28  Amount  \\\n",
       "0      -0.110474  0.066928  0.128539 -0.189115  0.133558 -0.021053  149.62   \n",
       "1       0.101288 -0.339846  0.167170  0.125895 -0.008983  0.014724    2.69   \n",
       "2       0.909412 -0.689281 -0.327642 -0.139097 -0.055353 -0.059752  378.66   \n",
       "3      -0.190321 -1.175575  0.647376 -0.221929  0.062723  0.061458  123.50   \n",
       "4      -0.137458  0.141267 -0.206010  0.502292  0.219422  0.215153   69.99   \n",
       "...          ...       ...       ...       ...       ...       ...     ...   \n",
       "284802  1.014480 -0.509348  1.436807  0.250034  0.943651  0.823731    0.77   \n",
       "284803  0.012463 -1.016226 -0.606624 -0.395255  0.068472 -0.053527   24.79   \n",
       "284804 -0.037501  0.640134  0.265745 -0.087371  0.004455 -0.026561   67.88   \n",
       "284805 -0.163298  0.123205 -0.569159  0.546668  0.108821  0.104533   10.00   \n",
       "284806  0.376777  0.008797 -0.473649 -0.818267 -0.002415  0.013649  217.00   \n",
       "\n",
       "        Class  \n",
       "0           0  \n",
       "1           0  \n",
       "2           0  \n",
       "3           0  \n",
       "4           0  \n",
       "...       ...  \n",
       "284802      0  \n",
       "284803      0  \n",
       "284804      0  \n",
       "284805      0  \n",
       "284806      0  \n",
       "\n",
       "[283726 rows x 31 columns]"
      ]
     },
     "execution_count": 11,
     "metadata": {},
     "output_type": "execute_result"
    }
   ],
   "source": [
    "card1"
   ]
  },
  {
   "cell_type": "markdown",
   "id": "f642a870-da0d-449d-a9ca-0618e7745fa0",
   "metadata": {},
   "source": [
    "--------------------"
   ]
  },
  {
   "cell_type": "code",
   "execution_count": 12,
   "id": "dda283d7-dd14-4acc-a9a9-80fbcea8273e",
   "metadata": {},
   "outputs": [
    {
     "data": {
      "text/plain": [
       "0    284315\n",
       "1       492\n",
       "Name: Class, dtype: int64"
      ]
     },
     "execution_count": 12,
     "metadata": {},
     "output_type": "execute_result"
    }
   ],
   "source": [
    "card['Class'].value_counts()"
   ]
  },
  {
   "cell_type": "code",
   "execution_count": 150,
   "id": "adbef7a9-6f69-45c6-bb90-f659ad2b8627",
   "metadata": {},
   "outputs": [],
   "source": [
    "card2 =card.drop_duplicates()"
   ]
  },
  {
   "cell_type": "code",
   "execution_count": 151,
   "id": "4b733de7-eaeb-4a87-b81b-a6389fea0e79",
   "metadata": {},
   "outputs": [],
   "source": [
    "legit = card2[card2['Class'] == 0]\n",
    "fraud = card2[card2['Class'] == 1]"
   ]
  },
  {
   "cell_type": "code",
   "execution_count": 225,
   "id": "e6372f24-7c54-41a2-b896-f670df50e547",
   "metadata": {},
   "outputs": [],
   "source": [
    "legit_sample = legit.sample(492*500)"
   ]
  },
  {
   "cell_type": "code",
   "execution_count": 226,
   "id": "17fdc015-8fee-4476-8fcc-cc8762ca22a0",
   "metadata": {},
   "outputs": [],
   "source": [
    "new_dataset = pd.concat([legit_sample, fraud])"
   ]
  },
  {
   "cell_type": "code",
   "execution_count": 227,
   "id": "f543714a-dfc3-402d-9b1c-589afcabd7bf",
   "metadata": {},
   "outputs": [
    {
     "data": {
      "text/plain": [
       "0    246000\n",
       "1       473\n",
       "Name: Class, dtype: int64"
      ]
     },
     "execution_count": 227,
     "metadata": {},
     "output_type": "execute_result"
    }
   ],
   "source": [
    "new_dataset['Class'].value_counts()"
   ]
  },
  {
   "cell_type": "code",
   "execution_count": 228,
   "id": "b2bab936-268a-4bd9-987a-f9c182c42b23",
   "metadata": {},
   "outputs": [
    {
     "data": {
      "text/plain": [
       "0    246000\n",
       "1       473\n",
       "Name: Class, dtype: int64"
      ]
     },
     "execution_count": 228,
     "metadata": {},
     "output_type": "execute_result"
    }
   ],
   "source": [
    "new_dataset['Class'].value_counts()"
   ]
  },
  {
   "cell_type": "code",
   "execution_count": 229,
   "id": "11b76db7-fbab-4a60-acd6-68ac2023b956",
   "metadata": {},
   "outputs": [],
   "source": [
    "new_dataset2 = new_dataset.drop_duplicates()"
   ]
  },
  {
   "cell_type": "code",
   "execution_count": 230,
   "id": "6be724b0-48cf-4dcd-9c2a-e2197af4da73",
   "metadata": {},
   "outputs": [
    {
     "data": {
      "text/plain": [
       "False    246473\n",
       "dtype: int64"
      ]
     },
     "execution_count": 230,
     "metadata": {},
     "output_type": "execute_result"
    }
   ],
   "source": [
    "new_dataset2.duplicated().value_counts()"
   ]
  },
  {
   "cell_type": "code",
   "execution_count": 231,
   "id": "3196b5f3-9eba-4517-9c1d-30bbc7ba6195",
   "metadata": {},
   "outputs": [
    {
     "data": {
      "text/html": [
       "<div>\n",
       "<style scoped>\n",
       "    .dataframe tbody tr th:only-of-type {\n",
       "        vertical-align: middle;\n",
       "    }\n",
       "\n",
       "    .dataframe tbody tr th {\n",
       "        vertical-align: top;\n",
       "    }\n",
       "\n",
       "    .dataframe thead th {\n",
       "        text-align: right;\n",
       "    }\n",
       "</style>\n",
       "<table border=\"1\" class=\"dataframe\">\n",
       "  <thead>\n",
       "    <tr style=\"text-align: right;\">\n",
       "      <th></th>\n",
       "      <th>Time</th>\n",
       "      <th>V1</th>\n",
       "      <th>V2</th>\n",
       "      <th>V3</th>\n",
       "      <th>V4</th>\n",
       "      <th>V5</th>\n",
       "      <th>V6</th>\n",
       "      <th>V7</th>\n",
       "      <th>V8</th>\n",
       "      <th>V9</th>\n",
       "      <th>...</th>\n",
       "      <th>V21</th>\n",
       "      <th>V22</th>\n",
       "      <th>V23</th>\n",
       "      <th>V24</th>\n",
       "      <th>V25</th>\n",
       "      <th>V26</th>\n",
       "      <th>V27</th>\n",
       "      <th>V28</th>\n",
       "      <th>Amount</th>\n",
       "      <th>Class</th>\n",
       "    </tr>\n",
       "  </thead>\n",
       "  <tbody>\n",
       "    <tr>\n",
       "      <th>count</th>\n",
       "      <td>246473.000000</td>\n",
       "      <td>246473.000000</td>\n",
       "      <td>246473.000000</td>\n",
       "      <td>246473.000000</td>\n",
       "      <td>246473.000000</td>\n",
       "      <td>246473.000000</td>\n",
       "      <td>246473.000000</td>\n",
       "      <td>246473.000000</td>\n",
       "      <td>246473.000000</td>\n",
       "      <td>246473.000000</td>\n",
       "      <td>...</td>\n",
       "      <td>246473.000000</td>\n",
       "      <td>246473.000000</td>\n",
       "      <td>246473.000000</td>\n",
       "      <td>246473.000000</td>\n",
       "      <td>246473.000000</td>\n",
       "      <td>246473.000000</td>\n",
       "      <td>246473.000000</td>\n",
       "      <td>246473.000000</td>\n",
       "      <td>246473.000000</td>\n",
       "      <td>246473.000000</td>\n",
       "    </tr>\n",
       "    <tr>\n",
       "      <th>mean</th>\n",
       "      <td>94867.275840</td>\n",
       "      <td>0.003493</td>\n",
       "      <td>-0.003000</td>\n",
       "      <td>-0.000251</td>\n",
       "      <td>-0.003983</td>\n",
       "      <td>0.002797</td>\n",
       "      <td>-0.002159</td>\n",
       "      <td>-0.001013</td>\n",
       "      <td>-0.000204</td>\n",
       "      <td>-0.003833</td>\n",
       "      <td>...</td>\n",
       "      <td>-0.000343</td>\n",
       "      <td>0.000435</td>\n",
       "      <td>-0.000224</td>\n",
       "      <td>0.000015</td>\n",
       "      <td>-0.000722</td>\n",
       "      <td>-0.000231</td>\n",
       "      <td>0.002015</td>\n",
       "      <td>0.000950</td>\n",
       "      <td>88.177952</td>\n",
       "      <td>0.001919</td>\n",
       "    </tr>\n",
       "    <tr>\n",
       "      <th>std</th>\n",
       "      <td>47460.371553</td>\n",
       "      <td>1.955511</td>\n",
       "      <td>1.649555</td>\n",
       "      <td>1.513969</td>\n",
       "      <td>1.417244</td>\n",
       "      <td>1.364159</td>\n",
       "      <td>1.325958</td>\n",
       "      <td>1.213063</td>\n",
       "      <td>1.183181</td>\n",
       "      <td>1.096265</td>\n",
       "      <td>...</td>\n",
       "      <td>0.724201</td>\n",
       "      <td>0.724504</td>\n",
       "      <td>0.627990</td>\n",
       "      <td>0.605794</td>\n",
       "      <td>0.521413</td>\n",
       "      <td>0.481715</td>\n",
       "      <td>0.392892</td>\n",
       "      <td>0.327496</td>\n",
       "      <td>242.199385</td>\n",
       "      <td>0.043765</td>\n",
       "    </tr>\n",
       "    <tr>\n",
       "      <th>min</th>\n",
       "      <td>0.000000</td>\n",
       "      <td>-56.407510</td>\n",
       "      <td>-72.715728</td>\n",
       "      <td>-33.680984</td>\n",
       "      <td>-5.683171</td>\n",
       "      <td>-42.147898</td>\n",
       "      <td>-26.160506</td>\n",
       "      <td>-43.557242</td>\n",
       "      <td>-73.216718</td>\n",
       "      <td>-13.434066</td>\n",
       "      <td>...</td>\n",
       "      <td>-34.830382</td>\n",
       "      <td>-9.499423</td>\n",
       "      <td>-44.807735</td>\n",
       "      <td>-2.836627</td>\n",
       "      <td>-10.295397</td>\n",
       "      <td>-2.604551</td>\n",
       "      <td>-22.565679</td>\n",
       "      <td>-11.710896</td>\n",
       "      <td>0.000000</td>\n",
       "      <td>0.000000</td>\n",
       "    </tr>\n",
       "    <tr>\n",
       "      <th>25%</th>\n",
       "      <td>54268.000000</td>\n",
       "      <td>-0.916042</td>\n",
       "      <td>-0.600794</td>\n",
       "      <td>-0.889735</td>\n",
       "      <td>-0.851605</td>\n",
       "      <td>-0.689620</td>\n",
       "      <td>-0.769536</td>\n",
       "      <td>-0.552791</td>\n",
       "      <td>-0.208633</td>\n",
       "      <td>-0.647141</td>\n",
       "      <td>...</td>\n",
       "      <td>-0.228235</td>\n",
       "      <td>-0.542751</td>\n",
       "      <td>-0.161843</td>\n",
       "      <td>-0.354603</td>\n",
       "      <td>-0.317875</td>\n",
       "      <td>-0.326953</td>\n",
       "      <td>-0.070650</td>\n",
       "      <td>-0.052694</td>\n",
       "      <td>5.630000</td>\n",
       "      <td>0.000000</td>\n",
       "    </tr>\n",
       "    <tr>\n",
       "      <th>50%</th>\n",
       "      <td>84761.000000</td>\n",
       "      <td>0.017349</td>\n",
       "      <td>0.064766</td>\n",
       "      <td>0.178573</td>\n",
       "      <td>-0.024417</td>\n",
       "      <td>-0.052526</td>\n",
       "      <td>-0.276480</td>\n",
       "      <td>0.040924</td>\n",
       "      <td>0.022061</td>\n",
       "      <td>-0.054034</td>\n",
       "      <td>...</td>\n",
       "      <td>-0.028992</td>\n",
       "      <td>0.007586</td>\n",
       "      <td>-0.011192</td>\n",
       "      <td>0.040895</td>\n",
       "      <td>0.014864</td>\n",
       "      <td>-0.052114</td>\n",
       "      <td>0.001649</td>\n",
       "      <td>0.011456</td>\n",
       "      <td>22.000000</td>\n",
       "      <td>0.000000</td>\n",
       "    </tr>\n",
       "    <tr>\n",
       "      <th>75%</th>\n",
       "      <td>139333.000000</td>\n",
       "      <td>1.315404</td>\n",
       "      <td>0.803235</td>\n",
       "      <td>1.027598</td>\n",
       "      <td>0.739139</td>\n",
       "      <td>0.612761</td>\n",
       "      <td>0.394284</td>\n",
       "      <td>0.570299</td>\n",
       "      <td>0.325915</td>\n",
       "      <td>0.594569</td>\n",
       "      <td>...</td>\n",
       "      <td>0.186536</td>\n",
       "      <td>0.529358</td>\n",
       "      <td>0.147665</td>\n",
       "      <td>0.440101</td>\n",
       "      <td>0.350328</td>\n",
       "      <td>0.239897</td>\n",
       "      <td>0.091684</td>\n",
       "      <td>0.078712</td>\n",
       "      <td>77.650000</td>\n",
       "      <td>0.000000</td>\n",
       "    </tr>\n",
       "    <tr>\n",
       "      <th>max</th>\n",
       "      <td>172792.000000</td>\n",
       "      <td>2.451888</td>\n",
       "      <td>22.057729</td>\n",
       "      <td>9.382558</td>\n",
       "      <td>16.875344</td>\n",
       "      <td>34.801666</td>\n",
       "      <td>23.917837</td>\n",
       "      <td>44.054461</td>\n",
       "      <td>20.007208</td>\n",
       "      <td>15.594995</td>\n",
       "      <td>...</td>\n",
       "      <td>27.202839</td>\n",
       "      <td>10.503090</td>\n",
       "      <td>22.528412</td>\n",
       "      <td>4.022866</td>\n",
       "      <td>7.519589</td>\n",
       "      <td>3.517346</td>\n",
       "      <td>12.152401</td>\n",
       "      <td>33.847808</td>\n",
       "      <td>18910.000000</td>\n",
       "      <td>1.000000</td>\n",
       "    </tr>\n",
       "  </tbody>\n",
       "</table>\n",
       "<p>8 rows × 31 columns</p>\n",
       "</div>"
      ],
      "text/plain": [
       "                Time             V1             V2             V3  \\\n",
       "count  246473.000000  246473.000000  246473.000000  246473.000000   \n",
       "mean    94867.275840       0.003493      -0.003000      -0.000251   \n",
       "std     47460.371553       1.955511       1.649555       1.513969   \n",
       "min         0.000000     -56.407510     -72.715728     -33.680984   \n",
       "25%     54268.000000      -0.916042      -0.600794      -0.889735   \n",
       "50%     84761.000000       0.017349       0.064766       0.178573   \n",
       "75%    139333.000000       1.315404       0.803235       1.027598   \n",
       "max    172792.000000       2.451888      22.057729       9.382558   \n",
       "\n",
       "                  V4             V5             V6             V7  \\\n",
       "count  246473.000000  246473.000000  246473.000000  246473.000000   \n",
       "mean       -0.003983       0.002797      -0.002159      -0.001013   \n",
       "std         1.417244       1.364159       1.325958       1.213063   \n",
       "min        -5.683171     -42.147898     -26.160506     -43.557242   \n",
       "25%        -0.851605      -0.689620      -0.769536      -0.552791   \n",
       "50%        -0.024417      -0.052526      -0.276480       0.040924   \n",
       "75%         0.739139       0.612761       0.394284       0.570299   \n",
       "max        16.875344      34.801666      23.917837      44.054461   \n",
       "\n",
       "                  V8             V9  ...            V21            V22  \\\n",
       "count  246473.000000  246473.000000  ...  246473.000000  246473.000000   \n",
       "mean       -0.000204      -0.003833  ...      -0.000343       0.000435   \n",
       "std         1.183181       1.096265  ...       0.724201       0.724504   \n",
       "min       -73.216718     -13.434066  ...     -34.830382      -9.499423   \n",
       "25%        -0.208633      -0.647141  ...      -0.228235      -0.542751   \n",
       "50%         0.022061      -0.054034  ...      -0.028992       0.007586   \n",
       "75%         0.325915       0.594569  ...       0.186536       0.529358   \n",
       "max        20.007208      15.594995  ...      27.202839      10.503090   \n",
       "\n",
       "                 V23            V24            V25            V26  \\\n",
       "count  246473.000000  246473.000000  246473.000000  246473.000000   \n",
       "mean       -0.000224       0.000015      -0.000722      -0.000231   \n",
       "std         0.627990       0.605794       0.521413       0.481715   \n",
       "min       -44.807735      -2.836627     -10.295397      -2.604551   \n",
       "25%        -0.161843      -0.354603      -0.317875      -0.326953   \n",
       "50%        -0.011192       0.040895       0.014864      -0.052114   \n",
       "75%         0.147665       0.440101       0.350328       0.239897   \n",
       "max        22.528412       4.022866       7.519589       3.517346   \n",
       "\n",
       "                 V27            V28         Amount          Class  \n",
       "count  246473.000000  246473.000000  246473.000000  246473.000000  \n",
       "mean        0.002015       0.000950      88.177952       0.001919  \n",
       "std         0.392892       0.327496     242.199385       0.043765  \n",
       "min       -22.565679     -11.710896       0.000000       0.000000  \n",
       "25%        -0.070650      -0.052694       5.630000       0.000000  \n",
       "50%         0.001649       0.011456      22.000000       0.000000  \n",
       "75%         0.091684       0.078712      77.650000       0.000000  \n",
       "max        12.152401      33.847808   18910.000000       1.000000  \n",
       "\n",
       "[8 rows x 31 columns]"
      ]
     },
     "execution_count": 231,
     "metadata": {},
     "output_type": "execute_result"
    }
   ],
   "source": [
    "new_dataset2.describe()"
   ]
  },
  {
   "cell_type": "code",
   "execution_count": 232,
   "id": "f70ae982-9a78-49ec-adc7-2d1e13bbc92a",
   "metadata": {},
   "outputs": [
    {
     "data": {
      "text/plain": [
       "array([0, 1], dtype=int64)"
      ]
     },
     "execution_count": 232,
     "metadata": {},
     "output_type": "execute_result"
    }
   ],
   "source": [
    "new_dataset['Class'].unique()"
   ]
  },
  {
   "cell_type": "code",
   "execution_count": null,
   "id": "06dfc4ac-b63a-4fb3-a194-20c7023da08e",
   "metadata": {},
   "outputs": [],
   "source": []
  },
  {
   "cell_type": "code",
   "execution_count": null,
   "id": "8f092dce-d091-419c-b193-6e4c0ba9f43d",
   "metadata": {},
   "outputs": [],
   "source": []
  },
  {
   "cell_type": "code",
   "execution_count": null,
   "id": "028caefd-2291-407c-8036-b4d18a546718",
   "metadata": {},
   "outputs": [],
   "source": []
  },
  {
   "cell_type": "markdown",
   "id": "e295df6f-0299-4c93-9f2f-7fdc463c7b6e",
   "metadata": {},
   "source": [
    "---"
   ]
  },
  {
   "cell_type": "code",
   "execution_count": 233,
   "id": "c25edaa8-b3be-4a16-927b-e3cb27899794",
   "metadata": {},
   "outputs": [
    {
     "data": {
      "text/plain": [
       "Index(['Time', 'V1', 'V2', 'V3', 'V4', 'V5', 'V6', 'V7', 'V8', 'V9', 'V10',\n",
       "       'V11', 'V12', 'V13', 'V14', 'V15', 'V16', 'V17', 'V18', 'V19', 'V20',\n",
       "       'V21', 'V22', 'V23', 'V24', 'V25', 'V26', 'V27', 'V28', 'Amount',\n",
       "       'Class'],\n",
       "      dtype='object')"
      ]
     },
     "execution_count": 233,
     "metadata": {},
     "output_type": "execute_result"
    }
   ],
   "source": [
    "new_dataset.columns"
   ]
  },
  {
   "cell_type": "code",
   "execution_count": 234,
   "id": "10749016-9715-4d15-968c-5c921d7b7739",
   "metadata": {},
   "outputs": [],
   "source": [
    "x = new_dataset.drop(['Class'],axis=1)"
   ]
  },
  {
   "cell_type": "code",
   "execution_count": 235,
   "id": "62a0f014-970c-42bd-a26f-59cab38179f3",
   "metadata": {},
   "outputs": [],
   "source": [
    "y = new_dataset['Class']"
   ]
  },
  {
   "cell_type": "code",
   "execution_count": 236,
   "id": "43588f2f-80e9-4eb7-bac7-9905c9e13c38",
   "metadata": {},
   "outputs": [],
   "source": [
    "x_train, x_test, y_train, y_test =\\\n",
    "train_test_split(x,y,test_size = 0.2, random_state = 0)"
   ]
  },
  {
   "cell_type": "code",
   "execution_count": 237,
   "id": "dec37f46-4936-43be-a5a8-a2b824bdcae6",
   "metadata": {},
   "outputs": [],
   "source": [
    "model = tree.DecisionTreeClassifier()"
   ]
  },
  {
   "cell_type": "code",
   "execution_count": 238,
   "id": "9380cad7-b31b-45bf-80be-2dfee8ee90cc",
   "metadata": {},
   "outputs": [
    {
     "data": {
      "text/plain": [
       "138780    0\n",
       "256190    0\n",
       "57592     0\n",
       "246634    0\n",
       "6900      0\n",
       "         ..\n",
       "201549    0\n",
       "21194     0\n",
       "120764    0\n",
       "180443    0\n",
       "54651     0\n",
       "Name: Class, Length: 197178, dtype: int64"
      ]
     },
     "execution_count": 238,
     "metadata": {},
     "output_type": "execute_result"
    }
   ],
   "source": [
    "y_train"
   ]
  },
  {
   "cell_type": "code",
   "execution_count": 239,
   "id": "9481893a-5a41-4ed9-886c-2d12b6703411",
   "metadata": {},
   "outputs": [
    {
     "data": {
      "text/plain": [
       "DecisionTreeClassifier()"
      ]
     },
     "execution_count": 239,
     "metadata": {},
     "output_type": "execute_result"
    }
   ],
   "source": [
    "model"
   ]
  },
  {
   "cell_type": "code",
   "execution_count": 240,
   "id": "b89dba3e-7e75-4faa-92e9-e8bcfcb4ef54",
   "metadata": {},
   "outputs": [
    {
     "data": {
      "text/plain": [
       "DecisionTreeClassifier()"
      ]
     },
     "execution_count": 240,
     "metadata": {},
     "output_type": "execute_result"
    }
   ],
   "source": [
    "model.fit(x_train, y_train)"
   ]
  },
  {
   "cell_type": "code",
   "execution_count": 241,
   "id": "e3040992-737a-4d57-a738-aa0852344ac5",
   "metadata": {},
   "outputs": [
    {
     "data": {
      "text/plain": [
       "1.0"
      ]
     },
     "execution_count": 241,
     "metadata": {},
     "output_type": "execute_result"
    }
   ],
   "source": [
    "model.score(x_train, y_train)"
   ]
  },
  {
   "cell_type": "code",
   "execution_count": 242,
   "id": "fe4681c6-83a6-4b0f-9238-af3e55e6fc35",
   "metadata": {},
   "outputs": [
    {
     "data": {
      "text/plain": [
       "0.999046556445887"
      ]
     },
     "execution_count": 242,
     "metadata": {},
     "output_type": "execute_result"
    }
   ],
   "source": [
    "model.score(x_test, y_test)"
   ]
  },
  {
   "cell_type": "markdown",
   "id": "261bba55-7c80-4006-b838-5139db8faf92",
   "metadata": {},
   "source": [
    "-"
   ]
  },
  {
   "cell_type": "code",
   "execution_count": 264,
   "id": "187ecb33-1e42-46ad-bd8a-cdd231575e8d",
   "metadata": {},
   "outputs": [],
   "source": [
    "model1 = DecisionTreeClassifier()"
   ]
  },
  {
   "cell_type": "code",
   "execution_count": 265,
   "id": "a00e651c-040a-4116-a6e4-e47bb1929fbf",
   "metadata": {},
   "outputs": [],
   "source": [
    "model2 = LogisticRegression()"
   ]
  },
  {
   "cell_type": "code",
   "execution_count": 266,
   "id": "0a9e9212-d120-4925-b1e8-954539199bd2",
   "metadata": {},
   "outputs": [],
   "source": [
    "model3 = SVC()"
   ]
  },
  {
   "cell_type": "code",
   "execution_count": 268,
   "id": "ece5f715-e3bf-4f2f-a0fc-c5e9eef1244a",
   "metadata": {},
   "outputs": [],
   "source": [
    "model_list =[('DT',model1),('LR',model2),('SVC',model3)]"
   ]
  },
  {
   "cell_type": "code",
   "execution_count": 273,
   "id": "be4c32e3-f800-4a04-9cab-54a75c0ce425",
   "metadata": {},
   "outputs": [],
   "source": [
    "vc_model = VotingClassifier(estimators=model_list)"
   ]
  },
  {
   "cell_type": "code",
   "execution_count": 281,
   "id": "458c5693-c744-4eac-bf3c-e71eb45b6bb7",
   "metadata": {},
   "outputs": [
    {
     "data": {
      "text/plain": [
       "VotingClassifier(estimators=[('DT', DecisionTreeClassifier()),\n",
       "                             ('LR', LogisticRegression()), ('SVC', SVC())])"
      ]
     },
     "execution_count": 281,
     "metadata": {},
     "output_type": "execute_result"
    }
   ],
   "source": [
    "vc_model.fit(x_train, y_train)"
   ]
  },
  {
   "cell_type": "code",
   "execution_count": 282,
   "id": "5ab3f437-d492-4cd7-93d4-22c9829d265f",
   "metadata": {},
   "outputs": [
    {
     "data": {
      "text/plain": [
       "0.9991682726442844"
      ]
     },
     "execution_count": 282,
     "metadata": {},
     "output_type": "execute_result"
    }
   ],
   "source": [
    "vc_model.score(x_test, y_test)"
   ]
  },
  {
   "cell_type": "code",
   "execution_count": null,
   "id": "f993dcbe-432c-44b4-9979-0e893eac2400",
   "metadata": {},
   "outputs": [],
   "source": []
  },
  {
   "cell_type": "code",
   "execution_count": null,
   "id": "72d91e97-ddcc-4cf4-8fc4-c948d2e53b08",
   "metadata": {},
   "outputs": [],
   "source": []
  },
  {
   "cell_type": "markdown",
   "id": "e8a00e9f-21b3-48d9-8b07-b190f5e235ed",
   "metadata": {},
   "source": [
    "-"
   ]
  },
  {
   "cell_type": "code",
   "execution_count": 243,
   "id": "08688ef7-6fba-4aea-9933-010ce30346cc",
   "metadata": {},
   "outputs": [],
   "source": [
    "pred = model.predict(x_test)"
   ]
  },
  {
   "cell_type": "code",
   "execution_count": 244,
   "id": "ba123ecb-9150-45cb-ae29-419510c7e97d",
   "metadata": {},
   "outputs": [],
   "source": [
    "from sklearn.metrics import f1_score\n",
    "#from sklearn.preprocessing import LabelBinarizer # str을 int 로 사용하기 위해 사용?!"
   ]
  },
  {
   "cell_type": "code",
   "execution_count": 245,
   "id": "a58646bf-385a-4020-8530-2d3b8e29fa6f",
   "metadata": {},
   "outputs": [
    {
     "data": {
      "text/plain": [
       "0.8792483462131311"
      ]
     },
     "execution_count": 245,
     "metadata": {},
     "output_type": "execute_result"
    }
   ],
   "source": [
    "f1_score(pred, y_test,average='macro')"
   ]
  },
  {
   "cell_type": "markdown",
   "id": "9f740a9b-4a2b-424d-b18d-09881c364f52",
   "metadata": {},
   "source": [
    "--"
   ]
  },
  {
   "cell_type": "code",
   "execution_count": 246,
   "id": "e110af61-e304-4934-9b7e-271735fda369",
   "metadata": {},
   "outputs": [],
   "source": [
    "X = card.drop('Class', axis =1)\n",
    "Y = card['Class']"
   ]
  },
  {
   "cell_type": "code",
   "execution_count": 247,
   "id": "c02054cb-f6d3-4952-a674-b5b75181887e",
   "metadata": {},
   "outputs": [],
   "source": [
    "real_pred = model.predict(X)"
   ]
  },
  {
   "cell_type": "code",
   "execution_count": 248,
   "id": "f23cfa1b-be13-4fe6-a060-c4e3c7a9ba42",
   "metadata": {},
   "outputs": [
    {
     "data": {
      "text/plain": [
       "0.9998698562439104"
      ]
     },
     "execution_count": 248,
     "metadata": {},
     "output_type": "execute_result"
    }
   ],
   "source": [
    "f1_score(Y, real_pred, pos_label = 0)"
   ]
  },
  {
   "cell_type": "code",
   "execution_count": 249,
   "id": "2cab90a4-35e0-433a-be97-d39bc4308395",
   "metadata": {},
   "outputs": [
    {
     "data": {
      "text/plain": [
       "0.9268774703557312"
      ]
     },
     "execution_count": 249,
     "metadata": {},
     "output_type": "execute_result"
    }
   ],
   "source": [
    "f1_score(Y, real_pred, pos_label = 1)"
   ]
  },
  {
   "cell_type": "code",
   "execution_count": 250,
   "id": "c06110ed-4a45-41eb-8c9f-5966d3434eef",
   "metadata": {},
   "outputs": [
    {
     "data": {
      "text/plain": [
       "0.9633736632998209"
      ]
     },
     "execution_count": 250,
     "metadata": {},
     "output_type": "execute_result"
    }
   ],
   "source": [
    "f1_score(Y, real_pred,average='macro')"
   ]
  },
  {
   "cell_type": "code",
   "execution_count": null,
   "id": "e1617f03-ccd3-4ca6-b78d-b8d1c4672991",
   "metadata": {},
   "outputs": [],
   "source": []
  },
  {
   "cell_type": "code",
   "execution_count": null,
   "id": "3eacfe01-b930-46d4-bec8-47af6112888b",
   "metadata": {},
   "outputs": [],
   "source": []
  },
  {
   "cell_type": "markdown",
   "id": "680b676c-77ee-417a-9b7c-795f6f90ec64",
   "metadata": {},
   "source": [
    "--"
   ]
  },
  {
   "cell_type": "code",
   "execution_count": null,
   "id": "3a4c5dac-8e71-42ae-b6cc-6eea478abd4a",
   "metadata": {},
   "outputs": [],
   "source": []
  }
 ],
 "metadata": {
  "kernelspec": {
   "display_name": "Python 3 (ipykernel)",
   "language": "python",
   "name": "python3"
  },
  "language_info": {
   "codemirror_mode": {
    "name": "ipython",
    "version": 3
   },
   "file_extension": ".py",
   "mimetype": "text/x-python",
   "name": "python",
   "nbconvert_exporter": "python",
   "pygments_lexer": "ipython3",
   "version": "3.9.12"
  }
 },
 "nbformat": 4,
 "nbformat_minor": 5
}
