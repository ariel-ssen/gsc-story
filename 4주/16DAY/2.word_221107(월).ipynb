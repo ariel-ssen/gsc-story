{
 "cells": [
  {
   "cell_type": "code",
   "execution_count": 1,
   "id": "b884a73e-0f38-4b81-9278-c6127c10ca01",
   "metadata": {},
   "outputs": [
    {
     "name": "stdout",
     "output_type": "stream",
     "text": [
      "Collecting python-docx\n",
      "  Downloading python-docx-0.8.11.tar.gz (5.6 MB)\n",
      "Requirement already satisfied: lxml>=2.3.2 in c:\\users\\user\\anaconda3\\lib\\site-packages (from python-docx) (4.8.0)\n",
      "Building wheels for collected packages: python-docx\n",
      "  Building wheel for python-docx (setup.py): started\n",
      "  Building wheel for python-docx (setup.py): finished with status 'done'\n",
      "  Created wheel for python-docx: filename=python_docx-0.8.11-py3-none-any.whl size=184507 sha256=60673fc4d58865b63617a9bc1d21e1486871ceb0bafaffc04ca2795f8e5623ec\n",
      "  Stored in directory: c:\\users\\user\\appdata\\local\\pip\\cache\\wheels\\83\\8b\\7c\\09ae60c42c7ba4ed2dddaf2b8b9186cb105255856d6ed3dba5\n",
      "Successfully built python-docx\n",
      "Installing collected packages: python-docx\n",
      "Successfully installed python-docx-0.8.11\n",
      "Note: you may need to restart the kernel to use updated packages.\n"
     ]
    }
   ],
   "source": [
    "pip install python-docx"
   ]
  },
  {
   "cell_type": "code",
   "execution_count": 5,
   "id": "91e9db40-96ad-4fcd-b977-b8cfa6cad9d9",
   "metadata": {},
   "outputs": [],
   "source": [
    "import pandas as pd\n",
    "import docx"
   ]
  },
  {
   "cell_type": "code",
   "execution_count": 6,
   "id": "6162aaf9-00b6-4992-b76a-c01337515e88",
   "metadata": {},
   "outputs": [],
   "source": [
    "df = pd.read_csv('data.csv', encoding = 'euckr')"
   ]
  },
  {
   "cell_type": "code",
   "execution_count": 7,
   "id": "95cc1c79-ad57-4ffb-9233-c62cd29b15e4",
   "metadata": {
    "collapsed": true,
    "jupyter": {
     "outputs_hidden": true
    },
    "tags": []
   },
   "outputs": [
    {
     "data": {
      "text/html": [
       "<div>\n",
       "<style scoped>\n",
       "    .dataframe tbody tr th:only-of-type {\n",
       "        vertical-align: middle;\n",
       "    }\n",
       "\n",
       "    .dataframe tbody tr th {\n",
       "        vertical-align: top;\n",
       "    }\n",
       "\n",
       "    .dataframe thead th {\n",
       "        text-align: right;\n",
       "    }\n",
       "</style>\n",
       "<table border=\"1\" class=\"dataframe\">\n",
       "  <thead>\n",
       "    <tr style=\"text-align: right;\">\n",
       "      <th></th>\n",
       "      <th>수료번호</th>\n",
       "      <th>성명</th>\n",
       "      <th>소속</th>\n",
       "      <th>교육과정</th>\n",
       "      <th>교육기간</th>\n",
       "      <th>발행일</th>\n",
       "    </tr>\n",
       "  </thead>\n",
       "  <tbody>\n",
       "    <tr>\n",
       "      <th>0</th>\n",
       "      <td>2022-001</td>\n",
       "      <td>강지원</td>\n",
       "      <td>금천 2기</td>\n",
       "      <td>기업데이터를 활용한 AI</td>\n",
       "      <td>2022.10 ~ 2023.02</td>\n",
       "      <td>23.03.01</td>\n",
       "    </tr>\n",
       "    <tr>\n",
       "      <th>1</th>\n",
       "      <td>2022-002</td>\n",
       "      <td>고건영</td>\n",
       "      <td>금천 2기</td>\n",
       "      <td>기업데이터를 활용한 AI</td>\n",
       "      <td>2022.10 ~ 2023.02</td>\n",
       "      <td>23.03.01</td>\n",
       "    </tr>\n",
       "    <tr>\n",
       "      <th>2</th>\n",
       "      <td>2022-003</td>\n",
       "      <td>고상현</td>\n",
       "      <td>금천 2기</td>\n",
       "      <td>기업데이터를 활용한 AI</td>\n",
       "      <td>2022.10 ~ 2023.02</td>\n",
       "      <td>23.03.01</td>\n",
       "    </tr>\n",
       "    <tr>\n",
       "      <th>3</th>\n",
       "      <td>2022-004</td>\n",
       "      <td>김민진</td>\n",
       "      <td>금천 2기</td>\n",
       "      <td>기업데이터를 활용한 AI</td>\n",
       "      <td>2022.10 ~ 2023.02</td>\n",
       "      <td>23.03.01</td>\n",
       "    </tr>\n",
       "    <tr>\n",
       "      <th>4</th>\n",
       "      <td>2022-005</td>\n",
       "      <td>김병진</td>\n",
       "      <td>금천 2기</td>\n",
       "      <td>기업데이터를 활용한 AI</td>\n",
       "      <td>2022.10 ~ 2023.02</td>\n",
       "      <td>23.03.01</td>\n",
       "    </tr>\n",
       "  </tbody>\n",
       "</table>\n",
       "</div>"
      ],
      "text/plain": [
       "       수료번호   성명     소속           교육과정               교육기간       발행일\n",
       "0  2022-001  강지원  금천 2기  기업데이터를 활용한 AI  2022.10 ~ 2023.02  23.03.01\n",
       "1  2022-002  고건영  금천 2기  기업데이터를 활용한 AI  2022.10 ~ 2023.02  23.03.01\n",
       "2  2022-003  고상현  금천 2기  기업데이터를 활용한 AI  2022.10 ~ 2023.02  23.03.01\n",
       "3  2022-004  김민진  금천 2기  기업데이터를 활용한 AI  2022.10 ~ 2023.02  23.03.01\n",
       "4  2022-005  김병진  금천 2기  기업데이터를 활용한 AI  2022.10 ~ 2023.02  23.03.01"
      ]
     },
     "execution_count": 7,
     "metadata": {},
     "output_type": "execute_result"
    }
   ],
   "source": [
    "df"
   ]
  },
  {
   "cell_type": "code",
   "execution_count": 8,
   "id": "db392139-f509-4079-a674-0d9e5b3049b3",
   "metadata": {},
   "outputs": [],
   "source": [
    "doc = docx.Document('template.docx')"
   ]
  },
  {
   "cell_type": "code",
   "execution_count": 9,
   "id": "36a1698f-6d65-4436-83fd-b6c4d1ad38c9",
   "metadata": {},
   "outputs": [],
   "source": [
    "para = doc.paragraphs"
   ]
  },
  {
   "cell_type": "code",
   "execution_count": 10,
   "id": "35dddb0f-35b2-4843-96c9-7b8ede51a85a",
   "metadata": {},
   "outputs": [
    {
     "data": {
      "text/plain": [
       "<docx.text.paragraph.Paragraph at 0x23c19b76130>"
      ]
     },
     "execution_count": 10,
     "metadata": {},
     "output_type": "execute_result"
    }
   ],
   "source": [
    "para[0]"
   ]
  },
  {
   "cell_type": "code",
   "execution_count": 14,
   "id": "9ec01a4a-ac4b-4ce7-9f2c-6f5477360a9e",
   "metadata": {},
   "outputs": [],
   "source": [
    "def view(para) :\n",
    "    for n, t in enumerate(para) :\n",
    "        print(n, t.text)"
   ]
  },
  {
   "cell_type": "code",
   "execution_count": 15,
   "id": "c15aeec4-ee41-48a2-bf33-5fbb7abb5a68",
   "metadata": {},
   "outputs": [
    {
     "name": "stdout",
     "output_type": "stream",
     "text": [
      "0 \n",
      "1 \n",
      "2 수료번호 : \n",
      "3 수 료 증\n",
      "4 \n",
      "5 성    명 : \n",
      "6 소    속 : \n",
      "7 교육과정 : \n",
      "8 교육기간 : \n",
      "9 \n",
      "10 귀하는 위 교육을 수료하였기에 이 증서를 수여합니다.\n",
      "11 \n",
      "12 \n",
      "13 (발행일)\n",
      "14 \n",
      "15 청년취업사관학교\n",
      "16 \n"
     ]
    }
   ],
   "source": [
    "for n, t in enumerate(para) :\n",
    "    print(n, t.text)"
   ]
  },
  {
   "cell_type": "code",
   "execution_count": 16,
   "id": "5bb4ea60-daca-4a82-8298-d456530d3254",
   "metadata": {},
   "outputs": [
    {
     "data": {
      "text/plain": [
       "<docx.text.paragraph.Paragraph at 0x23c19b760a0>"
      ]
     },
     "execution_count": 16,
     "metadata": {},
     "output_type": "execute_result"
    }
   ],
   "source": [
    "para[2].clear()"
   ]
  },
  {
   "cell_type": "code",
   "execution_count": 17,
   "id": "17054c0c-dd1a-4e0b-9d47-867c418e1563",
   "metadata": {},
   "outputs": [
    {
     "name": "stdout",
     "output_type": "stream",
     "text": [
      "0 \n",
      "1 \n",
      "2 \n",
      "3 수 료 증\n",
      "4 \n",
      "5 성    명 : \n",
      "6 소    속 : \n",
      "7 교육과정 : \n",
      "8 교육기간 : \n",
      "9 \n",
      "10 귀하는 위 교육을 수료하였기에 이 증서를 수여합니다.\n",
      "11 \n",
      "12 \n",
      "13 (발행일)\n",
      "14 \n",
      "15 청년취업사관학교\n",
      "16 \n"
     ]
    }
   ],
   "source": [
    "view(para)"
   ]
  },
  {
   "cell_type": "code",
   "execution_count": null,
   "id": "3c670a34-5379-4b43-92f9-912f1f863fe5",
   "metadata": {},
   "outputs": [],
   "source": [
    "df.iloc[0]['수료번호']"
   ]
  },
  {
   "cell_type": "code",
   "execution_count": 18,
   "id": "4cd93ede-51f1-4fde-860a-e21665326b09",
   "metadata": {},
   "outputs": [
    {
     "data": {
      "text/plain": [
       "<docx.text.run.Run at 0x23c19ea75b0>"
      ]
     },
     "execution_count": 18,
     "metadata": {},
     "output_type": "execute_result"
    }
   ],
   "source": [
    "para[1].add_run(\"수료번호 : \" + df.iloc[0]['수료번호'])"
   ]
  },
  {
   "cell_type": "code",
   "execution_count": 46,
   "id": "a0366e0b-6043-48cf-af1d-7df214f9b73f",
   "metadata": {},
   "outputs": [
    {
     "name": "stdout",
     "output_type": "stream",
     "text": [
      "0 \n",
      "1 수료번호 : 2022-005\n",
      "2 \n",
      "3 수 료 증\n",
      "4 \n",
      "5 성    명 : 김병진\n",
      "6 소    속 : 금천 2기\n",
      "7 교육과정 : 기업데이터를 활용한 AI\n",
      "8 교육기간 : 2022.10 ~ 2023.02\n",
      "9 \n",
      "10 귀하는 위 교육을 수료하였기에 이 증서를 수여합니다.\n",
      "11 \n",
      "12 \n",
      "13 (발행일)\n",
      "14 \n",
      "15 청년취업사관학교\n",
      "16 \n"
     ]
    }
   ],
   "source": [
    "view(para) # 지금상태에서 그냥 넣으면 글씨체가 깨진다. 글씨체를 바꾸기 위해서 밑에서와 같은 절차를 해줘야함."
   ]
  },
  {
   "cell_type": "code",
   "execution_count": 21,
   "id": "ee310003-8546-4da8-bdf3-75af9cc5c49e",
   "metadata": {},
   "outputs": [],
   "source": [
    "run = para[1].add_run(\"수료번호 : \" + df.iloc[0]['수료번호'])"
   ]
  },
  {
   "cell_type": "code",
   "execution_count": 22,
   "id": "e94d4597-5388-4016-a554-60d5247363af",
   "metadata": {},
   "outputs": [],
   "source": [
    "run.font.name = '나눔고딕'\n",
    "run.bold = True\n",
    "run.font.size = docx.shared.Pt(16)"
   ]
  },
  {
   "cell_type": "code",
   "execution_count": 45,
   "id": "34926cdd-c155-4e01-9f3b-cd6959b269d5",
   "metadata": {},
   "outputs": [
    {
     "name": "stdout",
     "output_type": "stream",
     "text": [
      "0 2022-001 강지원 금천 2기 기업데이터를 활용한 AI 2022.10 ~ 2023.02 23.03.01\n",
      "---\n",
      "1 2022-002 고건영 금천 2기 기업데이터를 활용한 AI 2022.10 ~ 2023.02 23.03.01\n",
      "---\n",
      "2 2022-003 고상현 금천 2기 기업데이터를 활용한 AI 2022.10 ~ 2023.02 23.03.01\n",
      "---\n",
      "3 2022-004 김민진 금천 2기 기업데이터를 활용한 AI 2022.10 ~ 2023.02 23.03.01\n",
      "---\n",
      "4 2022-005 김병진 금천 2기 기업데이터를 활용한 AI 2022.10 ~ 2023.02 23.03.01\n",
      "---\n"
     ]
    }
   ],
   "source": [
    "for index, low in df.iterrows() : #.iterrows() : 한줄씩 가져올 수 있음\n",
    "    print(index, low['수료번호'], low['성명'], low['소속'], low['교육과정'], low['교육기간'], low['발행일'])\n",
    "    print('---')\n",
    "    \n",
    "    doc = docx.Document('template.docx')\n",
    "    para = doc.paragraphs\n",
    "    \n",
    "    para[2].clear()\n",
    "    run = para[1].add_run(\"수료번호 : \" + low['수료번호'])\n",
    "    run.font.name = '나눔고딕'\n",
    "    run.bold = True\n",
    "    run.font.size = docx.shared.Pt(16)\n",
    "    \n",
    "    run = para[5].add_run(low['성명'])\n",
    "    run.font.name = '나눔고딕'\n",
    "    run.bold = True\n",
    "    run.font.size = docx.shared.Pt(16)\n",
    "    \n",
    "    run = para[6].add_run(low['소속'])\n",
    "    run.font.name = '나눔고딕'\n",
    "    run.bold = True\n",
    "    run.font.size = docx.shared.Pt(16)\n",
    "    \n",
    "    run = para[7].add_run(low['교육과정'])\n",
    "    run.font.name = '나눔고딕'\n",
    "    run.bold = True\n",
    "    run.font.size = docx.shared.Pt(16)\n",
    "    \n",
    "    run = para[8].add_run(low['교육기간'])\n",
    "    run.font.name = '나눔고딕'\n",
    "    run.bold = True\n",
    "    run.font.size = docx.shared.Pt(16)\n",
    "    \n",
    "    doc.save(low['수료번호'] + '.docx')"
   ]
  },
  {
   "cell_type": "code",
   "execution_count": 47,
   "id": "e479f5dc-36f3-4c43-a8f9-403d543f36ee",
   "metadata": {},
   "outputs": [],
   "source": [
    "import os"
   ]
  },
  {
   "cell_type": "code",
   "execution_count": 48,
   "id": "7e5726be-2889-44f2-9b15-b28f37f13998",
   "metadata": {},
   "outputs": [
    {
     "name": "stdout",
     "output_type": "stream",
     "text": [
      "Collecting docx2pdf\n",
      "  Downloading docx2pdf-0.1.8-py3-none-any.whl (6.7 kB)\n",
      "Requirement already satisfied: tqdm>=4.41.0 in c:\\users\\user\\anaconda3\\lib\\site-packages (from docx2pdf) (4.64.0)\n",
      "Requirement already satisfied: pywin32>=227 in c:\\users\\user\\anaconda3\\lib\\site-packages (from docx2pdf) (302)\n",
      "Requirement already satisfied: colorama in c:\\users\\user\\anaconda3\\lib\\site-packages (from tqdm>=4.41.0->docx2pdf) (0.4.4)\n",
      "Installing collected packages: docx2pdf\n",
      "Successfully installed docx2pdf-0.1.8\n",
      "Note: you may need to restart the kernel to use updated packages.\n"
     ]
    }
   ],
   "source": [
    "pip install docx2pdf"
   ]
  },
  {
   "cell_type": "code",
   "execution_count": 49,
   "id": "22d99e21-5b9b-4694-a462-ed0bbf41927e",
   "metadata": {},
   "outputs": [],
   "source": [
    "from docx2pdf import convert"
   ]
  },
  {
   "cell_type": "code",
   "execution_count": 52,
   "id": "7ff6ffca-a5d8-48f4-810e-506b20738724",
   "metadata": {},
   "outputs": [
    {
     "data": {
      "application/vnd.jupyter.widget-view+json": {
       "model_id": "ede3f76e6ec5405084e4587bed979fa1",
       "version_major": 2,
       "version_minor": 0
      },
      "text/plain": [
       "  0%|          | 0/1 [00:00<?, ?it/s]"
      ]
     },
     "metadata": {},
     "output_type": "display_data"
    },
    {
     "data": {
      "application/vnd.jupyter.widget-view+json": {
       "model_id": "8d88d949f87e42a699ae626c02900f49",
       "version_major": 2,
       "version_minor": 0
      },
      "text/plain": [
       "  0%|          | 0/1 [00:00<?, ?it/s]"
      ]
     },
     "metadata": {},
     "output_type": "display_data"
    },
    {
     "data": {
      "application/vnd.jupyter.widget-view+json": {
       "model_id": "cd175aef6c1a4b42be32240a242cda81",
       "version_major": 2,
       "version_minor": 0
      },
      "text/plain": [
       "  0%|          | 0/1 [00:00<?, ?it/s]"
      ]
     },
     "metadata": {},
     "output_type": "display_data"
    },
    {
     "data": {
      "application/vnd.jupyter.widget-view+json": {
       "model_id": "fb5314a4676c44dbbf325e9c19fb6a13",
       "version_major": 2,
       "version_minor": 0
      },
      "text/plain": [
       "  0%|          | 0/1 [00:00<?, ?it/s]"
      ]
     },
     "metadata": {},
     "output_type": "display_data"
    },
    {
     "data": {
      "application/vnd.jupyter.widget-view+json": {
       "model_id": "a80860150f8844189e0117d729e06c77",
       "version_major": 2,
       "version_minor": 0
      },
      "text/plain": [
       "  0%|          | 0/1 [00:00<?, ?it/s]"
      ]
     },
     "metadata": {},
     "output_type": "display_data"
    }
   ],
   "source": [
    "for num in df['수료번호'] :\n",
    "    inputFile = num + '.docx'\n",
    "    outputFile = num + '.pdf'\n",
    "    \n",
    "    convert(inputFile, 'C:\\\\Users\\\\user\\\\Desktop\\\\python\\\\22년 11월 2주(4주차)\\\\1.221107(금)\\\\' + outputFile)"
   ]
  },
  {
   "cell_type": "markdown",
   "id": "ffe8824c-092b-492f-a669-1e133527f86d",
   "metadata": {},
   "source": [
    "inputFile = \"2022-001.docx\"\n",
    "outputFile = \"2022-001.pdf\"\n",
    "\n",
    "convert(inputFile, 'C:\\Users\\user\\Desktop\\python\\22년 11월 2주(4주차)\\1.221107(금)' + outputFile)"
   ]
  },
  {
   "cell_type": "code",
   "execution_count": null,
   "id": "b34ebbf3-9aa9-4b50-96ad-d40ec95e6f6c",
   "metadata": {},
   "outputs": [],
   "source": []
  },
  {
   "cell_type": "code",
   "execution_count": null,
   "id": "71ef14df-9c32-446a-9d69-29e3afb67c28",
   "metadata": {},
   "outputs": [],
   "source": []
  }
 ],
 "metadata": {
  "kernelspec": {
   "display_name": "Python 3 (ipykernel)",
   "language": "python",
   "name": "python3"
  },
  "language_info": {
   "codemirror_mode": {
    "name": "ipython",
    "version": 3
   },
   "file_extension": ".py",
   "mimetype": "text/x-python",
   "name": "python",
   "nbconvert_exporter": "python",
   "pygments_lexer": "ipython3",
   "version": "3.9.12"
  }
 },
 "nbformat": 4,
 "nbformat_minor": 5
}
