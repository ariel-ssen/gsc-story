{
 "cells": [
  {
   "cell_type": "code",
   "execution_count": 1,
   "id": "02eaa887-d50e-4562-8ce0-c884c683f081",
   "metadata": {},
   "outputs": [],
   "source": [
    "import requests\n",
    "from bs4 import BeautifulSoup"
   ]
  },
  {
   "cell_type": "code",
   "execution_count": 2,
   "id": "96427787-1535-46e9-98e5-eb6489b026a3",
   "metadata": {},
   "outputs": [],
   "source": [
    "url = 'https://sesac.seoul.kr/usr/member/dash/detail.do' \n",
    "## 헤더에 쿠키 값을 넣어서 로그인한 페이지 데이터 크롤링\n",
    "## user-agent도 헤더에 넣어서 던질수 있다.\n",
    "header = {'cookie':'page_logintype=1; _ga=GA1.1.673151548.1667803915; InitechEamUID_V42=CGDVhzvXuf7T4RJ9wpYJgw==; InitechEamUIP_V42=ObI+sLG6D4mrVazs8DBKHA==; InitechEamUTOA_V42=1; InitechEamUPID_V42=j3mVpo3U0M3pvdUTRFS4uw==; _BS_GUUID=xDiVyAcMr2tvLp4yj4TX4D2kveQoyiK6W21vDdh5; _TRK_EX=1; _TRK_UID=098f61c3623c4c6997cf7db63c6267ff:1:0:1667803926063; _TRK_SID=71c2fe841e3fc6b89afab4c1dcd79545; _TRK_CR=http://nsso.sba.seoul.kr:8090/; JSESSIONID=7D2566EF8622B5A88B6CDB62FBA22D95; _ga_ZLMCDSG8JM=GS1.1.1667803915.1.1.1667803955.0.0.0; InitechEamULAT_V42=1667803957; InitechEamUHMAC_V42=amF1jqvnLfKmnYKKjqZ3Ls1AA6UtrApSrvoudMLGgwY='}"
   ]
  },
  {
   "cell_type": "code",
   "execution_count": 3,
   "id": "0fbab223-a9fa-4cee-b834-bdaf049a8286",
   "metadata": {},
   "outputs": [],
   "source": [
    "req= requests.get(url, headers=header)\n",
    "soup= BeautifulSoup(req.text, 'html.parser')"
   ]
  },
  {
   "cell_type": "code",
   "execution_count": 4,
   "id": "6e4ee7db-e97b-4031-a469-a58c4f803be6",
   "metadata": {
    "collapsed": true,
    "jupyter": {
     "outputs_hidden": true
    },
    "tags": []
   },
   "outputs": [
    {
     "ename": "AttributeError",
     "evalue": "'NoneType' object has no attribute 'text'",
     "output_type": "error",
     "traceback": [
      "\u001b[1;31m---------------------------------------------------------------------------\u001b[0m",
      "\u001b[1;31mAttributeError\u001b[0m                            Traceback (most recent call last)",
      "\u001b[1;32m~\\AppData\\Local\\Temp\\ipykernel_13252\\1635998435.py\u001b[0m in \u001b[0;36m<module>\u001b[1;34m\u001b[0m\n\u001b[1;32m----> 1\u001b[1;33m \u001b[0msoup\u001b[0m\u001b[1;33m.\u001b[0m\u001b[0mselect_one\u001b[0m\u001b[1;33m(\u001b[0m\u001b[1;34m'#s2_02 > div > table > tbody > tr > td.al'\u001b[0m\u001b[1;33m)\u001b[0m\u001b[1;33m.\u001b[0m\u001b[0mtext\u001b[0m\u001b[1;33m\u001b[0m\u001b[1;33m\u001b[0m\u001b[0m\n\u001b[0m",
      "\u001b[1;31mAttributeError\u001b[0m: 'NoneType' object has no attribute 'text'"
     ]
    }
   ],
   "source": [
    "soup.select_one('#s2_02 > div > table > tbody > tr > td.al').text"
   ]
  },
  {
   "cell_type": "code",
   "execution_count": 5,
   "id": "8345f5ef-8791-4245-8d21-f65c3538ac09",
   "metadata": {},
   "outputs": [],
   "source": [
    "#pip install python-docx"
   ]
  },
  {
   "cell_type": "code",
   "execution_count": 6,
   "id": "ee1cd0f4-07b8-4621-b385-1c1b0c669bb8",
   "metadata": {},
   "outputs": [],
   "source": [
    "import pandas as pd\n",
    "import docx"
   ]
  },
  {
   "cell_type": "code",
   "execution_count": 7,
   "id": "1736910b-ae70-4682-8bc6-57d20518c8ef",
   "metadata": {},
   "outputs": [],
   "source": [
    "data = pd.read_csv('data.csv', encoding='euckr')"
   ]
  },
  {
   "cell_type": "code",
   "execution_count": 8,
   "id": "5b41e343-2e6e-4499-8b84-991ae093fb5e",
   "metadata": {},
   "outputs": [
    {
     "data": {
      "text/html": [
       "<div>\n",
       "<style scoped>\n",
       "    .dataframe tbody tr th:only-of-type {\n",
       "        vertical-align: middle;\n",
       "    }\n",
       "\n",
       "    .dataframe tbody tr th {\n",
       "        vertical-align: top;\n",
       "    }\n",
       "\n",
       "    .dataframe thead th {\n",
       "        text-align: right;\n",
       "    }\n",
       "</style>\n",
       "<table border=\"1\" class=\"dataframe\">\n",
       "  <thead>\n",
       "    <tr style=\"text-align: right;\">\n",
       "      <th></th>\n",
       "      <th>수료번호</th>\n",
       "      <th>성명</th>\n",
       "      <th>소속</th>\n",
       "      <th>교육과정</th>\n",
       "      <th>교육기간</th>\n",
       "      <th>발행일</th>\n",
       "    </tr>\n",
       "  </thead>\n",
       "  <tbody>\n",
       "    <tr>\n",
       "      <th>0</th>\n",
       "      <td>2022-001</td>\n",
       "      <td>강지원</td>\n",
       "      <td>금천 2기</td>\n",
       "      <td>기업데이터를 활용한 AI</td>\n",
       "      <td>2022.10 ~ 2023.02</td>\n",
       "      <td>23.03.01</td>\n",
       "    </tr>\n",
       "    <tr>\n",
       "      <th>1</th>\n",
       "      <td>2022-002</td>\n",
       "      <td>고건영</td>\n",
       "      <td>금천 2기</td>\n",
       "      <td>기업데이터를 활용한 AI</td>\n",
       "      <td>2022.10 ~ 2023.02</td>\n",
       "      <td>23.03.01</td>\n",
       "    </tr>\n",
       "    <tr>\n",
       "      <th>2</th>\n",
       "      <td>2022-003</td>\n",
       "      <td>고상현</td>\n",
       "      <td>금천 2기</td>\n",
       "      <td>기업데이터를 활용한 AI</td>\n",
       "      <td>2022.10 ~ 2023.02</td>\n",
       "      <td>23.03.01</td>\n",
       "    </tr>\n",
       "    <tr>\n",
       "      <th>3</th>\n",
       "      <td>2022-004</td>\n",
       "      <td>김민진</td>\n",
       "      <td>금천 2기</td>\n",
       "      <td>기업데이터를 활용한 AI</td>\n",
       "      <td>2022.10 ~ 2023.02</td>\n",
       "      <td>23.03.01</td>\n",
       "    </tr>\n",
       "    <tr>\n",
       "      <th>4</th>\n",
       "      <td>2022-005</td>\n",
       "      <td>김병진</td>\n",
       "      <td>금천 2기</td>\n",
       "      <td>기업데이터를 활용한 AI</td>\n",
       "      <td>2022.10 ~ 2023.02</td>\n",
       "      <td>23.03.01</td>\n",
       "    </tr>\n",
       "  </tbody>\n",
       "</table>\n",
       "</div>"
      ],
      "text/plain": [
       "       수료번호   성명     소속           교육과정               교육기간       발행일\n",
       "0  2022-001  강지원  금천 2기  기업데이터를 활용한 AI  2022.10 ~ 2023.02  23.03.01\n",
       "1  2022-002  고건영  금천 2기  기업데이터를 활용한 AI  2022.10 ~ 2023.02  23.03.01\n",
       "2  2022-003  고상현  금천 2기  기업데이터를 활용한 AI  2022.10 ~ 2023.02  23.03.01\n",
       "3  2022-004  김민진  금천 2기  기업데이터를 활용한 AI  2022.10 ~ 2023.02  23.03.01\n",
       "4  2022-005  김병진  금천 2기  기업데이터를 활용한 AI  2022.10 ~ 2023.02  23.03.01"
      ]
     },
     "execution_count": 8,
     "metadata": {},
     "output_type": "execute_result"
    }
   ],
   "source": [
    "data"
   ]
  },
  {
   "cell_type": "code",
   "execution_count": 17,
   "id": "68c62354-67ef-4974-b42b-228c6d737cbf",
   "metadata": {},
   "outputs": [],
   "source": [
    "doc = docx.Document('template.docx')"
   ]
  },
  {
   "cell_type": "code",
   "execution_count": 42,
   "id": "da218a36-f3f0-454e-885b-1eb72e5d029d",
   "metadata": {},
   "outputs": [],
   "source": [
    "def view(para):\n",
    "    for n,t in enumerate(para):\n",
    "        print(n, t.text)"
   ]
  },
  {
   "cell_type": "code",
   "execution_count": 18,
   "id": "45ae3765-fb67-48ad-b4c2-c49202425282",
   "metadata": {},
   "outputs": [],
   "source": [
    "para = doc.paragraphs"
   ]
  },
  {
   "cell_type": "code",
   "execution_count": 43,
   "id": "7ebb0ede-d83f-4a58-bf78-3b81e94cae0f",
   "metadata": {},
   "outputs": [
    {
     "name": "stdout",
     "output_type": "stream",
     "text": [
      "0 \n",
      "1 2022-005\n",
      "2 수료번호 : \n",
      "3 수 료 증\n",
      "4 \n",
      "5 성    명 : 김병진\n",
      "6 소    속 : \n",
      "7 교육과정 : \n",
      "8 교육기간 : 2022.10 ~ 2023.02\n",
      "9 \n",
      "10 귀하는 위 교육을 수료하였기에 이 증서를 수여합니다.\n",
      "11 \n",
      "12 \n",
      "13 (발행일)\n",
      "14 \n",
      "15 청년취업사관학교\n",
      "16 \n"
     ]
    }
   ],
   "source": [
    "view(para)"
   ]
  },
  {
   "cell_type": "code",
   "execution_count": null,
   "id": "6c80326a-4c8b-4d8d-a426-139a365ddad2",
   "metadata": {},
   "outputs": [],
   "source": [
    "run = para[1].add_run('수료번호 :' + data.iloc[0]['수료번호'])"
   ]
  },
  {
   "cell_type": "code",
   "execution_count": null,
   "id": "f43eaf31-62fd-4d02-81ff-527735ab6871",
   "metadata": {},
   "outputs": [],
   "source": [
    "run.font.name = '나눔고딕'\n",
    "run.bold= True\n",
    "run.font.size= docx.shared.Pt(16)"
   ]
  },
  {
   "cell_type": "code",
   "execution_count": 48,
   "id": "7556f0c5-ce07-4fa1-8d77-441b0af7eed2",
   "metadata": {},
   "outputs": [],
   "source": [
    "for index, row in data.iterrows():\n",
    "    doc = docx.Document('template.docx')\n",
    "    para= doc.paragraphs\n",
    "    run.font.name = '나눔고딕'\n",
    "    para[1].clear()\n",
    "    run = para[2].add_run( row['수료번호'])\n",
    "    run.bold= True\n",
    "    run.font.size= docx.shared.Pt(16)\n",
    "    run = para[5].add_run( row['성명'])\n",
    "    run.bold= True\n",
    "    run.font.size= docx.shared.Pt(16)\n",
    "    run = para[8].add_run(row['교육기간'])\n",
    "    run.bold= True\n",
    "    run.font.size= docx.shared.Pt(16)\n",
    "    \n",
    "    doc.save(row['수료번호']+ '.docx')"
   ]
  },
  {
   "cell_type": "code",
   "execution_count": 49,
   "id": "0efa0968-d416-4dd7-b0df-fc5501b245d8",
   "metadata": {},
   "outputs": [],
   "source": [
    "import os \n",
    "from docx2pdf import convert"
   ]
  },
  {
   "cell_type": "code",
   "execution_count": 50,
   "id": "d9ebb872-d033-4e5d-86bf-8dcf0f01605e",
   "metadata": {},
   "outputs": [],
   "source": [
    "#pip install docx2pdf"
   ]
  },
  {
   "cell_type": "code",
   "execution_count": 51,
   "id": "f8b6e0bb-4fa6-4c10-8ae4-e2f8364689de",
   "metadata": {},
   "outputs": [
    {
     "data": {
      "application/vnd.jupyter.widget-view+json": {
       "model_id": "23e719e111704e0faf39cdae793efd61",
       "version_major": 2,
       "version_minor": 0
      },
      "text/plain": [
       "  0%|          | 0/1 [00:00<?, ?it/s]"
      ]
     },
     "metadata": {},
     "output_type": "display_data"
    },
    {
     "data": {
      "application/vnd.jupyter.widget-view+json": {
       "model_id": "78d04d8adea5469b9f552b61b6746016",
       "version_major": 2,
       "version_minor": 0
      },
      "text/plain": [
       "  0%|          | 0/1 [00:00<?, ?it/s]"
      ]
     },
     "metadata": {},
     "output_type": "display_data"
    },
    {
     "data": {
      "application/vnd.jupyter.widget-view+json": {
       "model_id": "d1b26041d5154ed7b79cecefff66f460",
       "version_major": 2,
       "version_minor": 0
      },
      "text/plain": [
       "  0%|          | 0/1 [00:00<?, ?it/s]"
      ]
     },
     "metadata": {},
     "output_type": "display_data"
    },
    {
     "data": {
      "application/vnd.jupyter.widget-view+json": {
       "model_id": "79ec1dd9b1064dc3bf81dda2e425ab16",
       "version_major": 2,
       "version_minor": 0
      },
      "text/plain": [
       "  0%|          | 0/1 [00:00<?, ?it/s]"
      ]
     },
     "metadata": {},
     "output_type": "display_data"
    },
    {
     "data": {
      "application/vnd.jupyter.widget-view+json": {
       "model_id": "9a1bd44daf5b4464a397291804a588b0",
       "version_major": 2,
       "version_minor": 0
      },
      "text/plain": [
       "  0%|          | 0/1 [00:00<?, ?it/s]"
      ]
     },
     "metadata": {},
     "output_type": "display_data"
    }
   ],
   "source": [
    "for num in data['수료번호']:\n",
    "    inputFile = num + '.docx'\n",
    "    outputFile = num + '.pdf'\n",
    "    convert(inputFile, \\\n",
    "           'C:\\\\Users\\\\user\\\\Desktop\\\\Jupyter\\\\' + outputFile)"
   ]
  },
  {
   "cell_type": "code",
   "execution_count": null,
   "id": "d8625ada-1391-4a57-8b30-73a53db38ea7",
   "metadata": {},
   "outputs": [],
   "source": []
  }
 ],
 "metadata": {
  "kernelspec": {
   "display_name": "Python 3 (ipykernel)",
   "language": "python",
   "name": "python3"
  },
  "language_info": {
   "codemirror_mode": {
    "name": "ipython",
    "version": 3
   },
   "file_extension": ".py",
   "mimetype": "text/x-python",
   "name": "python",
   "nbconvert_exporter": "python",
   "pygments_lexer": "ipython3",
   "version": "3.9.13"
  }
 },
 "nbformat": 4,
 "nbformat_minor": 5
}
