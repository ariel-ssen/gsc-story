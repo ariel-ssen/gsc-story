{
 "cells": [
  {
   "cell_type": "markdown",
   "id": "440fc524-3fd3-40ef-99bf-68a0159e6108",
   "metadata": {},
   "source": [
    "#  import 공부"
   ]
  },
  {
   "cell_type": "markdown",
   "id": "e7f89be0-4a2e-46cb-828a-7c9390c86799",
   "metadata": {},
   "source": [
    "- import math : \n",
    "    -- :좀 더 복잡한 연산이 필요한 경우 math 모듈을 사용한다.\n",
    "- import pandas as pd     \n",
    "    -- : 데이터를 구조화된 형식으로 가공 및 분석할 수 있도록 자료구조를 제공하는 패키지\n",
    "- import numpy as np  \n",
    "    -- : 기초 수학 연산 및 행렬계산\n",
    "    \n",
    "    \n",
    "- from sklearn.preprocessing import StandardScaler \n",
    "    -- : 데이터 표준화 작업\n",
    "- from sklearn.model_selection import train_test_split \n",
    "    -- : 자동으로 데이터셋을 분리해주는 함수\n",
    "    \n",
    "    \n",
    "\n",
    "- from sklearn import tree\n",
    "    -- : 의사결정나무\n",
    "- from sklearn.tree import DecisionTreeClassifier\n",
    "    -- : sklearn.tree 패키지의 모듈 중 DecisionTreeClassifier는 의사결정 트리 분류 모듈\n",
    "\n",
    "- from sklearn.metrics import classification_report \n",
    "    -- : 주요 분류 측정 항목을 보여주는 보고서 모듈\n",
    "- from sklearn.metrics import confusion_matrix \n",
    "    -- : 분류의 정확성을 평가하기 위한 오차행렬 계산 모듈\n",
    "- from sklearn.metrics import f1_score  \n",
    "    -- : F1-score는 Recall과 Precision의 조화평균으로 모델을 평가\n",
    "    -- : 0에서 1사이의 값을 가지며 1에 가까울수록 좋습니다.\n",
    "\n",
    "- from sklearn.linear_model import LinearRegression  \n",
    "    -- : 선형 회귀분석    \n",
    "- from sklearn.linear_model import LogisticRegression\n",
    "    -- : 로지스틱 회귀분석"
   ]
  },
  {
   "cell_type": "markdown",
   "id": "9a70bd67-66e6-434f-9e4f-61bdde95a019",
   "metadata": {},
   "source": [
    "## DecisionTreeClassifier()"
   ]
  },
  {
   "cell_type": "markdown",
   "id": "330cc9a5-4849-452f-a4b1-a87d974a47d6",
   "metadata": {},
   "source": [
    "- criterion : 분할 품질을 측정하는 기능 (default : gini)\n",
    "- splitter : 각 노드에서 분할을 선택하는 데 사용되는 전략 (default : best)\n",
    "- max_depth : 트리의 최대 깊이 (값이 클수록 모델의 복잡도가 올라간다.)\n",
    "- min_samples_split : 자식 노드를 분할하는데 필요한 최소 샘플 수 (default : 2)\n",
    "- min_samples_leaf : 리프 노드에 있어야 할 최소 샘플 수 (default : 1)\n",
    "- min_weight_fraction_leaf : min_sample_leaf와 같지만 가중치가 부여된 샘플 수에서의 비율\n",
    "- max_features : 각 노드에서 분할에 사용할 특징의 최대 수\n",
    "- random_state : 난수 seed 설정\n",
    "- max_leaf_nodes : 리프 노드의 최대수\n",
    "- min_impurity_decrease : 최소 불순도\n",
    "- min_impurity_split : 나무 성장을 멈추기 위한 임계치\n",
    "- class_weight : 클래스 가중치\n",
    "- presort : 데이터 정렬 필요 여부"
   ]
  },
  {
   "cell_type": "markdown",
   "id": "b1ee1235-4c99-4400-8949-33bfb93a8a8b",
   "metadata": {},
   "source": [
    "## 결정트리\n",
    "\n",
    "분할과 가지치기 과정을 반복하면서 모델을 생성한다.   \n",
    "결정트리에는 분류와 회귀 모두에 사용할 수 있다.   \n",
    "여러개의 모델을 함께 사용하는 앙상블 모델이 존재한다. (RandomForest, GradientBoosting, XGBoost)\n",
    "각 특성이 개별 처리되기 때문에 데이터 스케일에 영향을 받지 않아 특성의 정규화나 표준화가 필요 없다.    \n",
    "시계열 데이터와 같이 범위 밖의 포인트는 예측 할 수 없다.    \n",
    "과대적합되는 경향이 있다. 이는 본문에 소개할 가지치기 기법을 사용해도 크게 개선되지 않는다.   "
   ]
  },
  {
   "cell_type": "markdown",
   "id": "1f7b45ef-c57a-4adb-a06c-1795ea9a77de",
   "metadata": {},
   "source": [
    "- 의사결정 나무 : from sklearn.tree import DecisionTreeClassifier\n",
    "\n",
    "clf = tree.DecisionTreeClassifier()   \n",
    "clf.fit(x_train, y_train)    \n",
    "clf.predict(x_test)    \n",
    "clf.predict_proba(x_test)    \n",
    "clf.score(x_test, y_test)    "
   ]
  },
  {
   "cell_type": "markdown",
   "id": "fd25f6fe-d189-4a7e-b5aa-8cfc184c5488",
   "metadata": {},
   "source": [
    "- 선형회귀분석 : from sklearn.linear_model import LinearRegression  \n",
    "\n",
    "\n",
    "clf = LinearRegression()    \n",
    "clf.fit(x_train,y_train)  # 모수 추정    \n",
    "clf.coef_                 # 추정 된 모수 확인(상수항 제외)    \n",
    "clf.intercept_            # 추정 된 상수항 확인    \n",
    "clf.predic(x_test)        # 예측    \n",
    "clf.score(x_test, y_test) # 모형 성능 평가    "
   ]
  },
  {
   "cell_type": "markdown",
   "id": "c584d5eb-982a-4f07-b02e-006adb01b394",
   "metadata": {},
   "source": [
    "- 로지스틱 회귀분석 : from sklearn.linear_model import LogisticRegression \n",
    "\n",
    "clf = LogisticRegression(solver='lbfgs').fit(x_train,y_train)    \n",
    "clf.predict(x_test)    \n",
    "clf.predict_proba(x_test)   \n",
    "clf.score(x_test,y_test)   "
   ]
  },
  {
   "cell_type": "code",
   "execution_count": null,
   "id": "ed8d585a-94d2-465f-9ca9-bc4095236114",
   "metadata": {},
   "outputs": [],
   "source": []
  }
 ],
 "metadata": {
  "kernelspec": {
   "display_name": "Python 3 (ipykernel)",
   "language": "python",
   "name": "python3"
  },
  "language_info": {
   "codemirror_mode": {
    "name": "ipython",
    "version": 3
   },
   "file_extension": ".py",
   "mimetype": "text/x-python",
   "name": "python",
   "nbconvert_exporter": "python",
   "pygments_lexer": "ipython3",
   "version": "3.9.12"
  }
 },
 "nbformat": 4,
 "nbformat_minor": 5
}
