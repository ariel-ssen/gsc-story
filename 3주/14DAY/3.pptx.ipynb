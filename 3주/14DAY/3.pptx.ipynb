{
 "cells": [
  {
   "cell_type": "code",
   "execution_count": 1,
   "id": "af261369-968e-46e5-a150-1d508488d2d6",
   "metadata": {},
   "outputs": [
    {
     "name": "stdout",
     "output_type": "stream",
     "text": [
      "Collecting python-pptx\n",
      "  Downloading python-pptx-0.6.21.tar.gz (10.1 MB)\n",
      "Requirement already satisfied: lxml>=3.1.0 in c:\\users\\user\\anaconda3\\lib\\site-packages (from python-pptx) (4.8.0)\n",
      "Requirement already satisfied: Pillow>=3.3.2 in c:\\users\\user\\anaconda3\\lib\\site-packages (from python-pptx) (9.0.1)\n",
      "Requirement already satisfied: XlsxWriter>=0.5.7 in c:\\users\\user\\anaconda3\\lib\\site-packages (from python-pptx) (3.0.3)\n",
      "Building wheels for collected packages: python-pptx\n",
      "  Building wheel for python-pptx (setup.py): started\n",
      "  Building wheel for python-pptx (setup.py): finished with status 'done'\n",
      "  Created wheel for python-pptx: filename=python_pptx-0.6.21-py3-none-any.whl size=470951 sha256=895841fb4e3eb0a5fb195a9247d356d79bc2ac020390b6f5a784071ce02987bc\n",
      "  Stored in directory: c:\\users\\user\\appdata\\local\\pip\\cache\\wheels\\0e\\4a\\ed\\9653bc799915f52dce3f04d14946fbd85cce9c3cdedc9cfa71\n",
      "Successfully built python-pptx\n",
      "Installing collected packages: python-pptx\n",
      "Successfully installed python-pptx-0.6.21\n",
      "Note: you may need to restart the kernel to use updated packages.\n"
     ]
    }
   ],
   "source": [
    "pip install python-pptx"
   ]
  },
  {
   "cell_type": "code",
   "execution_count": 8,
   "id": "b265ff49-b630-40c1-aa9f-e23aa58e7859",
   "metadata": {},
   "outputs": [],
   "source": [
    "from pptx import Presentation"
   ]
  },
  {
   "cell_type": "code",
   "execution_count": 9,
   "id": "dad04724-92c4-4115-a1d2-ead07ee2f81e",
   "metadata": {},
   "outputs": [],
   "source": [
    "parsed = Presentation('청년취업사관학교.pptx')"
   ]
  },
  {
   "cell_type": "code",
   "execution_count": 11,
   "id": "214e4202-1e94-4f90-82fa-9b0733dd38e2",
   "metadata": {},
   "outputs": [
    {
     "ename": "AttributeError",
     "evalue": "'Slide' object has no attribute 'shape'",
     "output_type": "error",
     "traceback": [
      "\u001b[1;31m---------------------------------------------------------------------------\u001b[0m",
      "\u001b[1;31mAttributeError\u001b[0m                            Traceback (most recent call last)",
      "Input \u001b[1;32mIn [11]\u001b[0m, in \u001b[0;36m<cell line: 1>\u001b[1;34m()\u001b[0m\n\u001b[1;32m----> 1\u001b[0m \u001b[38;5;28;01mfor\u001b[39;00m n, shape \u001b[38;5;129;01min\u001b[39;00m \u001b[38;5;28menumerate\u001b[39m(\u001b[43mparsed\u001b[49m\u001b[38;5;241;43m.\u001b[39;49m\u001b[43mslides\u001b[49m\u001b[43m[\u001b[49m\u001b[38;5;241;43m0\u001b[39;49m\u001b[43m]\u001b[49m\u001b[38;5;241;43m.\u001b[39;49m\u001b[43mshape\u001b[49m) :\n\u001b[0;32m      2\u001b[0m     \u001b[38;5;28;01mif\u001b[39;00m n \u001b[38;5;241m==\u001b[39m \u001b[38;5;241m0\u001b[39m :\n\u001b[0;32m      3\u001b[0m         \u001b[38;5;28mprint\u001b[39m(shape\u001b[38;5;241m.\u001b[39mtext_frame\u001b[38;5;241m.\u001b[39mtext)\n",
      "\u001b[1;31mAttributeError\u001b[0m: 'Slide' object has no attribute 'shape'"
     ]
    }
   ],
   "source": [
    "for n, shape in enumerate(parsed.slides[0].shape) :\n",
    "    if n == 0 :\n",
    "        print(shape.text_frame.text)\n",
    "        tf = shape.text_frame\n",
    "        tf.text = 'text'\n",
    "        print(hape.text_frame.text)\n",
    "        \n",
    "parsed.save('청년취업사관학교2.pptx')"
   ]
  },
  {
   "cell_type": "code",
   "execution_count": null,
   "id": "fb7aa2e2-f9bc-4917-8e16-afe944a7a8c6",
   "metadata": {},
   "outputs": [],
   "source": []
  },
  {
   "cell_type": "code",
   "execution_count": null,
   "id": "e94db795-2121-4ec1-ac54-daa5588fa05d",
   "metadata": {},
   "outputs": [],
   "source": []
  }
 ],
 "metadata": {
  "kernelspec": {
   "display_name": "Python 3 (ipykernel)",
   "language": "python",
   "name": "python3"
  },
  "language_info": {
   "codemirror_mode": {
    "name": "ipython",
    "version": 3
   },
   "file_extension": ".py",
   "mimetype": "text/x-python",
   "name": "python",
   "nbconvert_exporter": "python",
   "pygments_lexer": "ipython3",
   "version": "3.9.12"
  }
 },
 "nbformat": 4,
 "nbformat_minor": 5
}
