{
 "cells": [
  {
   "cell_type": "markdown",
   "id": "1d40d10a-2b21-4daa-aad3-0f14197fa21a",
   "metadata": {},
   "source": [
    "## 리스트 "
   ]
  },
  {
   "cell_type": "code",
   "execution_count": null,
   "id": "767cc167-efc1-4559-8ac0-f4316ab0a136",
   "metadata": {},
   "outputs": [],
   "source": [
    "a = 1\n",
    "a = 'abc'"
   ]
  },
  {
   "cell_type": "code",
   "execution_count": null,
   "id": "ec709e97-2860-4d36-90bd-4ae94d32c9ed",
   "metadata": {},
   "outputs": [],
   "source": [
    "l = [1,2,3,4]"
   ]
  },
  {
   "cell_type": "code",
   "execution_count": null,
   "id": "2966be82-61dd-4898-84f0-835be63fe6f3",
   "metadata": {},
   "outputs": [],
   "source": [
    "type(l) #l을 입력하니 LIST형식이라고 TYPE이 확인됨"
   ]
  },
  {
   "cell_type": "code",
   "execution_count": null,
   "id": "bdf65173-b695-426c-aa05-d3f19b8d1246",
   "metadata": {},
   "outputs": [],
   "source": [
    "l2 = [1,'2', True]"
   ]
  },
  {
   "cell_type": "code",
   "execution_count": null,
   "id": "2af92e61-68f2-469e-a9c5-d43f9ef7271a",
   "metadata": {},
   "outputs": [],
   "source": [
    "l2"
   ]
  },
  {
   "cell_type": "code",
   "execution_count": null,
   "id": "30e0585d-8ac6-4c51-b871-69df2347ecae",
   "metadata": {},
   "outputs": [],
   "source": [
    "l3 = list() #list making"
   ]
  },
  {
   "cell_type": "code",
   "execution_count": null,
   "id": "f2631afe-5bc8-4309-b0d5-40873a6d3019",
   "metadata": {},
   "outputs": [],
   "source": [
    "l3"
   ]
  },
  {
   "cell_type": "code",
   "execution_count": null,
   "id": "b118be37-8c49-47ab-ac36-948b03f30ec0",
   "metadata": {},
   "outputs": [],
   "source": [
    "l4 = []  #list making"
   ]
  },
  {
   "cell_type": "code",
   "execution_count": null,
   "id": "6cabff68-924b-4101-b753-81ab306400b3",
   "metadata": {},
   "outputs": [],
   "source": [
    "l4"
   ]
  },
  {
   "cell_type": "markdown",
   "id": "e31dff81-b13b-45c0-9c29-ba0d35046820",
   "metadata": {},
   "source": [
    "## 인덱싱 "
   ]
  },
  {
   "cell_type": "code",
   "execution_count": null,
   "id": "1df418dd-3ab9-4f5f-9fb5-ad2eb1032cd8",
   "metadata": {},
   "outputs": [],
   "source": [
    "num = [1,2,3,4,5]"
   ]
  },
  {
   "cell_type": "code",
   "execution_count": null,
   "id": "525d3e22-45a7-4a24-8a24-f0d1b6bc7b27",
   "metadata": {},
   "outputs": [],
   "source": [
    "num[2]"
   ]
  },
  {
   "cell_type": "code",
   "execution_count": null,
   "id": "24e1d9af-7c92-48fa-aaba-1619e4d1dc06",
   "metadata": {},
   "outputs": [],
   "source": [
    "num[-1]"
   ]
  },
  {
   "cell_type": "markdown",
   "id": "0f793b97-016d-43bd-b82c-cdd2350516a2",
   "metadata": {},
   "source": [
    "## 슬라이싱 "
   ]
  },
  {
   "cell_type": "code",
   "execution_count": null,
   "id": "ee0af696-84ee-4beb-8981-44e691463a62",
   "metadata": {},
   "outputs": [],
   "source": [
    "num = [1,2,3,4,5]"
   ]
  },
  {
   "cell_type": "code",
   "execution_count": null,
   "id": "5e164342-89d6-413b-8c87-9fe2766e5b7d",
   "metadata": {},
   "outputs": [],
   "source": [
    "num[1:4] # 1<= : <4"
   ]
  },
  {
   "cell_type": "code",
   "execution_count": null,
   "id": "5b710ad3-dd2b-4ea8-8659-fbf502afb8da",
   "metadata": {},
   "outputs": [],
   "source": [
    "num[-3:-1]"
   ]
  },
  {
   "cell_type": "code",
   "execution_count": null,
   "id": "d4f23bb9-8283-42a0-ae8f-d1b854c4806f",
   "metadata": {},
   "outputs": [],
   "source": [
    "num[:3]"
   ]
  },
  {
   "cell_type": "code",
   "execution_count": null,
   "id": "c9866471-0f82-4283-8b52-ae37e2a9e45f",
   "metadata": {},
   "outputs": [],
   "source": [
    "num[:-1]"
   ]
  },
  {
   "cell_type": "code",
   "execution_count": null,
   "id": "4c0e2746-09c0-4726-b400-ad74a8e6a73d",
   "metadata": {},
   "outputs": [],
   "source": [
    "num = [1,2,3,4,5,6,7,8,9,10,'강아지']"
   ]
  },
  {
   "cell_type": "code",
   "execution_count": null,
   "id": "a5dd6a12-b67c-4921-9f70-63c1bb2bbc35",
   "metadata": {},
   "outputs": [],
   "source": [
    "num[:5:2] #스텝기능 2와 4?!"
   ]
  },
  {
   "cell_type": "code",
   "execution_count": null,
   "id": "eb09ed8e-d151-4202-803c-edf78bfe68bb",
   "metadata": {},
   "outputs": [],
   "source": [
    "num[::-1] #스텝기능 거꾸로"
   ]
  },
  {
   "cell_type": "code",
   "execution_count": null,
   "id": "72853218-ce51-4d5a-8a92-b4cb04dab248",
   "metadata": {},
   "outputs": [],
   "source": [
    "num[0] + num[1]"
   ]
  },
  {
   "cell_type": "code",
   "execution_count": null,
   "id": "f2248099-d9e2-4b43-8c9a-fd82a436bb37",
   "metadata": {},
   "outputs": [],
   "source": [
    "l1 = [1,2,3]\n",
    "l2 = [4,5,6]"
   ]
  },
  {
   "cell_type": "code",
   "execution_count": null,
   "id": "fc916f88-a439-489a-ae9d-2ce862a69da5",
   "metadata": {},
   "outputs": [],
   "source": [
    "l1 + l2"
   ]
  },
  {
   "cell_type": "code",
   "execution_count": null,
   "id": "6ffb6e6e-6e4d-4496-94f3-d6502ad93d00",
   "metadata": {},
   "outputs": [],
   "source": [
    "l3 = [3,4,5]"
   ]
  },
  {
   "cell_type": "code",
   "execution_count": null,
   "id": "7fcbed5c-70d9-411c-87b1-09722cbf5aad",
   "metadata": {},
   "outputs": [],
   "source": [
    "l2 + l3"
   ]
  },
  {
   "cell_type": "markdown",
   "id": "dfe3f418-15e7-4a98-92ce-da30879eef5b",
   "metadata": {},
   "source": [
    "-"
   ]
  },
  {
   "cell_type": "code",
   "execution_count": null,
   "id": "68b7275d-9a96-4d5b-b3f2-8d7177c0e1ea",
   "metadata": {},
   "outputs": [],
   "source": [
    "mat2 = [[1,2,3,4],[5,6,7,8],[9,10,11,12]]"
   ]
  },
  {
   "cell_type": "code",
   "execution_count": null,
   "id": "396604df-3712-4ee9-a917-02332fafa5ba",
   "metadata": {},
   "outputs": [],
   "source": [
    "mat2[0]"
   ]
  },
  {
   "cell_type": "code",
   "execution_count": null,
   "id": "a40c7447-b42c-4863-a555-eb648b2e26b3",
   "metadata": {},
   "outputs": [],
   "source": [
    "mat2[0][0]"
   ]
  },
  {
   "cell_type": "code",
   "execution_count": null,
   "id": "2d607bcb-e27c-451c-a607-a65104ae0faa",
   "metadata": {},
   "outputs": [],
   "source": [
    "mat2[1:]"
   ]
  },
  {
   "cell_type": "code",
   "execution_count": null,
   "id": "49115f2f-68ff-4a55-a781-1c7088584f88",
   "metadata": {},
   "outputs": [],
   "source": [
    "mat2[1:][1:3]"
   ]
  },
  {
   "cell_type": "markdown",
   "id": "d02cc522-650a-439e-9a8c-4f665a2b231f",
   "metadata": {},
   "source": [
    "--------"
   ]
  },
  {
   "cell_type": "markdown",
   "id": "82bda6b4-5d8c-435c-b739-0f8e9aab4e0d",
   "metadata": {},
   "source": [
    "## 리스트 연산 "
   ]
  },
  {
   "cell_type": "code",
   "execution_count": null,
   "id": "b5f2b84d-0190-4ddd-97a9-8fbf4fa93acb",
   "metadata": {},
   "outputs": [],
   "source": [
    "l1 = [1,2,3,4]"
   ]
  },
  {
   "cell_type": "code",
   "execution_count": null,
   "id": "25d17a48-9462-4911-a8a4-8b65cd817614",
   "metadata": {},
   "outputs": [],
   "source": [
    "l2 = [5,6,7,8]"
   ]
  },
  {
   "cell_type": "code",
   "execution_count": null,
   "id": "f30bd09a-c4ec-4992-9550-a98eae1c7fe4",
   "metadata": {},
   "outputs": [],
   "source": [
    "l1 + l2"
   ]
  },
  {
   "cell_type": "code",
   "execution_count": null,
   "id": "66736357-8e3b-4021-bbc8-0a5967ce622a",
   "metadata": {},
   "outputs": [],
   "source": [
    "l1 *3"
   ]
  },
  {
   "cell_type": "code",
   "execution_count": null,
   "id": "283e7ec0-c443-4b41-b573-ca64be3b2e2d",
   "metadata": {},
   "outputs": [],
   "source": [
    "l1[0] = 100"
   ]
  },
  {
   "cell_type": "code",
   "execution_count": null,
   "id": "cb51988e-9a2d-4434-b2a7-093934beb4d8",
   "metadata": {},
   "outputs": [],
   "source": [
    "l1[1:3] = [101,102]"
   ]
  },
  {
   "cell_type": "code",
   "execution_count": null,
   "id": "b02144ea-61e5-4fec-aef5-cf95e71dd713",
   "metadata": {},
   "outputs": [],
   "source": [
    "l1"
   ]
  },
  {
   "cell_type": "code",
   "execution_count": null,
   "id": "34bfd5b1-fac1-4522-940a-34a1a2a09067",
   "metadata": {},
   "outputs": [],
   "source": [
    "del l1[-1]"
   ]
  },
  {
   "cell_type": "code",
   "execution_count": null,
   "id": "03f00b37-b44f-42fd-967a-63c3e24dc843",
   "metadata": {},
   "outputs": [],
   "source": [
    "l1"
   ]
  },
  {
   "cell_type": "code",
   "execution_count": null,
   "id": "78d3a6cb-872f-4e60-885b-f59dc60881c8",
   "metadata": {},
   "outputs": [],
   "source": [
    "l1[1:3] = [201,202,203]"
   ]
  },
  {
   "cell_type": "code",
   "execution_count": null,
   "id": "e5394205-000b-4c4d-930d-b4b771a41513",
   "metadata": {},
   "outputs": [],
   "source": [
    "l1"
   ]
  },
  {
   "cell_type": "markdown",
   "id": "de64e5b0-9984-43a1-8856-de355e562b37",
   "metadata": {},
   "source": [
    "## 리스트 관련 함수"
   ]
  },
  {
   "cell_type": "code",
   "execution_count": null,
   "id": "fab2233a-5d9f-4975-b952-e60c81857b3e",
   "metadata": {},
   "outputs": [],
   "source": [
    "l = [] #list 생성"
   ]
  },
  {
   "cell_type": "code",
   "execution_count": null,
   "id": "a6982cee-3c2f-4d97-8d5c-c893ae5986e7",
   "metadata": {},
   "outputs": [],
   "source": [
    "l.append(1)"
   ]
  },
  {
   "cell_type": "code",
   "execution_count": null,
   "id": "fb18a321-3389-49d1-a101-b57e6a335779",
   "metadata": {},
   "outputs": [],
   "source": [
    "l"
   ]
  },
  {
   "cell_type": "code",
   "execution_count": null,
   "id": "01073bbb-3a41-49a1-b855-569926fc9087",
   "metadata": {},
   "outputs": [],
   "source": [
    "l.append(2)"
   ]
  },
  {
   "cell_type": "code",
   "execution_count": null,
   "id": "616b79cc-f388-48e3-b0b4-378f8355aa56",
   "metadata": {},
   "outputs": [],
   "source": [
    "l"
   ]
  },
  {
   "cell_type": "code",
   "execution_count": null,
   "id": "33da7a0f-5fe3-4fd8-b9de-97b195d0d6a4",
   "metadata": {},
   "outputs": [],
   "source": [
    "l.insert(0,3)"
   ]
  },
  {
   "cell_type": "code",
   "execution_count": null,
   "id": "60b1c5e1-bd85-41c7-a51a-9f60a9356ca9",
   "metadata": {},
   "outputs": [],
   "source": [
    "l"
   ]
  },
  {
   "cell_type": "code",
   "execution_count": null,
   "id": "7a43c13a-2462-475c-9f00-416dfa23722b",
   "metadata": {},
   "outputs": [],
   "source": [
    "l.remove(2)"
   ]
  },
  {
   "cell_type": "code",
   "execution_count": null,
   "id": "d6391449-f9e4-4d8d-9bee-ae2101ac6eb9",
   "metadata": {},
   "outputs": [],
   "source": [
    "l"
   ]
  },
  {
   "cell_type": "code",
   "execution_count": null,
   "id": "6dff0ef6-2d48-4af0-b926-5860c199637d",
   "metadata": {},
   "outputs": [],
   "source": [
    "l.sort()"
   ]
  },
  {
   "cell_type": "code",
   "execution_count": null,
   "id": "954e51cb-09d4-43e8-989d-abfcb83f9ced",
   "metadata": {},
   "outputs": [],
   "source": [
    "l"
   ]
  },
  {
   "cell_type": "code",
   "execution_count": null,
   "id": "c4976bc7-2448-460f-924a-d06a23c3b7b4",
   "metadata": {},
   "outputs": [],
   "source": [
    "l.append('가')"
   ]
  },
  {
   "cell_type": "code",
   "execution_count": null,
   "id": "72aae123-aca3-421c-ad86-26443eb8573e",
   "metadata": {},
   "outputs": [],
   "source": [
    "l"
   ]
  },
  {
   "cell_type": "code",
   "execution_count": null,
   "id": "acfe007a-1ab1-4cfe-9635-dcb76e4111f6",
   "metadata": {},
   "outputs": [],
   "source": [
    "l.sort() #숫자와 문자가 섞여 있을때 정렬 불가능"
   ]
  },
  {
   "cell_type": "code",
   "execution_count": null,
   "id": "575b3f1d-a5f3-4be7-b0ca-46518a010c80",
   "metadata": {},
   "outputs": [],
   "source": [
    "l = [1,2,3,4,'가']"
   ]
  },
  {
   "cell_type": "code",
   "execution_count": null,
   "id": "0d5b1e59-7b07-4dd9-9d56-3a461f909d7f",
   "metadata": {},
   "outputs": [],
   "source": [
    "l"
   ]
  },
  {
   "cell_type": "code",
   "execution_count": null,
   "id": "3184b774-6361-4a4f-824d-5924a9cd7e4a",
   "metadata": {},
   "outputs": [],
   "source": [
    "l.remove('가')"
   ]
  },
  {
   "cell_type": "code",
   "execution_count": null,
   "id": "562815a4-9a91-4888-ac75-6783d8516804",
   "metadata": {},
   "outputs": [],
   "source": [
    "l"
   ]
  },
  {
   "cell_type": "code",
   "execution_count": null,
   "id": "3f586b80-8430-49ba-b750-23eddefc68a1",
   "metadata": {},
   "outputs": [],
   "source": [
    "l.sort()"
   ]
  },
  {
   "cell_type": "code",
   "execution_count": null,
   "id": "6300f756-23e0-47f9-8552-6f3e43079c43",
   "metadata": {},
   "outputs": [],
   "source": [
    "l"
   ]
  },
  {
   "cell_type": "code",
   "execution_count": null,
   "id": "e4f4d571-08b1-4cd5-9551-645a4ec48e96",
   "metadata": {},
   "outputs": [],
   "source": [
    "l.append('0')"
   ]
  },
  {
   "cell_type": "code",
   "execution_count": null,
   "id": "1ac82ed0-de02-45d5-9924-bbb3071c1cb8",
   "metadata": {},
   "outputs": [],
   "source": [
    "l"
   ]
  },
  {
   "cell_type": "code",
   "execution_count": null,
   "id": "144f9f8d-28ec-424c-b9ab-f6af21017d51",
   "metadata": {},
   "outputs": [],
   "source": [
    "l = [1,2,3,4]"
   ]
  },
  {
   "cell_type": "code",
   "execution_count": null,
   "id": "79d24ef9-2a3c-4b89-a16d-ae20872d361f",
   "metadata": {},
   "outputs": [],
   "source": [
    "l.index(4)"
   ]
  },
  {
   "cell_type": "markdown",
   "id": "0d8aad32-a5c5-41fc-907d-03120e550edd",
   "metadata": {},
   "source": [
    "pop"
   ]
  },
  {
   "cell_type": "code",
   "execution_count": null,
   "id": "20c35944-657f-4a81-9287-92a516d19231",
   "metadata": {},
   "outputs": [],
   "source": [
    "l = [1,2,3,4]"
   ]
  },
  {
   "cell_type": "code",
   "execution_count": null,
   "id": "4ac2f829-30df-4c36-9e99-cfb26ab788bd",
   "metadata": {},
   "outputs": [],
   "source": [
    "l.pop()"
   ]
  },
  {
   "cell_type": "code",
   "execution_count": null,
   "id": "78b21d0c-589f-4337-94fd-b666cab1bee3",
   "metadata": {},
   "outputs": [],
   "source": [
    "l"
   ]
  },
  {
   "cell_type": "code",
   "execution_count": null,
   "id": "555dced0-2c24-490d-b9d3-b1878d6f0055",
   "metadata": {},
   "outputs": [],
   "source": [
    "l = [1,2,3,4]"
   ]
  },
  {
   "cell_type": "code",
   "execution_count": null,
   "id": "ebe0bf2d-bcca-4af9-90ac-eddb27594826",
   "metadata": {},
   "outputs": [],
   "source": [
    "l.count(1)"
   ]
  },
  {
   "cell_type": "code",
   "execution_count": null,
   "id": "54462aed-bf52-4505-9064-7e079bb3ad6c",
   "metadata": {},
   "outputs": [],
   "source": [
    "l"
   ]
  },
  {
   "cell_type": "markdown",
   "id": "81d75d5d-cf86-4c60-a99e-7f500fcc56b8",
   "metadata": {},
   "source": [
    "======================="
   ]
  },
  {
   "cell_type": "markdown",
   "id": "38fec7a8-fa74-40d7-9576-5f51942ba39f",
   "metadata": {},
   "source": [
    "### Quiz\n",
    "\n",
    "1. list1 = [13, 53, 24, 35, 38] 큰 수부터 작은 수대로 정렬하시오.\n",
    "2. list2 = [\"Hello\", \"My, \"Friend\"] 를 \"Hello My Friend\" 라는 문자열로 출력하세요.\n",
    "3. \"DP, 오징어게임, 슬기로운 의사생활\" 을 netflix_list 라는 변수에 리스트로 만들어보세요.\n",
    "4. netflix_list 의 맨 뒤에 \"호텔 델루나\"를 추가해보세요.\n",
    "5. \"갯마을 차차차\"를 neflix_list 맨 앞에 추가해보세요.\n",
    "6. \"DP\"를 삭제하고 그 위치에 \"검은태양\"을 추가해보세요.\n",
    "7. list3 = [294, 185, 1384 ,1282, 375, 283] 의 최대, 합, 평균을 구하시오.\n",
    "8. str1 = \"never, sk, google, kakao\"에서 각각의 회사명을 company_list에 넣고 오름차순으로 정렬하세요."
   ]
  },
  {
   "cell_type": "code",
   "execution_count": null,
   "id": "d65fa99e-d8d5-4da6-a200-f686c46ece1f",
   "metadata": {},
   "outputs": [],
   "source": [
    "list1 = [13, 53, 24, 35, 38]"
   ]
  },
  {
   "cell_type": "code",
   "execution_count": null,
   "id": "b41bd37b-03a1-472b-b84b-60f146972e61",
   "metadata": {},
   "outputs": [],
   "source": [
    "list1.sort()"
   ]
  },
  {
   "cell_type": "code",
   "execution_count": null,
   "id": "d7403a45-b040-433a-852f-f3f742e2bb64",
   "metadata": {},
   "outputs": [],
   "source": [
    "list1.reverse()"
   ]
  },
  {
   "cell_type": "code",
   "execution_count": null,
   "id": "48e78998-2269-4350-89f0-98c20e4f9f42",
   "metadata": {},
   "outputs": [],
   "source": [
    "list1"
   ]
  },
  {
   "cell_type": "code",
   "execution_count": null,
   "id": "ce1b7ec6-1c37-4ee9-b4ce-e4c3a1da5762",
   "metadata": {},
   "outputs": [],
   "source": []
  },
  {
   "cell_type": "code",
   "execution_count": null,
   "id": "00a132e0-6350-4451-805e-2dda13174b63",
   "metadata": {},
   "outputs": [],
   "source": [
    "list2 = [\"Hello\", \"My\" , \"Friend\"]"
   ]
  },
  {
   "cell_type": "code",
   "execution_count": null,
   "id": "1f7a93ba-5653-424c-bd2d-52eb69d78c05",
   "metadata": {},
   "outputs": [],
   "source": [
    "' '.join(list2)"
   ]
  },
  {
   "cell_type": "code",
   "execution_count": null,
   "id": "9023128e-2f36-46b3-8022-7456bceb3963",
   "metadata": {},
   "outputs": [],
   "source": []
  },
  {
   "cell_type": "markdown",
   "id": "f4ab071b-93cc-424f-9891-21ca2a6067dc",
   "metadata": {},
   "source": [
    "\"DP, 오징어게임, 슬기로운 의사생활\" 을 netflix_list "
   ]
  },
  {
   "cell_type": "code",
   "execution_count": null,
   "id": "0bd02123-f37d-4f17-a07a-60cfff82685a",
   "metadata": {},
   "outputs": [],
   "source": []
  },
  {
   "cell_type": "code",
   "execution_count": 1,
   "id": "3314a7e4-c0ad-417f-aac3-c109e27d14a7",
   "metadata": {},
   "outputs": [],
   "source": [
    "a = \"DP, 오징어게임, 슬리로운 의사생활\""
   ]
  },
  {
   "cell_type": "code",
   "execution_count": 2,
   "id": "93519524-3afa-4000-bec8-3013d40a51d6",
   "metadata": {},
   "outputs": [],
   "source": [
    "netflix_list = a.split(',')"
   ]
  },
  {
   "cell_type": "code",
   "execution_count": 3,
   "id": "ec56d968-795a-4124-af22-86e9934da482",
   "metadata": {},
   "outputs": [
    {
     "data": {
      "text/plain": [
       "['DP', ' 오징어게임', ' 슬리로운 의사생활']"
      ]
     },
     "execution_count": 3,
     "metadata": {},
     "output_type": "execute_result"
    }
   ],
   "source": [
    "netflix_list"
   ]
  },
  {
   "cell_type": "code",
   "execution_count": null,
   "id": "ccc2c683-8035-41a8-b58e-899b892f8076",
   "metadata": {},
   "outputs": [],
   "source": []
  },
  {
   "cell_type": "markdown",
   "id": "19c3cd29-d96c-4045-8a24-1f4292240db5",
   "metadata": {},
   "source": [
    "netflix_list 의 맨 뒤에 \"호텔 델루나\"를 추가해보세요."
   ]
  },
  {
   "cell_type": "code",
   "execution_count": null,
   "id": "7f0fda9f-8c09-45c1-bd25-cffdf178da7e",
   "metadata": {},
   "outputs": [],
   "source": []
  },
  {
   "cell_type": "code",
   "execution_count": 4,
   "id": "e61ae824-6c7d-42a0-b93a-1056c5c40f01",
   "metadata": {},
   "outputs": [],
   "source": [
    "netflix_list.append(\"호텔 델루나\")"
   ]
  },
  {
   "cell_type": "code",
   "execution_count": 5,
   "id": "16e4a44f-d6d4-4ef8-8855-d220bcbd1093",
   "metadata": {},
   "outputs": [
    {
     "data": {
      "text/plain": [
       "['DP', ' 오징어게임', ' 슬리로운 의사생활', '호텔 델루나']"
      ]
     },
     "execution_count": 5,
     "metadata": {},
     "output_type": "execute_result"
    }
   ],
   "source": [
    "netflix_list"
   ]
  },
  {
   "cell_type": "code",
   "execution_count": null,
   "id": "bc9f27be-380f-46e4-9d41-4c301dc441de",
   "metadata": {},
   "outputs": [],
   "source": []
  },
  {
   "cell_type": "markdown",
   "id": "fb1acb46-db6f-4516-8b6e-3550eb980bc0",
   "metadata": {},
   "source": [
    "\"갯마을 차차차\"를 neflix_list 맨 앞에 추가해보세요."
   ]
  },
  {
   "cell_type": "code",
   "execution_count": null,
   "id": "026faf72-d528-4e86-bff1-6de5dcccb0d7",
   "metadata": {},
   "outputs": [],
   "source": []
  },
  {
   "cell_type": "code",
   "execution_count": 6,
   "id": "f6faaefc-25ee-4ec6-a94f-0e58758c1c90",
   "metadata": {},
   "outputs": [],
   "source": [
    "netflix_list.insert(0,'갯마을 차차차')"
   ]
  },
  {
   "cell_type": "code",
   "execution_count": 7,
   "id": "e3766603-e2fc-4cf5-9fa4-a72d61602eb7",
   "metadata": {},
   "outputs": [
    {
     "data": {
      "text/plain": [
       "['갯마을 차차차', 'DP', ' 오징어게임', ' 슬리로운 의사생활', '호텔 델루나']"
      ]
     },
     "execution_count": 7,
     "metadata": {},
     "output_type": "execute_result"
    }
   ],
   "source": [
    "netflix_list"
   ]
  },
  {
   "cell_type": "code",
   "execution_count": null,
   "id": "ee313df6-aea8-4e9b-b0a1-76ad70d71f83",
   "metadata": {},
   "outputs": [],
   "source": []
  },
  {
   "cell_type": "markdown",
   "id": "a3cba060-af78-425f-8db7-09256fbf49d3",
   "metadata": {},
   "source": [
    "\"DP\"를 삭제하고 그 위치에 \"검은태양\"을 추가해보세요."
   ]
  },
  {
   "cell_type": "code",
   "execution_count": null,
   "id": "a627dffb-66ac-4bdf-ac2c-c7befcd78e99",
   "metadata": {},
   "outputs": [],
   "source": []
  },
  {
   "cell_type": "code",
   "execution_count": null,
   "id": "ee00f665-01eb-4536-8526-c82f677d9fcd",
   "metadata": {},
   "outputs": [],
   "source": [
    "netflix_list.remove('DP')\n",
    "\n",
    "netflix_list\n",
    "\n",
    "netflix_list.insert(1,'검은태양')\n",
    "\n",
    "netflix_list"
   ]
  },
  {
   "cell_type": "code",
   "execution_count": null,
   "id": "0f3435b1-56a4-4653-bef1-7ca6c2796bc6",
   "metadata": {},
   "outputs": [],
   "source": []
  },
  {
   "cell_type": "markdown",
   "id": "2e3dea3a-3324-4de9-9b66-c33e8dc1513a",
   "metadata": {},
   "source": [
    "list3 = [294, 185, 1384 ,1282, 375, 283] 의 최대, 합, 평균을 구하시오."
   ]
  },
  {
   "cell_type": "code",
   "execution_count": 14,
   "id": "767010b7-7f94-4ed9-a932-cace567b2e42",
   "metadata": {},
   "outputs": [],
   "source": [
    "list3 = [294, 185, 1384 ,1282, 375, 283]"
   ]
  },
  {
   "cell_type": "code",
   "execution_count": 18,
   "id": "08f969a3-b20f-4197-9e32-836b5094ed97",
   "metadata": {},
   "outputs": [
    {
     "data": {
      "text/plain": [
       "(294, 185, 1384, 1282, 375, 283)"
      ]
     },
     "execution_count": 18,
     "metadata": {},
     "output_type": "execute_result"
    }
   ],
   "source": [
    "list3"
   ]
  },
  {
   "cell_type": "code",
   "execution_count": 19,
   "id": "c43eab6c-b3bf-415d-bc0a-000b30c4682b",
   "metadata": {},
   "outputs": [
    {
     "data": {
      "text/plain": [
       "1384"
      ]
     },
     "execution_count": 19,
     "metadata": {},
     "output_type": "execute_result"
    }
   ],
   "source": [
    "max(list3)"
   ]
  },
  {
   "cell_type": "code",
   "execution_count": 20,
   "id": "39e025c0-6e79-43f6-a591-960605281c6e",
   "metadata": {},
   "outputs": [
    {
     "data": {
      "text/plain": [
       "3803"
      ]
     },
     "execution_count": 20,
     "metadata": {},
     "output_type": "execute_result"
    }
   ],
   "source": [
    "sum(list3)"
   ]
  },
  {
   "cell_type": "code",
   "execution_count": 22,
   "id": "5c619b10-7f24-468a-9340-92c16ba595ff",
   "metadata": {},
   "outputs": [
    {
     "data": {
      "text/plain": [
       "633.8333333333334"
      ]
     },
     "execution_count": 22,
     "metadata": {},
     "output_type": "execute_result"
    }
   ],
   "source": [
    "sum(list3)/len(list3)"
   ]
  },
  {
   "cell_type": "code",
   "execution_count": null,
   "id": "b92b9b11-2b06-406c-845c-4e74a3c57fd5",
   "metadata": {},
   "outputs": [],
   "source": []
  },
  {
   "cell_type": "code",
   "execution_count": null,
   "id": "5b7c0444-f5f2-44fe-ad13-35cd4c5e3e9a",
   "metadata": {},
   "outputs": [],
   "source": [
    "str1 = \"never, sk, google, kakao\"에서 각각의 회사명을 company_list에 넣고 오름차순으로 정렬하세요."
   ]
  },
  {
   "cell_type": "code",
   "execution_count": 23,
   "id": "22e8a13d-5607-4a63-9f5a-e025578d8c7b",
   "metadata": {},
   "outputs": [],
   "source": [
    "str1 = \"never, sk, google, kakao\""
   ]
  },
  {
   "cell_type": "code",
   "execution_count": 24,
   "id": "c384f907-b4e7-4d04-bf07-56ee2b5783db",
   "metadata": {},
   "outputs": [],
   "source": [
    "company_list = str1.split(',')"
   ]
  },
  {
   "cell_type": "code",
   "execution_count": 25,
   "id": "2c68b028-34e4-4ed9-9a5a-79dfbd6612a8",
   "metadata": {},
   "outputs": [
    {
     "data": {
      "text/plain": [
       "['never', ' sk', ' google', ' kakao']"
      ]
     },
     "execution_count": 25,
     "metadata": {},
     "output_type": "execute_result"
    }
   ],
   "source": [
    "company_list"
   ]
  },
  {
   "cell_type": "code",
   "execution_count": 26,
   "id": "809973da-94ca-433d-acad-fe76e98193a5",
   "metadata": {},
   "outputs": [],
   "source": [
    "company_list.sort()"
   ]
  },
  {
   "cell_type": "code",
   "execution_count": 27,
   "id": "2ad59cf4-8180-44c1-9209-7437646fb13d",
   "metadata": {},
   "outputs": [
    {
     "data": {
      "text/plain": [
       "[' google', ' kakao', ' sk', 'never']"
      ]
     },
     "execution_count": 27,
     "metadata": {},
     "output_type": "execute_result"
    }
   ],
   "source": [
    "company_list"
   ]
  },
  {
   "cell_type": "code",
   "execution_count": null,
   "id": "72fda6a1-3064-469e-9e1d-4a9a724b3a54",
   "metadata": {},
   "outputs": [],
   "source": []
  }
 ],
 "metadata": {
  "kernelspec": {
   "display_name": "Python 3 (ipykernel)",
   "language": "python",
   "name": "python3"
  },
  "language_info": {
   "codemirror_mode": {
    "name": "ipython",
    "version": 3
   },
   "file_extension": ".py",
   "mimetype": "text/x-python",
   "name": "python",
   "nbconvert_exporter": "python",
   "pygments_lexer": "ipython3",
   "version": "3.9.12"
  }
 },
 "nbformat": 4,
 "nbformat_minor": 5
}
