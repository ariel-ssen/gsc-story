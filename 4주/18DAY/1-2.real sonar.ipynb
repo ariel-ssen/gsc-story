{
 "cells": [
  {
   "cell_type": "markdown",
   "id": "ea600d8e-e567-496a-b2ab-87336f84e269",
   "metadata": {},
   "source": [
    "# 돌인지 지뢰인지 구분하는 시스템 만들기"
   ]
  },
  {
   "cell_type": "code",
   "execution_count": 3,
   "id": "50f16bd9-8ac8-4a8a-ab51-24dc61bf7214",
   "metadata": {},
   "outputs": [],
   "source": [
    "import pandas as pd\n",
    "import pickle\n",
    "import warnings\n",
    "warnings.filterwarnings('ignore')"
   ]
  },
  {
   "cell_type": "code",
   "execution_count": 4,
   "id": "e3cdcc2e-0f9c-48f6-82a8-9285b3f4fb55",
   "metadata": {},
   "outputs": [],
   "source": [
    "real_data = pd.read_csv('sonar_csv.csv')"
   ]
  },
  {
   "cell_type": "code",
   "execution_count": 5,
   "id": "f136494a-9c7f-4fe2-847c-68b6a5325084",
   "metadata": {},
   "outputs": [],
   "source": [
    "real_data.drop('Class', axis=1, inplace= True)"
   ]
  },
  {
   "cell_type": "code",
   "execution_count": 6,
   "id": "307b7531-550f-4798-a119-c1e1c48acd29",
   "metadata": {},
   "outputs": [],
   "source": [
    "#1. 행번호(row number)로 선택하는 방법 (.iloc)\n",
    "#2. label이나 조건표현으로 선택하는 방법 (.loc)\n",
    "real = real_data.iloc[100].values"
   ]
  },
  {
   "cell_type": "code",
   "execution_count": 7,
   "id": "3b73548f-aabe-4108-b793-9a5801aae42f",
   "metadata": {},
   "outputs": [
    {
     "data": {
      "text/plain": [
       "array([[0.0629, 0.1065, 0.1526, 0.1229, 0.1437, 0.119 , 0.0884, 0.0907,\n",
       "        0.2107, 0.3597, 0.5466, 0.5205, 0.5127, 0.5395, 0.6558, 0.8705,\n",
       "        0.9786, 0.9335, 0.7917, 0.7383, 0.6908, 0.385 , 0.0671, 0.0502,\n",
       "        0.2717, 0.2839, 0.2234, 0.1911, 0.0408, 0.2531, 0.1979, 0.1891,\n",
       "        0.2433, 0.1956, 0.2667, 0.134 , 0.1073, 0.2023, 0.1794, 0.0227,\n",
       "        0.1313, 0.1775, 0.1549, 0.1626, 0.0708, 0.0129, 0.0795, 0.0762,\n",
       "        0.0117, 0.0061, 0.0257, 0.0089, 0.0262, 0.0108, 0.0138, 0.0187,\n",
       "        0.023 , 0.0057, 0.0113, 0.0131]])"
      ]
     },
     "execution_count": 7,
     "metadata": {},
     "output_type": "execute_result"
    }
   ],
   "source": [
    "real.reshape(1,-1) #-1 맨뒤에서 부터 모두 불러오기 "
   ]
  },
  {
   "cell_type": "code",
   "execution_count": 18,
   "id": "39ada78a-c2c0-4c73-8fe2-3ac5a7aafa2f",
   "metadata": {},
   "outputs": [],
   "source": [
    "real= real_data.iloc[100].values.reshape(1,-1)"
   ]
  },
  {
   "cell_type": "code",
   "execution_count": 19,
   "id": "36b0f9f1-a36f-4ec5-8285-2d4f1c858b16",
   "metadata": {},
   "outputs": [
    {
     "data": {
      "text/plain": [
       "array([[0.0629, 0.1065, 0.1526, 0.1229, 0.1437, 0.119 , 0.0884, 0.0907,\n",
       "        0.2107, 0.3597, 0.5466, 0.5205, 0.5127, 0.5395, 0.6558, 0.8705,\n",
       "        0.9786, 0.9335, 0.7917, 0.7383, 0.6908, 0.385 , 0.0671, 0.0502,\n",
       "        0.2717, 0.2839, 0.2234, 0.1911, 0.0408, 0.2531, 0.1979, 0.1891,\n",
       "        0.2433, 0.1956, 0.2667, 0.134 , 0.1073, 0.2023, 0.1794, 0.0227,\n",
       "        0.1313, 0.1775, 0.1549, 0.1626, 0.0708, 0.0129, 0.0795, 0.0762,\n",
       "        0.0117, 0.0061, 0.0257, 0.0089, 0.0262, 0.0108, 0.0138, 0.0187,\n",
       "        0.023 , 0.0057, 0.0113, 0.0131]])"
      ]
     },
     "execution_count": 19,
     "metadata": {},
     "output_type": "execute_result"
    }
   ],
   "source": [
    "real #학습시킬때 리스트 2개  똑같은 형식으로 만들어 줘야함 "
   ]
  },
  {
   "cell_type": "code",
   "execution_count": 20,
   "id": "f1f8137f-baf1-49b0-9f01-75b73c09a820",
   "metadata": {},
   "outputs": [],
   "source": [
    "#real= real_data.iloc[100].values"
   ]
  },
  {
   "cell_type": "code",
   "execution_count": 21,
   "id": "899060b3-e381-4f73-8e8b-f4b5232cece4",
   "metadata": {},
   "outputs": [],
   "source": [
    "#real # 이건 리스트 1개 "
   ]
  },
  {
   "cell_type": "markdown",
   "id": "429b48ed-cb65-4bbe-8ec4-69635bb4d11d",
   "metadata": {},
   "source": [
    "# 데이터 불러오기"
   ]
  },
  {
   "cell_type": "code",
   "execution_count": 22,
   "id": "858adcaa-4a6d-43e0-8755-e60afa240237",
   "metadata": {},
   "outputs": [],
   "source": [
    "with open('scaler.pk2','rb') as f :\n",
    "    scaler = pickle.load(f)"
   ]
  },
  {
   "cell_type": "code",
   "execution_count": 23,
   "id": "626350ce-e59a-4829-a1d3-72dfc4f3e325",
   "metadata": {},
   "outputs": [],
   "source": [
    "with open('model.pk2','rb') as f :\n",
    "    model = pickle.load(f)"
   ]
  },
  {
   "cell_type": "code",
   "execution_count": 24,
   "id": "f2c3023a-f21c-48de-a972-ad60576d7341",
   "metadata": {},
   "outputs": [
    {
     "data": {
      "text/plain": [
       "StandardScaler()"
      ]
     },
     "execution_count": 24,
     "metadata": {},
     "output_type": "execute_result"
    }
   ],
   "source": [
    "scaler"
   ]
  },
  {
   "cell_type": "code",
   "execution_count": 25,
   "id": "1503c26f-f690-4e88-bae9-565084eff275",
   "metadata": {},
   "outputs": [],
   "source": [
    "real = scaler.transform(real)"
   ]
  },
  {
   "cell_type": "code",
   "execution_count": 27,
   "id": "ae2e3251-bb7e-46b3-9034-c97a662bc967",
   "metadata": {},
   "outputs": [
    {
     "data": {
      "text/plain": [
       "array([[ 1.45760232,  2.02804235,  2.79051232,  1.47085046,  1.20374041,\n",
       "         0.21867894, -0.55612818, -0.50354609,  0.28402287,  1.17037029,\n",
       "         2.42609876,  1.95526403,  1.693089  ,  1.4271479 ,  1.56287749,\n",
       "         2.04135432,  2.08188897,  1.79104415,  1.07812508,  0.64553526,\n",
       "         0.30433781, -0.94899655, -2.30218297, -2.61428527, -1.62808082,\n",
       "        -1.71916968, -1.94187772, -2.09183337, -2.45401739, -1.44520973,\n",
       "        -1.4227143 , -1.14129037, -0.79983194, -0.86004565, -0.45639379,\n",
       "        -0.94880697, -1.08375359, -0.62902827, -0.70896902, -1.65635903,\n",
       "        -0.92532905, -0.57528401, -0.62780339, -0.33693385, -0.80262332,\n",
       "        -1.0989445 , -0.47598587, -0.20862248, -1.09597038, -1.01441939,\n",
       "         0.80378794, -0.46053776,  2.31752009, -0.02060468,  0.59705417,\n",
       "         1.85926403,  2.60017894, -0.36063823,  0.51451738,  1.31547551]])"
      ]
     },
     "execution_count": 27,
     "metadata": {},
     "output_type": "execute_result"
    }
   ],
   "source": [
    "real"
   ]
  },
  {
   "cell_type": "code",
   "execution_count": 31,
   "id": "5db62cd9-0cef-4f6b-a256-37463e04cb95",
   "metadata": {},
   "outputs": [],
   "source": [
    "predict = model.predict(real)[0]"
   ]
  },
  {
   "cell_type": "code",
   "execution_count": 32,
   "id": "bdef7a9c-ac7e-4f7f-9395-f932ee73ca95",
   "metadata": {},
   "outputs": [
    {
     "data": {
      "text/plain": [
       "'Mine'"
      ]
     },
     "execution_count": 32,
     "metadata": {},
     "output_type": "execute_result"
    }
   ],
   "source": [
    "predict"
   ]
  },
  {
   "cell_type": "code",
   "execution_count": 34,
   "id": "c7f586e9-6133-4d58-ac0f-b808497e7fcd",
   "metadata": {},
   "outputs": [
    {
     "name": "stdout",
     "output_type": "stream",
     "text": [
      "지뢰가 나타났습니다. 돔황챠!!!!\n"
     ]
    }
   ],
   "source": [
    "if predict == 'Mine' :\n",
    "    print('지뢰가 나타났습니다. 돔황챠!!!!')\n",
    "else :\n",
    "    print('그냥 돌입니다. 쫄았냐? ㅎ ')"
   ]
  },
  {
   "cell_type": "code",
   "execution_count": null,
   "id": "d50263ec-48cc-4fcf-a716-0f2b709852c7",
   "metadata": {},
   "outputs": [],
   "source": []
  },
  {
   "cell_type": "code",
   "execution_count": null,
   "id": "f783cbe8-afe9-4dfb-ac40-823eff7b492f",
   "metadata": {},
   "outputs": [],
   "source": []
  }
 ],
 "metadata": {
  "kernelspec": {
   "display_name": "Python 3 (ipykernel)",
   "language": "python",
   "name": "python3"
  },
  "language_info": {
   "codemirror_mode": {
    "name": "ipython",
    "version": 3
   },
   "file_extension": ".py",
   "mimetype": "text/x-python",
   "name": "python",
   "nbconvert_exporter": "python",
   "pygments_lexer": "ipython3",
   "version": "3.9.12"
  }
 },
 "nbformat": 4,
 "nbformat_minor": 5
}
