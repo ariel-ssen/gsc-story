{
 "cells": [
  {
   "cell_type": "markdown",
   "id": "49c20b1f-2198-43bd-9b2a-eb67f7399694",
   "metadata": {},
   "source": [
    "# python comprehension"
   ]
  },
  {
   "cell_type": "markdown",
   "id": "2c02870d-39cb-4d26-89fc-e9eab94e29c7",
   "metadata": {},
   "source": [
    "- list\n",
    "- set\n",
    "- dict"
   ]
  },
  {
   "cell_type": "markdown",
   "id": "5fe359e3-ba65-43ba-9f8b-f6de5c41a77b",
   "metadata": {},
   "source": [
    "-------------------"
   ]
  },
  {
   "cell_type": "markdown",
   "id": "fc25ab42-b24f-4d39-b035-f0876d68e421",
   "metadata": {},
   "source": [
    "## List Comprehension"
   ]
  },
  {
   "cell_type": "markdown",
   "id": "d386ffa6-4b97-447b-8080-f1a2789881ee",
   "metadata": {},
   "source": [
    "- [출력표현식 for 요소 in 입력 Sequnce [if 조건식]]"
   ]
  },
  {
   "cell_type": "markdown",
   "id": "c790c82a-b226-41df-9152-845cdba41514",
   "metadata": {},
   "source": [
    "-----------"
   ]
  },
  {
   "cell_type": "markdown",
   "id": "7bb1d034-4623-49f6-a124-8cab1c3d80e5",
   "metadata": {},
   "source": [
    "- 구구단 2단을 for 문에 넣어 보시오 "
   ]
  },
  {
   "cell_type": "code",
   "execution_count": 3,
   "id": "98879fb6-1b9e-4750-b2fc-4193d042616e",
   "metadata": {},
   "outputs": [
    {
     "name": "stdout",
     "output_type": "stream",
     "text": [
      "2\n",
      "4\n",
      "6\n",
      "8\n",
      "10\n",
      "12\n",
      "14\n",
      "16\n",
      "18\n"
     ]
    }
   ],
   "source": [
    "for i in range(1,10) :\n",
    "    print(2*i)"
   ]
  },
  {
   "cell_type": "code",
   "execution_count": 5,
   "id": "c7995bf0-1bff-4224-9b34-ec16b7d7bd45",
   "metadata": {},
   "outputs": [],
   "source": [
    "list = []\n",
    "for i in range(1,10) :\n",
    "    list.append(2*i)"
   ]
  },
  {
   "cell_type": "code",
   "execution_count": 6,
   "id": "22fcd7fd-ff23-48f7-ae64-7a836843c67e",
   "metadata": {},
   "outputs": [
    {
     "data": {
      "text/plain": [
       "[2, 4, 6, 8, 10, 12, 14, 16, 18]"
      ]
     },
     "execution_count": 6,
     "metadata": {},
     "output_type": "execute_result"
    }
   ],
   "source": [
    "list"
   ]
  },
  {
   "cell_type": "markdown",
   "id": "3cd77cae-2b46-448c-8674-e4e33add2fd9",
   "metadata": {},
   "source": [
    "- Comprehension 식"
   ]
  },
  {
   "cell_type": "code",
   "execution_count": 7,
   "id": "c7f9c11c-904b-40e1-b168-159dff3c8e7a",
   "metadata": {},
   "outputs": [
    {
     "data": {
      "text/plain": [
       "[2, 4, 6, 8, 10, 12, 14, 16, 18]"
      ]
     },
     "execution_count": 7,
     "metadata": {},
     "output_type": "execute_result"
    }
   ],
   "source": [
    "[2*i for i in range(1,10)]"
   ]
  },
  {
   "cell_type": "markdown",
   "id": "5b578a78-6ad5-49a4-ba7e-61ffd876fd61",
   "metadata": {},
   "source": [
    "### Quiz \n",
    "- List Comprehension 을 이용해서 1~10까지 제곱 출력하기\n",
    "- [1,4,9,16,25,36,49,64,81,100]"
   ]
  },
  {
   "cell_type": "code",
   "execution_count": 9,
   "id": "95ddd73e-e698-4120-b91d-8331fbbe24f1",
   "metadata": {},
   "outputs": [
    {
     "data": {
      "text/plain": [
       "[1, 4, 9, 16, 25, 36, 49, 64, 81, 100]"
      ]
     },
     "execution_count": 9,
     "metadata": {},
     "output_type": "execute_result"
    }
   ],
   "source": [
    "[i*i for i in range(1,11)]"
   ]
  },
  {
   "cell_type": "markdown",
   "id": "db918f0b-2265-470f-9100-6cf79dff842c",
   "metadata": {},
   "source": [
    "- 1~20 짝수를 리스트에 넣기\n",
    "- [2,4,6,8,10,12,14,16,18,20]"
   ]
  },
  {
   "cell_type": "code",
   "execution_count": 11,
   "id": "f03e7111-1d9f-45e2-a246-6ad01dd42ef6",
   "metadata": {},
   "outputs": [
    {
     "data": {
      "text/plain": [
       "[2, 4, 6, 8, 10, 12, 14, 16, 18, 20]"
      ]
     },
     "execution_count": 11,
     "metadata": {},
     "output_type": "execute_result"
    }
   ],
   "source": [
    "[i for i in range(1,21) if i%2 == 0]"
   ]
  },
  {
   "cell_type": "markdown",
   "id": "cc70f121-d219-4b82-b6d1-32e18582863e",
   "metadata": {},
   "source": [
    "- for 문"
   ]
  },
  {
   "cell_type": "code",
   "execution_count": 16,
   "id": "50f9e6e6-67b6-49d6-b367-725fdcadd148",
   "metadata": {},
   "outputs": [],
   "source": [
    "list = []\n",
    "for i in range(1,21) :\n",
    "    if i%2 == 0 :\n",
    "        list.append(i)"
   ]
  },
  {
   "cell_type": "code",
   "execution_count": 17,
   "id": "97090953-afda-4ce9-a95b-5f9be43d369b",
   "metadata": {},
   "outputs": [
    {
     "data": {
      "text/plain": [
       "[2, 4, 6, 8, 10, 12, 14, 16, 18, 20]"
      ]
     },
     "execution_count": 17,
     "metadata": {},
     "output_type": "execute_result"
    }
   ],
   "source": [
    "list"
   ]
  },
  {
   "cell_type": "markdown",
   "id": "21e1c7dd-9a5c-4905-8474-42b10caf2eeb",
   "metadata": {},
   "source": [
    "### Quiz\n",
    "- oldlist에서 숫자만 뽑아서 newlist를 만들어라 "
   ]
  },
  {
   "cell_type": "code",
   "execution_count": 18,
   "id": "dded5a35-6de2-4b93-abb1-637bd53ed5af",
   "metadata": {},
   "outputs": [],
   "source": [
    "oldlist = [1,2,'A',False,3]"
   ]
  },
  {
   "cell_type": "code",
   "execution_count": 21,
   "id": "d5477ca3-1d09-4539-b246-880d399424d9",
   "metadata": {},
   "outputs": [],
   "source": [
    "newlist = [i for i in oldlist if type(i) == int]"
   ]
  },
  {
   "cell_type": "code",
   "execution_count": 22,
   "id": "197bb6fe-3468-4b7d-9814-ea189b7fe275",
   "metadata": {},
   "outputs": [
    {
     "data": {
      "text/plain": [
       "[1, 2, 3]"
      ]
     },
     "execution_count": 22,
     "metadata": {},
     "output_type": "execute_result"
    }
   ],
   "source": [
    "newlist"
   ]
  },
  {
   "cell_type": "markdown",
   "id": "50472635-62a9-46b7-9b0c-0029d9fc3ec6",
   "metadata": {},
   "source": [
    "--------------"
   ]
  },
  {
   "cell_type": "markdown",
   "id": "040f7621-aea3-4054-8718-05385e71fddc",
   "metadata": {},
   "source": [
    "## set comprehension // 중복을 제거하고 계산 "
   ]
  },
  {
   "cell_type": "code",
   "execution_count": 24,
   "id": "79d0b484-5590-4ec9-93ea-17294a47f975",
   "metadata": {},
   "outputs": [
    {
     "data": {
      "text/plain": [
       "{1, 2, 3, 4}"
      ]
     },
     "execution_count": 24,
     "metadata": {},
     "output_type": "execute_result"
    }
   ],
   "source": [
    "oldlist = [1,2,2,2,3,3,4]\n",
    "{i for i in oldlist}"
   ]
  },
  {
   "cell_type": "markdown",
   "id": "611fee42-2c90-4d89-abab-9febd6f7f2e3",
   "metadata": {},
   "source": [
    "-----------------------"
   ]
  },
  {
   "cell_type": "markdown",
   "id": "52ce5c4f-db4f-41d1-8369-910715525a87",
   "metadata": {},
   "source": [
    "## Dictionary Comprehension\n",
    "- {Key:Value for 요소 in 입력 Sequence[if 조건식]}"
   ]
  },
  {
   "cell_type": "markdown",
   "id": "c1729c3e-8c4a-42ff-8f97-ed1b100e1530",
   "metadata": {},
   "source": [
    "---------------"
   ]
  },
  {
   "cell_type": "code",
   "execution_count": 25,
   "id": "86c3bf3a-f725-4cb5-9c4b-1ff1c347d704",
   "metadata": {},
   "outputs": [],
   "source": [
    "id_name = {1:'남성현', 2:'고상현',3:'윤승현'}"
   ]
  },
  {
   "cell_type": "markdown",
   "id": "c06b2f62-7c1f-4b9e-afdc-4baecda05dcb",
   "metadata": {},
   "source": [
    "- 키와 벨류를 서로 바꾸기 \n",
    "- 키-> 벨류 벨류-> 키"
   ]
  },
  {
   "cell_type": "code",
   "execution_count": 38,
   "id": "e5da1573-cbcf-46e9-b9d6-21ca61d92ff4",
   "metadata": {},
   "outputs": [],
   "source": [
    "id_name = {val:key for key,val in id_name.items() }"
   ]
  },
  {
   "cell_type": "code",
   "execution_count": 35,
   "id": "b4ec9306-e2b4-4657-a095-babf79ac60e1",
   "metadata": {},
   "outputs": [],
   "source": [
    "name = {}\n",
    "for key,val in id_name.items() :\n",
    "    name[val] = key"
   ]
  },
  {
   "cell_type": "code",
   "execution_count": 36,
   "id": "6651ddbb-f7ec-4904-984e-6a25f85f017c",
   "metadata": {},
   "outputs": [
    {
     "data": {
      "text/plain": [
       "{'남성현': 1, '고상현': 2, '윤승현': 3}"
      ]
     },
     "execution_count": 36,
     "metadata": {},
     "output_type": "execute_result"
    }
   ],
   "source": [
    "name"
   ]
  },
  {
   "cell_type": "markdown",
   "id": "a570790c-f18f-4629-acb3-493d0abcfe11",
   "metadata": {},
   "source": [
    "- id_name 에서 val 가 2인 key 출력 "
   ]
  },
  {
   "cell_type": "code",
   "execution_count": 39,
   "id": "7eda1b7a-52e3-4261-aeac-58b5a187f15c",
   "metadata": {},
   "outputs": [
    {
     "data": {
      "text/plain": [
       "{'남성현': 1, '고상현': 2, '윤승현': 3}"
      ]
     },
     "execution_count": 39,
     "metadata": {},
     "output_type": "execute_result"
    }
   ],
   "source": [
    "id_name"
   ]
  },
  {
   "cell_type": "code",
   "execution_count": 42,
   "id": "07562405-48f8-4f3b-862d-2b08ebd00108",
   "metadata": {},
   "outputs": [
    {
     "data": {
      "text/plain": [
       "'고상현'"
      ]
     },
     "execution_count": 42,
     "metadata": {},
     "output_type": "execute_result"
    }
   ],
   "source": [
    "[key for key,val in id_name.items() if val == 2 ][0]"
   ]
  },
  {
   "cell_type": "markdown",
   "id": "753c0a78-3442-4b5f-b9ab-a30fb6b84742",
   "metadata": {},
   "source": [
    "### Quiz\n",
    "- Comprehension을 이용하여 1 부터 10까지 홀수를 key로 하고 value를 key의 제곱으로 하는 Dict 만들기 \n",
    "- 1.3.5.7.9/ 1.9.25.79.81"
   ]
  },
  {
   "cell_type": "code",
   "execution_count": 46,
   "id": "decd1683-18ad-4f32-8b5c-92a3b08f7726",
   "metadata": {},
   "outputs": [
    {
     "data": {
      "text/plain": [
       "{1: 1, 3: 9, 5: 25, 7: 49, 9: 81}"
      ]
     },
     "execution_count": 46,
     "metadata": {},
     "output_type": "execute_result"
    }
   ],
   "source": [
    "{i:i*i for i in range(1,11) if i%2 == 1}"
   ]
  },
  {
   "cell_type": "markdown",
   "id": "3c017acc-8da4-45a6-9231-329246db7aa9",
   "metadata": {},
   "source": [
    "# Partial\n",
    "-매개 변수가 1개인 함수에 여러 매개 변수를 전달해야 할 때 많이 사용"
   ]
  },
  {
   "cell_type": "code",
   "execution_count": 49,
   "id": "81ce51e5-19d1-46f3-98bd-b4d10cab5835",
   "metadata": {},
   "outputs": [],
   "source": [
    "def double(x) :\n",
    "    return x ** 2\n",
    "\n",
    "def triple(x) :\n",
    "    return x ** 3"
   ]
  },
  {
   "cell_type": "code",
   "execution_count": 50,
   "id": "90730de0-61fb-438a-834c-4266a9e07ed8",
   "metadata": {},
   "outputs": [
    {
     "name": "stdout",
     "output_type": "stream",
     "text": [
      "4\n",
      "27\n"
     ]
    }
   ],
   "source": [
    "print(double(2))\n",
    "print(triple(3))"
   ]
  },
  {
   "cell_type": "code",
   "execution_count": 51,
   "id": "bd46aa17-5cab-4537-a2c0-3e437693b088",
   "metadata": {},
   "outputs": [],
   "source": [
    "def multiple (x, y) :\n",
    "    return x**y"
   ]
  },
  {
   "cell_type": "code",
   "execution_count": 52,
   "id": "ec89a187-c35e-49f3-9956-c20c6b7bb1f4",
   "metadata": {},
   "outputs": [
    {
     "data": {
      "text/plain": [
       "16"
      ]
     },
     "execution_count": 52,
     "metadata": {},
     "output_type": "execute_result"
    }
   ],
   "source": [
    "multiple(2,4)"
   ]
  },
  {
   "cell_type": "code",
   "execution_count": 53,
   "id": "3801ccde-377c-4ea7-9b5d-83ecae65d9d7",
   "metadata": {},
   "outputs": [],
   "source": [
    "from functools import partial"
   ]
  },
  {
   "cell_type": "code",
   "execution_count": 54,
   "id": "891693d5-21f0-4125-83dd-34d6af280e55",
   "metadata": {},
   "outputs": [],
   "source": [
    "dbl = partial(multiple, y =2)\n",
    "tpl = partial(multiple, y =3)"
   ]
  },
  {
   "cell_type": "code",
   "execution_count": 55,
   "id": "a2cdccbf-53ce-40c8-9072-bc8dde5b2005",
   "metadata": {},
   "outputs": [
    {
     "data": {
      "text/plain": [
       "4"
      ]
     },
     "execution_count": 55,
     "metadata": {},
     "output_type": "execute_result"
    }
   ],
   "source": [
    "dbl(2)"
   ]
  },
  {
   "cell_type": "code",
   "execution_count": 56,
   "id": "030374a4-0019-40a6-b347-7c3df0a947b1",
   "metadata": {},
   "outputs": [
    {
     "data": {
      "text/plain": [
       "27"
      ]
     },
     "execution_count": 56,
     "metadata": {},
     "output_type": "execute_result"
    }
   ],
   "source": [
    "tpl(3)"
   ]
  },
  {
   "cell_type": "code",
   "execution_count": null,
   "id": "07e926b4-b9af-477f-a8fc-085996ad407a",
   "metadata": {},
   "outputs": [],
   "source": []
  }
 ],
 "metadata": {
  "kernelspec": {
   "display_name": "Python 3 (ipykernel)",
   "language": "python",
   "name": "python3"
  },
  "language_info": {
   "codemirror_mode": {
    "name": "ipython",
    "version": 3
   },
   "file_extension": ".py",
   "mimetype": "text/x-python",
   "name": "python",
   "nbconvert_exporter": "python",
   "pygments_lexer": "ipython3",
   "version": "3.9.12"
  }
 },
 "nbformat": 4,
 "nbformat_minor": 5
}
