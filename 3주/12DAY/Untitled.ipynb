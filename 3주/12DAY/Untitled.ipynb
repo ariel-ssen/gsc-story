{
 "cells": [
  {
   "cell_type": "code",
   "execution_count": 1,
   "id": "a6652e67-d701-4b98-8bc1-6906a90d6a5b",
   "metadata": {},
   "outputs": [],
   "source": [
    "#세트 \n",
    "#import pandas as pd\n",
    "#import requests\n",
    "#from bs4 import BeautifulSoup"
   ]
  },
  {
   "cell_type": "code",
   "execution_count": 2,
   "id": "880e75bc-62ae-4c2b-bd97-10635232092a",
   "metadata": {},
   "outputs": [],
   "source": [
    "#url = 'https://dhlottery.co.kr/store.do?method=topStore&pageGubun=L645'"
   ]
  },
  {
   "cell_type": "code",
   "execution_count": 3,
   "id": "051d5d10-a053-43d2-88c6-85751f9dc32d",
   "metadata": {},
   "outputs": [],
   "source": [
    "#세트\n",
    "#req = requests.get(url)\n",
    "#html = req.text\n",
    "#soup = BeautifulSoup(html, 'html.parser')"
   ]
  },
  {
   "cell_type": "code",
   "execution_count": 4,
   "id": "bacbc636-c105-4df5-8585-0b7c3086c5e3",
   "metadata": {},
   "outputs": [],
   "source": [
    "import pandas as pd"
   ]
  },
  {
   "cell_type": "code",
   "execution_count": 5,
   "id": "9d38039c-0c4e-4780-8b3e-9286f1dd8bbe",
   "metadata": {},
   "outputs": [],
   "source": [
    "import requests"
   ]
  },
  {
   "cell_type": "code",
   "execution_count": 6,
   "id": "69f3347d-e9d0-465f-903e-4cde272aae85",
   "metadata": {},
   "outputs": [],
   "source": [
    "# 가져올 화면 크롤링\n",
    "url = 'https://dhlottery.co.kr/store.do?method=topStore&pageGubun=L645'"
   ]
  },
  {
   "cell_type": "code",
   "execution_count": 7,
   "id": "ba855471-61d3-438b-854a-8138112a8cf8",
   "metadata": {},
   "outputs": [],
   "source": [
    "#HTTP 프로토콜\n",
    "#get방식(가져오는 방식) 인자를 url에 넣어서 전달 (눈으로 볼수 잇음)\n",
    "#post방식(가져오는방식2)) 인자를 프로토콜에 넣어서 전달 (눈으로 볼수 없음 )\n",
    "#-주소가 안바뀌면 개발자도구를 통해서 post라는걸 보냄?!\n",
    "#requests 요청\n",
    "req = requests.get(url)"
   ]
  },
  {
   "cell_type": "code",
   "execution_count": 8,
   "id": "90b800a4-81db-43e9-acba-cc5e96415746",
   "metadata": {},
   "outputs": [],
   "source": [
    "# 요청 한거 에서 텍스트만 빼주는거 \n",
    "html = req.text"
   ]
  },
  {
   "cell_type": "code",
   "execution_count": 9,
   "id": "3c867789-1a10-488f-a190-0c83346edcaa",
   "metadata": {},
   "outputs": [],
   "source": [
    "# BeautifulSoup 하나의 라이브러리\n",
    "#소스코드를 깔끔하게 정해 준다 \n",
    "from bs4 import BeautifulSoup"
   ]
  },
  {
   "cell_type": "code",
   "execution_count": 10,
   "id": "e9b75d4c-097f-4cc6-9c0d-6f3ea52d864c",
   "metadata": {},
   "outputs": [],
   "source": [
    "#(html, 'html.parser') 안에 있는걸 가공하겠다 \n",
    "soup = BeautifulSoup(html, 'html.parser')"
   ]
  },
  {
   "cell_type": "code",
   "execution_count": 11,
   "id": "2cbf130c-ac3f-40ee-9520-fc3390a78f6f",
   "metadata": {},
   "outputs": [],
   "source": [
    "# select 복사하는 함수중에 하나 ()\n",
    "name = soup.select('#article > div:nth-child(2) > div > div:nth-child(4) > table > tbody > tr > td:nth-child(2)')"
   ]
  },
  {
   "cell_type": "code",
   "execution_count": 12,
   "id": "2dcc047f-76d8-4bd6-8401-77140347adc7",
   "metadata": {},
   "outputs": [
    {
     "data": {
      "text/plain": [
       "[<td>복권마을</td>,\n",
       " <td>잠실매점</td>,\n",
       " <td>당첨로또</td>,\n",
       " <td>위너로또</td>,\n",
       " <td>라이프마트</td>,\n",
       " <td>알리바이</td>,\n",
       " <td>토큰박스</td>,\n",
       " <td>은미복권방</td>,\n",
       " <td>로또대박</td>,\n",
       " <td>대박명당</td>,\n",
       " <td>행운복권방</td>,\n",
       " <td>신불당로또</td>,\n",
       " <td>현대장미슈퍼</td>,\n",
       " <td>알리바이(나주점)</td>,\n",
       " <td>알리바이(나주점)</td>,\n",
       " <td>복권방</td>]"
      ]
     },
     "execution_count": 12,
     "metadata": {},
     "output_type": "execute_result"
    }
   ],
   "source": [
    "name"
   ]
  },
  {
   "cell_type": "code",
   "execution_count": 13,
   "id": "d6d034da-ec8b-41f8-9ba2-582908ab4477",
   "metadata": {},
   "outputs": [],
   "source": [
    "gubun = soup.select('#article > div:nth-child(2) > div > div:nth-child(4) > table > tbody > tr > td:nth-child(3)')"
   ]
  },
  {
   "cell_type": "code",
   "execution_count": 14,
   "id": "478c36fe-02bd-4c43-9cd7-76a6b2a6dcb3",
   "metadata": {
    "collapsed": true,
    "jupyter": {
     "outputs_hidden": true
    },
    "tags": []
   },
   "outputs": [
    {
     "data": {
      "text/plain": [
       "[<td>\n",
       " \t\t\t\t\t\t\t\t\t\t\t\n",
       " \t\t\t\t\t\t\t\t\t\t\t\t \n",
       " \t\t\t\t\t\t\t\t\t\t\t\t\n",
       " \t\t\t\t\t\t\t\t\t\t\t\t반자동\n",
       " \t\t\t\t\t\t\t\t\t\t\t\t\n",
       " \t\t\t\t\t\t\t\t\t\t\t\n",
       " \t\t\t\t\t\t\t\t\t\t</td>,\n",
       " <td>\n",
       " \t\t\t\t\t\t\t\t\t\t\t\n",
       " \t\t\t\t\t\t\t\t\t\t\t\t자동 \n",
       " \t\t\t\t\t\t\t\t\t\t\t\t\n",
       " \t\t\t\t\t\t\t\t\t\t\t\t\n",
       " \t\t\t\t\t\t\t\t\t\t\t\t\n",
       " \t\t\t\t\t\t\t\t\t\t\t\n",
       " \t\t\t\t\t\t\t\t\t\t</td>,\n",
       " <td>\n",
       " \t\t\t\t\t\t\t\t\t\t\t\n",
       " \t\t\t\t\t\t\t\t\t\t\t\t자동 \n",
       " \t\t\t\t\t\t\t\t\t\t\t\t\n",
       " \t\t\t\t\t\t\t\t\t\t\t\t\n",
       " \t\t\t\t\t\t\t\t\t\t\t\t\n",
       " \t\t\t\t\t\t\t\t\t\t\t\n",
       " \t\t\t\t\t\t\t\t\t\t</td>,\n",
       " <td>\n",
       " \t\t\t\t\t\t\t\t\t\t\t\n",
       " \t\t\t\t\t\t\t\t\t\t\t\t자동 \n",
       " \t\t\t\t\t\t\t\t\t\t\t\t\n",
       " \t\t\t\t\t\t\t\t\t\t\t\t\n",
       " \t\t\t\t\t\t\t\t\t\t\t\t\n",
       " \t\t\t\t\t\t\t\t\t\t\t\n",
       " \t\t\t\t\t\t\t\t\t\t</td>,\n",
       " <td>\n",
       " \t\t\t\t\t\t\t\t\t\t\t\n",
       " \t\t\t\t\t\t\t\t\t\t\t\t자동 \n",
       " \t\t\t\t\t\t\t\t\t\t\t\t\n",
       " \t\t\t\t\t\t\t\t\t\t\t\t\n",
       " \t\t\t\t\t\t\t\t\t\t\t\t\n",
       " \t\t\t\t\t\t\t\t\t\t\t\n",
       " \t\t\t\t\t\t\t\t\t\t</td>,\n",
       " <td>\n",
       " \t\t\t\t\t\t\t\t\t\t\t\n",
       " \t\t\t\t\t\t\t\t\t\t\t\t자동 \n",
       " \t\t\t\t\t\t\t\t\t\t\t\t\n",
       " \t\t\t\t\t\t\t\t\t\t\t\t\n",
       " \t\t\t\t\t\t\t\t\t\t\t\t\n",
       " \t\t\t\t\t\t\t\t\t\t\t\n",
       " \t\t\t\t\t\t\t\t\t\t</td>,\n",
       " <td>\n",
       " \t\t\t\t\t\t\t\t\t\t\t\n",
       " \t\t\t\t\t\t\t\t\t\t\t\t자동 \n",
       " \t\t\t\t\t\t\t\t\t\t\t\t\n",
       " \t\t\t\t\t\t\t\t\t\t\t\t\n",
       " \t\t\t\t\t\t\t\t\t\t\t\t\n",
       " \t\t\t\t\t\t\t\t\t\t\t\n",
       " \t\t\t\t\t\t\t\t\t\t</td>,\n",
       " <td>\n",
       " \t\t\t\t\t\t\t\t\t\t\t\n",
       " \t\t\t\t\t\t\t\t\t\t\t\t자동 \n",
       " \t\t\t\t\t\t\t\t\t\t\t\t\n",
       " \t\t\t\t\t\t\t\t\t\t\t\t\n",
       " \t\t\t\t\t\t\t\t\t\t\t\t\n",
       " \t\t\t\t\t\t\t\t\t\t\t\n",
       " \t\t\t\t\t\t\t\t\t\t</td>,\n",
       " <td>\n",
       " \t\t\t\t\t\t\t\t\t\t\t\n",
       " \t\t\t\t\t\t\t\t\t\t\t\t자동 \n",
       " \t\t\t\t\t\t\t\t\t\t\t\t\n",
       " \t\t\t\t\t\t\t\t\t\t\t\t\n",
       " \t\t\t\t\t\t\t\t\t\t\t\t\n",
       " \t\t\t\t\t\t\t\t\t\t\t\n",
       " \t\t\t\t\t\t\t\t\t\t</td>,\n",
       " <td>\n",
       " \t\t\t\t\t\t\t\t\t\t\t\n",
       " \t\t\t\t\t\t\t\t\t\t\t\t자동 \n",
       " \t\t\t\t\t\t\t\t\t\t\t\t\n",
       " \t\t\t\t\t\t\t\t\t\t\t\t\n",
       " \t\t\t\t\t\t\t\t\t\t\t\t\n",
       " \t\t\t\t\t\t\t\t\t\t\t\n",
       " \t\t\t\t\t\t\t\t\t\t</td>,\n",
       " <td>\n",
       " \t\t\t\t\t\t\t\t\t\t\t\n",
       " \t\t\t\t\t\t\t\t\t\t\t\t자동 \n",
       " \t\t\t\t\t\t\t\t\t\t\t\t\n",
       " \t\t\t\t\t\t\t\t\t\t\t\t\n",
       " \t\t\t\t\t\t\t\t\t\t\t\t\n",
       " \t\t\t\t\t\t\t\t\t\t\t\n",
       " \t\t\t\t\t\t\t\t\t\t</td>,\n",
       " <td>\n",
       " \t\t\t\t\t\t\t\t\t\t\t\n",
       " \t\t\t\t\t\t\t\t\t\t\t\t자동 \n",
       " \t\t\t\t\t\t\t\t\t\t\t\t\n",
       " \t\t\t\t\t\t\t\t\t\t\t\t\n",
       " \t\t\t\t\t\t\t\t\t\t\t\t\n",
       " \t\t\t\t\t\t\t\t\t\t\t\n",
       " \t\t\t\t\t\t\t\t\t\t</td>,\n",
       " <td>\n",
       " \t\t\t\t\t\t\t\t\t\t\t\n",
       " \t\t\t\t\t\t\t\t\t\t\t\t자동 \n",
       " \t\t\t\t\t\t\t\t\t\t\t\t\n",
       " \t\t\t\t\t\t\t\t\t\t\t\t\n",
       " \t\t\t\t\t\t\t\t\t\t\t\t\n",
       " \t\t\t\t\t\t\t\t\t\t\t\n",
       " \t\t\t\t\t\t\t\t\t\t</td>,\n",
       " <td>\n",
       " \t\t\t\t\t\t\t\t\t\t\t\n",
       " \t\t\t\t\t\t\t\t\t\t\t\t자동 \n",
       " \t\t\t\t\t\t\t\t\t\t\t\t\n",
       " \t\t\t\t\t\t\t\t\t\t\t\t\n",
       " \t\t\t\t\t\t\t\t\t\t\t\t\n",
       " \t\t\t\t\t\t\t\t\t\t\t\n",
       " \t\t\t\t\t\t\t\t\t\t</td>,\n",
       " <td>\n",
       " \t\t\t\t\t\t\t\t\t\t\t\n",
       " \t\t\t\t\t\t\t\t\t\t\t\t자동 \n",
       " \t\t\t\t\t\t\t\t\t\t\t\t\n",
       " \t\t\t\t\t\t\t\t\t\t\t\t\n",
       " \t\t\t\t\t\t\t\t\t\t\t\t\n",
       " \t\t\t\t\t\t\t\t\t\t\t\n",
       " \t\t\t\t\t\t\t\t\t\t</td>,\n",
       " <td>\n",
       " \t\t\t\t\t\t\t\t\t\t\t\n",
       " \t\t\t\t\t\t\t\t\t\t\t\t자동 \n",
       " \t\t\t\t\t\t\t\t\t\t\t\t\n",
       " \t\t\t\t\t\t\t\t\t\t\t\t\n",
       " \t\t\t\t\t\t\t\t\t\t\t\t\n",
       " \t\t\t\t\t\t\t\t\t\t\t\n",
       " \t\t\t\t\t\t\t\t\t\t</td>]"
      ]
     },
     "execution_count": 14,
     "metadata": {},
     "output_type": "execute_result"
    }
   ],
   "source": [
    "gubun"
   ]
  },
  {
   "cell_type": "code",
   "execution_count": 15,
   "id": "90940877-8720-4f85-81b0-7a78e954d0ca",
   "metadata": {},
   "outputs": [],
   "source": [
    "addr = soup.select('#article > div:nth-child(2) > div > div:nth-child(4) > table > tbody > tr > td:nth-child(4)')"
   ]
  },
  {
   "cell_type": "code",
   "execution_count": 16,
   "id": "825e792f-9bc4-4a17-8790-d92312f65159",
   "metadata": {
    "tags": []
   },
   "outputs": [
    {
     "data": {
      "text/plain": [
       "[<td>서울 구로구 구로동로 72 </td>,\n",
       " <td>서울 송파구 올림픽로 269 잠실역 8번출구 앞 가판</td>,\n",
       " <td>부산 동구 범일로90번길 6-1 1층</td>,\n",
       " <td>인천 남동구 구월남로 212  동원프라자 101호</td>,\n",
       " <td>인천 중구 연안부두로53번길 36 5호</td>,\n",
       " <td>광주 광산구 수등로 253 1층 알리바이</td>,\n",
       " <td>경기 남양주시 진건오남로 112-1 동양할인마트 앞 로또판매점</td>,\n",
       " <td>경기 부천시 소사로794번길 6 </td>,\n",
       " <td>경기 부천시 석천로177번길 11 제이클래스중동 1층 105호</td>,\n",
       " <td>경기 양주시 옥정동로5길 6 </td>,\n",
       " <td>충북 청주시 상당구 단재로 119,(영운동) </td>,\n",
       " <td>충남 천안시 서북구 불당21로 40 501동 지1층 B143호</td>,\n",
       " <td>전북 익산시 동서로61길 41 현대아파트1층108호</td>,\n",
       " <td>전남 나주시 나주로 142 알리바이</td>,\n",
       " <td>전남 나주시 나주로 142 알리바이</td>,\n",
       " <td>제주 서귀포시 상모로 326 </td>]"
      ]
     },
     "execution_count": 16,
     "metadata": {},
     "output_type": "execute_result"
    }
   ],
   "source": [
    "addr"
   ]
  },
  {
   "cell_type": "code",
   "execution_count": 17,
   "id": "319ba022-ca14-4652-b733-c5a0a7e1c773",
   "metadata": {
    "tags": []
   },
   "outputs": [],
   "source": [
    "data = []\n",
    "for i in range(len(name)) :\n",
    "    temp = []\n",
    "    temp.append(name[i].text)\n",
    "    temp.append(gubun[i].text.strip())\n",
    "    temp.append(addr[i].text)\n",
    "    data.append(temp)\n",
    "    "
   ]
  },
  {
   "cell_type": "code",
   "execution_count": 18,
   "id": "f31f0096-26b6-4a51-9621-70e3caa3b584",
   "metadata": {},
   "outputs": [],
   "source": [
    "df = pd.DataFrame(data, columns = ['상호명','구분','주소'])"
   ]
  },
  {
   "cell_type": "code",
   "execution_count": 19,
   "id": "02012f94-9611-472f-9d87-cf6db6abf560",
   "metadata": {},
   "outputs": [
    {
     "data": {
      "text/html": [
       "<div>\n",
       "<style scoped>\n",
       "    .dataframe tbody tr th:only-of-type {\n",
       "        vertical-align: middle;\n",
       "    }\n",
       "\n",
       "    .dataframe tbody tr th {\n",
       "        vertical-align: top;\n",
       "    }\n",
       "\n",
       "    .dataframe thead th {\n",
       "        text-align: right;\n",
       "    }\n",
       "</style>\n",
       "<table border=\"1\" class=\"dataframe\">\n",
       "  <thead>\n",
       "    <tr style=\"text-align: right;\">\n",
       "      <th></th>\n",
       "      <th>상호명</th>\n",
       "      <th>구분</th>\n",
       "      <th>주소</th>\n",
       "    </tr>\n",
       "  </thead>\n",
       "  <tbody>\n",
       "    <tr>\n",
       "      <th>0</th>\n",
       "      <td>복권마을</td>\n",
       "      <td>반자동</td>\n",
       "      <td>서울 구로구 구로동로 72</td>\n",
       "    </tr>\n",
       "    <tr>\n",
       "      <th>1</th>\n",
       "      <td>잠실매점</td>\n",
       "      <td>자동</td>\n",
       "      <td>서울 송파구 올림픽로 269 잠실역 8번출구 앞 가판</td>\n",
       "    </tr>\n",
       "    <tr>\n",
       "      <th>2</th>\n",
       "      <td>당첨로또</td>\n",
       "      <td>자동</td>\n",
       "      <td>부산 동구 범일로90번길 6-1 1층</td>\n",
       "    </tr>\n",
       "    <tr>\n",
       "      <th>3</th>\n",
       "      <td>위너로또</td>\n",
       "      <td>자동</td>\n",
       "      <td>인천 남동구 구월남로 212  동원프라자 101호</td>\n",
       "    </tr>\n",
       "    <tr>\n",
       "      <th>4</th>\n",
       "      <td>라이프마트</td>\n",
       "      <td>자동</td>\n",
       "      <td>인천 중구 연안부두로53번길 36 5호</td>\n",
       "    </tr>\n",
       "    <tr>\n",
       "      <th>5</th>\n",
       "      <td>알리바이</td>\n",
       "      <td>자동</td>\n",
       "      <td>광주 광산구 수등로 253 1층 알리바이</td>\n",
       "    </tr>\n",
       "    <tr>\n",
       "      <th>6</th>\n",
       "      <td>토큰박스</td>\n",
       "      <td>자동</td>\n",
       "      <td>경기 남양주시 진건오남로 112-1 동양할인마트 앞 로또판매점</td>\n",
       "    </tr>\n",
       "    <tr>\n",
       "      <th>7</th>\n",
       "      <td>은미복권방</td>\n",
       "      <td>자동</td>\n",
       "      <td>경기 부천시 소사로794번길 6</td>\n",
       "    </tr>\n",
       "    <tr>\n",
       "      <th>8</th>\n",
       "      <td>로또대박</td>\n",
       "      <td>자동</td>\n",
       "      <td>경기 부천시 석천로177번길 11 제이클래스중동 1층 105호</td>\n",
       "    </tr>\n",
       "    <tr>\n",
       "      <th>9</th>\n",
       "      <td>대박명당</td>\n",
       "      <td>자동</td>\n",
       "      <td>경기 양주시 옥정동로5길 6</td>\n",
       "    </tr>\n",
       "    <tr>\n",
       "      <th>10</th>\n",
       "      <td>행운복권방</td>\n",
       "      <td>자동</td>\n",
       "      <td>충북 청주시 상당구 단재로 119,(영운동)</td>\n",
       "    </tr>\n",
       "    <tr>\n",
       "      <th>11</th>\n",
       "      <td>신불당로또</td>\n",
       "      <td>자동</td>\n",
       "      <td>충남 천안시 서북구 불당21로 40 501동 지1층 B143호</td>\n",
       "    </tr>\n",
       "    <tr>\n",
       "      <th>12</th>\n",
       "      <td>현대장미슈퍼</td>\n",
       "      <td>자동</td>\n",
       "      <td>전북 익산시 동서로61길 41 현대아파트1층108호</td>\n",
       "    </tr>\n",
       "    <tr>\n",
       "      <th>13</th>\n",
       "      <td>알리바이(나주점)</td>\n",
       "      <td>자동</td>\n",
       "      <td>전남 나주시 나주로 142 알리바이</td>\n",
       "    </tr>\n",
       "    <tr>\n",
       "      <th>14</th>\n",
       "      <td>알리바이(나주점)</td>\n",
       "      <td>자동</td>\n",
       "      <td>전남 나주시 나주로 142 알리바이</td>\n",
       "    </tr>\n",
       "    <tr>\n",
       "      <th>15</th>\n",
       "      <td>복권방</td>\n",
       "      <td>자동</td>\n",
       "      <td>제주 서귀포시 상모로 326</td>\n",
       "    </tr>\n",
       "  </tbody>\n",
       "</table>\n",
       "</div>"
      ],
      "text/plain": [
       "          상호명   구분                                  주소\n",
       "0        복권마을  반자동                     서울 구로구 구로동로 72 \n",
       "1        잠실매점   자동       서울 송파구 올림픽로 269 잠실역 8번출구 앞 가판\n",
       "2        당첨로또   자동                부산 동구 범일로90번길 6-1 1층\n",
       "3        위너로또   자동         인천 남동구 구월남로 212  동원프라자 101호\n",
       "4       라이프마트   자동               인천 중구 연안부두로53번길 36 5호\n",
       "5        알리바이   자동              광주 광산구 수등로 253 1층 알리바이\n",
       "6        토큰박스   자동  경기 남양주시 진건오남로 112-1 동양할인마트 앞 로또판매점\n",
       "7       은미복권방   자동                  경기 부천시 소사로794번길 6 \n",
       "8        로또대박   자동  경기 부천시 석천로177번길 11 제이클래스중동 1층 105호\n",
       "9        대박명당   자동                    경기 양주시 옥정동로5길 6 \n",
       "10      행운복권방   자동           충북 청주시 상당구 단재로 119,(영운동) \n",
       "11      신불당로또   자동  충남 천안시 서북구 불당21로 40 501동 지1층 B143호\n",
       "12     현대장미슈퍼   자동        전북 익산시 동서로61길 41 현대아파트1층108호\n",
       "13  알리바이(나주점)   자동                 전남 나주시 나주로 142 알리바이\n",
       "14  알리바이(나주점)   자동                 전남 나주시 나주로 142 알리바이\n",
       "15        복권방   자동                    제주 서귀포시 상모로 326 "
      ]
     },
     "execution_count": 19,
     "metadata": {},
     "output_type": "execute_result"
    }
   ],
   "source": [
    "df"
   ]
  },
  {
   "cell_type": "code",
   "execution_count": 20,
   "id": "9e86e933-515e-487c-86ea-7ea85df5db8e",
   "metadata": {},
   "outputs": [],
   "source": [
    "#POST 방식\n",
    "#ctrl- shift - i - network - Payroad\n",
    "post_data = {'method': 'topStore',\n",
    "             'nowPage': '1',\n",
    "             'rankNo': '',\n",
    "             'gameNo': '5133',\n",
    "             'drwNo': '1039',\n",
    "             'schKey': 'all',\n",
    "             'schVal': '' }"
   ]
  },
  {
   "cell_type": "code",
   "execution_count": 21,
   "id": "afa3963b-7161-4777-ba5e-b25566b0e621",
   "metadata": {},
   "outputs": [],
   "source": [
    "req = requests.post(url, data = post_data)"
   ]
  },
  {
   "cell_type": "code",
   "execution_count": 22,
   "id": "dad51853-8770-4931-b124-f75db435d96a",
   "metadata": {},
   "outputs": [],
   "source": [
    "html = req.text"
   ]
  },
  {
   "cell_type": "code",
   "execution_count": 23,
   "id": "46b57c32-ca3f-45bd-a73e-7bb0b9cd30e2",
   "metadata": {},
   "outputs": [],
   "source": [
    "soup = BeautifulSoup(html,'html.parser')"
   ]
  },
  {
   "cell_type": "markdown",
   "id": "29c661ad-9c2a-4949-b870-caf7179510fc",
   "metadata": {},
   "source": [
    "--"
   ]
  },
  {
   "cell_type": "code",
   "execution_count": null,
   "id": "5384b7b1-a9dd-4a93-ba7a-97169059c6f5",
   "metadata": {},
   "outputs": [],
   "source": [
    "df = pd.DataFrame()\n",
    "\n",
    "for time in range(1000,1039) :\n",
    "    data = {'method': 'topStore',\n",
    "             'nowPage': '1',\n",
    "             'rankNo': '',\n",
    "             'gameNo': '5133',\n",
    "             'drwNo': '1039',\n",
    "             'schKey': 'all',\n",
    "             'schVal': '' }\n",
    "    \n",
    "    req = requests.post(url, data = post_data)\n",
    "    html = req.text\n",
    "    soup = BeautifulSoup(html,'html.parser')"
   ]
  },
  {
   "cell_type": "code",
   "execution_count": null,
   "id": "d057fc63-4c74-496a-9e6f-2ba3d7155e81",
   "metadata": {},
   "outputs": [],
   "source": []
  },
  {
   "cell_type": "code",
   "execution_count": null,
   "id": "9bed3b65-541e-4c39-b97f-6e15ead26e43",
   "metadata": {},
   "outputs": [],
   "source": []
  },
  {
   "cell_type": "code",
   "execution_count": null,
   "id": "2e690f63-5bc2-4d39-aa2a-00bcc304e9bd",
   "metadata": {},
   "outputs": [],
   "source": []
  },
  {
   "cell_type": "code",
   "execution_count": null,
   "id": "581b022a-32be-445d-90c2-5c413bf2df2e",
   "metadata": {},
   "outputs": [],
   "source": []
  },
  {
   "cell_type": "code",
   "execution_count": null,
   "id": "329d0997-325c-4d69-8cec-8c27904b55e7",
   "metadata": {},
   "outputs": [],
   "source": []
  },
  {
   "cell_type": "code",
   "execution_count": null,
   "id": "b03d0147-3a5d-424f-8ad3-352ad6f0d0ca",
   "metadata": {},
   "outputs": [],
   "source": []
  },
  {
   "cell_type": "code",
   "execution_count": null,
   "id": "89bc7987-816d-4254-a153-33a57f17330c",
   "metadata": {},
   "outputs": [],
   "source": []
  },
  {
   "cell_type": "code",
   "execution_count": null,
   "id": "10639ac2-99f9-420c-8d74-ef27544faca8",
   "metadata": {},
   "outputs": [],
   "source": []
  },
  {
   "cell_type": "code",
   "execution_count": null,
   "id": "c7543349-99d9-4bcb-b846-dd051d2a8594",
   "metadata": {},
   "outputs": [],
   "source": []
  },
  {
   "cell_type": "code",
   "execution_count": null,
   "id": "a373b441-0777-4909-b7e0-39462aaaa2c7",
   "metadata": {},
   "outputs": [],
   "source": []
  },
  {
   "cell_type": "code",
   "execution_count": null,
   "id": "6e0da165-fb0a-4d84-9b2d-32e4139a5252",
   "metadata": {},
   "outputs": [],
   "source": []
  }
 ],
 "metadata": {
  "kernelspec": {
   "display_name": "Python 3 (ipykernel)",
   "language": "python",
   "name": "python3"
  },
  "language_info": {
   "codemirror_mode": {
    "name": "ipython",
    "version": 3
   },
   "file_extension": ".py",
   "mimetype": "text/x-python",
   "name": "python",
   "nbconvert_exporter": "python",
   "pygments_lexer": "ipython3",
   "version": "3.9.12"
  }
 },
 "nbformat": 4,
 "nbformat_minor": 5
}
