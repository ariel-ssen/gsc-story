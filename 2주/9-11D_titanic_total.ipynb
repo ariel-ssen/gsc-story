{
 "cells": [
  {
   "cell_type": "markdown",
   "id": "a1f9fce3-e3bc-480a-b4a4-e6e34c556bf5",
   "metadata": {},
   "source": [
    "# 9-10 DAY"
   ]
  },
  {
   "cell_type": "code",
   "execution_count": 1,
   "id": "26eed897-a440-4985-8ec3-6ee96396561c",
   "metadata": {},
   "outputs": [],
   "source": [
    "import pandas as pd\n",
    "import numpy as np"
   ]
  },
  {
   "cell_type": "code",
   "execution_count": 2,
   "id": "0e0f3370-dc2d-40d8-bd72-464a948e7bb9",
   "metadata": {},
   "outputs": [],
   "source": [
    "test = pd.read_csv('9D_titanic/test.csv')"
   ]
  },
  {
   "cell_type": "code",
   "execution_count": 3,
   "id": "a0b7f419-0c7c-450a-9df8-4547dcd55ec8",
   "metadata": {},
   "outputs": [],
   "source": [
    "train = pd.read_csv('9D_titanic/train.csv')"
   ]
  },
  {
   "cell_type": "code",
   "execution_count": 4,
   "id": "eecee5ae-523e-4d1e-bf73-d8251f7a225b",
   "metadata": {},
   "outputs": [
    {
     "data": {
      "text/plain": [
       "PassengerId      0\n",
       "Survived         0\n",
       "Pclass           0\n",
       "Name             0\n",
       "Sex              0\n",
       "Age            177\n",
       "SibSp            0\n",
       "Parch            0\n",
       "Ticket           0\n",
       "Fare             0\n",
       "Cabin          687\n",
       "Embarked         2\n",
       "dtype: int64"
      ]
     },
     "execution_count": 4,
     "metadata": {},
     "output_type": "execute_result"
    }
   ],
   "source": [
    "train.isnull().sum()"
   ]
  },
  {
   "cell_type": "code",
   "execution_count": 5,
   "id": "6c81e1b1-9bed-4ee8-9cc6-a25c72df1f14",
   "metadata": {},
   "outputs": [],
   "source": [
    "train_test_dataset = [train, test]"
   ]
  },
  {
   "cell_type": "code",
   "execution_count": 6,
   "id": "92cdeeb1-0eb0-4d17-8d92-1680980851bf",
   "metadata": {},
   "outputs": [],
   "source": [
    "for data in train_test_dataset :\n",
    "    data['Title'] = data['Name'].str.extract('([a-zA-Z]+)\\.')\n",
    "    data['Title'] = data['Title'].str.lower()\n",
    "    data['Title'] = np.where(data['Title']== 'mr' , 0,\n",
    "                            np.where(data['Title']== \"mrs\" , 1,\n",
    "                                    np.where(data['Title'] == 'miss', 2 , 3)))\n",
    "    \n",
    "    data['Age'] = data['Age'].fillna(data.groupby('Sex')['Age'].transform('median'))\n",
    "    data['Age'] = np.where(data['Age'] <= 16, 0,\n",
    "                    np.where(data['Age'] <= 26, 1,\n",
    "                    np.where(data['Age'] <= 36, 2,\n",
    "                    np.where(data['Age'] <= 62, 3, 4))))\n",
    "    \n",
    "    data['Embarked'].fillna('S', inplace= True)\n",
    "    data['Embarked'] = data['Embarked'].map({'S':0 , 'C':1, 'Q' :2})\n",
    "    \n",
    "    data['Cabin'] = data['Cabin'].str[0]\n",
    "    cabin_mapping = {'A': 0.0, 'B': 0.4, 'C': 0.8, 'D': 1.2, 'E': 1.6, 'F': 2.0, 'G': 2.4, 'T': 2.8}\n",
    "    data['Cabin'] = data['Cabin'].map(cabin_mapping)\n",
    "    data['Cabin'].fillna(data.groupby('Pclass')['Cabin'].transform('median'), inplace=True)\n",
    "    \n",
    "    data['Sex'] = data['Sex'].map({'male':0, 'female':1})\n",
    "    \n",
    "    data['Fare'].fillna(data.groupby('Pclass')['Fare'].transform('median'),inplace= True)\n",
    "    data['Fare'] = np.where(data['Fare'] <= 17, 0,\n",
    "                          np.where(data['Fare'] <= 30, 1,\n",
    "                                   np.where(data['Fare'] <= 100, 2, 3)))\n",
    "    \n",
    "    data['FamilySize'] = data['SibSp'] + data['Parch'] +1\n",
    "    \n",
    "    family_map = {1: 0.0, 2: 0.4, 3: 0.8, 4: 1.2, 5: 1.6, 6: 2.0, 7: 2.4, 8: 2.8, 9: 3.2, 10: 3.6, 11: 4.0}\n",
    "    \n",
    "    data['FamilySize'] = data['FamilySize'].map(family_map)"
   ]
  },
  {
   "cell_type": "code",
   "execution_count": null,
   "id": "716a837b-5021-4178-804c-473e6fba1980",
   "metadata": {},
   "outputs": [],
   "source": []
  },
  {
   "cell_type": "code",
   "execution_count": 7,
   "id": "db7f2444-9517-4f58-b564-18b979cfc144",
   "metadata": {},
   "outputs": [
    {
     "data": {
      "text/plain": [
       "Index(['PassengerId', 'Survived', 'Pclass', 'Name', 'Sex', 'Age', 'SibSp',\n",
       "       'Parch', 'Ticket', 'Fare', 'Cabin', 'Embarked', 'Title', 'FamilySize'],\n",
       "      dtype='object')"
      ]
     },
     "execution_count": 7,
     "metadata": {},
     "output_type": "execute_result"
    }
   ],
   "source": [
    "train.columns"
   ]
  },
  {
   "cell_type": "code",
   "execution_count": 8,
   "id": "2036b113-6382-43a4-88a6-0e3c29bd6247",
   "metadata": {},
   "outputs": [],
   "source": [
    "features_drop = ['PassengerId','Name' , 'Ticket' , 'SibSp' , 'Parch']"
   ]
  },
  {
   "cell_type": "code",
   "execution_count": 9,
   "id": "c5c4b7cc-ce6f-4d82-a84a-6c4ca5682f2f",
   "metadata": {},
   "outputs": [],
   "source": [
    "train = train.drop(features_drop , axis =1 )"
   ]
  },
  {
   "cell_type": "code",
   "execution_count": 10,
   "id": "2a4dea8c-3953-4006-aeb3-a3155504c280",
   "metadata": {},
   "outputs": [],
   "source": [
    "test = test.drop(features_drop , axis =1 )"
   ]
  },
  {
   "cell_type": "code",
   "execution_count": 11,
   "id": "a9e3d7e5-cb0c-47ad-bb65-c9dc2eee6f9b",
   "metadata": {},
   "outputs": [
    {
     "data": {
      "text/html": [
       "<div>\n",
       "<style scoped>\n",
       "    .dataframe tbody tr th:only-of-type {\n",
       "        vertical-align: middle;\n",
       "    }\n",
       "\n",
       "    .dataframe tbody tr th {\n",
       "        vertical-align: top;\n",
       "    }\n",
       "\n",
       "    .dataframe thead th {\n",
       "        text-align: right;\n",
       "    }\n",
       "</style>\n",
       "<table border=\"1\" class=\"dataframe\">\n",
       "  <thead>\n",
       "    <tr style=\"text-align: right;\">\n",
       "      <th></th>\n",
       "      <th>Survived</th>\n",
       "      <th>Pclass</th>\n",
       "      <th>Sex</th>\n",
       "      <th>Age</th>\n",
       "      <th>Fare</th>\n",
       "      <th>Cabin</th>\n",
       "      <th>Embarked</th>\n",
       "      <th>Title</th>\n",
       "      <th>FamilySize</th>\n",
       "    </tr>\n",
       "  </thead>\n",
       "  <tbody>\n",
       "    <tr>\n",
       "      <th>0</th>\n",
       "      <td>0</td>\n",
       "      <td>3</td>\n",
       "      <td>0</td>\n",
       "      <td>1</td>\n",
       "      <td>0</td>\n",
       "      <td>2.0</td>\n",
       "      <td>0</td>\n",
       "      <td>0</td>\n",
       "      <td>0.4</td>\n",
       "    </tr>\n",
       "  </tbody>\n",
       "</table>\n",
       "</div>"
      ],
      "text/plain": [
       "   Survived  Pclass  Sex  Age  Fare  Cabin  Embarked  Title  FamilySize\n",
       "0         0       3    0    1     0    2.0         0      0         0.4"
      ]
     },
     "execution_count": 11,
     "metadata": {},
     "output_type": "execute_result"
    }
   ],
   "source": [
    "train.head(1)"
   ]
  },
  {
   "cell_type": "code",
   "execution_count": 12,
   "id": "dc2ef0df-33ee-4a1d-8dab-f19e9f723a44",
   "metadata": {},
   "outputs": [
    {
     "data": {
      "text/html": [
       "<div>\n",
       "<style scoped>\n",
       "    .dataframe tbody tr th:only-of-type {\n",
       "        vertical-align: middle;\n",
       "    }\n",
       "\n",
       "    .dataframe tbody tr th {\n",
       "        vertical-align: top;\n",
       "    }\n",
       "\n",
       "    .dataframe thead th {\n",
       "        text-align: right;\n",
       "    }\n",
       "</style>\n",
       "<table border=\"1\" class=\"dataframe\">\n",
       "  <thead>\n",
       "    <tr style=\"text-align: right;\">\n",
       "      <th></th>\n",
       "      <th>Pclass</th>\n",
       "      <th>Sex</th>\n",
       "      <th>Age</th>\n",
       "      <th>Fare</th>\n",
       "      <th>Cabin</th>\n",
       "      <th>Embarked</th>\n",
       "      <th>Title</th>\n",
       "      <th>FamilySize</th>\n",
       "    </tr>\n",
       "  </thead>\n",
       "  <tbody>\n",
       "    <tr>\n",
       "      <th>0</th>\n",
       "      <td>3</td>\n",
       "      <td>0</td>\n",
       "      <td>2</td>\n",
       "      <td>0</td>\n",
       "      <td>2.0</td>\n",
       "      <td>2</td>\n",
       "      <td>0</td>\n",
       "      <td>0.0</td>\n",
       "    </tr>\n",
       "  </tbody>\n",
       "</table>\n",
       "</div>"
      ],
      "text/plain": [
       "   Pclass  Sex  Age  Fare  Cabin  Embarked  Title  FamilySize\n",
       "0       3    0    2     0    2.0         2      0         0.0"
      ]
     },
     "execution_count": 12,
     "metadata": {},
     "output_type": "execute_result"
    }
   ],
   "source": [
    "test.head(1)"
   ]
  },
  {
   "cell_type": "code",
   "execution_count": 13,
   "id": "b9a81735-fd73-4aae-83cb-8e55341bbf5c",
   "metadata": {},
   "outputs": [
    {
     "data": {
      "text/plain": [
       "Pclass        0\n",
       "Sex           0\n",
       "Age           0\n",
       "Fare          0\n",
       "Cabin         0\n",
       "Embarked      0\n",
       "Title         0\n",
       "FamilySize    0\n",
       "dtype: int64"
      ]
     },
     "execution_count": 13,
     "metadata": {},
     "output_type": "execute_result"
    }
   ],
   "source": [
    "test.isnull().sum()"
   ]
  },
  {
   "cell_type": "code",
   "execution_count": null,
   "id": "bbea072d-4ec4-45ee-b1f2-74a2637608a3",
   "metadata": {},
   "outputs": [],
   "source": []
  },
  {
   "cell_type": "markdown",
   "id": "4fa72088-dd77-4ea0-8aa7-1c71e44d8f67",
   "metadata": {},
   "source": [
    "----"
   ]
  },
  {
   "cell_type": "markdown",
   "id": "cdd6970b-2cad-402d-b2de-9ecfad1e37d8",
   "metadata": {},
   "source": [
    "# 11dAY"
   ]
  },
  {
   "cell_type": "code",
   "execution_count": 14,
   "id": "ce40307c-133a-4f67-93b3-d16b46204987",
   "metadata": {},
   "outputs": [],
   "source": [
    "from sklearn.linear_model import LogisticRegression\n",
    "from sklearn.tree import DecisionTreeClassifier\n",
    "from sklearn.ensemble import RandomForestClassifier\n",
    "from sklearn.ensemble import GradientBoostingClassifier\n",
    "from sklearn.ensemble import AdaBoostClassifier\n",
    "\n",
    "from sklearn.metrics import accuracy_score\n",
    "from sklearn.model_selection import train_test_split"
   ]
  },
  {
   "cell_type": "code",
   "execution_count": 15,
   "id": "4eef78f4-f85b-4bf7-89ee-1452d84b2e7b",
   "metadata": {},
   "outputs": [],
   "source": [
    "inputs = train.drop('Survived', axis =1)\n",
    "#train.drop(colums='Survived')"
   ]
  },
  {
   "cell_type": "code",
   "execution_count": 16,
   "id": "1ea1bc44-acde-47ff-94a0-3c38cb0ba1b2",
   "metadata": {},
   "outputs": [],
   "source": [
    "outputs = train['Survived']"
   ]
  },
  {
   "cell_type": "code",
   "execution_count": 17,
   "id": "cc15048d-bfce-484b-9a31-254c1b5dca1e",
   "metadata": {},
   "outputs": [
    {
     "name": "stdout",
     "output_type": "stream",
     "text": [
      "(891, 8) (891,)\n"
     ]
    }
   ],
   "source": [
    "print(inputs.shape , outputs.shape)\n",
    "# 891데이터 8 ,속성 891 데이터 1개의 속성 1개라서 표시안됨 "
   ]
  },
  {
   "cell_type": "code",
   "execution_count": 18,
   "id": "c5e1b2c5-81b5-4bd4-8c0e-a79b5a60cab6",
   "metadata": {},
   "outputs": [
    {
     "data": {
      "text/plain": [
       "0    549\n",
       "1    342\n",
       "Name: Survived, dtype: int64"
      ]
     },
     "execution_count": 18,
     "metadata": {},
     "output_type": "execute_result"
    }
   ],
   "source": [
    "outputs.value_counts()\n",
    "# 0 사망자, 1 생존자 "
   ]
  },
  {
   "cell_type": "code",
   "execution_count": 19,
   "id": "5bc998fb-baf5-42ab-a644-90c39e2f038c",
   "metadata": {},
   "outputs": [],
   "source": [
    "train_input, test_input, train_output, test_output = \\\n",
    "train_test_split(inputs, outputs, test_size=0.2, stratify=outputs, random_state=10)\n",
    "#stratify= a : a라는 파일을 고정 \n",
    "#random_state : 랜덤값을 고정 "
   ]
  },
  {
   "cell_type": "code",
   "execution_count": 20,
   "id": "eba026b0-7dc5-40bf-b1ed-e602edb62626",
   "metadata": {},
   "outputs": [
    {
     "name": "stdout",
     "output_type": "stream",
     "text": [
      "(712, 8) (712,)\n",
      "(179, 8) (179,)\n"
     ]
    }
   ],
   "source": [
    "print(train_input.shape, train_output.shape)\n",
    "print(test_input.shape, test_output.shape)"
   ]
  },
  {
   "cell_type": "code",
   "execution_count": 21,
   "id": "c0a86a38-0957-4e26-9d42-cd16fe9832d8",
   "metadata": {},
   "outputs": [
    {
     "data": {
      "text/plain": [
       "0    439\n",
       "1    273\n",
       "Name: Survived, dtype: int64"
      ]
     },
     "execution_count": 21,
     "metadata": {},
     "output_type": "execute_result"
    }
   ],
   "source": [
    "train_output.value_counts()"
   ]
  },
  {
   "cell_type": "code",
   "execution_count": 22,
   "id": "d9b42f20-b39f-4c33-8433-879374476c26",
   "metadata": {},
   "outputs": [
    {
     "data": {
      "text/plain": [
       "0    110\n",
       "1     69\n",
       "Name: Survived, dtype: int64"
      ]
     },
     "execution_count": 22,
     "metadata": {},
     "output_type": "execute_result"
    }
   ],
   "source": [
    "test_output.value_counts()"
   ]
  },
  {
   "cell_type": "code",
   "execution_count": 23,
   "id": "0e67a9f8-ed3f-4df0-895b-e91384505adb",
   "metadata": {},
   "outputs": [],
   "source": [
    "model1 = LogisticRegression()\n",
    "model2 = DecisionTreeClassifier()\n",
    "model3 = RandomForestClassifier()\n",
    "model4 = GradientBoostingClassifier()\n",
    "model5 = AdaBoostClassifier()"
   ]
  },
  {
   "cell_type": "code",
   "execution_count": 24,
   "id": "d8a84583-e827-43a6-996b-0cc7fa89f43e",
   "metadata": {},
   "outputs": [
    {
     "data": {
      "text/plain": [
       "LogisticRegression()"
      ]
     },
     "execution_count": 24,
     "metadata": {},
     "output_type": "execute_result"
    }
   ],
   "source": [
    "#fit 학습 \n",
    "model1.fit(train_input, train_output)"
   ]
  },
  {
   "cell_type": "code",
   "execution_count": 25,
   "id": "ed1e6680-a5f7-4bc3-a411-82294dba2201",
   "metadata": {},
   "outputs": [
    {
     "data": {
      "text/plain": [
       "81.03932584269663"
      ]
     },
     "execution_count": 25,
     "metadata": {},
     "output_type": "execute_result"
    }
   ],
   "source": [
    "# score 결과 \n",
    "model1.score(train_input, train_output) *100"
   ]
  },
  {
   "cell_type": "code",
   "execution_count": 26,
   "id": "ff241c57-830d-4cf3-a7a8-49ccd560b2e7",
   "metadata": {},
   "outputs": [
    {
     "data": {
      "text/plain": [
       "79.88826815642457"
      ]
     },
     "execution_count": 26,
     "metadata": {},
     "output_type": "execute_result"
    }
   ],
   "source": [
    "model1.score(test_input, test_output) *100"
   ]
  },
  {
   "cell_type": "code",
   "execution_count": 27,
   "id": "af01063d-0f5a-45cf-b007-0fb0b458da24",
   "metadata": {},
   "outputs": [],
   "source": [
    "# predict 예측치 \n",
    "test_pre = model1.predict(test_input)"
   ]
  },
  {
   "cell_type": "code",
   "execution_count": 28,
   "id": "d7cd6f65-e4ba-4173-a906-640781366951",
   "metadata": {},
   "outputs": [
    {
     "data": {
      "text/plain": [
       "Pclass        3.0\n",
       "Sex           1.0\n",
       "Age           0.0\n",
       "Fare          1.0\n",
       "Cabin         2.0\n",
       "Embarked      0.0\n",
       "Title         2.0\n",
       "FamilySize    1.6\n",
       "Name: 24, dtype: float64"
      ]
     },
     "execution_count": 28,
     "metadata": {},
     "output_type": "execute_result"
    }
   ],
   "source": [
    "test_input.iloc[0]"
   ]
  },
  {
   "cell_type": "code",
   "execution_count": 29,
   "id": "fa0c57fa-bd2a-4a2c-9a8f-d16a32fef0d3",
   "metadata": {},
   "outputs": [
    {
     "data": {
      "text/plain": [
       "1"
      ]
     },
     "execution_count": 29,
     "metadata": {},
     "output_type": "execute_result"
    }
   ],
   "source": [
    "test_pre[0]"
   ]
  },
  {
   "cell_type": "code",
   "execution_count": 30,
   "id": "9dad0a33-d043-4d56-8e70-82a870e48086",
   "metadata": {},
   "outputs": [
    {
     "data": {
      "text/plain": [
       "0"
      ]
     },
     "execution_count": 30,
     "metadata": {},
     "output_type": "execute_result"
    }
   ],
   "source": [
    "#실제 정답을 보려면 \n",
    "#iloc 인덱스 \n",
    "test_output.iloc[0]"
   ]
  },
  {
   "cell_type": "code",
   "execution_count": 31,
   "id": "d9e0d489-a578-4037-909e-06ac67703a4f",
   "metadata": {},
   "outputs": [
    {
     "data": {
      "text/plain": [
       "79.88826815642457"
      ]
     },
     "execution_count": 31,
     "metadata": {},
     "output_type": "execute_result"
    }
   ],
   "source": [
    "#하나씩 확인할수 없으니 효율적으로 \n",
    "accuracy_score(test_pre, test_output) *100"
   ]
  },
  {
   "cell_type": "markdown",
   "id": "a03cb9c8-257c-45aa-bf30-902452e2531b",
   "metadata": {},
   "source": [
    "-"
   ]
  },
  {
   "cell_type": "code",
   "execution_count": 32,
   "id": "447aac4b-ad80-47c4-a388-dcd0d1a40fa7",
   "metadata": {},
   "outputs": [
    {
     "data": {
      "text/plain": [
       "DecisionTreeClassifier()"
      ]
     },
     "execution_count": 32,
     "metadata": {},
     "output_type": "execute_result"
    }
   ],
   "source": [
    "model2.fit(train_input, train_output)"
   ]
  },
  {
   "cell_type": "code",
   "execution_count": 33,
   "id": "1c9af17d-5886-4c6e-b01a-7cde75c727a2",
   "metadata": {},
   "outputs": [
    {
     "data": {
      "text/plain": [
       "90.73033707865169"
      ]
     },
     "execution_count": 33,
     "metadata": {},
     "output_type": "execute_result"
    }
   ],
   "source": [
    "model2.score(train_input, train_output) *100"
   ]
  },
  {
   "cell_type": "code",
   "execution_count": 34,
   "id": "f78a520e-f364-4839-9ed5-4fc0ef9f73f5",
   "metadata": {},
   "outputs": [
    {
     "data": {
      "text/plain": [
       "77.6536312849162"
      ]
     },
     "execution_count": 34,
     "metadata": {},
     "output_type": "execute_result"
    }
   ],
   "source": [
    "model2.score(test_input, test_output) *100"
   ]
  },
  {
   "cell_type": "code",
   "execution_count": 35,
   "id": "2f46fa35-4232-4425-8057-a2f73d21816c",
   "metadata": {},
   "outputs": [],
   "source": [
    "test_pre = model2.predict(test_input)"
   ]
  },
  {
   "cell_type": "code",
   "execution_count": 36,
   "id": "dfcf6ea3-784e-42ef-914f-eef490cd65ec",
   "metadata": {},
   "outputs": [
    {
     "data": {
      "text/plain": [
       "Pclass        3.0\n",
       "Sex           1.0\n",
       "Age           0.0\n",
       "Fare          1.0\n",
       "Cabin         2.0\n",
       "Embarked      0.0\n",
       "Title         2.0\n",
       "FamilySize    1.6\n",
       "Name: 24, dtype: float64"
      ]
     },
     "execution_count": 36,
     "metadata": {},
     "output_type": "execute_result"
    }
   ],
   "source": [
    "test_input.iloc[0]"
   ]
  },
  {
   "cell_type": "code",
   "execution_count": 37,
   "id": "de02a426-95a2-4843-a7d4-25d9dc202034",
   "metadata": {},
   "outputs": [
    {
     "data": {
      "text/plain": [
       "0"
      ]
     },
     "execution_count": 37,
     "metadata": {},
     "output_type": "execute_result"
    }
   ],
   "source": [
    "test_pre[0]"
   ]
  },
  {
   "cell_type": "code",
   "execution_count": 38,
   "id": "b7d09348-0290-4d86-beea-bd98b328cad1",
   "metadata": {},
   "outputs": [
    {
     "data": {
      "text/plain": [
       "0"
      ]
     },
     "execution_count": 38,
     "metadata": {},
     "output_type": "execute_result"
    }
   ],
   "source": [
    "test_output.iloc[0]"
   ]
  },
  {
   "cell_type": "code",
   "execution_count": 39,
   "id": "73932a05-f30e-4a3c-a98c-6d678ed1ce33",
   "metadata": {},
   "outputs": [
    {
     "data": {
      "text/plain": [
       "77.6536312849162"
      ]
     },
     "execution_count": 39,
     "metadata": {},
     "output_type": "execute_result"
    }
   ],
   "source": [
    "accuracy_score(test_pre, test_output) *100"
   ]
  },
  {
   "cell_type": "code",
   "execution_count": 40,
   "id": "b39fe8cf-6c69-489f-8ee2-7cf8fed12b7a",
   "metadata": {},
   "outputs": [],
   "source": [
    "model = {'LogisticRegression' :LogisticRegression(),\n",
    "'DecisionTreeClassifier': DecisionTreeClassifier(),\n",
    "'RandomForestClassifier' : RandomForestClassifier(),\n",
    "'GradientBoostingClassifier' :  GradientBoostingClassifier(),\n",
    "'AdaBoostClassifier' : AdaBoostClassifier()}"
   ]
  },
  {
   "cell_type": "code",
   "execution_count": null,
   "id": "0182aae8-6f96-4bcf-b23d-c9b58cc5be02",
   "metadata": {},
   "outputs": [],
   "source": [
    "for m in model :\n",
    "    clf = model[m]\n",
    "    clf.fit(train_input, train_output)\n",
    "    train_score = clf.score(train_input, train_output)*100\n",
    "    test_score = clf.score(test_input, test_output)*100\n",
    "    \n",
    "    print(f\"[%26s] train:%.2f / test:%.2f\" % (m, train_score, test_score))"
   ]
  },
  {
   "cell_type": "code",
   "execution_count": 41,
   "id": "130285d2-7133-4269-b10b-2ae4440b5e08",
   "metadata": {},
   "outputs": [],
   "source": [
    "model =  GradientBoostingClassifier()"
   ]
  },
  {
   "cell_type": "code",
   "execution_count": 42,
   "id": "6010a6ab-eb74-4247-8796-cb0a52f0b856",
   "metadata": {},
   "outputs": [
    {
     "data": {
      "text/plain": [
       "GradientBoostingClassifier()"
      ]
     },
     "execution_count": 42,
     "metadata": {},
     "output_type": "execute_result"
    }
   ],
   "source": [
    "model.fit(train_input, train_output)\n",
    "# fit  학습 "
   ]
  },
  {
   "cell_type": "code",
   "execution_count": 43,
   "id": "b0c155a3-8111-48c5-9014-4f681f6bb60e",
   "metadata": {},
   "outputs": [
    {
     "data": {
      "text/plain": [
       "86.65730337078652"
      ]
     },
     "execution_count": 43,
     "metadata": {},
     "output_type": "execute_result"
    }
   ],
   "source": [
    "model.score(train_input, train_output) *100"
   ]
  },
  {
   "cell_type": "code",
   "execution_count": 44,
   "id": "9f0cc205-126a-4a03-a187-82ff80b11604",
   "metadata": {},
   "outputs": [
    {
     "data": {
      "text/plain": [
       "83.24022346368714"
      ]
     },
     "execution_count": 44,
     "metadata": {},
     "output_type": "execute_result"
    }
   ],
   "source": [
    "model.score(test_input, test_output) *100"
   ]
  },
  {
   "cell_type": "code",
   "execution_count": 45,
   "id": "fa3bea05-d000-49c5-ac20-3a13d9bb64fd",
   "metadata": {},
   "outputs": [],
   "source": [
    "test_pre = model.predict(test_input)"
   ]
  },
  {
   "cell_type": "code",
   "execution_count": 46,
   "id": "cf8fc445-4f4a-4aa8-93f7-bf02868dacef",
   "metadata": {},
   "outputs": [
    {
     "data": {
      "text/plain": [
       "Pclass        3.0\n",
       "Sex           1.0\n",
       "Age           0.0\n",
       "Fare          1.0\n",
       "Cabin         2.0\n",
       "Embarked      0.0\n",
       "Title         2.0\n",
       "FamilySize    1.6\n",
       "Name: 24, dtype: float64"
      ]
     },
     "execution_count": 46,
     "metadata": {},
     "output_type": "execute_result"
    }
   ],
   "source": [
    "test_input.iloc[0]"
   ]
  },
  {
   "cell_type": "code",
   "execution_count": 47,
   "id": "f2c1ca7a-8a74-4d5b-81b0-96550f26219c",
   "metadata": {},
   "outputs": [
    {
     "data": {
      "text/plain": [
       "0"
      ]
     },
     "execution_count": 47,
     "metadata": {},
     "output_type": "execute_result"
    }
   ],
   "source": [
    "test_pre[0]"
   ]
  },
  {
   "cell_type": "code",
   "execution_count": 48,
   "id": "a0f54d8e-9d39-4196-9978-9a73eeb076e4",
   "metadata": {},
   "outputs": [
    {
     "data": {
      "text/plain": [
       "0"
      ]
     },
     "execution_count": 48,
     "metadata": {},
     "output_type": "execute_result"
    }
   ],
   "source": [
    "test_output.iloc[0]"
   ]
  },
  {
   "cell_type": "code",
   "execution_count": 49,
   "id": "b9101364-c56b-4df0-9830-d49976b44515",
   "metadata": {},
   "outputs": [
    {
     "data": {
      "text/plain": [
       "83.24022346368714"
      ]
     },
     "execution_count": 49,
     "metadata": {},
     "output_type": "execute_result"
    }
   ],
   "source": [
    "accuracy_score(test_pre, test_output) *100"
   ]
  },
  {
   "cell_type": "code",
   "execution_count": 50,
   "id": "31a4010c-285b-4091-9469-a69b17b043f7",
   "metadata": {},
   "outputs": [],
   "source": [
    "import pickle"
   ]
  },
  {
   "cell_type": "code",
   "execution_count": 51,
   "id": "007d8314-26de-4296-9a03-82daa0bfeb7c",
   "metadata": {},
   "outputs": [],
   "source": [
    "with open('gbc.pk1', 'wb') as f :\n",
    "    pickle.dump(model, f)\n",
    "    # 피클 저장?! "
   ]
  },
  {
   "cell_type": "markdown",
   "id": "a9b89c7e-0cfd-4ada-bc9b-74c28f8ca04f",
   "metadata": {},
   "source": [
    "--"
   ]
  },
  {
   "cell_type": "code",
   "execution_count": 52,
   "id": "c5b957ba-ef5f-46fe-a3b6-5aaf8edd8c6e",
   "metadata": {},
   "outputs": [],
   "source": [
    "with open('gbc.pk1', 'rb') as f :\n",
    "    load_model = pickle.load(f)\n",
    "    # 파일 저장을 불러오기 "
   ]
  },
  {
   "cell_type": "code",
   "execution_count": 53,
   "id": "8c76e6b5-12bf-48b6-a46e-de0bcf8188d9",
   "metadata": {},
   "outputs": [
    {
     "data": {
      "text/plain": [
       "GradientBoostingClassifier()"
      ]
     },
     "execution_count": 53,
     "metadata": {},
     "output_type": "execute_result"
    }
   ],
   "source": [
    "load_model"
   ]
  },
  {
   "cell_type": "code",
   "execution_count": 54,
   "id": "a7993262-6a95-4df2-bdd6-bdfc57a1bd77",
   "metadata": {},
   "outputs": [],
   "source": [
    "data = test_input.iloc[0].to_list()"
   ]
  },
  {
   "cell_type": "code",
   "execution_count": 55,
   "id": "575487ef-5d38-4a21-8fee-3a16a093872c",
   "metadata": {},
   "outputs": [
    {
     "data": {
      "text/plain": [
       "[3.0, 1.0, 0.0, 1.0, 2.0, 0.0, 2.0, 1.6]"
      ]
     },
     "execution_count": 55,
     "metadata": {},
     "output_type": "execute_result"
    }
   ],
   "source": [
    "data"
   ]
  },
  {
   "cell_type": "code",
   "execution_count": 56,
   "id": "b51952d0-74da-4c16-9eb8-16100fb8c214",
   "metadata": {},
   "outputs": [],
   "source": [
    "import numpy as np"
   ]
  },
  {
   "cell_type": "code",
   "execution_count": 57,
   "id": "801688da-7cd4-49ed-a360-4595b14e198c",
   "metadata": {},
   "outputs": [],
   "source": [
    "np_data = np.asarray(data)"
   ]
  },
  {
   "cell_type": "code",
   "execution_count": 58,
   "id": "5febbde7-465a-4f0e-8939-29e72b833109",
   "metadata": {},
   "outputs": [],
   "source": [
    "re_data = np_data.reshape(1, -1)"
   ]
  },
  {
   "cell_type": "code",
   "execution_count": 59,
   "id": "8c0c1ffb-37bb-45b9-9816-507bad550927",
   "metadata": {},
   "outputs": [
    {
     "name": "stderr",
     "output_type": "stream",
     "text": [
      "C:\\Users\\user\\anaconda3\\lib\\site-packages\\sklearn\\base.py:450: UserWarning: X does not have valid feature names, but GradientBoostingClassifier was fitted with feature names\n",
      "  warnings.warn(\n"
     ]
    }
   ],
   "source": [
    "pred = load_model.predict(re_data)"
   ]
  },
  {
   "cell_type": "code",
   "execution_count": 60,
   "id": "987d7884-22fc-49c2-911c-698c03f15430",
   "metadata": {},
   "outputs": [
    {
     "name": "stdout",
     "output_type": "stream",
     "text": [
      "Died...\n"
     ]
    }
   ],
   "source": [
    "if pred[0] == 0:\n",
    "    print('Died...')\n",
    "else :\n",
    "    print('Servived!')"
   ]
  },
  {
   "cell_type": "markdown",
   "id": "f6f933df-b285-484d-9d44-ba61a2918ccc",
   "metadata": {},
   "source": [
    "-----"
   ]
  },
  {
   "cell_type": "code",
   "execution_count": 61,
   "id": "31a414c9-4919-44f1-869e-e06a5b8b8359",
   "metadata": {},
   "outputs": [],
   "source": [
    "sub = pd.read_csv('9D_titanic/submission.csv')"
   ]
  },
  {
   "cell_type": "code",
   "execution_count": 62,
   "id": "4b0cd9b4-37c2-4ee8-b7d6-0393e65fde8b",
   "metadata": {},
   "outputs": [],
   "source": [
    "answer = sub['Survived']"
   ]
  },
  {
   "cell_type": "code",
   "execution_count": 68,
   "id": "b7bdf136-e29b-46f8-a3f0-573c5020404c",
   "metadata": {},
   "outputs": [
    {
     "data": {
      "text/html": [
       "<div>\n",
       "<style scoped>\n",
       "    .dataframe tbody tr th:only-of-type {\n",
       "        vertical-align: middle;\n",
       "    }\n",
       "\n",
       "    .dataframe tbody tr th {\n",
       "        vertical-align: top;\n",
       "    }\n",
       "\n",
       "    .dataframe thead th {\n",
       "        text-align: right;\n",
       "    }\n",
       "</style>\n",
       "<table border=\"1\" class=\"dataframe\">\n",
       "  <thead>\n",
       "    <tr style=\"text-align: right;\">\n",
       "      <th></th>\n",
       "      <th>Pclass</th>\n",
       "      <th>Sex</th>\n",
       "      <th>Age</th>\n",
       "      <th>Fare</th>\n",
       "      <th>Cabin</th>\n",
       "      <th>Embarked</th>\n",
       "      <th>Title</th>\n",
       "      <th>FamilySize</th>\n",
       "    </tr>\n",
       "  </thead>\n",
       "  <tbody>\n",
       "    <tr>\n",
       "      <th>count</th>\n",
       "      <td>418.000000</td>\n",
       "      <td>418.000000</td>\n",
       "      <td>418.000000</td>\n",
       "      <td>418.000000</td>\n",
       "      <td>418.000000</td>\n",
       "      <td>418.000000</td>\n",
       "      <td>418.000000</td>\n",
       "      <td>418.000000</td>\n",
       "    </tr>\n",
       "    <tr>\n",
       "      <th>mean</th>\n",
       "      <td>2.265550</td>\n",
       "      <td>0.363636</td>\n",
       "      <td>1.796651</td>\n",
       "      <td>0.770335</td>\n",
       "      <td>1.687081</td>\n",
       "      <td>0.464115</td>\n",
       "      <td>0.746411</td>\n",
       "      <td>0.335885</td>\n",
       "    </tr>\n",
       "    <tr>\n",
       "      <th>std</th>\n",
       "      <td>0.841838</td>\n",
       "      <td>0.481622</td>\n",
       "      <td>0.923599</td>\n",
       "      <td>0.998743</td>\n",
       "      <td>0.563371</td>\n",
       "      <td>0.685516</td>\n",
       "      <td>0.983216</td>\n",
       "      <td>0.607629</td>\n",
       "    </tr>\n",
       "    <tr>\n",
       "      <th>min</th>\n",
       "      <td>1.000000</td>\n",
       "      <td>0.000000</td>\n",
       "      <td>0.000000</td>\n",
       "      <td>0.000000</td>\n",
       "      <td>0.000000</td>\n",
       "      <td>0.000000</td>\n",
       "      <td>0.000000</td>\n",
       "      <td>0.000000</td>\n",
       "    </tr>\n",
       "    <tr>\n",
       "      <th>25%</th>\n",
       "      <td>1.000000</td>\n",
       "      <td>0.000000</td>\n",
       "      <td>1.000000</td>\n",
       "      <td>0.000000</td>\n",
       "      <td>1.600000</td>\n",
       "      <td>0.000000</td>\n",
       "      <td>0.000000</td>\n",
       "      <td>0.000000</td>\n",
       "    </tr>\n",
       "    <tr>\n",
       "      <th>50%</th>\n",
       "      <td>3.000000</td>\n",
       "      <td>0.000000</td>\n",
       "      <td>2.000000</td>\n",
       "      <td>0.000000</td>\n",
       "      <td>2.000000</td>\n",
       "      <td>0.000000</td>\n",
       "      <td>0.000000</td>\n",
       "      <td>0.000000</td>\n",
       "    </tr>\n",
       "    <tr>\n",
       "      <th>75%</th>\n",
       "      <td>3.000000</td>\n",
       "      <td>1.000000</td>\n",
       "      <td>2.000000</td>\n",
       "      <td>2.000000</td>\n",
       "      <td>2.000000</td>\n",
       "      <td>1.000000</td>\n",
       "      <td>2.000000</td>\n",
       "      <td>0.400000</td>\n",
       "    </tr>\n",
       "    <tr>\n",
       "      <th>max</th>\n",
       "      <td>3.000000</td>\n",
       "      <td>1.000000</td>\n",
       "      <td>4.000000</td>\n",
       "      <td>3.000000</td>\n",
       "      <td>2.400000</td>\n",
       "      <td>2.000000</td>\n",
       "      <td>3.000000</td>\n",
       "      <td>4.000000</td>\n",
       "    </tr>\n",
       "  </tbody>\n",
       "</table>\n",
       "</div>"
      ],
      "text/plain": [
       "           Pclass         Sex         Age        Fare       Cabin    Embarked  \\\n",
       "count  418.000000  418.000000  418.000000  418.000000  418.000000  418.000000   \n",
       "mean     2.265550    0.363636    1.796651    0.770335    1.687081    0.464115   \n",
       "std      0.841838    0.481622    0.923599    0.998743    0.563371    0.685516   \n",
       "min      1.000000    0.000000    0.000000    0.000000    0.000000    0.000000   \n",
       "25%      1.000000    0.000000    1.000000    0.000000    1.600000    0.000000   \n",
       "50%      3.000000    0.000000    2.000000    0.000000    2.000000    0.000000   \n",
       "75%      3.000000    1.000000    2.000000    2.000000    2.000000    1.000000   \n",
       "max      3.000000    1.000000    4.000000    3.000000    2.400000    2.000000   \n",
       "\n",
       "            Title  FamilySize  \n",
       "count  418.000000  418.000000  \n",
       "mean     0.746411    0.335885  \n",
       "std      0.983216    0.607629  \n",
       "min      0.000000    0.000000  \n",
       "25%      0.000000    0.000000  \n",
       "50%      0.000000    0.000000  \n",
       "75%      2.000000    0.400000  \n",
       "max      3.000000    4.000000  "
      ]
     },
     "execution_count": 68,
     "metadata": {},
     "output_type": "execute_result"
    }
   ],
   "source": [
    "test.describe()"
   ]
  },
  {
   "cell_type": "code",
   "execution_count": 64,
   "id": "2803fc7e-96d1-4cc7-8454-eb6e794a553d",
   "metadata": {},
   "outputs": [
    {
     "data": {
      "text/plain": [
       "GradientBoostingClassifier()"
      ]
     },
     "execution_count": 64,
     "metadata": {},
     "output_type": "execute_result"
    }
   ],
   "source": [
    "load_model"
   ]
  },
  {
   "cell_type": "code",
   "execution_count": 65,
   "id": "2ec2950a-c11e-49f7-a9f0-6155a381911f",
   "metadata": {},
   "outputs": [],
   "source": [
    "submission = load_model.predict(test)"
   ]
  },
  {
   "cell_type": "code",
   "execution_count": 66,
   "id": "63334f28-5f0a-4bbb-82c8-e872007aa389",
   "metadata": {},
   "outputs": [
    {
     "data": {
      "text/plain": [
       "85.64593301435407"
      ]
     },
     "execution_count": 66,
     "metadata": {},
     "output_type": "execute_result"
    }
   ],
   "source": [
    "accuracy_score(answer,submission) *100"
   ]
  },
  {
   "cell_type": "code",
   "execution_count": 69,
   "id": "ef5e76a9-f38a-4692-ba21-13c629323328",
   "metadata": {},
   "outputs": [],
   "source": [
    "sub2= pd.read_csv('9D_titanic/submission2.csv')"
   ]
  },
  {
   "cell_type": "code",
   "execution_count": 70,
   "id": "2c55ac71-1959-446c-a37a-5a316ff6fc80",
   "metadata": {},
   "outputs": [],
   "source": [
    "sub2['Survived'] = submission"
   ]
  },
  {
   "cell_type": "code",
   "execution_count": 71,
   "id": "efd0be3b-b5f5-4f5e-800a-d5c40b356f57",
   "metadata": {},
   "outputs": [],
   "source": [
    "sub2.to_csv('result.csv', index=False)"
   ]
  },
  {
   "cell_type": "code",
   "execution_count": 73,
   "id": "2e7c16c7-c7ac-47b9-9ef0-e963d6f748c4",
   "metadata": {},
   "outputs": [
    {
     "data": {
      "text/plain": [
       "0    278\n",
       "1    140\n",
       "Name: Survived, dtype: int64"
      ]
     },
     "execution_count": 73,
     "metadata": {},
     "output_type": "execute_result"
    }
   ],
   "source": [
    "sub2['Survived'].value_counts()"
   ]
  },
  {
   "cell_type": "code",
   "execution_count": null,
   "id": "f61594fa-87dc-4483-a4b7-24a337d910b8",
   "metadata": {},
   "outputs": [],
   "source": []
  },
  {
   "cell_type": "code",
   "execution_count": null,
   "id": "cb8c7e23-f091-4bbb-9477-c1a1bc9792c4",
   "metadata": {},
   "outputs": [],
   "source": []
  },
  {
   "cell_type": "code",
   "execution_count": null,
   "id": "61e1931f-aaec-4244-aef1-aac9e5a4ced3",
   "metadata": {},
   "outputs": [],
   "source": []
  }
 ],
 "metadata": {
  "kernelspec": {
   "display_name": "Python 3 (ipykernel)",
   "language": "python",
   "name": "python3"
  },
  "language_info": {
   "codemirror_mode": {
    "name": "ipython",
    "version": 3
   },
   "file_extension": ".py",
   "mimetype": "text/x-python",
   "name": "python",
   "nbconvert_exporter": "python",
   "pygments_lexer": "ipython3",
   "version": "3.9.12"
  },
  "toc-autonumbering": true
 },
 "nbformat": 4,
 "nbformat_minor": 5
}
