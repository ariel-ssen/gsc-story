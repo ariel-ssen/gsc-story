{
 "cells": [
  {
   "cell_type": "code",
   "execution_count": 5,
   "id": "2f79af96-866f-482d-8b62-c7386f4932f8",
   "metadata": {},
   "outputs": [],
   "source": [
    "import pandas as pd\n",
    "import matplotlib.pyplot as plt\n",
    "from sklearn.linear_model import LinearRegression"
   ]
  },
  {
   "cell_type": "code",
   "execution_count": 7,
   "id": "b0a723e3-ecd7-4f35-9b1e-e71a67e1b012",
   "metadata": {},
   "outputs": [
    {
     "name": "stdout",
     "output_type": "stream",
     "text": [
      " C 드라이브의 볼륨: BOOTCAMP\n",
      " 볼륨 일련 번호: 0246-9FF7\n",
      "\n",
      " C:\\Users\\user\\Desktop\\python\\4주\\17.Machine 디렉터리\n",
      "\n",
      "2022-11-08  오후 02:05    <DIR>          .\n",
      "2022-11-08  오후 02:05    <DIR>          ..\n",
      "2022-11-08  오후 02:03    <DIR>          .ipynb_checkpoints\n",
      "2022-11-08  오후 02:05             1,352 1.Linear Regression.ipynb\n",
      "2022-11-08  오후 02:02           428,120 weight-height.csv\n",
      "               2개 파일             429,472 바이트\n",
      "               3개 디렉터리  80,088,645,632 바이트 남음\n"
     ]
    }
   ],
   "source": [
    "ls"
   ]
  },
  {
   "cell_type": "code",
   "execution_count": 8,
   "id": "b0f22b27-6336-468e-ba53-45f8343b7076",
   "metadata": {
    "tags": []
   },
   "outputs": [],
   "source": [
    "data = pd.read_csv ('weight-height.csv')"
   ]
  },
  {
   "cell_type": "code",
   "execution_count": 9,
   "id": "8862ce4c-ab03-418e-8c35-b9dfcd197857",
   "metadata": {},
   "outputs": [
    {
     "data": {
      "text/html": [
       "<div>\n",
       "<style scoped>\n",
       "    .dataframe tbody tr th:only-of-type {\n",
       "        vertical-align: middle;\n",
       "    }\n",
       "\n",
       "    .dataframe tbody tr th {\n",
       "        vertical-align: top;\n",
       "    }\n",
       "\n",
       "    .dataframe thead th {\n",
       "        text-align: right;\n",
       "    }\n",
       "</style>\n",
       "<table border=\"1\" class=\"dataframe\">\n",
       "  <thead>\n",
       "    <tr style=\"text-align: right;\">\n",
       "      <th></th>\n",
       "      <th>Gender</th>\n",
       "      <th>Height</th>\n",
       "      <th>Weight</th>\n",
       "    </tr>\n",
       "  </thead>\n",
       "  <tbody>\n",
       "    <tr>\n",
       "      <th>0</th>\n",
       "      <td>Male</td>\n",
       "      <td>73.847017</td>\n",
       "      <td>241.893563</td>\n",
       "    </tr>\n",
       "    <tr>\n",
       "      <th>1</th>\n",
       "      <td>Male</td>\n",
       "      <td>68.781904</td>\n",
       "      <td>162.310473</td>\n",
       "    </tr>\n",
       "    <tr>\n",
       "      <th>2</th>\n",
       "      <td>Male</td>\n",
       "      <td>74.110105</td>\n",
       "      <td>212.740856</td>\n",
       "    </tr>\n",
       "    <tr>\n",
       "      <th>3</th>\n",
       "      <td>Male</td>\n",
       "      <td>71.730978</td>\n",
       "      <td>220.042470</td>\n",
       "    </tr>\n",
       "    <tr>\n",
       "      <th>4</th>\n",
       "      <td>Male</td>\n",
       "      <td>69.881796</td>\n",
       "      <td>206.349801</td>\n",
       "    </tr>\n",
       "  </tbody>\n",
       "</table>\n",
       "</div>"
      ],
      "text/plain": [
       "  Gender     Height      Weight\n",
       "0   Male  73.847017  241.893563\n",
       "1   Male  68.781904  162.310473\n",
       "2   Male  74.110105  212.740856\n",
       "3   Male  71.730978  220.042470\n",
       "4   Male  69.881796  206.349801"
      ]
     },
     "execution_count": 9,
     "metadata": {},
     "output_type": "execute_result"
    }
   ],
   "source": [
    "data.head()"
   ]
  },
  {
   "cell_type": "code",
   "execution_count": 11,
   "id": "a95a481b-8df0-4a76-8433-6ac7a188ebe8",
   "metadata": {},
   "outputs": [
    {
     "data": {
      "text/plain": [
       "(10000, 3)"
      ]
     },
     "execution_count": 11,
     "metadata": {},
     "output_type": "execute_result"
    }
   ],
   "source": [
    "data.shape"
   ]
  },
  {
   "cell_type": "code",
   "execution_count": null,
   "id": "23e1bc4b-a7b1-4b77-91d8-4803545c7f38",
   "metadata": {},
   "outputs": [],
   "source": [
    "Height 100개 Weight 100개"
   ]
  },
  {
   "cell_type": "code",
   "execution_count": 15,
   "id": "a804f564-ba62-4326-8949-e6137ce11c0e",
   "metadata": {},
   "outputs": [],
   "source": [
    "x = data['Height'][0:100]"
   ]
  },
  {
   "cell_type": "code",
   "execution_count": 16,
   "id": "ea2e6b3a-3f4e-421c-96fe-29e530d1de83",
   "metadata": {},
   "outputs": [],
   "source": [
    "y = data['Weight'][0:100]"
   ]
  },
  {
   "cell_type": "code",
   "execution_count": 17,
   "id": "f33e189d-a53d-4bb9-9114-d12ee1c4c2ae",
   "metadata": {},
   "outputs": [
    {
     "name": "stdout",
     "output_type": "stream",
     "text": [
      "0     73.847017\n",
      "1     68.781904\n",
      "2     74.110105\n",
      "3     71.730978\n",
      "4     69.881796\n",
      "        ...    \n",
      "95    65.117485\n",
      "96    71.701234\n",
      "97    66.832878\n",
      "98    66.471275\n",
      "99    69.411526\n",
      "Name: Height, Length: 100, dtype: float64\n",
      "0     241.893563\n",
      "1     162.310473\n",
      "2     212.740856\n",
      "3     220.042470\n",
      "4     206.349801\n",
      "         ...    \n",
      "95    165.717112\n",
      "96    193.094164\n",
      "97    180.683887\n",
      "98    172.773723\n",
      "99    177.470616\n",
      "Name: Weight, Length: 100, dtype: float64\n"
     ]
    }
   ],
   "source": [
    "print(x)\n",
    "print(y)"
   ]
  },
  {
   "cell_type": "code",
   "execution_count": 26,
   "id": "28da16cc-8a29-4688-a6e3-e7b3e2ad01aa",
   "metadata": {},
   "outputs": [
    {
     "data": {
      "text/plain": [
       "[<matplotlib.lines.Line2D at 0x161b33aa670>]"
      ]
     },
     "execution_count": 26,
     "metadata": {},
     "output_type": "execute_result"
    },
    {
     "data": {
      "image/png": "[encoded data removed]",
      "text/plain": [
       "<Figure size 432x288 with 1 Axes>"
      ]
     },
     "metadata": {
      "needs_background": "light"
     },
     "output_type": "display_data"
    }
   ],
   "source": [
    "plt.plot(x,y,'gp')"
   ]
  },
  {
   "cell_type": "code",
   "execution_count": 28,
   "id": "8dfef8e0-b3df-42a7-9248-163ac0337654",
   "metadata": {},
   "outputs": [],
   "source": [
    "model = LinearRegression()"
   ]
  },
  {
   "cell_type": "code",
   "execution_count": 31,
   "id": "b42031ff-366c-4b8c-8e03-1715ceb95922",
   "metadata": {
    "collapsed": true,
    "jupyter": {
     "outputs_hidden": true
    },
    "tags": []
   },
   "outputs": [
    {
     "data": {
      "text/plain": [
       "array([[73.84701702],\n",
       "       [68.78190405],\n",
       "       [74.11010539],\n",
       "       [71.7309784 ],\n",
       "       [69.88179586],\n",
       "       [67.25301569],\n",
       "       [68.78508125],\n",
       "       [68.34851551],\n",
       "       [67.01894966],\n",
       "       [63.45649398],\n",
       "       [71.19538228],\n",
       "       [71.64080512],\n",
       "       [64.76632913],\n",
       "       [69.2830701 ],\n",
       "       [69.24373223],\n",
       "       [67.6456197 ],\n",
       "       [72.41831663],\n",
       "       [63.97432572],\n",
       "       [69.6400599 ],\n",
       "       [67.93600485],\n",
       "       [67.91505019],\n",
       "       [69.43943987],\n",
       "       [66.14913196],\n",
       "       [75.20597361],\n",
       "       [67.89319634],\n",
       "       [68.1440328 ],\n",
       "       [69.08963143],\n",
       "       [72.80084352],\n",
       "       [67.42124228],\n",
       "       [68.49641536],\n",
       "       [68.61811055],\n",
       "       [74.03380762],\n",
       "       [71.52821604],\n",
       "       [69.1801611 ],\n",
       "       [69.57720237],\n",
       "       [70.40092889],\n",
       "       [69.07617117],\n",
       "       [67.19352328],\n",
       "       [65.80731565],\n",
       "       [64.30418789],\n",
       "       [67.97433623],\n",
       "       [72.18942596],\n",
       "       [65.27034552],\n",
       "       [66.09017738],\n",
       "       [67.51032152],\n",
       "       [70.10478626],\n",
       "       [68.25183644],\n",
       "       [72.17270912],\n",
       "       [69.17985762],\n",
       "       [72.87036015],\n",
       "       [64.78258298],\n",
       "       [70.18354989],\n",
       "       [68.49145025],\n",
       "       [67.33083088],\n",
       "       [66.99094408],\n",
       "       [66.4995499 ],\n",
       "       [68.35305665],\n",
       "       [70.77445907],\n",
       "       [71.21592367],\n",
       "       [70.01336535],\n",
       "       [71.40318222],\n",
       "       [69.55200509],\n",
       "       [73.81853456],\n",
       "       [66.99688275],\n",
       "       [71.41846589],\n",
       "       [65.27930021],\n",
       "       [68.27419147],\n",
       "       [72.76536995],\n",
       "       [68.0993798 ],\n",
       "       [68.89670607],\n",
       "       [69.28950996],\n",
       "       [70.52322452],\n",
       "       [69.66372523],\n",
       "       [67.59526881],\n",
       "       [72.50812038],\n",
       "       [71.2529856 ],\n",
       "       [71.80918689],\n",
       "       [72.24516548],\n",
       "       [66.51262766],\n",
       "       [66.029034  ],\n",
       "       [67.57715394],\n",
       "       [68.2465686 ],\n",
       "       [73.826127  ],\n",
       "       [69.80246436],\n",
       "       [65.95957778],\n",
       "       [71.07901758],\n",
       "       [66.59619654],\n",
       "       [68.95153509],\n",
       "       [68.24446179],\n",
       "       [72.31682512],\n",
       "       [71.81542045],\n",
       "       [65.23704952],\n",
       "       [70.64053009],\n",
       "       [64.7319256 ],\n",
       "       [67.10355118],\n",
       "       [65.11748489],\n",
       "       [71.70123402],\n",
       "       [66.83287821],\n",
       "       [66.47127526],\n",
       "       [69.41152622]])"
      ]
     },
     "execution_count": 31,
     "metadata": {},
     "output_type": "execute_result"
    }
   ],
   "source": [
    "x.values.reshape(-1,1)"
   ]
  },
  {
   "cell_type": "code",
   "execution_count": 30,
   "id": "d4e15af9-0b55-46c9-a8a2-1cb49b86086b",
   "metadata": {},
   "outputs": [
    {
     "data": {
      "text/plain": [
       "LinearRegression()"
      ]
     },
     "execution_count": 30,
     "metadata": {},
     "output_type": "execute_result"
    }
   ],
   "source": [
    "model.fit(x.values.reshape(-1,1),y)"
   ]
  },
  {
   "cell_type": "code",
   "execution_count": 32,
   "id": "5667f54c-976f-4212-9f81-6a0b242f0e15",
   "metadata": {},
   "outputs": [
    {
     "data": {
      "text/plain": [
       "array([250.91631239])"
      ]
     },
     "execution_count": 32,
     "metadata": {},
     "output_type": "execute_result"
    }
   ],
   "source": [
    "model.predict([[80]])"
   ]
  },
  {
   "cell_type": "code",
   "execution_count": 33,
   "id": "b4531859-c261-48f8-b12c-f86ce90c12c5",
   "metadata": {},
   "outputs": [
    {
     "data": {
      "text/plain": [
       "array([5.85146979])"
      ]
     },
     "execution_count": 33,
     "metadata": {},
     "output_type": "execute_result"
    }
   ],
   "source": [
    "model.coef_"
   ]
  },
  {
   "cell_type": "code",
   "execution_count": 34,
   "id": "77acf69e-8f7c-43ba-a0cc-7b31ece67be7",
   "metadata": {},
   "outputs": [
    {
     "data": {
      "text/plain": [
       "-217.20127044144004"
      ]
     },
     "execution_count": 34,
     "metadata": {},
     "output_type": "execute_result"
    }
   ],
   "source": [
    "model.intercept_"
   ]
  },
  {
   "cell_type": "code",
   "execution_count": 35,
   "id": "9322cb66-fae4-4500-83d0-31382922b028",
   "metadata": {},
   "outputs": [
    {
     "data": {
      "text/plain": [
       "array([250.91631239])"
      ]
     },
     "execution_count": 35,
     "metadata": {},
     "output_type": "execute_result"
    }
   ],
   "source": [
    "80 * model.coef_ + model.intercept_"
   ]
  },
  {
   "cell_type": "code",
   "execution_count": 36,
   "id": "1fd3e82e-c8ac-4bed-a778-723757f98f2e",
   "metadata": {},
   "outputs": [],
   "source": [
    "prediction = model.predict(x.values.reshape(-1,1))"
   ]
  },
  {
   "cell_type": "code",
   "execution_count": 41,
   "id": "b3fad329-48fb-44f8-90fa-80601267ad84",
   "metadata": {},
   "outputs": [
    {
     "data": {
      "image/png": "[encoded data removed]",
      "text/plain": [
       "<Figure size 432x288 with 1 Axes>"
      ]
     },
     "metadata": {
      "needs_background": "light"
     },
     "output_type": "display_data"
    }
   ],
   "source": [
    "plt.plot(x,y,'gp')\n",
    "plt.plot(x,prediction);"
   ]
  },
  {
   "cell_type": "code",
   "execution_count": null,
   "id": "9bf2432b-f0b9-4091-9ef6-66345cd61818",
   "metadata": {},
   "outputs": [],
   "source": [
    "\n"
   ]
  }
 ],
 "metadata": {
  "kernelspec": {
   "display_name": "Python 3 (ipykernel)",
   "language": "python",
   "name": "python3"
  },
  "language_info": {
   "codemirror_mode": {
    "name": "ipython",
    "version": 3
   },
   "file_extension": ".py",
   "mimetype": "text/x-python",
   "name": "python",
   "nbconvert_exporter": "python",
   "pygments_lexer": "ipython3",
   "version": "3.9.12"
  }
 },
 "nbformat": 4,
 "nbformat_minor": 5
}
