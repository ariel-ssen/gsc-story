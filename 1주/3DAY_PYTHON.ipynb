{
 "cells": [
  {
   "cell_type": "markdown",
   "id": "99a24f6a-d225-46f5-a707-bc9473d89262",
   "metadata": {},
   "source": [
    "## IF문"
   ]
  },
  {
   "cell_type": "markdown",
   "id": "49714854-ae16-4356-a9a0-b5456f0745df",
   "metadata": {},
   "source": [
    "-if 는 만약 ~라면 뜻    \n",
    "-if 뒤에 나오는 값이 참(True)일 경우에는, ~를 실행하라.    \n",
    "-if 조건문 : 어떤행위    \n",
    "-if 조건문 뒤에 나오는 행위는 tab, space 4번 으로 들여쓰기\n",
    "(indent라고 합니다.)"
   ]
  },
  {
   "cell_type": "code",
   "execution_count": null,
   "id": "99cf56d6-11d7-4335-8789-eb58ff77a017",
   "metadata": {},
   "outputs": [],
   "source": [
    "if 1>0 :\n",
    "    print('참')"
   ]
  },
  {
   "cell_type": "code",
   "execution_count": null,
   "id": "b79408d9-9f34-47c7-8da1-696d8ad205a5",
   "metadata": {},
   "outputs": [],
   "source": [
    "if True :\n",
    "    print('참')"
   ]
  },
  {
   "cell_type": "code",
   "execution_count": null,
   "id": "5f2a9408-5284-4d2e-a5c7-5c24bb145f5f",
   "metadata": {},
   "outputs": [],
   "source": [
    "if False :\n",
    "    print('거짓')"
   ]
  },
  {
   "cell_type": "code",
   "execution_count": null,
   "id": "0b13869b-e8db-4f03-bba8-58c7c69a5f0a",
   "metadata": {},
   "outputs": [],
   "source": [
    "if 1 :\n",
    "    print('참')"
   ]
  },
  {
   "cell_type": "code",
   "execution_count": null,
   "id": "cabf5feb-c334-42ea-9606-7c57d4515315",
   "metadata": {},
   "outputs": [],
   "source": [
    "if 0 :\n",
    "    print('거짓')    #출력안됨"
   ]
  },
  {
   "cell_type": "code",
   "execution_count": null,
   "id": "2daa32cf-d372-43d9-9b57-de7c9ceeeb34",
   "metadata": {},
   "outputs": [],
   "source": [
    "if 0 :\n",
    "    print('거짓')\n",
    "    print('거짓')\n",
    "    print('거짓')\n",
    "    print('거짓')\n",
    "    print('거짓')\n",
    "    print('거짓')\n",
    "    print('거짓')\n",
    "print('끝')\n",
    "                        "
   ]
  },
  {
   "cell_type": "code",
   "execution_count": null,
   "id": "4300bd5a-cd19-412d-8d35-ed2dbdb820d2",
   "metadata": {},
   "outputs": [],
   "source": [
    "if 'A' :\n",
    "    print('A')"
   ]
  },
  {
   "cell_type": "code",
   "execution_count": null,
   "id": "23e7bdd3-e66d-4b57-b2fd-bb7380c4b737",
   "metadata": {},
   "outputs": [],
   "source": [
    "if '' :\n",
    "    print('test')  #??????????"
   ]
  },
  {
   "cell_type": "markdown",
   "id": "b063a127-55e8-4daf-8f78-5274e4c75b3c",
   "metadata": {},
   "source": [
    "--------"
   ]
  },
  {
   "cell_type": "markdown",
   "id": "7a7f3704-f070-4693-ba16-f745fabf21ea",
   "metadata": {},
   "source": [
    "## 비교연산자 "
   ]
  },
  {
   "cell_type": "markdown",
   "id": "e909a4a7-ec66-440e-b33b-d58f5f35c7ce",
   "metadata": {},
   "source": [
    "a < b (a가 b보다 작다)    \n",
    "a > b (a가 b보다 크다)    \n",
    "a == b (a와 b가 같다)    \n",
    "a != b (a와 b가 다르다)  \n",
    "a <= b (a가 b보다 작거나 같다)  \n",
    "a >= b (a가 b보다 크거나 같다)  "
   ]
  },
  {
   "cell_type": "code",
   "execution_count": null,
   "id": "63d42656-7ed3-438b-bb37-243cddf3ffa9",
   "metadata": {},
   "outputs": [],
   "source": [
    "1<2"
   ]
  },
  {
   "cell_type": "code",
   "execution_count": null,
   "id": "ed812a51-4f0f-4fb4-b713-6668e71d9339",
   "metadata": {},
   "outputs": [],
   "source": [
    "1>2"
   ]
  },
  {
   "cell_type": "code",
   "execution_count": null,
   "id": "585c55c1-a42e-41f4-9423-e112a95f1515",
   "metadata": {},
   "outputs": [],
   "source": [
    "1>=2"
   ]
  },
  {
   "cell_type": "code",
   "execution_count": null,
   "id": "1537b43a-9309-4e78-86f9-687c5dead644",
   "metadata": {},
   "outputs": [],
   "source": [
    "'a' < 'b'"
   ]
  },
  {
   "cell_type": "code",
   "execution_count": null,
   "id": "4d619cc9-784a-4c50-a454-797ed5fc7c90",
   "metadata": {},
   "outputs": [],
   "source": [
    "'apple'<='banana'"
   ]
  },
  {
   "cell_type": "code",
   "execution_count": null,
   "id": "635cea84-7628-4ff1-9357-8403abfb754f",
   "metadata": {},
   "outputs": [],
   "source": [
    "1 == '1' #int와 str 은 같이 연산할수 없음 "
   ]
  },
  {
   "cell_type": "code",
   "execution_count": null,
   "id": "35d42e79-6f64-469c-bef3-4dc28a968cb8",
   "metadata": {},
   "outputs": [],
   "source": [
    "ord('a') #??????????????"
   ]
  },
  {
   "cell_type": "markdown",
   "id": "ab931b57-8294-429a-9060-aea417e87f47",
   "metadata": {},
   "source": [
    "------"
   ]
  },
  {
   "cell_type": "markdown",
   "id": "3443da7c-22ea-46f6-9aab-b2ba67b65102",
   "metadata": {},
   "source": [
    "## and, or ,not "
   ]
  },
  {
   "cell_type": "markdown",
   "id": "bde11fcd-895e-44ac-aed1-74f843201475",
   "metadata": {},
   "source": [
    "and (모두가 T일때만 T)  \n",
    "or (하나라도 T이면 T)  \n",
    "not (반대 T->F, F->T )"
   ]
  },
  {
   "cell_type": "code",
   "execution_count": null,
   "id": "7336f884-d154-4be3-813f-0e7c33eaec7d",
   "metadata": {},
   "outputs": [],
   "source": [
    "(3>1) and (4>2)"
   ]
  },
  {
   "cell_type": "code",
   "execution_count": null,
   "id": "2b27b882-76fb-4226-98e1-2b88a34b8d9a",
   "metadata": {},
   "outputs": [],
   "source": [
    "(3<1) or (4>2)"
   ]
  },
  {
   "cell_type": "code",
   "execution_count": null,
   "id": "838ac9f0-8fcc-4b8b-aa6f-1bdb78d126ad",
   "metadata": {},
   "outputs": [],
   "source": [
    "(3<1) and (4>2)"
   ]
  },
  {
   "cell_type": "code",
   "execution_count": null,
   "id": "d3ce2390-9e8f-4b69-9fb4-ed645c1c47ef",
   "metadata": {},
   "outputs": [],
   "source": [
    "not 0"
   ]
  },
  {
   "cell_type": "code",
   "execution_count": null,
   "id": "c8b8fc22-59b0-4240-b863-ad5739014b6c",
   "metadata": {},
   "outputs": [],
   "source": [
    "not 'A'"
   ]
  },
  {
   "cell_type": "markdown",
   "id": "30578b73-1329-4e0c-be0a-8d53bdd128f2",
   "metadata": {},
   "source": [
    "---------------------"
   ]
  },
  {
   "cell_type": "markdown",
   "id": "2fe3a1c0-af72-44d0-9124-1e97ed7ad2ee",
   "metadata": {},
   "source": [
    "## in, not in"
   ]
  },
  {
   "cell_type": "markdown",
   "id": "9b5f1cc4-8c37-43ec-ab58-5985b714aa10",
   "metadata": {},
   "source": [
    "in : 문자열, 리스트 ,튜플에서 해당 요소가 포함되어 있는지 검사  \n",
    "not in : 문자열,리스트,튜플에서 해당요소가 포함되지않은지 검사  "
   ]
  },
  {
   "cell_type": "code",
   "execution_count": null,
   "id": "62ad13fa-b271-4477-b596-3786734bf3f4",
   "metadata": {},
   "outputs": [],
   "source": [
    "l = [1,2,3]"
   ]
  },
  {
   "cell_type": "code",
   "execution_count": null,
   "id": "752f01c4-a619-4ce9-b18b-30a8cca9e0df",
   "metadata": {},
   "outputs": [],
   "source": [
    "3 in l"
   ]
  },
  {
   "cell_type": "code",
   "execution_count": null,
   "id": "7de11e69-f50e-43b3-9e2f-3e82b817253c",
   "metadata": {},
   "outputs": [],
   "source": [
    "4 not in l"
   ]
  },
  {
   "cell_type": "code",
   "execution_count": null,
   "id": "90880ec6-1bd1-4cc4-bb8b-2ce7ed80ece1",
   "metadata": {},
   "outputs": [],
   "source": [
    "4 in l"
   ]
  },
  {
   "cell_type": "code",
   "execution_count": null,
   "id": "ae28e4d7-3579-4b9d-a582-c3b2fe548613",
   "metadata": {},
   "outputs": [],
   "source": [
    "'a' in 'apple'"
   ]
  },
  {
   "cell_type": "code",
   "execution_count": null,
   "id": "1a7d45b8-36f3-4f49-90ce-4e367b6f7aff",
   "metadata": {},
   "outputs": [],
   "source": [
    "'z'not in 'apple'"
   ]
  },
  {
   "cell_type": "code",
   "execution_count": null,
   "id": "c12bccec-6c25-47f1-970b-b830c2acd7e8",
   "metadata": {},
   "outputs": [],
   "source": [
    "'a' in ['apple','banana']  #???????"
   ]
  },
  {
   "cell_type": "code",
   "execution_count": null,
   "id": "ed950da2-aaed-4437-9e82-1773d09d695b",
   "metadata": {},
   "outputs": [],
   "source": [
    "'a' not in 'apple'"
   ]
  },
  {
   "cell_type": "markdown",
   "id": "029e15cf-6381-4b4e-9c4c-6b683d42b172",
   "metadata": {},
   "source": [
    "----------"
   ]
  },
  {
   "cell_type": "markdown",
   "id": "ef445a95-cf01-4fbb-a1e9-4a28a71ae7fa",
   "metadata": {},
   "source": [
    "## elif,else"
   ]
  },
  {
   "cell_type": "markdown",
   "id": "df32634c-5f37-4ad2-8aef-9a5dc29d7c3e",
   "metadata": {},
   "source": [
    "if :   elif :   else :  "
   ]
  },
  {
   "cell_type": "code",
   "execution_count": null,
   "id": "c4175166-e59f-4b41-8ef7-805308ec85b1",
   "metadata": {},
   "outputs": [],
   "source": [
    "a = 1"
   ]
  },
  {
   "cell_type": "code",
   "execution_count": null,
   "id": "3b6bf4eb-5156-4a5b-8f4c-fdaeb8c4034b",
   "metadata": {},
   "outputs": [],
   "source": [
    "if a < 5 :   #if가 Ture일때 print 출력 \n",
    "    print('a는 5보다 작습니다.')"
   ]
  },
  {
   "cell_type": "code",
   "execution_count": null,
   "id": "4362b1c5-89a0-46ba-a3ad-8054ed30fe56",
   "metadata": {},
   "outputs": [],
   "source": [
    "a = 6 \n",
    "if a < 5 : #False 일때는 통과\n",
    "    print('a는 5보다 작습니다.')\n",
    "elif a < 10 :\n",
    "    print('a는 10보다 작습니다.')"
   ]
  },
  {
   "cell_type": "code",
   "execution_count": null,
   "id": "db728be6-acd6-4d0e-af56-370af23e5d5c",
   "metadata": {},
   "outputs": [],
   "source": [
    "a = 1\n",
    "if a < 6 :\n",
    "    print('a는 5보다 작습니다.')\n",
    "if a < 10 :\n",
    "    print('a는 10보다 작습니다.')"
   ]
  },
  {
   "cell_type": "code",
   "execution_count": null,
   "id": "23c50822-ea97-4bd5-aaa8-b294dff26774",
   "metadata": {},
   "outputs": [],
   "source": [
    "a = 15\n",
    "if a < 6 : #False\n",
    "    print('a는 5보다 작습니다.')\n",
    "elif a < 10 :  #False\n",
    "    print('a는 10보다 작습니다.')\n",
    "else :  #else에는 조건문을 붙일수 없습니다.\n",
    "    print('a는 10보다 큽니다.')"
   ]
  },
  {
   "cell_type": "code",
   "execution_count": null,
   "id": "6e2502ce-249b-40bb-a5ba-8c9fa7b203d8",
   "metadata": {},
   "outputs": [],
   "source": [
    "a = 1\n",
    "if 0 < a <5 :\n",
    "    print ('ㅋㅋㅋ')"
   ]
  },
  {
   "cell_type": "markdown",
   "id": "95697e26-68a7-4c5a-a140-bebb380c5142",
   "metadata": {},
   "source": [
    "-------"
   ]
  },
  {
   "cell_type": "markdown",
   "id": "db81111b-3e7a-4d3d-b8b0-5ea058cd8558",
   "metadata": {},
   "source": [
    "## 사용자 입력값 받기 "
   ]
  },
  {
   "cell_type": "code",
   "execution_count": null,
   "id": "d5bbf10d-1f70-439c-aa87-643a68c5f9dd",
   "metadata": {},
   "outputs": [],
   "source": [
    "text = input()"
   ]
  },
  {
   "cell_type": "code",
   "execution_count": null,
   "id": "38e19842-d48d-4519-b548-8d9b9c639c32",
   "metadata": {},
   "outputs": [],
   "source": [
    "text"
   ]
  },
  {
   "cell_type": "code",
   "execution_count": null,
   "id": "d65fa224-0341-4ce9-afb1-5c507ea27429",
   "metadata": {},
   "outputs": [],
   "source": [
    "user_age = input('나이를 입력해주세요')"
   ]
  },
  {
   "cell_type": "code",
   "execution_count": null,
   "id": "d0d8de51-d093-4da5-83d8-9090b5ec40e7",
   "metadata": {},
   "outputs": [],
   "source": [
    "user_age"
   ]
  },
  {
   "cell_type": "code",
   "execution_count": null,
   "id": "c87851a3-0e7a-4067-be35-b8ae8a333324",
   "metadata": {},
   "outputs": [],
   "source": [
    "try :\n",
    "    print(int(user_age))\n",
    "except :\n",
    "     print('숫자를 입력해주세요')"
   ]
  },
  {
   "cell_type": "markdown",
   "id": "6bada5d9-baf0-41d8-87fb-945234c1d539",
   "metadata": {},
   "source": [
    "------------------------"
   ]
  },
  {
   "cell_type": "markdown",
   "id": "63a66702-60fe-4cfa-ae8f-bfd9c9086399",
   "metadata": {},
   "source": [
    "## for 문"
   ]
  },
  {
   "cell_type": "code",
   "execution_count": null,
   "id": "aea6347a-0796-4f0b-945d-c0c1413854cd",
   "metadata": {},
   "outputs": [],
   "source": [
    "range(1,10)"
   ]
  },
  {
   "cell_type": "code",
   "execution_count": null,
   "id": "a53a892a-ead6-40c8-8c07-c5c77f85010a",
   "metadata": {},
   "outputs": [],
   "source": [
    "list(range(1,10))"
   ]
  },
  {
   "cell_type": "code",
   "execution_count": null,
   "id": "51f7950a-255a-4406-9724-49ca6a245534",
   "metadata": {},
   "outputs": [],
   "source": [
    "list(range(10))"
   ]
  },
  {
   "cell_type": "code",
   "execution_count": null,
   "id": "b48ff285-8332-4026-8d00-8ac999ef9030",
   "metadata": {},
   "outputs": [],
   "source": [
    "list(range(1,10,2))#2의 배수 빼고 "
   ]
  },
  {
   "cell_type": "markdown",
   "id": "077c59e1-caf2-49b5-9a2d-b1b581948b2e",
   "metadata": {},
   "source": [
    "-"
   ]
  },
  {
   "cell_type": "code",
   "execution_count": null,
   "id": "b40d95ed-2b5f-450c-bc11-2aa71aa98403",
   "metadata": {},
   "outputs": [],
   "source": [
    "for i in [0,1,2,3] :\n",
    "    print(i)"
   ]
  },
  {
   "cell_type": "code",
   "execution_count": null,
   "id": "004cd909-eb51-4842-83dc-4f52cd07dd04",
   "metadata": {},
   "outputs": [],
   "source": [
    "for i in range(4):\n",
    "    print(i)"
   ]
  },
  {
   "cell_type": "code",
   "execution_count": null,
   "id": "15d48757-a133-438c-940f-79eb2c390829",
   "metadata": {},
   "outputs": [],
   "source": [
    "for i in 'abcde' :\n",
    "    print(i)"
   ]
  },
  {
   "cell_type": "markdown",
   "id": "3a6294b5-04a6-45d4-831d-61a3b9cf6c5d",
   "metadata": {},
   "source": [
    "-"
   ]
  },
  {
   "cell_type": "code",
   "execution_count": null,
   "id": "473695a8-7e97-40da-8d02-64658431bf7c",
   "metadata": {},
   "outputs": [],
   "source": [
    "gender_list = [0,0,1,1,1]\n",
    "\n",
    "#0이면 남자 1이면 여자\n",
    "n = 0 \n",
    "for gender in gender_list :\n",
    "    n = n + 1  \n",
    "    if gender == 0 :\n",
    "        print(n,'남자')\n",
    "    else :\n",
    "        print(n, '여자')"
   ]
  },
  {
   "cell_type": "code",
   "execution_count": null,
   "id": "a4ea0650-cf2e-427f-be42-3e401ce9394a",
   "metadata": {},
   "outputs": [],
   "source": [
    "for i,j in enumerate([1,2,3]) :\n",
    "    print (i,'|',j)"
   ]
  },
  {
   "cell_type": "code",
   "execution_count": null,
   "id": "2eeac7df-c6f7-4e8c-b7d6-cea971ca8ba3",
   "metadata": {},
   "outputs": [],
   "source": [
    "gender_list = [0,0,1,1,1]\n",
    "\n",
    "\n",
    "for index,gender in enumerate(gender_list) :\n",
    "    if gender == 0 :\n",
    "        print(index+1, '남자')\n",
    "    else :\n",
    "        print(index+1, '여자')"
   ]
  },
  {
   "cell_type": "markdown",
   "id": "5a067166-a1cf-4441-9c0c-2eafe55eab4a",
   "metadata": {},
   "source": [
    "-"
   ]
  },
  {
   "cell_type": "code",
   "execution_count": null,
   "id": "43dcba65-db3f-442c-b95a-64989ab4af66",
   "metadata": {},
   "outputs": [],
   "source": [
    "list(enumerate([1,2,3])) # enumerate "
   ]
  },
  {
   "cell_type": "code",
   "execution_count": null,
   "id": "2148fd60-1f6d-4473-a086-48ccd886b138",
   "metadata": {},
   "outputs": [],
   "source": [
    "for i,j in enumerate([1,2,3]) :\n",
    "    print (i,'|',j)"
   ]
  },
  {
   "cell_type": "markdown",
   "id": "02fb78b3-a6bc-42a9-b0c9-b2c9e4e73fe3",
   "metadata": {},
   "source": [
    "----"
   ]
  },
  {
   "cell_type": "markdown",
   "id": "8b899eb7-1710-4e84-89c3-6d55f3e9077e",
   "metadata": {},
   "source": [
    "## 1부터 100까지 합 구하기"
   ]
  },
  {
   "cell_type": "code",
   "execution_count": null,
   "id": "223dbed5-ce6d-4a50-a064-ac59aa9b1a30",
   "metadata": {},
   "outputs": [],
   "source": [
    "ret = 0 \n",
    "for i in range(1,101):\n",
    "    ret += i\n",
    "print(ret)"
   ]
  },
  {
   "cell_type": "markdown",
   "id": "c90cd983-50d2-49d2-8872-deafef6e5729",
   "metadata": {},
   "source": [
    "-------------"
   ]
  },
  {
   "cell_type": "markdown",
   "id": "654a719d-a746-4aec-9fa9-0062e0cf9874",
   "metadata": {},
   "source": [
    "## 홀수의 합, 짝수의 합"
   ]
  },
  {
   "cell_type": "code",
   "execution_count": null,
   "id": "2face0f4-b53d-4f5f-9985-b9d9ae7e2734",
   "metadata": {},
   "outputs": [],
   "source": [
    "odd = 0 #홀수\n",
    "even = 0 #짝수"
   ]
  },
  {
   "cell_type": "code",
   "execution_count": null,
   "id": "08bd96df-3a81-4979-95bc-930a22d0188a",
   "metadata": {},
   "outputs": [],
   "source": [
    "for i in range(1,101) :\n",
    "    if i % 2 == 0 :\n",
    "        even += i\n",
    "    else :\n",
    "        odd += i\n",
    "print('짝수:',even,'/홀수:',odd)"
   ]
  },
  {
   "cell_type": "code",
   "execution_count": null,
   "id": "cebe4bcd-0118-4ef9-8b57-4a55d4a4acd4",
   "metadata": {},
   "outputs": [],
   "source": [
    "list(range(5,0,-1))"
   ]
  },
  {
   "cell_type": "markdown",
   "id": "166f5232-4870-4dd0-bbb2-305b9f0e1370",
   "metadata": {},
   "source": [
    "----------------"
   ]
  },
  {
   "cell_type": "markdown",
   "id": "caf490d6-91fb-43a5-b66f-a775b797549a",
   "metadata": {},
   "source": [
    "## while 문"
   ]
  },
  {
   "cell_type": "markdown",
   "id": "c669cb81-e193-4c62-b1e8-9c78bbafc832",
   "metadata": {},
   "source": [
    "while 조건문 :  \n",
    "    행동   \n",
    "    #ㅁ친듯이 반복   \n",
    "##무한루프에 빠질수 있으므로 최대한 안쓰고 for 을 쓰고 하지만 빠지게 됭었을대 컨트롤 C 빠르게 누르기!   \n"
   ]
  },
  {
   "cell_type": "code",
   "execution_count": null,
   "id": "474165d3-26a7-404d-97eb-6def33faeff9",
   "metadata": {},
   "outputs": [],
   "source": [
    "count =0\n",
    "while count < 5 :  # 와일그 뭐뭐 할때 까지 돌아라 \n",
    "    print(\"count는\", count, \"입니다.\")\n",
    "    count += 1  #COUNT= COUNT +1 (같은말임 )"
   ]
  },
  {
   "cell_type": "code",
   "execution_count": null,
   "id": "63c395f2-6020-4a78-8ef9-3fe2ff594873",
   "metadata": {},
   "outputs": [],
   "source": [
    "for i in range(5):\n",
    "    print(\"count는\", i, \"입니다.\")   #for으로 충분히 쓸수 있으며ㅡ로 와일은 쓰지말자"
   ]
  },
  {
   "cell_type": "code",
   "execution_count": null,
   "id": "0b20228e-3d93-47ba-b14f-44fc690b53a6",
   "metadata": {},
   "outputs": [],
   "source": [
    "import random"
   ]
  },
  {
   "cell_type": "code",
   "execution_count": null,
   "id": "8864f955-7357-4e17-8af6-4bc6198c5f38",
   "metadata": {},
   "outputs": [],
   "source": [
    "random.seed(1) #랜덤값을 맞춰 주기 위해 Seed를 이용함 고정 "
   ]
  },
  {
   "cell_type": "code",
   "execution_count": null,
   "id": "0fdb62e5-53db-4429-a68e-bdfce4e720fe",
   "metadata": {},
   "outputs": [],
   "source": [
    "random.randint(1,1000)"
   ]
  },
  {
   "cell_type": "code",
   "execution_count": null,
   "id": "b375221c-c840-4c82-9473-029bb2a6148f",
   "metadata": {},
   "outputs": [],
   "source": [
    "random_list = []"
   ]
  },
  {
   "cell_type": "code",
   "execution_count": null,
   "id": "f917f140-6719-4783-a29a-f45562b80736",
   "metadata": {},
   "outputs": [],
   "source": [
    "for i in range(100) :\n",
    "    random_list.append(random.randint(1,1000))"
   ]
  },
  {
   "cell_type": "code",
   "execution_count": null,
   "id": "d847a42a-9a51-49a0-8e80-47220f4e7bbb",
   "metadata": {},
   "outputs": [],
   "source": [
    "max(random_list)  ## max를 쓰지 않고 for 문으로 뽑아 내기 "
   ]
  },
  {
   "cell_type": "code",
   "execution_count": null,
   "id": "e70512a4-7046-4b24-b808-55849ba8c3a6",
   "metadata": {},
   "outputs": [],
   "source": [
    "max_n = random_list[0]\n",
    "\n",
    "for n in random_list :\n",
    "    if max_n < n :\n",
    "        max_n = n\n",
    "        \n",
    "print(max_n)"
   ]
  },
  {
   "cell_type": "code",
   "execution_count": null,
   "id": "f628f5ad-093a-4219-8b50-69ee063aa1fe",
   "metadata": {},
   "outputs": [],
   "source": [
    "lotto = list(range(1,46))"
   ]
  },
  {
   "cell_type": "code",
   "execution_count": null,
   "id": "4c3c3d36-5054-4ad5-adb7-b7f863a03c8b",
   "metadata": {},
   "outputs": [],
   "source": [
    "random.shuffle(lotto)"
   ]
  },
  {
   "cell_type": "code",
   "execution_count": null,
   "id": "d6ccfb23-5b2e-4fe7-aadb-7144e20dc870",
   "metadata": {},
   "outputs": [],
   "source": [
    "for _ in range(10) :\n",
    "    random.shuffle(lotto)\n",
    "    print(lotto[:6])"
   ]
  },
  {
   "cell_type": "markdown",
   "id": "a914db16-4f6c-4a34-84ee-c058a46fc3f2",
   "metadata": {},
   "source": [
    "----------"
   ]
  },
  {
   "cell_type": "markdown",
   "id": "002de7a1-59ae-4da6-ac45-19f14c636d70",
   "metadata": {},
   "source": [
    "## 함수 (FUNCTION)"
   ]
  },
  {
   "cell_type": "code",
   "execution_count": null,
   "id": "964563e3-914b-4f50-8ce8-bb83bff534d3",
   "metadata": {},
   "outputs": [],
   "source": [
    "def test() :\n",
    "    print('test 함수입니다')"
   ]
  },
  {
   "cell_type": "code",
   "execution_count": null,
   "id": "5396a37a-70d4-4e49-8c55-a26c3c7acff4",
   "metadata": {},
   "outputs": [],
   "source": [
    "test()  #매개변수 "
   ]
  },
  {
   "cell_type": "code",
   "execution_count": null,
   "id": "61dc8493-fca1-4a06-9b43-2c43de875b22",
   "metadata": {},
   "outputs": [],
   "source": [
    "def test(a, b) :    #매개변수가 있는 함수 \n",
    "    print('test 함수입니다')\n",
    "    print(a, b)"
   ]
  },
  {
   "cell_type": "code",
   "execution_count": null,
   "id": "d64c46b5-361e-4903-af84-de69c304a01d",
   "metadata": {},
   "outputs": [],
   "source": [
    "test(13, 2)"
   ]
  },
  {
   "cell_type": "code",
   "execution_count": null,
   "id": "b835a2fb-4c1b-4e7a-8c95-0d56ca04b644",
   "metadata": {},
   "outputs": [],
   "source": [
    "def max_user(i) :\n",
    "    max_n = i [0]\n",
    "\n",
    "    for n in i :\n",
    "        if max_n < n :\n",
    "            max_n = n\n",
    "        \n",
    "    return max_n "
   ]
  },
  {
   "cell_type": "code",
   "execution_count": null,
   "id": "8713875a-30e0-4e88-a9b1-710dbc5b39e6",
   "metadata": {},
   "outputs": [],
   "source": [
    "max_num = max_user([1,3,5,2,4,])"
   ]
  },
  {
   "cell_type": "code",
   "execution_count": null,
   "id": "d3aabd08-edbc-43c6-be7d-e8d788cfe272",
   "metadata": {},
   "outputs": [],
   "source": [
    "#매개변수 0 return  0\n",
    "def test4(a,b) :\n",
    "    print('a:',a,'b:',b)\n",
    "    return a+b"
   ]
  },
  {
   "cell_type": "code",
   "execution_count": null,
   "id": "7080f11d-077b-4eb2-b2a3-de51597fa399",
   "metadata": {},
   "outputs": [],
   "source": [
    "test4(1,2)"
   ]
  },
  {
   "cell_type": "code",
   "execution_count": null,
   "id": "ca0fd4dc-9d34-43e4-866e-6632fbb42cdf",
   "metadata": {},
   "outputs": [],
   "source": [
    "test4(b=1, a=2)"
   ]
  },
  {
   "cell_type": "code",
   "execution_count": null,
   "id": "37a2374b-803b-4a39-98b1-3f6427f11f36",
   "metadata": {},
   "outputs": [],
   "source": [
    "#매개변수 0 return  0\n",
    "def test5(a,b=1) :\n",
    "    print('a:',a,'b:',b)\n",
    "    return a+b"
   ]
  },
  {
   "cell_type": "code",
   "execution_count": null,
   "id": "2d931dd2-5133-4ea9-a4d5-4e6b4a9751f3",
   "metadata": {},
   "outputs": [],
   "source": [
    "test5(1)"
   ]
  },
  {
   "cell_type": "code",
   "execution_count": null,
   "id": "21537cdb-e23d-4ecb-ba51-ea0e6f923444",
   "metadata": {},
   "outputs": [],
   "source": [
    "test5(1)"
   ]
  },
  {
   "cell_type": "code",
   "execution_count": null,
   "id": "bdeb5061-1023-406d-b360-83e6074a2ef0",
   "metadata": {},
   "outputs": [],
   "source": [
    "def hojin(*args) :\n",
    "    ret=0\n",
    "    for i in args :\n",
    "        ret += i\n",
    "       \n",
    "    return ret"
   ]
  },
  {
   "cell_type": "code",
   "execution_count": null,
   "id": "c3442e95-05fb-4c5a-b2ee-6e594b94a8d7",
   "metadata": {},
   "outputs": [],
   "source": [
    "hojin(1,2,3,4)"
   ]
  },
  {
   "cell_type": "code",
   "execution_count": null,
   "id": "0552bada-7551-4aca-a4f5-70e8f1f7e431",
   "metadata": {},
   "outputs": [],
   "source": [
    "hojin(1,2,3,4,5)"
   ]
  },
  {
   "cell_type": "code",
   "execution_count": null,
   "id": "6486247f-f9fa-4ff5-9b58-dd7d5f010ea3",
   "metadata": {},
   "outputs": [],
   "source": []
  },
  {
   "cell_type": "markdown",
   "id": "a2752c0f-0fdd-4382-b59b-439b8cc4d2ac",
   "metadata": {},
   "source": [
    "=============="
   ]
  },
  {
   "cell_type": "markdown",
   "id": "0d3e7afa-03f4-4eae-bed7-095299ae79f0",
   "metadata": {
    "tags": []
   },
   "source": [
    "## Quiz\n",
    "\n",
    "1. 사용자의 나이를 입력받으세요.\n",
    "\n",
    "1) 20세 이상이면 '성인', 아니면 '미성년자'라고 출력되는 코드를 작성하세요.\n",
    "2) \"20대 미만, 20대, 30대, 40대 이상\" 을 출력하는 코드를 작성하세요.\n",
    "\n",
    "2. 사용자의 이름을 입력받으세요.\n",
    "\n",
    "1) 사용자의 성을 출력해주는 코드를 작성하세요.\n",
    "2) 사용자의 성이 popular_last_name = ['김', '이', '박']에 포함되는지 출력해주는 코드를 작성하세요.\n",
    "3) user_info = {\"홍길동\" : 24, \"유재석\" : 26, \"김종국\" : 27} 에 해당하는 이름이면 나이를 출력해주는 코드를 작성하세요.\n",
    "\n",
    "3. 사용자로부터 세 개의 숫자를 입력받아 가장 큰 수를 출력하세요. (입력형식 1, 2, 3)\n",
    "hint. list(map(int, ['1', '2', '3'])\n",
    "\n",
    "4. 사용자로부터 주민등록번호를 입력받아, 뒷자리의 숫자가 1 또는 3이면 '남자, 2 또는 4면 '여자', 이외에는 '오류'라고 출력하세요. (입력 형식 : 900000-1000000)"
   ]
  },
  {
   "cell_type": "code",
   "execution_count": null,
   "id": "bbc5fcc7-bb87-4133-b26b-e82953f99406",
   "metadata": {},
   "outputs": [],
   "source": [
    "name = input('이름을 입력하세요')"
   ]
  },
  {
   "cell_type": "code",
   "execution_count": null,
   "id": "517ba221-0e25-4c3f-89d9-cfb66efc4a08",
   "metadata": {},
   "outputs": [],
   "source": []
  },
  {
   "cell_type": "code",
   "execution_count": null,
   "id": "d55b49cc-5454-4cfa-b090-38df95c50be0",
   "metadata": {},
   "outputs": [],
   "source": []
  },
  {
   "cell_type": "code",
   "execution_count": null,
   "id": "938265af-22ba-4fec-a43d-e04583909e15",
   "metadata": {},
   "outputs": [],
   "source": [
    "age = input('나이를 입력하세요')"
   ]
  },
  {
   "cell_type": "code",
   "execution_count": null,
   "id": "0b45089d-ed73-4d88-9c64-e226d7676976",
   "metadata": {},
   "outputs": [],
   "source": [
    "a = int(age)"
   ]
  },
  {
   "cell_type": "code",
   "execution_count": null,
   "id": "062b882d-7119-4b16-b40d-1af97ebf1799",
   "metadata": {},
   "outputs": [],
   "source": [
    "if a <= 20  :\n",
    "    print('성인')\n",
    "else :\n",
    "    print('미성년자')"
   ]
  },
  {
   "cell_type": "markdown",
   "id": "64b8b8f9-7c68-4554-9e15-303b062acd31",
   "metadata": {},
   "source": [
    "\"20대 미만, 20대, 30대, 40대 이상\" 을 출력하는 코드를 작성하세요."
   ]
  },
  {
   "cell_type": "code",
   "execution_count": null,
   "id": "2ee26dd5-a110-4585-8697-50825097330a",
   "metadata": {},
   "outputs": [],
   "source": [
    "if a >= 20  :\n",
    "    print('성인')\n",
    "    if 20 <= a < 30 :\n",
    "        print ('20대')\n",
    "        \n",
    "    elif 30 <= a < 40 :\n",
    "        print('30대')\n",
    "        \n",
    "    elif 40 <= a :\n",
    "        print('40대 이상')\n",
    "        \n",
    "        \n",
    "else :\n",
    "    print('미성년자')\n",
    "    print('20대 미만')"
   ]
  },
  {
   "cell_type": "code",
   "execution_count": null,
   "id": "f92f2424-72ec-4f7d-b6b0-a2dc92adb1b6",
   "metadata": {},
   "outputs": [],
   "source": []
  },
  {
   "cell_type": "code",
   "execution_count": null,
   "id": "21337973-ac1f-4280-a497-5b397c280cfc",
   "metadata": {},
   "outputs": [],
   "source": [
    "사용자의 성을 출력해주는 코드를 작성하세요"
   ]
  },
  {
   "cell_type": "code",
   "execution_count": null,
   "id": "6184b2f1-fef2-43b9-904e-e1b7c3eaed00",
   "metadata": {},
   "outputs": [],
   "source": [
    "name = input('이름을 입력해주세요')"
   ]
  },
  {
   "cell_type": "code",
   "execution_count": null,
   "id": "7c470df8-2e14-4444-9d93-b710f8ab3175",
   "metadata": {},
   "outputs": [],
   "source": [
    "last_n = name[0]"
   ]
  },
  {
   "cell_type": "code",
   "execution_count": null,
   "id": "bee42cc1-f988-4763-a68a-eb326b281ce4",
   "metadata": {},
   "outputs": [],
   "source": [
    "last_n"
   ]
  },
  {
   "cell_type": "markdown",
   "id": "c5508add-4c60-44a3-a60f-494781a7b418",
   "metadata": {},
   "source": [
    "사용자의 성이 popular_last_name = ['김', '이', '박']에 포함되는지 출력해주는 코드를 작성하세요."
   ]
  },
  {
   "cell_type": "code",
   "execution_count": null,
   "id": "297971e9-1358-4b2f-83ac-90589f7ba438",
   "metadata": {},
   "outputs": [],
   "source": [
    "popular_last_name = ['김', '이', '박']"
   ]
  },
  {
   "cell_type": "code",
   "execution_count": null,
   "id": "caf07da6-bdb1-46e6-90bf-e31d10ee4f0a",
   "metadata": {},
   "outputs": [],
   "source": [
    "popular_last_name"
   ]
  },
  {
   "cell_type": "code",
   "execution_count": null,
   "id": "7e39006e-7864-4e15-83c9-d5820de7acf7",
   "metadata": {},
   "outputs": [],
   "source": [
    "if last_n in popular_last_name :\n",
    "    print('흔한 성입니다')\n",
    "    \n",
    "else :\n",
    "    print('흔하지 않은 성입니다')"
   ]
  },
  {
   "cell_type": "code",
   "execution_count": null,
   "id": "6ade0b20-9067-434a-b60b-a13376a3f702",
   "metadata": {},
   "outputs": [],
   "source": []
  },
  {
   "cell_type": "markdown",
   "id": "01d12196-a7cc-42ed-9da3-036b9aed6394",
   "metadata": {},
   "source": [
    "user_info = {\"홍길동\" : 24, \"유재석\" : 26, \"김종국\" : 27} 에 해당하는 이름이면 나이를 출력해주는 코드를 작성하세요."
   ]
  },
  {
   "cell_type": "code",
   "execution_count": null,
   "id": "0d561e07-5cc8-4c52-beea-8a8d16597246",
   "metadata": {},
   "outputs": [],
   "source": [
    "user_info = {'홍길동' : 24, '유재석' : 26, '김종국' : 27}"
   ]
  },
  {
   "cell_type": "code",
   "execution_count": null,
   "id": "60f8684d-bea7-4733-9f97-aa26dae034be",
   "metadata": {},
   "outputs": [],
   "source": [
    "type(user_info)"
   ]
  },
  {
   "cell_type": "code",
   "execution_count": null,
   "id": "38fa54d9-067c-4c8b-b1e7-c57779171fd6",
   "metadata": {},
   "outputs": [],
   "source": [
    "name1 = input('이름을 입력해주세요')"
   ]
  },
  {
   "cell_type": "code",
   "execution_count": null,
   "id": "7de24e7b-7046-45c0-92b7-9dd5d689c1e2",
   "metadata": {},
   "outputs": [],
   "source": [
    "nn = list(user_info.keys())"
   ]
  },
  {
   "cell_type": "code",
   "execution_count": null,
   "id": "ea48a115-3f2b-4f73-b3d3-3c28b5d454f2",
   "metadata": {},
   "outputs": [],
   "source": [
    "nn"
   ]
  },
  {
   "cell_type": "code",
   "execution_count": null,
   "id": "13f117a5-bf12-4e39-9b35-477acb457d93",
   "metadata": {},
   "outputs": [],
   "source": [
    "list(user_info.values())"
   ]
  },
  {
   "cell_type": "code",
   "execution_count": null,
   "id": "1509563d-b833-4a7b-bcd0-c01ff371e20e",
   "metadata": {},
   "outputs": [],
   "source": [
    "list(user_info.keys())"
   ]
  },
  {
   "cell_type": "code",
   "execution_count": null,
   "id": "ff1d322c-ea63-40db-a872-5f0026659158",
   "metadata": {},
   "outputs": [],
   "source": [
    "if name1 in  list(user_info.keys()) :\n",
    "    print (user_info[name1]) \n",
    "else :\n",
    "    print('알수없습니다')"
   ]
  },
  {
   "cell_type": "code",
   "execution_count": null,
   "id": "9924de81-b7f9-4a77-9980-ffdbd073da55",
   "metadata": {},
   "outputs": [],
   "source": []
  },
  {
   "cell_type": "markdown",
   "id": "cc91a863-f1d2-48c2-8a8b-0dfabf13066c",
   "metadata": {},
   "source": [
    "사용자로부터 세 개의 숫자를 입력받아 가장 큰 수를 출력하세요. (입력형식 1, 2, 3)    \n",
    "hint. list(map(int, ['1', '2', '3'])"
   ]
  },
  {
   "cell_type": "code",
   "execution_count": 51,
   "id": "731af706-48e2-4bcd-90ea-25d7a728a4b9",
   "metadata": {},
   "outputs": [],
   "source": [
    "li = [\"1\",\"2\",\"3\"]"
   ]
  },
  {
   "cell_type": "code",
   "execution_count": 63,
   "id": "f514900d-ab66-4599-9eeb-7cfa5b4bc401",
   "metadata": {},
   "outputs": [
    {
     "name": "stdin",
     "output_type": "stream",
     "text": [
      " 1 2 3\n"
     ]
    },
    {
     "data": {
      "text/plain": [
       "'1 2 3'"
      ]
     },
     "execution_count": 63,
     "metadata": {},
     "output_type": "execute_result"
    }
   ],
   "source": [
    "input()"
   ]
  },
  {
   "cell_type": "code",
   "execution_count": 74,
   "id": "c60a823b-dd41-4624-a829-979a1e26195f",
   "metadata": {},
   "outputs": [
    {
     "name": "stdin",
     "output_type": "stream",
     "text": [
      " 1\n",
      " 2\n",
      " 3\n"
     ]
    }
   ],
   "source": [
    "a = int(input())\n",
    "b = int(input())\n",
    "c = int(input())\n",
    "\n",
    "li = [a,b,c]"
   ]
  },
  {
   "cell_type": "code",
   "execution_count": 76,
   "id": "10f432ca-2f7b-4e0e-913a-2ed478822400",
   "metadata": {},
   "outputs": [
    {
     "data": {
      "text/plain": [
       "3"
      ]
     },
     "execution_count": 76,
     "metadata": {},
     "output_type": "execute_result"
    }
   ],
   "source": [
    "max(li)"
   ]
  },
  {
   "cell_type": "code",
   "execution_count": 70,
   "id": "93e5b364-72b8-4f87-a9c0-18c6f53809a0",
   "metadata": {},
   "outputs": [
    {
     "name": "stdin",
     "output_type": "stream",
     "text": [
      " 1 2 3\n"
     ]
    },
    {
     "data": {
      "text/plain": [
       "3"
      ]
     },
     "execution_count": 70,
     "metadata": {},
     "output_type": "execute_result"
    }
   ],
   "source": [
    "max(list(map(int, input().split())))"
   ]
  },
  {
   "cell_type": "code",
   "execution_count": 62,
   "id": "8a16b1e1-6ec4-4cff-bfc8-b22160f7d8bd",
   "metadata": {},
   "outputs": [
    {
     "name": "stdout",
     "output_type": "stream",
     "text": [
      "<class 'int'>\n",
      "<class 'int'>\n",
      "<class 'int'>\n"
     ]
    }
   ],
   "source": [
    "a = list(map(int, [1,2,3]))\n",
    "\n",
    "\n",
    "\n"
   ]
  },
  {
   "cell_type": "code",
   "execution_count": 88,
   "id": "be101fa5-73ef-400b-98ad-3e01ab7e8261",
   "metadata": {},
   "outputs": [
    {
     "name": "stdin",
     "output_type": "stream",
     "text": [
      "세개의 숫자를 입력해주세요,입력형식(1,2,3) 1,2,3\n"
     ]
    }
   ],
   "source": [
    "number1 = input('세개의 숫자를 입력해주세요'',''입력형식(1,2,3)')"
   ]
  },
  {
   "cell_type": "code",
   "execution_count": 91,
   "id": "4cf1abed-56f3-42ff-9284-a55bf234e0a5",
   "metadata": {},
   "outputs": [],
   "source": [
    "nn = number1.split(',')"
   ]
  },
  {
   "cell_type": "code",
   "execution_count": 92,
   "id": "b6e9985d-7961-4a43-9ee8-618a28a2600b",
   "metadata": {},
   "outputs": [
    {
     "data": {
      "text/plain": [
       "['1', '2', '3']"
      ]
     },
     "execution_count": 92,
     "metadata": {},
     "output_type": "execute_result"
    }
   ],
   "source": [
    "nn"
   ]
  },
  {
   "cell_type": "code",
   "execution_count": 131,
   "id": "5895b234-1b63-4b63-b3ee-df4cb79a797e",
   "metadata": {},
   "outputs": [],
   "source": [
    "nn4 = [nn1,nn2,nn3]"
   ]
  },
  {
   "cell_type": "code",
   "execution_count": 132,
   "id": "754f85f7-8773-48e7-985a-7bf80a9d99ac",
   "metadata": {},
   "outputs": [
    {
     "data": {
      "text/plain": [
       "[1, 2, 3]"
      ]
     },
     "execution_count": 132,
     "metadata": {},
     "output_type": "execute_result"
    }
   ],
   "source": [
    "nn4"
   ]
  },
  {
   "cell_type": "code",
   "execution_count": 133,
   "id": "d7197585-95c8-4cc0-84a3-c6361805d5d2",
   "metadata": {},
   "outputs": [
    {
     "data": {
      "text/plain": [
       "3"
      ]
     },
     "execution_count": 133,
     "metadata": {},
     "output_type": "execute_result"
    }
   ],
   "source": [
    "max(nn4)"
   ]
  },
  {
   "cell_type": "code",
   "execution_count": 139,
   "id": "e655aaa7-e0af-43f3-b30c-128d624daaf8",
   "metadata": {},
   "outputs": [],
   "source": [
    "a = []"
   ]
  },
  {
   "cell_type": "code",
   "execution_count": 140,
   "id": "d77f783b-4434-4403-9d1d-ad08f53071a2",
   "metadata": {},
   "outputs": [],
   "source": [
    "for i in nn:\n",
    "    a.append(int(i))\n",
    "    "
   ]
  },
  {
   "cell_type": "code",
   "execution_count": 144,
   "id": "002c9c2e-ed8f-451a-ad0a-5e602b05d9e2",
   "metadata": {},
   "outputs": [
    {
     "data": {
      "text/plain": [
       "3"
      ]
     },
     "execution_count": 144,
     "metadata": {},
     "output_type": "execute_result"
    }
   ],
   "source": [
    "max(a)"
   ]
  },
  {
   "cell_type": "code",
   "execution_count": null,
   "id": "39ef8c72-38a9-46e6-8301-1901b07276aa",
   "metadata": {},
   "outputs": [],
   "source": []
  },
  {
   "cell_type": "code",
   "execution_count": null,
   "id": "340ea5ea-6b3a-4af4-b242-0485b6bc2851",
   "metadata": {},
   "outputs": [],
   "source": []
  },
  {
   "cell_type": "code",
   "execution_count": null,
   "id": "8aa742ef-482f-4bdb-9e5c-1f3d99dd2798",
   "metadata": {},
   "outputs": [],
   "source": []
  },
  {
   "cell_type": "code",
   "execution_count": null,
   "id": "7630f2bb-3d90-4ce8-a327-210f4f447c2f",
   "metadata": {},
   "outputs": [],
   "source": []
  },
  {
   "cell_type": "markdown",
   "id": "62d2d3f0-2a8c-4df7-9672-cb1afa3ee9a3",
   "metadata": {},
   "source": [
    "사용자로부터 주민등록번호를 입력받아, 뒷자리의 숫자가 1 또는 3이면 '남자, 2 또는 4면 '여자', 이외에는 '오류'라고 출력하세요. (입력 형식 : 900000-1000000)"
   ]
  },
  {
   "cell_type": "code",
   "execution_count": 24,
   "id": "2f881063-1890-4e26-834e-e94e6e6995b2",
   "metadata": {},
   "outputs": [
    {
     "name": "stdin",
     "output_type": "stream",
     "text": [
      "주민번호를 입력해주세요. 입력형식은 900000 - 1000000 900000-1000000\n"
     ]
    }
   ],
   "source": [
    "jumin = input('주민번호를 입력해주세요. 입력형식은 900000 - 1000000')"
   ]
  },
  {
   "cell_type": "code",
   "execution_count": 25,
   "id": "5ea926e1-6296-465d-bd2a-bd2931bd4165",
   "metadata": {},
   "outputs": [],
   "source": [
    "sex_num = jumin[jumin.find('-')+1]"
   ]
  },
  {
   "cell_type": "code",
   "execution_count": 26,
   "id": "30c460d8-6dbd-4039-bef1-9caa2c6399f9",
   "metadata": {},
   "outputs": [
    {
     "data": {
      "text/plain": [
       "'1'"
      ]
     },
     "execution_count": 26,
     "metadata": {},
     "output_type": "execute_result"
    }
   ],
   "source": [
    "sex_num"
   ]
  },
  {
   "cell_type": "code",
   "execution_count": 27,
   "id": "c54acaf9-1958-42f4-a395-86fad939ffeb",
   "metadata": {},
   "outputs": [
    {
     "name": "stdout",
     "output_type": "stream",
     "text": [
      "남자\n"
     ]
    }
   ],
   "source": [
    "if sex_num == '1' or sex_num == '3' :\n",
    "    print ('남자')\n",
    "elif sex_num == '2' or sex_num == '4' :\n",
    "    print ('여자')\n",
    "else :\n",
    "    print ('오류')"
   ]
  },
  {
   "cell_type": "code",
   "execution_count": null,
   "id": "b5d1b827-8328-4bbc-8837-5ebba37062f0",
   "metadata": {},
   "outputs": [],
   "source": []
  },
  {
   "cell_type": "code",
   "execution_count": null,
   "id": "edd9d69d-977d-4efc-bfc6-ba47c6656af6",
   "metadata": {},
   "outputs": [],
   "source": []
  },
  {
   "cell_type": "code",
   "execution_count": null,
   "id": "456daa0f-75f5-4904-b3ef-b106d7b60515",
   "metadata": {},
   "outputs": [],
   "source": []
  },
  {
   "cell_type": "markdown",
   "id": "486d86b1-19e6-4789-a839-322e4a1aa18c",
   "metadata": {},
   "source": [
    "## Quiz \n",
    "\n",
    "1. for문을 이용하여 recevied_list에서 allowed_list에 존재하는 않는 목록을 뽑아 spam_mail 이라는 리스트를 만드는 코드를 구현\n",
    "received_list = ['tom', 'jenny', 'kyle', 'young', 'tami']  \n",
    "allowed_list = ['kyle', 'tami', 'json']\n",
    "\n",
    "2. for문을 이용하여 word_list에서 단어가 7글자 이상이면 모두 대문자로, 7글자 미만이면 모두 소문자로 출력하는 코드를 구현\n",
    "word_list = ['culture','symbol','effect','experience','affair']\n",
    "\n",
    "3. 구구단 3단 중 결과가 홀수인 결과만 출력하는 코드를 구현\n",
    "\n",
    "4. 다음 2차원 리스트의 모든 요소를 출력하는 코드를 구현\n",
    "matrix=[[1,2,3],[4,5,6],[7,8,9],[10,11,12]]\n"
   ]
  },
  {
   "cell_type": "code",
   "execution_count": null,
   "id": "65a3a01a-1c95-4812-84ba-666431f1a88b",
   "metadata": {},
   "outputs": [],
   "source": [
    "received_list = ['tom', 'jenny', 'kyle', 'young', 'tami']\n",
    "allowed_list = ['kyle', 'tami', 'json']\n",
    "spam_mail = []\n",
    "\n",
    "for i in received_list:\n",
    "    if i not in allowed_list:\n",
    "        spam_mail.append(i)\n",
    "        \n",
    "print(spam_mail)\n"
   ]
  },
  {
   "cell_type": "code",
   "execution_count": null,
   "id": "565b548a-b6ab-41aa-ac40-6154e62ee97f",
   "metadata": {},
   "outputs": [],
   "source": [
    "1. 글자를 하나씩 출력 해본다 \n",
    "2. 스팸언더바리스트가 필요하다 \n",
    "3. 올로리스트에 있느지 업ㅅ는지 확인해야 한다 \n",
    "4. 안에 없는 것을 고를 때 not in 을 쓴다\n",
    "5. 나머지 애들을 스팸 메일에 넣고 싶을땐 어펜드를 사용한다 append "
   ]
  },
  {
   "cell_type": "code",
   "execution_count": null,
   "id": "1f0f8b5a-53cc-4fd8-8caf-5cb399f77f53",
   "metadata": {},
   "outputs": [],
   "source": []
  },
  {
   "cell_type": "code",
   "execution_count": null,
   "id": "37af261b-64a4-434c-90ad-2e03e11ccd74",
   "metadata": {},
   "outputs": [],
   "source": [
    "word_list = ['culture','symbol','effect','experience','affair']\n",
    "up_word = []\n",
    "samll_word = []\n",
    "\n",
    "\n",
    "for i in word_list:\n",
    "    if len(i) >= 7:\n",
    "        up_word.append(i.upper())\n",
    "    else:\n",
    "        samll_word.append(i.lower())\n",
    "\n",
    "print(up_word, samll_word) \n",
    "    "
   ]
  },
  {
   "cell_type": "code",
   "execution_count": null,
   "id": "35c61ddd-b174-43a0-a4ae-6810f1093574",
   "metadata": {},
   "outputs": [],
   "source": [
    "1. len 을 이용애서 글자의 길이를 알아본다 \n",
    "2. if문ㅇ을 사용한다 \n",
    "3. 일단 프린트를 해서 중간중간 출력해본다 \n",
    "4. 대문자 upper 소문자 lower "
   ]
  },
  {
   "cell_type": "code",
   "execution_count": null,
   "id": "42ae3a47-1a20-4758-922b-b59ad651194e",
   "metadata": {},
   "outputs": [],
   "source": []
  },
  {
   "cell_type": "code",
   "execution_count": null,
   "id": "f91c575c-3bd8-40f7-9c62-5db4c7123e88",
   "metadata": {},
   "outputs": [],
   "source": [
    "for i in range (1,10):\n",
    "    if i %2 == 1:\n",
    "        print(3*i)"
   ]
  },
  {
   "cell_type": "code",
   "execution_count": null,
   "id": "55cd98c8-753e-494d-b070-e31444279a4c",
   "metadata": {},
   "outputs": [],
   "source": [
    "1. range를 이용하여 구구단으로 출력 결과값만 나오도록 설정 \n"
   ]
  },
  {
   "cell_type": "code",
   "execution_count": null,
   "id": "fe2b6256-4127-476e-8086-00dddb5f4bb8",
   "metadata": {},
   "outputs": [],
   "source": []
  },
  {
   "cell_type": "code",
   "execution_count": null,
   "id": "2071f68b-05ab-417f-a150-8f3395ed1943",
   "metadata": {},
   "outputs": [],
   "source": [
    "matrix=[[1,2,3],[4,5,6],[7,8,9],[10,11,12]]\n",
    "\n",
    "for i in matrix:\n",
    "    print(i)\n",
    "    for m in  matrix :\n",
    "        print(m, end=' ')\n",
    "    print('')"
   ]
  },
  {
   "cell_type": "code",
   "execution_count": null,
   "id": "a78c6e29-50a6-4718-9b35-de1905a8e8ea",
   "metadata": {},
   "outputs": [],
   "source": [
    "1. for문을 이용하여 일단 1차원으로 꺼낸다 \n",
    "2. "
   ]
  },
  {
   "cell_type": "code",
   "execution_count": null,
   "id": "9cc403cc-d2b0-40bc-bb78-a24787d37b5b",
   "metadata": {},
   "outputs": [],
   "source": [
    "matrix=[[1,2,3],[4,5,6],[7,8,9],[10,11,12]]\n",
    "\n",
    "for i in matrix:\n",
    "    \n",
    "    for m in i :\n",
    "        print (m)"
   ]
  },
  {
   "cell_type": "markdown",
   "id": "e417c989-4d8b-47ab-861f-820fc626f588",
   "metadata": {},
   "source": [
    "-------------------------"
   ]
  },
  {
   "cell_type": "markdown",
   "id": "98361448-acf2-4e05-a06a-eba4341d7507",
   "metadata": {},
   "source": [
    "## Quiz\n",
    "\n",
    "주어진 숫자가 홀수인지 짝수인지 구하시오."
   ]
  },
  {
   "cell_type": "code",
   "execution_count": null,
   "id": "9ad62487-2f4e-42dc-a232-0e545ced74fd",
   "metadata": {},
   "outputs": [],
   "source": [
    "num = 0\n",
    "if num%2 == 0 :\n",
    "    print(\"짝수\")\n",
    "elif num%2 == 1 :\n",
    "    print(\"홀수\")\n",
    "else : \n",
    "    print(\"정수가 아닌가봅니다.\")"
   ]
  },
  {
   "cell_type": "code",
   "execution_count": null,
   "id": "c8c4d88a-7432-458c-8e24-c5d23798980a",
   "metadata": {},
   "outputs": [],
   "source": [
    "num = '가'"
   ]
  },
  {
   "cell_type": "code",
   "execution_count": null,
   "id": "82d4bc25-3fb7-486b-b918-1e88f90c87a4",
   "metadata": {},
   "outputs": [],
   "source": [
    "if isinstance(num, int) :\n",
    "    if num == 0 :\n",
    "        print('num은 0입니다.')\n",
    "    elif num % 2 == 1 :\n",
    "        print('홀수')\n",
    "    else :\n",
    "        print('짝수')\n",
    "else :\n",
    "    print('num은 문자열입니다.')"
   ]
  },
  {
   "cell_type": "code",
   "execution_count": null,
   "id": "43b79bb6-a6a7-4c4b-9c86-3f259ffe40ed",
   "metadata": {},
   "outputs": [],
   "source": []
  },
  {
   "cell_type": "code",
   "execution_count": null,
   "id": "48c3919c-2bbb-425a-9e16-ba2d0d2e5d20",
   "metadata": {},
   "outputs": [],
   "source": []
  },
  {
   "cell_type": "code",
   "execution_count": null,
   "id": "e78e8306-de76-44e5-8df2-83b3b565923a",
   "metadata": {},
   "outputs": [],
   "source": []
  },
  {
   "cell_type": "code",
   "execution_count": null,
   "id": "5851e2f5-ed5b-4ae6-9466-30b13b0f74ac",
   "metadata": {},
   "outputs": [],
   "source": []
  },
  {
   "cell_type": "code",
   "execution_count": null,
   "id": "2ba39ab3-6588-4546-81be-6ffd3666942c",
   "metadata": {},
   "outputs": [],
   "source": []
  }
 ],
 "metadata": {
  "kernelspec": {
   "display_name": "Python 3 (ipykernel)",
   "language": "python",
   "name": "python3"
  },
  "language_info": {
   "codemirror_mode": {
    "name": "ipython",
    "version": 3
   },
   "file_extension": ".py",
   "mimetype": "text/x-python",
   "name": "python",
   "nbconvert_exporter": "python",
   "pygments_lexer": "ipython3",
   "version": "3.9.12"
  }
 },
 "nbformat": 4,
 "nbformat_minor": 5
}
