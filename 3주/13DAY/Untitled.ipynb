{
 "cells": [
  {
   "cell_type": "code",
   "execution_count": 1,
   "id": "4853c55a-8793-41bc-917a-c7b812e65866",
   "metadata": {},
   "outputs": [],
   "source": [
    "import requests"
   ]
  },
  {
   "cell_type": "code",
   "execution_count": 4,
   "id": "d1ac5d64-ca10-43a3-b3a7-dfcba4b3e6be",
   "metadata": {},
   "outputs": [],
   "source": [
    "req = requests.get('https://product.kyobobook.co.kr/api/gw/pub/pdt/best-seller/online?page=1&per=20&period=001&dsplDvsnCode=000&dsplTrgtDvsnCode=001').json()"
   ]
  },
  {
   "cell_type": "code",
   "execution_count": 11,
   "id": "9f71fa2e-a5d6-4ffc-8790-8bb75d17ee5b",
   "metadata": {
    "tags": []
   },
   "outputs": [
    {
     "name": "stdout",
     "output_type": "stream",
     "text": [
      "트렌드 코리아 2023\n",
      "아버지의 해방일지\n",
      "나의 히어로 아카데미아 36 + 2023 캘린더(한정판)\n",
      "하얼빈\n",
      "잘될 수밖에 없는 너에게\n",
      "에그박사 8\n",
      "불편한 편의점 2(단풍 에디션)\n",
      "불편한 편의점(40만부 기념 벚꽃 에디션)\n",
      "기억의 뇌과학\n",
      "세상에서 가장 쉬운 본질육아\n",
      "역행자\n",
      "마흔에 읽는 니체\n",
      "원피스 103: 해방의 전사\n",
      "데일 카네기 인간관계론\n",
      "조금 서툴더라도 네 인생을 응원해\n",
      "심리학이 조조에게 말하다 1\n",
      "인생의 허무를 어떻게 할 것인가\n",
      "원씽(The One Thing)(리커버 특별판)\n",
      "참 괜찮은 태도\n",
      "이은경쌤의 초등어휘일력 365\n"
     ]
    }
   ],
   "source": [
    "for bs in req['data']['bestSeller'] :\n",
    "    print(bs['cmdtName'])"
   ]
  },
  {
   "cell_type": "code",
   "execution_count": null,
   "id": "ce4b43c7-03e2-4bf6-89c1-9964e5777c63",
   "metadata": {},
   "outputs": [],
   "source": [
    "http://openapi.molit.go.kr:8081/OpenAPI_ToolInstallPackage/service/rest/RTMSOBJSvc/getRTMSDataSvcAptRent"
   ]
  }
 ],
 "metadata": {
  "kernelspec": {
   "display_name": "Python 3 (ipykernel)",
   "language": "python",
   "name": "python3"
  },
  "language_info": {
   "codemirror_mode": {
    "name": "ipython",
    "version": 3
   },
   "file_extension": ".py",
   "mimetype": "text/x-python",
   "name": "python",
   "nbconvert_exporter": "python",
   "pygments_lexer": "ipython3",
   "version": "3.9.12"
  }
 },
 "nbformat": 4,
 "nbformat_minor": 5
}
