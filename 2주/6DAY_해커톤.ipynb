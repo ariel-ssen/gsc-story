{
 "cells": [
  {
   "cell_type": "markdown",
   "id": "ce2eae6d-4cd2-4c1c-a194-92bbeba7c973",
   "metadata": {},
   "source": [
    "# 코린이들, 해커톤\n",
    "---\n",
    "[관련링크](https://bit,ly/sesac-aithon)"
   ]
  },
  {
   "cell_type": "markdown",
   "id": "ecd325fa-8a8a-4049-ae17-0ec4c936d65c",
   "metadata": {},
   "source": [
    "# 문제\n",
    "* 퇴사자 발생을 줄이기\n",
    "* 퇴사자 1명 발생 -> 채용 + 교육 + 생산성 저하 등 비용 발생 -> 비즈니스 악영향"
   ]
  },
  {
   "cell_type": "markdown",
   "id": "28e3bccd-e5d2-455e-9417-2a5eefbbb812",
   "metadata": {},
   "source": [
    "## Q.\n",
    "당신은 대기업 A사의 채용팀으로, 직업을 채용하고 회사에 잘 적응하도록 교육하는 일을 맡고 있다. 하지만, 최근 퇴사가 증가해, 대신할 직원들을 다시 뽑고 교육하는 데 많은 비용이 발생.  \n",
    "이를 해결하기 위해서 직원의 퇴사 여부를 예측하여 조취하고  \n",
    "### \"퇴사 여부를 예측하는 이진분류 모델을 만드세요.\"\n",
    "---"
   ]
  },
  {
   "cell_type": "markdown",
   "id": "ee3f6c16-6c81-47dc-babe-a23404b09a5e",
   "metadata": {},
   "source": [
    "### [공통사항]\n",
    "* 데이터는 회사의 직원관리를 위한 인사데이터로 총 1470 index로 구성\n",
    "* 예측하야 할 변수 (Target)는 퇴사 여부 (Yes/No)이며 알맞은 데이터 변환이 필요\n",
    "* Train/test 비율은 &:3, Random_state = 1로 설정\n",
    "* parameter 설정 및 사용자가 원하는데로 사용\n",
    "* 의사결정나무를 사용할 예정!"
   ]
  },
  {
   "cell_type": "markdown",
   "id": "27562296-1e4e-4783-bb69-80d8ed645769",
   "metadata": {},
   "source": [
    "### 문제 풀이 순서\n",
    "* 목적에 맞는 모델 선택\n",
    "    * 퇴사자 분류 -> 분류 모델\n",
    "* 데이터를 준비하고 미리 가공\n",
    "    * (결측치확인, 데이터 타입 변경)\n",
    "* 학습\n",
    "* 모델 평가\n",
    "    * 오차확인(정확도 평가)\n",
    "* 모델간 비교 / 파라미터 튜닝\n",
    "    * 다른 모델로 변경\n",
    "    * 내부 학습 알고리즘을 바꾼다."
   ]
  },
  {
   "cell_type": "markdown",
   "id": "f0517262-c81e-445d-83b8-093f6214e396",
   "metadata": {},
   "source": [
    "### 문제 풀이 1. 의사결정나무 "
   ]
  },
  {
   "cell_type": "markdown",
   "id": "6bc7ccc4-d876-44a8-953a-99162f7bf2b8",
   "metadata": {},
   "source": [
    "#### 모듈 설치 및 초기 설정"
   ]
  },
  {
   "cell_type": "code",
   "execution_count": null,
   "id": "8249b7f4-af4d-495e-a222-d9dd4cbe4825",
   "metadata": {},
   "outputs": [],
   "source": [
    "# pakage install 및 update\n",
    "!pip install pandas\n",
    "!pip install matplotlib\n",
    "!pip install scikit-learn "
   ]
  },
  {
   "cell_type": "code",
   "execution_count": 11,
   "id": "d18cb858-2a89-4bb1-be82-6c3011aa9a15",
   "metadata": {},
   "outputs": [],
   "source": [
    "# import\n",
    "import pandas as pd # pandas 사용 for 데이터 처리\n",
    "import matplotlib.pyplot as plt ; import matplotlib # 데이터 시각화를 위한 matplotlib 사용\n",
    "from sklearn.tree import plot_tree # 나무 구조 시각화를 위해서\n",
    "from sklearn.model_selection import train_test_split # 데이터 Train가 test로 나누기 위해서 사용\n",
    "from sklearn.tree import DecisionTreeClassifier  # 의사결정나무\n",
    "from sklearn.model_selection import GridSearchCV # 최적 모델, parameter 탐색을 위해서 사용\n",
    "# 모델 성능 평가를 위해서 사용\n",
    "from sklearn.metrics import confusion_matrix \n",
    "from sklearn.metrics import classification_report"
   ]
  },
  {
   "cell_type": "code",
   "execution_count": 12,
   "id": "45def49a-5778-49c7-acdf-871fb56c2ae5",
   "metadata": {},
   "outputs": [],
   "source": [
    "# 한글 폰트 설정\n",
    "matplotlib.rc(\"font\", family = \"Malgun Gothic\")\n",
    "# 음수 표시 설정\n",
    "matplotlib.rc('axes', unicode_minus = False)"
   ]
  },
  {
   "cell_type": "markdown",
   "id": "39ebd9d1-b556-4597-92da-551e757b3fed",
   "metadata": {},
   "source": [
    "#### 데이터 불러오기"
   ]
  },
  {
   "cell_type": "code",
   "execution_count": 101,
   "id": "3f402185-0bc8-4892-b34a-4c269a4bfe5f",
   "metadata": {},
   "outputs": [
    {
     "data": {
      "text/html": [
       "<div>\n",
       "<style scoped>\n",
       "    .dataframe tbody tr th:only-of-type {\n",
       "        vertical-align: middle;\n",
       "    }\n",
       "\n",
       "    .dataframe tbody tr th {\n",
       "        vertical-align: top;\n",
       "    }\n",
       "\n",
       "    .dataframe thead th {\n",
       "        text-align: right;\n",
       "    }\n",
       "</style>\n",
       "<table border=\"1\" class=\"dataframe\">\n",
       "  <thead>\n",
       "    <tr style=\"text-align: right;\">\n",
       "      <th></th>\n",
       "      <th>Age</th>\n",
       "      <th>Attrition</th>\n",
       "      <th>BusinessTravel</th>\n",
       "      <th>DailyRate</th>\n",
       "      <th>DistanceFromHome</th>\n",
       "      <th>Education</th>\n",
       "      <th>Gender</th>\n",
       "      <th>HourlyRate</th>\n",
       "      <th>JobInvolvement</th>\n",
       "      <th>JobRole</th>\n",
       "      <th>...</th>\n",
       "      <th>OverTime</th>\n",
       "      <th>PerformanceRating</th>\n",
       "      <th>RelationshipSatisfaction</th>\n",
       "      <th>StockOptionLevel</th>\n",
       "      <th>TotalWorkingYears</th>\n",
       "      <th>TrainingTimesLastYear</th>\n",
       "      <th>WorkLifeBalance</th>\n",
       "      <th>YearsAtCompany</th>\n",
       "      <th>YearsWithCurrManager</th>\n",
       "      <th>Low_Satisfaction</th>\n",
       "    </tr>\n",
       "  </thead>\n",
       "  <tbody>\n",
       "    <tr>\n",
       "      <th>0</th>\n",
       "      <td>41</td>\n",
       "      <td>Yes</td>\n",
       "      <td>Travel_Rarely</td>\n",
       "      <td>1102</td>\n",
       "      <td>1</td>\n",
       "      <td>2</td>\n",
       "      <td>Female</td>\n",
       "      <td>94</td>\n",
       "      <td>3</td>\n",
       "      <td>Sales Executive</td>\n",
       "      <td>...</td>\n",
       "      <td>Yes</td>\n",
       "      <td>3</td>\n",
       "      <td>1</td>\n",
       "      <td>0</td>\n",
       "      <td>8</td>\n",
       "      <td>0</td>\n",
       "      <td>1</td>\n",
       "      <td>6</td>\n",
       "      <td>5</td>\n",
       "      <td>0.0</td>\n",
       "    </tr>\n",
       "    <tr>\n",
       "      <th>1</th>\n",
       "      <td>49</td>\n",
       "      <td>No</td>\n",
       "      <td>Travel_Frequently</td>\n",
       "      <td>279</td>\n",
       "      <td>8</td>\n",
       "      <td>1</td>\n",
       "      <td>Male</td>\n",
       "      <td>61</td>\n",
       "      <td>2</td>\n",
       "      <td>Research Scientist</td>\n",
       "      <td>...</td>\n",
       "      <td>No</td>\n",
       "      <td>4</td>\n",
       "      <td>4</td>\n",
       "      <td>1</td>\n",
       "      <td>10</td>\n",
       "      <td>3</td>\n",
       "      <td>3</td>\n",
       "      <td>10</td>\n",
       "      <td>7</td>\n",
       "      <td>0.0</td>\n",
       "    </tr>\n",
       "    <tr>\n",
       "      <th>2</th>\n",
       "      <td>37</td>\n",
       "      <td>Yes</td>\n",
       "      <td>Travel_Rarely</td>\n",
       "      <td>1373</td>\n",
       "      <td>2</td>\n",
       "      <td>2</td>\n",
       "      <td>Male</td>\n",
       "      <td>92</td>\n",
       "      <td>2</td>\n",
       "      <td>Laboratory Technician</td>\n",
       "      <td>...</td>\n",
       "      <td>Yes</td>\n",
       "      <td>3</td>\n",
       "      <td>2</td>\n",
       "      <td>0</td>\n",
       "      <td>7</td>\n",
       "      <td>3</td>\n",
       "      <td>3</td>\n",
       "      <td>0</td>\n",
       "      <td>0</td>\n",
       "      <td>0.0</td>\n",
       "    </tr>\n",
       "    <tr>\n",
       "      <th>3</th>\n",
       "      <td>33</td>\n",
       "      <td>No</td>\n",
       "      <td>Travel_Frequently</td>\n",
       "      <td>1392</td>\n",
       "      <td>3</td>\n",
       "      <td>4</td>\n",
       "      <td>Female</td>\n",
       "      <td>56</td>\n",
       "      <td>3</td>\n",
       "      <td>Research Scientist</td>\n",
       "      <td>...</td>\n",
       "      <td>Yes</td>\n",
       "      <td>3</td>\n",
       "      <td>3</td>\n",
       "      <td>0</td>\n",
       "      <td>8</td>\n",
       "      <td>3</td>\n",
       "      <td>3</td>\n",
       "      <td>8</td>\n",
       "      <td>0</td>\n",
       "      <td>0.0</td>\n",
       "    </tr>\n",
       "    <tr>\n",
       "      <th>4</th>\n",
       "      <td>27</td>\n",
       "      <td>No</td>\n",
       "      <td>Travel_Rarely</td>\n",
       "      <td>591</td>\n",
       "      <td>2</td>\n",
       "      <td>1</td>\n",
       "      <td>Male</td>\n",
       "      <td>40</td>\n",
       "      <td>3</td>\n",
       "      <td>Laboratory Technician</td>\n",
       "      <td>...</td>\n",
       "      <td>No</td>\n",
       "      <td>3</td>\n",
       "      <td>4</td>\n",
       "      <td>1</td>\n",
       "      <td>6</td>\n",
       "      <td>3</td>\n",
       "      <td>3</td>\n",
       "      <td>2</td>\n",
       "      <td>2</td>\n",
       "      <td>1.0</td>\n",
       "    </tr>\n",
       "    <tr>\n",
       "      <th>...</th>\n",
       "      <td>...</td>\n",
       "      <td>...</td>\n",
       "      <td>...</td>\n",
       "      <td>...</td>\n",
       "      <td>...</td>\n",
       "      <td>...</td>\n",
       "      <td>...</td>\n",
       "      <td>...</td>\n",
       "      <td>...</td>\n",
       "      <td>...</td>\n",
       "      <td>...</td>\n",
       "      <td>...</td>\n",
       "      <td>...</td>\n",
       "      <td>...</td>\n",
       "      <td>...</td>\n",
       "      <td>...</td>\n",
       "      <td>...</td>\n",
       "      <td>...</td>\n",
       "      <td>...</td>\n",
       "      <td>...</td>\n",
       "      <td>...</td>\n",
       "    </tr>\n",
       "    <tr>\n",
       "      <th>1465</th>\n",
       "      <td>36</td>\n",
       "      <td>No</td>\n",
       "      <td>Travel_Frequently</td>\n",
       "      <td>884</td>\n",
       "      <td>23</td>\n",
       "      <td>2</td>\n",
       "      <td>Male</td>\n",
       "      <td>41</td>\n",
       "      <td>4</td>\n",
       "      <td>Laboratory Technician</td>\n",
       "      <td>...</td>\n",
       "      <td>No</td>\n",
       "      <td>3</td>\n",
       "      <td>3</td>\n",
       "      <td>1</td>\n",
       "      <td>17</td>\n",
       "      <td>3</td>\n",
       "      <td>3</td>\n",
       "      <td>5</td>\n",
       "      <td>3</td>\n",
       "      <td>0.0</td>\n",
       "    </tr>\n",
       "    <tr>\n",
       "      <th>1466</th>\n",
       "      <td>39</td>\n",
       "      <td>No</td>\n",
       "      <td>Travel_Rarely</td>\n",
       "      <td>613</td>\n",
       "      <td>6</td>\n",
       "      <td>1</td>\n",
       "      <td>Male</td>\n",
       "      <td>42</td>\n",
       "      <td>2</td>\n",
       "      <td>Healthcare Representative</td>\n",
       "      <td>...</td>\n",
       "      <td>No</td>\n",
       "      <td>3</td>\n",
       "      <td>1</td>\n",
       "      <td>1</td>\n",
       "      <td>9</td>\n",
       "      <td>5</td>\n",
       "      <td>3</td>\n",
       "      <td>7</td>\n",
       "      <td>7</td>\n",
       "      <td>0.0</td>\n",
       "    </tr>\n",
       "    <tr>\n",
       "      <th>1467</th>\n",
       "      <td>27</td>\n",
       "      <td>No</td>\n",
       "      <td>Travel_Rarely</td>\n",
       "      <td>155</td>\n",
       "      <td>4</td>\n",
       "      <td>3</td>\n",
       "      <td>Male</td>\n",
       "      <td>87</td>\n",
       "      <td>4</td>\n",
       "      <td>Manufacturing Director</td>\n",
       "      <td>...</td>\n",
       "      <td>Yes</td>\n",
       "      <td>4</td>\n",
       "      <td>2</td>\n",
       "      <td>1</td>\n",
       "      <td>6</td>\n",
       "      <td>0</td>\n",
       "      <td>3</td>\n",
       "      <td>6</td>\n",
       "      <td>3</td>\n",
       "      <td>0.0</td>\n",
       "    </tr>\n",
       "    <tr>\n",
       "      <th>1468</th>\n",
       "      <td>49</td>\n",
       "      <td>No</td>\n",
       "      <td>Travel_Frequently</td>\n",
       "      <td>1023</td>\n",
       "      <td>2</td>\n",
       "      <td>3</td>\n",
       "      <td>Male</td>\n",
       "      <td>63</td>\n",
       "      <td>2</td>\n",
       "      <td>Sales Executive</td>\n",
       "      <td>...</td>\n",
       "      <td>No</td>\n",
       "      <td>3</td>\n",
       "      <td>4</td>\n",
       "      <td>0</td>\n",
       "      <td>17</td>\n",
       "      <td>3</td>\n",
       "      <td>2</td>\n",
       "      <td>9</td>\n",
       "      <td>8</td>\n",
       "      <td>0.0</td>\n",
       "    </tr>\n",
       "    <tr>\n",
       "      <th>1469</th>\n",
       "      <td>34</td>\n",
       "      <td>No</td>\n",
       "      <td>Travel_Rarely</td>\n",
       "      <td>628</td>\n",
       "      <td>8</td>\n",
       "      <td>3</td>\n",
       "      <td>Male</td>\n",
       "      <td>82</td>\n",
       "      <td>4</td>\n",
       "      <td>Laboratory Technician</td>\n",
       "      <td>...</td>\n",
       "      <td>No</td>\n",
       "      <td>3</td>\n",
       "      <td>1</td>\n",
       "      <td>0</td>\n",
       "      <td>6</td>\n",
       "      <td>3</td>\n",
       "      <td>4</td>\n",
       "      <td>4</td>\n",
       "      <td>2</td>\n",
       "      <td>0.0</td>\n",
       "    </tr>\n",
       "  </tbody>\n",
       "</table>\n",
       "<p>1470 rows × 24 columns</p>\n",
       "</div>"
      ],
      "text/plain": [
       "      Age Attrition     BusinessTravel  DailyRate  DistanceFromHome  \\\n",
       "0      41       Yes      Travel_Rarely       1102                 1   \n",
       "1      49        No  Travel_Frequently        279                 8   \n",
       "2      37       Yes      Travel_Rarely       1373                 2   \n",
       "3      33        No  Travel_Frequently       1392                 3   \n",
       "4      27        No      Travel_Rarely        591                 2   \n",
       "...   ...       ...                ...        ...               ...   \n",
       "1465   36        No  Travel_Frequently        884                23   \n",
       "1466   39        No      Travel_Rarely        613                 6   \n",
       "1467   27        No      Travel_Rarely        155                 4   \n",
       "1468   49        No  Travel_Frequently       1023                 2   \n",
       "1469   34        No      Travel_Rarely        628                 8   \n",
       "\n",
       "      Education  Gender  HourlyRate  JobInvolvement  \\\n",
       "0             2  Female          94               3   \n",
       "1             1    Male          61               2   \n",
       "2             2    Male          92               2   \n",
       "3             4  Female          56               3   \n",
       "4             1    Male          40               3   \n",
       "...         ...     ...         ...             ...   \n",
       "1465          2    Male          41               4   \n",
       "1466          1    Male          42               2   \n",
       "1467          3    Male          87               4   \n",
       "1468          3    Male          63               2   \n",
       "1469          3    Male          82               4   \n",
       "\n",
       "                        JobRole  ...  OverTime PerformanceRating  \\\n",
       "0               Sales Executive  ...       Yes                 3   \n",
       "1            Research Scientist  ...        No                 4   \n",
       "2         Laboratory Technician  ...       Yes                 3   \n",
       "3            Research Scientist  ...       Yes                 3   \n",
       "4         Laboratory Technician  ...        No                 3   \n",
       "...                         ...  ...       ...               ...   \n",
       "1465      Laboratory Technician  ...        No                 3   \n",
       "1466  Healthcare Representative  ...        No                 3   \n",
       "1467     Manufacturing Director  ...       Yes                 4   \n",
       "1468            Sales Executive  ...        No                 3   \n",
       "1469      Laboratory Technician  ...        No                 3   \n",
       "\n",
       "      RelationshipSatisfaction  StockOptionLevel TotalWorkingYears  \\\n",
       "0                            1                 0                 8   \n",
       "1                            4                 1                10   \n",
       "2                            2                 0                 7   \n",
       "3                            3                 0                 8   \n",
       "4                            4                 1                 6   \n",
       "...                        ...               ...               ...   \n",
       "1465                         3                 1                17   \n",
       "1466                         1                 1                 9   \n",
       "1467                         2                 1                 6   \n",
       "1468                         4                 0                17   \n",
       "1469                         1                 0                 6   \n",
       "\n",
       "      TrainingTimesLastYear  WorkLifeBalance  YearsAtCompany  \\\n",
       "0                         0                1               6   \n",
       "1                         3                3              10   \n",
       "2                         3                3               0   \n",
       "3                         3                3               8   \n",
       "4                         3                3               2   \n",
       "...                     ...              ...             ...   \n",
       "1465                      3                3               5   \n",
       "1466                      5                3               7   \n",
       "1467                      0                3               6   \n",
       "1468                      3                2               9   \n",
       "1469                      3                4               4   \n",
       "\n",
       "      YearsWithCurrManager  Low_Satisfaction  \n",
       "0                        5               0.0  \n",
       "1                        7               0.0  \n",
       "2                        0               0.0  \n",
       "3                        0               0.0  \n",
       "4                        2               1.0  \n",
       "...                    ...               ...  \n",
       "1465                     3               0.0  \n",
       "1466                     7               0.0  \n",
       "1467                     3               0.0  \n",
       "1468                     8               0.0  \n",
       "1469                     2               0.0  \n",
       "\n",
       "[1470 rows x 24 columns]"
      ]
     },
     "execution_count": 101,
     "metadata": {},
     "output_type": "execute_result"
    }
   ],
   "source": [
    "# dataset\n",
    "df1 = pd.read_csv('hr_preprocessed_1470_24.csv', index_col = 0) # data 확인\n",
    "df1"
   ]
  },
  {
   "cell_type": "code",
   "execution_count": 102,
   "id": "18af13e2-6987-47df-9ac2-c81e26d65e4a",
   "metadata": {},
   "outputs": [
    {
     "name": "stdout",
     "output_type": "stream",
     "text": [
      "<class 'pandas.core.frame.DataFrame'>\n",
      "Int64Index: 1470 entries, 0 to 1469\n",
      "Data columns (total 24 columns):\n",
      " #   Column                    Non-Null Count  Dtype  \n",
      "---  ------                    --------------  -----  \n",
      " 0   Age                       1470 non-null   int64  \n",
      " 1   Attrition                 1470 non-null   object \n",
      " 2   BusinessTravel            1470 non-null   object \n",
      " 3   DailyRate                 1470 non-null   int64  \n",
      " 4   DistanceFromHome          1470 non-null   int64  \n",
      " 5   Education                 1470 non-null   int64  \n",
      " 6   Gender                    1470 non-null   object \n",
      " 7   HourlyRate                1470 non-null   int64  \n",
      " 8   JobInvolvement            1470 non-null   int64  \n",
      " 9   JobRole                   1470 non-null   object \n",
      " 10  JobSatisfaction           1470 non-null   int64  \n",
      " 11  MaritalStatus             1470 non-null   object \n",
      " 12  MonthlyIncome             1470 non-null   int64  \n",
      " 13  NumCompaniesWorked        1470 non-null   int64  \n",
      " 14  OverTime                  1470 non-null   object \n",
      " 15  PerformanceRating         1470 non-null   int64  \n",
      " 16  RelationshipSatisfaction  1470 non-null   int64  \n",
      " 17  StockOptionLevel          1470 non-null   int64  \n",
      " 18  TotalWorkingYears         1470 non-null   int64  \n",
      " 19  TrainingTimesLastYear     1470 non-null   int64  \n",
      " 20  WorkLifeBalance           1470 non-null   int64  \n",
      " 21  YearsAtCompany            1470 non-null   int64  \n",
      " 22  YearsWithCurrManager      1470 non-null   int64  \n",
      " 23  Low_Satisfaction          1470 non-null   float64\n",
      "dtypes: float64(1), int64(17), object(6)\n",
      "memory usage: 287.1+ KB\n"
     ]
    }
   ],
   "source": [
    "df1.info() # 불러온 데이터에 대해서 전반적으로 확인"
   ]
  },
  {
   "cell_type": "code",
   "execution_count": 103,
   "id": "d60b279f-2f15-4005-9348-114eabd8d025",
   "metadata": {},
   "outputs": [
    {
     "data": {
      "text/html": [
       "<div>\n",
       "<style scoped>\n",
       "    .dataframe tbody tr th:only-of-type {\n",
       "        vertical-align: middle;\n",
       "    }\n",
       "\n",
       "    .dataframe tbody tr th {\n",
       "        vertical-align: top;\n",
       "    }\n",
       "\n",
       "    .dataframe thead th {\n",
       "        text-align: right;\n",
       "    }\n",
       "</style>\n",
       "<table border=\"1\" class=\"dataframe\">\n",
       "  <thead>\n",
       "    <tr style=\"text-align: right;\">\n",
       "      <th></th>\n",
       "      <th>Age</th>\n",
       "      <th>DailyRate</th>\n",
       "      <th>DistanceFromHome</th>\n",
       "      <th>Education</th>\n",
       "      <th>HourlyRate</th>\n",
       "      <th>JobInvolvement</th>\n",
       "      <th>JobSatisfaction</th>\n",
       "      <th>MonthlyIncome</th>\n",
       "      <th>NumCompaniesWorked</th>\n",
       "      <th>PerformanceRating</th>\n",
       "      <th>RelationshipSatisfaction</th>\n",
       "      <th>StockOptionLevel</th>\n",
       "      <th>TotalWorkingYears</th>\n",
       "      <th>TrainingTimesLastYear</th>\n",
       "      <th>WorkLifeBalance</th>\n",
       "      <th>YearsAtCompany</th>\n",
       "      <th>YearsWithCurrManager</th>\n",
       "      <th>Low_Satisfaction</th>\n",
       "    </tr>\n",
       "  </thead>\n",
       "  <tbody>\n",
       "    <tr>\n",
       "      <th>count</th>\n",
       "      <td>1470.000000</td>\n",
       "      <td>1470.000000</td>\n",
       "      <td>1470.000000</td>\n",
       "      <td>1470.000000</td>\n",
       "      <td>1470.000000</td>\n",
       "      <td>1470.000000</td>\n",
       "      <td>1470.000000</td>\n",
       "      <td>1470.000000</td>\n",
       "      <td>1470.000000</td>\n",
       "      <td>1470.000000</td>\n",
       "      <td>1470.000000</td>\n",
       "      <td>1470.000000</td>\n",
       "      <td>1470.000000</td>\n",
       "      <td>1470.000000</td>\n",
       "      <td>1470.000000</td>\n",
       "      <td>1470.000000</td>\n",
       "      <td>1470.000000</td>\n",
       "      <td>1470.000000</td>\n",
       "    </tr>\n",
       "    <tr>\n",
       "      <th>mean</th>\n",
       "      <td>36.923810</td>\n",
       "      <td>802.485714</td>\n",
       "      <td>9.192517</td>\n",
       "      <td>2.912925</td>\n",
       "      <td>65.891156</td>\n",
       "      <td>2.729932</td>\n",
       "      <td>2.728571</td>\n",
       "      <td>6502.931293</td>\n",
       "      <td>2.693197</td>\n",
       "      <td>3.153741</td>\n",
       "      <td>2.712245</td>\n",
       "      <td>0.793878</td>\n",
       "      <td>11.279592</td>\n",
       "      <td>2.799320</td>\n",
       "      <td>2.761224</td>\n",
       "      <td>7.008163</td>\n",
       "      <td>4.123129</td>\n",
       "      <td>0.193197</td>\n",
       "    </tr>\n",
       "    <tr>\n",
       "      <th>std</th>\n",
       "      <td>9.135373</td>\n",
       "      <td>403.509100</td>\n",
       "      <td>8.106864</td>\n",
       "      <td>1.024165</td>\n",
       "      <td>20.329428</td>\n",
       "      <td>0.711561</td>\n",
       "      <td>1.102846</td>\n",
       "      <td>4707.956783</td>\n",
       "      <td>2.498009</td>\n",
       "      <td>0.360824</td>\n",
       "      <td>1.081209</td>\n",
       "      <td>0.852077</td>\n",
       "      <td>7.780782</td>\n",
       "      <td>1.289271</td>\n",
       "      <td>0.706476</td>\n",
       "      <td>6.126525</td>\n",
       "      <td>3.568136</td>\n",
       "      <td>0.394941</td>\n",
       "    </tr>\n",
       "    <tr>\n",
       "      <th>min</th>\n",
       "      <td>18.000000</td>\n",
       "      <td>102.000000</td>\n",
       "      <td>1.000000</td>\n",
       "      <td>1.000000</td>\n",
       "      <td>30.000000</td>\n",
       "      <td>1.000000</td>\n",
       "      <td>1.000000</td>\n",
       "      <td>1009.000000</td>\n",
       "      <td>0.000000</td>\n",
       "      <td>3.000000</td>\n",
       "      <td>1.000000</td>\n",
       "      <td>0.000000</td>\n",
       "      <td>0.000000</td>\n",
       "      <td>0.000000</td>\n",
       "      <td>1.000000</td>\n",
       "      <td>0.000000</td>\n",
       "      <td>0.000000</td>\n",
       "      <td>0.000000</td>\n",
       "    </tr>\n",
       "    <tr>\n",
       "      <th>25%</th>\n",
       "      <td>30.000000</td>\n",
       "      <td>465.000000</td>\n",
       "      <td>2.000000</td>\n",
       "      <td>2.000000</td>\n",
       "      <td>48.000000</td>\n",
       "      <td>2.000000</td>\n",
       "      <td>2.000000</td>\n",
       "      <td>2911.000000</td>\n",
       "      <td>1.000000</td>\n",
       "      <td>3.000000</td>\n",
       "      <td>2.000000</td>\n",
       "      <td>0.000000</td>\n",
       "      <td>6.000000</td>\n",
       "      <td>2.000000</td>\n",
       "      <td>2.000000</td>\n",
       "      <td>3.000000</td>\n",
       "      <td>2.000000</td>\n",
       "      <td>0.000000</td>\n",
       "    </tr>\n",
       "    <tr>\n",
       "      <th>50%</th>\n",
       "      <td>36.000000</td>\n",
       "      <td>802.000000</td>\n",
       "      <td>7.000000</td>\n",
       "      <td>3.000000</td>\n",
       "      <td>66.000000</td>\n",
       "      <td>3.000000</td>\n",
       "      <td>3.000000</td>\n",
       "      <td>4919.000000</td>\n",
       "      <td>2.000000</td>\n",
       "      <td>3.000000</td>\n",
       "      <td>3.000000</td>\n",
       "      <td>1.000000</td>\n",
       "      <td>10.000000</td>\n",
       "      <td>3.000000</td>\n",
       "      <td>3.000000</td>\n",
       "      <td>5.000000</td>\n",
       "      <td>3.000000</td>\n",
       "      <td>0.000000</td>\n",
       "    </tr>\n",
       "    <tr>\n",
       "      <th>75%</th>\n",
       "      <td>43.000000</td>\n",
       "      <td>1157.000000</td>\n",
       "      <td>14.000000</td>\n",
       "      <td>4.000000</td>\n",
       "      <td>83.750000</td>\n",
       "      <td>3.000000</td>\n",
       "      <td>4.000000</td>\n",
       "      <td>8379.000000</td>\n",
       "      <td>4.000000</td>\n",
       "      <td>3.000000</td>\n",
       "      <td>4.000000</td>\n",
       "      <td>1.000000</td>\n",
       "      <td>15.000000</td>\n",
       "      <td>3.000000</td>\n",
       "      <td>3.000000</td>\n",
       "      <td>9.000000</td>\n",
       "      <td>7.000000</td>\n",
       "      <td>0.000000</td>\n",
       "    </tr>\n",
       "    <tr>\n",
       "      <th>max</th>\n",
       "      <td>60.000000</td>\n",
       "      <td>1499.000000</td>\n",
       "      <td>29.000000</td>\n",
       "      <td>5.000000</td>\n",
       "      <td>100.000000</td>\n",
       "      <td>4.000000</td>\n",
       "      <td>4.000000</td>\n",
       "      <td>19999.000000</td>\n",
       "      <td>9.000000</td>\n",
       "      <td>4.000000</td>\n",
       "      <td>4.000000</td>\n",
       "      <td>3.000000</td>\n",
       "      <td>40.000000</td>\n",
       "      <td>6.000000</td>\n",
       "      <td>4.000000</td>\n",
       "      <td>40.000000</td>\n",
       "      <td>17.000000</td>\n",
       "      <td>1.000000</td>\n",
       "    </tr>\n",
       "  </tbody>\n",
       "</table>\n",
       "</div>"
      ],
      "text/plain": [
       "               Age    DailyRate  DistanceFromHome    Education   HourlyRate  \\\n",
       "count  1470.000000  1470.000000       1470.000000  1470.000000  1470.000000   \n",
       "mean     36.923810   802.485714          9.192517     2.912925    65.891156   \n",
       "std       9.135373   403.509100          8.106864     1.024165    20.329428   \n",
       "min      18.000000   102.000000          1.000000     1.000000    30.000000   \n",
       "25%      30.000000   465.000000          2.000000     2.000000    48.000000   \n",
       "50%      36.000000   802.000000          7.000000     3.000000    66.000000   \n",
       "75%      43.000000  1157.000000         14.000000     4.000000    83.750000   \n",
       "max      60.000000  1499.000000         29.000000     5.000000   100.000000   \n",
       "\n",
       "       JobInvolvement  JobSatisfaction  MonthlyIncome  NumCompaniesWorked  \\\n",
       "count     1470.000000      1470.000000    1470.000000         1470.000000   \n",
       "mean         2.729932         2.728571    6502.931293            2.693197   \n",
       "std          0.711561         1.102846    4707.956783            2.498009   \n",
       "min          1.000000         1.000000    1009.000000            0.000000   \n",
       "25%          2.000000         2.000000    2911.000000            1.000000   \n",
       "50%          3.000000         3.000000    4919.000000            2.000000   \n",
       "75%          3.000000         4.000000    8379.000000            4.000000   \n",
       "max          4.000000         4.000000   19999.000000            9.000000   \n",
       "\n",
       "       PerformanceRating  RelationshipSatisfaction  StockOptionLevel  \\\n",
       "count        1470.000000               1470.000000       1470.000000   \n",
       "mean            3.153741                  2.712245          0.793878   \n",
       "std             0.360824                  1.081209          0.852077   \n",
       "min             3.000000                  1.000000          0.000000   \n",
       "25%             3.000000                  2.000000          0.000000   \n",
       "50%             3.000000                  3.000000          1.000000   \n",
       "75%             3.000000                  4.000000          1.000000   \n",
       "max             4.000000                  4.000000          3.000000   \n",
       "\n",
       "       TotalWorkingYears  TrainingTimesLastYear  WorkLifeBalance  \\\n",
       "count        1470.000000            1470.000000      1470.000000   \n",
       "mean           11.279592               2.799320         2.761224   \n",
       "std             7.780782               1.289271         0.706476   \n",
       "min             0.000000               0.000000         1.000000   \n",
       "25%             6.000000               2.000000         2.000000   \n",
       "50%            10.000000               3.000000         3.000000   \n",
       "75%            15.000000               3.000000         3.000000   \n",
       "max            40.000000               6.000000         4.000000   \n",
       "\n",
       "       YearsAtCompany  YearsWithCurrManager  Low_Satisfaction  \n",
       "count     1470.000000           1470.000000       1470.000000  \n",
       "mean         7.008163              4.123129          0.193197  \n",
       "std          6.126525              3.568136          0.394941  \n",
       "min          0.000000              0.000000          0.000000  \n",
       "25%          3.000000              2.000000          0.000000  \n",
       "50%          5.000000              3.000000          0.000000  \n",
       "75%          9.000000              7.000000          0.000000  \n",
       "max         40.000000             17.000000          1.000000  "
      ]
     },
     "execution_count": 103,
     "metadata": {},
     "output_type": "execute_result"
    }
   ],
   "source": [
    "# 위에서 int형 data들이 가지고 있는 기초 통계량 확인\n",
    "df1.describe()"
   ]
  },
  {
   "cell_type": "code",
   "execution_count": 104,
   "id": "4befc15b-7f18-4772-a59f-c61021d28e43",
   "metadata": {},
   "outputs": [
    {
     "data": {
      "text/plain": [
       "Age                         0\n",
       "Attrition                   0\n",
       "BusinessTravel              0\n",
       "DailyRate                   0\n",
       "DistanceFromHome            0\n",
       "Education                   0\n",
       "Gender                      0\n",
       "HourlyRate                  0\n",
       "JobInvolvement              0\n",
       "JobRole                     0\n",
       "JobSatisfaction             0\n",
       "MaritalStatus               0\n",
       "MonthlyIncome               0\n",
       "NumCompaniesWorked          0\n",
       "OverTime                    0\n",
       "PerformanceRating           0\n",
       "RelationshipSatisfaction    0\n",
       "StockOptionLevel            0\n",
       "TotalWorkingYears           0\n",
       "TrainingTimesLastYear       0\n",
       "WorkLifeBalance             0\n",
       "YearsAtCompany              0\n",
       "YearsWithCurrManager        0\n",
       "Low_Satisfaction            0\n",
       "dtype: int64"
      ]
     },
     "execution_count": 104,
     "metadata": {},
     "output_type": "execute_result"
    }
   ],
   "source": [
    "# 빈 데이터 (결측치 확인)\n",
    "df1.isnull().sum(axis = 0) # 행에 대해서 싫애"
   ]
  },
  {
   "cell_type": "markdown",
   "id": "1f03b30e-c8aa-48b7-85d8-917e29b8d7c3",
   "metadata": {},
   "source": [
    "#### target 변수/feature 변수 preprocessing \n",
    "* 데이터 가공"
   ]
  },
  {
   "cell_type": "code",
   "execution_count": 112,
   "id": "18dda6bb-77f7-409a-bc80-56fc2212f96d",
   "metadata": {},
   "outputs": [],
   "source": [
    "from sklearn import preprocessing\n",
    "label_encoder = preprocessing.LabelEncoder()\n",
    "catColumns = df1.select_dtypes(['object']).columns # 문자형 데이터를 가지고 있는 columns \n",
    "for col in catColumns:\n",
    "    n = len(df1[col].unique()) # 매개변수들의 대답의 개수 확인\n",
    "    if (n > 2): # 매개변수의 대답이 2개 이상이 되면 실행\n",
    "        X = pd.get_dummies(df1[col]) # \n",
    "        X = X.drop(X.columns[0], axis=1)\n",
    "        df1[X.columns] = X\n",
    "        df1.drop(col, axis=1, inplace=True)  # drop the original categorical variable (optional)\n",
    "    else:\n",
    "        label_encoder.fit(df1[col]) # 2개인 데이터는 0과 1로 나눠서 사용하겠다.\n",
    "        df1[col] = label_encoder.transform(df1[col]) # "
   ]
  },
  {
   "cell_type": "code",
   "execution_count": 113,
   "id": "b5ef672d-2d16-46bc-98e9-e78f88f57e51",
   "metadata": {},
   "outputs": [
    {
     "data": {
      "text/plain": [
       "Index([], dtype='object')"
      ]
     },
     "execution_count": 113,
     "metadata": {},
     "output_type": "execute_result"
    }
   ],
   "source": [
    "catColumns"
   ]
  },
  {
   "cell_type": "code",
   "execution_count": 114,
   "id": "8e1edb5e-13f3-4cc6-a2cf-4d0573462bf1",
   "metadata": {},
   "outputs": [
    {
     "name": "stdout",
     "output_type": "stream",
     "text": [
      "<class 'pandas.core.frame.DataFrame'>\n",
      "Int64Index: 1470 entries, 0 to 1469\n",
      "Data columns (total 33 columns):\n",
      " #   Column                    Non-Null Count  Dtype  \n",
      "---  ------                    --------------  -----  \n",
      " 0   Age                       1470 non-null   int64  \n",
      " 1   Attrition                 1470 non-null   int32  \n",
      " 2   DailyRate                 1470 non-null   int64  \n",
      " 3   DistanceFromHome          1470 non-null   int64  \n",
      " 4   Education                 1470 non-null   int64  \n",
      " 5   Gender                    1470 non-null   int32  \n",
      " 6   HourlyRate                1470 non-null   int64  \n",
      " 7   JobInvolvement            1470 non-null   int64  \n",
      " 8   JobSatisfaction           1470 non-null   int64  \n",
      " 9   MonthlyIncome             1470 non-null   int64  \n",
      " 10  NumCompaniesWorked        1470 non-null   int64  \n",
      " 11  OverTime                  1470 non-null   int32  \n",
      " 12  PerformanceRating         1470 non-null   int64  \n",
      " 13  RelationshipSatisfaction  1470 non-null   int64  \n",
      " 14  StockOptionLevel          1470 non-null   int64  \n",
      " 15  TotalWorkingYears         1470 non-null   int64  \n",
      " 16  TrainingTimesLastYear     1470 non-null   int64  \n",
      " 17  WorkLifeBalance           1470 non-null   int64  \n",
      " 18  YearsAtCompany            1470 non-null   int64  \n",
      " 19  YearsWithCurrManager      1470 non-null   int64  \n",
      " 20  Low_Satisfaction          1470 non-null   float64\n",
      " 21  Travel_Frequently         1470 non-null   uint8  \n",
      " 22  Travel_Rarely             1470 non-null   uint8  \n",
      " 23  Human Resources           1470 non-null   uint8  \n",
      " 24  Laboratory Technician     1470 non-null   uint8  \n",
      " 25  Manager                   1470 non-null   uint8  \n",
      " 26  Manufacturing Director    1470 non-null   uint8  \n",
      " 27  Research Director         1470 non-null   uint8  \n",
      " 28  Research Scientist        1470 non-null   uint8  \n",
      " 29  Sales Executive           1470 non-null   uint8  \n",
      " 30  Sales Representative      1470 non-null   uint8  \n",
      " 31  Married                   1470 non-null   uint8  \n",
      " 32  Single                    1470 non-null   uint8  \n",
      "dtypes: float64(1), int32(3), int64(17), uint8(12)\n",
      "memory usage: 252.7 KB\n"
     ]
    }
   ],
   "source": [
    "df1.info() # dtype = 'object' 인것을 사용 X -> 위에서 처리함."
   ]
  },
  {
   "cell_type": "markdown",
   "id": "3a9c2864-fea1-4311-9998-e7ec8c2b3d40",
   "metadata": {},
   "source": [
    "#### Train/Test Split\n",
    "* data 자료 분리"
   ]
  },
  {
   "cell_type": "code",
   "execution_count": 117,
   "id": "151652f1-afe7-4652-907d-559b8a516409",
   "metadata": {},
   "outputs": [
    {
     "data": {
      "text/plain": [
       "0       1\n",
       "1       0\n",
       "2       1\n",
       "3       0\n",
       "4       0\n",
       "       ..\n",
       "1465    0\n",
       "1466    0\n",
       "1467    0\n",
       "1468    0\n",
       "1469    0\n",
       "Name: Attrition, Length: 1470, dtype: int32"
      ]
     },
     "execution_count": 117,
     "metadata": {},
     "output_type": "execute_result"
    }
   ],
   "source": [
    "# Attrition \n",
    "features = df1.drop('Attrition', axis = 1)\n",
    "labels = df1['Attrition']\n",
    "#features # X 값\n",
    "labels"
   ]
  },
  {
   "cell_type": "code",
   "execution_count": 119,
   "id": "301ca14b-0078-4974-abbc-d23665ef9bf8",
   "metadata": {},
   "outputs": [
    {
     "name": "stdout",
     "output_type": "stream",
     "text": [
      "(1029, 32)\n",
      "(441, 32)\n",
      "(1029,)\n",
      "(441,)\n"
     ]
    },
    {
     "data": {
      "text/plain": [
       "721     0\n",
       "843     0\n",
       "627     0\n",
       "1368    0\n",
       "305     0\n",
       "Name: Attrition, dtype: int32"
      ]
     },
     "execution_count": 119,
     "metadata": {},
     "output_type": "execute_result"
    }
   ],
   "source": [
    "# train과 test 데이터 간 데이터를 분류 총 1470개에서 test가 30%정도로 설정. rad\n",
    "X_train, X_test, y_train, y_test = train_test_split(features, labels, test_size = 0.3, random_state = 1)\n",
    "print(X_train.shape)\n",
    "print(X_test.shape)\n",
    "print(y_train.shape)\n",
    "print(y_test.shape)"
   ]
  },
  {
   "cell_type": "markdown",
   "id": "8d1b6036-0d20-494c-b883-a1bccaa93d02",
   "metadata": {},
   "source": [
    "#### Model Creation/fit"
   ]
  },
  {
   "cell_type": "code",
   "execution_count": 178,
   "id": "e4a608fe-7415-4494-8d37-8dcd01f0363c",
   "metadata": {},
   "outputs": [],
   "source": [
    "# 임의의 parameter\n",
    "# point1: 파라미터를 바꾸어가면서 성능 변화 관찰이 필요\n",
    "# \n",
    "model_dt = DecisionTreeClassifier(criterion = 'entropy', \n",
    "                                 max_depth = 9,\n",
    "                                 min_samples_leaf = 4,\n",
    "                                 min_samples_split = 2 # 최소 = 2\n",
    "                                 )\n",
    "#12 min_samples 높이면 더 높은 위치에 멈춘다. 마지막 위치에 대한 양르 말함."
   ]
  },
  {
   "cell_type": "code",
   "execution_count": 179,
   "id": "a2994c1e-83b9-4829-ba53-853cf21e7240",
   "metadata": {},
   "outputs": [
    {
     "data": {
      "text/plain": [
       "DecisionTreeClassifier(criterion='entropy', max_depth=9, min_samples_leaf=4)"
      ]
     },
     "execution_count": 179,
     "metadata": {},
     "output_type": "execute_result"
    }
   ],
   "source": [
    "model_dt.fit(X_train, y_train) # 생성한 모델 확인"
   ]
  },
  {
   "cell_type": "code",
   "execution_count": 180,
   "id": "4fdb497c-3cf3-4998-8bf0-5117dad88d65",
   "metadata": {},
   "outputs": [
    {
     "name": "stdout",
     "output_type": "stream",
     "text": [
      "학습용 데이터의 정확도 : 0.935\n",
      "평가용 데이터의 정확도 : 0.814\n"
     ]
    }
   ],
   "source": [
    "# 데이터 정확도\n",
    "print(\"학습용 데이터의 정확도 : {:.3f}\".format(model_dt.score(X_train, y_train)))\n",
    "print(\"평가용 데이터의 정확도 : {:.3f}\".format(model_dt.score(X_test, y_test)))"
   ]
  },
  {
   "cell_type": "markdown",
   "id": "eb10d74e-026c-4443-bf2b-65187d4acf79",
   "metadata": {},
   "source": [
    "#### 모델 파라미터 조정 - manual search\n",
    "* max_depth : 최대 깊이 변경에 따른 모델 성능"
   ]
  },
  {
   "cell_type": "code",
   "execution_count": 138,
   "id": "d12a4d88-850a-4f2a-af6d-244b15fb7966",
   "metadata": {},
   "outputs": [],
   "source": [
    "# train 및 test 정확도 결과 저장용\n",
    "train_accuracy = []; test_accuracy = []\n",
    "# max_depth: 최대 깊이 변경\n",
    "para_depth = [depth for depth in range(1, 11)]\n",
    "for v_max_depth in para_depth:\n",
    "    tree = DecisionTreeClassifier(max_depth = v_max_depth, random_state=1234)\n",
    "    tree.fit(X_train, y_train)\n",
    "    train_accuracy.append(tree.score(X_train, y_train))\n",
    "    test_accuracy.append(tree.score(X_test,y_test))\n",
    "# 데이터 테이블로 저장\n",
    "df_accuracy_depth = pd.DataFrame()\n",
    "df_accuracy_depth[\"Depth\"] = para_depth\n",
    "df_accuracy_depth[\"TrainAccuracy\"] = train_accuracy\n",
    "df_accuracy_depth[\"TestAccuracy\"] = test_accuracy"
   ]
  },
  {
   "cell_type": "code",
   "execution_count": 182,
   "id": "6ae0721d-d98b-40d0-8896-dc2ba96890d1",
   "metadata": {},
   "outputs": [
    {
     "data": {
      "text/plain": [
       "<matplotlib.legend.Legend at 0x21db3b28d60>"
      ]
     },
     "execution_count": 182,
     "metadata": {},
     "output_type": "execute_result"
    },
    {
     "data": {
      "image/png": "[encoded data removed]",
      "text/plain": [
       "<Figure size 432x288 with 1 Axes>"
      ]
     },
     "metadata": {
      "needs_background": "light"
     },
     "output_type": "display_data"
    }
   ],
   "source": [
    "# 모델 정확도 확인\n",
    "df_accuracy_depth.round(3)\n",
    "# 모델 정확도 그래프 확인\n",
    "plt.plot(para_depth, train_accuracy, linestyle = \"-\", label = \"Train Accuracy\")\n",
    "plt.plot(para_depth, test_accuracy, linestyle = \"--\", label = \"Test Accuracy\")\n",
    "plt.legend()"
   ]
  },
  {
   "cell_type": "markdown",
   "id": "2797253b-4da8-444d-955b-9828bc8318a8",
   "metadata": {},
   "source": [
    "#### GridSearchCV를 활용한 파라미터 "
   ]
  },
  {
   "cell_type": "code",
   "execution_count": 183,
   "id": "d158a130-8b45-407a-9158-58646345b521",
   "metadata": {},
   "outputs": [
    {
     "name": "stdout",
     "output_type": "stream",
     "text": [
      "best estimator model: \n",
      "DecisionTreeClassifier(max_depth=4, min_samples_leaf=2)\n",
      "\n",
      "best parameter: \n",
      "{'max_depth': 4, 'min_samples_leaf': 2, 'min_samples_split': 2}\n",
      "\n",
      "best score: \n",
      "0.847\n"
     ]
    }
   ],
   "source": [
    "estimator = DecisionTreeClassifier()\n",
    "\n",
    "# 구하고자 하는 parameter와 범위\n",
    "param_list = {\"max_depth\": para_depth, \"min_samples_split\": [2,3,4,5,6,7],\n",
    "\"min_samples_leaf\": [2,3,4,5,6,7]}\n",
    "\n",
    "    # 위의 manual search 에서 para_depth의 범위 지정해주었기 때문에 그대로 변수로 넣을 수 있음\n",
    "    # 나머지 parameter들은 임의로 범위를 지정하고 다양한 버전의 gridsearch 돌려볼 수 있음\n",
    "\n",
    "# 정확도가 높은 최적 parameter 찾기\n",
    "grid_dt = GridSearchCV(estimator, param_list, scoring=\"accuracy\", n_jobs = -1)\n",
    "grid_dt.fit(X_train, y_train)\n",
    "print(\"best estimator model: \\n{}\".format(grid_dt.best_estimator_))\n",
    "print(\"\\nbest parameter: \\n{}\".format(grid_dt.best_params_))\n",
    "print(\"\\nbest score: \\n{}\".format(grid_dt.best_score_.round(3)))"
   ]
  },
  {
   "cell_type": "markdown",
   "id": "5770e11f-22bc-4886-8576-815afc6ada4c",
   "metadata": {},
   "source": [
    "#### Socre (Accuracy)\n",
    "* 정확도 측정"
   ]
  },
  {
   "cell_type": "code",
   "execution_count": 184,
   "id": "582af933-668a-4eed-a118-446640ed3919",
   "metadata": {},
   "outputs": [
    {
     "name": "stdout",
     "output_type": "stream",
     "text": [
      "학습용 데이터의 정확도 : 0.935\n",
      "평가용 데이터의 정확도 : 0.814\n"
     ]
    }
   ],
   "source": [
    "# 데이터 정확도\n",
    "print(\"학습용 데이터의 정확도 : {:.3f}\".format(model_dt.score(X_train, y_train)))\n",
    "print(\"평가용 데이터의 정확도 : {:.3f}\".format(model_dt.score(X_test, y_test)))"
   ]
  },
  {
   "cell_type": "markdown",
   "id": "d6b84fbf-b6be-4292-8741-6d28565d9589",
   "metadata": {},
   "source": [
    "#### Classification Report"
   ]
  },
  {
   "cell_type": "code",
   "execution_count": 181,
   "id": "e433c280-9d95-4769-8ad1-2d8b960b4a4a",
   "metadata": {},
   "outputs": [
    {
     "name": "stdout",
     "output_type": "stream",
     "text": [
      "              precision    recall  f1-score   support\n",
      "\n",
      "           0       0.95      0.98      0.96       863\n",
      "           1       0.85      0.72      0.78       166\n",
      "\n",
      "    accuracy                           0.93      1029\n",
      "   macro avg       0.90      0.85      0.87      1029\n",
      "weighted avg       0.93      0.93      0.93      1029\n",
      "\n",
      "              precision    recall  f1-score   support\n",
      "\n",
      "           0       0.87      0.91      0.89       370\n",
      "           1       0.40      0.30      0.34        71\n",
      "\n",
      "    accuracy                           0.81       441\n",
      "   macro avg       0.63      0.60      0.62       441\n",
      "weighted avg       0.79      0.81      0.80       441\n",
      "\n"
     ]
    }
   ],
   "source": [
    "y_train_pred = model_dt.predict(X_train)\n",
    "y_test_pred = model_dt.predict(X_test)\n",
    "print(classification_report(y_train, y_train_pred)) # train 결과  \n",
    "print(classification_report(y_test, y_test_pred)) # test 결과 "
   ]
  },
  {
   "cell_type": "markdown",
   "id": "f035e2a8-8994-4146-a156-00e9cd51aa79",
   "metadata": {},
   "source": [
    "### 문제 풀이 2. Logistic Regression"
   ]
  },
  {
   "cell_type": "code",
   "execution_count": 65,
   "id": "3b98d0ab-2036-4f08-9ba1-8e5ff0943316",
   "metadata": {},
   "outputs": [
    {
     "name": "stdout",
     "output_type": "stream",
     "text": [
      "best estimator model: \n",
      "DecisionTreeClassifier(max_depth=1, min_samples_leaf=2)\n",
      "\n",
      "best parameter: \n",
      "{'max_depth': 1, 'min_samples_leaf': 2, 'min_samples_split': 2}\n",
      "\n",
      "best score: \n",
      "0.845\n"
     ]
    }
   ],
   "source": [
    "estimator = DecisionTreeClassifier()\n",
    "\n",
    "# 구하고자 하는 parameter와 범위\n",
    "param_list = {\"max_depth\": para_depth, \"min_samples_split\": [2,3,4,5],\n",
    "\"min_samples_leaf\": [2,3,4,5]}\n",
    "\n",
    "    # 위의 manual search 에서 para_depth의 범위 지정해주었기 때문에 그대로 변수로 넣을 수 있음\n",
    "    # 나머지 parameter들은 임의로 범위를 지정하고 다양한 버전의 gridsearch 돌려볼 수 있음\n",
    "\n",
    "# 정확도가 높은 최적 parameter 찾기\n",
    "grid_dt = GridSearchCV(estimator, param_list, scoring=\"accuracy\", n_jobs = -1)\n",
    "grid_dt.fit(X_train, y_train)\n",
    "print(\"best estimator model: \\n{}\".format(grid_dt.best_estimator_))\n",
    "print(\"\\nbest parameter: \\n{}\".format(grid_dt.best_params_))\n",
    "print(\"\\nbest score: \\n{}\".format(grid_dt.best_score_.round(3)))"
   ]
  },
  {
   "cell_type": "markdown",
   "id": "0d820040-93b7-47e3-981f-934c3ee79300",
   "metadata": {},
   "source": [
    "## 관련이론"
   ]
  },
  {
   "cell_type": "markdown",
   "id": "1c6e53df-a6bd-4206-97e6-67c808d25521",
   "metadata": {},
   "source": [
    "### 데이터의 유형\n",
    "* 연속형 - 나누어질 수 있고, 연속적으로 측정할 수 있는것.  \n",
    "    ex) 제품의 무게, 방의 온도 등(측정 단위가 존재)\n",
    "* 이산형(범주형) - 나누어질 수 없고, 발생 빈도를 세이서 산출  \n",
    "    ex) 적합/부적합, 1등급/2등급/3등급 등 (분류가 가능)\n",
    "    "
   ]
  },
  {
   "cell_type": "markdown",
   "id": "a2aaf82d-e6a0-414d-90b4-13235301cdaa",
   "metadata": {},
   "source": [
    "#### 연속형 Data (pass)\n",
    "* 등간척도 \n",
    "* 비율척도"
   ]
  },
  {
   "cell_type": "markdown",
   "id": "d5c42fba-d21d-4118-ba7b-cfad4ad65da1",
   "metadata": {},
   "source": [
    "#### 이산형 Data - data에 따른 순서적 나열이 X\n",
    "* 명목척도\n",
    "    * 관찰대상의 속성에 따라 대상을 상호배타적, 포괄적인 범주로 구분.\n",
    "    * 변수간 사칙연산 의미 X\n",
    "    * 성별(남,여), 품질(양질, 불량) -> 양질 + 불량 = ??(의미X)\n",
    "* 순위척도\n",
    "    * 관찰대상의 속성 크기에 따라서 대상의 순위 및 서열 부여.\n",
    "    * ex) 1/2/3등급, 만족도(5,4,3,2,1)\n",
    "    ---\n"
   ]
  },
  {
   "cell_type": "markdown",
   "id": "41701975-3e92-4caf-b412-e58e7f2bd0b2",
   "metadata": {},
   "source": [
    "### Machine - learing / Modeling\n",
    "* Data간 관계(규칙)를 탐색해 변수들간의 관련성을 찾아서 모형화(수학적 함수)를 통해서 유용한 지식 추출\n"
   ]
  },
  {
   "cell_type": "markdown",
   "id": "31f0a549-8e4c-49d9-ba34-0289afb66953",
   "metadata": {},
   "source": [
    "#### Supervised - 지도학습\n",
    "* 직접 정답 데이터를 줘서 학습\n",
    "* 입력 x에 대한 label y를 달아 놓은 Data를 이용해 modeling\n",
    "* `(Regression) - 회귀` : 주어진 Data에 근거하여 모델을 설계하고 새로운 data에 대해서 예측\n",
    "* `(Classification) - 분류` : (참/거짓)과 같이 일련의 범주가 사전에 분류되어 있고 특정한 Case가 어디에 있는지 결정  \n",
    "![image](https://qph.fs.quoracdn.net/main-qimg-37d126042d314752b8642f742d0bc109)"
   ]
  },
  {
   "cell_type": "markdown",
   "id": "6111cde9-87bc-4f0b-9959-13eb65b15d1a",
   "metadata": {},
   "source": [
    "#### Unsupervise - 비지도학습\n",
    "* 정답 데이터를 받지 않고, 컴퓨터가 스스로 학습\n",
    "* label y 없이 Data y만 이용해여 modeling\n",
    "* Clustering(군집) - 여러 속성의 data를 비교하여 유사한 속성을 갖는 Data를 함께 그룹화시키는 것. (Ex.고객 세분화) \n",
    "* 연관분석 - 한 패턴의 출현이 다른 패턴의 출현을 암시하는 속성이나 특정항목간의 관계를 나타냄.\n",
    "<div>\n",
    "<img src=\"https://miro.medium.com/max/2636/1*iOPVU49imNwtZGT9dSP3JQ.jpeg\" width=\"500\"/>\n",
    "</div>\n",
    "이미지는 이차원에 대해서지만, 실제로는 고차원에 대해서 분류됨.\n",
    "---"
   ]
  },
  {
   "cell_type": "markdown",
   "id": "2bcbf24c-5bb6-4fdb-9567-623ddb188ada",
   "metadata": {},
   "source": [
    "### 변수\n",
    "* 종속 변수 - 우리가 예측하고자 하는 Column (label, y값)\n",
    "* 독립 변수 - 각 특성을 나타내는 Column (Feature, x값)\n",
    "---"
   ]
  },
  {
   "cell_type": "markdown",
   "id": "0bb29db3-e476-4454-9c3b-34b6d7eee02d",
   "metadata": {},
   "source": [
    "### 모델 설계(어떤 문제를 풀고 있는가?)\n",
    "* 가지고 있는 데이터에 독립변수와 종속변수가 있고, 종속변수가 `숫자`일때 `regression(회귀)`\n",
    "* 가지고 있는 데이터에 독립변수와 종속변수가 있고, 종속변수가 `이름(이산형데이터)`일때 `classification(분류)`를 이용\n",
    "---"
   ]
  },
  {
   "cell_type": "markdown",
   "id": "cf3cc3f3-832c-4e9a-91a9-2b7365772c5b",
   "metadata": {},
   "source": [
    "#### 분류 분석\n",
    "* `로지스틱 회귀분석` - 밑에 있음.\n",
    "* `의사결정나무` - 분류함수를 의사결정 규칙들로 이루어진 나무의 형태로 그리는 방법(연속적인 top-down)\n",
    "* `앙상블`\n",
    "* `지지벡터-머신(Supporting Vector machine`\n",
    "* `K-nearest` - \"오리처럼 걷고, 오리처럼 꽥꽥거리고, 오리처럼 보인다면, 아마 오리일것이다.\""
   ]
  },
  {
   "cell_type": "markdown",
   "id": "39786f04-007f-4c19-8fea-0be26c017096",
   "metadata": {},
   "source": [
    "#### 의사결정나무(Decision Tree Classifier)\n",
    "<div>\n",
    "<img src=\"https://thebook.io/img/006723/480.jpg\" width=\"500\"/>\n",
    "</div>  \n",
    "\n",
    "* 목표변수에 영향을 주는 설명 변수 탐색 -> 설명변수의 최적 분리기준을 제시(But not perfect -> 실제 데이터이므로)\n",
    "    * 문제에 대한 예시, 퇴사율이 근무시간이 늘어날 수록 높아지면 근무시간이 분리기준이 될 수 있다.\n",
    "* 구조가 단순한 장점.\n",
    "* 과접합(Overfitting)을 방지를 위해 가지치기.\n",
    "* 다양한 파라미터"
   ]
  },
  {
   "cell_type": "markdown",
   "id": "1f1b2d9d-ba90-42d8-aa41-502ce4ebaaa4",
   "metadata": {},
   "source": [
    "### 결과 확인\n",
    "* 학습된 모델의 정확성에 대한 판단.\n",
    "* Hold out : 데이터를 랜덤하게 Train과 test로 나눠서 Train으로 학습하고 Test으로 모델 검증\n",
    "$(100x = 70(x_{train}) + 30(x_{test})$\n",
    "* k-Flod CV(Cross Validation) : \n",
    "\n",
    "#### 분류모델의 평가\n",
    "* 모델의 분류 레이블과 실제 레이블간의 정/오분류를 계산하여 모델의 분류 성능 평가  \n",
    "|예상|실제|분류|\n",
    "|:----|:--:|:--:|\n",
    "|퇴사|퇴사|정분류|\n",
    "|퇴사|근무|오분류|\n",
    "|근무|퇴사|오분류|\n",
    "|근무|근무|정분류|\n",
    "* Accuracy \n",
    "$$\\frac{(정분류)}{총합(정분류 + 오분류)} $$\n",
    "* F1-score\n",
    "    * 실무에서 사용\n",
    "    * 실제로 데이터의 비율이 많이 틀어져 있음. \n",
    "    * 세세하게 볼 필요가 있음.\n",
    "* 다중 공선성\n",
    "    * 독립변수(x) 간에 강력한 상관관계(나이, 경력)가 존재하는 경우\n",
    "    * 이를 해결하기 위해서 하나만 사용하거나 새로운 변수로 2가지를 모두 대표하는 변수를 선언해서 \n",
    "    * 다름 Model 선택"
   ]
  },
  {
   "cell_type": "markdown",
   "id": "5fead6f5-2ed8-4152-9f0a-7f518dfddfa9",
   "metadata": {},
   "source": [
    "## 추가조사 자료"
   ]
  },
  {
   "cell_type": "markdown",
   "id": "e3e65d33-ce0e-462a-be40-f2cf4f883b7e",
   "metadata": {},
   "source": [
    "### 이진 분류\n",
    "- 이진 분류 알고리즘(아래로 갈수록 발전)\n",
    "    * `퍼셉트론(Perceptron)` \n",
    "        * 선형함수 -> unit step function(계단함수)방식, 계단함수의 결과를 사용해 가중치를 업데이트함.\n",
    "    * `아달린(Adalin)` \n",
    "        * 선형함수 -> unit step function(계단함수)방식, 선형함수의 결과를 사용해 가중치를 업데이트함.\n",
    "    * `로지스틱 회귀(Logistic Regression)`\n",
    "        * 선형함수 -> 활성화함수 -> 임계함수방식, 활성화함수의 결과를 사용해 가중치를 업데이트함."
   ]
  },
  {
   "cell_type": "markdown",
   "id": "e0addad8-a09e-44a4-b7d1-e514f6cda27e",
   "metadata": {},
   "source": [
    "#### 로지스틱 회귀\n",
    "* 선형함수를 통과시켜 얻은 Z값을 임계함수에 보내기 전에 변형.\n",
    "* 변형시키는 함수 - 활성화 함수 : 시그모이드 함수 사용\n",
    "* `Sigmoid 함수` 식\n",
    "$$\n",
    "y = H(x) = \\frac{1}{1+e^{-ax}}\n",
    "$$  \n",
    "\n",
    "![로지스틱 함수 그래프](http://i.imgur.com/E0eI8OU.png)    \n",
    "위 그래프에서 y = 0.5를 기준으로 작으면 = 0, 크면 = 1의 값을 반환"
   ]
  },
  {
   "cell_type": "markdown",
   "id": "995fdfe7-3320-4380-8de3-cdc80ad37536",
   "metadata": {},
   "source": [
    "#### Cost\n",
    "* 이진 분류 모델의 경우는 결과는 무조건 0 or 1이 나오므로 오차를 측정하기 어렵다.\n",
    "* 정담이 1인데 이것이 0.6이여서 1인지, 0.9여서 인지 아니면 정답인 1인 나온건지 판단이 어렵다.\n",
    "* 이를 해결하기 위해서 `Binary Croos Entropy(BCE)`를 사용한다.  \n",
    "식은 아래와 같다.\n",
    "$$\n",
    "-[y_{train}log(y_{hypo}) + (1 - y_{train})log(1-y_{hypo}]  \n",
    "$$  \n",
    "![그림 자료](https://sparrow.dev/wp-content/uploads/2021/03/binary-cross-entropy-terms.png)    \n",
    "\n",
    "위 그림을 보면,  \n",
    "정답(y == 1)이라고 하면, 우변은 0이 되고 좌변만 남겨지고 해당 경우는 왼쪽의 경우이다.\n",
    "이 경우는 0일수록 정답이 아니므로 해당 오차가 점차 증가하도록 하는 방법이다.(예상결과가 1일수록 오차가 감소.)  \n",
    "\n",
    "정답(y == 0)이라고 하면, 좌변이 0이 되고 좌변만 남겨지고 해당 경우는 오른쪽의 경우이다.\n",
    "이 경우는 1일수록 정답이 아니므로 해당 오차가 점차 증가하도록 하는 방법이다.(예상결과가 0일수록 오차가 감소.)"
   ]
  }
 ],
 "metadata": {
  "kernelspec": {
   "display_name": "Python 3 (ipykernel)",
   "language": "python",
   "name": "python3"
  },
  "language_info": {
   "codemirror_mode": {
    "name": "ipython",
    "version": 3
   },
   "file_extension": ".py",
   "mimetype": "text/x-python",
   "name": "python",
   "nbconvert_exporter": "python",
   "pygments_lexer": "ipython3",
   "version": "3.9.12"
  }
 },
 "nbformat": 4,
 "nbformat_minor": 5
}
