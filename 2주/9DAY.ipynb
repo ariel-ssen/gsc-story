{
 "cells": [
  {
   "cell_type": "markdown",
   "id": "d92467f5-a6a7-4a51-9ab9-e829d3f73c85",
   "metadata": {},
   "source": [
    "# 목요일 오전 "
   ]
  },
  {
   "cell_type": "markdown",
   "id": "2a592f76-eb60-41e7-824c-8999c4e327f3",
   "metadata": {},
   "source": [
    "-----"
   ]
  },
  {
   "cell_type": "markdown",
   "id": "f37bd5c7-2f45-4f74-87bf-e055e35586e8",
   "metadata": {},
   "source": [
    "## Quiz\n",
    "#1.총 구매 금액의 평균 //전체 데이터에서  \n",
    "#2.웹 사이트 언어로 영어(EN)을 쓰는 사람의 수 //랭귀지  \n",
    "#3.고객들의 직업수 //   \n",
    "#4.직업별 구매금액이 합 가장 높은 직업은?  \n",
    "#5.직업별 구매 금액이 합 가장 낮은 직업은?  \n",
    "#6.가장많은 구매(횟수)를 한 직업은? //  \n",
    "#7.bondellen@williams-garza.com  메일 주소를 가진 사용자의 구매 금액은?  \n",
    "#8.mastercard를 사용했으며 50달러 이상 구매한 사용자는 몇명? \n",
    "#9.윈도우를 사용하는 사용자는 몇명(browser info)? agent  \n",
    "#10.전체 사용자 중 윈도우,linux,mac운영체제를 사용하는 사용자의 비율은?  "
   ]
  },
  {
   "cell_type": "code",
   "execution_count": 26,
   "id": "c7401d34-bbef-411a-857e-4a634e513e73",
   "metadata": {},
   "outputs": [],
   "source": [
    "import pandas as pd"
   ]
  },
  {
   "cell_type": "code",
   "execution_count": 27,
   "id": "6c519fa3-77ee-4d82-a5a2-44eb5e28e1f8",
   "metadata": {},
   "outputs": [],
   "source": [
    "data = pd.read_csv('ecommerse.csv')"
   ]
  },
  {
   "cell_type": "code",
   "execution_count": 28,
   "id": "bbce0bcb-9ea1-43be-8297-c7123dd38e43",
   "metadata": {
    "tags": []
   },
   "outputs": [
    {
     "data": {
      "text/html": [
       "<div>\n",
       "<style scoped>\n",
       "    .dataframe tbody tr th:only-of-type {\n",
       "        vertical-align: middle;\n",
       "    }\n",
       "\n",
       "    .dataframe tbody tr th {\n",
       "        vertical-align: top;\n",
       "    }\n",
       "\n",
       "    .dataframe thead th {\n",
       "        text-align: right;\n",
       "    }\n",
       "</style>\n",
       "<table border=\"1\" class=\"dataframe\">\n",
       "  <thead>\n",
       "    <tr style=\"text-align: right;\">\n",
       "      <th></th>\n",
       "      <th>Address</th>\n",
       "      <th>Lot</th>\n",
       "      <th>AM or PM</th>\n",
       "      <th>Browser Info</th>\n",
       "      <th>Company</th>\n",
       "      <th>Credit Card</th>\n",
       "      <th>CC Exp Date</th>\n",
       "      <th>CC Security Code</th>\n",
       "      <th>CC Provider</th>\n",
       "      <th>Email</th>\n",
       "      <th>Job</th>\n",
       "      <th>IP Address</th>\n",
       "      <th>Language</th>\n",
       "      <th>Purchase Price</th>\n",
       "    </tr>\n",
       "  </thead>\n",
       "  <tbody>\n",
       "    <tr>\n",
       "      <th>0</th>\n",
       "      <td>16629 Pace Camp Apt. 448\\nAlexisborough, NE 77...</td>\n",
       "      <td>46 in</td>\n",
       "      <td>PM</td>\n",
       "      <td>Opera/9.56.(X11; Linux x86_64; sl-SI) Presto/2...</td>\n",
       "      <td>Martinez-Herman</td>\n",
       "      <td>6011929061123406</td>\n",
       "      <td>02/20</td>\n",
       "      <td>900</td>\n",
       "      <td>JCB 16 digit</td>\n",
       "      <td>pdunlap@yahoo.com</td>\n",
       "      <td>Scientist, product/process development</td>\n",
       "      <td>149.146.147.205</td>\n",
       "      <td>el</td>\n",
       "      <td>98.14</td>\n",
       "    </tr>\n",
       "    <tr>\n",
       "      <th>1</th>\n",
       "      <td>9374 Jasmine Spurs Suite 508\\nSouth John, TN 8...</td>\n",
       "      <td>28 rn</td>\n",
       "      <td>PM</td>\n",
       "      <td>Opera/8.93.(Windows 98; Win 9x 4.90; en-US) Pr...</td>\n",
       "      <td>Fletcher, Richards and Whitaker</td>\n",
       "      <td>3337758169645356</td>\n",
       "      <td>11/18</td>\n",
       "      <td>561</td>\n",
       "      <td>Mastercard</td>\n",
       "      <td>anthony41@reed.com</td>\n",
       "      <td>Drilling engineer</td>\n",
       "      <td>15.160.41.51</td>\n",
       "      <td>fr</td>\n",
       "      <td>70.73</td>\n",
       "    </tr>\n",
       "    <tr>\n",
       "      <th>2</th>\n",
       "      <td>Unit 0065 Box 5052\\nDPO AP 27450</td>\n",
       "      <td>94 vE</td>\n",
       "      <td>PM</td>\n",
       "      <td>Mozilla/5.0 (compatible; MSIE 9.0; Windows NT ...</td>\n",
       "      <td>Simpson, Williams and Pham</td>\n",
       "      <td>675957666125</td>\n",
       "      <td>08/19</td>\n",
       "      <td>699</td>\n",
       "      <td>JCB 16 digit</td>\n",
       "      <td>amymiller@morales-harrison.com</td>\n",
       "      <td>Customer service manager</td>\n",
       "      <td>132.207.160.22</td>\n",
       "      <td>de</td>\n",
       "      <td>0.95</td>\n",
       "    </tr>\n",
       "    <tr>\n",
       "      <th>3</th>\n",
       "      <td>7780 Julia Fords\\nNew Stacy, WA 45798</td>\n",
       "      <td>36 vm</td>\n",
       "      <td>PM</td>\n",
       "      <td>Mozilla/5.0 (Macintosh; Intel Mac OS X 10_8_0 ...</td>\n",
       "      <td>Williams, Marshall and Buchanan</td>\n",
       "      <td>6011578504430710</td>\n",
       "      <td>02/24</td>\n",
       "      <td>384</td>\n",
       "      <td>Discover</td>\n",
       "      <td>brent16@olson-robinson.info</td>\n",
       "      <td>Drilling engineer</td>\n",
       "      <td>30.250.74.19</td>\n",
       "      <td>es</td>\n",
       "      <td>78.04</td>\n",
       "    </tr>\n",
       "    <tr>\n",
       "      <th>4</th>\n",
       "      <td>23012 Munoz Drive Suite 337\\nNew Cynthia, TX 5...</td>\n",
       "      <td>20 IE</td>\n",
       "      <td>AM</td>\n",
       "      <td>Opera/9.58.(X11; Linux x86_64; it-IT) Presto/2...</td>\n",
       "      <td>Brown, Watson and Andrews</td>\n",
       "      <td>6011456623207998</td>\n",
       "      <td>10/25</td>\n",
       "      <td>678</td>\n",
       "      <td>Diners Club / Carte Blanche</td>\n",
       "      <td>christopherwright@gmail.com</td>\n",
       "      <td>Fine artist</td>\n",
       "      <td>24.140.33.94</td>\n",
       "      <td>es</td>\n",
       "      <td>77.82</td>\n",
       "    </tr>\n",
       "    <tr>\n",
       "      <th>...</th>\n",
       "      <td>...</td>\n",
       "      <td>...</td>\n",
       "      <td>...</td>\n",
       "      <td>...</td>\n",
       "      <td>...</td>\n",
       "      <td>...</td>\n",
       "      <td>...</td>\n",
       "      <td>...</td>\n",
       "      <td>...</td>\n",
       "      <td>...</td>\n",
       "      <td>...</td>\n",
       "      <td>...</td>\n",
       "      <td>...</td>\n",
       "      <td>...</td>\n",
       "    </tr>\n",
       "    <tr>\n",
       "      <th>9995</th>\n",
       "      <td>966 Castaneda Locks\\nWest Juliafurt, CO 96415</td>\n",
       "      <td>92 XI</td>\n",
       "      <td>PM</td>\n",
       "      <td>Mozilla/5.0 (Windows NT 5.1) AppleWebKit/5352 ...</td>\n",
       "      <td>Randall-Sloan</td>\n",
       "      <td>342945015358701</td>\n",
       "      <td>03/22</td>\n",
       "      <td>838</td>\n",
       "      <td>JCB 15 digit</td>\n",
       "      <td>iscott@wade-garner.com</td>\n",
       "      <td>Printmaker</td>\n",
       "      <td>29.73.197.114</td>\n",
       "      <td>it</td>\n",
       "      <td>82.21</td>\n",
       "    </tr>\n",
       "    <tr>\n",
       "      <th>9996</th>\n",
       "      <td>832 Curtis Dam Suite 785\\nNorth Edwardburgh, T...</td>\n",
       "      <td>41 JY</td>\n",
       "      <td>AM</td>\n",
       "      <td>Mozilla/5.0 (compatible; MSIE 9.0; Windows NT ...</td>\n",
       "      <td>Hale, Collins and Wilson</td>\n",
       "      <td>210033169205009</td>\n",
       "      <td>07/25</td>\n",
       "      <td>207</td>\n",
       "      <td>JCB 16 digit</td>\n",
       "      <td>mary85@hotmail.com</td>\n",
       "      <td>Energy engineer</td>\n",
       "      <td>121.133.168.51</td>\n",
       "      <td>pt</td>\n",
       "      <td>25.63</td>\n",
       "    </tr>\n",
       "    <tr>\n",
       "      <th>9997</th>\n",
       "      <td>Unit 4434 Box 6343\\nDPO AE 28026-0283</td>\n",
       "      <td>74 Zh</td>\n",
       "      <td>AM</td>\n",
       "      <td>Mozilla/5.0 (Macintosh; U; Intel Mac OS X 10_7...</td>\n",
       "      <td>Anderson Ltd</td>\n",
       "      <td>6011539787356311</td>\n",
       "      <td>05/21</td>\n",
       "      <td>1</td>\n",
       "      <td>VISA 16 digit</td>\n",
       "      <td>tyler16@gmail.com</td>\n",
       "      <td>Veterinary surgeon</td>\n",
       "      <td>156.210.0.254</td>\n",
       "      <td>el</td>\n",
       "      <td>83.98</td>\n",
       "    </tr>\n",
       "    <tr>\n",
       "      <th>9998</th>\n",
       "      <td>0096 English Rest\\nRoystad, IA 12457</td>\n",
       "      <td>74 cL</td>\n",
       "      <td>PM</td>\n",
       "      <td>Mozilla/5.0 (Macintosh; Intel Mac OS X 10_8_8;...</td>\n",
       "      <td>Cook Inc</td>\n",
       "      <td>180003348082930</td>\n",
       "      <td>11/17</td>\n",
       "      <td>987</td>\n",
       "      <td>American Express</td>\n",
       "      <td>elizabethmoore@reid.net</td>\n",
       "      <td>Local government officer</td>\n",
       "      <td>55.78.26.143</td>\n",
       "      <td>es</td>\n",
       "      <td>38.84</td>\n",
       "    </tr>\n",
       "    <tr>\n",
       "      <th>9999</th>\n",
       "      <td>40674 Barrett Stravenue\\nGrimesville, WI 79682</td>\n",
       "      <td>64 Hr</td>\n",
       "      <td>AM</td>\n",
       "      <td>Mozilla/5.0 (X11; Linux i686; rv:1.9.5.20) Gec...</td>\n",
       "      <td>Greene Inc</td>\n",
       "      <td>4139972901927273</td>\n",
       "      <td>02/19</td>\n",
       "      <td>302</td>\n",
       "      <td>JCB 15 digit</td>\n",
       "      <td>rachelford@vaughn.com</td>\n",
       "      <td>Embryologist, clinical</td>\n",
       "      <td>176.119.198.199</td>\n",
       "      <td>el</td>\n",
       "      <td>67.59</td>\n",
       "    </tr>\n",
       "  </tbody>\n",
       "</table>\n",
       "<p>10000 rows × 14 columns</p>\n",
       "</div>"
      ],
      "text/plain": [
       "                                                Address    Lot AM or PM  \\\n",
       "0     16629 Pace Camp Apt. 448\\nAlexisborough, NE 77...  46 in       PM   \n",
       "1     9374 Jasmine Spurs Suite 508\\nSouth John, TN 8...  28 rn       PM   \n",
       "2                      Unit 0065 Box 5052\\nDPO AP 27450  94 vE       PM   \n",
       "3                 7780 Julia Fords\\nNew Stacy, WA 45798  36 vm       PM   \n",
       "4     23012 Munoz Drive Suite 337\\nNew Cynthia, TX 5...  20 IE       AM   \n",
       "...                                                 ...    ...      ...   \n",
       "9995      966 Castaneda Locks\\nWest Juliafurt, CO 96415  92 XI       PM   \n",
       "9996  832 Curtis Dam Suite 785\\nNorth Edwardburgh, T...  41 JY       AM   \n",
       "9997              Unit 4434 Box 6343\\nDPO AE 28026-0283  74 Zh       AM   \n",
       "9998               0096 English Rest\\nRoystad, IA 12457  74 cL       PM   \n",
       "9999     40674 Barrett Stravenue\\nGrimesville, WI 79682  64 Hr       AM   \n",
       "\n",
       "                                           Browser Info  \\\n",
       "0     Opera/9.56.(X11; Linux x86_64; sl-SI) Presto/2...   \n",
       "1     Opera/8.93.(Windows 98; Win 9x 4.90; en-US) Pr...   \n",
       "2     Mozilla/5.0 (compatible; MSIE 9.0; Windows NT ...   \n",
       "3     Mozilla/5.0 (Macintosh; Intel Mac OS X 10_8_0 ...   \n",
       "4     Opera/9.58.(X11; Linux x86_64; it-IT) Presto/2...   \n",
       "...                                                 ...   \n",
       "9995  Mozilla/5.0 (Windows NT 5.1) AppleWebKit/5352 ...   \n",
       "9996  Mozilla/5.0 (compatible; MSIE 9.0; Windows NT ...   \n",
       "9997  Mozilla/5.0 (Macintosh; U; Intel Mac OS X 10_7...   \n",
       "9998  Mozilla/5.0 (Macintosh; Intel Mac OS X 10_8_8;...   \n",
       "9999  Mozilla/5.0 (X11; Linux i686; rv:1.9.5.20) Gec...   \n",
       "\n",
       "                              Company       Credit Card CC Exp Date  \\\n",
       "0                     Martinez-Herman  6011929061123406       02/20   \n",
       "1     Fletcher, Richards and Whitaker  3337758169645356       11/18   \n",
       "2          Simpson, Williams and Pham      675957666125       08/19   \n",
       "3     Williams, Marshall and Buchanan  6011578504430710       02/24   \n",
       "4           Brown, Watson and Andrews  6011456623207998       10/25   \n",
       "...                               ...               ...         ...   \n",
       "9995                    Randall-Sloan   342945015358701       03/22   \n",
       "9996         Hale, Collins and Wilson   210033169205009       07/25   \n",
       "9997                     Anderson Ltd  6011539787356311       05/21   \n",
       "9998                         Cook Inc   180003348082930       11/17   \n",
       "9999                       Greene Inc  4139972901927273       02/19   \n",
       "\n",
       "      CC Security Code                  CC Provider  \\\n",
       "0                  900                 JCB 16 digit   \n",
       "1                  561                   Mastercard   \n",
       "2                  699                 JCB 16 digit   \n",
       "3                  384                     Discover   \n",
       "4                  678  Diners Club / Carte Blanche   \n",
       "...                ...                          ...   \n",
       "9995               838                 JCB 15 digit   \n",
       "9996               207                 JCB 16 digit   \n",
       "9997                 1                VISA 16 digit   \n",
       "9998               987             American Express   \n",
       "9999               302                 JCB 15 digit   \n",
       "\n",
       "                               Email                                     Job  \\\n",
       "0                  pdunlap@yahoo.com  Scientist, product/process development   \n",
       "1                 anthony41@reed.com                       Drilling engineer   \n",
       "2     amymiller@morales-harrison.com                Customer service manager   \n",
       "3        brent16@olson-robinson.info                       Drilling engineer   \n",
       "4        christopherwright@gmail.com                             Fine artist   \n",
       "...                              ...                                     ...   \n",
       "9995          iscott@wade-garner.com                              Printmaker   \n",
       "9996              mary85@hotmail.com                         Energy engineer   \n",
       "9997               tyler16@gmail.com                      Veterinary surgeon   \n",
       "9998         elizabethmoore@reid.net                Local government officer   \n",
       "9999           rachelford@vaughn.com                  Embryologist, clinical   \n",
       "\n",
       "           IP Address Language  Purchase Price  \n",
       "0     149.146.147.205       el           98.14  \n",
       "1        15.160.41.51       fr           70.73  \n",
       "2      132.207.160.22       de            0.95  \n",
       "3        30.250.74.19       es           78.04  \n",
       "4        24.140.33.94       es           77.82  \n",
       "...               ...      ...             ...  \n",
       "9995    29.73.197.114       it           82.21  \n",
       "9996   121.133.168.51       pt           25.63  \n",
       "9997    156.210.0.254       el           83.98  \n",
       "9998     55.78.26.143       es           38.84  \n",
       "9999  176.119.198.199       el           67.59  \n",
       "\n",
       "[10000 rows x 14 columns]"
      ]
     },
     "execution_count": 28,
     "metadata": {},
     "output_type": "execute_result"
    }
   ],
   "source": [
    "data #ecommerse 인터넷쇼핑 브라우저?!"
   ]
  },
  {
   "cell_type": "code",
   "execution_count": 29,
   "id": "e1d2733d-f1a0-4dc7-9158-330f851bd704",
   "metadata": {},
   "outputs": [
    {
     "data": {
      "text/plain": [
       "Index(['Address', 'Lot', 'AM or PM', 'Browser Info', 'Company', 'Credit Card',\n",
       "       'CC Exp Date', 'CC Security Code', 'CC Provider', 'Email', 'Job',\n",
       "       'IP Address', 'Language', 'Purchase Price'],\n",
       "      dtype='object')"
      ]
     },
     "execution_count": 29,
     "metadata": {},
     "output_type": "execute_result"
    }
   ],
   "source": [
    "data.columns"
   ]
  },
  {
   "cell_type": "raw",
   "id": "7c2d7ab9-0c29-45a4-88cf-71166a9623f2",
   "metadata": {},
   "source": [
    "#1.총 구매 금액의 평균 //전체 데이터에서"
   ]
  },
  {
   "cell_type": "code",
   "execution_count": 30,
   "id": "f44f6a23-be89-42c4-822f-f7f3dd5eddd8",
   "metadata": {},
   "outputs": [
    {
     "data": {
      "text/plain": [
       "50.34730200000025"
      ]
     },
     "execution_count": 30,
     "metadata": {},
     "output_type": "execute_result"
    }
   ],
   "source": [
    "data['Purchase Price'].mean()"
   ]
  },
  {
   "cell_type": "raw",
   "id": "c71ee745-827b-44b0-a49e-c1389ae79e9a",
   "metadata": {},
   "source": [
    "#2.웹 사이트 언어로 영어(EN)을 쓰는 사람의 수 //랭귀지"
   ]
  },
  {
   "cell_type": "code",
   "execution_count": 31,
   "id": "d7047ec9-2407-4f09-bfa7-4b86fb732c36",
   "metadata": {},
   "outputs": [
    {
     "data": {
      "text/plain": [
       "1098"
      ]
     },
     "execution_count": 31,
     "metadata": {},
     "output_type": "execute_result"
    }
   ],
   "source": [
    "len(data[data['Language'] == 'en'])"
   ]
  },
  {
   "cell_type": "raw",
   "id": "53f1d0a9-4ebc-44df-8dde-eae69569aeb8",
   "metadata": {},
   "source": [
    "#3.고객들의 직업수 //"
   ]
  },
  {
   "cell_type": "code",
   "execution_count": 32,
   "id": "bbe40457-4e74-4d77-b0d6-956d6dafc13b",
   "metadata": {},
   "outputs": [
    {
     "data": {
      "text/plain": [
       "623"
      ]
     },
     "execution_count": 32,
     "metadata": {},
     "output_type": "execute_result"
    }
   ],
   "source": [
    "len(data['Job'].value_counts())"
   ]
  },
  {
   "cell_type": "raw",
   "id": "45aaed08-847c-440b-891e-b68ebfb2a8cf",
   "metadata": {},
   "source": [
    "#4.직업별 구매금액이 합 가장 높은 직업은?"
   ]
  },
  {
   "cell_type": "code",
   "execution_count": 33,
   "id": "3b2e4966-f12c-465e-a994-38eb2c93fd48",
   "metadata": {},
   "outputs": [
    {
     "data": {
      "text/plain": [
       "Job\n",
       "Dietitian                      1605.30\n",
       "Lawyer                         1603.85\n",
       "Purchasing manager             1577.97\n",
       "Therapist, art                 1526.31\n",
       "Clinical cytogeneticist        1495.92\n",
       "                                ...   \n",
       "Music therapist                 327.50\n",
       "Actuary                         262.72\n",
       "Information systems manager     241.42\n",
       "Marketing executive             234.08\n",
       "Art gallery manager             219.05\n",
       "Name: Purchase Price, Length: 623, dtype: float64"
      ]
     },
     "execution_count": 33,
     "metadata": {},
     "output_type": "execute_result"
    }
   ],
   "source": [
    "# 기본 정렬 방식은 오름차순(ascending)입니다.\n",
    "# 내림차순으로 정렬하고 싶다면 ascending 옵션을 False로 설정하면 됩니다.\n",
    "data.groupby('Job')['Purchase Price'].sum().sort_values(ascending = False)"
   ]
  },
  {
   "cell_type": "code",
   "execution_count": 34,
   "id": "0ec1be16-18e7-4b0c-b2d4-f776e96472a3",
   "metadata": {},
   "outputs": [
    {
     "data": {
      "text/plain": [
       "Job\n",
       "Dietitian    1605.3\n",
       "Name: Purchase Price, dtype: float64"
      ]
     },
     "execution_count": 34,
     "metadata": {},
     "output_type": "execute_result"
    }
   ],
   "source": [
    "#.head(1) 위에서 첫번째만 출력\n",
    "data.groupby('Job')['Purchase Price'].sum().sort_values(ascending = False).head(1)"
   ]
  },
  {
   "cell_type": "code",
   "execution_count": 35,
   "id": "06e8c6db-cbad-4baf-a34a-725766f17f73",
   "metadata": {},
   "outputs": [
    {
     "data": {
      "text/plain": [
       "'Dietitian'"
      ]
     },
     "execution_count": 35,
     "metadata": {},
     "output_type": "execute_result"
    }
   ],
   "source": [
    "#.index[0] index 0번째만 출력 \n",
    "data.groupby('Job')['Purchase Price'].sum().sort_values(ascending = False).index[0]"
   ]
  },
  {
   "cell_type": "code",
   "execution_count": 36,
   "id": "20db7088-62fc-4050-8d98-5b6295f62f00",
   "metadata": {},
   "outputs": [
    {
     "data": {
      "text/plain": [
       "1605.3"
      ]
     },
     "execution_count": 36,
     "metadata": {},
     "output_type": "execute_result"
    }
   ],
   "source": [
    "#.values[0] var 0 번째만 출력\n",
    "data.groupby('Job')['Purchase Price'].sum().sort_values(ascending = False).values[0]"
   ]
  },
  {
   "cell_type": "raw",
   "id": "37f35db6-0154-4841-809c-63fd52a70b18",
   "metadata": {},
   "source": [
    "#5.직업별 구매 금액이 합 가장 낮은 직업은?"
   ]
  },
  {
   "cell_type": "code",
   "execution_count": 37,
   "id": "64f62707-0255-4e2c-a38f-4c645fadf6af",
   "metadata": {},
   "outputs": [
    {
     "data": {
      "text/plain": [
       "<bound method Series.sort_values of Job\n",
       "Academic librarian                   527.47\n",
       "Accommodation manager                629.65\n",
       "Accountant, chartered               1051.31\n",
       "Accountant, chartered certified     1043.01\n",
       "Accountant, chartered management    1036.24\n",
       "                                     ...   \n",
       "Water quality scientist              837.47\n",
       "Web designer                        1195.29\n",
       "Wellsite geologist                  1231.42\n",
       "Writer                               448.63\n",
       "Youth worker                         729.24\n",
       "Name: Purchase Price, Length: 623, dtype: float64>"
      ]
     },
     "execution_count": 37,
     "metadata": {},
     "output_type": "execute_result"
    }
   ],
   "source": [
    "data.groupby('Job')['Purchase Price'].sum().sort_values"
   ]
  },
  {
   "cell_type": "code",
   "execution_count": 38,
   "id": "5bcf9402-35d0-4717-82f0-2b315071fc34",
   "metadata": {},
   "outputs": [
    {
     "data": {
      "text/plain": [
       "Job\n",
       "Art gallery manager    219.05\n",
       "Name: Purchase Price, dtype: float64"
      ]
     },
     "execution_count": 38,
     "metadata": {},
     "output_type": "execute_result"
    }
   ],
   "source": [
    "data.groupby('Job')['Purchase Price'].sum().sort_values(ascending = True).head(1)"
   ]
  },
  {
   "cell_type": "code",
   "execution_count": 39,
   "id": "8845a41d-bfda-4850-87cd-73cff7808dba",
   "metadata": {},
   "outputs": [
    {
     "data": {
      "text/plain": [
       "Job\n",
       "Art gallery manager    219.05\n",
       "Name: Purchase Price, dtype: float64"
      ]
     },
     "execution_count": 39,
     "metadata": {},
     "output_type": "execute_result"
    }
   ],
   "source": [
    "data.groupby('Job')['Purchase Price'].sum().sort_values().head(1)"
   ]
  },
  {
   "cell_type": "code",
   "execution_count": 40,
   "id": "f6352af8-a51f-46db-af11-efd5936eeed0",
   "metadata": {},
   "outputs": [
    {
     "data": {
      "text/plain": [
       "'Art gallery manager'"
      ]
     },
     "execution_count": 40,
     "metadata": {},
     "output_type": "execute_result"
    }
   ],
   "source": [
    "data.groupby('Job')['Purchase Price'].sum().sort_values().index[0]"
   ]
  },
  {
   "cell_type": "code",
   "execution_count": 41,
   "id": "ba964afb-06da-428f-9da0-6df60ff544cd",
   "metadata": {},
   "outputs": [
    {
     "data": {
      "text/plain": [
       "219.05"
      ]
     },
     "execution_count": 41,
     "metadata": {},
     "output_type": "execute_result"
    }
   ],
   "source": [
    "data.groupby('Job')['Purchase Price'].sum().sort_values().values[0]"
   ]
  },
  {
   "cell_type": "raw",
   "id": "f7154509-225a-4b6f-a2fb-5066c8dc3ad4",
   "metadata": {},
   "source": [
    "#6.가장많은 구매(횟수)를 한 직업은? //"
   ]
  },
  {
   "cell_type": "code",
   "execution_count": 42,
   "id": "5fca5c72-8066-4193-8964-7c57cc975adf",
   "metadata": {},
   "outputs": [
    {
     "data": {
      "text/plain": [
       "Interior and spatial designer    31\n",
       "Name: Job, dtype: int64"
      ]
     },
     "execution_count": 42,
     "metadata": {},
     "output_type": "execute_result"
    }
   ],
   "source": [
    "data['Job'].value_counts().head(1)"
   ]
  },
  {
   "cell_type": "code",
   "execution_count": 43,
   "id": "be33608a-9775-469c-8ee1-d7f546cbd418",
   "metadata": {},
   "outputs": [
    {
     "data": {
      "text/plain": [
       "'Interior and spatial designer'"
      ]
     },
     "execution_count": 43,
     "metadata": {},
     "output_type": "execute_result"
    }
   ],
   "source": [
    "data['Job'].value_counts().index[0]"
   ]
  },
  {
   "cell_type": "code",
   "execution_count": 44,
   "id": "1ab84dda-2724-4d1f-a1fe-15eade8c5153",
   "metadata": {},
   "outputs": [
    {
     "data": {
      "text/plain": [
       "31"
      ]
     },
     "execution_count": 44,
     "metadata": {},
     "output_type": "execute_result"
    }
   ],
   "source": [
    "data['Job'].value_counts().values[0]"
   ]
  },
  {
   "cell_type": "raw",
   "id": "5c17bc31-b43e-40f3-8f95-ee7c2929e0d0",
   "metadata": {},
   "source": [
    "#7.bondellen@williams-garza.com 메일 주소를 가진 사용자의 구매 금액은?"
   ]
  },
  {
   "cell_type": "code",
   "execution_count": 45,
   "id": "00cb9089-5d94-4e5d-9dba-87a5c16d0482",
   "metadata": {},
   "outputs": [
    {
     "data": {
      "text/plain": [
       "77.88"
      ]
     },
     "execution_count": 45,
     "metadata": {},
     "output_type": "execute_result"
    }
   ],
   "source": [
    "data[data['Email'].str.lower() == 'bondellen@williams-garza.com'.lower()]['Purchase Price'].values[0] "
   ]
  },
  {
   "cell_type": "raw",
   "id": "78037f08-3f89-4c9b-8d76-964116aefaf0",
   "metadata": {},
   "source": [
    "#8.mastercard를 사용했으며 50달러 이상 구매한 사용자는 몇명?"
   ]
  },
  {
   "cell_type": "code",
   "execution_count": 46,
   "id": "431084f9-05b8-4155-aa87-efb28b834e17",
   "metadata": {},
   "outputs": [
    {
     "data": {
      "text/plain": [
       "405"
      ]
     },
     "execution_count": 46,
     "metadata": {},
     "output_type": "execute_result"
    }
   ],
   "source": [
    "len(data[(data['CC Provider'].str.lower() == 'mastercard'.lower()) \n",
    "      & (data['Purchase Price'] >= 50)])"
   ]
  },
  {
   "cell_type": "raw",
   "id": "cbd3c100-0028-46c7-85bb-f9b8707fa9d3",
   "metadata": {},
   "source": [
    "#9.윈도우를 사용하는 사용자는 몇명(browser info)? agent"
   ]
  },
  {
   "cell_type": "code",
   "execution_count": 47,
   "id": "0ea736b2-64c3-45a6-ac71-ee77f7e4bee4",
   "metadata": {},
   "outputs": [
    {
     "data": {
      "text/plain": [
       "4994"
      ]
     },
     "execution_count": 47,
     "metadata": {},
     "output_type": "execute_result"
    }
   ],
   "source": [
    "## a == b : a와 b가 같다\n",
    "#contains : str에 .contains를 통해 특정 문자열이 포함 하고 있는지를 확인\n",
    "len(data[data['Browser Info'].str.lower().str.contains('windows')])"
   ]
  },
  {
   "cell_type": "raw",
   "id": "df24470a-b8df-4621-a9b8-a4ac7c77d822",
   "metadata": {},
   "source": [
    "#10.전체 사용자 중 윈도우,linux,mac운영체제를 사용하는 사용자의 비율은?"
   ]
  },
  {
   "cell_type": "code",
   "execution_count": 48,
   "id": "a0bbf36a-ba4f-49f0-9b84-5f72bc3dab14",
   "metadata": {},
   "outputs": [
    {
     "data": {
      "text/plain": [
       "100.0"
      ]
     },
     "execution_count": 48,
     "metadata": {},
     "output_type": "execute_result"
    }
   ],
   "source": [
    "len(data['Browser Info'])/100"
   ]
  },
  {
   "cell_type": "code",
   "execution_count": null,
   "id": "d21aa631-788b-4628-921c-8c80346db831",
   "metadata": {},
   "outputs": [],
   "source": []
  },
  {
   "cell_type": "code",
   "execution_count": 49,
   "id": "18ab71ed-0f39-45bd-8c89-b8f1da3e3c89",
   "metadata": {},
   "outputs": [],
   "source": [
    "w = len(data[data['Browser Info'].str.lower().str.contains('windows')])/100"
   ]
  },
  {
   "cell_type": "code",
   "execution_count": 50,
   "id": "5d65efb7-cf3d-45d3-9b19-713f08579006",
   "metadata": {},
   "outputs": [
    {
     "data": {
      "text/plain": [
       "49.94"
      ]
     },
     "execution_count": 50,
     "metadata": {},
     "output_type": "execute_result"
    }
   ],
   "source": [
    "w"
   ]
  },
  {
   "cell_type": "code",
   "execution_count": 51,
   "id": "90856ae2-10b5-49bb-8451-ac1c025a4129",
   "metadata": {},
   "outputs": [],
   "source": [
    "l = len(data[data['Browser Info'].str.lower().str.contains('linux')])/100"
   ]
  },
  {
   "cell_type": "code",
   "execution_count": 52,
   "id": "c61c0827-5d2f-4138-ad53-f2262ac0ec72",
   "metadata": {},
   "outputs": [
    {
     "data": {
      "text/plain": [
       "23.22"
      ]
     },
     "execution_count": 52,
     "metadata": {},
     "output_type": "execute_result"
    }
   ],
   "source": [
    "l"
   ]
  },
  {
   "cell_type": "code",
   "execution_count": 53,
   "id": "6ea036bb-faa6-4308-b496-bd58a82ad3de",
   "metadata": {},
   "outputs": [],
   "source": [
    "m = len(data[data['Browser Info'].str.lower().str.contains('mac')])/100"
   ]
  },
  {
   "cell_type": "code",
   "execution_count": 54,
   "id": "634db05b-c1e2-4423-a0b7-dbbbf04d3800",
   "metadata": {},
   "outputs": [
    {
     "data": {
      "text/plain": [
       "26.84"
      ]
     },
     "execution_count": 54,
     "metadata": {},
     "output_type": "execute_result"
    }
   ],
   "source": [
    "m"
   ]
  },
  {
   "cell_type": "code",
   "execution_count": 55,
   "id": "777e2e25-4b36-4e42-a613-3bad4f4fc3e8",
   "metadata": {},
   "outputs": [
    {
     "data": {
      "text/plain": [
       "100.0"
      ]
     },
     "execution_count": 55,
     "metadata": {},
     "output_type": "execute_result"
    }
   ],
   "source": [
    "w+l+m"
   ]
  },
  {
   "cell_type": "raw",
   "id": "5e198ccc-e19c-468a-bc5a-ab7718d3e602",
   "metadata": {},
   "source": [
    "+a  선생님 풀이 "
   ]
  },
  {
   "cell_type": "code",
   "execution_count": 56,
   "id": "20c7316c-567f-44c6-9511-ba824faaf01b",
   "metadata": {},
   "outputs": [],
   "source": [
    "windows = len(data[data['Browser Info'].str.lower().str.contains('windows')])"
   ]
  },
  {
   "cell_type": "code",
   "execution_count": 57,
   "id": "e4916837-e133-4f91-a466-07b66dd16023",
   "metadata": {},
   "outputs": [
    {
     "data": {
      "text/plain": [
       "4994"
      ]
     },
     "execution_count": 57,
     "metadata": {},
     "output_type": "execute_result"
    }
   ],
   "source": [
    "windows"
   ]
  },
  {
   "cell_type": "code",
   "execution_count": 58,
   "id": "c90793cf-fa2e-43c4-a213-702da43431c8",
   "metadata": {},
   "outputs": [
    {
     "data": {
      "text/plain": [
       "49.94"
      ]
     },
     "execution_count": 58,
     "metadata": {},
     "output_type": "execute_result"
    }
   ],
   "source": [
    "windows / len(data['Browser Info'])*100 \n",
    "#굳이 브라우져 인포 아니여도 전체 사용자 이기에 밑에 len(data) 가능"
   ]
  },
  {
   "cell_type": "code",
   "execution_count": 59,
   "id": "b2885112-e3d0-41fe-abf9-31178e93de8e",
   "metadata": {},
   "outputs": [],
   "source": [
    "w = windows/ len(data) *100"
   ]
  },
  {
   "cell_type": "code",
   "execution_count": 60,
   "id": "38c523b4-18ca-4028-a522-29b098af08b3",
   "metadata": {},
   "outputs": [
    {
     "name": "stdout",
     "output_type": "stream",
     "text": [
      "26.84\n"
     ]
    }
   ],
   "source": [
    "print(m)"
   ]
  },
  {
   "cell_type": "code",
   "execution_count": 61,
   "id": "6f3fe0ae-b269-499a-b6b3-63aed620ca4b",
   "metadata": {},
   "outputs": [],
   "source": [
    "linux = len(data[data['Browser Info'].str.lower().str.contains('linux')])"
   ]
  },
  {
   "cell_type": "code",
   "execution_count": 62,
   "id": "e2a12466-0483-4503-8176-1f84bfa6e2d6",
   "metadata": {},
   "outputs": [
    {
     "data": {
      "text/plain": [
       "2322"
      ]
     },
     "execution_count": 62,
     "metadata": {},
     "output_type": "execute_result"
    }
   ],
   "source": [
    "linux"
   ]
  },
  {
   "cell_type": "code",
   "execution_count": 63,
   "id": "52eca509-f1d5-4571-b73c-18b347d95c9b",
   "metadata": {},
   "outputs": [],
   "source": [
    "l =linux / len(data) *100"
   ]
  },
  {
   "cell_type": "code",
   "execution_count": 64,
   "id": "c0fa3344-9f7b-4eb3-ba73-58591f8baa94",
   "metadata": {},
   "outputs": [
    {
     "name": "stdout",
     "output_type": "stream",
     "text": [
      "23.22\n"
     ]
    }
   ],
   "source": [
    "print(l)"
   ]
  },
  {
   "cell_type": "code",
   "execution_count": 65,
   "id": "3cdc1330-0801-418f-b9c4-57ed279f0288",
   "metadata": {},
   "outputs": [],
   "source": [
    "mac = len(data[data['Browser Info'].str.lower().str.contains('mac')])"
   ]
  },
  {
   "cell_type": "code",
   "execution_count": 66,
   "id": "21175dfd-4b50-4d5d-999e-fef5d69655e1",
   "metadata": {},
   "outputs": [
    {
     "data": {
      "text/plain": [
       "2684"
      ]
     },
     "execution_count": 66,
     "metadata": {},
     "output_type": "execute_result"
    }
   ],
   "source": [
    "mac"
   ]
  },
  {
   "cell_type": "code",
   "execution_count": 67,
   "id": "6082a01c-5bb1-447f-92d0-a6c20bbf29c8",
   "metadata": {},
   "outputs": [],
   "source": [
    "m = mac / len(data)*100"
   ]
  },
  {
   "cell_type": "code",
   "execution_count": 68,
   "id": "fe203f86-b0d5-4181-9921-fa614b137b13",
   "metadata": {},
   "outputs": [
    {
     "name": "stdout",
     "output_type": "stream",
     "text": [
      "26.840000000000003\n"
     ]
    }
   ],
   "source": [
    "print(m)"
   ]
  },
  {
   "cell_type": "code",
   "execution_count": 69,
   "id": "3d6a0de9-e005-45a7-be7a-38b430ff3c28",
   "metadata": {},
   "outputs": [
    {
     "data": {
      "text/plain": [
       "100.0"
      ]
     },
     "execution_count": 69,
     "metadata": {},
     "output_type": "execute_result"
    }
   ],
   "source": [
    "w+l+m"
   ]
  },
  {
   "cell_type": "markdown",
   "id": "f51310fb-a508-4567-bf69-c9fac6b69799",
   "metadata": {},
   "source": [
    "-----"
   ]
  },
  {
   "cell_type": "markdown",
   "id": "80aebec8-8fcc-4439-82b9-09c4a6f52ccb",
   "metadata": {},
   "source": [
    "# 목요일 오후 "
   ]
  },
  {
   "cell_type": "markdown",
   "id": "06f057ff-b39f-40eb-b09d-5ad564c0e162",
   "metadata": {},
   "source": [
    "-----"
   ]
  },
  {
   "cell_type": "markdown",
   "id": "5d27333f-ddf5-4e4c-afa7-ea3c96f047f1",
   "metadata": {},
   "source": [
    "## 180page 결측치"
   ]
  },
  {
   "cell_type": "code",
   "execution_count": 70,
   "id": "86550281-1540-4527-8fd0-cc740e185dcb",
   "metadata": {},
   "outputs": [],
   "source": [
    "import pandas as pd\n",
    "import numpy as np"
   ]
  },
  {
   "cell_type": "code",
   "execution_count": 71,
   "id": "c1046368-10b8-4dd6-ab9d-3a6c801e38f6",
   "metadata": {},
   "outputs": [],
   "source": [
    "df = pd.DataFrame({'gender' : ['M', 'F', None, 'M' ,'F'],\n",
    "                   'score' : [5,4,3,4,None]})"
   ]
  },
  {
   "cell_type": "code",
   "execution_count": 72,
   "id": "cd9ed297-fba1-4f92-9ce3-f3268c916628",
   "metadata": {},
   "outputs": [
    {
     "data": {
      "text/html": [
       "<div>\n",
       "<style scoped>\n",
       "    .dataframe tbody tr th:only-of-type {\n",
       "        vertical-align: middle;\n",
       "    }\n",
       "\n",
       "    .dataframe tbody tr th {\n",
       "        vertical-align: top;\n",
       "    }\n",
       "\n",
       "    .dataframe thead th {\n",
       "        text-align: right;\n",
       "    }\n",
       "</style>\n",
       "<table border=\"1\" class=\"dataframe\">\n",
       "  <thead>\n",
       "    <tr style=\"text-align: right;\">\n",
       "      <th></th>\n",
       "      <th>gender</th>\n",
       "      <th>score</th>\n",
       "    </tr>\n",
       "  </thead>\n",
       "  <tbody>\n",
       "    <tr>\n",
       "      <th>0</th>\n",
       "      <td>M</td>\n",
       "      <td>5.0</td>\n",
       "    </tr>\n",
       "    <tr>\n",
       "      <th>1</th>\n",
       "      <td>F</td>\n",
       "      <td>4.0</td>\n",
       "    </tr>\n",
       "    <tr>\n",
       "      <th>2</th>\n",
       "      <td>None</td>\n",
       "      <td>3.0</td>\n",
       "    </tr>\n",
       "    <tr>\n",
       "      <th>3</th>\n",
       "      <td>M</td>\n",
       "      <td>4.0</td>\n",
       "    </tr>\n",
       "    <tr>\n",
       "      <th>4</th>\n",
       "      <td>F</td>\n",
       "      <td>NaN</td>\n",
       "    </tr>\n",
       "  </tbody>\n",
       "</table>\n",
       "</div>"
      ],
      "text/plain": [
       "  gender  score\n",
       "0      M    5.0\n",
       "1      F    4.0\n",
       "2   None    3.0\n",
       "3      M    4.0\n",
       "4      F    NaN"
      ]
     },
     "execution_count": 72,
     "metadata": {},
     "output_type": "execute_result"
    }
   ],
   "source": [
    "df"
   ]
  },
  {
   "cell_type": "code",
   "execution_count": 73,
   "id": "9bf000d2-afe5-4d7f-8be6-cb47985f27ca",
   "metadata": {},
   "outputs": [],
   "source": [
    "#to_csv 메서드는 데이터프레임 객체를 csv 형식으로 변환하는 메서드입니다.\n",
    "#- 새로운 csv 파일 생성 \n",
    "#pandas 사용 중 index를 안가져오고 싶을 때는 \\\n",
    "#속성중에 index_col에 False 값을 주면 된다.\n",
    "df.to_csv('score.csv', index = False)"
   ]
  },
  {
   "cell_type": "code",
   "execution_count": 74,
   "id": "a7875fb3-9d41-44ac-8604-52ed0e367d6f",
   "metadata": {},
   "outputs": [],
   "source": [
    "#read_csv() 함수를 사용해서 외부 text 파일, csv 파일을 불러와서 DataFrame으로 저장\n",
    "#None = NaN\n",
    "data = pd.read_csv('score.csv')"
   ]
  },
  {
   "cell_type": "code",
   "execution_count": 75,
   "id": "f473925d-1db0-4339-98ca-e3e127e811b1",
   "metadata": {},
   "outputs": [
    {
     "name": "stdout",
     "output_type": "stream",
     "text": [
      "<class 'pandas.core.frame.DataFrame'>\n",
      "RangeIndex: 5 entries, 0 to 4\n",
      "Data columns (total 2 columns):\n",
      " #   Column  Non-Null Count  Dtype  \n",
      "---  ------  --------------  -----  \n",
      " 0   gender  4 non-null      object \n",
      " 1   score   4 non-null      float64\n",
      "dtypes: float64(1), object(1)\n",
      "memory usage: 208.0+ bytes\n"
     ]
    }
   ],
   "source": [
    "data = df.info()"
   ]
  },
  {
   "cell_type": "code",
   "execution_count": 76,
   "id": "e9574963-0dd0-48ee-b0fa-7f30c48344e2",
   "metadata": {},
   "outputs": [
    {
     "data": {
      "text/html": [
       "<div>\n",
       "<style scoped>\n",
       "    .dataframe tbody tr th:only-of-type {\n",
       "        vertical-align: middle;\n",
       "    }\n",
       "\n",
       "    .dataframe tbody tr th {\n",
       "        vertical-align: top;\n",
       "    }\n",
       "\n",
       "    .dataframe thead th {\n",
       "        text-align: right;\n",
       "    }\n",
       "</style>\n",
       "<table border=\"1\" class=\"dataframe\">\n",
       "  <thead>\n",
       "    <tr style=\"text-align: right;\">\n",
       "      <th></th>\n",
       "      <th>gender</th>\n",
       "      <th>score</th>\n",
       "    </tr>\n",
       "  </thead>\n",
       "  <tbody>\n",
       "    <tr>\n",
       "      <th>0</th>\n",
       "      <td>False</td>\n",
       "      <td>False</td>\n",
       "    </tr>\n",
       "    <tr>\n",
       "      <th>1</th>\n",
       "      <td>False</td>\n",
       "      <td>False</td>\n",
       "    </tr>\n",
       "    <tr>\n",
       "      <th>2</th>\n",
       "      <td>True</td>\n",
       "      <td>False</td>\n",
       "    </tr>\n",
       "    <tr>\n",
       "      <th>3</th>\n",
       "      <td>False</td>\n",
       "      <td>False</td>\n",
       "    </tr>\n",
       "    <tr>\n",
       "      <th>4</th>\n",
       "      <td>False</td>\n",
       "      <td>True</td>\n",
       "    </tr>\n",
       "  </tbody>\n",
       "</table>\n",
       "</div>"
      ],
      "text/plain": [
       "   gender  score\n",
       "0   False  False\n",
       "1   False  False\n",
       "2    True  False\n",
       "3   False  False\n",
       "4   False   True"
      ]
     },
     "execution_count": 76,
     "metadata": {},
     "output_type": "execute_result"
    }
   ],
   "source": [
    "#isnull() null를 확인하는 함수\n",
    "df.isnull()"
   ]
  },
  {
   "cell_type": "code",
   "execution_count": 77,
   "id": "e89ee79e-1aac-43e6-a47e-1d8c5efccdb8",
   "metadata": {},
   "outputs": [
    {
     "data": {
      "text/plain": [
       "gender    1\n",
       "score     1\n",
       "dtype: int64"
      ]
     },
     "execution_count": 77,
     "metadata": {},
     "output_type": "execute_result"
    }
   ],
   "source": [
    "df.isnull().sum()"
   ]
  },
  {
   "cell_type": "code",
   "execution_count": 78,
   "id": "6d5211d0-a48a-4d99-9646-ec510a738709",
   "metadata": {},
   "outputs": [
    {
     "data": {
      "text/html": [
       "<div>\n",
       "<style scoped>\n",
       "    .dataframe tbody tr th:only-of-type {\n",
       "        vertical-align: middle;\n",
       "    }\n",
       "\n",
       "    .dataframe tbody tr th {\n",
       "        vertical-align: top;\n",
       "    }\n",
       "\n",
       "    .dataframe thead th {\n",
       "        text-align: right;\n",
       "    }\n",
       "</style>\n",
       "<table border=\"1\" class=\"dataframe\">\n",
       "  <thead>\n",
       "    <tr style=\"text-align: right;\">\n",
       "      <th></th>\n",
       "      <th>gender</th>\n",
       "      <th>score</th>\n",
       "    </tr>\n",
       "  </thead>\n",
       "  <tbody>\n",
       "    <tr>\n",
       "      <th>0</th>\n",
       "      <td>M</td>\n",
       "      <td>5.0</td>\n",
       "    </tr>\n",
       "    <tr>\n",
       "      <th>1</th>\n",
       "      <td>F</td>\n",
       "      <td>4.0</td>\n",
       "    </tr>\n",
       "    <tr>\n",
       "      <th>3</th>\n",
       "      <td>M</td>\n",
       "      <td>4.0</td>\n",
       "    </tr>\n",
       "  </tbody>\n",
       "</table>\n",
       "</div>"
      ],
      "text/plain": [
       "  gender  score\n",
       "0      M    5.0\n",
       "1      F    4.0\n",
       "3      M    4.0"
      ]
     },
     "execution_count": 78,
     "metadata": {},
     "output_type": "execute_result"
    }
   ],
   "source": [
    "#.dropna() 결측값제거 null 제거\n",
    "df.dropna()"
   ]
  },
  {
   "cell_type": "code",
   "execution_count": 79,
   "id": "0eb93f12-b18e-4677-8d8e-feffbc9d419c",
   "metadata": {},
   "outputs": [
    {
     "data": {
      "text/html": [
       "<div>\n",
       "<style scoped>\n",
       "    .dataframe tbody tr th:only-of-type {\n",
       "        vertical-align: middle;\n",
       "    }\n",
       "\n",
       "    .dataframe tbody tr th {\n",
       "        vertical-align: top;\n",
       "    }\n",
       "\n",
       "    .dataframe thead th {\n",
       "        text-align: right;\n",
       "    }\n",
       "</style>\n",
       "<table border=\"1\" class=\"dataframe\">\n",
       "  <thead>\n",
       "    <tr style=\"text-align: right;\">\n",
       "      <th></th>\n",
       "      <th>gender</th>\n",
       "      <th>score</th>\n",
       "    </tr>\n",
       "  </thead>\n",
       "  <tbody>\n",
       "    <tr>\n",
       "      <th>0</th>\n",
       "      <td>M</td>\n",
       "      <td>5.0</td>\n",
       "    </tr>\n",
       "    <tr>\n",
       "      <th>1</th>\n",
       "      <td>F</td>\n",
       "      <td>4.0</td>\n",
       "    </tr>\n",
       "    <tr>\n",
       "      <th>3</th>\n",
       "      <td>M</td>\n",
       "      <td>4.0</td>\n",
       "    </tr>\n",
       "    <tr>\n",
       "      <th>4</th>\n",
       "      <td>F</td>\n",
       "      <td>NaN</td>\n",
       "    </tr>\n",
       "  </tbody>\n",
       "</table>\n",
       "</div>"
      ],
      "text/plain": [
       "  gender  score\n",
       "0      M    5.0\n",
       "1      F    4.0\n",
       "3      M    4.0\n",
       "4      F    NaN"
      ]
     },
     "execution_count": 79,
     "metadata": {},
     "output_type": "execute_result"
    }
   ],
   "source": [
    "#subser = ['a'] :subset은 a만 골라서 null 제거 \n",
    "df.dropna(subset = ['gender'])"
   ]
  },
  {
   "cell_type": "code",
   "execution_count": 80,
   "id": "0864b703-54b6-4891-b3c6-de9691e36402",
   "metadata": {},
   "outputs": [],
   "source": [
    "#Null, None, NA , NaN 같은말"
   ]
  },
  {
   "cell_type": "code",
   "execution_count": 81,
   "id": "cf65d167-6282-4d52-92ca-8a10ddb87f8c",
   "metadata": {},
   "outputs": [
    {
     "data": {
      "text/html": [
       "<div>\n",
       "<style scoped>\n",
       "    .dataframe tbody tr th:only-of-type {\n",
       "        vertical-align: middle;\n",
       "    }\n",
       "\n",
       "    .dataframe tbody tr th {\n",
       "        vertical-align: top;\n",
       "    }\n",
       "\n",
       "    .dataframe thead th {\n",
       "        text-align: right;\n",
       "    }\n",
       "</style>\n",
       "<table border=\"1\" class=\"dataframe\">\n",
       "  <thead>\n",
       "    <tr style=\"text-align: right;\">\n",
       "      <th></th>\n",
       "      <th>gender</th>\n",
       "      <th>score</th>\n",
       "    </tr>\n",
       "  </thead>\n",
       "  <tbody>\n",
       "    <tr>\n",
       "      <th>0</th>\n",
       "      <td>M</td>\n",
       "      <td>5.0</td>\n",
       "    </tr>\n",
       "    <tr>\n",
       "      <th>1</th>\n",
       "      <td>F</td>\n",
       "      <td>4.0</td>\n",
       "    </tr>\n",
       "    <tr>\n",
       "      <th>2</th>\n",
       "      <td>None</td>\n",
       "      <td>3.0</td>\n",
       "    </tr>\n",
       "    <tr>\n",
       "      <th>3</th>\n",
       "      <td>M</td>\n",
       "      <td>4.0</td>\n",
       "    </tr>\n",
       "    <tr>\n",
       "      <th>4</th>\n",
       "      <td>F</td>\n",
       "      <td>NaN</td>\n",
       "    </tr>\n",
       "  </tbody>\n",
       "</table>\n",
       "</div>"
      ],
      "text/plain": [
       "  gender  score\n",
       "0      M    5.0\n",
       "1      F    4.0\n",
       "2   None    3.0\n",
       "3      M    4.0\n",
       "4      F    NaN"
      ]
     },
     "execution_count": 81,
     "metadata": {},
     "output_type": "execute_result"
    }
   ],
   "source": [
    "df"
   ]
  },
  {
   "cell_type": "code",
   "execution_count": 82,
   "id": "841d4b93-137e-4797-a84c-d0c86068842f",
   "metadata": {},
   "outputs": [
    {
     "data": {
      "text/html": [
       "<div>\n",
       "<style scoped>\n",
       "    .dataframe tbody tr th:only-of-type {\n",
       "        vertical-align: middle;\n",
       "    }\n",
       "\n",
       "    .dataframe tbody tr th {\n",
       "        vertical-align: top;\n",
       "    }\n",
       "\n",
       "    .dataframe thead th {\n",
       "        text-align: right;\n",
       "    }\n",
       "</style>\n",
       "<table border=\"1\" class=\"dataframe\">\n",
       "  <thead>\n",
       "    <tr style=\"text-align: right;\">\n",
       "      <th></th>\n",
       "      <th>gender</th>\n",
       "      <th>score</th>\n",
       "    </tr>\n",
       "  </thead>\n",
       "  <tbody>\n",
       "    <tr>\n",
       "      <th>0</th>\n",
       "      <td>M</td>\n",
       "      <td>5.0</td>\n",
       "    </tr>\n",
       "    <tr>\n",
       "      <th>1</th>\n",
       "      <td>F</td>\n",
       "      <td>4.0</td>\n",
       "    </tr>\n",
       "    <tr>\n",
       "      <th>2</th>\n",
       "      <td>None</td>\n",
       "      <td>3.0</td>\n",
       "    </tr>\n",
       "    <tr>\n",
       "      <th>3</th>\n",
       "      <td>M</td>\n",
       "      <td>4.0</td>\n",
       "    </tr>\n",
       "    <tr>\n",
       "      <th>4</th>\n",
       "      <td>F</td>\n",
       "      <td>NaN</td>\n",
       "    </tr>\n",
       "  </tbody>\n",
       "</table>\n",
       "</div>"
      ],
      "text/plain": [
       "  gender  score\n",
       "0      M    5.0\n",
       "1      F    4.0\n",
       "2   None    3.0\n",
       "3      M    4.0\n",
       "4      F    NaN"
      ]
     },
     "execution_count": 82,
     "metadata": {},
     "output_type": "execute_result"
    }
   ],
   "source": [
    "df"
   ]
  },
  {
   "cell_type": "code",
   "execution_count": 83,
   "id": "a7a37a15-ebd1-4dea-8846-6834b00eb85b",
   "metadata": {},
   "outputs": [],
   "source": [
    "#.fillna()\n",
    "#: fillna 메서드는 DataFrame에서 결측값을 원하는 값으로 변경하는 메서드입니다.\n",
    "df['score'].fillna(0, inplace = True)"
   ]
  },
  {
   "cell_type": "code",
   "execution_count": 84,
   "id": "79311e3d-8654-44c9-99a9-550cb8ce3c62",
   "metadata": {},
   "outputs": [
    {
     "data": {
      "text/html": [
       "<div>\n",
       "<style scoped>\n",
       "    .dataframe tbody tr th:only-of-type {\n",
       "        vertical-align: middle;\n",
       "    }\n",
       "\n",
       "    .dataframe tbody tr th {\n",
       "        vertical-align: top;\n",
       "    }\n",
       "\n",
       "    .dataframe thead th {\n",
       "        text-align: right;\n",
       "    }\n",
       "</style>\n",
       "<table border=\"1\" class=\"dataframe\">\n",
       "  <thead>\n",
       "    <tr style=\"text-align: right;\">\n",
       "      <th></th>\n",
       "      <th>gender</th>\n",
       "      <th>score</th>\n",
       "    </tr>\n",
       "  </thead>\n",
       "  <tbody>\n",
       "    <tr>\n",
       "      <th>0</th>\n",
       "      <td>M</td>\n",
       "      <td>5.0</td>\n",
       "    </tr>\n",
       "    <tr>\n",
       "      <th>1</th>\n",
       "      <td>F</td>\n",
       "      <td>4.0</td>\n",
       "    </tr>\n",
       "    <tr>\n",
       "      <th>2</th>\n",
       "      <td>None</td>\n",
       "      <td>3.0</td>\n",
       "    </tr>\n",
       "    <tr>\n",
       "      <th>3</th>\n",
       "      <td>M</td>\n",
       "      <td>4.0</td>\n",
       "    </tr>\n",
       "    <tr>\n",
       "      <th>4</th>\n",
       "      <td>F</td>\n",
       "      <td>0.0</td>\n",
       "    </tr>\n",
       "  </tbody>\n",
       "</table>\n",
       "</div>"
      ],
      "text/plain": [
       "  gender  score\n",
       "0      M    5.0\n",
       "1      F    4.0\n",
       "2   None    3.0\n",
       "3      M    4.0\n",
       "4      F    0.0"
      ]
     },
     "execution_count": 84,
     "metadata": {},
     "output_type": "execute_result"
    }
   ],
   "source": [
    "df"
   ]
  },
  {
   "cell_type": "markdown",
   "id": "dd18d098-206a-4dae-91a3-635a0ccc358a",
   "metadata": {},
   "source": [
    "-------"
   ]
  },
  {
   "cell_type": "code",
   "execution_count": 85,
   "id": "50202ecc-779e-4799-a0a8-4c3e684decdc",
   "metadata": {},
   "outputs": [],
   "source": [
    "import pandas as pd"
   ]
  },
  {
   "cell_type": "code",
   "execution_count": 86,
   "id": "d25a2ff0-55bd-4668-ba28-68cb307ea404",
   "metadata": {},
   "outputs": [],
   "source": [
    "df = pd.DataFrame({'gender' : ['M','f',None, 'M','F'],\n",
    "                  'score' : [5,4,3,4,None]})"
   ]
  },
  {
   "cell_type": "code",
   "execution_count": 87,
   "id": "10b41630-e6d0-4e10-bbc6-c6bab859d82f",
   "metadata": {},
   "outputs": [],
   "source": [
    "data = pd.read_csv('score.csv')"
   ]
  },
  {
   "cell_type": "code",
   "execution_count": 88,
   "id": "5f051746-1600-429e-9fcf-6cba5c468c6d",
   "metadata": {},
   "outputs": [
    {
     "data": {
      "text/html": [
       "<div>\n",
       "<style scoped>\n",
       "    .dataframe tbody tr th:only-of-type {\n",
       "        vertical-align: middle;\n",
       "    }\n",
       "\n",
       "    .dataframe tbody tr th {\n",
       "        vertical-align: top;\n",
       "    }\n",
       "\n",
       "    .dataframe thead th {\n",
       "        text-align: right;\n",
       "    }\n",
       "</style>\n",
       "<table border=\"1\" class=\"dataframe\">\n",
       "  <thead>\n",
       "    <tr style=\"text-align: right;\">\n",
       "      <th></th>\n",
       "      <th>gender</th>\n",
       "      <th>score</th>\n",
       "    </tr>\n",
       "  </thead>\n",
       "  <tbody>\n",
       "    <tr>\n",
       "      <th>0</th>\n",
       "      <td>M</td>\n",
       "      <td>5.0</td>\n",
       "    </tr>\n",
       "    <tr>\n",
       "      <th>1</th>\n",
       "      <td>F</td>\n",
       "      <td>4.0</td>\n",
       "    </tr>\n",
       "    <tr>\n",
       "      <th>2</th>\n",
       "      <td>NaN</td>\n",
       "      <td>3.0</td>\n",
       "    </tr>\n",
       "    <tr>\n",
       "      <th>3</th>\n",
       "      <td>M</td>\n",
       "      <td>4.0</td>\n",
       "    </tr>\n",
       "    <tr>\n",
       "      <th>4</th>\n",
       "      <td>F</td>\n",
       "      <td>NaN</td>\n",
       "    </tr>\n",
       "  </tbody>\n",
       "</table>\n",
       "</div>"
      ],
      "text/plain": [
       "  gender  score\n",
       "0      M    5.0\n",
       "1      F    4.0\n",
       "2    NaN    3.0\n",
       "3      M    4.0\n",
       "4      F    NaN"
      ]
     },
     "execution_count": 88,
     "metadata": {},
     "output_type": "execute_result"
    }
   ],
   "source": [
    "data"
   ]
  },
  {
   "cell_type": "code",
   "execution_count": 89,
   "id": "b73d2f29-7041-4ba1-b700-ac26595355c2",
   "metadata": {},
   "outputs": [
    {
     "data": {
      "text/plain": [
       "4.0"
      ]
     },
     "execution_count": 89,
     "metadata": {},
     "output_type": "execute_result"
    }
   ],
   "source": [
    "data['score'].mean()"
   ]
  },
  {
   "cell_type": "code",
   "execution_count": 90,
   "id": "97d6ea5e-ed36-4590-8b65-2086006e0e9c",
   "metadata": {},
   "outputs": [
    {
     "data": {
      "text/plain": [
       "0    5.0\n",
       "1    4.0\n",
       "2    3.0\n",
       "3    4.0\n",
       "4    4.0\n",
       "Name: score, dtype: float64"
      ]
     },
     "execution_count": 90,
     "metadata": {},
     "output_type": "execute_result"
    }
   ],
   "source": [
    "data['score'].fillna(data['score'].mean())"
   ]
  },
  {
   "cell_type": "markdown",
   "id": "10268e99-3ea3-4f6d-9efb-004b3a741f90",
   "metadata": {},
   "source": [
    "-------"
   ]
  },
  {
   "cell_type": "code",
   "execution_count": 91,
   "id": "8eb7c355-53d1-481e-849a-8e4908d73634",
   "metadata": {},
   "outputs": [],
   "source": [
    "df = pd.DataFrame({'gender' : ['M', 'F', None, 'M' ,'F'],\n",
    "                   'score' : [5,4,3,4,None]})"
   ]
  },
  {
   "cell_type": "code",
   "execution_count": 92,
   "id": "de723251-f5e5-4594-a270-8b7e99f60d6f",
   "metadata": {},
   "outputs": [
    {
     "data": {
      "text/html": [
       "<div>\n",
       "<style scoped>\n",
       "    .dataframe tbody tr th:only-of-type {\n",
       "        vertical-align: middle;\n",
       "    }\n",
       "\n",
       "    .dataframe tbody tr th {\n",
       "        vertical-align: top;\n",
       "    }\n",
       "\n",
       "    .dataframe thead th {\n",
       "        text-align: right;\n",
       "    }\n",
       "</style>\n",
       "<table border=\"1\" class=\"dataframe\">\n",
       "  <thead>\n",
       "    <tr style=\"text-align: right;\">\n",
       "      <th></th>\n",
       "      <th>gender</th>\n",
       "      <th>score</th>\n",
       "    </tr>\n",
       "  </thead>\n",
       "  <tbody>\n",
       "    <tr>\n",
       "      <th>0</th>\n",
       "      <td>M</td>\n",
       "      <td>5.0</td>\n",
       "    </tr>\n",
       "    <tr>\n",
       "      <th>1</th>\n",
       "      <td>F</td>\n",
       "      <td>4.0</td>\n",
       "    </tr>\n",
       "    <tr>\n",
       "      <th>2</th>\n",
       "      <td>None</td>\n",
       "      <td>3.0</td>\n",
       "    </tr>\n",
       "    <tr>\n",
       "      <th>3</th>\n",
       "      <td>M</td>\n",
       "      <td>4.0</td>\n",
       "    </tr>\n",
       "    <tr>\n",
       "      <th>4</th>\n",
       "      <td>F</td>\n",
       "      <td>NaN</td>\n",
       "    </tr>\n",
       "  </tbody>\n",
       "</table>\n",
       "</div>"
      ],
      "text/plain": [
       "  gender  score\n",
       "0      M    5.0\n",
       "1      F    4.0\n",
       "2   None    3.0\n",
       "3      M    4.0\n",
       "4      F    NaN"
      ]
     },
     "execution_count": 92,
     "metadata": {},
     "output_type": "execute_result"
    }
   ],
   "source": [
    "df"
   ]
  },
  {
   "cell_type": "markdown",
   "id": "135acead-a36c-4096-be53-b1d87d4085d6",
   "metadata": {},
   "source": [
    "# Quiz\n",
    "1.df['gender'] / M-> 1 F->2 / gender  비어 있는 곳에 3을 채우세요   \n",
    "2.df['score'] -> score 비어 있는 곳에 50을 채우세요"
   ]
  },
  {
   "cell_type": "raw",
   "id": "86e9efe6-b3ed-4643-8f2a-f8cfecbf4859",
   "metadata": {},
   "source": [
    "1.df['gender'] / M-> 1 F->2 / gender 비어 있는 곳에 3을 채우세요"
   ]
  },
  {
   "cell_type": "code",
   "execution_count": 93,
   "id": "7f5e6816-c84f-46ec-a774-872c7bf36b57",
   "metadata": {},
   "outputs": [
    {
     "data": {
      "text/plain": [
       "0       M\n",
       "1       F\n",
       "2    None\n",
       "3       M\n",
       "4       F\n",
       "Name: gender, dtype: object"
      ]
     },
     "execution_count": 93,
     "metadata": {},
     "output_type": "execute_result"
    }
   ],
   "source": [
    "df['gender']"
   ]
  },
  {
   "cell_type": "code",
   "execution_count": 94,
   "id": "b0dc6a62-a4ee-4a61-abec-e5e8f71298a0",
   "metadata": {},
   "outputs": [],
   "source": [
    "#map : 딕셔너리 형태로 넣어줌\n",
    "#map :{변환 함수, 순회 가능한 데이터}\n",
    "gender_map = {'M':1 , 'F' :2}"
   ]
  },
  {
   "cell_type": "code",
   "execution_count": 95,
   "id": "ccbbf8c7-228c-48a8-95a2-74962955d911",
   "metadata": {},
   "outputs": [],
   "source": [
    "df['gender'] = df['gender'].map(gender_map)"
   ]
  },
  {
   "cell_type": "code",
   "execution_count": 96,
   "id": "6b182861-0323-4c20-9457-c533a2956eb6",
   "metadata": {},
   "outputs": [
    {
     "data": {
      "text/plain": [
       "0    1.0\n",
       "1    2.0\n",
       "2    NaN\n",
       "3    1.0\n",
       "4    2.0\n",
       "Name: gender, dtype: float64"
      ]
     },
     "execution_count": 96,
     "metadata": {},
     "output_type": "execute_result"
    }
   ],
   "source": [
    "df['gender']"
   ]
  },
  {
   "cell_type": "code",
   "execution_count": 97,
   "id": "d27a22d7-0cd8-4302-ad5b-4815d0b50596",
   "metadata": {},
   "outputs": [],
   "source": [
    "df['gender'].fillna(3, inplace = True)"
   ]
  },
  {
   "cell_type": "code",
   "execution_count": 98,
   "id": "1b45f987-6c44-471f-9bdf-eaec6c78837e",
   "metadata": {},
   "outputs": [
    {
     "data": {
      "text/plain": [
       "0    1.0\n",
       "1    2.0\n",
       "2    3.0\n",
       "3    1.0\n",
       "4    2.0\n",
       "Name: gender, dtype: float64"
      ]
     },
     "execution_count": 98,
     "metadata": {},
     "output_type": "execute_result"
    }
   ],
   "source": [
    "df['gender']"
   ]
  },
  {
   "cell_type": "raw",
   "id": "c33b47f5-6383-42da-ba40-db0148ad1bfa",
   "metadata": {},
   "source": [
    "2.df['score'] -> score 비어 있는 곳에 50을 채우세요"
   ]
  },
  {
   "cell_type": "code",
   "execution_count": 99,
   "id": "06311ab4-c2ee-4218-860a-41f8541e1122",
   "metadata": {},
   "outputs": [
    {
     "data": {
      "text/plain": [
       "0    5.0\n",
       "1    4.0\n",
       "2    3.0\n",
       "3    4.0\n",
       "4    NaN\n",
       "Name: score, dtype: float64"
      ]
     },
     "execution_count": 99,
     "metadata": {},
     "output_type": "execute_result"
    }
   ],
   "source": [
    "df['score']"
   ]
  },
  {
   "cell_type": "code",
   "execution_count": 100,
   "id": "8efb8c4b-a102-4703-8e73-5b8d141ab70b",
   "metadata": {},
   "outputs": [],
   "source": [
    "df['score'].fillna(50, inplace = True)"
   ]
  },
  {
   "cell_type": "code",
   "execution_count": 101,
   "id": "838cf728-e0bc-418a-bfb4-7c74225fd45b",
   "metadata": {},
   "outputs": [
    {
     "data": {
      "text/plain": [
       "0     5.0\n",
       "1     4.0\n",
       "2     3.0\n",
       "3     4.0\n",
       "4    50.0\n",
       "Name: score, dtype: float64"
      ]
     },
     "execution_count": 101,
     "metadata": {},
     "output_type": "execute_result"
    }
   ],
   "source": [
    "df['score']"
   ]
  },
  {
   "cell_type": "code",
   "execution_count": 102,
   "id": "564d0563-735f-468c-8c4a-dce02394b067",
   "metadata": {},
   "outputs": [
    {
     "data": {
      "text/html": [
       "<div>\n",
       "<style scoped>\n",
       "    .dataframe tbody tr th:only-of-type {\n",
       "        vertical-align: middle;\n",
       "    }\n",
       "\n",
       "    .dataframe tbody tr th {\n",
       "        vertical-align: top;\n",
       "    }\n",
       "\n",
       "    .dataframe thead th {\n",
       "        text-align: right;\n",
       "    }\n",
       "</style>\n",
       "<table border=\"1\" class=\"dataframe\">\n",
       "  <thead>\n",
       "    <tr style=\"text-align: right;\">\n",
       "      <th></th>\n",
       "      <th>gender</th>\n",
       "      <th>score</th>\n",
       "    </tr>\n",
       "  </thead>\n",
       "  <tbody>\n",
       "    <tr>\n",
       "      <th>0</th>\n",
       "      <td>1.0</td>\n",
       "      <td>5.0</td>\n",
       "    </tr>\n",
       "    <tr>\n",
       "      <th>1</th>\n",
       "      <td>2.0</td>\n",
       "      <td>4.0</td>\n",
       "    </tr>\n",
       "    <tr>\n",
       "      <th>2</th>\n",
       "      <td>3.0</td>\n",
       "      <td>3.0</td>\n",
       "    </tr>\n",
       "    <tr>\n",
       "      <th>3</th>\n",
       "      <td>1.0</td>\n",
       "      <td>4.0</td>\n",
       "    </tr>\n",
       "    <tr>\n",
       "      <th>4</th>\n",
       "      <td>2.0</td>\n",
       "      <td>50.0</td>\n",
       "    </tr>\n",
       "  </tbody>\n",
       "</table>\n",
       "</div>"
      ],
      "text/plain": [
       "   gender  score\n",
       "0     1.0    5.0\n",
       "1     2.0    4.0\n",
       "2     3.0    3.0\n",
       "3     1.0    4.0\n",
       "4     2.0   50.0"
      ]
     },
     "execution_count": 102,
     "metadata": {},
     "output_type": "execute_result"
    }
   ],
   "source": [
    "df"
   ]
  },
  {
   "cell_type": "code",
   "execution_count": 103,
   "id": "5316761d-eada-4566-b4d3-6d1db55a3a17",
   "metadata": {},
   "outputs": [
    {
     "data": {
      "text/plain": [
       "array([1., 2., 3.])"
      ]
     },
     "execution_count": 103,
     "metadata": {},
     "output_type": "execute_result"
    }
   ],
   "source": [
    "#array([1., 2., 3.]) 1.2.3.  뒤에 . 은 이상한 이상치\n",
    "df['gender'].unique()"
   ]
  },
  {
   "cell_type": "code",
   "execution_count": 104,
   "id": "ea3d730b-3d96-4a42-a768-204d90243414",
   "metadata": {},
   "outputs": [
    {
     "data": {
      "text/plain": [
       "0     5.0\n",
       "1     4.0\n",
       "2     3.0\n",
       "3     4.0\n",
       "4    50.0\n",
       "Name: score, dtype: float64"
      ]
     },
     "execution_count": 104,
     "metadata": {},
     "output_type": "execute_result"
    }
   ],
   "source": [
    "df['score']\n",
    "#0     5.0\n",
    "#1     4.0\n",
    "#2     3.0\n",
    "#3     4.0\n",
    "#4    50.0 -> 혼자 너무 높아서 평균치가 높아 질것임 이상치?!"
   ]
  },
  {
   "cell_type": "code",
   "execution_count": 105,
   "id": "ec258bf3-8838-42c8-a4f4-3efd25ec9d18",
   "metadata": {},
   "outputs": [
    {
     "data": {
      "text/plain": [
       "13.2"
      ]
     },
     "execution_count": 105,
     "metadata": {},
     "output_type": "execute_result"
    }
   ],
   "source": [
    "#평균이 이상치로 높아져서 정확하다 말할수 없음\n",
    "df['score'].mean() "
   ]
  },
  {
   "cell_type": "code",
   "execution_count": 106,
   "id": "2e3048e7-8568-489b-877f-21735c2b4a17",
   "metadata": {},
   "outputs": [
    {
     "data": {
      "text/plain": [
       "4.0"
      ]
     },
     "execution_count": 106,
     "metadata": {},
     "output_type": "execute_result"
    }
   ],
   "source": [
    "# median 은 중앙값이 정확함,  mean  보다 정확함?!\n",
    "df['score'].median()"
   ]
  },
  {
   "cell_type": "code",
   "execution_count": 107,
   "id": "1479c032-9735-4e80-9876-ca57c2014b49",
   "metadata": {},
   "outputs": [
    {
     "data": {
      "text/html": [
       "<div>\n",
       "<style scoped>\n",
       "    .dataframe tbody tr th:only-of-type {\n",
       "        vertical-align: middle;\n",
       "    }\n",
       "\n",
       "    .dataframe tbody tr th {\n",
       "        vertical-align: top;\n",
       "    }\n",
       "\n",
       "    .dataframe thead th {\n",
       "        text-align: right;\n",
       "    }\n",
       "</style>\n",
       "<table border=\"1\" class=\"dataframe\">\n",
       "  <thead>\n",
       "    <tr style=\"text-align: right;\">\n",
       "      <th></th>\n",
       "      <th>gender</th>\n",
       "      <th>score</th>\n",
       "    </tr>\n",
       "  </thead>\n",
       "  <tbody>\n",
       "    <tr>\n",
       "      <th>0</th>\n",
       "      <td>1.0</td>\n",
       "      <td>5.0</td>\n",
       "    </tr>\n",
       "    <tr>\n",
       "      <th>1</th>\n",
       "      <td>2.0</td>\n",
       "      <td>4.0</td>\n",
       "    </tr>\n",
       "    <tr>\n",
       "      <th>2</th>\n",
       "      <td>3.0</td>\n",
       "      <td>3.0</td>\n",
       "    </tr>\n",
       "    <tr>\n",
       "      <th>3</th>\n",
       "      <td>1.0</td>\n",
       "      <td>4.0</td>\n",
       "    </tr>\n",
       "    <tr>\n",
       "      <th>4</th>\n",
       "      <td>2.0</td>\n",
       "      <td>50.0</td>\n",
       "    </tr>\n",
       "  </tbody>\n",
       "</table>\n",
       "</div>"
      ],
      "text/plain": [
       "   gender  score\n",
       "0     1.0    5.0\n",
       "1     2.0    4.0\n",
       "2     3.0    3.0\n",
       "3     1.0    4.0\n",
       "4     2.0   50.0"
      ]
     },
     "execution_count": 107,
     "metadata": {},
     "output_type": "execute_result"
    }
   ],
   "source": [
    "df"
   ]
  },
  {
   "cell_type": "markdown",
   "id": "9d0a2015-78c7-4e13-8483-5ed7bf215698",
   "metadata": {},
   "source": [
    "----"
   ]
  },
  {
   "cell_type": "code",
   "execution_count": 108,
   "id": "c0e91265-82b2-49f6-ad12-52fbfd39d170",
   "metadata": {},
   "outputs": [],
   "source": [
    "import numpy as np #score 전체 평균보다 높은앧르은 주앙값을 넣겠다"
   ]
  },
  {
   "cell_type": "code",
   "execution_count": 112,
   "id": "6809b43f-2503-4fed-aaba-c6207a6b2330",
   "metadata": {},
   "outputs": [],
   "source": [
    "mean = df['score'].mean()\n",
    "median =df['score'].median()"
   ]
  },
  {
   "cell_type": "code",
   "execution_count": 113,
   "id": "4f022dfe-a25a-43b1-aac8-d546bc2cef05",
   "metadata": {},
   "outputs": [
    {
     "name": "stdout",
     "output_type": "stream",
     "text": [
      "13.2\n",
      "4.0\n"
     ]
    }
   ],
   "source": [
    "print(mean)\n",
    "print(median)"
   ]
  },
  {
   "cell_type": "code",
   "execution_count": 116,
   "id": "ef5257dd-83c9-4d29-87e1-64b76be59840",
   "metadata": {},
   "outputs": [
    {
     "data": {
      "text/plain": [
       "array([5., 4., 3., 4., 4.])"
      ]
     },
     "execution_count": 116,
     "metadata": {},
     "output_type": "execute_result"
    }
   ],
   "source": [
    "#np.where(배열에 대한 조건문, 참일때 값, 거짓일때 값)\n",
    "np.where  (df['score'] > mean , median, df['score'])"
   ]
  },
  {
   "cell_type": "code",
   "execution_count": 114,
   "id": "202fcac8-3e3d-408c-9c7b-005a3eb48d74",
   "metadata": {},
   "outputs": [],
   "source": [
    "df['score'] = np.where  (df['score'] > mean , median, df['score'])"
   ]
  },
  {
   "cell_type": "code",
   "execution_count": 115,
   "id": "b190403f-b8a9-46a0-8847-4c2f4f12451c",
   "metadata": {},
   "outputs": [
    {
     "data": {
      "text/plain": [
       "0    5.0\n",
       "1    4.0\n",
       "2    3.0\n",
       "3    4.0\n",
       "4    4.0\n",
       "Name: score, dtype: float64"
      ]
     },
     "execution_count": 115,
     "metadata": {},
     "output_type": "execute_result"
    }
   ],
   "source": [
    "df['score']"
   ]
  },
  {
   "cell_type": "markdown",
   "id": "edcbf5d9-08a8-4e25-abba-e34e744c52d2",
   "metadata": {},
   "source": [
    "----"
   ]
  },
  {
   "cell_type": "markdown",
   "id": "8bce4c68-8d3f-4c6d-ae41-662530040b38",
   "metadata": {},
   "source": [
    "# 205 page 그래프"
   ]
  },
  {
   "cell_type": "code",
   "execution_count": 117,
   "id": "dc3c2b6e-7558-48ba-8b6c-6628754e13da",
   "metadata": {},
   "outputs": [],
   "source": [
    "import pydataset as pds"
   ]
  },
  {
   "cell_type": "code",
   "execution_count": 118,
   "id": "e9a0c658-a2d3-4012-9470-ff07ac4e3c46",
   "metadata": {},
   "outputs": [],
   "source": [
    "mpg = pds.data('mpg')#show_doc = True)"
   ]
  },
  {
   "cell_type": "code",
   "execution_count": 119,
   "id": "a691dc89-ee39-46ea-8b82-027ef057d71e",
   "metadata": {
    "tags": []
   },
   "outputs": [
    {
     "data": {
      "text/html": [
       "<div>\n",
       "<style scoped>\n",
       "    .dataframe tbody tr th:only-of-type {\n",
       "        vertical-align: middle;\n",
       "    }\n",
       "\n",
       "    .dataframe tbody tr th {\n",
       "        vertical-align: top;\n",
       "    }\n",
       "\n",
       "    .dataframe thead th {\n",
       "        text-align: right;\n",
       "    }\n",
       "</style>\n",
       "<table border=\"1\" class=\"dataframe\">\n",
       "  <thead>\n",
       "    <tr style=\"text-align: right;\">\n",
       "      <th></th>\n",
       "      <th>manufacturer</th>\n",
       "      <th>model</th>\n",
       "      <th>displ</th>\n",
       "      <th>year</th>\n",
       "      <th>cyl</th>\n",
       "      <th>trans</th>\n",
       "      <th>drv</th>\n",
       "      <th>cty</th>\n",
       "      <th>hwy</th>\n",
       "      <th>fl</th>\n",
       "      <th>class</th>\n",
       "    </tr>\n",
       "  </thead>\n",
       "  <tbody>\n",
       "    <tr>\n",
       "      <th>1</th>\n",
       "      <td>audi</td>\n",
       "      <td>a4</td>\n",
       "      <td>1.8</td>\n",
       "      <td>1999</td>\n",
       "      <td>4</td>\n",
       "      <td>auto(l5)</td>\n",
       "      <td>f</td>\n",
       "      <td>18</td>\n",
       "      <td>29</td>\n",
       "      <td>p</td>\n",
       "      <td>compact</td>\n",
       "    </tr>\n",
       "    <tr>\n",
       "      <th>2</th>\n",
       "      <td>audi</td>\n",
       "      <td>a4</td>\n",
       "      <td>1.8</td>\n",
       "      <td>1999</td>\n",
       "      <td>4</td>\n",
       "      <td>manual(m5)</td>\n",
       "      <td>f</td>\n",
       "      <td>21</td>\n",
       "      <td>29</td>\n",
       "      <td>p</td>\n",
       "      <td>compact</td>\n",
       "    </tr>\n",
       "    <tr>\n",
       "      <th>3</th>\n",
       "      <td>audi</td>\n",
       "      <td>a4</td>\n",
       "      <td>2.0</td>\n",
       "      <td>2008</td>\n",
       "      <td>4</td>\n",
       "      <td>manual(m6)</td>\n",
       "      <td>f</td>\n",
       "      <td>20</td>\n",
       "      <td>31</td>\n",
       "      <td>p</td>\n",
       "      <td>compact</td>\n",
       "    </tr>\n",
       "    <tr>\n",
       "      <th>4</th>\n",
       "      <td>audi</td>\n",
       "      <td>a4</td>\n",
       "      <td>2.0</td>\n",
       "      <td>2008</td>\n",
       "      <td>4</td>\n",
       "      <td>auto(av)</td>\n",
       "      <td>f</td>\n",
       "      <td>21</td>\n",
       "      <td>30</td>\n",
       "      <td>p</td>\n",
       "      <td>compact</td>\n",
       "    </tr>\n",
       "    <tr>\n",
       "      <th>5</th>\n",
       "      <td>audi</td>\n",
       "      <td>a4</td>\n",
       "      <td>2.8</td>\n",
       "      <td>1999</td>\n",
       "      <td>6</td>\n",
       "      <td>auto(l5)</td>\n",
       "      <td>f</td>\n",
       "      <td>16</td>\n",
       "      <td>26</td>\n",
       "      <td>p</td>\n",
       "      <td>compact</td>\n",
       "    </tr>\n",
       "    <tr>\n",
       "      <th>...</th>\n",
       "      <td>...</td>\n",
       "      <td>...</td>\n",
       "      <td>...</td>\n",
       "      <td>...</td>\n",
       "      <td>...</td>\n",
       "      <td>...</td>\n",
       "      <td>...</td>\n",
       "      <td>...</td>\n",
       "      <td>...</td>\n",
       "      <td>...</td>\n",
       "      <td>...</td>\n",
       "    </tr>\n",
       "    <tr>\n",
       "      <th>230</th>\n",
       "      <td>volkswagen</td>\n",
       "      <td>passat</td>\n",
       "      <td>2.0</td>\n",
       "      <td>2008</td>\n",
       "      <td>4</td>\n",
       "      <td>auto(s6)</td>\n",
       "      <td>f</td>\n",
       "      <td>19</td>\n",
       "      <td>28</td>\n",
       "      <td>p</td>\n",
       "      <td>midsize</td>\n",
       "    </tr>\n",
       "    <tr>\n",
       "      <th>231</th>\n",
       "      <td>volkswagen</td>\n",
       "      <td>passat</td>\n",
       "      <td>2.0</td>\n",
       "      <td>2008</td>\n",
       "      <td>4</td>\n",
       "      <td>manual(m6)</td>\n",
       "      <td>f</td>\n",
       "      <td>21</td>\n",
       "      <td>29</td>\n",
       "      <td>p</td>\n",
       "      <td>midsize</td>\n",
       "    </tr>\n",
       "    <tr>\n",
       "      <th>232</th>\n",
       "      <td>volkswagen</td>\n",
       "      <td>passat</td>\n",
       "      <td>2.8</td>\n",
       "      <td>1999</td>\n",
       "      <td>6</td>\n",
       "      <td>auto(l5)</td>\n",
       "      <td>f</td>\n",
       "      <td>16</td>\n",
       "      <td>26</td>\n",
       "      <td>p</td>\n",
       "      <td>midsize</td>\n",
       "    </tr>\n",
       "    <tr>\n",
       "      <th>233</th>\n",
       "      <td>volkswagen</td>\n",
       "      <td>passat</td>\n",
       "      <td>2.8</td>\n",
       "      <td>1999</td>\n",
       "      <td>6</td>\n",
       "      <td>manual(m5)</td>\n",
       "      <td>f</td>\n",
       "      <td>18</td>\n",
       "      <td>26</td>\n",
       "      <td>p</td>\n",
       "      <td>midsize</td>\n",
       "    </tr>\n",
       "    <tr>\n",
       "      <th>234</th>\n",
       "      <td>volkswagen</td>\n",
       "      <td>passat</td>\n",
       "      <td>3.6</td>\n",
       "      <td>2008</td>\n",
       "      <td>6</td>\n",
       "      <td>auto(s6)</td>\n",
       "      <td>f</td>\n",
       "      <td>17</td>\n",
       "      <td>26</td>\n",
       "      <td>p</td>\n",
       "      <td>midsize</td>\n",
       "    </tr>\n",
       "  </tbody>\n",
       "</table>\n",
       "<p>234 rows × 11 columns</p>\n",
       "</div>"
      ],
      "text/plain": [
       "    manufacturer   model  displ  year  cyl       trans drv  cty  hwy fl  \\\n",
       "1           audi      a4    1.8  1999    4    auto(l5)   f   18   29  p   \n",
       "2           audi      a4    1.8  1999    4  manual(m5)   f   21   29  p   \n",
       "3           audi      a4    2.0  2008    4  manual(m6)   f   20   31  p   \n",
       "4           audi      a4    2.0  2008    4    auto(av)   f   21   30  p   \n",
       "5           audi      a4    2.8  1999    6    auto(l5)   f   16   26  p   \n",
       "..           ...     ...    ...   ...  ...         ...  ..  ...  ... ..   \n",
       "230   volkswagen  passat    2.0  2008    4    auto(s6)   f   19   28  p   \n",
       "231   volkswagen  passat    2.0  2008    4  manual(m6)   f   21   29  p   \n",
       "232   volkswagen  passat    2.8  1999    6    auto(l5)   f   16   26  p   \n",
       "233   volkswagen  passat    2.8  1999    6  manual(m5)   f   18   26  p   \n",
       "234   volkswagen  passat    3.6  2008    6    auto(s6)   f   17   26  p   \n",
       "\n",
       "       class  \n",
       "1    compact  \n",
       "2    compact  \n",
       "3    compact  \n",
       "4    compact  \n",
       "5    compact  \n",
       "..       ...  \n",
       "230  midsize  \n",
       "231  midsize  \n",
       "232  midsize  \n",
       "233  midsize  \n",
       "234  midsize  \n",
       "\n",
       "[234 rows x 11 columns]"
      ]
     },
     "execution_count": 119,
     "metadata": {},
     "output_type": "execute_result"
    }
   ],
   "source": [
    "mpg"
   ]
  },
  {
   "cell_type": "raw",
   "id": "a0464e7c-46cc-4a44-97a5-a164c57f2ffe",
   "metadata": {},
   "source": [
    "drv 별 hwy 평균"
   ]
  },
  {
   "cell_type": "code",
   "execution_count": 127,
   "id": "9899fb21-2de0-4ba3-aab6-df35e0605617",
   "metadata": {},
   "outputs": [
    {
     "data": {
      "text/plain": [
       "1      f\n",
       "2      f\n",
       "3      f\n",
       "4      f\n",
       "5      f\n",
       "      ..\n",
       "230    f\n",
       "231    f\n",
       "232    f\n",
       "233    f\n",
       "234    f\n",
       "Name: drv, Length: 234, dtype: object"
      ]
     },
     "execution_count": 127,
     "metadata": {},
     "output_type": "execute_result"
    }
   ],
   "source": [
    "mpg['drv']"
   ]
  },
  {
   "cell_type": "code",
   "execution_count": 128,
   "id": "03afb958-aacf-4440-8692-0b3464e4890d",
   "metadata": {},
   "outputs": [
    {
     "data": {
      "text/plain": [
       "1      29\n",
       "2      29\n",
       "3      31\n",
       "4      30\n",
       "5      26\n",
       "       ..\n",
       "230    28\n",
       "231    29\n",
       "232    26\n",
       "233    26\n",
       "234    26\n",
       "Name: hwy, Length: 234, dtype: int64"
      ]
     },
     "execution_count": 128,
     "metadata": {},
     "output_type": "execute_result"
    }
   ],
   "source": [
    "mpg['hwy']"
   ]
  },
  {
   "cell_type": "code",
   "execution_count": 129,
   "id": "4934a794-b27b-4f12-b07c-a95149837abe",
   "metadata": {},
   "outputs": [],
   "source": [
    "#as_index=False : 구문은 이 그룹을 인덱스로 지정할 것인지 여부\n",
    "mpg_df = mpg.groupby('drv', as_index = False)['hwy'].mean()"
   ]
  },
  {
   "cell_type": "code",
   "execution_count": 131,
   "id": "729946b0-6649-42d4-9e3e-d8a6adc30fc2",
   "metadata": {},
   "outputs": [
    {
     "data": {
      "text/html": [
       "<div>\n",
       "<style scoped>\n",
       "    .dataframe tbody tr th:only-of-type {\n",
       "        vertical-align: middle;\n",
       "    }\n",
       "\n",
       "    .dataframe tbody tr th {\n",
       "        vertical-align: top;\n",
       "    }\n",
       "\n",
       "    .dataframe thead th {\n",
       "        text-align: right;\n",
       "    }\n",
       "</style>\n",
       "<table border=\"1\" class=\"dataframe\">\n",
       "  <thead>\n",
       "    <tr style=\"text-align: right;\">\n",
       "      <th></th>\n",
       "      <th>drv</th>\n",
       "      <th>hwy</th>\n",
       "    </tr>\n",
       "  </thead>\n",
       "  <tbody>\n",
       "    <tr>\n",
       "      <th>0</th>\n",
       "      <td>4</td>\n",
       "      <td>19.174757</td>\n",
       "    </tr>\n",
       "    <tr>\n",
       "      <th>1</th>\n",
       "      <td>f</td>\n",
       "      <td>28.160377</td>\n",
       "    </tr>\n",
       "    <tr>\n",
       "      <th>2</th>\n",
       "      <td>r</td>\n",
       "      <td>21.000000</td>\n",
       "    </tr>\n",
       "  </tbody>\n",
       "</table>\n",
       "</div>"
      ],
      "text/plain": [
       "  drv        hwy\n",
       "0   4  19.174757\n",
       "1   f  28.160377\n",
       "2   r  21.000000"
      ]
     },
     "execution_count": 131,
     "metadata": {},
     "output_type": "execute_result"
    }
   ],
   "source": [
    "mpg_df"
   ]
  },
  {
   "cell_type": "markdown",
   "id": "8ca0a80e-f854-47ce-a286-8a7ca09acb9f",
   "metadata": {},
   "source": [
    "--------"
   ]
  },
  {
   "cell_type": "code",
   "execution_count": 133,
   "id": "461f111b-1ad4-4ecd-936f-56ea6e8120d5",
   "metadata": {},
   "outputs": [],
   "source": [
    "#seaborn 시각화 할때 많이 쓰는 데이터 \n",
    "import seaborn as sns "
   ]
  },
  {
   "cell_type": "code",
   "execution_count": 134,
   "id": "ec39e835-335e-4642-983f-0837453bd31e",
   "metadata": {},
   "outputs": [
    {
     "data": {
      "text/plain": [
       "<AxesSubplot:xlabel='drv', ylabel='hwy'>"
      ]
     },
     "execution_count": 134,
     "metadata": {},
     "output_type": "execute_result"
    },
    {
     "data": {
      "image/png": "[encoded data removed]",
      "text/plain": [
       "<Figure size 432x288 with 1 Axes>"
      ]
     },
     "metadata": {
      "needs_background": "light"
     },
     "output_type": "display_data"
    }
   ],
   "source": [
    "#.barplot : 바 형태 그래프를 뽑아 낼때 함수\n",
    "sns.barplot(data = mpg_df , x = 'drv',y ='hwy')"
   ]
  },
  {
   "cell_type": "code",
   "execution_count": 135,
   "id": "998b698f-1229-470d-97c5-ac00ecbfa38c",
   "metadata": {},
   "outputs": [
    {
     "data": {
      "image/png": "[encoded data removed]",
      "text/plain": [
       "<Figure size 432x288 with 1 Axes>"
      ]
     },
     "metadata": {
      "needs_background": "light"
     },
     "output_type": "display_data"
    }
   ],
   "source": [
    "# ; 세미홀눈을 붙이면 위에 첫번째 줄 이상한 말이 사라짐\n",
    "sns.barplot(data = mpg_df , x = 'drv',y ='hwy');"
   ]
  },
  {
   "cell_type": "raw",
   "id": "7770f7be-0607-46b7-871d-9e8b7366858f",
   "metadata": {},
   "source": [
    "# 내림차순 : ascending = False \n",
    "# 오름차순 : ascending = True\n",
    "# inplace = False (저장 안 함)\n",
    "# inplace = True (저장함)"
   ]
  },
  {
   "cell_type": "code",
   "execution_count": 139,
   "id": "6eb751ea-3834-4724-9940-6a767cda54e2",
   "metadata": {},
   "outputs": [],
   "source": [
    "mpg_df.sort_values('hwy',ascending = False , inplace = True)"
   ]
  },
  {
   "cell_type": "code",
   "execution_count": 140,
   "id": "8a8b7e1b-d176-4400-8756-48e41546f123",
   "metadata": {},
   "outputs": [],
   "source": [
    "import seaborn as sns"
   ]
  },
  {
   "cell_type": "code",
   "execution_count": 146,
   "id": "db0037d2-49e4-4200-a72c-bdcd59b154ea",
   "metadata": {},
   "outputs": [
    {
     "data": {
      "image/png": "[encoded data removed]",
      "text/plain": [
       "<Figure size 432x288 with 1 Axes>"
      ]
     },
     "metadata": {
      "needs_background": "light"
     },
     "output_type": "display_data"
    }
   ],
   "source": [
    "sns.barplot(data = mpg_df , x = 'drv',y ='hwy');"
   ]
  },
  {
   "cell_type": "markdown",
   "id": "0f9c3a1a-a67c-43c5-890e-a47751473366",
   "metadata": {},
   "source": [
    "# 212 page  선그래프 "
   ]
  },
  {
   "cell_type": "raw",
   "id": "6768c325-0451-4f5a-b4ec-425e2112cdde",
   "metadata": {},
   "source": [
    "#날짜를 가지고 하는 시리얼 데이터 "
   ]
  },
  {
   "cell_type": "code",
   "execution_count": 148,
   "id": "d58a86a0-c351-41bd-b937-f6819960896c",
   "metadata": {},
   "outputs": [
    {
     "data": {
      "text/html": [
       "<div>\n",
       "<style scoped>\n",
       "    .dataframe tbody tr th:only-of-type {\n",
       "        vertical-align: middle;\n",
       "    }\n",
       "\n",
       "    .dataframe tbody tr th {\n",
       "        vertical-align: top;\n",
       "    }\n",
       "\n",
       "    .dataframe thead th {\n",
       "        text-align: right;\n",
       "    }\n",
       "</style>\n",
       "<table border=\"1\" class=\"dataframe\">\n",
       "  <thead>\n",
       "    <tr style=\"text-align: right;\">\n",
       "      <th></th>\n",
       "      <th>date</th>\n",
       "      <th>pce</th>\n",
       "      <th>pop</th>\n",
       "      <th>psavert</th>\n",
       "      <th>uempmed</th>\n",
       "      <th>unemploy</th>\n",
       "    </tr>\n",
       "  </thead>\n",
       "  <tbody>\n",
       "    <tr>\n",
       "      <th>1</th>\n",
       "      <td>1967-06-30</td>\n",
       "      <td>507.8</td>\n",
       "      <td>198712</td>\n",
       "      <td>9.8</td>\n",
       "      <td>4.5</td>\n",
       "      <td>2944</td>\n",
       "    </tr>\n",
       "    <tr>\n",
       "      <th>2</th>\n",
       "      <td>1967-07-31</td>\n",
       "      <td>510.9</td>\n",
       "      <td>198911</td>\n",
       "      <td>9.8</td>\n",
       "      <td>4.7</td>\n",
       "      <td>2945</td>\n",
       "    </tr>\n",
       "    <tr>\n",
       "      <th>3</th>\n",
       "      <td>1967-08-31</td>\n",
       "      <td>516.7</td>\n",
       "      <td>199113</td>\n",
       "      <td>9.0</td>\n",
       "      <td>4.6</td>\n",
       "      <td>2958</td>\n",
       "    </tr>\n",
       "    <tr>\n",
       "      <th>4</th>\n",
       "      <td>1967-09-30</td>\n",
       "      <td>513.3</td>\n",
       "      <td>199311</td>\n",
       "      <td>9.8</td>\n",
       "      <td>4.9</td>\n",
       "      <td>3143</td>\n",
       "    </tr>\n",
       "    <tr>\n",
       "      <th>5</th>\n",
       "      <td>1967-10-31</td>\n",
       "      <td>518.5</td>\n",
       "      <td>199498</td>\n",
       "      <td>9.7</td>\n",
       "      <td>4.7</td>\n",
       "      <td>3066</td>\n",
       "    </tr>\n",
       "    <tr>\n",
       "      <th>...</th>\n",
       "      <td>...</td>\n",
       "      <td>...</td>\n",
       "      <td>...</td>\n",
       "      <td>...</td>\n",
       "      <td>...</td>\n",
       "      <td>...</td>\n",
       "    </tr>\n",
       "    <tr>\n",
       "      <th>474</th>\n",
       "      <td>2006-11-30</td>\n",
       "      <td>9478.5</td>\n",
       "      <td>301070</td>\n",
       "      <td>-1.1</td>\n",
       "      <td>7.3</td>\n",
       "      <td>6849</td>\n",
       "    </tr>\n",
       "    <tr>\n",
       "      <th>475</th>\n",
       "      <td>2006-12-31</td>\n",
       "      <td>9540.3</td>\n",
       "      <td>301296</td>\n",
       "      <td>-0.9</td>\n",
       "      <td>8.1</td>\n",
       "      <td>7017</td>\n",
       "    </tr>\n",
       "    <tr>\n",
       "      <th>476</th>\n",
       "      <td>2007-01-31</td>\n",
       "      <td>9610.6</td>\n",
       "      <td>301481</td>\n",
       "      <td>-1.0</td>\n",
       "      <td>8.1</td>\n",
       "      <td>6865</td>\n",
       "    </tr>\n",
       "    <tr>\n",
       "      <th>477</th>\n",
       "      <td>2007-02-28</td>\n",
       "      <td>9653.0</td>\n",
       "      <td>301684</td>\n",
       "      <td>-0.7</td>\n",
       "      <td>8.5</td>\n",
       "      <td>6724</td>\n",
       "    </tr>\n",
       "    <tr>\n",
       "      <th>478</th>\n",
       "      <td>2007-03-31</td>\n",
       "      <td>9705.0</td>\n",
       "      <td>301913</td>\n",
       "      <td>-1.3</td>\n",
       "      <td>8.7</td>\n",
       "      <td>6801</td>\n",
       "    </tr>\n",
       "  </tbody>\n",
       "</table>\n",
       "<p>478 rows × 6 columns</p>\n",
       "</div>"
      ],
      "text/plain": [
       "           date     pce     pop  psavert  uempmed  unemploy\n",
       "1    1967-06-30   507.8  198712      9.8      4.5      2944\n",
       "2    1967-07-31   510.9  198911      9.8      4.7      2945\n",
       "3    1967-08-31   516.7  199113      9.0      4.6      2958\n",
       "4    1967-09-30   513.3  199311      9.8      4.9      3143\n",
       "5    1967-10-31   518.5  199498      9.7      4.7      3066\n",
       "..          ...     ...     ...      ...      ...       ...\n",
       "474  2006-11-30  9478.5  301070     -1.1      7.3      6849\n",
       "475  2006-12-31  9540.3  301296     -0.9      8.1      7017\n",
       "476  2007-01-31  9610.6  301481     -1.0      8.1      6865\n",
       "477  2007-02-28  9653.0  301684     -0.7      8.5      6724\n",
       "478  2007-03-31  9705.0  301913     -1.3      8.7      6801\n",
       "\n",
       "[478 rows x 6 columns]"
      ]
     },
     "execution_count": 148,
     "metadata": {},
     "output_type": "execute_result"
    }
   ],
   "source": [
    "pds.data('economics')"
   ]
  },
  {
   "cell_type": "code",
   "execution_count": 149,
   "id": "3072c376-5d2b-40c1-aee6-0b93b96566e1",
   "metadata": {},
   "outputs": [],
   "source": [
    "eco = pds.data('economics')"
   ]
  },
  {
   "cell_type": "code",
   "execution_count": 150,
   "id": "017c456c-1490-42ba-b3be-1dc076701522",
   "metadata": {},
   "outputs": [
    {
     "name": "stdout",
     "output_type": "stream",
     "text": [
      "<class 'pandas.core.frame.DataFrame'>\n",
      "Int64Index: 478 entries, 1 to 478\n",
      "Data columns (total 6 columns):\n",
      " #   Column    Non-Null Count  Dtype  \n",
      "---  ------    --------------  -----  \n",
      " 0   date      478 non-null    object \n",
      " 1   pce       478 non-null    float64\n",
      " 2   pop       478 non-null    int64  \n",
      " 3   psavert   478 non-null    float64\n",
      " 4   uempmed   478 non-null    float64\n",
      " 5   unemploy  478 non-null    int64  \n",
      "dtypes: float64(3), int64(2), object(1)\n",
      "memory usage: 26.1+ KB\n"
     ]
    }
   ],
   "source": [
    "eco.info()"
   ]
  },
  {
   "cell_type": "raw",
   "id": "691207bd-7490-4548-8bd0-17c9a1ee4272",
   "metadata": {},
   "source": [
    "#시간 함수로 바꾸기"
   ]
  },
  {
   "cell_type": "code",
   "execution_count": 151,
   "id": "f1dcd2ca-38cc-4da4-8451-a82066bf92d9",
   "metadata": {},
   "outputs": [
    {
     "data": {
      "text/plain": [
       "1     1967-06-30\n",
       "2     1967-07-31\n",
       "3     1967-08-31\n",
       "4     1967-09-30\n",
       "5     1967-10-31\n",
       "         ...    \n",
       "474   2006-11-30\n",
       "475   2006-12-31\n",
       "476   2007-01-31\n",
       "477   2007-02-28\n",
       "478   2007-03-31\n",
       "Name: date, Length: 478, dtype: datetime64[ns]"
      ]
     },
     "execution_count": 151,
     "metadata": {},
     "output_type": "execute_result"
    }
   ],
   "source": [
    "pd.to_datetime(eco['date'])"
   ]
  },
  {
   "cell_type": "code",
   "execution_count": 152,
   "id": "011e34f3-e98a-41af-99d9-7ac38b900137",
   "metadata": {},
   "outputs": [],
   "source": [
    "eco['date2'] = pd.to_datetime(eco['date'])"
   ]
  },
  {
   "cell_type": "code",
   "execution_count": 153,
   "id": "618b7861-f758-4460-a9c9-ac7293610186",
   "metadata": {},
   "outputs": [
    {
     "name": "stdout",
     "output_type": "stream",
     "text": [
      "<class 'pandas.core.frame.DataFrame'>\n",
      "Int64Index: 478 entries, 1 to 478\n",
      "Data columns (total 7 columns):\n",
      " #   Column    Non-Null Count  Dtype         \n",
      "---  ------    --------------  -----         \n",
      " 0   date      478 non-null    object        \n",
      " 1   pce       478 non-null    float64       \n",
      " 2   pop       478 non-null    int64         \n",
      " 3   psavert   478 non-null    float64       \n",
      " 4   uempmed   478 non-null    float64       \n",
      " 5   unemploy  478 non-null    int64         \n",
      " 6   date2     478 non-null    datetime64[ns]\n",
      "dtypes: datetime64[ns](1), float64(3), int64(2), object(1)\n",
      "memory usage: 29.9+ KB\n"
     ]
    }
   ],
   "source": [
    "# 6번째 줄이 새로 생김\n",
    "eco.info()"
   ]
  },
  {
   "cell_type": "code",
   "execution_count": 154,
   "id": "f48b0c79-1079-417b-b3ba-047d7f8a850c",
   "metadata": {},
   "outputs": [
    {
     "data": {
      "text/plain": [
       "1      1967\n",
       "2      1967\n",
       "3      1967\n",
       "4      1967\n",
       "5      1967\n",
       "       ... \n",
       "474    2006\n",
       "475    2006\n",
       "476    2007\n",
       "477    2007\n",
       "478    2007\n",
       "Name: date2, Length: 478, dtype: int64"
      ]
     },
     "execution_count": 154,
     "metadata": {},
     "output_type": "execute_result"
    }
   ],
   "source": [
    "eco['date2'].dt.year"
   ]
  },
  {
   "cell_type": "code",
   "execution_count": 155,
   "id": "43b60bdd-188f-4cc0-ad48-91d34bfaa0d1",
   "metadata": {},
   "outputs": [
    {
     "data": {
      "text/plain": [
       "1       6\n",
       "2       7\n",
       "3       8\n",
       "4       9\n",
       "5      10\n",
       "       ..\n",
       "474    11\n",
       "475    12\n",
       "476     1\n",
       "477     2\n",
       "478     3\n",
       "Name: date2, Length: 478, dtype: int64"
      ]
     },
     "execution_count": 155,
     "metadata": {},
     "output_type": "execute_result"
    }
   ],
   "source": [
    "eco['date2'].dt.month"
   ]
  },
  {
   "cell_type": "code",
   "execution_count": 156,
   "id": "ca25c4ed-b439-4ed1-9e89-a30135f0fd81",
   "metadata": {},
   "outputs": [
    {
     "data": {
      "text/plain": [
       "1      30\n",
       "2      31\n",
       "3      31\n",
       "4      30\n",
       "5      31\n",
       "       ..\n",
       "474    30\n",
       "475    31\n",
       "476    31\n",
       "477    28\n",
       "478    31\n",
       "Name: date2, Length: 478, dtype: int64"
      ]
     },
     "execution_count": 156,
     "metadata": {},
     "output_type": "execute_result"
    }
   ],
   "source": [
    "eco['date2'].dt.day"
   ]
  },
  {
   "cell_type": "code",
   "execution_count": 157,
   "id": "22bb65c1-576f-463e-a2a9-763dc9a69f64",
   "metadata": {},
   "outputs": [
    {
     "data": {
      "text/html": [
       "<div>\n",
       "<style scoped>\n",
       "    .dataframe tbody tr th:only-of-type {\n",
       "        vertical-align: middle;\n",
       "    }\n",
       "\n",
       "    .dataframe tbody tr th {\n",
       "        vertical-align: top;\n",
       "    }\n",
       "\n",
       "    .dataframe thead th {\n",
       "        text-align: right;\n",
       "    }\n",
       "</style>\n",
       "<table border=\"1\" class=\"dataframe\">\n",
       "  <thead>\n",
       "    <tr style=\"text-align: right;\">\n",
       "      <th></th>\n",
       "      <th>date</th>\n",
       "      <th>pce</th>\n",
       "      <th>pop</th>\n",
       "      <th>psavert</th>\n",
       "      <th>uempmed</th>\n",
       "      <th>unemploy</th>\n",
       "    </tr>\n",
       "  </thead>\n",
       "  <tbody>\n",
       "    <tr>\n",
       "      <th>1</th>\n",
       "      <td>1967-06-30</td>\n",
       "      <td>507.8</td>\n",
       "      <td>198712</td>\n",
       "      <td>9.8</td>\n",
       "      <td>4.5</td>\n",
       "      <td>2944</td>\n",
       "    </tr>\n",
       "    <tr>\n",
       "      <th>2</th>\n",
       "      <td>1967-07-31</td>\n",
       "      <td>510.9</td>\n",
       "      <td>198911</td>\n",
       "      <td>9.8</td>\n",
       "      <td>4.7</td>\n",
       "      <td>2945</td>\n",
       "    </tr>\n",
       "    <tr>\n",
       "      <th>3</th>\n",
       "      <td>1967-08-31</td>\n",
       "      <td>516.7</td>\n",
       "      <td>199113</td>\n",
       "      <td>9.0</td>\n",
       "      <td>4.6</td>\n",
       "      <td>2958</td>\n",
       "    </tr>\n",
       "    <tr>\n",
       "      <th>4</th>\n",
       "      <td>1967-09-30</td>\n",
       "      <td>513.3</td>\n",
       "      <td>199311</td>\n",
       "      <td>9.8</td>\n",
       "      <td>4.9</td>\n",
       "      <td>3143</td>\n",
       "    </tr>\n",
       "    <tr>\n",
       "      <th>5</th>\n",
       "      <td>1967-10-31</td>\n",
       "      <td>518.5</td>\n",
       "      <td>199498</td>\n",
       "      <td>9.7</td>\n",
       "      <td>4.7</td>\n",
       "      <td>3066</td>\n",
       "    </tr>\n",
       "    <tr>\n",
       "      <th>...</th>\n",
       "      <td>...</td>\n",
       "      <td>...</td>\n",
       "      <td>...</td>\n",
       "      <td>...</td>\n",
       "      <td>...</td>\n",
       "      <td>...</td>\n",
       "    </tr>\n",
       "    <tr>\n",
       "      <th>474</th>\n",
       "      <td>2006-11-30</td>\n",
       "      <td>9478.5</td>\n",
       "      <td>301070</td>\n",
       "      <td>-1.1</td>\n",
       "      <td>7.3</td>\n",
       "      <td>6849</td>\n",
       "    </tr>\n",
       "    <tr>\n",
       "      <th>475</th>\n",
       "      <td>2006-12-31</td>\n",
       "      <td>9540.3</td>\n",
       "      <td>301296</td>\n",
       "      <td>-0.9</td>\n",
       "      <td>8.1</td>\n",
       "      <td>7017</td>\n",
       "    </tr>\n",
       "    <tr>\n",
       "      <th>476</th>\n",
       "      <td>2007-01-31</td>\n",
       "      <td>9610.6</td>\n",
       "      <td>301481</td>\n",
       "      <td>-1.0</td>\n",
       "      <td>8.1</td>\n",
       "      <td>6865</td>\n",
       "    </tr>\n",
       "    <tr>\n",
       "      <th>477</th>\n",
       "      <td>2007-02-28</td>\n",
       "      <td>9653.0</td>\n",
       "      <td>301684</td>\n",
       "      <td>-0.7</td>\n",
       "      <td>8.5</td>\n",
       "      <td>6724</td>\n",
       "    </tr>\n",
       "    <tr>\n",
       "      <th>478</th>\n",
       "      <td>2007-03-31</td>\n",
       "      <td>9705.0</td>\n",
       "      <td>301913</td>\n",
       "      <td>-1.3</td>\n",
       "      <td>8.7</td>\n",
       "      <td>6801</td>\n",
       "    </tr>\n",
       "  </tbody>\n",
       "</table>\n",
       "<p>478 rows × 6 columns</p>\n",
       "</div>"
      ],
      "text/plain": [
       "           date     pce     pop  psavert  uempmed  unemploy\n",
       "1    1967-06-30   507.8  198712      9.8      4.5      2944\n",
       "2    1967-07-31   510.9  198911      9.8      4.7      2945\n",
       "3    1967-08-31   516.7  199113      9.0      4.6      2958\n",
       "4    1967-09-30   513.3  199311      9.8      4.9      3143\n",
       "5    1967-10-31   518.5  199498      9.7      4.7      3066\n",
       "..          ...     ...     ...      ...      ...       ...\n",
       "474  2006-11-30  9478.5  301070     -1.1      7.3      6849\n",
       "475  2006-12-31  9540.3  301296     -0.9      8.1      7017\n",
       "476  2007-01-31  9610.6  301481     -1.0      8.1      6865\n",
       "477  2007-02-28  9653.0  301684     -0.7      8.5      6724\n",
       "478  2007-03-31  9705.0  301913     -1.3      8.7      6801\n",
       "\n",
       "[478 rows x 6 columns]"
      ]
     },
     "execution_count": 157,
     "metadata": {},
     "output_type": "execute_result"
    }
   ],
   "source": [
    "pds.data('economics')"
   ]
  },
  {
   "cell_type": "code",
   "execution_count": 158,
   "id": "ccd679f4-7ca0-4c5f-987c-228a3e67c641",
   "metadata": {},
   "outputs": [
    {
     "data": {
      "text/html": [
       "<div>\n",
       "<style scoped>\n",
       "    .dataframe tbody tr th:only-of-type {\n",
       "        vertical-align: middle;\n",
       "    }\n",
       "\n",
       "    .dataframe tbody tr th {\n",
       "        vertical-align: top;\n",
       "    }\n",
       "\n",
       "    .dataframe thead th {\n",
       "        text-align: right;\n",
       "    }\n",
       "</style>\n",
       "<table border=\"1\" class=\"dataframe\">\n",
       "  <thead>\n",
       "    <tr style=\"text-align: right;\">\n",
       "      <th></th>\n",
       "      <th>date</th>\n",
       "      <th>pce</th>\n",
       "      <th>pop</th>\n",
       "      <th>psavert</th>\n",
       "      <th>uempmed</th>\n",
       "      <th>unemploy</th>\n",
       "      <th>date2</th>\n",
       "    </tr>\n",
       "  </thead>\n",
       "  <tbody>\n",
       "    <tr>\n",
       "      <th>1</th>\n",
       "      <td>1967-06-30</td>\n",
       "      <td>507.8</td>\n",
       "      <td>198712</td>\n",
       "      <td>9.8</td>\n",
       "      <td>4.5</td>\n",
       "      <td>2944</td>\n",
       "      <td>1967-06-30</td>\n",
       "    </tr>\n",
       "    <tr>\n",
       "      <th>2</th>\n",
       "      <td>1967-07-31</td>\n",
       "      <td>510.9</td>\n",
       "      <td>198911</td>\n",
       "      <td>9.8</td>\n",
       "      <td>4.7</td>\n",
       "      <td>2945</td>\n",
       "      <td>1967-07-31</td>\n",
       "    </tr>\n",
       "    <tr>\n",
       "      <th>3</th>\n",
       "      <td>1967-08-31</td>\n",
       "      <td>516.7</td>\n",
       "      <td>199113</td>\n",
       "      <td>9.0</td>\n",
       "      <td>4.6</td>\n",
       "      <td>2958</td>\n",
       "      <td>1967-08-31</td>\n",
       "    </tr>\n",
       "    <tr>\n",
       "      <th>4</th>\n",
       "      <td>1967-09-30</td>\n",
       "      <td>513.3</td>\n",
       "      <td>199311</td>\n",
       "      <td>9.8</td>\n",
       "      <td>4.9</td>\n",
       "      <td>3143</td>\n",
       "      <td>1967-09-30</td>\n",
       "    </tr>\n",
       "    <tr>\n",
       "      <th>5</th>\n",
       "      <td>1967-10-31</td>\n",
       "      <td>518.5</td>\n",
       "      <td>199498</td>\n",
       "      <td>9.7</td>\n",
       "      <td>4.7</td>\n",
       "      <td>3066</td>\n",
       "      <td>1967-10-31</td>\n",
       "    </tr>\n",
       "    <tr>\n",
       "      <th>...</th>\n",
       "      <td>...</td>\n",
       "      <td>...</td>\n",
       "      <td>...</td>\n",
       "      <td>...</td>\n",
       "      <td>...</td>\n",
       "      <td>...</td>\n",
       "      <td>...</td>\n",
       "    </tr>\n",
       "    <tr>\n",
       "      <th>474</th>\n",
       "      <td>2006-11-30</td>\n",
       "      <td>9478.5</td>\n",
       "      <td>301070</td>\n",
       "      <td>-1.1</td>\n",
       "      <td>7.3</td>\n",
       "      <td>6849</td>\n",
       "      <td>2006-11-30</td>\n",
       "    </tr>\n",
       "    <tr>\n",
       "      <th>475</th>\n",
       "      <td>2006-12-31</td>\n",
       "      <td>9540.3</td>\n",
       "      <td>301296</td>\n",
       "      <td>-0.9</td>\n",
       "      <td>8.1</td>\n",
       "      <td>7017</td>\n",
       "      <td>2006-12-31</td>\n",
       "    </tr>\n",
       "    <tr>\n",
       "      <th>476</th>\n",
       "      <td>2007-01-31</td>\n",
       "      <td>9610.6</td>\n",
       "      <td>301481</td>\n",
       "      <td>-1.0</td>\n",
       "      <td>8.1</td>\n",
       "      <td>6865</td>\n",
       "      <td>2007-01-31</td>\n",
       "    </tr>\n",
       "    <tr>\n",
       "      <th>477</th>\n",
       "      <td>2007-02-28</td>\n",
       "      <td>9653.0</td>\n",
       "      <td>301684</td>\n",
       "      <td>-0.7</td>\n",
       "      <td>8.5</td>\n",
       "      <td>6724</td>\n",
       "      <td>2007-02-28</td>\n",
       "    </tr>\n",
       "    <tr>\n",
       "      <th>478</th>\n",
       "      <td>2007-03-31</td>\n",
       "      <td>9705.0</td>\n",
       "      <td>301913</td>\n",
       "      <td>-1.3</td>\n",
       "      <td>8.7</td>\n",
       "      <td>6801</td>\n",
       "      <td>2007-03-31</td>\n",
       "    </tr>\n",
       "  </tbody>\n",
       "</table>\n",
       "<p>478 rows × 7 columns</p>\n",
       "</div>"
      ],
      "text/plain": [
       "           date     pce     pop  psavert  uempmed  unemploy      date2\n",
       "1    1967-06-30   507.8  198712      9.8      4.5      2944 1967-06-30\n",
       "2    1967-07-31   510.9  198911      9.8      4.7      2945 1967-07-31\n",
       "3    1967-08-31   516.7  199113      9.0      4.6      2958 1967-08-31\n",
       "4    1967-09-30   513.3  199311      9.8      4.9      3143 1967-09-30\n",
       "5    1967-10-31   518.5  199498      9.7      4.7      3066 1967-10-31\n",
       "..          ...     ...     ...      ...      ...       ...        ...\n",
       "474  2006-11-30  9478.5  301070     -1.1      7.3      6849 2006-11-30\n",
       "475  2006-12-31  9540.3  301296     -0.9      8.1      7017 2006-12-31\n",
       "476  2007-01-31  9610.6  301481     -1.0      8.1      6865 2007-01-31\n",
       "477  2007-02-28  9653.0  301684     -0.7      8.5      6724 2007-02-28\n",
       "478  2007-03-31  9705.0  301913     -1.3      8.7      6801 2007-03-31\n",
       "\n",
       "[478 rows x 7 columns]"
      ]
     },
     "execution_count": 158,
     "metadata": {},
     "output_type": "execute_result"
    }
   ],
   "source": [
    "eco.sort_values(['date2'])"
   ]
  },
  {
   "cell_type": "code",
   "execution_count": 159,
   "id": "57cef5cc-b0d1-42d4-bab5-6f83b0fe91b5",
   "metadata": {},
   "outputs": [
    {
     "data": {
      "text/plain": [
       "<AxesSubplot:xlabel='date', ylabel='unemploy'>"
      ]
     },
     "execution_count": 159,
     "metadata": {},
     "output_type": "execute_result"
    },
    {
     "data": {
      "image/png": "[encoded data removed]",
      "text/plain": [
       "<Figure size 432x288 with 1 Axes>"
      ]
     },
     "metadata": {
      "needs_background": "light"
     },
     "output_type": "display_data"
    }
   ],
   "source": [
    "sns.lineplot(data=eco, x= 'date' , y= 'unemploy') \n",
    "#그래프 하단 보면 검은색 점점점이 보여 선이 보이는데 \n",
    "#x 에 date2 로 설정해서 정확한 년도 설정했음"
   ]
  },
  {
   "cell_type": "code",
   "execution_count": 161,
   "id": "573ec551-578f-4091-b2f1-d0a61bf8d7b0",
   "metadata": {},
   "outputs": [
    {
     "data": {
      "image/png": "[encoded data removed]",
      "text/plain": [
       "<Figure size 432x288 with 1 Axes>"
      ]
     },
     "metadata": {
      "needs_background": "light"
     },
     "output_type": "display_data"
    }
   ],
   "source": [
    "sns.lineplot(data=eco, x= 'date2' , y= 'unemploy');"
   ]
  },
  {
   "cell_type": "code",
   "execution_count": 162,
   "id": "1c7ce5d7-56b0-460f-957d-5168f8737d77",
   "metadata": {},
   "outputs": [],
   "source": [
    "eco['month']  =  eco['date2'].dt.month"
   ]
  },
  {
   "cell_type": "code",
   "execution_count": 163,
   "id": "8f28355c-1044-4da1-8095-c635e06efa3a",
   "metadata": {},
   "outputs": [],
   "source": [
    "eco_df = eco.groupby('month', as_index = False)['unemploy'].mean()"
   ]
  },
  {
   "cell_type": "code",
   "execution_count": 164,
   "id": "5bfa289d-e46e-4ca0-ac84-6445a80b3905",
   "metadata": {},
   "outputs": [
    {
     "data": {
      "image/png": "[encoded data removed]",
      "text/plain": [
       "<Figure size 432x288 with 1 Axes>"
      ]
     },
     "metadata": {
      "needs_background": "light"
     },
     "output_type": "display_data"
    }
   ],
   "source": [
    "sns.lineplot(data=eco_df , x='month' ,y = 'unemploy');"
   ]
  },
  {
   "cell_type": "raw",
   "id": "b42721f6-a4f4-452d-af1a-2db55d2143e0",
   "metadata": {},
   "source": [
    "#연도별 일별 "
   ]
  },
  {
   "cell_type": "code",
   "execution_count": 165,
   "id": "80bb30bc-80c3-491a-a103-cbe97ed59712",
   "metadata": {},
   "outputs": [],
   "source": [
    "eco['day']  =  eco['date2'].dt.day"
   ]
  },
  {
   "cell_type": "code",
   "execution_count": 166,
   "id": "8e759f6f-8bb1-4b2c-ad70-c14b0cca33de",
   "metadata": {},
   "outputs": [],
   "source": [
    "eco_df = eco.groupby('day', as_index = False)['unemploy'].mean()"
   ]
  },
  {
   "cell_type": "code",
   "execution_count": 167,
   "id": "e0b1b07b-6422-4f30-9c13-118bddcf174a",
   "metadata": {},
   "outputs": [
    {
     "data": {
      "image/png": "[encoded data removed]",
      "text/plain": [
       "<Figure size 432x288 with 1 Axes>"
      ]
     },
     "metadata": {
      "needs_background": "light"
     },
     "output_type": "display_data"
    }
   ],
   "source": [
    "sns.lineplot(data=eco_df , x='day' ,y = 'unemploy');"
   ]
  },
  {
   "cell_type": "code",
   "execution_count": 168,
   "id": "d8214609-92ba-486b-9a2b-446a5ceb4021",
   "metadata": {},
   "outputs": [],
   "source": [
    "eco['year'] = eco['date2'].dt.year"
   ]
  },
  {
   "cell_type": "code",
   "execution_count": 169,
   "id": "a241dce5-59d7-4bd8-bb33-e5b1ef312f1c",
   "metadata": {},
   "outputs": [],
   "source": [
    "eco_df = eco.groupby('year', as_index = False)['unemploy'].mean()"
   ]
  },
  {
   "cell_type": "code",
   "execution_count": 170,
   "id": "3b599ca0-874b-4c2a-9e24-93262a49ec23",
   "metadata": {},
   "outputs": [
    {
     "data": {
      "image/png": "[encoded data removed]",
      "text/plain": [
       "<Figure size 432x288 with 1 Axes>"
      ]
     },
     "metadata": {
      "needs_background": "light"
     },
     "output_type": "display_data"
    }
   ],
   "source": [
    "sns.lineplot(data=eco_df , x='year' ,y = 'unemploy');"
   ]
  },
  {
   "cell_type": "code",
   "execution_count": 171,
   "id": "f9fdf194-a053-4028-91c9-bae464a91449",
   "metadata": {},
   "outputs": [
    {
     "data": {
      "text/plain": [
       "31    279\n",
       "30    159\n",
       "28     30\n",
       "29     10\n",
       "Name: day, dtype: int64"
      ]
     },
     "execution_count": 171,
     "metadata": {},
     "output_type": "execute_result"
    }
   ],
   "source": [
    "eco['day'].value_counts()"
   ]
  },
  {
   "cell_type": "code",
   "execution_count": null,
   "id": "0d38a50c-9b93-4d09-a649-96a59dccf190",
   "metadata": {},
   "outputs": [],
   "source": []
  }
 ],
 "metadata": {
  "kernelspec": {
   "display_name": "Python 3 (ipykernel)",
   "language": "python",
   "name": "python3"
  },
  "language_info": {
   "codemirror_mode": {
    "name": "ipython",
    "version": 3
   },
   "file_extension": ".py",
   "mimetype": "text/x-python",
   "name": "python",
   "nbconvert_exporter": "python",
   "pygments_lexer": "ipython3",
   "version": "3.9.12"
  }
 },
 "nbformat": 4,
 "nbformat_minor": 5
}
