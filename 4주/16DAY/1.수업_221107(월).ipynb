{
 "cells": [
  {
   "cell_type": "markdown",
   "id": "b2f9aa6a-8b6a-4668-898d-d1f30ce692f9",
   "metadata": {},
   "source": [
    "22-11-07 (월) 이론 수업(오전)"
   ]
  },
  {
   "cell_type": "markdown",
   "id": "cdf2dccf-2608-472d-90fa-8c913e46e53c",
   "metadata": {},
   "source": [
    "cookie: 로그인되어 있는 홈페이지에서 가져오는 것 실습함, 22-11-08(화)부터 머신러닝 이론 + 실습할 예정"
   ]
  },
  {
   "cell_type": "markdown",
   "id": "cd19cae3-a056-4e12-9328-cb8eb88ca0ba",
   "metadata": {},
   "source": [
    "22-11-07 (월) 이론 수업 + 세션, 쿠키 설명 및 관련 내용으로 실습 (오후)"
   ]
  },
  {
   "cell_type": "markdown",
   "id": "36e09f90-9d26-4043-bfaf-b3704bcd3562",
   "metadata": {},
   "source": [
    "세션, cookie(쿠키)에 대한 설명 -> 안드로이드"
   ]
  },
  {
   "cell_type": "code",
   "execution_count": null,
   "id": "b2ef45ab-fdea-4f0d-b9cf-aad5a1856a31",
   "metadata": {},
   "outputs": [],
   "source": []
  },
  {
   "cell_type": "markdown",
   "id": "4dbdd679-3d2e-4905-afeb-e9807bb21832",
   "metadata": {
    "jp-MarkdownHeadingCollapsed": true,
    "tags": []
   },
   "source": [
    "HTTP -> Request, Response (비연결성)"
   ]
  },
  {
   "cell_type": "markdown",
   "id": "4b06572e-3f7b-4dfd-9034-8f2d94675d7f",
   "metadata": {
    "tags": []
   },
   "source": [
    "# 쿠키(Cookie): Request할때 필요함\n",
    "\n",
    "Client (login->)   Server\n",
    "       (<-cookie)\n"
   ]
  },
  {
   "cell_type": "markdown",
   "id": "89eefc35-6ef3-4333-939e-c935c9e8af67",
   "metadata": {
    "tags": []
   },
   "source": [
    "# 세션(Session): 로그아웃을 해주는 것이 서버로부터 세션을 시켜주는 것이다.(?)\n",
    "Client -> Server\n"
   ]
  },
  {
   "cell_type": "code",
   "execution_count": 7,
   "id": "388b1823-02d6-4483-b88e-7a1afb381d01",
   "metadata": {},
   "outputs": [],
   "source": [
    "import requests\n",
    "from bs4 import BeautifulSoup"
   ]
  },
  {
   "cell_type": "code",
   "execution_count": 8,
   "id": "3dc06363-6171-46d9-a947-e7bbce07736c",
   "metadata": {},
   "outputs": [],
   "source": [
    "url = 'https://sesac.seoul.kr/usr/member/dash/detail.do'\n",
    "headers = {'Cookie': 'lang=ko; page_logintype=1; JSESSIONID=3C2E09E685EC21E8B412D4C7ACF2A1B8; InitechEamUID_V42=f7fJtGNJN0kOFDQI%2B8QL3A%3D%3D; InitechEamUIP_V42=ObI%2BsLG6D4mrVazs8DBKHA%3D%3D; InitechEamULAT_V42=1667803029; InitechEamUTOA_V42=1; InitechEamUPID_V42=j3mVpo3U0M3pvdUTRFS4uw%3D%3D; InitechEamUHMAC_V42=JQ4ciFXrLvpCusJ1LgFoOgQiX40il7Vh1agCqZjVRtk%3D'}"
   ]
  },
  {
   "cell_type": "code",
   "execution_count": 10,
   "id": "0ac4e147-6a6b-4485-9706-1ca46b9d4171",
   "metadata": {},
   "outputs": [],
   "source": [
    "soup = BeautifulSoup(req.text, 'html.parser')"
   ]
  },
  {
   "cell_type": "code",
   "execution_count": 11,
   "id": "8c4cff82-6db2-4040-a666-90d386d78d7c",
   "metadata": {},
   "outputs": [
    {
     "data": {
      "text/plain": [
       "'(금천2기)기업데이터를 활용한 AI 취업 부트캠프'"
      ]
     },
     "execution_count": 11,
     "metadata": {},
     "output_type": "execute_result"
    }
   ],
   "source": [
    "soup.select('#s2_02 > div > table > tbody > tr > td.al > a')[0].text"
   ]
  },
  {
   "cell_type": "code",
   "execution_count": null,
   "id": "98051c3c-ccc5-495c-8932-01b69e8088a0",
   "metadata": {},
   "outputs": [],
   "source": []
  },
  {
   "cell_type": "code",
   "execution_count": null,
   "id": "a9c4c987-11aa-4059-b4e6-2e86695ba84b",
   "metadata": {},
   "outputs": [],
   "source": []
  }
 ],
 "metadata": {
  "kernelspec": {
   "display_name": "Python 3 (ipykernel)",
   "language": "python",
   "name": "python3"
  },
  "language_info": {
   "codemirror_mode": {
    "name": "ipython",
    "version": 3
   },
   "file_extension": ".py",
   "mimetype": "text/x-python",
   "name": "python",
   "nbconvert_exporter": "python",
   "pygments_lexer": "ipython3",
   "version": "3.9.12"
  }
 },
 "nbformat": 4,
 "nbformat_minor": 5
}
