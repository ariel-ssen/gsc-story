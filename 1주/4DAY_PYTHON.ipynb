{
 "cells": [
  {
   "cell_type": "code",
   "execution_count": null,
   "id": "aa703530-27aa-4121-b65d-811ecc94523a",
   "metadata": {},
   "outputs": [],
   "source": [
    "def calc(oper, *args) :\n",
    "    ret + 0\n",
    "    \n",
    "    if opper == '+' :\n",
    "        for i in args :\n",
    "            ret += i\n",
    "    elif oper == '*' :\n",
    "        ret = 1\n",
    "        for i in args :\n",
    "            ret *= i \n",
    "    return ret\n",
    "#?????"
   ]
  },
  {
   "cell_type": "code",
   "execution_count": null,
   "id": "c1a0fe1e-2081-4881-9de7-9fcb7a17d519",
   "metadata": {},
   "outputs": [],
   "source": [
    "a = 1\n",
    "def test(a) :\n",
    "    scope_var = a+1\n",
    "    print(scope_var)"
   ]
  },
  {
   "cell_type": "code",
   "execution_count": null,
   "id": "b54dc5af-7c15-44e2-a244-da8a541fc374",
   "metadata": {},
   "outputs": [],
   "source": [
    "a = 1\n",
    "test(a)"
   ]
  },
  {
   "cell_type": "code",
   "execution_count": null,
   "id": "daad8a8d-fcea-4d7c-92da-9639a3fab6a1",
   "metadata": {},
   "outputs": [],
   "source": [
    "def test2(a) :\n",
    "    a += 1\n",
    "    print(a)"
   ]
  },
  {
   "cell_type": "code",
   "execution_count": null,
   "id": "8b0f8ee8-8b10-4153-a3a0-c88c7112e959",
   "metadata": {},
   "outputs": [],
   "source": [
    "a = 1\n",
    "test2(1)"
   ]
  },
  {
   "cell_type": "code",
   "execution_count": null,
   "id": "41bffb57-d33b-429a-a068-3efcaf1935b0",
   "metadata": {},
   "outputs": [],
   "source": [
    "def test3() :\n",
    "    #global은 왼만하면 쓰지마십시오\n",
    "    global a\n",
    "    a += 1\n",
    "    print(a)"
   ]
  },
  {
   "cell_type": "code",
   "execution_count": null,
   "id": "e175f98a-ada8-4c60-b967-5d8e280cedfe",
   "metadata": {},
   "outputs": [],
   "source": [
    "a = 3\n",
    "test3()"
   ]
  },
  {
   "cell_type": "code",
   "execution_count": null,
   "id": "0f80b5a5-7a88-443f-949c-6d2d547ae915",
   "metadata": {},
   "outputs": [],
   "source": [
    "def print_kwargs(**kwargs) :\n",
    "    # **를 넣으면 인자를 마음대로 조종할수 있다\n",
    "    print(kwargs)"
   ]
  },
  {
   "cell_type": "code",
   "execution_count": null,
   "id": "9f5b9e46-e617-4e8c-bb2d-04f4b1304c52",
   "metadata": {},
   "outputs": [],
   "source": [
    "print_kwargs(a = 1, b = 2)"
   ]
  },
  {
   "cell_type": "code",
   "execution_count": null,
   "id": "50ee70c8-0f8f-40a2-913e-1f376da9faad",
   "metadata": {},
   "outputs": [],
   "source": [
    "print_kwargs(foo = 'a', bar = 'b' , c = 'c')"
   ]
  },
  {
   "cell_type": "code",
   "execution_count": null,
   "id": "29695e45-4dbf-4a76-aeed-7599473503fc",
   "metadata": {},
   "outputs": [],
   "source": [
    "def test(a,b,c) :\n",
    "    return a+b, a+c"
   ]
  },
  {
   "cell_type": "code",
   "execution_count": null,
   "id": "49afa682-79dd-40be-847c-eb2beb7004ac",
   "metadata": {},
   "outputs": [],
   "source": [
    "test(1,2,3)"
   ]
  },
  {
   "cell_type": "code",
   "execution_count": null,
   "id": "17b4bdc7-50aa-49f0-8e45-f6deb62deb2e",
   "metadata": {},
   "outputs": [],
   "source": [
    "ret1, ret2 = test(1,2,3)"
   ]
  },
  {
   "cell_type": "code",
   "execution_count": null,
   "id": "f990d359-fb9c-4779-86db-a58af4c12bc7",
   "metadata": {},
   "outputs": [],
   "source": [
    "ret1"
   ]
  },
  {
   "cell_type": "code",
   "execution_count": null,
   "id": "36c7eb71-447c-43db-896e-e87e46581baf",
   "metadata": {},
   "outputs": [],
   "source": [
    "ret2"
   ]
  },
  {
   "cell_type": "markdown",
   "id": "e6894681-d75c-4cd9-b38c-b0ee0cebdb80",
   "metadata": {},
   "source": [
    "-------------"
   ]
  },
  {
   "cell_type": "markdown",
   "id": "aa642c8a-c2f2-49d7-a9bd-fc0e4b2940c0",
   "metadata": {},
   "source": [
    "## 파일 입출력 "
   ]
  },
  {
   "cell_type": "markdown",
   "id": "1e6cb293-af8c-4ea2-92e7-ddabfaf0f463",
   "metadata": {},
   "source": [
    "open (file name , mode)\n",
    "\n",
    "r (read) : 읽음   \n",
    "a (append) : 기존 내용에다가 추가  \n",
    "w (write) : 새로운 파일   "
   ]
  },
  {
   "cell_type": "code",
   "execution_count": 4,
   "id": "7b7ea4fa-3e7b-437c-8278-0977b8b77476",
   "metadata": {},
   "outputs": [],
   "source": [
    "f = open ('sample.txt' ,'r', encoding = 'utf-8')"
   ]
  },
  {
   "cell_type": "code",
   "execution_count": 5,
   "id": "8e4eee19-a77f-4c9b-89bd-20ee5a9565b9",
   "metadata": {},
   "outputs": [],
   "source": [
    "line = f.readline()"
   ]
  },
  {
   "cell_type": "code",
   "execution_count": 6,
   "id": "7a980762-96f1-453d-8f0f-fdc619ec2721",
   "metadata": {},
   "outputs": [
    {
     "name": "stdout",
     "output_type": "stream",
     "text": [
      "2번째 줄입니다.\n",
      "3번째 줄입니다.\n",
      "4번째 줄입니다.\n",
      "5번째 줄입니다.\n"
     ]
    }
   ],
   "source": [
    "#while 문을 사용할 때 break 와 close 넣어야 함??\n",
    "while True :\n",
    "    line = f.readline()\n",
    "    if line :\n",
    "        print(line, end = \"\")\n",
    "    else :\n",
    "        break\n",
    "f.close()"
   ]
  },
  {
   "cell_type": "code",
   "execution_count": 7,
   "id": "e77f9580-b477-463f-8564-a30e7ce9b9c2",
   "metadata": {},
   "outputs": [],
   "source": [
    "f2 = open('sample2.txt' , 'r')"
   ]
  },
  {
   "cell_type": "code",
   "execution_count": 8,
   "id": "71da958c-f36a-4ca9-8ff4-43d0cfa148eb",
   "metadata": {},
   "outputs": [],
   "source": [
    "data = f2.read()"
   ]
  },
  {
   "cell_type": "code",
   "execution_count": 9,
   "id": "7f3df2b8-cab1-43a5-8d28-91ccb1341f49",
   "metadata": {},
   "outputs": [
    {
     "name": "stdout",
     "output_type": "stream",
     "text": [
      "this is first sample text\n",
      "this is first sample text\n",
      "this is first sample text\n",
      "this is first sample text\n",
      "this is first sample text\n",
      "\n"
     ]
    }
   ],
   "source": [
    "print(data)"
   ]
  },
  {
   "cell_type": "code",
   "execution_count": 10,
   "id": "c83384d4-f008-4d7f-8fa9-471eaaa54f34",
   "metadata": {},
   "outputs": [
    {
     "data": {
      "text/plain": [
       "'this is first sample text\\nthis is first sample text\\nthis is first sample text\\nthis is first sample text\\nthis is first sample text\\n'"
      ]
     },
     "execution_count": 10,
     "metadata": {},
     "output_type": "execute_result"
    }
   ],
   "source": [
    "data"
   ]
  },
  {
   "cell_type": "code",
   "execution_count": 11,
   "id": "37a5eccc-c3ac-4932-8b32-bff10bd78083",
   "metadata": {},
   "outputs": [
    {
     "data": {
      "text/plain": [
       "['this is first sample text',\n",
       " 'this is first sample text',\n",
       " 'this is first sample text',\n",
       " 'this is first sample text',\n",
       " 'this is first sample text',\n",
       " '']"
      ]
     },
     "execution_count": 11,
     "metadata": {},
     "output_type": "execute_result"
    }
   ],
   "source": [
    "data.split('\\n') #\\n = enter 와 같은 의미"
   ]
  },
  {
   "cell_type": "code",
   "execution_count": 12,
   "id": "0f41964f-6c5d-4082-9b85-983d720f3a6b",
   "metadata": {},
   "outputs": [],
   "source": [
    "f2.close()"
   ]
  },
  {
   "cell_type": "code",
   "execution_count": 14,
   "id": "f7524a5d-1c18-4eae-9402-1d34c986c31c",
   "metadata": {},
   "outputs": [
    {
     "name": "stdout",
     "output_type": "stream",
     "text": [
      "1번째 줄입니다.\n",
      "\n",
      "2번째 줄입니다.\n",
      "\n",
      "3번째 줄입니다.\n",
      "\n",
      "4번째 줄입니다.\n",
      "\n",
      "5번째 줄입니다.\n",
      "\n"
     ]
    }
   ],
   "source": [
    "f3 = open('sample3.txt' , 'w' ,encoding = 'utf-8')\n",
    "\n",
    "for i in range(1,6) :\n",
    "    data = str(i) + '번째 줄입니다.\\n'\n",
    "    print(data)\n",
    "    f3.write(data)\n",
    "    \n",
    "f3.close()"
   ]
  },
  {
   "cell_type": "code",
   "execution_count": 15,
   "id": "9d1bc58f-13c4-41f8-af10-c61a6f8331de",
   "metadata": {},
   "outputs": [],
   "source": [
    "f4 = open('sample3.txt','r',encoding = 'utf-8')"
   ]
  },
  {
   "cell_type": "code",
   "execution_count": 16,
   "id": "8ae492db-e877-47f0-af02-6f9a343f143d",
   "metadata": {},
   "outputs": [
    {
     "data": {
      "text/plain": [
       "'1번째 줄입니다.\\n2번째 줄입니다.\\n3번째 줄입니다.\\n4번째 줄입니다.\\n5번째 줄입니다.\\n'"
      ]
     },
     "execution_count": 16,
     "metadata": {},
     "output_type": "execute_result"
    }
   ],
   "source": [
    "f4.read()"
   ]
  },
  {
   "cell_type": "code",
   "execution_count": 17,
   "id": "54611817-6ded-4424-8882-3b64c394184d",
   "metadata": {},
   "outputs": [],
   "source": [
    "f5 = open('sample3.txt','a',encoding= 'utf-8')\n"
   ]
  },
  {
   "cell_type": "code",
   "execution_count": 19,
   "id": "5d2f649b-173c-430b-a6c0-466c39d56a04",
   "metadata": {},
   "outputs": [
    {
     "name": "stdout",
     "output_type": "stream",
     "text": [
      "6번째 줄입니다.\n",
      "\n",
      "7번째 줄입니다.\n",
      "\n",
      "8번째 줄입니다.\n",
      "\n",
      "9번째 줄입니다.\n",
      "\n",
      "10번째 줄입니다.\n",
      "\n"
     ]
    }
   ],
   "source": [
    "for i in range(6,11) :\n",
    "    data = str(i) + '번째 줄입니다.\\n'\n",
    "    print(data)\n",
    "    f5.write(data)\n",
    "f5.close()"
   ]
  },
  {
   "cell_type": "markdown",
   "id": "8708165d-d451-40b1-b367-d9cd10f04642",
   "metadata": {},
   "source": [
    "-------------"
   ]
  },
  {
   "cell_type": "markdown",
   "id": "6e791349-4ecc-44cd-83e7-b3d63f52b944",
   "metadata": {},
   "source": [
    "## 모듈 "
   ]
  },
  {
   "cell_type": "code",
   "execution_count": 20,
   "id": "d45454bf-8a98-4702-8365-81051cfff447",
   "metadata": {},
   "outputs": [],
   "source": [
    "import mod1"
   ]
  },
  {
   "cell_type": "code",
   "execution_count": 21,
   "id": "02edaa9e-1543-48f8-9a90-33c11b4e2b68",
   "metadata": {},
   "outputs": [
    {
     "data": {
      "text/plain": [
       "3"
      ]
     },
     "execution_count": 21,
     "metadata": {},
     "output_type": "execute_result"
    }
   ],
   "source": [
    "mod1.add(1,2)"
   ]
  },
  {
   "cell_type": "code",
   "execution_count": 22,
   "id": "375a4b03-9ef0-49cf-abed-512fae10cf4c",
   "metadata": {},
   "outputs": [
    {
     "data": {
      "text/plain": [
       "(2, 1)"
      ]
     },
     "execution_count": 22,
     "metadata": {},
     "output_type": "execute_result"
    }
   ],
   "source": [
    "mod1.sub(2,1)"
   ]
  },
  {
   "cell_type": "code",
   "execution_count": 23,
   "id": "92a2baf2-580f-4d97-9752-2ac137564b79",
   "metadata": {},
   "outputs": [],
   "source": [
    "import mod1 as m"
   ]
  },
  {
   "cell_type": "code",
   "execution_count": 24,
   "id": "b9ea6def-ecbc-42e7-8448-963012e6fb27",
   "metadata": {},
   "outputs": [
    {
     "data": {
      "text/plain": [
       "3"
      ]
     },
     "execution_count": 24,
     "metadata": {},
     "output_type": "execute_result"
    }
   ],
   "source": [
    "m.add(1,2)"
   ]
  },
  {
   "cell_type": "code",
   "execution_count": 25,
   "id": "66585740-65cd-474a-9299-8ffa9c38102a",
   "metadata": {},
   "outputs": [],
   "source": [
    "from mod1 import add,sub"
   ]
  },
  {
   "cell_type": "code",
   "execution_count": 26,
   "id": "c8dacb61-da9d-4530-8c13-3b676e0db6ca",
   "metadata": {},
   "outputs": [
    {
     "data": {
      "text/plain": [
       "3"
      ]
     },
     "execution_count": 26,
     "metadata": {},
     "output_type": "execute_result"
    }
   ],
   "source": [
    "add(1,2)"
   ]
  },
  {
   "cell_type": "code",
   "execution_count": 27,
   "id": "77de7f8d-834d-4902-8f96-2841e7c8cf54",
   "metadata": {},
   "outputs": [
    {
     "data": {
      "text/plain": [
       "(1, 2)"
      ]
     },
     "execution_count": 27,
     "metadata": {},
     "output_type": "execute_result"
    }
   ],
   "source": [
    "sub(1,2)"
   ]
  },
  {
   "cell_type": "code",
   "execution_count": 28,
   "id": "e81bde95-d683-4111-a040-630415faa87c",
   "metadata": {},
   "outputs": [],
   "source": [
    "from mod1 import *"
   ]
  },
  {
   "cell_type": "code",
   "execution_count": 29,
   "id": "09517fab-41da-43b5-b21b-a8f283499d41",
   "metadata": {},
   "outputs": [],
   "source": [
    "import sesac.ai.func as s"
   ]
  },
  {
   "cell_type": "code",
   "execution_count": 30,
   "id": "e3375090-3f22-483c-9dfb-a65b1a9ce2a9",
   "metadata": {},
   "outputs": [
    {
     "name": "stdout",
     "output_type": "stream",
     "text": [
      "test 입니다.\n"
     ]
    }
   ],
   "source": [
    "s.test()"
   ]
  },
  {
   "cell_type": "code",
   "execution_count": 31,
   "id": "e796f0b6-9ed8-487f-98cd-2888858945f3",
   "metadata": {},
   "outputs": [],
   "source": [
    "from sesac.ai.func import test"
   ]
  },
  {
   "cell_type": "code",
   "execution_count": 32,
   "id": "b46b81eb-b010-445e-9bec-a7add54cadb1",
   "metadata": {},
   "outputs": [
    {
     "name": "stdout",
     "output_type": "stream",
     "text": [
      "test 입니다.\n"
     ]
    }
   ],
   "source": [
    "test()"
   ]
  },
  {
   "cell_type": "markdown",
   "id": "7d049221-b538-4af0-97ce-03fa9e486a38",
   "metadata": {},
   "source": [
    "======================"
   ]
  },
  {
   "cell_type": "markdown",
   "id": "691da2b8-d40c-4338-bb51-2ce92a54ce74",
   "metadata": {},
   "source": [
    "## 베스킨라빈스 게임\n",
    "\n",
    "print('베스킨라빈스 31 게임')  \n",
    "print('1부터 1~3개까지 숫자를 연속적으로 얘기함')  \n",
    "print('31을 말하는 사람이 지는 거임')  \n",
    "print('random으로 선,후공을 정함')  "
   ]
  },
  {
   "cell_type": "code",
   "execution_count": null,
   "id": "63e81417-dbc8-4ba9-b1b0-0db1143d5e1d",
   "metadata": {},
   "outputs": [],
   "source": []
  },
  {
   "cell_type": "code",
   "execution_count": null,
   "id": "ef37cf1d-233b-499c-8751-6896e3e3b9ef",
   "metadata": {},
   "outputs": [],
   "source": []
  },
  {
   "cell_type": "code",
   "execution_count": null,
   "id": "471d5dc7-2b11-4d3b-8016-391006bbd958",
   "metadata": {},
   "outputs": [],
   "source": []
  },
  {
   "cell_type": "code",
   "execution_count": null,
   "id": "52f352aa-a45f-436d-a358-32064fe350c5",
   "metadata": {},
   "outputs": [],
   "source": []
  },
  {
   "cell_type": "markdown",
   "id": "79bf0f29-3fa0-4dcc-aab2-e0932dac2162",
   "metadata": {},
   "source": [
    "-------------------"
   ]
  },
  {
   "cell_type": "markdown",
   "id": "420cf7e6-e812-4864-864e-52fccedbc83e",
   "metadata": {
    "tags": []
   },
   "source": [
    "## Quiz\n",
    "\n",
    "quiz.txt\n",
    "\n",
    "1. 1~100파일에 작성하세요 \n",
    "2. 100~1 파일 뒤에 추가하세요 \n",
    "3. 파일의 전체 내용을 출력하세요"
   ]
  },
  {
   "cell_type": "code",
   "execution_count": 33,
   "id": "23087d81-c2f6-4189-ad10-c940b2785d90",
   "metadata": {},
   "outputs": [],
   "source": [
    "f = open('quiz.txt','w',encoding='utf-8')"
   ]
  },
  {
   "cell_type": "code",
   "execution_count": 44,
   "id": "e5df27b7-9d83-491e-9de4-a3103a90df95",
   "metadata": {},
   "outputs": [
    {
     "ename": "SyntaxError",
     "evalue": "invalid syntax (3841166189.py, line 2)",
     "output_type": "error",
     "traceback": [
      "\u001b[1;36m  Input \u001b[1;32mIn [44]\u001b[1;36m\u001b[0m\n\u001b[1;33m    f.write(str(i)+'\\n')  1\\n\u001b[0m\n\u001b[1;37m                          ^\u001b[0m\n\u001b[1;31mSyntaxError\u001b[0m\u001b[1;31m:\u001b[0m invalid syntax\n"
     ]
    }
   ],
   "source": [
    "for i in range(1,101) :\n",
    "    f.write(str(i)+'\\n')  1\\n"
   ]
  },
  {
   "cell_type": "code",
   "execution_count": 35,
   "id": "898fd82a-1fc7-4229-bfda-06b053dc828e",
   "metadata": {},
   "outputs": [],
   "source": [
    "f.close()"
   ]
  },
  {
   "cell_type": "code",
   "execution_count": 36,
   "id": "84eb4dca-e080-40cc-96c8-9e1be978a91c",
   "metadata": {},
   "outputs": [],
   "source": [
    "f1 = open('quiz.txt','a', encoding='utf-8')"
   ]
  },
  {
   "cell_type": "code",
   "execution_count": 37,
   "id": "0f9b813b-7837-4e54-8389-354d199f1788",
   "metadata": {},
   "outputs": [],
   "source": [
    "for i in range(100,0,-1):\n",
    "    f1.write(str(i)+'\\n')"
   ]
  },
  {
   "cell_type": "code",
   "execution_count": 38,
   "id": "1b2b1177-976c-4959-950d-e27052eb4df9",
   "metadata": {},
   "outputs": [],
   "source": [
    "f1.close()"
   ]
  },
  {
   "cell_type": "code",
   "execution_count": 39,
   "id": "4e5b1db7-cea3-4321-8988-3bd8a6b1bca9",
   "metadata": {},
   "outputs": [],
   "source": [
    "f2= open('quiz.txt','r',encoding='utf-8')"
   ]
  },
  {
   "cell_type": "code",
   "execution_count": null,
   "id": "21779967-713b-43b1-93cc-cefec1522673",
   "metadata": {},
   "outputs": [],
   "source": []
  },
  {
   "cell_type": "code",
   "execution_count": null,
   "id": "a4d137d8-ebb6-424f-bacd-dd3e2e207662",
   "metadata": {},
   "outputs": [],
   "source": []
  },
  {
   "cell_type": "code",
   "execution_count": null,
   "id": "af57ee9f-9839-4530-b926-7133bc6f15fc",
   "metadata": {},
   "outputs": [],
   "source": []
  },
  {
   "cell_type": "code",
   "execution_count": null,
   "id": "2f92bd09-fe0e-411a-9319-1284c626b7ab",
   "metadata": {},
   "outputs": [],
   "source": []
  }
 ],
 "metadata": {
  "kernelspec": {
   "display_name": "Python 3 (ipykernel)",
   "language": "python",
   "name": "python3"
  },
  "language_info": {
   "codemirror_mode": {
    "name": "ipython",
    "version": 3
   },
   "file_extension": ".py",
   "mimetype": "text/x-python",
   "name": "python",
   "nbconvert_exporter": "python",
   "pygments_lexer": "ipython3",
   "version": "3.9.12"
  }
 },
 "nbformat": 4,
 "nbformat_minor": 5
}
